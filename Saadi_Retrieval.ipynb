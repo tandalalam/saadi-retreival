{
  "nbformat": 4,
  "nbformat_minor": 0,
  "metadata": {
    "colab": {
      "name": "Saadi-Retrieval.ipynb",
      "provenance": [],
      "collapsed_sections": []
    },
    "kernelspec": {
      "name": "python3",
      "display_name": "Python 3"
    },
    "language_info": {
      "name": "python"
    },
    "gpuClass": "standard",
    "accelerator": "GPU"
  },
  "cells": [
    {
      "cell_type": "markdown",
      "source": [
        "You can access our notebook on colab using this link:  \n",
        " [https://colab.research.google.com/drive/1_wO4QH3v81PsLBV6oNBqK9CwxGQ3WOx3?usp=sharing](https://colab.research.google.com/drive/1_wO4QH3v81PsLBV6oNBqK9CwxGQ3WOx3?usp=sharing)"
      ],
      "metadata": {
        "id": "vius4m1TnJqs"
      }
    },
    {
      "cell_type": "markdown",
      "source": [
        "# Importing Libraries"
      ],
      "metadata": {
        "id": "2qA2yh05Uhjp"
      }
    },
    {
      "cell_type": "code",
      "execution_count": 1,
      "metadata": {
        "id": "Qb2Oo-Q1az2B"
      },
      "outputs": [],
      "source": [
        "import sklearn\n",
        "import os\n",
        "import pandas as pd\n",
        "import numpy as np"
      ]
    },
    {
      "cell_type": "markdown",
      "source": [
        "Cloning git repository related to this project. Crawled data and Crawler code are available in git repository."
      ],
      "metadata": {
        "id": "1KksqF1OVJnF"
      }
    },
    {
      "cell_type": "code",
      "source": [
        "!git clone https://github.com/tandalalam/saadi-retreival.git"
      ],
      "metadata": {
        "id": "46ot2WhlKAmR",
        "colab": {
          "base_uri": "https://localhost:8080/"
        },
        "outputId": "11c399cb-8598-4e48-a6e3-c613b605f3ef"
      },
      "execution_count": 2,
      "outputs": [
        {
          "output_type": "stream",
          "name": "stdout",
          "text": [
            "Cloning into 'saadi-retreival'...\n",
            "remote: Enumerating objects: 602, done.\u001b[K\n",
            "remote: Counting objects: 100% (602/602), done.\u001b[K\n",
            "remote: Compressing objects: 100% (594/594), done.\u001b[K\n",
            "remote: Total 602 (delta 27), reused 563 (delta 5), pack-reused 0\u001b[K\n",
            "Receiving objects: 100% (602/602), 595.11 KiB | 5.51 MiB/s, done.\n",
            "Resolving deltas: 100% (27/27), done.\n"
          ]
        }
      ]
    },
    {
      "cell_type": "code",
      "source": [
        "os.chdir('saadi-retreival')"
      ],
      "metadata": {
        "id": "DbR4Dz8xNNCR"
      },
      "execution_count": 3,
      "outputs": []
    },
    {
      "cell_type": "markdown",
      "source": [
        "Reading Boostan from file:"
      ],
      "metadata": {
        "id": "iSEy0gFbXFYj"
      }
    },
    {
      "cell_type": "code",
      "source": [
        "boostan_data = list()\n",
        "for chapter_name in os.listdir('boostan'):\n",
        "    for file_name in os.listdir(f'boostan/{chapter_name}'):\n",
        "        file = open(f'boostan/{chapter_name}/{file_name}')\n",
        "        poem = file.read()\n",
        "        for hem in [x.strip() for x in poem.split('\\n\\n')]:\n",
        "            if hem:\n",
        "                boostan_data.append([hem, int(chapter_name.split('bab')[1]), int(file_name.split('sh')[1].split('.')[0])])"
      ],
      "metadata": {
        "id": "YfcVz8kccBwO"
      },
      "execution_count": 4,
      "outputs": []
    },
    {
      "cell_type": "code",
      "source": [
        "boostan_data = pd.DataFrame(boostan_data)"
      ],
      "metadata": {
        "id": "hF8rJ9KbbVOw"
      },
      "execution_count": 5,
      "outputs": []
    },
    {
      "cell_type": "code",
      "source": [
        "boostan_data.columns = ['poem', 'chapter', 'section']"
      ],
      "metadata": {
        "id": "5jJKMjQidtwP"
      },
      "execution_count": 6,
      "outputs": []
    },
    {
      "cell_type": "code",
      "source": [
        "boostan_data.sort_values(by=['chapter', 'section'], ignore_index=True, inplace=True)"
      ],
      "metadata": {
        "id": "t1zqWZIkPRiE"
      },
      "execution_count": 7,
      "outputs": []
    },
    {
      "cell_type": "code",
      "source": [
        "boostan_data"
      ],
      "metadata": {
        "colab": {
          "base_uri": "https://localhost:8080/",
          "height": 424
        },
        "id": "zx4Hr7vgPlWl",
        "outputId": "fd9bf036-2e03-436b-ab32-bf5e5d778899"
      },
      "execution_count": 8,
      "outputs": [
        {
          "output_type": "execute_result",
          "data": {
            "text/plain": [
              "                                                   poem  chapter  section\n",
              "0      به نام خداوندِ جان‌آفرین\\nحکیمِ سخن‌درزبان‌آفرین        0        1\n",
              "1          خداوند بخشندهٔ دستگیر\\nکریم خطابخش پوزش‌پذیر        0        1\n",
              "2     عزیزی که هر کز درش سر بتافت\\nبه هر در که شد هی...        0        1\n",
              "3       سر پادشاهان گردن‌فراز\\nبه درگاه او بر زمین نیاز        0        1\n",
              "4     نه گردن‌کشان را بگیرد به فور\\nنه عذرآوران را ب...        0        1\n",
              "...                                                 ...      ...      ...\n",
              "4059  به کردار بدشان مقید نکرد\\nبضاعات مزجاتشان رد نکرد       10        4\n",
              "4060  ز لطفت همین چشم داریم نیز\\nبر این بی‌بضاعت ببخ...       10        4\n",
              "4061  کس از من سیه نامه تر دیده نیست\\nکه هیچم فعال پ...       10        4\n",
              "4062  جز این کاعتمادم به یاری تست\\nامیدم به آمرزگاری...       10        4\n",
              "4063    بضاعت نیاوردم الا امید\\nخدایا ز عفوم مکن ناامید       10        4\n",
              "\n",
              "[4064 rows x 3 columns]"
            ],
            "text/html": [
              "\n",
              "  <div id=\"df-e4ddbc5b-d769-45bd-a2f8-994ab9987238\">\n",
              "    <div class=\"colab-df-container\">\n",
              "      <div>\n",
              "<style scoped>\n",
              "    .dataframe tbody tr th:only-of-type {\n",
              "        vertical-align: middle;\n",
              "    }\n",
              "\n",
              "    .dataframe tbody tr th {\n",
              "        vertical-align: top;\n",
              "    }\n",
              "\n",
              "    .dataframe thead th {\n",
              "        text-align: right;\n",
              "    }\n",
              "</style>\n",
              "<table border=\"1\" class=\"dataframe\">\n",
              "  <thead>\n",
              "    <tr style=\"text-align: right;\">\n",
              "      <th></th>\n",
              "      <th>poem</th>\n",
              "      <th>chapter</th>\n",
              "      <th>section</th>\n",
              "    </tr>\n",
              "  </thead>\n",
              "  <tbody>\n",
              "    <tr>\n",
              "      <th>0</th>\n",
              "      <td>به نام خداوندِ جان‌آفرین\\nحکیمِ سخن‌درزبان‌آفرین</td>\n",
              "      <td>0</td>\n",
              "      <td>1</td>\n",
              "    </tr>\n",
              "    <tr>\n",
              "      <th>1</th>\n",
              "      <td>خداوند بخشندهٔ دستگیر\\nکریم خطابخش پوزش‌پذیر</td>\n",
              "      <td>0</td>\n",
              "      <td>1</td>\n",
              "    </tr>\n",
              "    <tr>\n",
              "      <th>2</th>\n",
              "      <td>عزیزی که هر کز درش سر بتافت\\nبه هر در که شد هی...</td>\n",
              "      <td>0</td>\n",
              "      <td>1</td>\n",
              "    </tr>\n",
              "    <tr>\n",
              "      <th>3</th>\n",
              "      <td>سر پادشاهان گردن‌فراز\\nبه درگاه او بر زمین نیاز</td>\n",
              "      <td>0</td>\n",
              "      <td>1</td>\n",
              "    </tr>\n",
              "    <tr>\n",
              "      <th>4</th>\n",
              "      <td>نه گردن‌کشان را بگیرد به فور\\nنه عذرآوران را ب...</td>\n",
              "      <td>0</td>\n",
              "      <td>1</td>\n",
              "    </tr>\n",
              "    <tr>\n",
              "      <th>...</th>\n",
              "      <td>...</td>\n",
              "      <td>...</td>\n",
              "      <td>...</td>\n",
              "    </tr>\n",
              "    <tr>\n",
              "      <th>4059</th>\n",
              "      <td>به کردار بدشان مقید نکرد\\nبضاعات مزجاتشان رد نکرد</td>\n",
              "      <td>10</td>\n",
              "      <td>4</td>\n",
              "    </tr>\n",
              "    <tr>\n",
              "      <th>4060</th>\n",
              "      <td>ز لطفت همین چشم داریم نیز\\nبر این بی‌بضاعت ببخ...</td>\n",
              "      <td>10</td>\n",
              "      <td>4</td>\n",
              "    </tr>\n",
              "    <tr>\n",
              "      <th>4061</th>\n",
              "      <td>کس از من سیه نامه تر دیده نیست\\nکه هیچم فعال پ...</td>\n",
              "      <td>10</td>\n",
              "      <td>4</td>\n",
              "    </tr>\n",
              "    <tr>\n",
              "      <th>4062</th>\n",
              "      <td>جز این کاعتمادم به یاری تست\\nامیدم به آمرزگاری...</td>\n",
              "      <td>10</td>\n",
              "      <td>4</td>\n",
              "    </tr>\n",
              "    <tr>\n",
              "      <th>4063</th>\n",
              "      <td>بضاعت نیاوردم الا امید\\nخدایا ز عفوم مکن ناامید</td>\n",
              "      <td>10</td>\n",
              "      <td>4</td>\n",
              "    </tr>\n",
              "  </tbody>\n",
              "</table>\n",
              "<p>4064 rows × 3 columns</p>\n",
              "</div>\n",
              "      <button class=\"colab-df-convert\" onclick=\"convertToInteractive('df-e4ddbc5b-d769-45bd-a2f8-994ab9987238')\"\n",
              "              title=\"Convert this dataframe to an interactive table.\"\n",
              "              style=\"display:none;\">\n",
              "        \n",
              "  <svg xmlns=\"http://www.w3.org/2000/svg\" height=\"24px\"viewBox=\"0 0 24 24\"\n",
              "       width=\"24px\">\n",
              "    <path d=\"M0 0h24v24H0V0z\" fill=\"none\"/>\n",
              "    <path d=\"M18.56 5.44l.94 2.06.94-2.06 2.06-.94-2.06-.94-.94-2.06-.94 2.06-2.06.94zm-11 1L8.5 8.5l.94-2.06 2.06-.94-2.06-.94L8.5 2.5l-.94 2.06-2.06.94zm10 10l.94 2.06.94-2.06 2.06-.94-2.06-.94-.94-2.06-.94 2.06-2.06.94z\"/><path d=\"M17.41 7.96l-1.37-1.37c-.4-.4-.92-.59-1.43-.59-.52 0-1.04.2-1.43.59L10.3 9.45l-7.72 7.72c-.78.78-.78 2.05 0 2.83L4 21.41c.39.39.9.59 1.41.59.51 0 1.02-.2 1.41-.59l7.78-7.78 2.81-2.81c.8-.78.8-2.07 0-2.86zM5.41 20L4 18.59l7.72-7.72 1.47 1.35L5.41 20z\"/>\n",
              "  </svg>\n",
              "      </button>\n",
              "      \n",
              "  <style>\n",
              "    .colab-df-container {\n",
              "      display:flex;\n",
              "      flex-wrap:wrap;\n",
              "      gap: 12px;\n",
              "    }\n",
              "\n",
              "    .colab-df-convert {\n",
              "      background-color: #E8F0FE;\n",
              "      border: none;\n",
              "      border-radius: 50%;\n",
              "      cursor: pointer;\n",
              "      display: none;\n",
              "      fill: #1967D2;\n",
              "      height: 32px;\n",
              "      padding: 0 0 0 0;\n",
              "      width: 32px;\n",
              "    }\n",
              "\n",
              "    .colab-df-convert:hover {\n",
              "      background-color: #E2EBFA;\n",
              "      box-shadow: 0px 1px 2px rgba(60, 64, 67, 0.3), 0px 1px 3px 1px rgba(60, 64, 67, 0.15);\n",
              "      fill: #174EA6;\n",
              "    }\n",
              "\n",
              "    [theme=dark] .colab-df-convert {\n",
              "      background-color: #3B4455;\n",
              "      fill: #D2E3FC;\n",
              "    }\n",
              "\n",
              "    [theme=dark] .colab-df-convert:hover {\n",
              "      background-color: #434B5C;\n",
              "      box-shadow: 0px 1px 3px 1px rgba(0, 0, 0, 0.15);\n",
              "      filter: drop-shadow(0px 1px 2px rgba(0, 0, 0, 0.3));\n",
              "      fill: #FFFFFF;\n",
              "    }\n",
              "  </style>\n",
              "\n",
              "      <script>\n",
              "        const buttonEl =\n",
              "          document.querySelector('#df-e4ddbc5b-d769-45bd-a2f8-994ab9987238 button.colab-df-convert');\n",
              "        buttonEl.style.display =\n",
              "          google.colab.kernel.accessAllowed ? 'block' : 'none';\n",
              "\n",
              "        async function convertToInteractive(key) {\n",
              "          const element = document.querySelector('#df-e4ddbc5b-d769-45bd-a2f8-994ab9987238');\n",
              "          const dataTable =\n",
              "            await google.colab.kernel.invokeFunction('convertToInteractive',\n",
              "                                                     [key], {});\n",
              "          if (!dataTable) return;\n",
              "\n",
              "          const docLinkHtml = 'Like what you see? Visit the ' +\n",
              "            '<a target=\"_blank\" href=https://colab.research.google.com/notebooks/data_table.ipynb>data table notebook</a>'\n",
              "            + ' to learn more about interactive tables.';\n",
              "          element.innerHTML = '';\n",
              "          dataTable['output_type'] = 'display_data';\n",
              "          await google.colab.output.renderOutput(dataTable, element);\n",
              "          const docLink = document.createElement('div');\n",
              "          docLink.innerHTML = docLinkHtml;\n",
              "          element.appendChild(docLink);\n",
              "        }\n",
              "      </script>\n",
              "    </div>\n",
              "  </div>\n",
              "  "
            ]
          },
          "metadata": {},
          "execution_count": 8
        }
      ]
    },
    {
      "cell_type": "markdown",
      "source": [
        "Reading Golestan from file:"
      ],
      "metadata": {
        "id": "KdojXHhW1Qmj"
      }
    },
    {
      "cell_type": "code",
      "source": [
        "import re"
      ],
      "metadata": {
        "id": "G9JCsF5jTCK9"
      },
      "execution_count": 9,
      "outputs": []
    },
    {
      "cell_type": "markdown",
      "source": [
        "We will split Golestan's NASR based on their punctiuation:"
      ],
      "metadata": {
        "id": "8EkQ_JHx1VwP"
      }
    },
    {
      "cell_type": "code",
      "source": [
        "golestan_data = list()\n",
        "for chapter_name in os.listdir('golestan'):\n",
        "    for file_name in os.listdir(f'golestan/{chapter_name}'):\n",
        "        file = open(f'golestan/{chapter_name}/{file_name}')\n",
        "        for hem in [x.strip() for x in re.split('\\n\\n|\\.|\\?|!', file.read())]:\n",
        "            if len(hem.split()) < 3:\n",
        "              continue\n",
        "            if hem:\n",
        "                if file_name.startswith('d'):\n",
        "                    golestan_data.append([hem, 0, 1])\n",
        "                else:\n",
        "                    golestan_data.append([hem, int(chapter_name.split('bab')[1]), int(file_name.split('sh')[1].split('.')[0])])"
      ],
      "metadata": {
        "id": "Zy_CkAgXjCOV"
      },
      "execution_count": 10,
      "outputs": []
    },
    {
      "cell_type": "code",
      "source": [
        "golestan_data = pd.DataFrame(golestan_data)"
      ],
      "metadata": {
        "id": "MHwpzK2-ploS"
      },
      "execution_count": 11,
      "outputs": []
    },
    {
      "cell_type": "code",
      "source": [
        "golestan_data.columns = ['poem', 'chapter', 'section']"
      ],
      "metadata": {
        "id": "5InLM2R3ppTo"
      },
      "execution_count": 12,
      "outputs": []
    },
    {
      "cell_type": "code",
      "source": [
        "golestan_data.sort_values(by=['chapter', 'section'], ignore_index=True, inplace=True)"
      ],
      "metadata": {
        "id": "B-9lU_XcWnBl"
      },
      "execution_count": 13,
      "outputs": []
    },
    {
      "cell_type": "code",
      "source": [
        "golestan_data"
      ],
      "metadata": {
        "id": "C6E2xOzepvSf",
        "colab": {
          "base_uri": "https://localhost:8080/",
          "height": 424
        },
        "outputId": "d9e10892-024a-4b7f-8e92-d4f8c0686c5f"
      },
      "execution_count": 14,
      "outputs": [
        {
          "output_type": "execute_result",
          "data": {
            "text/plain": [
              "                                                   poem  chapter  section\n",
              "0                         بِسم اللهِ الرَّحمنِ الرَّحیم        0        1\n",
              "1     منّت خدای را عز و جل که طاعتش موجب قربت است و ...        0        1\n",
              "2     هر نفسی که فرو می رود ممدّ حیات است و چون بر م...        0        1\n",
              "3     پس در هر نفسی دو نعمت موجود است و بر هر نعمتی ...        0        1\n",
              "4      از دست و زبان که بر آید\\nکز عهدهٔ شکرش به در آید        0        1\n",
              "...                                                 ...      ...      ...\n",
              "2497  غالب گفتار سعدی طرب انگیز است و طیبت آمیز و کو...        8      109\n",
              "2498  ما نصیحت به جای خود کردیم\\nروزگاری در این به س...        8      109\n",
              "2499  گر نیاید به گوش رغبت کس\\nبر رسولان پیام باشد و بس        8      109\n",
              "2500  یا ناظراً فیه سَل باللهِ مرحمةً\\nعلی المصنفِ و...        8      109\n",
              "2501  و اَطلُب لِنَفسِکَ مِن خیرٍ تُریدُ بها\\nمِن بع...        8      109\n",
              "\n",
              "[2502 rows x 3 columns]"
            ],
            "text/html": [
              "\n",
              "  <div id=\"df-bd002cbd-3844-4491-ad6e-ed00c13a7a60\">\n",
              "    <div class=\"colab-df-container\">\n",
              "      <div>\n",
              "<style scoped>\n",
              "    .dataframe tbody tr th:only-of-type {\n",
              "        vertical-align: middle;\n",
              "    }\n",
              "\n",
              "    .dataframe tbody tr th {\n",
              "        vertical-align: top;\n",
              "    }\n",
              "\n",
              "    .dataframe thead th {\n",
              "        text-align: right;\n",
              "    }\n",
              "</style>\n",
              "<table border=\"1\" class=\"dataframe\">\n",
              "  <thead>\n",
              "    <tr style=\"text-align: right;\">\n",
              "      <th></th>\n",
              "      <th>poem</th>\n",
              "      <th>chapter</th>\n",
              "      <th>section</th>\n",
              "    </tr>\n",
              "  </thead>\n",
              "  <tbody>\n",
              "    <tr>\n",
              "      <th>0</th>\n",
              "      <td>بِسم اللهِ الرَّحمنِ الرَّحیم</td>\n",
              "      <td>0</td>\n",
              "      <td>1</td>\n",
              "    </tr>\n",
              "    <tr>\n",
              "      <th>1</th>\n",
              "      <td>منّت خدای را عز و جل که طاعتش موجب قربت است و ...</td>\n",
              "      <td>0</td>\n",
              "      <td>1</td>\n",
              "    </tr>\n",
              "    <tr>\n",
              "      <th>2</th>\n",
              "      <td>هر نفسی که فرو می رود ممدّ حیات است و چون بر م...</td>\n",
              "      <td>0</td>\n",
              "      <td>1</td>\n",
              "    </tr>\n",
              "    <tr>\n",
              "      <th>3</th>\n",
              "      <td>پس در هر نفسی دو نعمت موجود است و بر هر نعمتی ...</td>\n",
              "      <td>0</td>\n",
              "      <td>1</td>\n",
              "    </tr>\n",
              "    <tr>\n",
              "      <th>4</th>\n",
              "      <td>از دست و زبان که بر آید\\nکز عهدهٔ شکرش به در آید</td>\n",
              "      <td>0</td>\n",
              "      <td>1</td>\n",
              "    </tr>\n",
              "    <tr>\n",
              "      <th>...</th>\n",
              "      <td>...</td>\n",
              "      <td>...</td>\n",
              "      <td>...</td>\n",
              "    </tr>\n",
              "    <tr>\n",
              "      <th>2497</th>\n",
              "      <td>غالب گفتار سعدی طرب انگیز است و طیبت آمیز و کو...</td>\n",
              "      <td>8</td>\n",
              "      <td>109</td>\n",
              "    </tr>\n",
              "    <tr>\n",
              "      <th>2498</th>\n",
              "      <td>ما نصیحت به جای خود کردیم\\nروزگاری در این به س...</td>\n",
              "      <td>8</td>\n",
              "      <td>109</td>\n",
              "    </tr>\n",
              "    <tr>\n",
              "      <th>2499</th>\n",
              "      <td>گر نیاید به گوش رغبت کس\\nبر رسولان پیام باشد و بس</td>\n",
              "      <td>8</td>\n",
              "      <td>109</td>\n",
              "    </tr>\n",
              "    <tr>\n",
              "      <th>2500</th>\n",
              "      <td>یا ناظراً فیه سَل باللهِ مرحمةً\\nعلی المصنفِ و...</td>\n",
              "      <td>8</td>\n",
              "      <td>109</td>\n",
              "    </tr>\n",
              "    <tr>\n",
              "      <th>2501</th>\n",
              "      <td>و اَطلُب لِنَفسِکَ مِن خیرٍ تُریدُ بها\\nمِن بع...</td>\n",
              "      <td>8</td>\n",
              "      <td>109</td>\n",
              "    </tr>\n",
              "  </tbody>\n",
              "</table>\n",
              "<p>2502 rows × 3 columns</p>\n",
              "</div>\n",
              "      <button class=\"colab-df-convert\" onclick=\"convertToInteractive('df-bd002cbd-3844-4491-ad6e-ed00c13a7a60')\"\n",
              "              title=\"Convert this dataframe to an interactive table.\"\n",
              "              style=\"display:none;\">\n",
              "        \n",
              "  <svg xmlns=\"http://www.w3.org/2000/svg\" height=\"24px\"viewBox=\"0 0 24 24\"\n",
              "       width=\"24px\">\n",
              "    <path d=\"M0 0h24v24H0V0z\" fill=\"none\"/>\n",
              "    <path d=\"M18.56 5.44l.94 2.06.94-2.06 2.06-.94-2.06-.94-.94-2.06-.94 2.06-2.06.94zm-11 1L8.5 8.5l.94-2.06 2.06-.94-2.06-.94L8.5 2.5l-.94 2.06-2.06.94zm10 10l.94 2.06.94-2.06 2.06-.94-2.06-.94-.94-2.06-.94 2.06-2.06.94z\"/><path d=\"M17.41 7.96l-1.37-1.37c-.4-.4-.92-.59-1.43-.59-.52 0-1.04.2-1.43.59L10.3 9.45l-7.72 7.72c-.78.78-.78 2.05 0 2.83L4 21.41c.39.39.9.59 1.41.59.51 0 1.02-.2 1.41-.59l7.78-7.78 2.81-2.81c.8-.78.8-2.07 0-2.86zM5.41 20L4 18.59l7.72-7.72 1.47 1.35L5.41 20z\"/>\n",
              "  </svg>\n",
              "      </button>\n",
              "      \n",
              "  <style>\n",
              "    .colab-df-container {\n",
              "      display:flex;\n",
              "      flex-wrap:wrap;\n",
              "      gap: 12px;\n",
              "    }\n",
              "\n",
              "    .colab-df-convert {\n",
              "      background-color: #E8F0FE;\n",
              "      border: none;\n",
              "      border-radius: 50%;\n",
              "      cursor: pointer;\n",
              "      display: none;\n",
              "      fill: #1967D2;\n",
              "      height: 32px;\n",
              "      padding: 0 0 0 0;\n",
              "      width: 32px;\n",
              "    }\n",
              "\n",
              "    .colab-df-convert:hover {\n",
              "      background-color: #E2EBFA;\n",
              "      box-shadow: 0px 1px 2px rgba(60, 64, 67, 0.3), 0px 1px 3px 1px rgba(60, 64, 67, 0.15);\n",
              "      fill: #174EA6;\n",
              "    }\n",
              "\n",
              "    [theme=dark] .colab-df-convert {\n",
              "      background-color: #3B4455;\n",
              "      fill: #D2E3FC;\n",
              "    }\n",
              "\n",
              "    [theme=dark] .colab-df-convert:hover {\n",
              "      background-color: #434B5C;\n",
              "      box-shadow: 0px 1px 3px 1px rgba(0, 0, 0, 0.15);\n",
              "      filter: drop-shadow(0px 1px 2px rgba(0, 0, 0, 0.3));\n",
              "      fill: #FFFFFF;\n",
              "    }\n",
              "  </style>\n",
              "\n",
              "      <script>\n",
              "        const buttonEl =\n",
              "          document.querySelector('#df-bd002cbd-3844-4491-ad6e-ed00c13a7a60 button.colab-df-convert');\n",
              "        buttonEl.style.display =\n",
              "          google.colab.kernel.accessAllowed ? 'block' : 'none';\n",
              "\n",
              "        async function convertToInteractive(key) {\n",
              "          const element = document.querySelector('#df-bd002cbd-3844-4491-ad6e-ed00c13a7a60');\n",
              "          const dataTable =\n",
              "            await google.colab.kernel.invokeFunction('convertToInteractive',\n",
              "                                                     [key], {});\n",
              "          if (!dataTable) return;\n",
              "\n",
              "          const docLinkHtml = 'Like what you see? Visit the ' +\n",
              "            '<a target=\"_blank\" href=https://colab.research.google.com/notebooks/data_table.ipynb>data table notebook</a>'\n",
              "            + ' to learn more about interactive tables.';\n",
              "          element.innerHTML = '';\n",
              "          dataTable['output_type'] = 'display_data';\n",
              "          await google.colab.output.renderOutput(dataTable, element);\n",
              "          const docLink = document.createElement('div');\n",
              "          docLink.innerHTML = docLinkHtml;\n",
              "          element.appendChild(docLink);\n",
              "        }\n",
              "      </script>\n",
              "    </div>\n",
              "  </div>\n",
              "  "
            ]
          },
          "metadata": {},
          "execution_count": 14
        }
      ]
    },
    {
      "cell_type": "markdown",
      "source": [
        "Concatanating data from Boostan and Golestan:"
      ],
      "metadata": {
        "id": "zKlZlPrP1m0u"
      }
    },
    {
      "cell_type": "code",
      "source": [
        "all_data = pd.concat([boostan_data, golestan_data], ignore_index=True)['poem']"
      ],
      "metadata": {
        "id": "BRaESnYp94qW"
      },
      "execution_count": 15,
      "outputs": []
    },
    {
      "cell_type": "code",
      "source": [
        "!pip3 install hazm"
      ],
      "metadata": {
        "id": "tcp9Gdxah_Ee",
        "colab": {
          "base_uri": "https://localhost:8080/"
        },
        "outputId": "9b4e7556-1a22-4d9a-a1c4-9a7be4cde3ca"
      },
      "execution_count": 16,
      "outputs": [
        {
          "output_type": "stream",
          "name": "stdout",
          "text": [
            "Looking in indexes: https://pypi.org/simple, https://us-python.pkg.dev/colab-wheels/public/simple/\n",
            "Collecting hazm\n",
            "  Downloading hazm-0.7.0-py3-none-any.whl (316 kB)\n",
            "\u001b[K     |████████████████████████████████| 316 kB 7.2 MB/s \n",
            "\u001b[?25hCollecting nltk==3.3\n",
            "  Downloading nltk-3.3.0.zip (1.4 MB)\n",
            "\u001b[K     |████████████████████████████████| 1.4 MB 15.2 MB/s \n",
            "\u001b[?25hCollecting libwapiti>=0.2.1\n",
            "  Downloading libwapiti-0.2.1.tar.gz (233 kB)\n",
            "\u001b[K     |████████████████████████████████| 233 kB 44.6 MB/s \n",
            "\u001b[?25hRequirement already satisfied: six in /usr/local/lib/python3.7/dist-packages (from nltk==3.3->hazm) (1.15.0)\n",
            "Building wheels for collected packages: nltk, libwapiti\n",
            "  Building wheel for nltk (setup.py) ... \u001b[?25l\u001b[?25hdone\n",
            "  Created wheel for nltk: filename=nltk-3.3-py3-none-any.whl size=1394487 sha256=07713a8ef8adabd12619adf791a00ea5657238eb2dbfd36b602d3a7c42231651\n",
            "  Stored in directory: /root/.cache/pip/wheels/9b/fd/0c/d92302c876e5de87ebd7fc0979d82edb93e2d8d768bf71fac4\n",
            "  Building wheel for libwapiti (setup.py) ... \u001b[?25l\u001b[?25hdone\n",
            "  Created wheel for libwapiti: filename=libwapiti-0.2.1-cp37-cp37m-linux_x86_64.whl size=153966 sha256=3b686fdca98631391cb38fb3aad3f436e0022c2a76358ccf492eecc2d35f057f\n",
            "  Stored in directory: /root/.cache/pip/wheels/ab/b2/5b/0fe4b8f5c0e65341e8ea7bb3f4a6ebabfe8b1ac31322392dbf\n",
            "Successfully built nltk libwapiti\n",
            "Installing collected packages: nltk, libwapiti, hazm\n",
            "  Attempting uninstall: nltk\n",
            "    Found existing installation: nltk 3.7\n",
            "    Uninstalling nltk-3.7:\n",
            "      Successfully uninstalled nltk-3.7\n",
            "Successfully installed hazm-0.7.0 libwapiti-0.2.1 nltk-3.3\n"
          ]
        }
      ]
    },
    {
      "cell_type": "code",
      "source": [
        "from __future__ import unicode_literals\n",
        "from hazm import *\n",
        "import tqdm\n",
        "import string"
      ],
      "metadata": {
        "id": "pzfW1fHa9y0p"
      },
      "execution_count": 17,
      "outputs": []
    },
    {
      "cell_type": "markdown",
      "source": [
        "Importing stopwords and words that should be replaced:  \n",
        "We have use stop-words for persian poems from [here](https://github.com/amnghd/Persian_poems_corpus). And word that should replaced are written by ourselves."
      ],
      "metadata": {
        "id": "K7KcBBizXqQO"
      }
    },
    {
      "cell_type": "code",
      "source": [
        "stopwords = ['زن']\n",
        "replace_dict = {}\n",
        "punctuations = '\\.:!،؛؟»\\]\\)\\}«\\[\\(\\{' + string.punctuation\n",
        "\n",
        "with open('stopwords.txt') as f:\n",
        "    var = f.readline()\n",
        "    while var:\n",
        "        stopwords.append(var.strip())\n",
        "        var = f.readline()\n",
        "\n",
        "with open('replace.txt') as f:\n",
        "    line = f.readline()\n",
        "    while line:\n",
        "        key, value = line.split('-')\n",
        "        key, value = key.strip(), value.strip()\n",
        "        replace_dict[f'{key}'] = f'{value}'\n",
        "        line = f.readline()"
      ],
      "metadata": {
        "id": "mkjR59seKOV4"
      },
      "execution_count": 18,
      "outputs": []
    },
    {
      "cell_type": "markdown",
      "source": [
        "# Preprocessing Data"
      ],
      "metadata": {
        "id": "pL5pSO5DVebz"
      }
    },
    {
      "cell_type": "code",
      "source": [
        "normalizer = Normalizer()\n",
        "stemmer = Stemmer()\n",
        "lemmatizer = Lemmatizer()\n",
        "\n",
        "def replace_function(string):\n",
        "    if string in replace_dict:\n",
        "      return replace_dict[string]\n",
        "    return string\n",
        "\n",
        "def sent_pre_process(sentence, normalize=True, remove_stopwords=False, stemme=False, lemmatize=True, replace=True, remove_punctuations=True, is_first=True):\n",
        "\n",
        "    # replace some charachters\n",
        "    replace_char = {'هٔ': 'ه',\n",
        "                    'ۀ' : 'ه',\n",
        "                    'ه‌ی' : 'ه'}\n",
        "    \n",
        "    if remove_punctuations:\n",
        "      for char in punctuations:\n",
        "        replace_char[char] = \" \"\n",
        "\n",
        "    for key, value in replace_char.items():\n",
        "        sentence = sentence.replace(key, value)\n",
        "\n",
        "    if normalize:\n",
        "        sentence = normalizer.normalize(sentence)\n",
        "    if stemme:\n",
        "        sentence = stemmer.stemme(sentence)\n",
        "    if lemmatize:\n",
        "        sentence = lemmatizer.lemmatize(sentence)\n",
        "    \n",
        "\n",
        "    tokens = word_tokenize(sentence)\n",
        "    \n",
        "    if replace:\n",
        "        tokens = [replace_function(token) for token in tokens]\n",
        "    if remove_stopwords:\n",
        "        tokens = [token for token in tokens if token not in stopwords]\n",
        "    \n",
        "    if is_first:\n",
        "        return sent_pre_process(\" \".join(tokens), normalize, remove_stopwords, stemme, lemmatize, replace, remove_punctuations, False)\n",
        "    \n",
        "    return tokens\n",
        "\n",
        "def pre_process(sentences, normalize=True, remove_stopwords=False, stemme=False, lemmatize=True, replace=True, remove_punctuations=True, is_first=True, MIN_COUNT=3, put_index=False):\n",
        "    if put_index:\n",
        "        processed = [(sent_pre_process(sent, normalize, remove_stopwords, stemme, lemmatize, replace, remove_punctuations, is_first), i) for i, sent in enumerate(sentences)]\n",
        "        return [t for t in processed if len(list(t[0])) > MIN_COUNT]\n",
        "    processed = [sent_pre_process(sent, normalize, remove_stopwords, stemme, lemmatize, replace, remove_punctuations, is_first) for sent in sentences]\n",
        "    return [t for t in processed if len(list(t)) > MIN_COUNT]"
      ],
      "metadata": {
        "id": "3JFys7VThw9_"
      },
      "execution_count": 19,
      "outputs": []
    },
    {
      "cell_type": "markdown",
      "source": [
        "# Boolean Retreival"
      ],
      "metadata": {
        "id": "2rC_sfQfV81R"
      }
    },
    {
      "cell_type": "markdown",
      "source": [
        "For convinience, we use CountVectorizer and then convert its values from number to boolean to get boolean retreival matrix:"
      ],
      "metadata": {
        "id": "LxiAh9v2X8ij"
      }
    },
    {
      "cell_type": "code",
      "source": [
        "from sklearn.feature_extraction.text import CountVectorizer\n",
        "tf = CountVectorizer(analyzer= lambda x: sent_pre_process(x, remove_stopwords=True))\n",
        "tf_data = tf.fit_transform(all_data)\n",
        "tf_data = tf_data.toarray().astype(bool)"
      ],
      "metadata": {
        "id": "2joRrt84mIRB"
      },
      "execution_count": null,
      "outputs": []
    },
    {
      "cell_type": "code",
      "source": [
        "tf.transform(['ما ز یاران چشم یاری']).toarray()"
      ],
      "metadata": {
        "id": "SvmFym5FmJHZ",
        "colab": {
          "base_uri": "https://localhost:8080/"
        },
        "outputId": "d1816931-3f8e-48db-82d2-a2800fe03fc8"
      },
      "execution_count": null,
      "outputs": [
        {
          "output_type": "execute_result",
          "data": {
            "text/plain": [
              "array([[0, 0, 0, ..., 0, 0, 0]])"
            ]
          },
          "metadata": {},
          "execution_count": 28
        }
      ]
    },
    {
      "cell_type": "code",
      "source": [
        "tf_data"
      ],
      "metadata": {
        "id": "sv8xqQlRmLYj",
        "colab": {
          "base_uri": "https://localhost:8080/"
        },
        "outputId": "8f7c3f88-cd38-4360-e431-f92763fe7354"
      },
      "execution_count": null,
      "outputs": [
        {
          "output_type": "execute_result",
          "data": {
            "text/plain": [
              "array([[False, False, False, ..., False, False, False],\n",
              "       [False, False, False, ..., False, False, False],\n",
              "       [False, False, False, ..., False, False, False],\n",
              "       ...,\n",
              "       [False, False, False, ..., False, False, False],\n",
              "       [False, False, False, ..., False, False, False],\n",
              "       [False, False, False, ..., False, False, False]])"
            ]
          },
          "metadata": {},
          "execution_count": 29
        }
      ]
    },
    {
      "cell_type": "code",
      "source": [
        "def boolean_retrieval(str, k=10):\n",
        "  query_vec = tf.transform([str]).toarray()[0]\n",
        "  scores = np.dot(tf_data, query_vec)\n",
        "  args = np.argsort(scores)[::-1]\n",
        "  k_args = args[:k]\n",
        "  return np.concatenate([[scores[k_args]], [all_data[k_args]]]).T"
      ],
      "metadata": {
        "id": "Qeft12KdmN1-"
      },
      "execution_count": null,
      "outputs": []
    },
    {
      "cell_type": "code",
      "source": [
        "boolean_retrieval('به نام خداوند جان و خرد کز این برتر اندیشه بر نگذرد')"
      ],
      "metadata": {
        "id": "XeCnl1PkmPzb",
        "colab": {
          "base_uri": "https://localhost:8080/"
        },
        "outputId": "04fd13db-6de8-43c6-871b-5df7d04b578d"
      },
      "execution_count": null,
      "outputs": [
        {
          "output_type": "execute_result",
          "data": {
            "text/plain": [
              "array([[2, 'اگر باد سرد نفس نگذرد\\nتف معده جان در خروش آورد'],\n",
              "       [1,\n",
              "        'به نام خداوندِ جان\\u200cآفرین\\nحکیمِ سخن\\u200cدرزبان\\u200cآفرین'],\n",
              "       [1,\n",
              "        'در این کشور اندیشه کردم بسی\\nپریشان\\u200cتر از خود ندیدم کسی'],\n",
              "       [1, 'عجب آن که غراب از مجاورت طوطی هم به جان آمده بود و ملول شده'],\n",
              "       [1, 'هر آن کس که جور بزرگان نبرد\\nنسوزد دلش بر ضعیفان خرد'],\n",
              "       [1,\n",
              "        'که درمانده\\u200cام دست گیر ای صنم\\nبه جان آمدم رحم کن بر تنم'],\n",
              "       [1,\n",
              "        'یکی را زنی صاحب جمال جوان درگذشت و مادرزن فرتوت به علت کابین در خانه متمکن بماند و مرد از محاورت او به جان رنجیدی و از مجاورت او چاره ندیدی تا گروهی آشنایان به پرسیدن آمدندش'],\n",
              "       [1,\n",
              "        'چو الب ارسلان جان به جان\\u200cبخش داد\\nپسر تاج شاهی به سر برنهاد'],\n",
              "       [1, 'ز دوران ملک پدر یاد کن\\nدل از بند اندیشه آزاد کن'],\n",
              "       [1, 'وگر راست گفت ای خداوند پاک\\nمرا توبه ده تا نگردم هلاک']],\n",
              "      dtype=object)"
            ]
          },
          "metadata": {},
          "execution_count": 24
        }
      ]
    },
    {
      "cell_type": "markdown",
      "source": [
        "We can train a retreival system that returns the whole related poem (file) instead of only one MESRAA or BEIT just as easily:"
      ],
      "metadata": {
        "id": "T1Wklg9F73Tl"
      }
    },
    {
      "cell_type": "code",
      "source": [
        "# setting book column for both golestan and boostan:\n",
        "golestan_data['book'] = 'Golestan'\n",
        "boostan_data['book'] = 'Boostan'"
      ],
      "metadata": {
        "id": "oEmOC-V68MVZ"
      },
      "execution_count": null,
      "outputs": []
    },
    {
      "cell_type": "code",
      "source": [
        "df = pd.concat([boostan_data, golestan_data], ignore_index=True)\n",
        "all_data = df['poem']\n",
        "file_based_df = df.groupby(['book', 'chapter', 'section']).apply(lambda f: ' '.join(f['poem'].tolist())).reset_index()\n",
        "file_based_df.columns = ['book', 'chapter', 'section', 'poem']\n",
        "file_based_df.head()"
      ],
      "metadata": {
        "colab": {
          "base_uri": "https://localhost:8080/"
        },
        "id": "gJGpgQwU8e1-",
        "outputId": "638256fa-2e44-42c6-a185-25d0e1cdf4ef"
      },
      "execution_count": null,
      "outputs": [
        {
          "output_type": "execute_result",
          "data": {
            "text/plain": [
              "      book  chapter  section  \\\n",
              "0  Boostan        0        1   \n",
              "1  Boostan        0        2   \n",
              "2  Boostan        0        3   \n",
              "3  Boostan        0        4   \n",
              "4  Boostan        0        5   \n",
              "\n",
              "                                                poem  \n",
              "0  به نام خداوندِ جان‌آفرین\\nحکیمِ سخن‌درزبان‌آفر...  \n",
              "1  کریم السجایا جمیل الشیم\\nنبی البرایا شفیع الام...  \n",
              "2  در اقصای عالم بگشتم بسی\\nبه سر بردم ایام با هر...  \n",
              "3  مرا طبع از این نوع خواهان نبود\\nسر مدحت پادشاه...  \n",
              "4  اتابک محمد شه نیکبخت\\nخداوند تاج و خداوند تخت ...  "
            ],
            "text/html": [
              "\n",
              "  <div id=\"df-5b4d40a3-e2a0-4b1c-8c77-170ca7f99cb7\">\n",
              "    <div class=\"colab-df-container\">\n",
              "      <div>\n",
              "<style scoped>\n",
              "    .dataframe tbody tr th:only-of-type {\n",
              "        vertical-align: middle;\n",
              "    }\n",
              "\n",
              "    .dataframe tbody tr th {\n",
              "        vertical-align: top;\n",
              "    }\n",
              "\n",
              "    .dataframe thead th {\n",
              "        text-align: right;\n",
              "    }\n",
              "</style>\n",
              "<table border=\"1\" class=\"dataframe\">\n",
              "  <thead>\n",
              "    <tr style=\"text-align: right;\">\n",
              "      <th></th>\n",
              "      <th>book</th>\n",
              "      <th>chapter</th>\n",
              "      <th>section</th>\n",
              "      <th>poem</th>\n",
              "    </tr>\n",
              "  </thead>\n",
              "  <tbody>\n",
              "    <tr>\n",
              "      <th>0</th>\n",
              "      <td>Boostan</td>\n",
              "      <td>0</td>\n",
              "      <td>1</td>\n",
              "      <td>به نام خداوندِ جان‌آفرین\\nحکیمِ سخن‌درزبان‌آفر...</td>\n",
              "    </tr>\n",
              "    <tr>\n",
              "      <th>1</th>\n",
              "      <td>Boostan</td>\n",
              "      <td>0</td>\n",
              "      <td>2</td>\n",
              "      <td>کریم السجایا جمیل الشیم\\nنبی البرایا شفیع الام...</td>\n",
              "    </tr>\n",
              "    <tr>\n",
              "      <th>2</th>\n",
              "      <td>Boostan</td>\n",
              "      <td>0</td>\n",
              "      <td>3</td>\n",
              "      <td>در اقصای عالم بگشتم بسی\\nبه سر بردم ایام با هر...</td>\n",
              "    </tr>\n",
              "    <tr>\n",
              "      <th>3</th>\n",
              "      <td>Boostan</td>\n",
              "      <td>0</td>\n",
              "      <td>4</td>\n",
              "      <td>مرا طبع از این نوع خواهان نبود\\nسر مدحت پادشاه...</td>\n",
              "    </tr>\n",
              "    <tr>\n",
              "      <th>4</th>\n",
              "      <td>Boostan</td>\n",
              "      <td>0</td>\n",
              "      <td>5</td>\n",
              "      <td>اتابک محمد شه نیکبخت\\nخداوند تاج و خداوند تخت ...</td>\n",
              "    </tr>\n",
              "  </tbody>\n",
              "</table>\n",
              "</div>\n",
              "      <button class=\"colab-df-convert\" onclick=\"convertToInteractive('df-5b4d40a3-e2a0-4b1c-8c77-170ca7f99cb7')\"\n",
              "              title=\"Convert this dataframe to an interactive table.\"\n",
              "              style=\"display:none;\">\n",
              "        \n",
              "  <svg xmlns=\"http://www.w3.org/2000/svg\" height=\"24px\"viewBox=\"0 0 24 24\"\n",
              "       width=\"24px\">\n",
              "    <path d=\"M0 0h24v24H0V0z\" fill=\"none\"/>\n",
              "    <path d=\"M18.56 5.44l.94 2.06.94-2.06 2.06-.94-2.06-.94-.94-2.06-.94 2.06-2.06.94zm-11 1L8.5 8.5l.94-2.06 2.06-.94-2.06-.94L8.5 2.5l-.94 2.06-2.06.94zm10 10l.94 2.06.94-2.06 2.06-.94-2.06-.94-.94-2.06-.94 2.06-2.06.94z\"/><path d=\"M17.41 7.96l-1.37-1.37c-.4-.4-.92-.59-1.43-.59-.52 0-1.04.2-1.43.59L10.3 9.45l-7.72 7.72c-.78.78-.78 2.05 0 2.83L4 21.41c.39.39.9.59 1.41.59.51 0 1.02-.2 1.41-.59l7.78-7.78 2.81-2.81c.8-.78.8-2.07 0-2.86zM5.41 20L4 18.59l7.72-7.72 1.47 1.35L5.41 20z\"/>\n",
              "  </svg>\n",
              "      </button>\n",
              "      \n",
              "  <style>\n",
              "    .colab-df-container {\n",
              "      display:flex;\n",
              "      flex-wrap:wrap;\n",
              "      gap: 12px;\n",
              "    }\n",
              "\n",
              "    .colab-df-convert {\n",
              "      background-color: #E8F0FE;\n",
              "      border: none;\n",
              "      border-radius: 50%;\n",
              "      cursor: pointer;\n",
              "      display: none;\n",
              "      fill: #1967D2;\n",
              "      height: 32px;\n",
              "      padding: 0 0 0 0;\n",
              "      width: 32px;\n",
              "    }\n",
              "\n",
              "    .colab-df-convert:hover {\n",
              "      background-color: #E2EBFA;\n",
              "      box-shadow: 0px 1px 2px rgba(60, 64, 67, 0.3), 0px 1px 3px 1px rgba(60, 64, 67, 0.15);\n",
              "      fill: #174EA6;\n",
              "    }\n",
              "\n",
              "    [theme=dark] .colab-df-convert {\n",
              "      background-color: #3B4455;\n",
              "      fill: #D2E3FC;\n",
              "    }\n",
              "\n",
              "    [theme=dark] .colab-df-convert:hover {\n",
              "      background-color: #434B5C;\n",
              "      box-shadow: 0px 1px 3px 1px rgba(0, 0, 0, 0.15);\n",
              "      filter: drop-shadow(0px 1px 2px rgba(0, 0, 0, 0.3));\n",
              "      fill: #FFFFFF;\n",
              "    }\n",
              "  </style>\n",
              "\n",
              "      <script>\n",
              "        const buttonEl =\n",
              "          document.querySelector('#df-5b4d40a3-e2a0-4b1c-8c77-170ca7f99cb7 button.colab-df-convert');\n",
              "        buttonEl.style.display =\n",
              "          google.colab.kernel.accessAllowed ? 'block' : 'none';\n",
              "\n",
              "        async function convertToInteractive(key) {\n",
              "          const element = document.querySelector('#df-5b4d40a3-e2a0-4b1c-8c77-170ca7f99cb7');\n",
              "          const dataTable =\n",
              "            await google.colab.kernel.invokeFunction('convertToInteractive',\n",
              "                                                     [key], {});\n",
              "          if (!dataTable) return;\n",
              "\n",
              "          const docLinkHtml = 'Like what you see? Visit the ' +\n",
              "            '<a target=\"_blank\" href=https://colab.research.google.com/notebooks/data_table.ipynb>data table notebook</a>'\n",
              "            + ' to learn more about interactive tables.';\n",
              "          element.innerHTML = '';\n",
              "          dataTable['output_type'] = 'display_data';\n",
              "          await google.colab.output.renderOutput(dataTable, element);\n",
              "          const docLink = document.createElement('div');\n",
              "          docLink.innerHTML = docLinkHtml;\n",
              "          element.appendChild(docLink);\n",
              "        }\n",
              "      </script>\n",
              "    </div>\n",
              "  </div>\n",
              "  "
            ]
          },
          "metadata": {},
          "execution_count": 26
        }
      ]
    },
    {
      "cell_type": "code",
      "source": [
        "file_base_tf = CountVectorizer(analyzer= lambda x: sent_pre_process(x, remove_stopwords=True))\n",
        "file_base_tf_data = file_base_tf.fit_transform(file_based_df.poem)\n",
        "file_base_tf_data = file_base_tf_data.toarray().astype(bool)\n",
        "\n",
        "def file_base_boolean_retrieval(str, k=10):\n",
        "  query_vec = file_base_tf.transform([str]).toarray()[0]\n",
        "  scores = np.dot(file_base_tf_data, query_vec)\n",
        "  args = np.argsort(scores)[::-1]\n",
        "  k_args = args[:k]\n",
        "  return np.concatenate([[scores[k_args]], [file_based_df.poem[k_args]]]).T"
      ],
      "metadata": {
        "id": "PH6UYEfcAQse"
      },
      "execution_count": null,
      "outputs": []
    },
    {
      "cell_type": "code",
      "source": [
        "file_base_boolean_retrieval('به نام خداوند جان و خرد کز این برتر اندیشه بر نگذرد', k=1)"
      ],
      "metadata": {
        "colab": {
          "base_uri": "https://localhost:8080/"
        },
        "id": "QTOE7XzyBj_o",
        "outputId": "b5390add-e722-400e-bb19-ac0a44932711"
      },
      "execution_count": null,
      "outputs": [
        {
          "output_type": "execute_result",
          "data": {
            "text/plain": [
              "array([[4,\n",
              "        'بِسم اللهِ الرَّحمنِ الرَّحیم منّت خدای را عز و جل که طاعتش موجب قربت است و به شکر اندرش مزید نعمت هر نفسی که فرو می رود ممدّ حیات است و چون بر می آید مفرّح ذات پس در هر نفسی دو نعمت موجود است و بر هر نعمتی شکری واجب از دست و زبان که بر آید\\nکز عهدهٔ شکرش به در آید اِعملوا آلَ داودَ شکراً وَ قلیلٌ مِن عبادیَ الشکور بنده همان به که ز تقصیر خویش\\nعذر به درگاه خدای آورد ور نه سزاوار خداوندیش\\nکس نتواند که به جای آورد باران رحمت بی حسابش همه را رسیده و خوان نعمت بی دریغش همه جا کشیده پردهٔ ناموس بندگان به گناه فاحش ندرد و وظیفهٔ روزی به خطای منکر نبرد ای کریمی که از خزانهٔ غیب\\nگبر و ترسا وظیفه خور داری دوستان را کجا کنی محروم\\nتو که با دشمن این نظر داری فرّاش باد صبا را گفته تا فرش زمرّدی بگسترد و دایهٔ ابر بهاری را فرموده تا بنات نبات در مهد زمین بپرورد درختان را به خلعت نوروزی قبای سبز ورق در بر گرفته و اطفال شاخ را به قدوم موسم ربیع کلاه شکوفه بر سر نهاده عصاره نالی به قدرت او شهد فایق شده و تخم خرمایی به تربیتش نخل باسق گشته ابر و باد و مه و خورشید و فلک در کارند\\nتا تو نانی به کف آریّ و به غفلت نخوری همه از بهر تو سرگشته و فرمانبردار\\nشرط انصاف نباشد که تو فرمان نبری در خبر است از سرور کاینات و مفخر موجودات و رحمت عالمیان و صفوت آدمیان و تتمهٔ دور زمان محمد مصطفی صلی الله علیه و سلم، شفیعٌ مطاعٌ نبیٌ کریم\\nقسیمٌ جسیمٌ نسیمٌ وسیم چه غم دیوار امّت را که دارد چون تو پشتیبان\\nچه باک از موج بحر آن را که باشد نوح کشتیبان بلغَ العلی بِکمالِه کشفَ الدُّجی بِجَمالِه\\nحَسنتْ جَمیعُ خِصالِه صلّوا علیه و آله هر گاه که یکی از بندگان گنهکار پریشان روزگار دست انابت به امید اجابت به درگاه حق جل و علا بردارد ایزد تعالی در وی نظر نکند بازش بخواند باز اعراض کند بازش به تضرّع و زاری بخواند حق سبحانه و تعالی فرماید یا ملائکتی قَد استَحْیَیتُ مِن عبدی و لَیس لَهُ غیری فَقد غَفَرت لَهُ دعوتش را اجابت کردم و حاجتش بر آوردم که از بسیاری دعا و زاری بنده همی شرم دارم کرم بین و لطف خداوندگار\\nگنه بنده کرده است و او شرمسار عاکفان کعبهٔ جلالش به تقصیر عبادت معترف که ما عبدناکَ حقّ عبادتِک و واصفان حلیهٔ جمالش به تحیر منسوب که ما عَرَفناکَ حقّ مَعرِفتِک گر کسی وصف او ز من پرسد\\nبیدل از بی نشان چه گوید باز عاشقان کشتگان معشوقند\\nبر نیاید ز کشتگان آواز یکی از صاحبدلان سر به جیب مراقبت فرو برده بود و در بحر مکاشفت مستغرق شده حالی که از این معامله باز آمد یکی از دوستان گفت: از این بستان که بودی ما را چه تحفه کرامت کردی؟ گفت: به خاطر داشتم که چون به درخت گل رسم دامنی پر کنم هدیه اصحاب را، چون برسیدم بوی گلم چنان مست کرد که دامنم از دست برفت ای مرغ سحر عشق ز پروانه بیاموز\\nکآن سوخته را جان شد و آواز نیامد این مدعیان در طلبش بی خبرانند\\nکآن را که خبر شد خبری باز نیامد ای برتر از خیال و قیاس و گمان و وهم\\nوز هر چه گفته\\u200cاند و شنیدیم و خوانده\\u200cایم مجلس تمام گشت و به آخر رسید عمر\\nما همچنان در اوّل وصف تو مانده\\u200cایم ذکر جمیل سعدی که در افواه عوام افتاده است و صیت سخنش که در بسیط زمین رفته و قصب الجیب حدیثش که همچون شکر می\\u200cخورند و رقعهٔ منشآتش که چون کاغذ زر می\\u200cبرند بر کمال فضل و بلاغت او حمل نتوان کرد بلکه خداوند جهان و قطب دایرهٔ زمان و قایم مقام سلیمان و ناصر اهل ایمان اتابک اعظم مظفر الدنیا و الدین ابوبکر بن سعد بن زنگی ظلّ الله تعالی فی ارضه رَبِّ اِرْضَ عَنهُ و اَرْضِه به عین عنایت نظر کرده است و تحسین بلیغ فرموده و ارادت صادق نموده، لاجرم کافهٔ انام از خواص و عوام به محبت او گراییده\\u200cاند که الناسُ علی دینِ ملوکِهم زآن گه که تو را بر من مسکین نظر است\\nآثارم از آفتاب مشهور تر است گر خود همه عیبها بدین بنده در است\\nهر عیب که سلطان بپسندد هنر است گِلی خوشبوی در حمام روزی\\nرسید از دست محبوبی به دستم بدو گفتم که مشکی یا عبیری\\nکه از بوی دلاویز تو مستم بگفتا من گلی ناچیز بودم\\nو لیکن مدّتی با گل نشستم کمال همنشین در من اثر کرد\\nوگرنه من همان خاکم که هستم اللّهمَ مَتِّع المسلمینَ بطولِ حیاتِه و ضاعِف جمیلَ حسناتِه و ارْفَع درجةَ اودّائه و وُلاتِه وَ دمِّر علی اعدائه و شُناتِه بماتُلِیَ فی القرآن مِنْ آیاتِهِ اللّهُم آمِن بَلدَه و احفَظْ وَلَدَه لَقد سَعِدَ الدُنیا بهِ دامَ سعدُه\\nوَ ایَّدَه المولی بِاَلویةِ النَّصرِ کذلکَ ینشألینةُ هو عِرقُها\\nو حُسنُ نباتِ الارضِ من کرمِ البذرِ ایزد تعالی و تقدس خطهٔ پاک شیراز را به هیبت حاکمان عادل و همت عالمان عامل تا زمان قیامت در امان سلامت نگه داراد اقلیم پارس را غم از آسیب دهر نیست\\nتا بر سرش بود چو تویی سایه خدا امروز کس نشان ندهد در بسیط خاک\\nمانند آستان درت مأمن رضا بر توست پاس خاطر بیچارگان و شکر\\nبر ما و بر خدای جهان آفرین جزا یا رب ز باد فتنه نگهدار خاک پارس\\nچندان که خاک را بود و باد را بقا یک شب تأمل ایام گذشته می\\u200cکردم و بر عمر تلف کرده تأسف می\\u200cخوردم و سنگ سراچهٔ دل به الماس آب دیده می\\u200cسفتم و این بیت\\u200cها مناسب حال خود می\\u200cگفتم: هر دم از عمر می رود نفسی\\nچون نگه می\\u200cکنم نمانده بسی ای که پنجاه رفت و در خوابی\\nمگر این پنج روز دریابی خجل آن کس که رفت و کار نساخت\\nکوس رحلت زدند و بار نساخت خواب نوشین بامداد رحیل\\nباز دارد پیاده را ز سبیل هر که آمد عمارتی نو ساخت\\nرفت و منزل به دیگری پرداخت وآن دگر پخت همچنین هوسی\\nوین عمارت بسر نبرد کسی یار ناپایدار دوست مدار\\nدوستی را نشاید این غدّار نیک و بد چون همی بباید مرد\\nخنک آن کس که گوی نیکی برد برگ عیشی به گور خویش فرست\\nکس نیارد ز پس ز پیش فرست عمر برف است و آفتاب تموز\\nاندکی ماند و خواجه غرّه هنوز ای تهی دست رفته در بازار\\nترسمت پر نیاوری دستار هر که مزروع خود بخورد به خوید\\nوقت خرمنش خوشه باید چید بعد از تأمل این معنی مصلحت چنان دیدم که در نشیمن عزلت نشینم و دامن صحبت فراهم چینم و دفتر از گفت\\u200cهای پریشان بشویم و من بعد پریشان نگویم زبان بریده به کنجی نشسته صمٌّ بکمٌ\\nبه از کسی که نباشد زبانش اندر حکم تا یکی از دوستان که در کجاوه انیس من بود و در حجره جلیس، به رسم قدیم از در در آمد چندان که نشاط ملاعبت کرد و بساط مداعبت گسترد جوابش نگفتم و سر از زانوی تعبّد بر نگرفتم رنجیده نگه کرد و گفت: کنونت که امکان گفتار هست\\nبگو ای برادر به لطف و خوشی که فردا چو پیک اجل در رسید\\nبه حکم ضرورت زبان در کشی کسی از متعلقان منش بر حسب واقعه مطلع گردانید که فلان عزم کرده است و نیت جزم که بقیت عمر معتکف نشیند و خاموشی گزیند، تو نیز اگر توانی سر خویش گیر و راه مجانبت پیش گفتا: به عزت عظیم و صحبت قدیم که دم بر نیارم و قدم بر ندارم مگر آن گه که سخن گفته شود به عادت مألوف و طریق معروف که آزردن دوستان جهل است و کفّارت یمین سهل و خلاف راه صواب است و نقص رای اولوالالباب ذوالفقار علی در نیام و زبان سعدی در کام زبان در دهان ای خردمند چیست\\nکلید در گنج صاحب هنر چو در بسته باشد چه داند کسی\\nکه جوهر فروش است یا پیله ور اگر چه پیش خردمند خامشی ادب است\\nبه وقت مصلحت آن به که در سخن کوشی دو چیز طیرهٔ عقل است دم فرو بستن\\nبه وقت گفتن و گفتن به وقت خاموشی فی الجمله زبان از مکالمهٔ او در کشیدن قوّت نداشتم و روی از محاورهٔ او گردانیدن مروّت ندانستم که یار موافق بود و ارادت صادق چو جنگ آوری با کسی برستیز\\nکه از وی گزیرت بود یا گریز به حکم ضرورت سخن گفتم و تفرج کنان بیرون رفتیم در فصل ربیع که صولت برد آرمیده بود و ایام دولت ورد رسیده پیراهن برگ بر درختان\\nچون جامهٔ عید نیکبختان اول اردیبهشت ماه جلالی\\nبلبل گوینده بر منابر قضبان بر گل سرخ از نم اوفتاده لآلی\\nهمچو عرق بر عذار شاهد غضبان شب را به بوستان با یکی از دوستان اتفاق مبیت افتاد، موضعی خوش و خرّم و درختان در هم گفتی که خردهٔ مینا بر خاکش ریخته و عقد ثریا از تارکش آویخته روضةٌ ماءُ نهرِها سَلسال\\nدوحةٌ سَجعُ طیرِها موزون آن پر از لالهای رنگارنگ\\nوین پر از میوه\\u200cهای گوناگون باد در سایهٔ درختانش\\nگسترانیده فرش بوقلمون بامدادان که خاطر باز آمدن بر رای نشستن غالب آمد دیدمش دامنی گل و ریحان و سنبل و ضیمران فراهم آورده و رغبت شهر کرده گفتم: گل بستان را چنان که دانی بقایی و عهد گلستان را وفایی نباشد و حکما گفته\\u200cاند هر چه نپاید دلبستگی را نشاید گفتا: طریق چیست؟ گفتم: برای نزهت ناظران و فسحت حاضران کتاب گلستان توانم تصنیف کردن که باد خزان را بر ورق او دست تطاول نباشد و گردش زمان عیش ربیعش را به طیش خریف مبدل نکند به چه کار آیدت ز گل طبقی\\nاز گلستان من ببر ورقی گل همین پنج روز و شش باشد\\nوین گلستان همیشه خوش باشد حالی که من این بگفتم دامن گل بریخت و در دامنم آویخت که الکریم اذا وعدَ وفا فصلی در همان روز اتفاق بیاض افتاد در حسن معاشرت و آداب محاورت در لباسی که متکلمان را به کار آید و مترسّلان را بلاغت بیفزاید فی الجمله هنوز از گل بستان بقیّتی موجود بود که کتاب گلستان تمام شد و تمام آنگه شود به حقیقت که پسندیده آید در بارگاه شاه جهان پناه سایهٔ کردگار و پرتو لطف پروردگار ذخر زمان و کهف امان المؤیدُ من السماء المنصورُ علی الاعداء عضدُ الدولةِ القاهرةِ سراجُ الملةِ الباهرةِ جمالُ الانامِ مفخرُ الاسلام سعدُ بن الاتابکِ الاعظم شاهنشاه المعظم مولی ملوک العرب و العجم سلطان البر و البحر وارث ملک سلیمان مظفرالدین ابی بکر بن سعد بن زنگی ادام الله اقبالَهما و ضاعَفَ جَلالَهما وَ جعَل الی کلِّ خیر مآلهما و به کرشمه لطف خداوندی مطالعه فرماید گر التفات خداوندیش بیاراید\\nنگارخانه چینی و نقش ارتنگیست امید هست که روی ملال در نکشد\\nاز این سخن که گلستان نه جای دلتنگیست علی الخصوص که دیباچهٔ همایونش\\nبه نام سعد ابوبکر سعد بن زنگیست دیگر عروس فکر من از بی جمالی سر بر نیارد و دیدهٔ یأس از پشت پای خجالت بر ندارد و در زمرهٔ صاحبدلان متجلی نشود مگر آن گه که متحلّی گردد به زیور قبول امیر کبیر عالم عادل مؤید مظفر منصور ظهیر سریر سلطنت و مشیر تدبیر مملکت کهف الفقرا ملاذُ الغربا مربّی الفضلا محبُّ الاتقیا افتخار آل فارس یمینُ الملک ملک الخواص فخر الدولة والدین غیاث الاسلام و المسلمین عمدةُ الملوکِ و السلاطین ابوبکر بنُ ابی نصر اطال الله عمرَه و اجل قدرَه و شرَح صدرَه و ضاعَف اجرَه که ممدوح اکابر آفاق است و مجموع مکارم اخلاق هر که در سایهٔ عنایت اوست\\nگنهش طاعت است و دشمن دوست به هر یک از سایر بندگان حواشی خدمتی متعین است که اگر در ادای برخی از آن تهاون و تکاسل روا دارند در معرض خطاب آیند و در محل عتاب مگر بر این طایفهٔ درویشان که شکر نعمت بزرگان واجب است و ذکر جمیل و دعای خیر و اداء چنین خدمتی در غیبت اولیتر است که در حضور، که آن به تصنع نزدیک است و این از تکلف دور پشت دوتای فلک راست شد از خرّمی\\nتا چو تو فرزند زاد مادر ایام را حکمت محض است اگر لطف جهان آفرین\\nخاص کند بنده\\u200cای مصلحت عام را دولت جاوید یافت هر که نکونام زیست\\nکز عقبش ذکر خیر زنده کند نام را وصف تو را گر کنند ور نکنند اهل فضل\\nحاجت مشّاطه نیست روی دلارام را تقصیر و تقاعدی که در مواظبت خدمت بارگاه خداوندی می\\u200cرود بنا بر آن است که طایفه\\u200cای از حکماء هندوستان در فضایل بزرجمهر سخن می\\u200cگفتند، به آخر جز این عیبش ندانستند که در سخن گفتن بطیء است یعنی درنگ بسیار می\\u200cکند و مستمع را بسی منتظر باید بودن تا تقریر سخنی کند بزرجمهر بشنید و گفت: اندیشه کردن که چه گویم به از پشیمانی خوردن که چرا گفتم سخندان پرورده پیر کهن\\nبیندیشد آن گه بگوید سخن مزن تا توانی به گفتار دم\\nنکو گوی گر دیر گویی چه غم بیندیش وآن گه بر آور نفس\\nو زآن پیش بس کن که گویند بس به نطق آدمی بهتر است از دواب\\nدواب از تو به گر نگویی صواب فکیف در نظر اعیان حضرت خداوندی عزّ نصرُه که مجمع اهل دل است و مرکز علمای متبحر اگر در سیاقت سخن دلیری کنم شوخی کرده باشم و بضاعت مزجاة به حضرت عزیز آورده و شبه در جوهریان جوی نیارد و چراغ پیش آفتاب پرتوی ندارد و مناره بلند بر دامن کوه الوند پست نماید هر که گردن به دعوی افرازد\\nخویشتن را به گردن اندازد سعدی افتاده\\u200cایست آزاده\\nکس نیاید به جنگ افتاده اول اندیشه وآنگهی گفتار\\nپای بست آمده\\u200cست و پس دیوار نخلبندی دانم ولی نه در بستان و شاهدی فروشم ولیکن نه در کنعان لقمان را گفتند: حکمت از که آموختی؟ گفت: از نابینایان که تا جای نبینند پای ننهند قدّم الخروجَ قبلَ الولوجُ، مردیت بیازمای وآنگه زن کن گر چه شاطر بود خروس به جنگ\\nچه زند پیش باز رویین چنگ گربه شیر است در گرفتن موش\\nلیک موش است در مصاف پلنگ اما به اعتماد سعت اخلاق بزرگان که چشم از عوایب زیردستان بپوشند و در افشای جرائم کهتران نکوشند کلمه\\u200cای چند به طریق اختصار از نوادر و امثال و شعر و حکایات و سیر ملوک ماضی رحمهم الله در این کتاب درج کردیم و برخی از عمر گرانمایه بر او خرج، موجب تصنیف کتاب این بود و بالله التوفیق بماند سالها این نظم و ترتیب\\nز ما هر ذرّه خاک افتاده جایی غرض نقشیست کز ما باز ماند\\nکه هستی را نمی بینم بقایی مگر صاحبدلی روزی به رحمت\\nکند در کار درویشان دعایی امعان نظر در ترتیب کتاب و تهذیب ابواب ایجاز سخن مصلحت دید تا بر این روضهٔ غنا و حدیقهٔ غلبا چون بهشت هشت باب اتفاق افتاد از آن مختصر آمد تا به ملال نیانجامد باب اوّل: در سیرت پادشاهان باب دوم: در اخلاق درویشان باب سوم: در فضیلت قناعت باب چهارم: در فواید خاموشی باب پنجم: در عشق و جوانی باب ششم: در ضعف و پیری باب هفتم: در تأثیر تربیت باب هشتم: در آداب صحبت در این مدت که ما را وقت خوش بود\\nز هجرت ششصد و پنجاه و شش بود مراد ما نصیحت بود و گفتیم\\nحوالت با خدا کردیم و رفتیم']],\n",
              "      dtype=object)"
            ]
          },
          "metadata": {},
          "execution_count": 28
        }
      ]
    },
    {
      "cell_type": "markdown",
      "source": [
        "And we can use this to create our file-based retreival system for all our models. But in this notebook, our main retreival systems are retreiving BEITs."
      ],
      "metadata": {
        "id": "qg5JMRYe9-fH"
      }
    },
    {
      "cell_type": "markdown",
      "source": [
        "# TF-IDF Retreival"
      ],
      "metadata": {
        "id": "nOX_ND8tWIua"
      }
    },
    {
      "cell_type": "markdown",
      "source": [
        "Defining cosine function to compute cosine of angle between two vectors in space:\n"
      ],
      "metadata": {
        "id": "VzFGF62QYW6q"
      }
    },
    {
      "cell_type": "code",
      "source": [
        "def get_cosine(v1,v2):\n",
        "    return np.inner(v1, v2) / (np.linalg.norm(v1) * np.linalg.norm(v2))"
      ],
      "metadata": {
        "id": "93XKKu818gp2"
      },
      "execution_count": null,
      "outputs": []
    },
    {
      "cell_type": "markdown",
      "source": [
        "get_most_similars returns k most similar vectos to query_vector based on similarity_func:\n"
      ],
      "metadata": {
        "id": "lAVZh17L3PTD"
      }
    },
    {
      "cell_type": "code",
      "source": [
        "def get_most_similars(document_vectors, query_vector, similarity_func, k=10):\n",
        "    tops = list()\n",
        "    for i, vec in enumerate(document_vectors):\n",
        "        similarity = similarity_func(query_vector, vec)\n",
        "        if not np.isnan(similarity):\n",
        "          tops.append([similarity, all_data[i]])\n",
        "    tops = np.array(tops)\n",
        "    args = np.argsort(tops[:, 0])[::-1]\n",
        "    return list(tops[args[:k]])"
      ],
      "metadata": {
        "id": "BVNrHaMD9VDL"
      },
      "execution_count": null,
      "outputs": []
    },
    {
      "cell_type": "code",
      "source": [
        "from sklearn.feature_extraction.text import TfidfVectorizer\n",
        "\n",
        "tfidf = TfidfVectorizer(analyzer= lambda x: sent_pre_process(x, remove_stopwords=True))\n",
        "tfidf_data = tfidf.fit_transform(all_data)\n",
        "tfidf_data = tfidf_data.toarray()"
      ],
      "metadata": {
        "id": "hNs7OmLAwg4B"
      },
      "execution_count": null,
      "outputs": []
    },
    {
      "cell_type": "code",
      "source": [
        "tfidf_data.shape"
      ],
      "metadata": {
        "colab": {
          "base_uri": "https://localhost:8080/"
        },
        "id": "Lls3kNlmJKeK",
        "outputId": "ac1a5b00-4c8f-48a4-e7ed-660f3133fdb6"
      },
      "execution_count": null,
      "outputs": [
        {
          "output_type": "execute_result",
          "data": {
            "text/plain": [
              "(6566, 10797)"
            ]
          },
          "metadata": {},
          "execution_count": 32
        }
      ]
    },
    {
      "cell_type": "code",
      "source": [
        "def tfidf_retrieval(str, k=10):\n",
        "  tfidf_str = tfidf.transform([str]).toarray()[0]\n",
        "  return pd.DataFrame(get_most_similars(tfidf_data, tfidf_str, get_cosine, k))"
      ],
      "metadata": {
        "id": "l9mPI_LW9XpK"
      },
      "execution_count": null,
      "outputs": []
    },
    {
      "cell_type": "code",
      "source": [
        "tfidf_retrieval('دلم خانه‌ی مهر یار است و بس', k=10)"
      ],
      "metadata": {
        "colab": {
          "base_uri": "https://localhost:8080/"
        },
        "id": "1oc0Zt0K9snq",
        "outputId": "39ffccfd-e823-43a2-995d-62d8522e0d09"
      },
      "execution_count": null,
      "outputs": [
        {
          "output_type": "stream",
          "name": "stderr",
          "text": [
            "/usr/local/lib/python3.7/dist-packages/ipykernel_launcher.py:2: RuntimeWarning: invalid value encountered in double_scalars\n",
            "  \n"
          ]
        },
        {
          "output_type": "execute_result",
          "data": {
            "text/plain": [
              "                     0                                                  1\n",
              "0   0.6832235115151075  دلم خانهٔ مهر یار است و بس\\nاز آن می‌نگنجد در ...\n",
              "1   0.5413772731987289                                        گفت: ای یار\n",
              "2   0.5413772731987289                                      گفت: ای یاران\n",
              "3   0.3613019833857258                                   گفت: ای یار عزیز\n",
              "4    0.310908529569272  خرابت کند شاهد خانه کن\\nبرو خانه آباد گردان به زن\n",
              "5  0.30932197746696155  یکی از لوازم صحبت آن است که خانه بپردازی یا با...\n",
              "6   0.2855158030134369  رهی رو که بینی طریق رجا\\nتو و مهر شمع از کجا ت...\n",
              "7   0.2754478022726963   بر سر لوح او نبشته به زر\\nجور استاد به ز مهر پدر\n",
              "8  0.27440282720818304                               منجمی به خانه در آمد\n",
              "9  0.26910487285512996                              صاحب دعوت گفت: ای یار"
            ],
            "text/html": [
              "\n",
              "  <div id=\"df-34d2ad3f-91bb-4169-a2d2-06b1975d05c5\">\n",
              "    <div class=\"colab-df-container\">\n",
              "      <div>\n",
              "<style scoped>\n",
              "    .dataframe tbody tr th:only-of-type {\n",
              "        vertical-align: middle;\n",
              "    }\n",
              "\n",
              "    .dataframe tbody tr th {\n",
              "        vertical-align: top;\n",
              "    }\n",
              "\n",
              "    .dataframe thead th {\n",
              "        text-align: right;\n",
              "    }\n",
              "</style>\n",
              "<table border=\"1\" class=\"dataframe\">\n",
              "  <thead>\n",
              "    <tr style=\"text-align: right;\">\n",
              "      <th></th>\n",
              "      <th>0</th>\n",
              "      <th>1</th>\n",
              "    </tr>\n",
              "  </thead>\n",
              "  <tbody>\n",
              "    <tr>\n",
              "      <th>0</th>\n",
              "      <td>0.6832235115151075</td>\n",
              "      <td>دلم خانهٔ مهر یار است و بس\\nاز آن می‌نگنجد در ...</td>\n",
              "    </tr>\n",
              "    <tr>\n",
              "      <th>1</th>\n",
              "      <td>0.5413772731987289</td>\n",
              "      <td>گفت: ای یار</td>\n",
              "    </tr>\n",
              "    <tr>\n",
              "      <th>2</th>\n",
              "      <td>0.5413772731987289</td>\n",
              "      <td>گفت: ای یاران</td>\n",
              "    </tr>\n",
              "    <tr>\n",
              "      <th>3</th>\n",
              "      <td>0.3613019833857258</td>\n",
              "      <td>گفت: ای یار عزیز</td>\n",
              "    </tr>\n",
              "    <tr>\n",
              "      <th>4</th>\n",
              "      <td>0.310908529569272</td>\n",
              "      <td>خرابت کند شاهد خانه کن\\nبرو خانه آباد گردان به زن</td>\n",
              "    </tr>\n",
              "    <tr>\n",
              "      <th>5</th>\n",
              "      <td>0.30932197746696155</td>\n",
              "      <td>یکی از لوازم صحبت آن است که خانه بپردازی یا با...</td>\n",
              "    </tr>\n",
              "    <tr>\n",
              "      <th>6</th>\n",
              "      <td>0.2855158030134369</td>\n",
              "      <td>رهی رو که بینی طریق رجا\\nتو و مهر شمع از کجا ت...</td>\n",
              "    </tr>\n",
              "    <tr>\n",
              "      <th>7</th>\n",
              "      <td>0.2754478022726963</td>\n",
              "      <td>بر سر لوح او نبشته به زر\\nجور استاد به ز مهر پدر</td>\n",
              "    </tr>\n",
              "    <tr>\n",
              "      <th>8</th>\n",
              "      <td>0.27440282720818304</td>\n",
              "      <td>منجمی به خانه در آمد</td>\n",
              "    </tr>\n",
              "    <tr>\n",
              "      <th>9</th>\n",
              "      <td>0.26910487285512996</td>\n",
              "      <td>صاحب دعوت گفت: ای یار</td>\n",
              "    </tr>\n",
              "  </tbody>\n",
              "</table>\n",
              "</div>\n",
              "      <button class=\"colab-df-convert\" onclick=\"convertToInteractive('df-34d2ad3f-91bb-4169-a2d2-06b1975d05c5')\"\n",
              "              title=\"Convert this dataframe to an interactive table.\"\n",
              "              style=\"display:none;\">\n",
              "        \n",
              "  <svg xmlns=\"http://www.w3.org/2000/svg\" height=\"24px\"viewBox=\"0 0 24 24\"\n",
              "       width=\"24px\">\n",
              "    <path d=\"M0 0h24v24H0V0z\" fill=\"none\"/>\n",
              "    <path d=\"M18.56 5.44l.94 2.06.94-2.06 2.06-.94-2.06-.94-.94-2.06-.94 2.06-2.06.94zm-11 1L8.5 8.5l.94-2.06 2.06-.94-2.06-.94L8.5 2.5l-.94 2.06-2.06.94zm10 10l.94 2.06.94-2.06 2.06-.94-2.06-.94-.94-2.06-.94 2.06-2.06.94z\"/><path d=\"M17.41 7.96l-1.37-1.37c-.4-.4-.92-.59-1.43-.59-.52 0-1.04.2-1.43.59L10.3 9.45l-7.72 7.72c-.78.78-.78 2.05 0 2.83L4 21.41c.39.39.9.59 1.41.59.51 0 1.02-.2 1.41-.59l7.78-7.78 2.81-2.81c.8-.78.8-2.07 0-2.86zM5.41 20L4 18.59l7.72-7.72 1.47 1.35L5.41 20z\"/>\n",
              "  </svg>\n",
              "      </button>\n",
              "      \n",
              "  <style>\n",
              "    .colab-df-container {\n",
              "      display:flex;\n",
              "      flex-wrap:wrap;\n",
              "      gap: 12px;\n",
              "    }\n",
              "\n",
              "    .colab-df-convert {\n",
              "      background-color: #E8F0FE;\n",
              "      border: none;\n",
              "      border-radius: 50%;\n",
              "      cursor: pointer;\n",
              "      display: none;\n",
              "      fill: #1967D2;\n",
              "      height: 32px;\n",
              "      padding: 0 0 0 0;\n",
              "      width: 32px;\n",
              "    }\n",
              "\n",
              "    .colab-df-convert:hover {\n",
              "      background-color: #E2EBFA;\n",
              "      box-shadow: 0px 1px 2px rgba(60, 64, 67, 0.3), 0px 1px 3px 1px rgba(60, 64, 67, 0.15);\n",
              "      fill: #174EA6;\n",
              "    }\n",
              "\n",
              "    [theme=dark] .colab-df-convert {\n",
              "      background-color: #3B4455;\n",
              "      fill: #D2E3FC;\n",
              "    }\n",
              "\n",
              "    [theme=dark] .colab-df-convert:hover {\n",
              "      background-color: #434B5C;\n",
              "      box-shadow: 0px 1px 3px 1px rgba(0, 0, 0, 0.15);\n",
              "      filter: drop-shadow(0px 1px 2px rgba(0, 0, 0, 0.3));\n",
              "      fill: #FFFFFF;\n",
              "    }\n",
              "  </style>\n",
              "\n",
              "      <script>\n",
              "        const buttonEl =\n",
              "          document.querySelector('#df-34d2ad3f-91bb-4169-a2d2-06b1975d05c5 button.colab-df-convert');\n",
              "        buttonEl.style.display =\n",
              "          google.colab.kernel.accessAllowed ? 'block' : 'none';\n",
              "\n",
              "        async function convertToInteractive(key) {\n",
              "          const element = document.querySelector('#df-34d2ad3f-91bb-4169-a2d2-06b1975d05c5');\n",
              "          const dataTable =\n",
              "            await google.colab.kernel.invokeFunction('convertToInteractive',\n",
              "                                                     [key], {});\n",
              "          if (!dataTable) return;\n",
              "\n",
              "          const docLinkHtml = 'Like what you see? Visit the ' +\n",
              "            '<a target=\"_blank\" href=https://colab.research.google.com/notebooks/data_table.ipynb>data table notebook</a>'\n",
              "            + ' to learn more about interactive tables.';\n",
              "          element.innerHTML = '';\n",
              "          dataTable['output_type'] = 'display_data';\n",
              "          await google.colab.output.renderOutput(dataTable, element);\n",
              "          const docLink = document.createElement('div');\n",
              "          docLink.innerHTML = docLinkHtml;\n",
              "          element.appendChild(docLink);\n",
              "        }\n",
              "      </script>\n",
              "    </div>\n",
              "  </div>\n",
              "  "
            ]
          },
          "metadata": {},
          "execution_count": 34
        }
      ]
    },
    {
      "cell_type": "markdown",
      "source": [
        "# Transformer-based Model"
      ],
      "metadata": {
        "id": "t5Wfi8WS4rzJ"
      }
    },
    {
      "cell_type": "markdown",
      "source": [
        "For this part, we create a model based on [Pars-BERT](https://github.com/hooshvare/parsbert), a pretrained transformer model based on BERT."
      ],
      "metadata": {
        "id": "1XzbzJNX4aZp"
      }
    },
    {
      "cell_type": "code",
      "source": [
        "!pip install -U sentence-transformers"
      ],
      "metadata": {
        "id": "eLL4pZfy4t6Q",
        "colab": {
          "base_uri": "https://localhost:8080/"
        },
        "outputId": "0de39d9c-5222-42ad-f0b5-e25f273a200e"
      },
      "execution_count": 20,
      "outputs": [
        {
          "output_type": "stream",
          "name": "stdout",
          "text": [
            "Looking in indexes: https://pypi.org/simple, https://us-python.pkg.dev/colab-wheels/public/simple/\n",
            "Collecting sentence-transformers\n",
            "  Downloading sentence-transformers-2.2.0.tar.gz (79 kB)\n",
            "\u001b[K     |████████████████████████████████| 79 kB 4.5 MB/s \n",
            "\u001b[?25hCollecting transformers<5.0.0,>=4.6.0\n",
            "  Downloading transformers-4.20.1-py3-none-any.whl (4.4 MB)\n",
            "\u001b[K     |████████████████████████████████| 4.4 MB 15.7 MB/s \n",
            "\u001b[?25hRequirement already satisfied: tqdm in /usr/local/lib/python3.7/dist-packages (from sentence-transformers) (4.64.0)\n",
            "Requirement already satisfied: torch>=1.6.0 in /usr/local/lib/python3.7/dist-packages (from sentence-transformers) (1.11.0+cu113)\n",
            "Requirement already satisfied: torchvision in /usr/local/lib/python3.7/dist-packages (from sentence-transformers) (0.12.0+cu113)\n",
            "Requirement already satisfied: numpy in /usr/local/lib/python3.7/dist-packages (from sentence-transformers) (1.21.6)\n",
            "Requirement already satisfied: scikit-learn in /usr/local/lib/python3.7/dist-packages (from sentence-transformers) (1.0.2)\n",
            "Requirement already satisfied: scipy in /usr/local/lib/python3.7/dist-packages (from sentence-transformers) (1.4.1)\n",
            "Requirement already satisfied: nltk in /usr/local/lib/python3.7/dist-packages (from sentence-transformers) (3.3)\n",
            "Collecting sentencepiece\n",
            "  Downloading sentencepiece-0.1.96-cp37-cp37m-manylinux_2_17_x86_64.manylinux2014_x86_64.whl (1.2 MB)\n",
            "\u001b[K     |████████████████████████████████| 1.2 MB 54.6 MB/s \n",
            "\u001b[?25hCollecting huggingface-hub\n",
            "  Downloading huggingface_hub-0.8.1-py3-none-any.whl (101 kB)\n",
            "\u001b[K     |████████████████████████████████| 101 kB 13.8 MB/s \n",
            "\u001b[?25hRequirement already satisfied: typing-extensions in /usr/local/lib/python3.7/dist-packages (from torch>=1.6.0->sentence-transformers) (4.1.1)\n",
            "Requirement already satisfied: filelock in /usr/local/lib/python3.7/dist-packages (from transformers<5.0.0,>=4.6.0->sentence-transformers) (3.7.1)\n",
            "Collecting tokenizers!=0.11.3,<0.13,>=0.11.1\n",
            "  Downloading tokenizers-0.12.1-cp37-cp37m-manylinux_2_12_x86_64.manylinux2010_x86_64.whl (6.6 MB)\n",
            "\u001b[K     |████████████████████████████████| 6.6 MB 53.2 MB/s \n",
            "\u001b[?25hRequirement already satisfied: regex!=2019.12.17 in /usr/local/lib/python3.7/dist-packages (from transformers<5.0.0,>=4.6.0->sentence-transformers) (2022.6.2)\n",
            "Requirement already satisfied: importlib-metadata in /usr/local/lib/python3.7/dist-packages (from transformers<5.0.0,>=4.6.0->sentence-transformers) (4.11.4)\n",
            "Collecting pyyaml>=5.1\n",
            "  Downloading PyYAML-6.0-cp37-cp37m-manylinux_2_5_x86_64.manylinux1_x86_64.manylinux_2_12_x86_64.manylinux2010_x86_64.whl (596 kB)\n",
            "\u001b[K     |████████████████████████████████| 596 kB 67.5 MB/s \n",
            "\u001b[?25hRequirement already satisfied: packaging>=20.0 in /usr/local/lib/python3.7/dist-packages (from transformers<5.0.0,>=4.6.0->sentence-transformers) (21.3)\n",
            "Requirement already satisfied: requests in /usr/local/lib/python3.7/dist-packages (from transformers<5.0.0,>=4.6.0->sentence-transformers) (2.23.0)\n",
            "Requirement already satisfied: pyparsing!=3.0.5,>=2.0.2 in /usr/local/lib/python3.7/dist-packages (from packaging>=20.0->transformers<5.0.0,>=4.6.0->sentence-transformers) (3.0.9)\n",
            "Requirement already satisfied: zipp>=0.5 in /usr/local/lib/python3.7/dist-packages (from importlib-metadata->transformers<5.0.0,>=4.6.0->sentence-transformers) (3.8.0)\n",
            "Requirement already satisfied: six in /usr/local/lib/python3.7/dist-packages (from nltk->sentence-transformers) (1.15.0)\n",
            "Requirement already satisfied: urllib3!=1.25.0,!=1.25.1,<1.26,>=1.21.1 in /usr/local/lib/python3.7/dist-packages (from requests->transformers<5.0.0,>=4.6.0->sentence-transformers) (1.24.3)\n",
            "Requirement already satisfied: idna<3,>=2.5 in /usr/local/lib/python3.7/dist-packages (from requests->transformers<5.0.0,>=4.6.0->sentence-transformers) (2.10)\n",
            "Requirement already satisfied: certifi>=2017.4.17 in /usr/local/lib/python3.7/dist-packages (from requests->transformers<5.0.0,>=4.6.0->sentence-transformers) (2022.6.15)\n",
            "Requirement already satisfied: chardet<4,>=3.0.2 in /usr/local/lib/python3.7/dist-packages (from requests->transformers<5.0.0,>=4.6.0->sentence-transformers) (3.0.4)\n",
            "Requirement already satisfied: threadpoolctl>=2.0.0 in /usr/local/lib/python3.7/dist-packages (from scikit-learn->sentence-transformers) (3.1.0)\n",
            "Requirement already satisfied: joblib>=0.11 in /usr/local/lib/python3.7/dist-packages (from scikit-learn->sentence-transformers) (1.1.0)\n",
            "Requirement already satisfied: pillow!=8.3.*,>=5.3.0 in /usr/local/lib/python3.7/dist-packages (from torchvision->sentence-transformers) (7.1.2)\n",
            "Building wheels for collected packages: sentence-transformers\n",
            "  Building wheel for sentence-transformers (setup.py) ... \u001b[?25l\u001b[?25hdone\n",
            "  Created wheel for sentence-transformers: filename=sentence_transformers-2.2.0-py3-none-any.whl size=120747 sha256=cfc12af6539a2b9374195e70231c8d23db4e2daf5f17fb3483b3f4dd2183b1d2\n",
            "  Stored in directory: /root/.cache/pip/wheels/83/c0/df/b6873ab7aac3f2465aa9144b6b4c41c4391cfecc027c8b07e7\n",
            "Successfully built sentence-transformers\n",
            "Installing collected packages: pyyaml, tokenizers, huggingface-hub, transformers, sentencepiece, sentence-transformers\n",
            "  Attempting uninstall: pyyaml\n",
            "    Found existing installation: PyYAML 3.13\n",
            "    Uninstalling PyYAML-3.13:\n",
            "      Successfully uninstalled PyYAML-3.13\n",
            "Successfully installed huggingface-hub-0.8.1 pyyaml-6.0 sentence-transformers-2.2.0 sentencepiece-0.1.96 tokenizers-0.12.1 transformers-4.20.1\n"
          ]
        }
      ]
    },
    {
      "cell_type": "code",
      "source": [
        "import sentence_transformers as st\n",
        "import itertools"
      ],
      "metadata": {
        "id": "mHh6_6J94w_D",
        "colab": {
          "base_uri": "https://localhost:8080/"
        },
        "outputId": "5bb3f4ea-61b0-4042-9feb-46f943f1df1f"
      },
      "execution_count": 21,
      "outputs": [
        {
          "output_type": "stream",
          "name": "stderr",
          "text": [
            "/usr/local/lib/python3.7/dist-packages/huggingface_hub/snapshot_download.py:11: FutureWarning: snapshot_download.py has been made private and will no longer be available from version 0.11. Please use `from huggingface_hub import snapshot_download` to import the only public function in this module. Other members of the file may be changed without a deprecation notice.\n",
            "  FutureWarning,\n"
          ]
        }
      ]
    },
    {
      "cell_type": "code",
      "source": [
        "class my_transformer:\n",
        "    def __init__(self, document):\n",
        "        self.data = document\n",
        "        self.x = st.models.Transformer('HooshvareLab/bert-fa-zwnj-base')\n",
        "        self.model = st.SentenceTransformer(modules=[self.x, st.models.Pooling(self.x.get_word_embedding_dimension())])\n",
        "        self.processed_data = pre_process(self.data, remove_stopwords=True, put_index=True, MIN_COUNT=0)\n",
        "        self.processed_data_index = [(' '.join(x[0]), x[1]) for x in self.processed_data]\n",
        "        self.processed_data = [' '.join(x[0]) for x in self.processed_data]\n",
        "        self.vectors = self.model.encode(self.processed_data)\n",
        "    \n",
        "    def search(self, query, k=10):\n",
        "        pre_processed_query = sent_pre_process(query, remove_stopwords=True)\n",
        "        joint_processed_query = ' '.join(pre_processed_query)\n",
        "        tops = list()\n",
        "        query_encode = self.model.encode(joint_processed_query)\n",
        "        sims = st.util.cos_sim(query_encode, self.vectors).numpy()[0]\n",
        "        indexes = np.argsort(sims)[::-1][:k]\n",
        "        tops = list()\n",
        "        for ind in indexes:\n",
        "            tops.append((sims[ind], self.data[self.processed_data_index[ind][1]]))\n",
        "        return tops"
      ],
      "metadata": {
        "id": "JMd8sKCC4yl5"
      },
      "execution_count": 97,
      "outputs": []
    },
    {
      "cell_type": "code",
      "source": [
        "transformer_model = my_transformer(all_data)"
      ],
      "metadata": {
        "id": "Rm-GS65V4z9L"
      },
      "execution_count": null,
      "outputs": []
    },
    {
      "cell_type": "code",
      "source": [
        "transformer_model.search('به نام خداوند جان آفرین')"
      ],
      "metadata": {
        "id": "h5ih_vTg41Nx"
      },
      "execution_count": null,
      "outputs": []
    },
    {
      "cell_type": "markdown",
      "source": [
        "# Word Embedding"
      ],
      "metadata": {
        "id": "OzM4n6pznPyJ"
      }
    },
    {
      "cell_type": "markdown",
      "source": [
        "We'll use Word2Vec as our model for for Word Embedding:"
      ],
      "metadata": {
        "id": "lRoXjJXQ5GLp"
      }
    },
    {
      "cell_type": "code",
      "source": [
        "from gensim.models import Word2Vec"
      ],
      "metadata": {
        "id": "DfQxws4kNtzc"
      },
      "execution_count": null,
      "outputs": []
    },
    {
      "cell_type": "code",
      "source": [
        "def get_all_words(document):\n",
        "    all_words = {}\n",
        "    for line in pre_process(document['poem'], remove_stopwords=True):\n",
        "        for w in line:\n",
        "            if w not in all_words:\n",
        "                all_words[w] = 0\n",
        "            all_words[w] += 1\n",
        "    return all_words"
      ],
      "metadata": {
        "id": "zD2X62_tN8QV"
      },
      "execution_count": null,
      "outputs": []
    },
    {
      "cell_type": "code",
      "source": [
        "print(pre_process(boostan_data['poem']))"
      ],
      "metadata": {
        "id": "afxvqD91I017"
      },
      "execution_count": null,
      "outputs": []
    },
    {
      "cell_type": "code",
      "source": [
        "import itertools"
      ],
      "metadata": {
        "id": "IOjLkWWcMSvW"
      },
      "execution_count": null,
      "outputs": []
    },
    {
      "cell_type": "code",
      "source": [
        "from sklearn.feature_extraction.text import TfidfTransformer\n",
        "\n",
        "idf = TfidfTransformer(smooth_idf=True,use_idf=True) \n",
        "idf.fit(tf_data);"
      ],
      "metadata": {
        "id": "3p_AKZoNF6hZ"
      },
      "execution_count": null,
      "outputs": []
    },
    {
      "cell_type": "code",
      "source": [
        "idf_data = idf.idf_\n",
        "idf_data.shape\n",
        "idf_dataframe = pd.Series(idf_data, index=tf.get_feature_names())\n",
        "idf_dataframe.head()"
      ],
      "metadata": {
        "id": "D0VvclsIGOWI"
      },
      "execution_count": null,
      "outputs": []
    },
    {
      "cell_type": "code",
      "source": [
        "class my_word2vec:\n",
        "    def __init__(self, document):\n",
        "        self.data = document\n",
        "        # all_words = get_all_words(document)\n",
        "        x = pre_process(document, remove_stopwords=True)\n",
        "        self.model = Word2Vec(x)\n",
        "\n",
        "    def get_most_similar_word_to_word(self, word):\n",
        "        return self.model.wv.most_similar(word)\n",
        "\n",
        "    def get_similarity(self, query, line):\n",
        "        pre_processed_query = sent_pre_process(query, remove_stopwords=True)\n",
        "        pre_processed_line = sent_pre_process(line, remove_stopwords=True)\n",
        "        query_vector = self.word_summation(pre_processed_query)\n",
        "        line_vector = self.word_summation(pre_processed_line)\n",
        "        return get_cosine(query_vector, line_vector)\n",
        "\n",
        "    def word_summation(self, sent):\n",
        "        vector = np.zeros(self.model.wv.vector_size, dtype=np.float64)\n",
        "        weight_sum = 0\n",
        "        for word in sent:\n",
        "          try:\n",
        "            weight = idf_dataframe[word]\n",
        "            vector += self.model.wv[word] * weight\n",
        "            weight_sum += weight\n",
        "          except:\n",
        "            pass\n",
        "        return vector / weight_sum\n",
        "\n",
        "    def search(self, sentence, k=10):\n",
        "        tops = list()\n",
        "        for line in self.data:\n",
        "            similarity = self.get_similarity(sentence, line)\n",
        "            if not np.isnan(similarity):\n",
        "              tops.append([similarity, line])\n",
        "        tops = np.array(tops)\n",
        "        args = np.argsort(tops[:, 0])[::-1]\n",
        "        return list(tops[args[:k]])\n",
        "\n",
        "    def get_vec(self, doc):\n",
        "        return self.model.infer_vector(pre_process(doc)[0])"
      ],
      "metadata": {
        "id": "ewy31-_D2O9H"
      },
      "execution_count": null,
      "outputs": []
    },
    {
      "cell_type": "code",
      "source": [
        "model = my_word2vec(all_data)"
      ],
      "metadata": {
        "id": "iUHgtPtXvTcA"
      },
      "execution_count": null,
      "outputs": []
    },
    {
      "cell_type": "code",
      "source": [
        "beit = 'به نام خداوند جان و خرد'"
      ],
      "metadata": {
        "id": "pGyJeUQm5mQx"
      },
      "execution_count": null,
      "outputs": []
    },
    {
      "cell_type": "code",
      "source": [
        "for x in model.search(beit):\n",
        "    print(x[0], x[1])"
      ],
      "metadata": {
        "id": "9av51TeTlsyJ"
      },
      "execution_count": null,
      "outputs": []
    },
    {
      "cell_type": "markdown",
      "source": [
        "# MMR and Evaluating Model"
      ],
      "metadata": {
        "id": "r1F_QOe75QSy"
      }
    },
    {
      "cell_type": "code",
      "source": [
        "dataset_queries = pd.read_csv('HW3-Dataset.csv', names=['query', 'user1', 'user2', 'user3'])\n",
        "queries = []"
      ],
      "metadata": {
        "id": "15_aICkczPcp"
      },
      "execution_count": null,
      "outputs": []
    },
    {
      "cell_type": "code",
      "source": [
        "for row in dataset_queries['query'].dropna():\n",
        "    if row.startswith('q'):\n",
        "        queries.append(row.split('\"')[-2])"
      ],
      "metadata": {
        "id": "UHgt0Js5zn4O"
      },
      "execution_count": null,
      "outputs": []
    },
    {
      "cell_type": "markdown",
      "source": [
        "xlsx_extract, creates a xlxx file for each of four methods, containing 10 responses for each of 10 queries. We will use these files to label our retreived documents.\n"
      ],
      "metadata": {
        "id": "I_Y0ux1m5juX"
      }
    },
    {
      "cell_type": "code",
      "source": [
        "def xlsx_extract(output, response_dict):\n",
        "    dataframe_list = []\n",
        "    i = 1\n",
        "    for key, value in response_dict.items():\n",
        "        dataframe_list.append(f'q{i} = \"{key}\"')\n",
        "        for sent in value:\n",
        "            dataframe_list.append(sent)\n",
        "        i += 1\n",
        "\n",
        "    df = pd.DataFrame({'query/response': dataframe_list,\n",
        "                'user1': np.nan,\n",
        "                'user2': np.nan,\n",
        "                'user3': np.nan})\n",
        "    df.to_excel(output, index=False)  "
      ],
      "metadata": {
        "id": "13u3JYrZ2kTh"
      },
      "execution_count": null,
      "outputs": []
    },
    {
      "cell_type": "markdown",
      "source": [
        "Extracting responses for each of four models:"
      ],
      "metadata": {
        "id": "xpMgrBW0553X"
      }
    },
    {
      "cell_type": "code",
      "source": [
        "# boolean_retrieval extract xlsx\n",
        "response_dict = {}\n",
        "\n",
        "for query in queries:\n",
        "    response = boolean_retrieval(query)\n",
        "    response_dict[query] = []\n",
        "    for number, sent in response:\n",
        "        response_dict[query].append(sent)\n",
        "\n",
        "xlsx_extract('boolean.xlsx', response_dict)"
      ],
      "metadata": {
        "id": "mWAh8cO31tUI"
      },
      "execution_count": null,
      "outputs": []
    },
    {
      "cell_type": "code",
      "source": [
        "# tfidf_retrieval extract xlsx\n",
        "response_dict = {}\n",
        "\n",
        "for query in queries:\n",
        "    response = tfidf_retrieval(query)\n",
        "    response_dict[query] = []\n",
        "    for sent in response[1]:\n",
        "        response_dict[query].append(sent)\n",
        "\n",
        "xlsx_extract('tfidf.xlsx', response_dict)"
      ],
      "metadata": {
        "id": "-E11wIHC4OR0"
      },
      "execution_count": null,
      "outputs": []
    },
    {
      "cell_type": "code",
      "source": [
        "queries"
      ],
      "metadata": {
        "id": "1wJkCNM0CdQ5"
      },
      "execution_count": null,
      "outputs": []
    },
    {
      "cell_type": "code",
      "source": [
        "# word2vec extract xlsx\n",
        "response_dict = {}\n",
        "model = my_word2vec(all_data)\n",
        "\n",
        "for query in queries:\n",
        "    response = model.search(query)\n",
        "    response_dict[query] = []\n",
        "    for sent in response:\n",
        "        response_dict[query].append(sent[1])\n",
        "\n",
        "xlsx_extract('word2vec.xlsx', response_dict)"
      ],
      "metadata": {
        "id": "cJ15YO0D9-Xo"
      },
      "execution_count": null,
      "outputs": []
    },
    {
      "cell_type": "code",
      "source": [
        "# transformer extract xlsx\n",
        "response_dict = {}\n",
        "model = my_transformer(all_data)\n",
        "\n",
        "for query in queries:\n",
        "    response = model.search(query)\n",
        "    response_dict[query] = []\n",
        "    for sent in response:\n",
        "        response_dict[query].append(sent[1])\n",
        "\n",
        "xlsx_extract('transformer.xlsx', response_dict)"
      ],
      "metadata": {
        "id": "ubq1tdFVoMZh"
      },
      "execution_count": null,
      "outputs": []
    },
    {
      "cell_type": "markdown",
      "source": [
        "Computing MRRs:"
      ],
      "metadata": {
        "id": "LbcAmlDxGRoI"
      }
    },
    {
      "cell_type": "code",
      "source": [
        "# MRR\n",
        "\n",
        "methods = ['boolean', 'tfidf', 'word2vec', 'transformer']\n",
        "\n",
        "for method in methods:\n",
        "  df = pd.read_csv(f'labeled-output/{method}-labeled.csv', names=['query', 'user1', 'user2', 'user3'], encoding='utf-8')\n",
        "  user1_vector = np.array(df['user1'])[1:]\n",
        "  user2_vector = np.array(df['user2'])[1:]\n",
        "  user3_vector = np.array(df['user3'])[1:]\n",
        "  score_vector = np.concatenate([user1_vector.reshape([10, 11])[:, 1:],\n",
        "                    user2_vector.reshape([10, 11])[:, 1:],\n",
        "                    user3_vector.reshape([10, 11])[:, 1:]])\n",
        "\n",
        "  score_list = []\n",
        "\n",
        "  for score in score_vector:\n",
        "      for i, x in enumerate(score):\n",
        "          if x == '1':\n",
        "              score_list.append(1/(i + 1))\n",
        "              break\n",
        "          elif i == 9:\n",
        "              score_list.append(0)\n",
        "\n",
        "  MRR_score = sum(score_list) / len(score_list)\n",
        "\n",
        "  print(f'MRR score for method {method} is: {MRR_score:.3f}')"
      ],
      "metadata": {
        "id": "TXXsHsxjFWw0"
      },
      "execution_count": null,
      "outputs": []
    },
    {
      "cell_type": "markdown",
      "source": [
        "# Phase 2: Classification and Clustering"
      ],
      "metadata": {
        "id": "_wC62OVRMaSa"
      }
    },
    {
      "cell_type": "markdown",
      "source": [
        "## Data Preparation"
      ],
      "metadata": {
        "id": "cY-bLJBwMfaI"
      }
    },
    {
      "cell_type": "code",
      "source": [
        "data = boostan_data.drop(columns = ['section'])"
      ],
      "metadata": {
        "id": "z5vJyDw_JRBS"
      },
      "execution_count": null,
      "outputs": []
    },
    {
      "cell_type": "code",
      "source": [
        "data.chapter.value_counts()"
      ],
      "metadata": {
        "colab": {
          "base_uri": "https://localhost:8080/"
        },
        "id": "zpWgx74SMqUs",
        "outputId": "eae18a62-73be-46b0-ce3d-9df3d3c65f7b"
      },
      "execution_count": null,
      "outputs": [
        {
          "output_type": "execute_result",
          "data": {
            "text/plain": [
              "1     910\n",
              "4     524\n",
              "2     502\n",
              "7     445\n",
              "3     365\n",
              "9     336\n",
              "8     275\n",
              "0     219\n",
              "5     203\n",
              "6     172\n",
              "10    113\n",
              "Name: chapter, dtype: int64"
            ]
          },
          "metadata": {},
          "execution_count": 36
        }
      ]
    },
    {
      "cell_type": "markdown",
      "source": [
        "As you can see, our classes are imbalanced and Chapter 1 of boostan has a larger amount of verses in it."
      ],
      "metadata": {
        "id": "bBzVsy-TQ7X9"
      }
    },
    {
      "cell_type": "markdown",
      "source": [
        "Splitting test and train data:"
      ],
      "metadata": {
        "id": "1GjuJQkAMt-Y"
      }
    },
    {
      "cell_type": "code",
      "source": [
        "from sklearn.model_selection import train_test_split"
      ],
      "metadata": {
        "id": "VUC_PiH2MtA4"
      },
      "execution_count": null,
      "outputs": []
    },
    {
      "cell_type": "code",
      "source": [
        "#split test-train data\n",
        "X_train, X_test, y_train, y_test = train_test_split(data['poem'], data['chapter'], test_size=0.2, random_state=23)"
      ],
      "metadata": {
        "id": "_r61hsEmM0u7"
      },
      "execution_count": null,
      "outputs": []
    },
    {
      "cell_type": "code",
      "source": [
        "X_train.shape, X_test.shape, y_train.shape, y_test.shape"
      ],
      "metadata": {
        "colab": {
          "base_uri": "https://localhost:8080/"
        },
        "id": "rducJWGKM5F4",
        "outputId": "a2829498-ee79-4c23-bb93-5466a16b3e36"
      },
      "execution_count": null,
      "outputs": [
        {
          "output_type": "execute_result",
          "data": {
            "text/plain": [
              "((3251,), (813,), (3251,), (813,))"
            ]
          },
          "metadata": {},
          "execution_count": 39
        }
      ]
    },
    {
      "cell_type": "markdown",
      "source": [
        "Because we are dealing with an imbalanced classification problem and our main metric is F1 score and True Positives are important to us, we give each class a weight and in our `pytorch` models, use them in CrossEntropyLoss to consider this imbalanceness in training."
      ],
      "metadata": {
        "id": "qazNJa7RGkyg"
      }
    },
    {
      "cell_type": "code",
      "source": [
        "class_weight = data['chapter'].count() / data['chapter'].value_counts()\n",
        "class_weight"
      ],
      "metadata": {
        "colab": {
          "base_uri": "https://localhost:8080/"
        },
        "id": "HLS59kaTGjwK",
        "outputId": "79440a96-df7e-40a6-feed-3c695b447b30"
      },
      "execution_count": null,
      "outputs": [
        {
          "output_type": "execute_result",
          "data": {
            "text/plain": [
              "1      4.465934\n",
              "4      7.755725\n",
              "2      8.095618\n",
              "7      9.132584\n",
              "3     11.134247\n",
              "9     12.095238\n",
              "8     14.778182\n",
              "0     18.557078\n",
              "5     20.019704\n",
              "6     23.627907\n",
              "10    35.964602\n",
              "Name: chapter, dtype: float64"
            ]
          },
          "metadata": {},
          "execution_count": 40
        }
      ]
    },
    {
      "cell_type": "markdown",
      "source": [
        "# Classification"
      ],
      "metadata": {
        "id": "010_x56AF-Sc"
      }
    },
    {
      "cell_type": "code",
      "source": [
        "from sklearn.metrics import accuracy_score, precision_score, recall_score, f1_score\n",
        "from sklearn.metrics import confusion_matrix\n",
        "\n",
        "import matplotlib.pyplot as plt\n",
        "import seaborn as sns"
      ],
      "metadata": {
        "id": "k3EICuY74PwI"
      },
      "execution_count": null,
      "outputs": []
    },
    {
      "cell_type": "markdown",
      "source": [
        "Number of Classes that we classify:"
      ],
      "metadata": {
        "id": "mqI68TvQYMV5"
      }
    },
    {
      "cell_type": "code",
      "source": [
        "num_class = 11"
      ],
      "metadata": {
        "id": "u1Da-jjdYL9a"
      },
      "execution_count": null,
      "outputs": []
    },
    {
      "cell_type": "markdown",
      "source": [
        "### Vectorizing data using TF-IDF:"
      ],
      "metadata": {
        "id": "dq8GZ_mINJMj"
      }
    },
    {
      "cell_type": "code",
      "source": [
        "tfidf = TfidfVectorizer(analyzer=lambda x: sent_pre_process(x, remove_stopwords=True))\n",
        "tfidf_X_train = tfidf.fit_transform(X_train).toarray()\n",
        "tfidf_X_test = tfidf.transform(X_test).toarray()\n",
        "tfidf_X_train.shape, tfidf_X_test.shape"
      ],
      "metadata": {
        "colab": {
          "base_uri": "https://localhost:8080/"
        },
        "id": "hwx48IiNNP6v",
        "outputId": "c47108a4-1b30-43c2-a7e4-0fe26e0c67aa"
      },
      "execution_count": null,
      "outputs": [
        {
          "output_type": "execute_result",
          "data": {
            "text/plain": [
              "((3251, 6124), (813, 6124))"
            ]
          },
          "metadata": {},
          "execution_count": 43
        }
      ]
    },
    {
      "cell_type": "markdown",
      "source": [
        "Defining functions for printing metrics and plotting confusion matrices:"
      ],
      "metadata": {
        "id": "mizEsYmwazTR"
      }
    },
    {
      "cell_type": "code",
      "source": [
        "# we'll use this function for evaluation of metrics: accuracy, precision, recall, and f1 of our models in the future\n",
        "def print_metrics_evaluation(true_y, pred_y, model_name=None, average='macro'):\n",
        "    if model_name is not None:\n",
        "        print(f'{model_name}:')\n",
        "    print(\n",
        "f'''accuracy_score = {accuracy_score(true_y, pred_y)}\n",
        "precision_score = {precision_score(true_y, pred_y, average=average)}\n",
        "recall_score = {recall_score(true_y, pred_y, average=average)}\n",
        "f1_score = {f1_score(true_y, pred_y, average=average)}\n",
        "''')"
      ],
      "metadata": {
        "id": "0B3Sq_TK4EC1"
      },
      "execution_count": null,
      "outputs": []
    },
    {
      "cell_type": "code",
      "source": [
        "# for plotting confusion matrix \n",
        "def plot_confusion_matrix(y_test, test_pred):\n",
        "  sns.heatmap(confusion_matrix(y_test, test_pred), annot=True, cmap='Accent');"
      ],
      "metadata": {
        "id": "14_zwn9Ma5NJ"
      },
      "execution_count": null,
      "outputs": []
    },
    {
      "cell_type": "markdown",
      "source": [
        "### Tree Classifiers"
      ],
      "metadata": {
        "id": "g1m7P9bisGCe"
      }
    },
    {
      "cell_type": "markdown",
      "source": [
        "#### DecisionTreeClassifier:\n",
        "DecisionTreeClassifier is basic tree based classifier in Sklearn llibrary:"
      ],
      "metadata": {
        "id": "DPgZlPcgQiEO"
      }
    },
    {
      "cell_type": "code",
      "source": [
        "from sklearn.tree import DecisionTreeClassifier\n",
        "\n",
        "clf = DecisionTreeClassifier(random_state=0, min_samples_split=20, class_weight=class_weight.to_dict())\n",
        "clf.fit(tfidf_X_train, y_train)"
      ],
      "metadata": {
        "colab": {
          "base_uri": "https://localhost:8080/"
        },
        "id": "JwnHPopmHejT",
        "outputId": "d70e6bed-6828-4a68-b47d-15631e0537d0"
      },
      "execution_count": null,
      "outputs": [
        {
          "output_type": "execute_result",
          "data": {
            "text/plain": [
              "DecisionTreeClassifier(class_weight={0: 18.557077625570777,\n",
              "                                     1: 4.465934065934066, 2: 8.095617529880478,\n",
              "                                     3: 11.134246575342466,\n",
              "                                     4: 7.755725190839694,\n",
              "                                     5: 20.019704433497537,\n",
              "                                     6: 23.627906976744185,\n",
              "                                     7: 9.132584269662921,\n",
              "                                     8: 14.778181818181817,\n",
              "                                     9: 12.095238095238095,\n",
              "                                     10: 35.9646017699115},\n",
              "                       min_samples_split=20, random_state=0)"
            ]
          },
          "metadata": {},
          "execution_count": 47
        }
      ]
    },
    {
      "cell_type": "code",
      "source": [
        "train_pred = clf.predict(tfidf_X_train)\n",
        "test_pred = clf.predict(tfidf_X_test)\n",
        "\n",
        "print_metrics_evaluation(y_train, train_pred, model_name='Train Set', average='macro')\n",
        "print_metrics_evaluation(y_test, test_pred, model_name='Test Set', average='macro')\n",
        "plot_confusion_matrix(y_test, test_pred)"
      ],
      "metadata": {
        "colab": {
          "base_uri": "https://localhost:8080/",
          "height": 473
        },
        "id": "iu9zgXsRIkhK",
        "outputId": "be0f18ed-f101-4819-d81b-13cbe474382e"
      },
      "execution_count": null,
      "outputs": [
        {
          "output_type": "stream",
          "name": "stdout",
          "text": [
            "Train Set:\n",
            "accuracy_score = 0.6927099354044909\n",
            "precision_score = 0.6748283995188987\n",
            "recall_score = 0.7674640294573823\n",
            "f1_score = 0.6965800942953589\n",
            "\n",
            "Test Set:\n",
            "accuracy_score = 0.2017220172201722\n",
            "precision_score = 0.17957291521974694\n",
            "recall_score = 0.19077614996897935\n",
            "f1_score = 0.17948128022149423\n",
            "\n"
          ]
        },
        {
          "output_type": "display_data",
          "data": {
            "text/plain": [
              "<Figure size 432x288 with 2 Axes>"
            ],
            "image/png": "[encoded data removed]"
          },
          "metadata": {
            "needs_background": "light"
          }
        }
      ]
    },
    {
      "cell_type": "markdown",
      "source": [
        "#### XGBoost:\n",
        "XGBoost is a Desicion-Tree based model which benefits from ensembles and gradient boosting:"
      ],
      "metadata": {
        "id": "nj3IHGV47WWq"
      }
    },
    {
      "cell_type": "code",
      "source": [
        "import xgboost as xgb"
      ],
      "metadata": {
        "id": "j0csM-R8sEL3"
      },
      "execution_count": null,
      "outputs": []
    },
    {
      "cell_type": "code",
      "source": [
        "D_train = xgb.DMatrix(tfidf_X_train, label=y_train)\n",
        "D_test = xgb.DMatrix(tfidf_X_test, label=y_test)"
      ],
      "metadata": {
        "id": "5RiDRJfGyezr"
      },
      "execution_count": null,
      "outputs": []
    },
    {
      "cell_type": "code",
      "source": [
        "step = 20\n",
        "\n",
        "param = {\n",
        "    'eta': 0.3,\n",
        "    'objective': 'multi:softmax',\n",
        "    'num_class': num_class\n",
        "}\n",
        "\n",
        "model = xgb.train(param, D_train, step)"
      ],
      "metadata": {
        "id": "ywgIkuqL1rAY"
      },
      "execution_count": null,
      "outputs": []
    },
    {
      "cell_type": "code",
      "source": [
        "train_preds = model.predict(D_train)\n",
        "test_preds = model.predict(D_test)\n",
        "\n",
        "print_metrics_evaluation(y_train, train_preds, model_name='Train Set', average='macro')\n",
        "print_metrics_evaluation(y_test, test_preds, model_name='Test Set', average='macro')\n",
        "plot_confusion_matrix(y_test, test_preds)"
      ],
      "metadata": {
        "colab": {
          "base_uri": "https://localhost:8080/",
          "height": 473
        },
        "id": "0yVS83fbC7Tu",
        "outputId": "62a57871-b5ab-4d68-9fb1-e0f21283caff"
      },
      "execution_count": null,
      "outputs": [
        {
          "output_type": "stream",
          "name": "stdout",
          "text": [
            "Train Set:\n",
            "accuracy_score = 0.4290987388495847\n",
            "precision_score = 0.6636532776698513\n",
            "recall_score = 0.32633134727017227\n",
            "f1_score = 0.3895537243545472\n",
            "\n",
            "Test Set:\n",
            "accuracy_score = 0.27060270602706027\n",
            "precision_score = 0.2821784902468437\n",
            "recall_score = 0.17441582112500734\n",
            "f1_score = 0.1809264007395968\n",
            "\n"
          ]
        },
        {
          "output_type": "display_data",
          "data": {
            "text/plain": [
              "<Figure size 432x288 with 2 Axes>"
            ],
            "image/png": "[encoded data removed]"
          },
          "metadata": {
            "needs_background": "light"
          }
        }
      ]
    },
    {
      "cell_type": "markdown",
      "source": [
        "### Deep Neural Network models:"
      ],
      "metadata": {
        "id": "Qui7p0PDP9DC"
      }
    },
    {
      "cell_type": "markdown",
      "source": [
        "We need validation dataset for this part:"
      ],
      "metadata": {
        "id": "-7cLAkozRnJa"
      }
    },
    {
      "cell_type": "code",
      "source": [
        "X_train, X_val, y_train, y_val = train_test_split(X_train, y_train, test_size=0.2, random_state=23)"
      ],
      "metadata": {
        "id": "Nb6OmoKEQqse"
      },
      "execution_count": null,
      "outputs": []
    },
    {
      "cell_type": "code",
      "source": [
        "tfidf_X_val = tfidf.transform(X_val).toarray()\n",
        "tfidf_X_train = tfidf.transform(X_train).toarray()"
      ],
      "metadata": {
        "id": "mjbLS-gVVc4a"
      },
      "execution_count": null,
      "outputs": []
    },
    {
      "cell_type": "markdown",
      "source": [
        "#### Pytorch:\n",
        "(Unfortunately this model gets poor f1 scores but we have kept it for showing our different models that we tried.)"
      ],
      "metadata": {
        "id": "A_P7mTz1VRy3"
      }
    },
    {
      "cell_type": "markdown",
      "source": [
        "Importing required libraries"
      ],
      "metadata": {
        "id": "dV96phqnQUZP"
      }
    },
    {
      "cell_type": "code",
      "source": [
        "import torch\n",
        "import torch.nn as nn\n",
        "import torch.nn.functional as F\n",
        "import tqdm\n",
        "\n",
        "from typing import Tuple\n",
        "from torch.utils.data import Dataset, DataLoader"
      ],
      "metadata": {
        "id": "aHnkbLf7GA3k"
      },
      "execution_count": null,
      "outputs": []
    },
    {
      "cell_type": "markdown",
      "source": [
        "for using GPU if possible:"
      ],
      "metadata": {
        "id": "-FNtWXBkQdfB"
      }
    },
    {
      "cell_type": "code",
      "source": [
        "device = torch.device('cuda' if torch.cuda.is_available() else 'cpu')\n",
        "device"
      ],
      "metadata": {
        "colab": {
          "base_uri": "https://localhost:8080/"
        },
        "id": "PUv61GocQbJP",
        "outputId": "bf16db0e-3cd3-486d-b64b-6b60d9011524"
      },
      "execution_count": null,
      "outputs": [
        {
          "output_type": "execute_result",
          "data": {
            "text/plain": [
              "device(type='cuda')"
            ]
          },
          "metadata": {},
          "execution_count": 47
        }
      ]
    },
    {
      "cell_type": "markdown",
      "source": [
        "Defining a simple Dataset class for our data used by pytorch models:"
      ],
      "metadata": {
        "id": "fehHwNTrQmue"
      }
    },
    {
      "cell_type": "code",
      "source": [
        "class BoostanDataset(Dataset):\n",
        "    def __init__(self, X: np.ndarray, Y: np.ndarray):\n",
        "        self.X = torch.from_numpy(X)\n",
        "        self.Y = torch.from_numpy(Y)\n",
        "\n",
        "    def __len__(self) -> int:\n",
        "        return self.X.shape[0]\n",
        "\n",
        "    def __getitem__(self, i: int) -> Tuple[torch.Tensor, ...]:\n",
        "        return self.X[i], self.Y[i]"
      ],
      "metadata": {
        "id": "eCm2d_aqQkpv"
      },
      "execution_count": null,
      "outputs": []
    },
    {
      "cell_type": "markdown",
      "source": [
        "We define a simple neural network model consisting multiple Linear layers, ReLU activation functions and Dropout for preventing overfitting on training data.  "
      ],
      "metadata": {
        "id": "ORlIW8vxSftZ"
      }
    },
    {
      "cell_type": "code",
      "source": [
        "class BoostanClassifier(nn.Module):\n",
        "\n",
        "    def __init__(self, input_size, num_class, dropout=0.5):\n",
        "        super().__init__()\n",
        "        self.input_size = input_size\n",
        "        self.num_class = num_class\n",
        "        self.dropout = nn.Dropout(p=dropout)\n",
        "        self.lnn = nn.Sequential(\n",
        "            nn.Linear(self.input_size, 64),\n",
        "            nn.ReLU(),\n",
        "            self.dropout,\n",
        "            nn.Linear(64, 32),\n",
        "            nn.ReLU(),\n",
        "            self.dropout,\n",
        "            nn.Linear(32, num_class),\n",
        "        )\n",
        "        \n",
        "    def forward(self, x: torch.tensor):\n",
        "        x = x.view(-1, self.input_size)\n",
        "        return self.lnn(x)\n",
        "\n",
        "    def predict(self, x):\n",
        "        return self.forward(x)"
      ],
      "metadata": {
        "id": "zpMVRw2QSPwN"
      },
      "execution_count": null,
      "outputs": []
    },
    {
      "cell_type": "code",
      "source": [
        "from sklearn.feature_selection import SelectKBest, chi2\n",
        "\n",
        "feature_selector = SelectKBest(chi2, k=40)\n",
        "train_X = feature_selector.fit_transform(tfidf_X_train, y_train)\n",
        "val_X = feature_selector.transform(tfidf_X_val)\n",
        "test_X = feature_selector.transform(tfidf_X_test)"
      ],
      "metadata": {
        "id": "f_upv8WMkDct"
      },
      "execution_count": null,
      "outputs": []
    },
    {
      "cell_type": "code",
      "source": [
        "train_X.shape, val_X.shape, test_X.shape"
      ],
      "metadata": {
        "colab": {
          "base_uri": "https://localhost:8080/"
        },
        "id": "tzeM4x-Ok5VD",
        "outputId": "5dbbab78-1e0e-465d-c92c-fac01c45ded2"
      },
      "execution_count": null,
      "outputs": [
        {
          "output_type": "execute_result",
          "data": {
            "text/plain": [
              "((2080, 40), (520, 40), (813, 40))"
            ]
          },
          "metadata": {},
          "execution_count": 111
        }
      ]
    },
    {
      "cell_type": "markdown",
      "source": [
        "Creating Dataset and Dataloader from our training and validation and test data:"
      ],
      "metadata": {
        "id": "kqoS7C-xTfpx"
      }
    },
    {
      "cell_type": "code",
      "source": [
        "target = 'chapter'\n",
        "batch_size = 32\n",
        "\n",
        "train_set = BoostanDataset(train_X, y_train.to_numpy())\n",
        "val_set = BoostanDataset(val_X, y_val.to_numpy())\n",
        "test_set = BoostanDataset(test_X, y_test.to_numpy())\n",
        "\n",
        "train_loader = DataLoader(dataset=train_set, batch_size=batch_size, shuffle=False)\n",
        "val_loader = DataLoader(dataset=val_set, batch_size=batch_size, shuffle=False)\n",
        "test_loader = DataLoader(dataset=test_set, batch_size=batch_size, shuffle=False)"
      ],
      "metadata": {
        "id": "4c7fswUKTbwS"
      },
      "execution_count": null,
      "outputs": []
    },
    {
      "cell_type": "markdown",
      "source": [
        "Note how we used class weights in Loss funcion in order to get a better F1 score:"
      ],
      "metadata": {
        "id": "pwLHmiWXaTuA"
      }
    },
    {
      "cell_type": "code",
      "source": [
        "# setting config:\n",
        "model = BoostanClassifier(test_X.shape[1], num_class).to(device).double()\n",
        "criterion = nn.CrossEntropyLoss().to(device)\n",
        "lr=1e-4\n",
        "optimizer = torch.optim.Adam(model.parameters(), lr=lr)\n"
      ],
      "metadata": {
        "id": "1JNkKOHtaN-H"
      },
      "execution_count": null,
      "outputs": []
    },
    {
      "cell_type": "markdown",
      "source": [
        "Creating train and validate functions for more convenience."
      ],
      "metadata": {
        "id": "wCdX5SEhWxfK"
      }
    },
    {
      "cell_type": "code",
      "source": [
        "def train(model, criterion, optimizer, epoch):\n",
        "    train_loss = 0\n",
        "    N_train = len(train_loader.dataset)\n",
        "\n",
        "    model.train()\n",
        "    with tqdm.tqdm(enumerate(train_loader), total=len(train_loader)) as pbar:\n",
        "        for i, (x, y) in pbar:\n",
        "            optimizer.zero_grad()\n",
        "\n",
        "            x = x.to(device)\n",
        "            y = y.to(device)\n",
        "            p = model(x)\n",
        "            \n",
        "            loss = criterion(p, y)\n",
        "            train_loss += loss.item() * len(x)\n",
        "\n",
        "            pbar.set_description(f'Epoch:{epoch}, Train Loss: {train_loss / N_train:.3e}')\n",
        "            \n",
        "            loss.backward()\n",
        "            optimizer.step()\n",
        "    \n",
        "    train_loss /= N_train\n",
        "    return train_loss\n",
        "\n",
        "\n",
        "def validate(model, criterion, epoch):\n",
        "    val_loss = 0\n",
        "    N_val = len(val_loader.dataset)\n",
        "\n",
        "    model.eval()\n",
        "    with torch.no_grad(), tqdm.tqdm(enumerate(val_loader), total=len(val_loader)) as pbar:\n",
        "        for i, (x, y) in pbar:\n",
        "            x = x.to(device)\n",
        "            y = y.to(device)\n",
        "            p = model(x)\n",
        "\n",
        "            loss = criterion(p, y)\n",
        "            val_loss += loss.item() * len(x)\n",
        "\n",
        "            pbar.set_description(f'Epoch:{epoch}, Val Loss: {val_loss / N_val:.3e}')\n",
        "    \n",
        "    print('-------------------------------------------------------------------')\n",
        "    val_loss /= N_val\n",
        "    return val_loss"
      ],
      "metadata": {
        "id": "heVSbk4MWyDi"
      },
      "execution_count": null,
      "outputs": []
    },
    {
      "cell_type": "markdown",
      "source": [
        "This function trains given pytorch model and returns the best result of training process, plots learning curves for train and validation sets and finally prints metrics' values."
      ],
      "metadata": {
        "id": "PKLJ7UO4b2r-"
      }
    },
    {
      "cell_type": "code",
      "source": [
        "def do_expriment(model, optimizer, num_epochs, model_name):\n",
        "\n",
        "    train_loss_arr, val_loss_arr = np.zeros(num_epochs), np.zeros(num_epochs)\n",
        "\n",
        "    val_loss_min = float('inf')\n",
        "\n",
        "    for epoch in range(num_epochs):\n",
        "        train_loss = train(model, criterion, optimizer, epoch)\n",
        "        val_loss = validate(model, criterion, epoch)\n",
        "\n",
        "        train_loss_arr[epoch] = train_loss\n",
        "        val_loss_arr[epoch] = val_loss\n",
        "\n",
        "        if val_loss <= val_loss_min:\n",
        "            torch.save(model.state_dict(), f'{model_name}.pt')\n",
        "            val_loss_min = val_loss\n",
        "\n",
        "    # load best model during different epochs\n",
        "    # model.load_state_dict(torch.load(f'{model_name}.pt'))\n",
        "\n",
        "    # metrics\n",
        "    X_train, Y_train = train_loader.dataset[:]\n",
        "    X_val, Y_val = val_loader.dataset[:]\n",
        "\n",
        "    model = model.to('cpu')\n",
        "\n",
        "    train_preds = model(X_train).argmax(dim=1)\n",
        "    val_preds = model(X_val).argmax(dim=1)\n",
        "\n",
        "    plt.plot(train_loss_arr, label='train')\n",
        "    plt.plot(val_loss_arr, label='val')\n",
        "    plt.legend();\n",
        "\n",
        "    print_metrics_evaluation(Y_train.detach(), model(X_train).argmax(dim=1).detach(), f'{model_name}: Metrics on Training Data')\n",
        "    print_metrics_evaluation(Y_val.detach(), model(X_val).argmax(dim=1).detach(), f'{model_name}: Metrics on Validation Data')\n",
        "\n",
        "    model = model.to(device)\n",
        "\n",
        "    return train_loss_arr, val_loss_arr, model"
      ],
      "metadata": {
        "id": "8pv78k8Mb2TH"
      },
      "execution_count": null,
      "outputs": []
    },
    {
      "cell_type": "code",
      "source": [
        "train_loss_arr, val_loss_arr, model = do_expriment(model, optimizer, num_epochs=100, model_name='PytorchModel')"
      ],
      "metadata": {
        "colab": {
          "base_uri": "https://localhost:8080/",
          "height": 1000
        },
        "id": "Ez9zbwaSfmYE",
        "outputId": "981ce485-c626-4af5-d0f4-401a68da4d65"
      },
      "execution_count": null,
      "outputs": [
        {
          "output_type": "stream",
          "name": "stderr",
          "text": [
            "Epoch:0, Train Loss: 2.388e+00: 100%|██████████| 65/65 [00:00<00:00, 149.99it/s]\n",
            "Epoch:0, Val Loss: 2.384e+00: 100%|██████████| 17/17 [00:00<00:00, 298.31it/s]\n"
          ]
        },
        {
          "output_type": "stream",
          "name": "stdout",
          "text": [
            "-------------------------------------------------------------------\n"
          ]
        },
        {
          "output_type": "stream",
          "name": "stderr",
          "text": [
            "Epoch:1, Train Loss: 2.381e+00: 100%|██████████| 65/65 [00:00<00:00, 108.70it/s]\n",
            "Epoch:1, Val Loss: 2.378e+00: 100%|██████████| 17/17 [00:00<00:00, 328.31it/s]\n"
          ]
        },
        {
          "output_type": "stream",
          "name": "stdout",
          "text": [
            "-------------------------------------------------------------------\n"
          ]
        },
        {
          "output_type": "stream",
          "name": "stderr",
          "text": [
            "Epoch:2, Train Loss: 2.377e+00: 100%|██████████| 65/65 [00:00<00:00, 140.74it/s]\n",
            "Epoch:2, Val Loss: 2.371e+00: 100%|██████████| 17/17 [00:00<00:00, 287.73it/s]\n"
          ]
        },
        {
          "output_type": "stream",
          "name": "stdout",
          "text": [
            "-------------------------------------------------------------------\n"
          ]
        },
        {
          "output_type": "stream",
          "name": "stderr",
          "text": [
            "Epoch:3, Train Loss: 2.370e+00: 100%|██████████| 65/65 [00:00<00:00, 137.53it/s]\n",
            "Epoch:3, Val Loss: 2.363e+00: 100%|██████████| 17/17 [00:00<00:00, 358.28it/s]\n"
          ]
        },
        {
          "output_type": "stream",
          "name": "stdout",
          "text": [
            "-------------------------------------------------------------------\n"
          ]
        },
        {
          "output_type": "stream",
          "name": "stderr",
          "text": [
            "Epoch:4, Train Loss: 2.360e+00: 100%|██████████| 65/65 [00:00<00:00, 122.83it/s]\n",
            "Epoch:4, Val Loss: 2.355e+00: 100%|██████████| 17/17 [00:00<00:00, 221.26it/s]\n"
          ]
        },
        {
          "output_type": "stream",
          "name": "stdout",
          "text": [
            "-------------------------------------------------------------------\n"
          ]
        },
        {
          "output_type": "stream",
          "name": "stderr",
          "text": [
            "Epoch:5, Train Loss: 2.353e+00: 100%|██████████| 65/65 [00:00<00:00, 141.73it/s]\n",
            "Epoch:5, Val Loss: 2.347e+00: 100%|██████████| 17/17 [00:00<00:00, 321.97it/s]\n"
          ]
        },
        {
          "output_type": "stream",
          "name": "stdout",
          "text": [
            "-------------------------------------------------------------------\n"
          ]
        },
        {
          "output_type": "stream",
          "name": "stderr",
          "text": [
            "Epoch:6, Train Loss: 2.341e+00: 100%|██████████| 65/65 [00:00<00:00, 142.48it/s]\n",
            "Epoch:6, Val Loss: 2.338e+00: 100%|██████████| 17/17 [00:00<00:00, 221.44it/s]\n"
          ]
        },
        {
          "output_type": "stream",
          "name": "stdout",
          "text": [
            "-------------------------------------------------------------------\n"
          ]
        },
        {
          "output_type": "stream",
          "name": "stderr",
          "text": [
            "Epoch:7, Train Loss: 2.334e+00: 100%|██████████| 65/65 [00:00<00:00, 135.74it/s]\n",
            "Epoch:7, Val Loss: 2.330e+00: 100%|██████████| 17/17 [00:00<00:00, 280.68it/s]\n"
          ]
        },
        {
          "output_type": "stream",
          "name": "stdout",
          "text": [
            "-------------------------------------------------------------------\n"
          ]
        },
        {
          "output_type": "stream",
          "name": "stderr",
          "text": [
            "Epoch:8, Train Loss: 2.326e+00: 100%|██████████| 65/65 [00:00<00:00, 130.04it/s]\n",
            "Epoch:8, Val Loss: 2.322e+00: 100%|██████████| 17/17 [00:00<00:00, 225.64it/s]\n"
          ]
        },
        {
          "output_type": "stream",
          "name": "stdout",
          "text": [
            "-------------------------------------------------------------------\n"
          ]
        },
        {
          "output_type": "stream",
          "name": "stderr",
          "text": [
            "Epoch:9, Train Loss: 2.319e+00: 100%|██████████| 65/65 [00:00<00:00, 125.83it/s]\n",
            "Epoch:9, Val Loss: 2.314e+00: 100%|██████████| 17/17 [00:00<00:00, 232.18it/s]\n"
          ]
        },
        {
          "output_type": "stream",
          "name": "stdout",
          "text": [
            "-------------------------------------------------------------------\n"
          ]
        },
        {
          "output_type": "stream",
          "name": "stderr",
          "text": [
            "Epoch:10, Train Loss: 2.307e+00: 100%|██████████| 65/65 [00:00<00:00, 136.03it/s]\n",
            "Epoch:10, Val Loss: 2.307e+00: 100%|██████████| 17/17 [00:00<00:00, 208.06it/s]\n"
          ]
        },
        {
          "output_type": "stream",
          "name": "stdout",
          "text": [
            "-------------------------------------------------------------------\n"
          ]
        },
        {
          "output_type": "stream",
          "name": "stderr",
          "text": [
            "Epoch:11, Train Loss: 2.296e+00: 100%|██████████| 65/65 [00:00<00:00, 124.66it/s]\n",
            "Epoch:11, Val Loss: 2.299e+00: 100%|██████████| 17/17 [00:00<00:00, 250.76it/s]\n"
          ]
        },
        {
          "output_type": "stream",
          "name": "stdout",
          "text": [
            "-------------------------------------------------------------------\n"
          ]
        },
        {
          "output_type": "stream",
          "name": "stderr",
          "text": [
            "Epoch:12, Train Loss: 2.293e+00: 100%|██████████| 65/65 [00:00<00:00, 150.32it/s]\n",
            "Epoch:12, Val Loss: 2.293e+00: 100%|██████████| 17/17 [00:00<00:00, 203.68it/s]\n"
          ]
        },
        {
          "output_type": "stream",
          "name": "stdout",
          "text": [
            "-------------------------------------------------------------------\n"
          ]
        },
        {
          "output_type": "stream",
          "name": "stderr",
          "text": [
            "Epoch:13, Train Loss: 2.291e+00: 100%|██████████| 65/65 [00:00<00:00, 161.68it/s]\n",
            "Epoch:13, Val Loss: 2.288e+00: 100%|██████████| 17/17 [00:00<00:00, 230.63it/s]\n"
          ]
        },
        {
          "output_type": "stream",
          "name": "stdout",
          "text": [
            "-------------------------------------------------------------------\n"
          ]
        },
        {
          "output_type": "stream",
          "name": "stderr",
          "text": [
            "Epoch:14, Train Loss: 2.283e+00: 100%|██████████| 65/65 [00:00<00:00, 162.77it/s]\n",
            "Epoch:14, Val Loss: 2.283e+00: 100%|██████████| 17/17 [00:00<00:00, 202.93it/s]\n"
          ]
        },
        {
          "output_type": "stream",
          "name": "stdout",
          "text": [
            "-------------------------------------------------------------------\n"
          ]
        },
        {
          "output_type": "stream",
          "name": "stderr",
          "text": [
            "Epoch:15, Train Loss: 2.277e+00: 100%|██████████| 65/65 [00:00<00:00, 164.40it/s]\n",
            "Epoch:15, Val Loss: 2.279e+00: 100%|██████████| 17/17 [00:00<00:00, 239.80it/s]\n"
          ]
        },
        {
          "output_type": "stream",
          "name": "stdout",
          "text": [
            "-------------------------------------------------------------------\n"
          ]
        },
        {
          "output_type": "stream",
          "name": "stderr",
          "text": [
            "Epoch:16, Train Loss: 2.274e+00: 100%|██████████| 65/65 [00:00<00:00, 162.65it/s]\n",
            "Epoch:16, Val Loss: 2.276e+00: 100%|██████████| 17/17 [00:00<00:00, 245.22it/s]\n"
          ]
        },
        {
          "output_type": "stream",
          "name": "stdout",
          "text": [
            "-------------------------------------------------------------------\n"
          ]
        },
        {
          "output_type": "stream",
          "name": "stderr",
          "text": [
            "Epoch:17, Train Loss: 2.272e+00: 100%|██████████| 65/65 [00:00<00:00, 167.59it/s]\n",
            "Epoch:17, Val Loss: 2.273e+00: 100%|██████████| 17/17 [00:00<00:00, 222.15it/s]\n"
          ]
        },
        {
          "output_type": "stream",
          "name": "stdout",
          "text": [
            "-------------------------------------------------------------------\n"
          ]
        },
        {
          "output_type": "stream",
          "name": "stderr",
          "text": [
            "Epoch:18, Train Loss: 2.271e+00: 100%|██████████| 65/65 [00:00<00:00, 170.93it/s]\n",
            "Epoch:18, Val Loss: 2.271e+00: 100%|██████████| 17/17 [00:00<00:00, 233.57it/s]\n"
          ]
        },
        {
          "output_type": "stream",
          "name": "stdout",
          "text": [
            "-------------------------------------------------------------------\n"
          ]
        },
        {
          "output_type": "stream",
          "name": "stderr",
          "text": [
            "Epoch:19, Train Loss: 2.269e+00: 100%|██████████| 65/65 [00:00<00:00, 162.28it/s]\n",
            "Epoch:19, Val Loss: 2.270e+00: 100%|██████████| 17/17 [00:00<00:00, 278.41it/s]\n"
          ]
        },
        {
          "output_type": "stream",
          "name": "stdout",
          "text": [
            "-------------------------------------------------------------------\n"
          ]
        },
        {
          "output_type": "stream",
          "name": "stderr",
          "text": [
            "Epoch:20, Train Loss: 2.274e+00: 100%|██████████| 65/65 [00:00<00:00, 167.44it/s]\n",
            "Epoch:20, Val Loss: 2.269e+00: 100%|██████████| 17/17 [00:00<00:00, 251.12it/s]\n"
          ]
        },
        {
          "output_type": "stream",
          "name": "stdout",
          "text": [
            "-------------------------------------------------------------------\n"
          ]
        },
        {
          "output_type": "stream",
          "name": "stderr",
          "text": [
            "Epoch:21, Train Loss: 2.265e+00: 100%|██████████| 65/65 [00:00<00:00, 160.26it/s]\n",
            "Epoch:21, Val Loss: 2.268e+00: 100%|██████████| 17/17 [00:00<00:00, 214.27it/s]\n"
          ]
        },
        {
          "output_type": "stream",
          "name": "stdout",
          "text": [
            "-------------------------------------------------------------------\n"
          ]
        },
        {
          "output_type": "stream",
          "name": "stderr",
          "text": [
            "Epoch:22, Train Loss: 2.268e+00: 100%|██████████| 65/65 [00:00<00:00, 161.58it/s]\n",
            "Epoch:22, Val Loss: 2.267e+00: 100%|██████████| 17/17 [00:00<00:00, 249.38it/s]\n"
          ]
        },
        {
          "output_type": "stream",
          "name": "stdout",
          "text": [
            "-------------------------------------------------------------------\n"
          ]
        },
        {
          "output_type": "stream",
          "name": "stderr",
          "text": [
            "Epoch:23, Train Loss: 2.267e+00: 100%|██████████| 65/65 [00:00<00:00, 163.93it/s]\n",
            "Epoch:23, Val Loss: 2.267e+00: 100%|██████████| 17/17 [00:00<00:00, 205.67it/s]\n"
          ]
        },
        {
          "output_type": "stream",
          "name": "stdout",
          "text": [
            "-------------------------------------------------------------------\n"
          ]
        },
        {
          "output_type": "stream",
          "name": "stderr",
          "text": [
            "Epoch:24, Train Loss: 2.264e+00: 100%|██████████| 65/65 [00:00<00:00, 160.63it/s]\n",
            "Epoch:24, Val Loss: 2.266e+00: 100%|██████████| 17/17 [00:00<00:00, 229.96it/s]\n"
          ]
        },
        {
          "output_type": "stream",
          "name": "stdout",
          "text": [
            "-------------------------------------------------------------------\n"
          ]
        },
        {
          "output_type": "stream",
          "name": "stderr",
          "text": [
            "Epoch:25, Train Loss: 2.263e+00: 100%|██████████| 65/65 [00:00<00:00, 160.56it/s]\n",
            "Epoch:25, Val Loss: 2.266e+00: 100%|██████████| 17/17 [00:00<00:00, 230.25it/s]\n"
          ]
        },
        {
          "output_type": "stream",
          "name": "stdout",
          "text": [
            "-------------------------------------------------------------------\n"
          ]
        },
        {
          "output_type": "stream",
          "name": "stderr",
          "text": [
            "Epoch:26, Train Loss: 2.256e+00: 100%|██████████| 65/65 [00:00<00:00, 163.83it/s]\n",
            "Epoch:26, Val Loss: 2.266e+00: 100%|██████████| 17/17 [00:00<00:00, 200.94it/s]\n"
          ]
        },
        {
          "output_type": "stream",
          "name": "stdout",
          "text": [
            "-------------------------------------------------------------------\n"
          ]
        },
        {
          "output_type": "stream",
          "name": "stderr",
          "text": [
            "Epoch:27, Train Loss: 2.257e+00: 100%|██████████| 65/65 [00:00<00:00, 164.17it/s]\n",
            "Epoch:27, Val Loss: 2.265e+00: 100%|██████████| 17/17 [00:00<00:00, 215.70it/s]\n"
          ]
        },
        {
          "output_type": "stream",
          "name": "stdout",
          "text": [
            "-------------------------------------------------------------------\n"
          ]
        },
        {
          "output_type": "stream",
          "name": "stderr",
          "text": [
            "Epoch:28, Train Loss: 2.260e+00: 100%|██████████| 65/65 [00:00<00:00, 158.58it/s]\n",
            "Epoch:28, Val Loss: 2.265e+00: 100%|██████████| 17/17 [00:00<00:00, 209.66it/s]\n"
          ]
        },
        {
          "output_type": "stream",
          "name": "stdout",
          "text": [
            "-------------------------------------------------------------------\n"
          ]
        },
        {
          "output_type": "stream",
          "name": "stderr",
          "text": [
            "Epoch:29, Train Loss: 2.263e+00: 100%|██████████| 65/65 [00:00<00:00, 166.18it/s]\n",
            "Epoch:29, Val Loss: 2.265e+00: 100%|██████████| 17/17 [00:00<00:00, 237.08it/s]\n"
          ]
        },
        {
          "output_type": "stream",
          "name": "stdout",
          "text": [
            "-------------------------------------------------------------------\n"
          ]
        },
        {
          "output_type": "stream",
          "name": "stderr",
          "text": [
            "Epoch:30, Train Loss: 2.262e+00: 100%|██████████| 65/65 [00:00<00:00, 163.93it/s]\n",
            "Epoch:30, Val Loss: 2.265e+00: 100%|██████████| 17/17 [00:00<00:00, 249.30it/s]\n"
          ]
        },
        {
          "output_type": "stream",
          "name": "stdout",
          "text": [
            "-------------------------------------------------------------------\n"
          ]
        },
        {
          "output_type": "stream",
          "name": "stderr",
          "text": [
            "Epoch:31, Train Loss: 2.261e+00: 100%|██████████| 65/65 [00:00<00:00, 163.72it/s]\n",
            "Epoch:31, Val Loss: 2.265e+00: 100%|██████████| 17/17 [00:00<00:00, 233.84it/s]\n"
          ]
        },
        {
          "output_type": "stream",
          "name": "stdout",
          "text": [
            "-------------------------------------------------------------------\n"
          ]
        },
        {
          "output_type": "stream",
          "name": "stderr",
          "text": [
            "Epoch:32, Train Loss: 2.262e+00: 100%|██████████| 65/65 [00:00<00:00, 162.46it/s]\n",
            "Epoch:32, Val Loss: 2.264e+00: 100%|██████████| 17/17 [00:00<00:00, 240.68it/s]\n"
          ]
        },
        {
          "output_type": "stream",
          "name": "stdout",
          "text": [
            "-------------------------------------------------------------------\n"
          ]
        },
        {
          "output_type": "stream",
          "name": "stderr",
          "text": [
            "Epoch:33, Train Loss: 2.253e+00: 100%|██████████| 65/65 [00:00<00:00, 155.96it/s]\n",
            "Epoch:33, Val Loss: 2.264e+00: 100%|██████████| 17/17 [00:00<00:00, 202.13it/s]\n"
          ]
        },
        {
          "output_type": "stream",
          "name": "stdout",
          "text": [
            "-------------------------------------------------------------------\n"
          ]
        },
        {
          "output_type": "stream",
          "name": "stderr",
          "text": [
            "Epoch:34, Train Loss: 2.254e+00: 100%|██████████| 65/65 [00:00<00:00, 164.84it/s]\n",
            "Epoch:34, Val Loss: 2.264e+00: 100%|██████████| 17/17 [00:00<00:00, 204.10it/s]\n"
          ]
        },
        {
          "output_type": "stream",
          "name": "stdout",
          "text": [
            "-------------------------------------------------------------------\n"
          ]
        },
        {
          "output_type": "stream",
          "name": "stderr",
          "text": [
            "Epoch:35, Train Loss: 2.256e+00: 100%|██████████| 65/65 [00:00<00:00, 158.28it/s]\n",
            "Epoch:35, Val Loss: 2.264e+00: 100%|██████████| 17/17 [00:00<00:00, 220.14it/s]\n"
          ]
        },
        {
          "output_type": "stream",
          "name": "stdout",
          "text": [
            "-------------------------------------------------------------------\n"
          ]
        },
        {
          "output_type": "stream",
          "name": "stderr",
          "text": [
            "Epoch:36, Train Loss: 2.259e+00: 100%|██████████| 65/65 [00:00<00:00, 163.11it/s]\n",
            "Epoch:36, Val Loss: 2.264e+00: 100%|██████████| 17/17 [00:00<00:00, 219.37it/s]\n"
          ]
        },
        {
          "output_type": "stream",
          "name": "stdout",
          "text": [
            "-------------------------------------------------------------------\n"
          ]
        },
        {
          "output_type": "stream",
          "name": "stderr",
          "text": [
            "Epoch:37, Train Loss: 2.253e+00: 100%|██████████| 65/65 [00:00<00:00, 147.48it/s]\n",
            "Epoch:37, Val Loss: 2.264e+00: 100%|██████████| 17/17 [00:00<00:00, 199.93it/s]\n"
          ]
        },
        {
          "output_type": "stream",
          "name": "stdout",
          "text": [
            "-------------------------------------------------------------------\n"
          ]
        },
        {
          "output_type": "stream",
          "name": "stderr",
          "text": [
            "Epoch:38, Train Loss: 2.248e+00: 100%|██████████| 65/65 [00:00<00:00, 160.10it/s]\n",
            "Epoch:38, Val Loss: 2.264e+00: 100%|██████████| 17/17 [00:00<00:00, 216.95it/s]\n"
          ]
        },
        {
          "output_type": "stream",
          "name": "stdout",
          "text": [
            "-------------------------------------------------------------------\n"
          ]
        },
        {
          "output_type": "stream",
          "name": "stderr",
          "text": [
            "Epoch:39, Train Loss: 2.259e+00: 100%|██████████| 65/65 [00:00<00:00, 160.43it/s]\n",
            "Epoch:39, Val Loss: 2.264e+00: 100%|██████████| 17/17 [00:00<00:00, 216.16it/s]\n"
          ]
        },
        {
          "output_type": "stream",
          "name": "stdout",
          "text": [
            "-------------------------------------------------------------------\n"
          ]
        },
        {
          "output_type": "stream",
          "name": "stderr",
          "text": [
            "Epoch:40, Train Loss: 2.261e+00: 100%|██████████| 65/65 [00:00<00:00, 158.92it/s]\n",
            "Epoch:40, Val Loss: 2.264e+00: 100%|██████████| 17/17 [00:00<00:00, 245.55it/s]\n"
          ]
        },
        {
          "output_type": "stream",
          "name": "stdout",
          "text": [
            "-------------------------------------------------------------------\n"
          ]
        },
        {
          "output_type": "stream",
          "name": "stderr",
          "text": [
            "Epoch:41, Train Loss: 2.259e+00: 100%|██████████| 65/65 [00:00<00:00, 158.49it/s]\n",
            "Epoch:41, Val Loss: 2.264e+00: 100%|██████████| 17/17 [00:00<00:00, 228.29it/s]\n"
          ]
        },
        {
          "output_type": "stream",
          "name": "stdout",
          "text": [
            "-------------------------------------------------------------------\n"
          ]
        },
        {
          "output_type": "stream",
          "name": "stderr",
          "text": [
            "Epoch:42, Train Loss: 2.257e+00: 100%|██████████| 65/65 [00:00<00:00, 159.48it/s]\n",
            "Epoch:42, Val Loss: 2.264e+00: 100%|██████████| 17/17 [00:00<00:00, 199.26it/s]\n"
          ]
        },
        {
          "output_type": "stream",
          "name": "stdout",
          "text": [
            "-------------------------------------------------------------------\n"
          ]
        },
        {
          "output_type": "stream",
          "name": "stderr",
          "text": [
            "Epoch:43, Train Loss: 2.261e+00: 100%|██████████| 65/65 [00:00<00:00, 159.48it/s]\n",
            "Epoch:43, Val Loss: 2.264e+00: 100%|██████████| 17/17 [00:00<00:00, 214.21it/s]\n"
          ]
        },
        {
          "output_type": "stream",
          "name": "stdout",
          "text": [
            "-------------------------------------------------------------------\n"
          ]
        },
        {
          "output_type": "stream",
          "name": "stderr",
          "text": [
            "Epoch:44, Train Loss: 2.249e+00: 100%|██████████| 65/65 [00:00<00:00, 158.26it/s]\n",
            "Epoch:44, Val Loss: 2.264e+00: 100%|██████████| 17/17 [00:00<00:00, 241.71it/s]\n"
          ]
        },
        {
          "output_type": "stream",
          "name": "stdout",
          "text": [
            "-------------------------------------------------------------------\n"
          ]
        },
        {
          "output_type": "stream",
          "name": "stderr",
          "text": [
            "Epoch:45, Train Loss: 2.258e+00: 100%|██████████| 65/65 [00:00<00:00, 159.08it/s]\n",
            "Epoch:45, Val Loss: 2.264e+00: 100%|██████████| 17/17 [00:00<00:00, 218.98it/s]\n"
          ]
        },
        {
          "output_type": "stream",
          "name": "stdout",
          "text": [
            "-------------------------------------------------------------------\n"
          ]
        },
        {
          "output_type": "stream",
          "name": "stderr",
          "text": [
            "Epoch:46, Train Loss: 2.248e+00: 100%|██████████| 65/65 [00:00<00:00, 152.17it/s]\n",
            "Epoch:46, Val Loss: 2.264e+00: 100%|██████████| 17/17 [00:00<00:00, 217.64it/s]\n"
          ]
        },
        {
          "output_type": "stream",
          "name": "stdout",
          "text": [
            "-------------------------------------------------------------------\n"
          ]
        },
        {
          "output_type": "stream",
          "name": "stderr",
          "text": [
            "Epoch:47, Train Loss: 2.256e+00: 100%|██████████| 65/65 [00:00<00:00, 150.55it/s]\n",
            "Epoch:47, Val Loss: 2.264e+00: 100%|██████████| 17/17 [00:00<00:00, 242.58it/s]\n"
          ]
        },
        {
          "output_type": "stream",
          "name": "stdout",
          "text": [
            "-------------------------------------------------------------------\n"
          ]
        },
        {
          "output_type": "stream",
          "name": "stderr",
          "text": [
            "Epoch:48, Train Loss: 2.245e+00: 100%|██████████| 65/65 [00:00<00:00, 163.43it/s]\n",
            "Epoch:48, Val Loss: 2.264e+00: 100%|██████████| 17/17 [00:00<00:00, 207.90it/s]\n"
          ]
        },
        {
          "output_type": "stream",
          "name": "stdout",
          "text": [
            "-------------------------------------------------------------------\n"
          ]
        },
        {
          "output_type": "stream",
          "name": "stderr",
          "text": [
            "Epoch:49, Train Loss: 2.254e+00: 100%|██████████| 65/65 [00:00<00:00, 158.01it/s]\n",
            "Epoch:49, Val Loss: 2.264e+00: 100%|██████████| 17/17 [00:00<00:00, 328.06it/s]\n"
          ]
        },
        {
          "output_type": "stream",
          "name": "stdout",
          "text": [
            "-------------------------------------------------------------------\n"
          ]
        },
        {
          "output_type": "stream",
          "name": "stderr",
          "text": [
            "Epoch:50, Train Loss: 2.251e+00: 100%|██████████| 65/65 [00:00<00:00, 151.52it/s]\n",
            "Epoch:50, Val Loss: 2.264e+00: 100%|██████████| 17/17 [00:00<00:00, 293.17it/s]\n"
          ]
        },
        {
          "output_type": "stream",
          "name": "stdout",
          "text": [
            "-------------------------------------------------------------------\n"
          ]
        },
        {
          "output_type": "stream",
          "name": "stderr",
          "text": [
            "Epoch:51, Train Loss: 2.248e+00: 100%|██████████| 65/65 [00:00<00:00, 156.43it/s]\n",
            "Epoch:51, Val Loss: 2.264e+00: 100%|██████████| 17/17 [00:00<00:00, 229.39it/s]\n"
          ]
        },
        {
          "output_type": "stream",
          "name": "stdout",
          "text": [
            "-------------------------------------------------------------------\n"
          ]
        },
        {
          "output_type": "stream",
          "name": "stderr",
          "text": [
            "Epoch:52, Train Loss: 2.251e+00: 100%|██████████| 65/65 [00:00<00:00, 165.24it/s]\n",
            "Epoch:52, Val Loss: 2.264e+00: 100%|██████████| 17/17 [00:00<00:00, 336.01it/s]\n"
          ]
        },
        {
          "output_type": "stream",
          "name": "stdout",
          "text": [
            "-------------------------------------------------------------------\n"
          ]
        },
        {
          "output_type": "stream",
          "name": "stderr",
          "text": [
            "Epoch:53, Train Loss: 2.249e+00: 100%|██████████| 65/65 [00:00<00:00, 165.60it/s]\n",
            "Epoch:53, Val Loss: 2.264e+00: 100%|██████████| 17/17 [00:00<00:00, 234.60it/s]\n"
          ]
        },
        {
          "output_type": "stream",
          "name": "stdout",
          "text": [
            "-------------------------------------------------------------------\n"
          ]
        },
        {
          "output_type": "stream",
          "name": "stderr",
          "text": [
            "Epoch:54, Train Loss: 2.249e+00: 100%|██████████| 65/65 [00:00<00:00, 157.63it/s]\n",
            "Epoch:54, Val Loss: 2.264e+00: 100%|██████████| 17/17 [00:00<00:00, 299.33it/s]\n"
          ]
        },
        {
          "output_type": "stream",
          "name": "stdout",
          "text": [
            "-------------------------------------------------------------------\n"
          ]
        },
        {
          "output_type": "stream",
          "name": "stderr",
          "text": [
            "Epoch:55, Train Loss: 2.249e+00: 100%|██████████| 65/65 [00:00<00:00, 150.09it/s]\n",
            "Epoch:55, Val Loss: 2.264e+00: 100%|██████████| 17/17 [00:00<00:00, 297.26it/s]\n"
          ]
        },
        {
          "output_type": "stream",
          "name": "stdout",
          "text": [
            "-------------------------------------------------------------------\n"
          ]
        },
        {
          "output_type": "stream",
          "name": "stderr",
          "text": [
            "Epoch:56, Train Loss: 2.250e+00: 100%|██████████| 65/65 [00:00<00:00, 158.88it/s]\n",
            "Epoch:56, Val Loss: 2.265e+00: 100%|██████████| 17/17 [00:00<00:00, 381.78it/s]\n"
          ]
        },
        {
          "output_type": "stream",
          "name": "stdout",
          "text": [
            "-------------------------------------------------------------------\n"
          ]
        },
        {
          "output_type": "stream",
          "name": "stderr",
          "text": [
            "Epoch:57, Train Loss: 2.252e+00: 100%|██████████| 65/65 [00:00<00:00, 146.19it/s]\n",
            "Epoch:57, Val Loss: 2.265e+00: 100%|██████████| 17/17 [00:00<00:00, 279.16it/s]\n"
          ]
        },
        {
          "output_type": "stream",
          "name": "stdout",
          "text": [
            "-------------------------------------------------------------------\n"
          ]
        },
        {
          "output_type": "stream",
          "name": "stderr",
          "text": [
            "Epoch:58, Train Loss: 2.250e+00: 100%|██████████| 65/65 [00:00<00:00, 149.40it/s]\n",
            "Epoch:58, Val Loss: 2.264e+00: 100%|██████████| 17/17 [00:00<00:00, 271.91it/s]\n"
          ]
        },
        {
          "output_type": "stream",
          "name": "stdout",
          "text": [
            "-------------------------------------------------------------------\n"
          ]
        },
        {
          "output_type": "stream",
          "name": "stderr",
          "text": [
            "Epoch:59, Train Loss: 2.248e+00: 100%|██████████| 65/65 [00:00<00:00, 153.18it/s]\n",
            "Epoch:59, Val Loss: 2.264e+00: 100%|██████████| 17/17 [00:00<00:00, 245.45it/s]\n"
          ]
        },
        {
          "output_type": "stream",
          "name": "stdout",
          "text": [
            "-------------------------------------------------------------------\n"
          ]
        },
        {
          "output_type": "stream",
          "name": "stderr",
          "text": [
            "Epoch:60, Train Loss: 2.257e+00: 100%|██████████| 65/65 [00:00<00:00, 159.48it/s]\n",
            "Epoch:60, Val Loss: 2.264e+00: 100%|██████████| 17/17 [00:00<00:00, 215.72it/s]\n"
          ]
        },
        {
          "output_type": "stream",
          "name": "stdout",
          "text": [
            "-------------------------------------------------------------------\n"
          ]
        },
        {
          "output_type": "stream",
          "name": "stderr",
          "text": [
            "Epoch:61, Train Loss: 2.249e+00: 100%|██████████| 65/65 [00:00<00:00, 154.51it/s]\n",
            "Epoch:61, Val Loss: 2.264e+00: 100%|██████████| 17/17 [00:00<00:00, 224.93it/s]\n"
          ]
        },
        {
          "output_type": "stream",
          "name": "stdout",
          "text": [
            "-------------------------------------------------------------------\n"
          ]
        },
        {
          "output_type": "stream",
          "name": "stderr",
          "text": [
            "Epoch:62, Train Loss: 2.250e+00: 100%|██████████| 65/65 [00:00<00:00, 159.09it/s]\n",
            "Epoch:62, Val Loss: 2.264e+00: 100%|██████████| 17/17 [00:00<00:00, 215.34it/s]\n"
          ]
        },
        {
          "output_type": "stream",
          "name": "stdout",
          "text": [
            "-------------------------------------------------------------------\n"
          ]
        },
        {
          "output_type": "stream",
          "name": "stderr",
          "text": [
            "Epoch:63, Train Loss: 2.252e+00: 100%|██████████| 65/65 [00:00<00:00, 154.35it/s]\n",
            "Epoch:63, Val Loss: 2.264e+00: 100%|██████████| 17/17 [00:00<00:00, 244.28it/s]\n"
          ]
        },
        {
          "output_type": "stream",
          "name": "stdout",
          "text": [
            "-------------------------------------------------------------------\n"
          ]
        },
        {
          "output_type": "stream",
          "name": "stderr",
          "text": [
            "Epoch:64, Train Loss: 2.248e+00: 100%|██████████| 65/65 [00:00<00:00, 153.33it/s]\n",
            "Epoch:64, Val Loss: 2.265e+00: 100%|██████████| 17/17 [00:00<00:00, 208.68it/s]\n"
          ]
        },
        {
          "output_type": "stream",
          "name": "stdout",
          "text": [
            "-------------------------------------------------------------------\n"
          ]
        },
        {
          "output_type": "stream",
          "name": "stderr",
          "text": [
            "Epoch:65, Train Loss: 2.256e+00: 100%|██████████| 65/65 [00:00<00:00, 149.12it/s]\n",
            "Epoch:65, Val Loss: 2.265e+00: 100%|██████████| 17/17 [00:00<00:00, 207.85it/s]\n"
          ]
        },
        {
          "output_type": "stream",
          "name": "stdout",
          "text": [
            "-------------------------------------------------------------------\n"
          ]
        },
        {
          "output_type": "stream",
          "name": "stderr",
          "text": [
            "Epoch:66, Train Loss: 2.250e+00: 100%|██████████| 65/65 [00:00<00:00, 153.41it/s]\n",
            "Epoch:66, Val Loss: 2.265e+00: 100%|██████████| 17/17 [00:00<00:00, 228.88it/s]\n"
          ]
        },
        {
          "output_type": "stream",
          "name": "stdout",
          "text": [
            "-------------------------------------------------------------------\n"
          ]
        },
        {
          "output_type": "stream",
          "name": "stderr",
          "text": [
            "Epoch:67, Train Loss: 2.251e+00: 100%|██████████| 65/65 [00:00<00:00, 151.67it/s]\n",
            "Epoch:67, Val Loss: 2.265e+00: 100%|██████████| 17/17 [00:00<00:00, 211.97it/s]\n"
          ]
        },
        {
          "output_type": "stream",
          "name": "stdout",
          "text": [
            "-------------------------------------------------------------------\n"
          ]
        },
        {
          "output_type": "stream",
          "name": "stderr",
          "text": [
            "Epoch:68, Train Loss: 2.252e+00: 100%|██████████| 65/65 [00:00<00:00, 154.95it/s]\n",
            "Epoch:68, Val Loss: 2.265e+00: 100%|██████████| 17/17 [00:00<00:00, 217.68it/s]\n"
          ]
        },
        {
          "output_type": "stream",
          "name": "stdout",
          "text": [
            "-------------------------------------------------------------------\n"
          ]
        },
        {
          "output_type": "stream",
          "name": "stderr",
          "text": [
            "Epoch:69, Train Loss: 2.247e+00: 100%|██████████| 65/65 [00:00<00:00, 155.77it/s]\n",
            "Epoch:69, Val Loss: 2.264e+00: 100%|██████████| 17/17 [00:00<00:00, 206.45it/s]\n"
          ]
        },
        {
          "output_type": "stream",
          "name": "stdout",
          "text": [
            "-------------------------------------------------------------------\n"
          ]
        },
        {
          "output_type": "stream",
          "name": "stderr",
          "text": [
            "Epoch:70, Train Loss: 2.246e+00: 100%|██████████| 65/65 [00:00<00:00, 149.81it/s]\n",
            "Epoch:70, Val Loss: 2.264e+00: 100%|██████████| 17/17 [00:00<00:00, 217.49it/s]\n"
          ]
        },
        {
          "output_type": "stream",
          "name": "stdout",
          "text": [
            "-------------------------------------------------------------------\n"
          ]
        },
        {
          "output_type": "stream",
          "name": "stderr",
          "text": [
            "Epoch:71, Train Loss: 2.245e+00: 100%|██████████| 65/65 [00:00<00:00, 151.64it/s]\n",
            "Epoch:71, Val Loss: 2.265e+00: 100%|██████████| 17/17 [00:00<00:00, 236.79it/s]\n"
          ]
        },
        {
          "output_type": "stream",
          "name": "stdout",
          "text": [
            "-------------------------------------------------------------------\n"
          ]
        },
        {
          "output_type": "stream",
          "name": "stderr",
          "text": [
            "Epoch:72, Train Loss: 2.249e+00: 100%|██████████| 65/65 [00:00<00:00, 148.99it/s]\n",
            "Epoch:72, Val Loss: 2.264e+00: 100%|██████████| 17/17 [00:00<00:00, 224.14it/s]\n"
          ]
        },
        {
          "output_type": "stream",
          "name": "stdout",
          "text": [
            "-------------------------------------------------------------------\n"
          ]
        },
        {
          "output_type": "stream",
          "name": "stderr",
          "text": [
            "Epoch:73, Train Loss: 2.246e+00: 100%|██████████| 65/65 [00:00<00:00, 155.61it/s]\n",
            "Epoch:73, Val Loss: 2.265e+00: 100%|██████████| 17/17 [00:00<00:00, 245.58it/s]\n"
          ]
        },
        {
          "output_type": "stream",
          "name": "stdout",
          "text": [
            "-------------------------------------------------------------------\n"
          ]
        },
        {
          "output_type": "stream",
          "name": "stderr",
          "text": [
            "Epoch:74, Train Loss: 2.250e+00: 100%|██████████| 65/65 [00:00<00:00, 150.80it/s]\n",
            "Epoch:74, Val Loss: 2.265e+00: 100%|██████████| 17/17 [00:00<00:00, 301.12it/s]\n"
          ]
        },
        {
          "output_type": "stream",
          "name": "stdout",
          "text": [
            "-------------------------------------------------------------------\n"
          ]
        },
        {
          "output_type": "stream",
          "name": "stderr",
          "text": [
            "Epoch:75, Train Loss: 2.241e+00: 100%|██████████| 65/65 [00:00<00:00, 146.72it/s]\n",
            "Epoch:75, Val Loss: 2.265e+00: 100%|██████████| 17/17 [00:00<00:00, 216.42it/s]\n"
          ]
        },
        {
          "output_type": "stream",
          "name": "stdout",
          "text": [
            "-------------------------------------------------------------------\n"
          ]
        },
        {
          "output_type": "stream",
          "name": "stderr",
          "text": [
            "Epoch:76, Train Loss: 2.251e+00: 100%|██████████| 65/65 [00:00<00:00, 153.09it/s]\n",
            "Epoch:76, Val Loss: 2.265e+00: 100%|██████████| 17/17 [00:00<00:00, 211.78it/s]\n"
          ]
        },
        {
          "output_type": "stream",
          "name": "stdout",
          "text": [
            "-------------------------------------------------------------------\n"
          ]
        },
        {
          "output_type": "stream",
          "name": "stderr",
          "text": [
            "Epoch:77, Train Loss: 2.246e+00: 100%|██████████| 65/65 [00:00<00:00, 149.60it/s]\n",
            "Epoch:77, Val Loss: 2.265e+00: 100%|██████████| 17/17 [00:00<00:00, 272.79it/s]\n"
          ]
        },
        {
          "output_type": "stream",
          "name": "stdout",
          "text": [
            "-------------------------------------------------------------------\n"
          ]
        },
        {
          "output_type": "stream",
          "name": "stderr",
          "text": [
            "Epoch:78, Train Loss: 2.242e+00: 100%|██████████| 65/65 [00:00<00:00, 145.30it/s]\n",
            "Epoch:78, Val Loss: 2.265e+00: 100%|██████████| 17/17 [00:00<00:00, 222.02it/s]\n"
          ]
        },
        {
          "output_type": "stream",
          "name": "stdout",
          "text": [
            "-------------------------------------------------------------------\n"
          ]
        },
        {
          "output_type": "stream",
          "name": "stderr",
          "text": [
            "Epoch:79, Train Loss: 2.245e+00: 100%|██████████| 65/65 [00:00<00:00, 147.17it/s]\n",
            "Epoch:79, Val Loss: 2.265e+00: 100%|██████████| 17/17 [00:00<00:00, 249.43it/s]\n"
          ]
        },
        {
          "output_type": "stream",
          "name": "stdout",
          "text": [
            "-------------------------------------------------------------------\n"
          ]
        },
        {
          "output_type": "stream",
          "name": "stderr",
          "text": [
            "Epoch:80, Train Loss: 2.245e+00: 100%|██████████| 65/65 [00:00<00:00, 147.18it/s]\n",
            "Epoch:80, Val Loss: 2.265e+00: 100%|██████████| 17/17 [00:00<00:00, 204.87it/s]\n"
          ]
        },
        {
          "output_type": "stream",
          "name": "stdout",
          "text": [
            "-------------------------------------------------------------------\n"
          ]
        },
        {
          "output_type": "stream",
          "name": "stderr",
          "text": [
            "Epoch:81, Train Loss: 2.248e+00: 100%|██████████| 65/65 [00:00<00:00, 150.15it/s]\n",
            "Epoch:81, Val Loss: 2.265e+00: 100%|██████████| 17/17 [00:00<00:00, 224.33it/s]\n"
          ]
        },
        {
          "output_type": "stream",
          "name": "stdout",
          "text": [
            "-------------------------------------------------------------------\n"
          ]
        },
        {
          "output_type": "stream",
          "name": "stderr",
          "text": [
            "Epoch:82, Train Loss: 2.249e+00: 100%|██████████| 65/65 [00:00<00:00, 150.88it/s]\n",
            "Epoch:82, Val Loss: 2.265e+00: 100%|██████████| 17/17 [00:00<00:00, 215.58it/s]\n"
          ]
        },
        {
          "output_type": "stream",
          "name": "stdout",
          "text": [
            "-------------------------------------------------------------------\n"
          ]
        },
        {
          "output_type": "stream",
          "name": "stderr",
          "text": [
            "Epoch:83, Train Loss: 2.242e+00: 100%|██████████| 65/65 [00:00<00:00, 143.94it/s]\n",
            "Epoch:83, Val Loss: 2.265e+00: 100%|██████████| 17/17 [00:00<00:00, 307.89it/s]\n"
          ]
        },
        {
          "output_type": "stream",
          "name": "stdout",
          "text": [
            "-------------------------------------------------------------------\n"
          ]
        },
        {
          "output_type": "stream",
          "name": "stderr",
          "text": [
            "Epoch:84, Train Loss: 2.244e+00: 100%|██████████| 65/65 [00:00<00:00, 146.58it/s]\n",
            "Epoch:84, Val Loss: 2.265e+00: 100%|██████████| 17/17 [00:00<00:00, 229.39it/s]\n"
          ]
        },
        {
          "output_type": "stream",
          "name": "stdout",
          "text": [
            "-------------------------------------------------------------------\n"
          ]
        },
        {
          "output_type": "stream",
          "name": "stderr",
          "text": [
            "Epoch:85, Train Loss: 2.246e+00: 100%|██████████| 65/65 [00:00<00:00, 157.70it/s]\n",
            "Epoch:85, Val Loss: 2.265e+00: 100%|██████████| 17/17 [00:00<00:00, 225.47it/s]\n"
          ]
        },
        {
          "output_type": "stream",
          "name": "stdout",
          "text": [
            "-------------------------------------------------------------------\n"
          ]
        },
        {
          "output_type": "stream",
          "name": "stderr",
          "text": [
            "Epoch:86, Train Loss: 2.241e+00: 100%|██████████| 65/65 [00:00<00:00, 160.96it/s]\n",
            "Epoch:86, Val Loss: 2.265e+00: 100%|██████████| 17/17 [00:00<00:00, 198.05it/s]\n"
          ]
        },
        {
          "output_type": "stream",
          "name": "stdout",
          "text": [
            "-------------------------------------------------------------------\n"
          ]
        },
        {
          "output_type": "stream",
          "name": "stderr",
          "text": [
            "Epoch:87, Train Loss: 2.244e+00: 100%|██████████| 65/65 [00:00<00:00, 150.52it/s]\n",
            "Epoch:87, Val Loss: 2.265e+00: 100%|██████████| 17/17 [00:00<00:00, 235.21it/s]\n"
          ]
        },
        {
          "output_type": "stream",
          "name": "stdout",
          "text": [
            "-------------------------------------------------------------------\n"
          ]
        },
        {
          "output_type": "stream",
          "name": "stderr",
          "text": [
            "Epoch:88, Train Loss: 2.242e+00: 100%|██████████| 65/65 [00:00<00:00, 164.20it/s]\n",
            "Epoch:88, Val Loss: 2.265e+00: 100%|██████████| 17/17 [00:00<00:00, 228.52it/s]\n"
          ]
        },
        {
          "output_type": "stream",
          "name": "stdout",
          "text": [
            "-------------------------------------------------------------------\n"
          ]
        },
        {
          "output_type": "stream",
          "name": "stderr",
          "text": [
            "Epoch:89, Train Loss: 2.245e+00: 100%|██████████| 65/65 [00:00<00:00, 149.40it/s]\n",
            "Epoch:89, Val Loss: 2.265e+00: 100%|██████████| 17/17 [00:00<00:00, 214.47it/s]\n"
          ]
        },
        {
          "output_type": "stream",
          "name": "stdout",
          "text": [
            "-------------------------------------------------------------------\n"
          ]
        },
        {
          "output_type": "stream",
          "name": "stderr",
          "text": [
            "Epoch:90, Train Loss: 2.240e+00: 100%|██████████| 65/65 [00:00<00:00, 153.77it/s]\n",
            "Epoch:90, Val Loss: 2.266e+00: 100%|██████████| 17/17 [00:00<00:00, 227.91it/s]\n"
          ]
        },
        {
          "output_type": "stream",
          "name": "stdout",
          "text": [
            "-------------------------------------------------------------------\n"
          ]
        },
        {
          "output_type": "stream",
          "name": "stderr",
          "text": [
            "Epoch:91, Train Loss: 2.236e+00: 100%|██████████| 65/65 [00:00<00:00, 153.00it/s]\n",
            "Epoch:91, Val Loss: 2.266e+00: 100%|██████████| 17/17 [00:00<00:00, 205.10it/s]\n"
          ]
        },
        {
          "output_type": "stream",
          "name": "stdout",
          "text": [
            "-------------------------------------------------------------------\n"
          ]
        },
        {
          "output_type": "stream",
          "name": "stderr",
          "text": [
            "Epoch:92, Train Loss: 2.247e+00: 100%|██████████| 65/65 [00:00<00:00, 145.91it/s]\n",
            "Epoch:92, Val Loss: 2.266e+00: 100%|██████████| 17/17 [00:00<00:00, 228.70it/s]\n"
          ]
        },
        {
          "output_type": "stream",
          "name": "stdout",
          "text": [
            "-------------------------------------------------------------------\n"
          ]
        },
        {
          "output_type": "stream",
          "name": "stderr",
          "text": [
            "Epoch:93, Train Loss: 2.243e+00: 100%|██████████| 65/65 [00:00<00:00, 146.51it/s]\n",
            "Epoch:93, Val Loss: 2.266e+00: 100%|██████████| 17/17 [00:00<00:00, 214.45it/s]\n"
          ]
        },
        {
          "output_type": "stream",
          "name": "stdout",
          "text": [
            "-------------------------------------------------------------------\n"
          ]
        },
        {
          "output_type": "stream",
          "name": "stderr",
          "text": [
            "Epoch:94, Train Loss: 2.239e+00: 100%|██████████| 65/65 [00:00<00:00, 155.63it/s]\n",
            "Epoch:94, Val Loss: 2.266e+00: 100%|██████████| 17/17 [00:00<00:00, 386.14it/s]\n"
          ]
        },
        {
          "output_type": "stream",
          "name": "stdout",
          "text": [
            "-------------------------------------------------------------------\n"
          ]
        },
        {
          "output_type": "stream",
          "name": "stderr",
          "text": [
            "Epoch:95, Train Loss: 2.242e+00: 100%|██████████| 65/65 [00:00<00:00, 144.31it/s]\n",
            "Epoch:95, Val Loss: 2.266e+00: 100%|██████████| 17/17 [00:00<00:00, 243.09it/s]\n"
          ]
        },
        {
          "output_type": "stream",
          "name": "stdout",
          "text": [
            "-------------------------------------------------------------------\n"
          ]
        },
        {
          "output_type": "stream",
          "name": "stderr",
          "text": [
            "Epoch:96, Train Loss: 2.245e+00: 100%|██████████| 65/65 [00:00<00:00, 147.73it/s]\n",
            "Epoch:96, Val Loss: 2.266e+00: 100%|██████████| 17/17 [00:00<00:00, 249.89it/s]\n"
          ]
        },
        {
          "output_type": "stream",
          "name": "stdout",
          "text": [
            "-------------------------------------------------------------------\n"
          ]
        },
        {
          "output_type": "stream",
          "name": "stderr",
          "text": [
            "Epoch:97, Train Loss: 2.240e+00: 100%|██████████| 65/65 [00:00<00:00, 143.61it/s]\n",
            "Epoch:97, Val Loss: 2.266e+00: 100%|██████████| 17/17 [00:00<00:00, 303.27it/s]\n"
          ]
        },
        {
          "output_type": "stream",
          "name": "stdout",
          "text": [
            "-------------------------------------------------------------------\n"
          ]
        },
        {
          "output_type": "stream",
          "name": "stderr",
          "text": [
            "Epoch:98, Train Loss: 2.240e+00: 100%|██████████| 65/65 [00:00<00:00, 150.18it/s]\n",
            "Epoch:98, Val Loss: 2.266e+00: 100%|██████████| 17/17 [00:00<00:00, 348.78it/s]\n"
          ]
        },
        {
          "output_type": "stream",
          "name": "stdout",
          "text": [
            "-------------------------------------------------------------------\n"
          ]
        },
        {
          "output_type": "stream",
          "name": "stderr",
          "text": [
            "Epoch:99, Train Loss: 2.238e+00: 100%|██████████| 65/65 [00:00<00:00, 140.86it/s]\n",
            "Epoch:99, Val Loss: 2.266e+00: 100%|██████████| 17/17 [00:00<00:00, 304.77it/s]\n",
            "/usr/local/lib/python3.7/dist-packages/sklearn/metrics/_classification.py:1318: UndefinedMetricWarning: Precision is ill-defined and being set to 0.0 in labels with no predicted samples. Use `zero_division` parameter to control this behavior.\n",
            "  _warn_prf(average, modifier, msg_start, len(result))\n",
            "/usr/local/lib/python3.7/dist-packages/sklearn/metrics/_classification.py:1318: UndefinedMetricWarning: Precision is ill-defined and being set to 0.0 in labels with no predicted samples. Use `zero_division` parameter to control this behavior.\n",
            "  _warn_prf(average, modifier, msg_start, len(result))\n"
          ]
        },
        {
          "output_type": "stream",
          "name": "stdout",
          "text": [
            "-------------------------------------------------------------------\n",
            "PytorchModel: Metrics on Training Data:\n",
            "accuracy_score = 0.22355769230769232\n",
            "precision_score = 0.020323426573426576\n",
            "recall_score = 0.09090909090909091\n",
            "f1_score = 0.03322021789605287\n",
            "\n",
            "PytorchModel: Metrics on Validation Data:\n",
            "accuracy_score = 0.225\n",
            "precision_score = 0.020454545454545454\n",
            "recall_score = 0.09090909090909091\n",
            "f1_score = 0.03339517625231911\n",
            "\n"
          ]
        },
        {
          "output_type": "display_data",
          "data": {
            "text/plain": [
              "<Figure size 432x288 with 1 Axes>"
            ],
            "image/png": "[encoded data removed]"
          },
          "metadata": {
            "needs_background": "light"
          }
        }
      ]
    },
    {
      "cell_type": "markdown",
      "source": [
        "### Transformer based classifier"
      ],
      "metadata": {
        "id": "7zx5ogV9gSul"
      }
    },
    {
      "cell_type": "code",
      "source": [
        "from sklearn.model_selection import train_test_split\n",
        "\n",
        "#split test-train data\n",
        "\n",
        "x_train, x_test, y_train, y_test = train_test_split(data['poem'], data['chapter'], test_size=0.20, random_state=2)\n",
        "#x_train, x_valid, y_train, y_valid = train_test_split(x_train, y_train, test_size=0.1)"
      ],
      "metadata": {
        "id": "sHdfIasbm1-j"
      },
      "execution_count": null,
      "outputs": []
    },
    {
      "cell_type": "markdown",
      "source": [
        "install required modules"
      ],
      "metadata": {
        "id": "8ex_jcJxo97g"
      }
    },
    {
      "cell_type": "code",
      "source": [
        "!pip install -q transformers"
      ],
      "metadata": {
        "id": "MqHkU8_fo-jK"
      },
      "execution_count": null,
      "outputs": []
    },
    {
      "cell_type": "markdown",
      "source": [
        "Pre-processing without tokenizing documents."
      ],
      "metadata": {
        "id": "BrRJqg75ptzh"
      }
    },
    {
      "cell_type": "code",
      "source": [
        "x_train_processed = pre_process(x_train, remove_stopwords=True, MIN_COUNT=0)\n",
        "x_train_processed = [' '.join(x) for x in x_train_processed]\n",
        "\n",
        "x_test_processed = pre_process(x_test, remove_stopwords=True, MIN_COUNT=0)\n",
        "x_test_processed = [' '.join(x) for x in x_test_processed]\n",
        "\n",
        "#x_valid_processed = pre_process(x_valid, remove_stopwords=True, MIN_COUNT=0)\n",
        "#x_valid_processed = [' '.join(x) for x in x_valid_processed]"
      ],
      "metadata": {
        "id": "_J3BFNoQpA9G"
      },
      "execution_count": null,
      "outputs": []
    },
    {
      "cell_type": "code",
      "source": [
        "from torch import nn\n",
        "from transformers import Trainer\n",
        "\n",
        "\n",
        "class CustomTrainer(Trainer):\n",
        "    def compute_loss(self, model, inputs, return_outputs=False):\n",
        "        labels = inputs.get(\"labels\")\n",
        "        # forward pass\n",
        "        outputs = model(**inputs)\n",
        "        logits = outputs.get(\"logits\")\n",
        "        loss_fct = nn.CrossEntropyLoss(weight=torch.tensor(class_weight, dtype=torch.float).to('cuda'))\n",
        "        loss = loss_fct(logits.view(-1, self.model.config.num_labels), labels.view(-1))\n",
        "        return (loss, outputs) if return_outputs else loss"
      ],
      "metadata": {
        "id": "ksdW0nEaJLgP"
      },
      "execution_count": null,
      "outputs": []
    },
    {
      "cell_type": "markdown",
      "source": [
        "Use HooshvareLab(Parsbert) pretrained model to create a new classification model. Use cuda for faster runtime."
      ],
      "metadata": {
        "id": "7cSz3MCvpOXZ"
      }
    },
    {
      "cell_type": "code",
      "source": [
        "from transformers import AutoModelForSequenceClassification, TrainingArguments, Trainer\n",
        "import torch\n",
        "\n",
        "MODEL_NAME = 'HooshvareLab/bert-fa-base-uncased'\n",
        "classification_model = AutoModelForSequenceClassification.from_pretrained(MODEL_NAME, num_labels=len(data.chapter.value_counts()))\n",
        "\n",
        "device = \"cuda\" if torch.cuda.is_available() else \"cpu\"\n",
        "classification_model.to(device)"
      ],
      "metadata": {
        "id": "tqiwPb30pCxE",
        "colab": {
          "base_uri": "https://localhost:8080/"
        },
        "outputId": "86dd539f-02ea-4ac1-b7e7-923ed638145f"
      },
      "execution_count": null,
      "outputs": [
        {
          "output_type": "stream",
          "name": "stderr",
          "text": [
            "loading configuration file https://huggingface.co/HooshvareLab/bert-fa-base-uncased/resolve/main/config.json from cache at /root/.cache/huggingface/transformers/58557026b49e9dc674e1f96085a408e0703f4b89cb4470fd9f1ef11ea21c18f9.8188588bbc324b118f288d3ce203479bf1b25266e7ce9fdc628195c43381c732\n",
            "Model config BertConfig {\n",
            "  \"_name_or_path\": \"HooshvareLab/bert-fa-base-uncased\",\n",
            "  \"architectures\": [\n",
            "    \"BertForMaskedLM\"\n",
            "  ],\n",
            "  \"attention_probs_dropout_prob\": 0.1,\n",
            "  \"classifier_dropout\": null,\n",
            "  \"hidden_act\": \"gelu\",\n",
            "  \"hidden_dropout_prob\": 0.1,\n",
            "  \"hidden_size\": 768,\n",
            "  \"id2label\": {\n",
            "    \"0\": \"LABEL_0\",\n",
            "    \"1\": \"LABEL_1\",\n",
            "    \"2\": \"LABEL_2\",\n",
            "    \"3\": \"LABEL_3\",\n",
            "    \"4\": \"LABEL_4\",\n",
            "    \"5\": \"LABEL_5\",\n",
            "    \"6\": \"LABEL_6\",\n",
            "    \"7\": \"LABEL_7\",\n",
            "    \"8\": \"LABEL_8\",\n",
            "    \"9\": \"LABEL_9\",\n",
            "    \"10\": \"LABEL_10\"\n",
            "  },\n",
            "  \"initializer_range\": 0.02,\n",
            "  \"intermediate_size\": 3072,\n",
            "  \"label2id\": {\n",
            "    \"LABEL_0\": 0,\n",
            "    \"LABEL_1\": 1,\n",
            "    \"LABEL_10\": 10,\n",
            "    \"LABEL_2\": 2,\n",
            "    \"LABEL_3\": 3,\n",
            "    \"LABEL_4\": 4,\n",
            "    \"LABEL_5\": 5,\n",
            "    \"LABEL_6\": 6,\n",
            "    \"LABEL_7\": 7,\n",
            "    \"LABEL_8\": 8,\n",
            "    \"LABEL_9\": 9\n",
            "  },\n",
            "  \"layer_norm_eps\": 1e-12,\n",
            "  \"max_position_embeddings\": 512,\n",
            "  \"model_type\": \"bert\",\n",
            "  \"num_attention_heads\": 12,\n",
            "  \"num_hidden_layers\": 12,\n",
            "  \"pad_token_id\": 0,\n",
            "  \"position_embedding_type\": \"absolute\",\n",
            "  \"transformers_version\": \"4.20.0\",\n",
            "  \"type_vocab_size\": 2,\n",
            "  \"use_cache\": true,\n",
            "  \"vocab_size\": 100000\n",
            "}\n",
            "\n",
            "loading weights file https://huggingface.co/HooshvareLab/bert-fa-base-uncased/resolve/main/pytorch_model.bin from cache at /root/.cache/huggingface/transformers/868db6f52695bdb1f262065ff59a35026b1cdd73dc380b223cf85489f5c02fb3.4441550112f4dc6b4198e0a9b138485892ce5efffd660152e1a2d6a0cb8cec1c\n",
            "Some weights of the model checkpoint at HooshvareLab/bert-fa-base-uncased were not used when initializing BertForSequenceClassification: ['cls.seq_relationship.bias', 'cls.predictions.bias', 'cls.predictions.transform.dense.weight', 'cls.predictions.transform.dense.bias', 'cls.predictions.transform.LayerNorm.weight', 'cls.predictions.transform.LayerNorm.bias', 'cls.predictions.decoder.weight', 'cls.predictions.decoder.bias', 'cls.seq_relationship.weight']\n",
            "- This IS expected if you are initializing BertForSequenceClassification from the checkpoint of a model trained on another task or with another architecture (e.g. initializing a BertForSequenceClassification model from a BertForPreTraining model).\n",
            "- This IS NOT expected if you are initializing BertForSequenceClassification from the checkpoint of a model that you expect to be exactly identical (initializing a BertForSequenceClassification model from a BertForSequenceClassification model).\n",
            "Some weights of BertForSequenceClassification were not initialized from the model checkpoint at HooshvareLab/bert-fa-base-uncased and are newly initialized: ['classifier.bias', 'classifier.weight']\n",
            "You should probably TRAIN this model on a down-stream task to be able to use it for predictions and inference.\n"
          ]
        },
        {
          "output_type": "execute_result",
          "data": {
            "text/plain": [
              "BertForSequenceClassification(\n",
              "  (bert): BertModel(\n",
              "    (embeddings): BertEmbeddings(\n",
              "      (word_embeddings): Embedding(100000, 768, padding_idx=0)\n",
              "      (position_embeddings): Embedding(512, 768)\n",
              "      (token_type_embeddings): Embedding(2, 768)\n",
              "      (LayerNorm): LayerNorm((768,), eps=1e-12, elementwise_affine=True)\n",
              "      (dropout): Dropout(p=0.1, inplace=False)\n",
              "    )\n",
              "    (encoder): BertEncoder(\n",
              "      (layer): ModuleList(\n",
              "        (0): BertLayer(\n",
              "          (attention): BertAttention(\n",
              "            (self): BertSelfAttention(\n",
              "              (query): Linear(in_features=768, out_features=768, bias=True)\n",
              "              (key): Linear(in_features=768, out_features=768, bias=True)\n",
              "              (value): Linear(in_features=768, out_features=768, bias=True)\n",
              "              (dropout): Dropout(p=0.1, inplace=False)\n",
              "            )\n",
              "            (output): BertSelfOutput(\n",
              "              (dense): Linear(in_features=768, out_features=768, bias=True)\n",
              "              (LayerNorm): LayerNorm((768,), eps=1e-12, elementwise_affine=True)\n",
              "              (dropout): Dropout(p=0.1, inplace=False)\n",
              "            )\n",
              "          )\n",
              "          (intermediate): BertIntermediate(\n",
              "            (dense): Linear(in_features=768, out_features=3072, bias=True)\n",
              "            (intermediate_act_fn): GELUActivation()\n",
              "          )\n",
              "          (output): BertOutput(\n",
              "            (dense): Linear(in_features=3072, out_features=768, bias=True)\n",
              "            (LayerNorm): LayerNorm((768,), eps=1e-12, elementwise_affine=True)\n",
              "            (dropout): Dropout(p=0.1, inplace=False)\n",
              "          )\n",
              "        )\n",
              "        (1): BertLayer(\n",
              "          (attention): BertAttention(\n",
              "            (self): BertSelfAttention(\n",
              "              (query): Linear(in_features=768, out_features=768, bias=True)\n",
              "              (key): Linear(in_features=768, out_features=768, bias=True)\n",
              "              (value): Linear(in_features=768, out_features=768, bias=True)\n",
              "              (dropout): Dropout(p=0.1, inplace=False)\n",
              "            )\n",
              "            (output): BertSelfOutput(\n",
              "              (dense): Linear(in_features=768, out_features=768, bias=True)\n",
              "              (LayerNorm): LayerNorm((768,), eps=1e-12, elementwise_affine=True)\n",
              "              (dropout): Dropout(p=0.1, inplace=False)\n",
              "            )\n",
              "          )\n",
              "          (intermediate): BertIntermediate(\n",
              "            (dense): Linear(in_features=768, out_features=3072, bias=True)\n",
              "            (intermediate_act_fn): GELUActivation()\n",
              "          )\n",
              "          (output): BertOutput(\n",
              "            (dense): Linear(in_features=3072, out_features=768, bias=True)\n",
              "            (LayerNorm): LayerNorm((768,), eps=1e-12, elementwise_affine=True)\n",
              "            (dropout): Dropout(p=0.1, inplace=False)\n",
              "          )\n",
              "        )\n",
              "        (2): BertLayer(\n",
              "          (attention): BertAttention(\n",
              "            (self): BertSelfAttention(\n",
              "              (query): Linear(in_features=768, out_features=768, bias=True)\n",
              "              (key): Linear(in_features=768, out_features=768, bias=True)\n",
              "              (value): Linear(in_features=768, out_features=768, bias=True)\n",
              "              (dropout): Dropout(p=0.1, inplace=False)\n",
              "            )\n",
              "            (output): BertSelfOutput(\n",
              "              (dense): Linear(in_features=768, out_features=768, bias=True)\n",
              "              (LayerNorm): LayerNorm((768,), eps=1e-12, elementwise_affine=True)\n",
              "              (dropout): Dropout(p=0.1, inplace=False)\n",
              "            )\n",
              "          )\n",
              "          (intermediate): BertIntermediate(\n",
              "            (dense): Linear(in_features=768, out_features=3072, bias=True)\n",
              "            (intermediate_act_fn): GELUActivation()\n",
              "          )\n",
              "          (output): BertOutput(\n",
              "            (dense): Linear(in_features=3072, out_features=768, bias=True)\n",
              "            (LayerNorm): LayerNorm((768,), eps=1e-12, elementwise_affine=True)\n",
              "            (dropout): Dropout(p=0.1, inplace=False)\n",
              "          )\n",
              "        )\n",
              "        (3): BertLayer(\n",
              "          (attention): BertAttention(\n",
              "            (self): BertSelfAttention(\n",
              "              (query): Linear(in_features=768, out_features=768, bias=True)\n",
              "              (key): Linear(in_features=768, out_features=768, bias=True)\n",
              "              (value): Linear(in_features=768, out_features=768, bias=True)\n",
              "              (dropout): Dropout(p=0.1, inplace=False)\n",
              "            )\n",
              "            (output): BertSelfOutput(\n",
              "              (dense): Linear(in_features=768, out_features=768, bias=True)\n",
              "              (LayerNorm): LayerNorm((768,), eps=1e-12, elementwise_affine=True)\n",
              "              (dropout): Dropout(p=0.1, inplace=False)\n",
              "            )\n",
              "          )\n",
              "          (intermediate): BertIntermediate(\n",
              "            (dense): Linear(in_features=768, out_features=3072, bias=True)\n",
              "            (intermediate_act_fn): GELUActivation()\n",
              "          )\n",
              "          (output): BertOutput(\n",
              "            (dense): Linear(in_features=3072, out_features=768, bias=True)\n",
              "            (LayerNorm): LayerNorm((768,), eps=1e-12, elementwise_affine=True)\n",
              "            (dropout): Dropout(p=0.1, inplace=False)\n",
              "          )\n",
              "        )\n",
              "        (4): BertLayer(\n",
              "          (attention): BertAttention(\n",
              "            (self): BertSelfAttention(\n",
              "              (query): Linear(in_features=768, out_features=768, bias=True)\n",
              "              (key): Linear(in_features=768, out_features=768, bias=True)\n",
              "              (value): Linear(in_features=768, out_features=768, bias=True)\n",
              "              (dropout): Dropout(p=0.1, inplace=False)\n",
              "            )\n",
              "            (output): BertSelfOutput(\n",
              "              (dense): Linear(in_features=768, out_features=768, bias=True)\n",
              "              (LayerNorm): LayerNorm((768,), eps=1e-12, elementwise_affine=True)\n",
              "              (dropout): Dropout(p=0.1, inplace=False)\n",
              "            )\n",
              "          )\n",
              "          (intermediate): BertIntermediate(\n",
              "            (dense): Linear(in_features=768, out_features=3072, bias=True)\n",
              "            (intermediate_act_fn): GELUActivation()\n",
              "          )\n",
              "          (output): BertOutput(\n",
              "            (dense): Linear(in_features=3072, out_features=768, bias=True)\n",
              "            (LayerNorm): LayerNorm((768,), eps=1e-12, elementwise_affine=True)\n",
              "            (dropout): Dropout(p=0.1, inplace=False)\n",
              "          )\n",
              "        )\n",
              "        (5): BertLayer(\n",
              "          (attention): BertAttention(\n",
              "            (self): BertSelfAttention(\n",
              "              (query): Linear(in_features=768, out_features=768, bias=True)\n",
              "              (key): Linear(in_features=768, out_features=768, bias=True)\n",
              "              (value): Linear(in_features=768, out_features=768, bias=True)\n",
              "              (dropout): Dropout(p=0.1, inplace=False)\n",
              "            )\n",
              "            (output): BertSelfOutput(\n",
              "              (dense): Linear(in_features=768, out_features=768, bias=True)\n",
              "              (LayerNorm): LayerNorm((768,), eps=1e-12, elementwise_affine=True)\n",
              "              (dropout): Dropout(p=0.1, inplace=False)\n",
              "            )\n",
              "          )\n",
              "          (intermediate): BertIntermediate(\n",
              "            (dense): Linear(in_features=768, out_features=3072, bias=True)\n",
              "            (intermediate_act_fn): GELUActivation()\n",
              "          )\n",
              "          (output): BertOutput(\n",
              "            (dense): Linear(in_features=3072, out_features=768, bias=True)\n",
              "            (LayerNorm): LayerNorm((768,), eps=1e-12, elementwise_affine=True)\n",
              "            (dropout): Dropout(p=0.1, inplace=False)\n",
              "          )\n",
              "        )\n",
              "        (6): BertLayer(\n",
              "          (attention): BertAttention(\n",
              "            (self): BertSelfAttention(\n",
              "              (query): Linear(in_features=768, out_features=768, bias=True)\n",
              "              (key): Linear(in_features=768, out_features=768, bias=True)\n",
              "              (value): Linear(in_features=768, out_features=768, bias=True)\n",
              "              (dropout): Dropout(p=0.1, inplace=False)\n",
              "            )\n",
              "            (output): BertSelfOutput(\n",
              "              (dense): Linear(in_features=768, out_features=768, bias=True)\n",
              "              (LayerNorm): LayerNorm((768,), eps=1e-12, elementwise_affine=True)\n",
              "              (dropout): Dropout(p=0.1, inplace=False)\n",
              "            )\n",
              "          )\n",
              "          (intermediate): BertIntermediate(\n",
              "            (dense): Linear(in_features=768, out_features=3072, bias=True)\n",
              "            (intermediate_act_fn): GELUActivation()\n",
              "          )\n",
              "          (output): BertOutput(\n",
              "            (dense): Linear(in_features=3072, out_features=768, bias=True)\n",
              "            (LayerNorm): LayerNorm((768,), eps=1e-12, elementwise_affine=True)\n",
              "            (dropout): Dropout(p=0.1, inplace=False)\n",
              "          )\n",
              "        )\n",
              "        (7): BertLayer(\n",
              "          (attention): BertAttention(\n",
              "            (self): BertSelfAttention(\n",
              "              (query): Linear(in_features=768, out_features=768, bias=True)\n",
              "              (key): Linear(in_features=768, out_features=768, bias=True)\n",
              "              (value): Linear(in_features=768, out_features=768, bias=True)\n",
              "              (dropout): Dropout(p=0.1, inplace=False)\n",
              "            )\n",
              "            (output): BertSelfOutput(\n",
              "              (dense): Linear(in_features=768, out_features=768, bias=True)\n",
              "              (LayerNorm): LayerNorm((768,), eps=1e-12, elementwise_affine=True)\n",
              "              (dropout): Dropout(p=0.1, inplace=False)\n",
              "            )\n",
              "          )\n",
              "          (intermediate): BertIntermediate(\n",
              "            (dense): Linear(in_features=768, out_features=3072, bias=True)\n",
              "            (intermediate_act_fn): GELUActivation()\n",
              "          )\n",
              "          (output): BertOutput(\n",
              "            (dense): Linear(in_features=3072, out_features=768, bias=True)\n",
              "            (LayerNorm): LayerNorm((768,), eps=1e-12, elementwise_affine=True)\n",
              "            (dropout): Dropout(p=0.1, inplace=False)\n",
              "          )\n",
              "        )\n",
              "        (8): BertLayer(\n",
              "          (attention): BertAttention(\n",
              "            (self): BertSelfAttention(\n",
              "              (query): Linear(in_features=768, out_features=768, bias=True)\n",
              "              (key): Linear(in_features=768, out_features=768, bias=True)\n",
              "              (value): Linear(in_features=768, out_features=768, bias=True)\n",
              "              (dropout): Dropout(p=0.1, inplace=False)\n",
              "            )\n",
              "            (output): BertSelfOutput(\n",
              "              (dense): Linear(in_features=768, out_features=768, bias=True)\n",
              "              (LayerNorm): LayerNorm((768,), eps=1e-12, elementwise_affine=True)\n",
              "              (dropout): Dropout(p=0.1, inplace=False)\n",
              "            )\n",
              "          )\n",
              "          (intermediate): BertIntermediate(\n",
              "            (dense): Linear(in_features=768, out_features=3072, bias=True)\n",
              "            (intermediate_act_fn): GELUActivation()\n",
              "          )\n",
              "          (output): BertOutput(\n",
              "            (dense): Linear(in_features=3072, out_features=768, bias=True)\n",
              "            (LayerNorm): LayerNorm((768,), eps=1e-12, elementwise_affine=True)\n",
              "            (dropout): Dropout(p=0.1, inplace=False)\n",
              "          )\n",
              "        )\n",
              "        (9): BertLayer(\n",
              "          (attention): BertAttention(\n",
              "            (self): BertSelfAttention(\n",
              "              (query): Linear(in_features=768, out_features=768, bias=True)\n",
              "              (key): Linear(in_features=768, out_features=768, bias=True)\n",
              "              (value): Linear(in_features=768, out_features=768, bias=True)\n",
              "              (dropout): Dropout(p=0.1, inplace=False)\n",
              "            )\n",
              "            (output): BertSelfOutput(\n",
              "              (dense): Linear(in_features=768, out_features=768, bias=True)\n",
              "              (LayerNorm): LayerNorm((768,), eps=1e-12, elementwise_affine=True)\n",
              "              (dropout): Dropout(p=0.1, inplace=False)\n",
              "            )\n",
              "          )\n",
              "          (intermediate): BertIntermediate(\n",
              "            (dense): Linear(in_features=768, out_features=3072, bias=True)\n",
              "            (intermediate_act_fn): GELUActivation()\n",
              "          )\n",
              "          (output): BertOutput(\n",
              "            (dense): Linear(in_features=3072, out_features=768, bias=True)\n",
              "            (LayerNorm): LayerNorm((768,), eps=1e-12, elementwise_affine=True)\n",
              "            (dropout): Dropout(p=0.1, inplace=False)\n",
              "          )\n",
              "        )\n",
              "        (10): BertLayer(\n",
              "          (attention): BertAttention(\n",
              "            (self): BertSelfAttention(\n",
              "              (query): Linear(in_features=768, out_features=768, bias=True)\n",
              "              (key): Linear(in_features=768, out_features=768, bias=True)\n",
              "              (value): Linear(in_features=768, out_features=768, bias=True)\n",
              "              (dropout): Dropout(p=0.1, inplace=False)\n",
              "            )\n",
              "            (output): BertSelfOutput(\n",
              "              (dense): Linear(in_features=768, out_features=768, bias=True)\n",
              "              (LayerNorm): LayerNorm((768,), eps=1e-12, elementwise_affine=True)\n",
              "              (dropout): Dropout(p=0.1, inplace=False)\n",
              "            )\n",
              "          )\n",
              "          (intermediate): BertIntermediate(\n",
              "            (dense): Linear(in_features=768, out_features=3072, bias=True)\n",
              "            (intermediate_act_fn): GELUActivation()\n",
              "          )\n",
              "          (output): BertOutput(\n",
              "            (dense): Linear(in_features=3072, out_features=768, bias=True)\n",
              "            (LayerNorm): LayerNorm((768,), eps=1e-12, elementwise_affine=True)\n",
              "            (dropout): Dropout(p=0.1, inplace=False)\n",
              "          )\n",
              "        )\n",
              "        (11): BertLayer(\n",
              "          (attention): BertAttention(\n",
              "            (self): BertSelfAttention(\n",
              "              (query): Linear(in_features=768, out_features=768, bias=True)\n",
              "              (key): Linear(in_features=768, out_features=768, bias=True)\n",
              "              (value): Linear(in_features=768, out_features=768, bias=True)\n",
              "              (dropout): Dropout(p=0.1, inplace=False)\n",
              "            )\n",
              "            (output): BertSelfOutput(\n",
              "              (dense): Linear(in_features=768, out_features=768, bias=True)\n",
              "              (LayerNorm): LayerNorm((768,), eps=1e-12, elementwise_affine=True)\n",
              "              (dropout): Dropout(p=0.1, inplace=False)\n",
              "            )\n",
              "          )\n",
              "          (intermediate): BertIntermediate(\n",
              "            (dense): Linear(in_features=768, out_features=3072, bias=True)\n",
              "            (intermediate_act_fn): GELUActivation()\n",
              "          )\n",
              "          (output): BertOutput(\n",
              "            (dense): Linear(in_features=3072, out_features=768, bias=True)\n",
              "            (LayerNorm): LayerNorm((768,), eps=1e-12, elementwise_affine=True)\n",
              "            (dropout): Dropout(p=0.1, inplace=False)\n",
              "          )\n",
              "        )\n",
              "      )\n",
              "    )\n",
              "    (pooler): BertPooler(\n",
              "      (dense): Linear(in_features=768, out_features=768, bias=True)\n",
              "      (activation): Tanh()\n",
              "    )\n",
              "  )\n",
              "  (dropout): Dropout(p=0.1, inplace=False)\n",
              "  (classifier): Linear(in_features=768, out_features=11, bias=True)\n",
              ")"
            ]
          },
          "metadata": {},
          "execution_count": 87
        }
      ]
    },
    {
      "cell_type": "markdown",
      "source": [
        "Define tokenizer from same pretrained model."
      ],
      "metadata": {
        "id": "kcDb2aVSpoKj"
      }
    },
    {
      "cell_type": "code",
      "source": [
        "from transformers import AutoTokenizer\n",
        "\n",
        "tokenizer = AutoTokenizer.from_pretrained(MODEL_NAME)"
      ],
      "metadata": {
        "id": "SyFtPyQnpPBB",
        "colab": {
          "base_uri": "https://localhost:8080/"
        },
        "outputId": "e557bd41-961b-43e4-ba1f-223b43617170"
      },
      "execution_count": null,
      "outputs": [
        {
          "output_type": "stream",
          "name": "stderr",
          "text": [
            "Could not locate the tokenizer configuration file, will try to use the model config instead.\n",
            "loading configuration file https://huggingface.co/HooshvareLab/bert-fa-base-uncased/resolve/main/config.json from cache at /root/.cache/huggingface/transformers/58557026b49e9dc674e1f96085a408e0703f4b89cb4470fd9f1ef11ea21c18f9.8188588bbc324b118f288d3ce203479bf1b25266e7ce9fdc628195c43381c732\n",
            "Model config BertConfig {\n",
            "  \"_name_or_path\": \"HooshvareLab/bert-fa-base-uncased\",\n",
            "  \"architectures\": [\n",
            "    \"BertForMaskedLM\"\n",
            "  ],\n",
            "  \"attention_probs_dropout_prob\": 0.1,\n",
            "  \"classifier_dropout\": null,\n",
            "  \"hidden_act\": \"gelu\",\n",
            "  \"hidden_dropout_prob\": 0.1,\n",
            "  \"hidden_size\": 768,\n",
            "  \"initializer_range\": 0.02,\n",
            "  \"intermediate_size\": 3072,\n",
            "  \"layer_norm_eps\": 1e-12,\n",
            "  \"max_position_embeddings\": 512,\n",
            "  \"model_type\": \"bert\",\n",
            "  \"num_attention_heads\": 12,\n",
            "  \"num_hidden_layers\": 12,\n",
            "  \"pad_token_id\": 0,\n",
            "  \"position_embedding_type\": \"absolute\",\n",
            "  \"transformers_version\": \"4.20.0\",\n",
            "  \"type_vocab_size\": 2,\n",
            "  \"use_cache\": true,\n",
            "  \"vocab_size\": 100000\n",
            "}\n",
            "\n",
            "loading file https://huggingface.co/HooshvareLab/bert-fa-base-uncased/resolve/main/vocab.txt from cache at /root/.cache/huggingface/transformers/d4efb2459ccb463b9dcfb867b20dc784b102fd3c722805993a198bed4113bb2e.be97e2fb95fad2185f02d6ee2f008d628c36bed0cd1b0b8495406c3629e51276\n",
            "loading file https://huggingface.co/HooshvareLab/bert-fa-base-uncased/resolve/main/tokenizer.json from cache at None\n",
            "loading file https://huggingface.co/HooshvareLab/bert-fa-base-uncased/resolve/main/added_tokens.json from cache at None\n",
            "loading file https://huggingface.co/HooshvareLab/bert-fa-base-uncased/resolve/main/special_tokens_map.json from cache at None\n",
            "loading file https://huggingface.co/HooshvareLab/bert-fa-base-uncased/resolve/main/tokenizer_config.json from cache at None\n",
            "loading configuration file https://huggingface.co/HooshvareLab/bert-fa-base-uncased/resolve/main/config.json from cache at /root/.cache/huggingface/transformers/58557026b49e9dc674e1f96085a408e0703f4b89cb4470fd9f1ef11ea21c18f9.8188588bbc324b118f288d3ce203479bf1b25266e7ce9fdc628195c43381c732\n",
            "Model config BertConfig {\n",
            "  \"_name_or_path\": \"HooshvareLab/bert-fa-base-uncased\",\n",
            "  \"architectures\": [\n",
            "    \"BertForMaskedLM\"\n",
            "  ],\n",
            "  \"attention_probs_dropout_prob\": 0.1,\n",
            "  \"classifier_dropout\": null,\n",
            "  \"hidden_act\": \"gelu\",\n",
            "  \"hidden_dropout_prob\": 0.1,\n",
            "  \"hidden_size\": 768,\n",
            "  \"initializer_range\": 0.02,\n",
            "  \"intermediate_size\": 3072,\n",
            "  \"layer_norm_eps\": 1e-12,\n",
            "  \"max_position_embeddings\": 512,\n",
            "  \"model_type\": \"bert\",\n",
            "  \"num_attention_heads\": 12,\n",
            "  \"num_hidden_layers\": 12,\n",
            "  \"pad_token_id\": 0,\n",
            "  \"position_embedding_type\": \"absolute\",\n",
            "  \"transformers_version\": \"4.20.0\",\n",
            "  \"type_vocab_size\": 2,\n",
            "  \"use_cache\": true,\n",
            "  \"vocab_size\": 100000\n",
            "}\n",
            "\n",
            "loading configuration file https://huggingface.co/HooshvareLab/bert-fa-base-uncased/resolve/main/config.json from cache at /root/.cache/huggingface/transformers/58557026b49e9dc674e1f96085a408e0703f4b89cb4470fd9f1ef11ea21c18f9.8188588bbc324b118f288d3ce203479bf1b25266e7ce9fdc628195c43381c732\n",
            "Model config BertConfig {\n",
            "  \"_name_or_path\": \"HooshvareLab/bert-fa-base-uncased\",\n",
            "  \"architectures\": [\n",
            "    \"BertForMaskedLM\"\n",
            "  ],\n",
            "  \"attention_probs_dropout_prob\": 0.1,\n",
            "  \"classifier_dropout\": null,\n",
            "  \"hidden_act\": \"gelu\",\n",
            "  \"hidden_dropout_prob\": 0.1,\n",
            "  \"hidden_size\": 768,\n",
            "  \"initializer_range\": 0.02,\n",
            "  \"intermediate_size\": 3072,\n",
            "  \"layer_norm_eps\": 1e-12,\n",
            "  \"max_position_embeddings\": 512,\n",
            "  \"model_type\": \"bert\",\n",
            "  \"num_attention_heads\": 12,\n",
            "  \"num_hidden_layers\": 12,\n",
            "  \"pad_token_id\": 0,\n",
            "  \"position_embedding_type\": \"absolute\",\n",
            "  \"transformers_version\": \"4.20.0\",\n",
            "  \"type_vocab_size\": 2,\n",
            "  \"use_cache\": true,\n",
            "  \"vocab_size\": 100000\n",
            "}\n",
            "\n"
          ]
        }
      ]
    },
    {
      "cell_type": "markdown",
      "source": [
        "Creating datasets and use tokenizer to decode train, validation, and test data."
      ],
      "metadata": {
        "id": "utLsQuAypjvF"
      }
    },
    {
      "cell_type": "code",
      "source": [
        "import torch \n",
        "\n",
        "class PoemDataset(torch.utils.data.Dataset):\n",
        "    def __init__(self, data, labels, encoder):\n",
        "        self.encoding = encoder(data, truncation=True, padding=True)\n",
        "        self.labels = labels.to_numpy()\n",
        "    \n",
        "    def __getitem__(self, idx):\n",
        "        item = {key: torch.tensor(value[idx]) for key, value in self.encoding.items()}\n",
        "        item['labels'] = torch.tensor(self.labels[idx])\n",
        "        return item\n",
        "\n",
        "    def __len__(self):\n",
        "        return len(self.labels)\n",
        "\n",
        "train_dataset = PoemDataset(x_train_processed, y_train, tokenizer)\n",
        "#valid_dataset = PoemDataset(x_valid_processed, y_valid, tokenizer)\n",
        "test_dataset = PoemDataset(x_test_processed, y_test, tokenizer)"
      ],
      "metadata": {
        "id": "fJzAHagSpRAi",
        "colab": {
          "base_uri": "https://localhost:8080/"
        },
        "outputId": "b521f509-181a-4523-adae-681e3ea72768"
      },
      "execution_count": null,
      "outputs": [
        {
          "output_type": "stream",
          "name": "stderr",
          "text": [
            "Asking to truncate to max_length but no maximum length is provided and the model has no predefined maximum length. Default to no truncation.\n"
          ]
        }
      ]
    },
    {
      "cell_type": "code",
      "source": [
        "from sklearn.metrics import precision_recall_fscore_support\n",
        "\n",
        "def compute_metrics(pred):\n",
        "    labels = pred.label_ids\n",
        "    preds = pred.predictions.argmax(-1)\n",
        "    precision, recall, f1, _ = precision_recall_fscore_support(labels, preds, average='macro')\n",
        "    acc = accuracy_score(labels, preds)\n",
        "    return {\n",
        "        'accuracy': acc,\n",
        "        'f1': f1,\n",
        "        'precision': precision,\n",
        "        'recall': recall\n",
        "    }"
      ],
      "metadata": {
        "id": "b61HKmAr-26d"
      },
      "execution_count": null,
      "outputs": []
    },
    {
      "cell_type": "code",
      "source": [
        "from transformers import DataCollatorWithPadding\n",
        "\n",
        "data_collator = DataCollatorWithPadding(tokenizer=tokenizer)"
      ],
      "metadata": {
        "id": "QD94o4oSFGlL"
      },
      "execution_count": null,
      "outputs": []
    },
    {
      "cell_type": "markdown",
      "source": [
        "Setting training arguments for the model. use learning rate 1e-5 to avoid overfitting.\n",
        "\n",
        "Then Train the model."
      ],
      "metadata": {
        "id": "Ea5ASYCLpeX6"
      }
    },
    {
      "cell_type": "code",
      "source": [
        "from transformers import DistilBertForSequenceClassification, Trainer, TrainingArguments\n",
        "\n",
        "training_args = TrainingArguments(\n",
        "    output_dir='./results',\n",
        "    num_train_epochs = 6,\n",
        "    evaluation_strategy='epoch',\n",
        "    save_strategy='epoch',\n",
        "    learning_rate=1e-5,\n",
        "    per_device_train_batch_size=16,\n",
        "    per_device_eval_batch_size=16,\n",
        "    weight_decay=0.01,\n",
        "    logging_dir='./logs',\n",
        "    logging_steps=10,\n",
        "    warmup_steps=32,\n",
        "    load_best_model_at_end=True,\n",
        "    metric_for_best_model='f1'\n",
        ")\n",
        "\n",
        "trainer = CustomTrainer(\n",
        "    model=classification_model,\n",
        "    args=training_args,\n",
        "    compute_metrics=compute_metrics,\n",
        "    train_dataset=train_dataset,\n",
        "    eval_dataset=test_dataset,\n",
        "    tokenizer=tokenizer,\n",
        "    data_collator=data_collator\n",
        ")\n",
        "\n",
        "trainer.train()"
      ],
      "metadata": {
        "id": "eL_hhxeTpTqx",
        "colab": {
          "base_uri": "https://localhost:8080/",
          "height": 1000
        },
        "outputId": "0af020b1-aafb-45e4-a480-16bc07d68a89"
      },
      "execution_count": null,
      "outputs": [
        {
          "output_type": "stream",
          "name": "stderr",
          "text": [
            "PyTorch: setting up devices\n",
            "The default value for the training argument `--report_to` will change in v5 (from all installed integrations to none). In v5, you will need to use `--report_to all` to get the same behavior as now. You should start updating your code and make this info disappear :-).\n",
            "/usr/local/lib/python3.7/dist-packages/transformers/optimization.py:310: FutureWarning: This implementation of AdamW is deprecated and will be removed in a future version. Use the PyTorch implementation torch.optim.AdamW instead, or set `no_deprecation_warning=True` to disable this warning\n",
            "  FutureWarning,\n",
            "***** Running training *****\n",
            "  Num examples = 3251\n",
            "  Num Epochs = 6\n",
            "  Instantaneous batch size per device = 16\n",
            "  Total train batch size (w. parallel, distributed & accumulation) = 16\n",
            "  Gradient Accumulation steps = 1\n",
            "  Total optimization steps = 1224\n"
          ]
        },
        {
          "output_type": "display_data",
          "data": {
            "text/plain": [
              "<IPython.core.display.HTML object>"
            ],
            "text/html": [
              "\n",
              "    <div>\n",
              "      \n",
              "      <progress value='1224' max='1224' style='width:300px; height:20px; vertical-align: middle;'></progress>\n",
              "      [1224/1224 03:24, Epoch 6/6]\n",
              "    </div>\n",
              "    <table border=\"1\" class=\"dataframe\">\n",
              "  <thead>\n",
              " <tr style=\"text-align: left;\">\n",
              "      <th>Epoch</th>\n",
              "      <th>Training Loss</th>\n",
              "      <th>Validation Loss</th>\n",
              "      <th>Accuracy</th>\n",
              "      <th>F1</th>\n",
              "      <th>Precision</th>\n",
              "      <th>Recall</th>\n",
              "    </tr>\n",
              "  </thead>\n",
              "  <tbody>\n",
              "    <tr>\n",
              "      <td>1</td>\n",
              "      <td>2.280200</td>\n",
              "      <td>2.223201</td>\n",
              "      <td>0.157442</td>\n",
              "      <td>0.082341</td>\n",
              "      <td>0.076844</td>\n",
              "      <td>0.132433</td>\n",
              "    </tr>\n",
              "    <tr>\n",
              "      <td>2</td>\n",
              "      <td>2.096900</td>\n",
              "      <td>2.151747</td>\n",
              "      <td>0.214022</td>\n",
              "      <td>0.103306</td>\n",
              "      <td>0.092690</td>\n",
              "      <td>0.156377</td>\n",
              "    </tr>\n",
              "    <tr>\n",
              "      <td>3</td>\n",
              "      <td>1.978800</td>\n",
              "      <td>2.140031</td>\n",
              "      <td>0.226322</td>\n",
              "      <td>0.122131</td>\n",
              "      <td>0.129495</td>\n",
              "      <td>0.168243</td>\n",
              "    </tr>\n",
              "    <tr>\n",
              "      <td>4</td>\n",
              "      <td>1.872300</td>\n",
              "      <td>2.159621</td>\n",
              "      <td>0.253383</td>\n",
              "      <td>0.152920</td>\n",
              "      <td>0.184551</td>\n",
              "      <td>0.189012</td>\n",
              "    </tr>\n",
              "    <tr>\n",
              "      <td>5</td>\n",
              "      <td>1.655900</td>\n",
              "      <td>2.200909</td>\n",
              "      <td>0.217712</td>\n",
              "      <td>0.138098</td>\n",
              "      <td>0.151669</td>\n",
              "      <td>0.168629</td>\n",
              "    </tr>\n",
              "    <tr>\n",
              "      <td>6</td>\n",
              "      <td>1.599400</td>\n",
              "      <td>2.185274</td>\n",
              "      <td>0.232472</td>\n",
              "      <td>0.157222</td>\n",
              "      <td>0.197545</td>\n",
              "      <td>0.183692</td>\n",
              "    </tr>\n",
              "  </tbody>\n",
              "</table><p>"
            ]
          },
          "metadata": {}
        },
        {
          "output_type": "stream",
          "name": "stderr",
          "text": [
            "***** Running Evaluation *****\n",
            "  Num examples = 813\n",
            "  Batch size = 16\n",
            "/usr/local/lib/python3.7/dist-packages/sklearn/metrics/_classification.py:1318: UndefinedMetricWarning: Precision and F-score are ill-defined and being set to 0.0 in labels with no predicted samples. Use `zero_division` parameter to control this behavior.\n",
            "  _warn_prf(average, modifier, msg_start, len(result))\n",
            "Saving model checkpoint to ./results/checkpoint-204\n",
            "Configuration saved in ./results/checkpoint-204/config.json\n",
            "Model weights saved in ./results/checkpoint-204/pytorch_model.bin\n",
            "tokenizer config file saved in ./results/checkpoint-204/tokenizer_config.json\n",
            "Special tokens file saved in ./results/checkpoint-204/special_tokens_map.json\n",
            "***** Running Evaluation *****\n",
            "  Num examples = 813\n",
            "  Batch size = 16\n",
            "/usr/local/lib/python3.7/dist-packages/sklearn/metrics/_classification.py:1318: UndefinedMetricWarning: Precision and F-score are ill-defined and being set to 0.0 in labels with no predicted samples. Use `zero_division` parameter to control this behavior.\n",
            "  _warn_prf(average, modifier, msg_start, len(result))\n",
            "Saving model checkpoint to ./results/checkpoint-408\n",
            "Configuration saved in ./results/checkpoint-408/config.json\n",
            "Model weights saved in ./results/checkpoint-408/pytorch_model.bin\n",
            "tokenizer config file saved in ./results/checkpoint-408/tokenizer_config.json\n",
            "Special tokens file saved in ./results/checkpoint-408/special_tokens_map.json\n",
            "***** Running Evaluation *****\n",
            "  Num examples = 813\n",
            "  Batch size = 16\n",
            "/usr/local/lib/python3.7/dist-packages/sklearn/metrics/_classification.py:1318: UndefinedMetricWarning: Precision and F-score are ill-defined and being set to 0.0 in labels with no predicted samples. Use `zero_division` parameter to control this behavior.\n",
            "  _warn_prf(average, modifier, msg_start, len(result))\n",
            "Saving model checkpoint to ./results/checkpoint-612\n",
            "Configuration saved in ./results/checkpoint-612/config.json\n",
            "Model weights saved in ./results/checkpoint-612/pytorch_model.bin\n",
            "tokenizer config file saved in ./results/checkpoint-612/tokenizer_config.json\n",
            "Special tokens file saved in ./results/checkpoint-612/special_tokens_map.json\n",
            "***** Running Evaluation *****\n",
            "  Num examples = 813\n",
            "  Batch size = 16\n",
            "/usr/local/lib/python3.7/dist-packages/sklearn/metrics/_classification.py:1318: UndefinedMetricWarning: Precision and F-score are ill-defined and being set to 0.0 in labels with no predicted samples. Use `zero_division` parameter to control this behavior.\n",
            "  _warn_prf(average, modifier, msg_start, len(result))\n",
            "Saving model checkpoint to ./results/checkpoint-816\n",
            "Configuration saved in ./results/checkpoint-816/config.json\n",
            "Model weights saved in ./results/checkpoint-816/pytorch_model.bin\n",
            "tokenizer config file saved in ./results/checkpoint-816/tokenizer_config.json\n",
            "Special tokens file saved in ./results/checkpoint-816/special_tokens_map.json\n",
            "***** Running Evaluation *****\n",
            "  Num examples = 813\n",
            "  Batch size = 16\n",
            "/usr/local/lib/python3.7/dist-packages/sklearn/metrics/_classification.py:1318: UndefinedMetricWarning: Precision and F-score are ill-defined and being set to 0.0 in labels with no predicted samples. Use `zero_division` parameter to control this behavior.\n",
            "  _warn_prf(average, modifier, msg_start, len(result))\n",
            "Saving model checkpoint to ./results/checkpoint-1020\n",
            "Configuration saved in ./results/checkpoint-1020/config.json\n",
            "Model weights saved in ./results/checkpoint-1020/pytorch_model.bin\n",
            "tokenizer config file saved in ./results/checkpoint-1020/tokenizer_config.json\n",
            "Special tokens file saved in ./results/checkpoint-1020/special_tokens_map.json\n",
            "***** Running Evaluation *****\n",
            "  Num examples = 813\n",
            "  Batch size = 16\n",
            "/usr/local/lib/python3.7/dist-packages/sklearn/metrics/_classification.py:1318: UndefinedMetricWarning: Precision and F-score are ill-defined and being set to 0.0 in labels with no predicted samples. Use `zero_division` parameter to control this behavior.\n",
            "  _warn_prf(average, modifier, msg_start, len(result))\n",
            "Saving model checkpoint to ./results/checkpoint-1224\n",
            "Configuration saved in ./results/checkpoint-1224/config.json\n",
            "Model weights saved in ./results/checkpoint-1224/pytorch_model.bin\n",
            "tokenizer config file saved in ./results/checkpoint-1224/tokenizer_config.json\n",
            "Special tokens file saved in ./results/checkpoint-1224/special_tokens_map.json\n",
            "\n",
            "\n",
            "Training completed. Do not forget to share your model on huggingface.co/models =)\n",
            "\n",
            "\n",
            "Loading best model from ./results/checkpoint-1224 (score: 0.15722150016336792).\n"
          ]
        },
        {
          "output_type": "execute_result",
          "data": {
            "text/plain": [
              "TrainOutput(global_step=1224, training_loss=1.9212358784831427, metrics={'train_runtime': 204.6603, 'train_samples_per_second': 95.309, 'train_steps_per_second': 5.981, 'total_flos': 160395592781376.0, 'train_loss': 1.9212358784831427, 'epoch': 6.0})"
            ]
          },
          "metadata": {},
          "execution_count": 92
        }
      ]
    },
    {
      "cell_type": "code",
      "source": [
        "from transformers import DistilBertForSequenceClassification, Trainer, TrainingArguments\n",
        "\n",
        "training_args = TrainingArguments(\n",
        "    output_dir='./results',\n",
        "    num_train_epochs = 6,\n",
        "    evaluation_strategy='epoch',\n",
        "    save_strategy='epoch',\n",
        "    learning_rate=1e-5,\n",
        "    per_device_train_batch_size=16,\n",
        "    per_device_eval_batch_size=16,\n",
        "    weight_decay=0.01,\n",
        "    logging_dir='./logs',\n",
        "    logging_steps=10,\n",
        "    warmup_steps=32,\n",
        "    load_best_model_at_end=True,\n",
        "    metric_for_best_model='f1'\n",
        ")\n",
        "\n",
        "trainer = CustomTrainer(\n",
        "    model=classification_model,\n",
        "    args=training_args,\n",
        "    compute_metrics=compute_metrics,\n",
        "    train_dataset=train_dataset,\n",
        "    eval_dataset=test_dataset,\n",
        "    tokenizer=tokenizer,\n",
        "    data_collator=data_collator\n",
        ")\n",
        "\n",
        "trainer.train()"
      ],
      "metadata": {
        "colab": {
          "base_uri": "https://localhost:8080/",
          "height": 1000
        },
        "id": "qM5vKqwzaMZX",
        "outputId": "7010cf1d-77a0-4b93-dbde-54bd0cbbde0a"
      },
      "execution_count": null,
      "outputs": [
        {
          "output_type": "stream",
          "name": "stderr",
          "text": [
            "PyTorch: setting up devices\n",
            "The default value for the training argument `--report_to` will change in v5 (from all installed integrations to none). In v5, you will need to use `--report_to all` to get the same behavior as now. You should start updating your code and make this info disappear :-).\n",
            "/usr/local/lib/python3.7/dist-packages/transformers/optimization.py:310: FutureWarning: This implementation of AdamW is deprecated and will be removed in a future version. Use the PyTorch implementation torch.optim.AdamW instead, or set `no_deprecation_warning=True` to disable this warning\n",
            "  FutureWarning,\n",
            "***** Running training *****\n",
            "  Num examples = 3251\n",
            "  Num Epochs = 6\n",
            "  Instantaneous batch size per device = 16\n",
            "  Total train batch size (w. parallel, distributed & accumulation) = 16\n",
            "  Gradient Accumulation steps = 1\n",
            "  Total optimization steps = 1224\n"
          ]
        },
        {
          "output_type": "display_data",
          "data": {
            "text/plain": [
              "<IPython.core.display.HTML object>"
            ],
            "text/html": [
              "\n",
              "    <div>\n",
              "      \n",
              "      <progress value='1224' max='1224' style='width:300px; height:20px; vertical-align: middle;'></progress>\n",
              "      [1224/1224 03:20, Epoch 6/6]\n",
              "    </div>\n",
              "    <table border=\"1\" class=\"dataframe\">\n",
              "  <thead>\n",
              " <tr style=\"text-align: left;\">\n",
              "      <th>Epoch</th>\n",
              "      <th>Training Loss</th>\n",
              "      <th>Validation Loss</th>\n",
              "      <th>Accuracy</th>\n",
              "      <th>F1</th>\n",
              "      <th>Precision</th>\n",
              "      <th>Recall</th>\n",
              "    </tr>\n",
              "  </thead>\n",
              "  <tbody>\n",
              "    <tr>\n",
              "      <td>1</td>\n",
              "      <td>1.359100</td>\n",
              "      <td>2.280938</td>\n",
              "      <td>0.221402</td>\n",
              "      <td>0.151026</td>\n",
              "      <td>0.212733</td>\n",
              "      <td>0.174074</td>\n",
              "    </tr>\n",
              "    <tr>\n",
              "      <td>2</td>\n",
              "      <td>1.091600</td>\n",
              "      <td>2.449702</td>\n",
              "      <td>0.247232</td>\n",
              "      <td>0.195395</td>\n",
              "      <td>0.204150</td>\n",
              "      <td>0.206179</td>\n",
              "    </tr>\n",
              "    <tr>\n",
              "      <td>3</td>\n",
              "      <td>0.916400</td>\n",
              "      <td>2.603694</td>\n",
              "      <td>0.253383</td>\n",
              "      <td>0.205210</td>\n",
              "      <td>0.231481</td>\n",
              "      <td>0.208431</td>\n",
              "    </tr>\n",
              "    <tr>\n",
              "      <td>4</td>\n",
              "      <td>0.993500</td>\n",
              "      <td>2.754789</td>\n",
              "      <td>0.242312</td>\n",
              "      <td>0.199726</td>\n",
              "      <td>0.206873</td>\n",
              "      <td>0.199824</td>\n",
              "    </tr>\n",
              "    <tr>\n",
              "      <td>5</td>\n",
              "      <td>0.677300</td>\n",
              "      <td>2.813376</td>\n",
              "      <td>0.230012</td>\n",
              "      <td>0.198381</td>\n",
              "      <td>0.208053</td>\n",
              "      <td>0.199115</td>\n",
              "    </tr>\n",
              "    <tr>\n",
              "      <td>6</td>\n",
              "      <td>0.686400</td>\n",
              "      <td>2.818444</td>\n",
              "      <td>0.234932</td>\n",
              "      <td>0.202941</td>\n",
              "      <td>0.210312</td>\n",
              "      <td>0.202634</td>\n",
              "    </tr>\n",
              "  </tbody>\n",
              "</table><p>"
            ]
          },
          "metadata": {}
        },
        {
          "output_type": "stream",
          "name": "stderr",
          "text": [
            "***** Running Evaluation *****\n",
            "  Num examples = 813\n",
            "  Batch size = 16\n",
            "/usr/local/lib/python3.7/dist-packages/sklearn/metrics/_classification.py:1318: UndefinedMetricWarning: Precision and F-score are ill-defined and being set to 0.0 in labels with no predicted samples. Use `zero_division` parameter to control this behavior.\n",
            "  _warn_prf(average, modifier, msg_start, len(result))\n",
            "Saving model checkpoint to ./results/checkpoint-204\n",
            "Configuration saved in ./results/checkpoint-204/config.json\n",
            "Model weights saved in ./results/checkpoint-204/pytorch_model.bin\n",
            "tokenizer config file saved in ./results/checkpoint-204/tokenizer_config.json\n",
            "Special tokens file saved in ./results/checkpoint-204/special_tokens_map.json\n",
            "***** Running Evaluation *****\n",
            "  Num examples = 813\n",
            "  Batch size = 16\n",
            "/usr/local/lib/python3.7/dist-packages/sklearn/metrics/_classification.py:1318: UndefinedMetricWarning: Precision and F-score are ill-defined and being set to 0.0 in labels with no predicted samples. Use `zero_division` parameter to control this behavior.\n",
            "  _warn_prf(average, modifier, msg_start, len(result))\n",
            "Saving model checkpoint to ./results/checkpoint-408\n",
            "Configuration saved in ./results/checkpoint-408/config.json\n",
            "Model weights saved in ./results/checkpoint-408/pytorch_model.bin\n",
            "tokenizer config file saved in ./results/checkpoint-408/tokenizer_config.json\n",
            "Special tokens file saved in ./results/checkpoint-408/special_tokens_map.json\n",
            "***** Running Evaluation *****\n",
            "  Num examples = 813\n",
            "  Batch size = 16\n",
            "/usr/local/lib/python3.7/dist-packages/sklearn/metrics/_classification.py:1318: UndefinedMetricWarning: Precision and F-score are ill-defined and being set to 0.0 in labels with no predicted samples. Use `zero_division` parameter to control this behavior.\n",
            "  _warn_prf(average, modifier, msg_start, len(result))\n",
            "Saving model checkpoint to ./results/checkpoint-612\n",
            "Configuration saved in ./results/checkpoint-612/config.json\n",
            "Model weights saved in ./results/checkpoint-612/pytorch_model.bin\n",
            "tokenizer config file saved in ./results/checkpoint-612/tokenizer_config.json\n",
            "Special tokens file saved in ./results/checkpoint-612/special_tokens_map.json\n",
            "***** Running Evaluation *****\n",
            "  Num examples = 813\n",
            "  Batch size = 16\n",
            "/usr/local/lib/python3.7/dist-packages/sklearn/metrics/_classification.py:1318: UndefinedMetricWarning: Precision and F-score are ill-defined and being set to 0.0 in labels with no predicted samples. Use `zero_division` parameter to control this behavior.\n",
            "  _warn_prf(average, modifier, msg_start, len(result))\n",
            "Saving model checkpoint to ./results/checkpoint-816\n",
            "Configuration saved in ./results/checkpoint-816/config.json\n",
            "Model weights saved in ./results/checkpoint-816/pytorch_model.bin\n",
            "tokenizer config file saved in ./results/checkpoint-816/tokenizer_config.json\n",
            "Special tokens file saved in ./results/checkpoint-816/special_tokens_map.json\n",
            "***** Running Evaluation *****\n",
            "  Num examples = 813\n",
            "  Batch size = 16\n",
            "/usr/local/lib/python3.7/dist-packages/sklearn/metrics/_classification.py:1318: UndefinedMetricWarning: Precision and F-score are ill-defined and being set to 0.0 in labels with no predicted samples. Use `zero_division` parameter to control this behavior.\n",
            "  _warn_prf(average, modifier, msg_start, len(result))\n",
            "Saving model checkpoint to ./results/checkpoint-1020\n",
            "Configuration saved in ./results/checkpoint-1020/config.json\n",
            "Model weights saved in ./results/checkpoint-1020/pytorch_model.bin\n",
            "tokenizer config file saved in ./results/checkpoint-1020/tokenizer_config.json\n",
            "Special tokens file saved in ./results/checkpoint-1020/special_tokens_map.json\n",
            "***** Running Evaluation *****\n",
            "  Num examples = 813\n",
            "  Batch size = 16\n",
            "/usr/local/lib/python3.7/dist-packages/sklearn/metrics/_classification.py:1318: UndefinedMetricWarning: Precision and F-score are ill-defined and being set to 0.0 in labels with no predicted samples. Use `zero_division` parameter to control this behavior.\n",
            "  _warn_prf(average, modifier, msg_start, len(result))\n",
            "Saving model checkpoint to ./results/checkpoint-1224\n",
            "Configuration saved in ./results/checkpoint-1224/config.json\n",
            "Model weights saved in ./results/checkpoint-1224/pytorch_model.bin\n",
            "tokenizer config file saved in ./results/checkpoint-1224/tokenizer_config.json\n",
            "Special tokens file saved in ./results/checkpoint-1224/special_tokens_map.json\n",
            "\n",
            "\n",
            "Training completed. Do not forget to share your model on huggingface.co/models =)\n",
            "\n",
            "\n",
            "Loading best model from ./results/checkpoint-612 (score: 0.2052099806937191).\n"
          ]
        },
        {
          "output_type": "execute_result",
          "data": {
            "text/plain": [
              "TrainOutput(global_step=1224, training_loss=0.9264850661255954, metrics={'train_runtime': 201.1416, 'train_samples_per_second': 96.976, 'train_steps_per_second': 6.085, 'total_flos': 160395592781376.0, 'train_loss': 0.9264850661255954, 'epoch': 6.0})"
            ]
          },
          "metadata": {},
          "execution_count": 93
        }
      ]
    },
    {
      "cell_type": "code",
      "source": [
        "from transformers import DistilBertForSequenceClassification, Trainer, TrainingArguments\n",
        "\n",
        "training_args = TrainingArguments(\n",
        "    output_dir='./results',\n",
        "    num_train_epochs = 6,\n",
        "    evaluation_strategy='epoch',\n",
        "    save_strategy='epoch',\n",
        "    learning_rate=1e-5,\n",
        "    per_device_train_batch_size=16,\n",
        "    per_device_eval_batch_size=16,\n",
        "    weight_decay=0.01,\n",
        "    logging_dir='./logs',\n",
        "    logging_steps=10,\n",
        "    warmup_steps=32,\n",
        "    load_best_model_at_end=True,\n",
        "    metric_for_best_model='f1'\n",
        ")\n",
        "\n",
        "trainer = CustomTrainer(\n",
        "    model=classification_model,\n",
        "    args=training_args,\n",
        "    compute_metrics=compute_metrics,\n",
        "    train_dataset=train_dataset,\n",
        "    eval_dataset=test_dataset,\n",
        "    tokenizer=tokenizer,\n",
        "    data_collator=data_collator\n",
        ")\n",
        "\n",
        "trainer.train()"
      ],
      "metadata": {
        "colab": {
          "base_uri": "https://localhost:8080/",
          "height": 1000
        },
        "id": "iOufEESJcMZC",
        "outputId": "ba116844-8477-41ab-b416-1bfc7cea87cf"
      },
      "execution_count": null,
      "outputs": [
        {
          "output_type": "stream",
          "name": "stderr",
          "text": [
            "PyTorch: setting up devices\n",
            "The default value for the training argument `--report_to` will change in v5 (from all installed integrations to none). In v5, you will need to use `--report_to all` to get the same behavior as now. You should start updating your code and make this info disappear :-).\n",
            "/usr/local/lib/python3.7/dist-packages/transformers/optimization.py:310: FutureWarning: This implementation of AdamW is deprecated and will be removed in a future version. Use the PyTorch implementation torch.optim.AdamW instead, or set `no_deprecation_warning=True` to disable this warning\n",
            "  FutureWarning,\n",
            "***** Running training *****\n",
            "  Num examples = 3251\n",
            "  Num Epochs = 6\n",
            "  Instantaneous batch size per device = 16\n",
            "  Total train batch size (w. parallel, distributed & accumulation) = 16\n",
            "  Gradient Accumulation steps = 1\n",
            "  Total optimization steps = 1224\n"
          ]
        },
        {
          "output_type": "display_data",
          "data": {
            "text/plain": [
              "<IPython.core.display.HTML object>"
            ],
            "text/html": [
              "\n",
              "    <div>\n",
              "      \n",
              "      <progress value='1224' max='1224' style='width:300px; height:20px; vertical-align: middle;'></progress>\n",
              "      [1224/1224 03:19, Epoch 6/6]\n",
              "    </div>\n",
              "    <table border=\"1\" class=\"dataframe\">\n",
              "  <thead>\n",
              " <tr style=\"text-align: left;\">\n",
              "      <th>Epoch</th>\n",
              "      <th>Training Loss</th>\n",
              "      <th>Validation Loss</th>\n",
              "      <th>Accuracy</th>\n",
              "      <th>F1</th>\n",
              "      <th>Precision</th>\n",
              "      <th>Recall</th>\n",
              "    </tr>\n",
              "  </thead>\n",
              "  <tbody>\n",
              "    <tr>\n",
              "      <td>1</td>\n",
              "      <td>0.477500</td>\n",
              "      <td>2.880664</td>\n",
              "      <td>0.237392</td>\n",
              "      <td>0.194874</td>\n",
              "      <td>0.299030</td>\n",
              "      <td>0.193206</td>\n",
              "    </tr>\n",
              "    <tr>\n",
              "      <td>2</td>\n",
              "      <td>0.338900</td>\n",
              "      <td>3.007650</td>\n",
              "      <td>0.238622</td>\n",
              "      <td>0.212259</td>\n",
              "      <td>0.252080</td>\n",
              "      <td>0.218344</td>\n",
              "    </tr>\n",
              "    <tr>\n",
              "      <td>3</td>\n",
              "      <td>0.346800</td>\n",
              "      <td>3.371300</td>\n",
              "      <td>0.239852</td>\n",
              "      <td>0.206581</td>\n",
              "      <td>0.258301</td>\n",
              "      <td>0.203840</td>\n",
              "    </tr>\n",
              "    <tr>\n",
              "      <td>4</td>\n",
              "      <td>0.400000</td>\n",
              "      <td>3.425286</td>\n",
              "      <td>0.233702</td>\n",
              "      <td>0.208395</td>\n",
              "      <td>0.242662</td>\n",
              "      <td>0.211880</td>\n",
              "    </tr>\n",
              "    <tr>\n",
              "      <td>5</td>\n",
              "      <td>0.313200</td>\n",
              "      <td>3.471857</td>\n",
              "      <td>0.231242</td>\n",
              "      <td>0.201589</td>\n",
              "      <td>0.234741</td>\n",
              "      <td>0.203553</td>\n",
              "    </tr>\n",
              "    <tr>\n",
              "      <td>6</td>\n",
              "      <td>0.301800</td>\n",
              "      <td>3.458084</td>\n",
              "      <td>0.234932</td>\n",
              "      <td>0.208479</td>\n",
              "      <td>0.234084</td>\n",
              "      <td>0.206933</td>\n",
              "    </tr>\n",
              "  </tbody>\n",
              "</table><p>"
            ]
          },
          "metadata": {}
        },
        {
          "output_type": "stream",
          "name": "stderr",
          "text": [
            "***** Running Evaluation *****\n",
            "  Num examples = 813\n",
            "  Batch size = 16\n",
            "Saving model checkpoint to ./results/checkpoint-204\n",
            "Configuration saved in ./results/checkpoint-204/config.json\n",
            "Model weights saved in ./results/checkpoint-204/pytorch_model.bin\n",
            "tokenizer config file saved in ./results/checkpoint-204/tokenizer_config.json\n",
            "Special tokens file saved in ./results/checkpoint-204/special_tokens_map.json\n",
            "***** Running Evaluation *****\n",
            "  Num examples = 813\n",
            "  Batch size = 16\n",
            "Saving model checkpoint to ./results/checkpoint-408\n",
            "Configuration saved in ./results/checkpoint-408/config.json\n",
            "Model weights saved in ./results/checkpoint-408/pytorch_model.bin\n",
            "tokenizer config file saved in ./results/checkpoint-408/tokenizer_config.json\n",
            "Special tokens file saved in ./results/checkpoint-408/special_tokens_map.json\n",
            "***** Running Evaluation *****\n",
            "  Num examples = 813\n",
            "  Batch size = 16\n",
            "Saving model checkpoint to ./results/checkpoint-612\n",
            "Configuration saved in ./results/checkpoint-612/config.json\n",
            "Model weights saved in ./results/checkpoint-612/pytorch_model.bin\n",
            "tokenizer config file saved in ./results/checkpoint-612/tokenizer_config.json\n",
            "Special tokens file saved in ./results/checkpoint-612/special_tokens_map.json\n",
            "***** Running Evaluation *****\n",
            "  Num examples = 813\n",
            "  Batch size = 16\n",
            "Saving model checkpoint to ./results/checkpoint-816\n",
            "Configuration saved in ./results/checkpoint-816/config.json\n",
            "Model weights saved in ./results/checkpoint-816/pytorch_model.bin\n",
            "tokenizer config file saved in ./results/checkpoint-816/tokenizer_config.json\n",
            "Special tokens file saved in ./results/checkpoint-816/special_tokens_map.json\n",
            "***** Running Evaluation *****\n",
            "  Num examples = 813\n",
            "  Batch size = 16\n",
            "Saving model checkpoint to ./results/checkpoint-1020\n",
            "Configuration saved in ./results/checkpoint-1020/config.json\n",
            "Model weights saved in ./results/checkpoint-1020/pytorch_model.bin\n",
            "tokenizer config file saved in ./results/checkpoint-1020/tokenizer_config.json\n",
            "Special tokens file saved in ./results/checkpoint-1020/special_tokens_map.json\n",
            "***** Running Evaluation *****\n",
            "  Num examples = 813\n",
            "  Batch size = 16\n",
            "Saving model checkpoint to ./results/checkpoint-1224\n",
            "Configuration saved in ./results/checkpoint-1224/config.json\n",
            "Model weights saved in ./results/checkpoint-1224/pytorch_model.bin\n",
            "tokenizer config file saved in ./results/checkpoint-1224/tokenizer_config.json\n",
            "Special tokens file saved in ./results/checkpoint-1224/special_tokens_map.json\n",
            "\n",
            "\n",
            "Training completed. Do not forget to share your model on huggingface.co/models =)\n",
            "\n",
            "\n",
            "Loading best model from ./results/checkpoint-408 (score: 0.21225878877389573).\n"
          ]
        },
        {
          "output_type": "execute_result",
          "data": {
            "text/plain": [
              "TrainOutput(global_step=1224, training_loss=0.34638017191995985, metrics={'train_runtime': 199.9395, 'train_samples_per_second': 97.56, 'train_steps_per_second': 6.122, 'total_flos': 160395592781376.0, 'train_loss': 0.34638017191995985, 'epoch': 6.0})"
            ]
          },
          "metadata": {},
          "execution_count": 94
        }
      ]
    },
    {
      "cell_type": "markdown",
      "source": [
        "predict test data and evaluate the model and plot confusion matrix:"
      ],
      "metadata": {
        "id": "JVoSOanQpb02"
      }
    },
    {
      "cell_type": "code",
      "source": [
        "pred = trainer.predict(test_dataset)\n",
        "pred_y = pred.predictions.argmax(-1)"
      ],
      "metadata": {
        "id": "tFbzusbUpV0L",
        "colab": {
          "base_uri": "https://localhost:8080/",
          "height": 89
        },
        "outputId": "cdd3dd8e-531f-4d3e-da7d-eaaaf216f835"
      },
      "execution_count": null,
      "outputs": [
        {
          "output_type": "stream",
          "name": "stderr",
          "text": [
            "***** Running Prediction *****\n",
            "  Num examples = 813\n",
            "  Batch size = 16\n"
          ]
        },
        {
          "output_type": "display_data",
          "data": {
            "text/plain": [
              "<IPython.core.display.HTML object>"
            ],
            "text/html": [
              "\n",
              "    <div>\n",
              "      \n",
              "      <progress value='51' max='51' style='width:300px; height:20px; vertical-align: middle;'></progress>\n",
              "      [51/51 00:00]\n",
              "    </div>\n",
              "    "
            ]
          },
          "metadata": {}
        }
      ]
    },
    {
      "cell_type": "code",
      "source": [
        "print_metrics_evaluation(y_test, pred_y, 'Transformer Based')\n",
        "plot_confusion_matrix(y_test, pred_y)"
      ],
      "metadata": {
        "id": "Bs2MkgcCpWcx",
        "colab": {
          "base_uri": "https://localhost:8080/",
          "height": 369
        },
        "outputId": "72de0689-b7eb-4cf5-dee1-4f2649af839d"
      },
      "execution_count": null,
      "outputs": [
        {
          "output_type": "stream",
          "name": "stdout",
          "text": [
            "Transformer Based:\n",
            "accuracy_score = 0.23862238622386223\n",
            "precision_score = 0.25207985308204073\n",
            "recall_score = 0.2183442700227179\n",
            "f1_score = 0.21225878877389573\n",
            "\n"
          ]
        },
        {
          "output_type": "display_data",
          "data": {
            "text/plain": [
              "<Figure size 432x288 with 2 Axes>"
            ],
            "image/png": "[encoded data removed]"
          },
          "metadata": {
            "needs_background": "light"
          }
        }
      ]
    },
    {
      "cell_type": "markdown",
      "source": [
        "# Phase 3: Link Anylysis"
      ],
      "metadata": {
        "id": "PG7VS8fKb1f8"
      }
    },
    {
      "cell_type": "code",
      "source": [
        "# data = pd.concat([boostan_data, golestan_data], ignore_index=True).drop(columns = ['section', 'chapter'])\n",
        "# it seems to work better on boostan only\n",
        "data = boostan_data.drop(columns = ['section', 'chapter'])\n",
        "data.head()"
      ],
      "metadata": {
        "colab": {
          "base_uri": "https://localhost:8080/",
          "height": 206
        },
        "id": "iOPA_w2dc3kg",
        "outputId": "566b8fa0-7f2a-4aa5-9218-edeb3f16357e"
      },
      "execution_count": 109,
      "outputs": [
        {
          "output_type": "execute_result",
          "data": {
            "text/plain": [
              "                                                poem\n",
              "0   به نام خداوندِ جان‌آفرین\\nحکیمِ سخن‌درزبان‌آفرین\n",
              "1       خداوند بخشندهٔ دستگیر\\nکریم خطابخش پوزش‌پذیر\n",
              "2  عزیزی که هر کز درش سر بتافت\\nبه هر در که شد هی...\n",
              "3    سر پادشاهان گردن‌فراز\\nبه درگاه او بر زمین نیاز\n",
              "4  نه گردن‌کشان را بگیرد به فور\\nنه عذرآوران را ب..."
            ],
            "text/html": [
              "\n",
              "  <div id=\"df-d942dd4f-1e85-4d3e-97e6-ec5d5b15fdb2\">\n",
              "    <div class=\"colab-df-container\">\n",
              "      <div>\n",
              "<style scoped>\n",
              "    .dataframe tbody tr th:only-of-type {\n",
              "        vertical-align: middle;\n",
              "    }\n",
              "\n",
              "    .dataframe tbody tr th {\n",
              "        vertical-align: top;\n",
              "    }\n",
              "\n",
              "    .dataframe thead th {\n",
              "        text-align: right;\n",
              "    }\n",
              "</style>\n",
              "<table border=\"1\" class=\"dataframe\">\n",
              "  <thead>\n",
              "    <tr style=\"text-align: right;\">\n",
              "      <th></th>\n",
              "      <th>poem</th>\n",
              "    </tr>\n",
              "  </thead>\n",
              "  <tbody>\n",
              "    <tr>\n",
              "      <th>0</th>\n",
              "      <td>به نام خداوندِ جان‌آفرین\\nحکیمِ سخن‌درزبان‌آفرین</td>\n",
              "    </tr>\n",
              "    <tr>\n",
              "      <th>1</th>\n",
              "      <td>خداوند بخشندهٔ دستگیر\\nکریم خطابخش پوزش‌پذیر</td>\n",
              "    </tr>\n",
              "    <tr>\n",
              "      <th>2</th>\n",
              "      <td>عزیزی که هر کز درش سر بتافت\\nبه هر در که شد هی...</td>\n",
              "    </tr>\n",
              "    <tr>\n",
              "      <th>3</th>\n",
              "      <td>سر پادشاهان گردن‌فراز\\nبه درگاه او بر زمین نیاز</td>\n",
              "    </tr>\n",
              "    <tr>\n",
              "      <th>4</th>\n",
              "      <td>نه گردن‌کشان را بگیرد به فور\\nنه عذرآوران را ب...</td>\n",
              "    </tr>\n",
              "  </tbody>\n",
              "</table>\n",
              "</div>\n",
              "      <button class=\"colab-df-convert\" onclick=\"convertToInteractive('df-d942dd4f-1e85-4d3e-97e6-ec5d5b15fdb2')\"\n",
              "              title=\"Convert this dataframe to an interactive table.\"\n",
              "              style=\"display:none;\">\n",
              "        \n",
              "  <svg xmlns=\"http://www.w3.org/2000/svg\" height=\"24px\"viewBox=\"0 0 24 24\"\n",
              "       width=\"24px\">\n",
              "    <path d=\"M0 0h24v24H0V0z\" fill=\"none\"/>\n",
              "    <path d=\"M18.56 5.44l.94 2.06.94-2.06 2.06-.94-2.06-.94-.94-2.06-.94 2.06-2.06.94zm-11 1L8.5 8.5l.94-2.06 2.06-.94-2.06-.94L8.5 2.5l-.94 2.06-2.06.94zm10 10l.94 2.06.94-2.06 2.06-.94-2.06-.94-.94-2.06-.94 2.06-2.06.94z\"/><path d=\"M17.41 7.96l-1.37-1.37c-.4-.4-.92-.59-1.43-.59-.52 0-1.04.2-1.43.59L10.3 9.45l-7.72 7.72c-.78.78-.78 2.05 0 2.83L4 21.41c.39.39.9.59 1.41.59.51 0 1.02-.2 1.41-.59l7.78-7.78 2.81-2.81c.8-.78.8-2.07 0-2.86zM5.41 20L4 18.59l7.72-7.72 1.47 1.35L5.41 20z\"/>\n",
              "  </svg>\n",
              "      </button>\n",
              "      \n",
              "  <style>\n",
              "    .colab-df-container {\n",
              "      display:flex;\n",
              "      flex-wrap:wrap;\n",
              "      gap: 12px;\n",
              "    }\n",
              "\n",
              "    .colab-df-convert {\n",
              "      background-color: #E8F0FE;\n",
              "      border: none;\n",
              "      border-radius: 50%;\n",
              "      cursor: pointer;\n",
              "      display: none;\n",
              "      fill: #1967D2;\n",
              "      height: 32px;\n",
              "      padding: 0 0 0 0;\n",
              "      width: 32px;\n",
              "    }\n",
              "\n",
              "    .colab-df-convert:hover {\n",
              "      background-color: #E2EBFA;\n",
              "      box-shadow: 0px 1px 2px rgba(60, 64, 67, 0.3), 0px 1px 3px 1px rgba(60, 64, 67, 0.15);\n",
              "      fill: #174EA6;\n",
              "    }\n",
              "\n",
              "    [theme=dark] .colab-df-convert {\n",
              "      background-color: #3B4455;\n",
              "      fill: #D2E3FC;\n",
              "    }\n",
              "\n",
              "    [theme=dark] .colab-df-convert:hover {\n",
              "      background-color: #434B5C;\n",
              "      box-shadow: 0px 1px 3px 1px rgba(0, 0, 0, 0.15);\n",
              "      filter: drop-shadow(0px 1px 2px rgba(0, 0, 0, 0.3));\n",
              "      fill: #FFFFFF;\n",
              "    }\n",
              "  </style>\n",
              "\n",
              "      <script>\n",
              "        const buttonEl =\n",
              "          document.querySelector('#df-d942dd4f-1e85-4d3e-97e6-ec5d5b15fdb2 button.colab-df-convert');\n",
              "        buttonEl.style.display =\n",
              "          google.colab.kernel.accessAllowed ? 'block' : 'none';\n",
              "\n",
              "        async function convertToInteractive(key) {\n",
              "          const element = document.querySelector('#df-d942dd4f-1e85-4d3e-97e6-ec5d5b15fdb2');\n",
              "          const dataTable =\n",
              "            await google.colab.kernel.invokeFunction('convertToInteractive',\n",
              "                                                     [key], {});\n",
              "          if (!dataTable) return;\n",
              "\n",
              "          const docLinkHtml = 'Like what you see? Visit the ' +\n",
              "            '<a target=\"_blank\" href=https://colab.research.google.com/notebooks/data_table.ipynb>data table notebook</a>'\n",
              "            + ' to learn more about interactive tables.';\n",
              "          element.innerHTML = '';\n",
              "          dataTable['output_type'] = 'display_data';\n",
              "          await google.colab.output.renderOutput(dataTable, element);\n",
              "          const docLink = document.createElement('div');\n",
              "          docLink.innerHTML = docLinkHtml;\n",
              "          element.appendChild(docLink);\n",
              "        }\n",
              "      </script>\n",
              "    </div>\n",
              "  </div>\n",
              "  "
            ]
          },
          "metadata": {},
          "execution_count": 109
        }
      ]
    },
    {
      "cell_type": "code",
      "source": [
        "from sklearn.feature_extraction.text import TfidfVectorizer\n",
        "\n",
        "tfidf = TfidfVectorizer(analyzer= lambda x: sent_pre_process(x, remove_stopwords=True))\n",
        "tfidf_data = tfidf.fit_transform(data.poem.to_numpy())\n",
        "tfidf_data = tfidf_data.toarray()\n",
        "tfidf_data.shape"
      ],
      "metadata": {
        "colab": {
          "base_uri": "https://localhost:8080/"
        },
        "outputId": "2c7ad0c7-209c-4794-a6d0-72f62ef59ae8",
        "id": "shvxPVl7c3k4"
      },
      "execution_count": 110,
      "outputs": [
        {
          "output_type": "execute_result",
          "data": {
            "text/plain": [
              "(4064, 6893)"
            ]
          },
          "metadata": {},
          "execution_count": 110
        }
      ]
    },
    {
      "cell_type": "code",
      "source": [
        "similarity_matrix = np.matmul(tfidf_data, tfidf_data.T)\n",
        "similarity_matrix.shape"
      ],
      "metadata": {
        "colab": {
          "base_uri": "https://localhost:8080/"
        },
        "id": "tEyno-I_e4Dg",
        "outputId": "bf4fc54f-f83e-44d9-9273-f42cbf2a38d7"
      },
      "execution_count": 111,
      "outputs": [
        {
          "output_type": "execute_result",
          "data": {
            "text/plain": [
              "(4064, 4064)"
            ]
          },
          "metadata": {},
          "execution_count": 111
        }
      ]
    },
    {
      "cell_type": "code",
      "source": [
        "threshold = 0.3\n",
        "\n",
        "adj_matrix = (similarity_matrix > threshold).astype(int)\n",
        "# do we need this?\n",
        "adj_matrix -= np.eye(len(adj_matrix), dtype=int)\n",
        "print(f'Number of links: {adj_matrix.sum()}')"
      ],
      "metadata": {
        "colab": {
          "base_uri": "https://localhost:8080/"
        },
        "id": "N10y-vMNe4Bx",
        "outputId": "5ff7ed77-2085-4649-f9a3-e2abb8fd7c53"
      },
      "execution_count": 26,
      "outputs": [
        {
          "output_type": "stream",
          "name": "stdout",
          "text": [
            "Number of links: 4366\n"
          ]
        }
      ]
    },
    {
      "cell_type": "code",
      "source": [
        "import networkx as nx\n",
        "adj_graph = nx.from_numpy_array(adj_matrix)\n",
        "probabilities = nx.pagerank(adj_graph)"
      ],
      "metadata": {
        "id": "e_ph2Iw-ggnO"
      },
      "execution_count": 27,
      "outputs": []
    },
    {
      "cell_type": "code",
      "source": [
        "max_idx = sorted(probabilities, key=probabilities.get, reverse=True)\n",
        "probabilities[max_idx[0]]"
      ],
      "metadata": {
        "colab": {
          "base_uri": "https://localhost:8080/"
        },
        "id": "1W0PcN1thWEr",
        "outputId": "132164be-e04d-45d6-915b-c98c184b30dc"
      },
      "execution_count": 28,
      "outputs": [
        {
          "output_type": "execute_result",
          "data": {
            "text/plain": [
              "0.003827895757140323"
            ]
          },
          "metadata": {},
          "execution_count": 28
        }
      ]
    },
    {
      "cell_type": "code",
      "source": [
        "for poem in data.poem[max_idx[0: 5]]:\n",
        "    print(poem)\n",
        "    print()"
      ],
      "metadata": {
        "colab": {
          "base_uri": "https://localhost:8080/"
        },
        "id": "GOmy4-yFiTJS",
        "outputId": "4a4481fd-8690-40ed-f520-d7bffc8ac6e2"
      },
      "execution_count": 29,
      "outputs": [
        {
          "output_type": "stream",
          "name": "stdout",
          "text": [
            "به نرمی ز دشمن توان کرد دوست\n",
            "چو با دوست سختی کنی دشمن اوست\n",
            "\n",
            "که چشم از تو دارند مردم بسی\n",
            "نه تو چشم داری به دست کسی\n",
            "\n",
            "به روی من این در کسی کرد باز\n",
            "که کردی تو بر روی وی در، فراز\n",
            "\n",
            "یکی فتنه دید از طرف بر شکست\n",
            "یکی در میان آمد و سر شکست\n",
            "\n",
            "اگر هست مرد از هنر بهره‌ور\n",
            "هنر خود بگوید نه صاحب هنر\n",
            "\n"
          ]
        }
      ]
    },
    {
      "cell_type": "markdown",
      "source": [
        "<div dir='rtl'> \n",
        "<font face=\"B Nazanin\">\n",
        "\n",
        "تحلیل خروجی:\n",
        "<br/>\n",
        "ابتدا با ضرب ماتریس tfidfها در یک دیگر و به دست آوردن\n",
        "ضرب داخلی سطرهای مختلف در هم، بر اساس بزرگ‌تر یا کوچک‌تر بودن شباهت نسبت به ترشهولد، ماتریس مجاورت را ایجاد کردیم.\n",
        "<br/>\n",
        "برای انتخاب ترشهولد مناسب، آن را به گونه‌ای تغییر دادیم که تعداد لینک‌هایی که بین ابیات مختلف وجود دارد، از اردر تعداد ابیات بوستان باشد.\n",
        "در این صورت نه تعداد لینک‌ها بسیار زیاد است که احتمال‌ها خیلی نزدیک به یکدیگر شود و نه آن قدر کم است که امکان جابجا شدن از برخی ابیات وجود نداشته باشد.\n",
        "<br/>\n",
        "شعری که بیشترین احتمال را در الگوریتم\n",
        "pagerank\n",
        "دریافت می‌کند بیت \n",
        "«به نرمی ز دشمن توان کرد دوست / چو با دوست سختی کنی دشمن اوست»\n",
        "است که یکی از پرتکرارترین مضامین موجود در بوستان سعدی است. که مضمون اصلی آن این است در هر کاری محبت و دوستی بسیار کارسازتر است از جنگ و دشمنی. و انسان خوب نباید حتی در برخورد با انسان‌های بد و دشمنانش نیز راه و رسم خود را کنار بگذارد و به بدی روی بیاورد. و با این کار حتی ممکن است دشمنان نیز دست از بدی کردن بکشند.\n",
        "<br/>\n",
        "با کمی جستجو در بوستان ابیات مشابه زیادی همچون این بیت می‌توانیم بیابیم:\n",
        "<br/>\n",
        "«همی تا برآید به تدبیر کار / مدارای دشمن به از کارزار»\n",
        "<br/>\n",
        "«چو کاری براید به لطف و خوشی / چه حاجت به تندی و گردنکشی»\n",
        "<br/>\n",
        "«گرت طبع من آمد ناسزاوار / تو خوی نیک خویش از دست مگذار»\n",
        "<br/>\n",
        "حتی در سعدی ابیات دیگری نیز دارد که در آن‌ها بیان می‌کند لطف و خشم هر یک به جای خود مناسب هستند و یا ابیاتی که بیان می‌کند باید با بدان به مانند خودشان بد بود (اغلب علت این ابیاتی که ممکن است جداگانه متناقض به نظر برسند این است که معمولا در یک حکایت افراد مختلف نظرات مختلفی درباره‌ی این موضوع بیان کرده‌اند). که این گونه ابیات نیز ارتباط تنگاتنگی با ابیات بالا دارند و با آن‌ها لینک می‌شوند. مانند ابیات زیر:\n",
        "<br/>\n",
        "«هر که را دشمن پیش است گر دکشد دشمن خویش است»\n",
        "<br/>\n",
        "«چو با سفله گویی به لطف و خوشی / فزون گرددش کبر و گردن کشی»\n",
        "<br/>\n",
        "«بگفتا نیک‌مردی کن نه چندان / که گردد خیره گرگ تیزدندان»\n",
        "<br/>\n",
        "«ترحم بر پلنگ تیزدندان / سمتمکاری بود بر گوسپندان»\n",
        "<br/>\n",
        "«درشتی و نرمی به‌هم‌در به است / جو رگ‌زن که جراح و مرهم‌نه است»\n",
        "<br/>\n",
        "«مبخشای بر هر کجا ظالمی‌ست / که رحمت بر او جور بر عالمی‌ست»\n",
        "<br/>\n",
        "«هر آن کس که بر دزد رحمت کند / به بازوی خود کاروان می‌زند»\n",
        "<br/>\n",
        "«جفاپیشگان را بده سر به باد / ستم بر ستم‌پیشه عدل است و داد»\n",
        "<br/>\n",
        "پس طبیعی است که این مضامین مرتبط و پرتکرار، ابیاتشان با هم لینک شود و \n",
        "random walker\n",
        "ما با احتمال بیشتری در یکی از آن‌ها قرار بگیرد.\n",
        "\n",
        "</div>"
      ],
      "metadata": {
        "id": "KM6wp2WQpv4S"
      }
    },
    {
      "cell_type": "markdown",
      "source": [
        "We use NetworkX HTIS algorithm to estimate hubs and authority of nodes."
      ],
      "metadata": {
        "id": "zli75FmXGfeQ"
      }
    },
    {
      "cell_type": "code",
      "source": [
        "hubs, authority = nx.hits(adj_graph)"
      ],
      "metadata": {
        "id": "4suAB14tvOcD"
      },
      "execution_count": 30,
      "outputs": []
    },
    {
      "cell_type": "markdown",
      "source": [
        "First we sort nodes based on their hubs and then print the 5 nodes with the most hubs."
      ],
      "metadata": {
        "id": "bR01HiogG6Ub"
      }
    },
    {
      "cell_type": "code",
      "source": [
        "#  Based on hubs\n",
        "\n",
        "max_idx = list(sorted(hubs, key=hubs.get, reverse=True))\n",
        "hubs[max_idx[0]]"
      ],
      "metadata": {
        "colab": {
          "base_uri": "https://localhost:8080/"
        },
        "id": "8a2BQLaJLxUd",
        "outputId": "39283dd7-4afe-484a-9840-5b62a7198839"
      },
      "execution_count": 31,
      "outputs": [
        {
          "output_type": "execute_result",
          "data": {
            "text/plain": [
              "0.08391799304174069"
            ]
          },
          "metadata": {},
          "execution_count": 31
        }
      ]
    },
    {
      "cell_type": "code",
      "source": [
        "for poem in data.poem[max_idx[0:5]]:\n",
        "    print(poem)\n",
        "    print()"
      ],
      "metadata": {
        "colab": {
          "base_uri": "https://localhost:8080/"
        },
        "id": "9wa6DeF6HN42",
        "outputId": "138cf45d-66ea-48a3-9cb9-02c3433c441b"
      },
      "execution_count": 32,
      "outputs": [
        {
          "output_type": "stream",
          "name": "stdout",
          "text": [
            "به نرمی ز دشمن توان کرد دوست\n",
            "چو با دوست سختی کنی دشمن اوست\n",
            "\n",
            "بود دشمنش تازه و دوست ریش\n",
            "کسی کش بود دشمن از دوست بیش\n",
            "\n",
            "چو دشمن به دشمن بود مشتغل\n",
            "تو با دوست بنشین به آرام دل\n",
            "\n",
            "بر این گفتم آن دوست دشمن گرفت\n",
            "چو آتش شد از خشم و در من گرفت\n",
            "\n",
            "مگر پیش دشمن بگویند و دوست\n",
            "که این کشته دست و شمشیر اوست\n",
            "\n"
          ]
        }
      ]
    },
    {
      "cell_type": "markdown",
      "source": [
        "Then we do the same thing based on authority to check if results are diffrent."
      ],
      "metadata": {
        "id": "WGn9O2-GJsSY"
      }
    },
    {
      "cell_type": "code",
      "source": [
        "#  Based on authority\n",
        "\n",
        "max_idx = list(sorted(authority, key=authority.get, reverse=True))\n",
        "authority[max_idx[0]]"
      ],
      "metadata": {
        "colab": {
          "base_uri": "https://localhost:8080/"
        },
        "id": "FgG5bp0LFSoA",
        "outputId": "3b02df86-3a40-4437-a943-a7d4962995f3"
      },
      "execution_count": 33,
      "outputs": [
        {
          "output_type": "execute_result",
          "data": {
            "text/plain": [
              "0.08391799304174068"
            ]
          },
          "metadata": {},
          "execution_count": 33
        }
      ]
    },
    {
      "cell_type": "code",
      "source": [
        "for poem in data.poem[max_idx[0:5]]:\n",
        "    print(poem)\n",
        "    print()"
      ],
      "metadata": {
        "colab": {
          "base_uri": "https://localhost:8080/"
        },
        "id": "VsqhxXxEFkUH",
        "outputId": "ca0cee8e-e7be-4f9f-ccfd-0ccde16a4f03"
      },
      "execution_count": 34,
      "outputs": [
        {
          "output_type": "stream",
          "name": "stdout",
          "text": [
            "به نرمی ز دشمن توان کرد دوست\n",
            "چو با دوست سختی کنی دشمن اوست\n",
            "\n",
            "بود دشمنش تازه و دوست ریش\n",
            "کسی کش بود دشمن از دوست بیش\n",
            "\n",
            "چو دشمن به دشمن بود مشتغل\n",
            "تو با دوست بنشین به آرام دل\n",
            "\n",
            "بر این گفتم آن دوست دشمن گرفت\n",
            "چو آتش شد از خشم و در من گرفت\n",
            "\n",
            "مگر پیش دشمن بگویند و دوست\n",
            "که این کشته دست و شمشیر اوست\n",
            "\n"
          ]
        }
      ]
    },
    {
      "cell_type": "markdown",
      "source": [
        "\n",
        "<div dir=rtl>\n",
        "<font face=\"B Nazanin\">\n",
        "\n",
        "همانطور که میتوانسیتم انتظار آن را داشته باشیم نتایج حاصل شده توسط \n",
        "authority و hubs\n",
        "با یکدیگر تفاوت ندارند چرا که گراف ساخته شده براساس شباهت‌ها دو طرفه است و به عبارتی ماتریس مجاورت آن متقارن می‌باشد. همینطور می‌توانیم ببینیم که در اینجا هم بیتی که بیشترین ارزش را دارد همان بیت «به نرم ز دشمن توان کرد دوست، چو با دوست سختی کنی دشمن اوست» می‌باشد. که در این‌جا به این معنیست که بیشترین مقدار یال‌ها به این راس می‌رسد و به نظر می‌رسد که مفهوم محبت و دوستی در ابیات سعدی بسیار به چشم می‌خورد و برجسته است.\n",
        "\n",
        "</div>"
      ],
      "metadata": {
        "id": "dv8I4-XqN3n0"
      }
    },
    {
      "cell_type": "markdown",
      "source": [
        "## Transformer based"
      ],
      "metadata": {
        "id": "inL59X1FSzKI"
      }
    },
    {
      "cell_type": "markdown",
      "source": [
        "Using our phase one transformer model we create embedded vector of every poems."
      ],
      "metadata": {
        "id": "M5q7dnZwViMU"
      }
    },
    {
      "cell_type": "code",
      "source": [
        "transformer_model = my_transformer(boostan_data['poem'])\n",
        "transformer_vector = transformer_model.vectors"
      ],
      "metadata": {
        "colab": {
          "base_uri": "https://localhost:8080/"
        },
        "id": "Htc82bcGLL-L",
        "outputId": "648074e4-3c8d-44c3-ee77-923cc110867c"
      },
      "execution_count": 98,
      "outputs": [
        {
          "output_type": "stream",
          "name": "stderr",
          "text": [
            "Some weights of the model checkpoint at HooshvareLab/bert-fa-zwnj-base were not used when initializing BertModel: ['cls.predictions.bias', 'cls.predictions.decoder.weight', 'cls.predictions.transform.dense.bias', 'cls.predictions.decoder.bias', 'cls.predictions.transform.LayerNorm.weight', 'cls.predictions.transform.dense.weight', 'cls.predictions.transform.LayerNorm.bias']\n",
            "- This IS expected if you are initializing BertModel from the checkpoint of a model trained on another task or with another architecture (e.g. initializing a BertForSequenceClassification model from a BertForPreTraining model).\n",
            "- This IS NOT expected if you are initializing BertModel from the checkpoint of a model that you expect to be exactly identical (initializing a BertForSequenceClassification model from a BertForSequenceClassification model).\n",
            "Some weights of BertModel were not initialized from the model checkpoint at HooshvareLab/bert-fa-zwnj-base and are newly initialized: ['bert.pooler.dense.weight', 'bert.pooler.dense.bias']\n",
            "You should probably TRAIN this model on a down-stream task to be able to use it for predictions and inference.\n"
          ]
        }
      ]
    },
    {
      "cell_type": "markdown",
      "source": [
        "Then we normalize vectors and create similarity matrix and after that do the same process as tf-idf vectors."
      ],
      "metadata": {
        "id": "u46IzaeTV_zF"
      }
    },
    {
      "cell_type": "code",
      "source": [
        "for i in range(len(transformer_vector)):\n",
        "    transformer_vector[i] = transformer_vector[i] / np.linalg.norm(transformer_vector[i]) "
      ],
      "metadata": {
        "id": "ubUUXukCPkP-"
      },
      "execution_count": 99,
      "outputs": []
    },
    {
      "cell_type": "code",
      "source": [
        "similarity_matrix_transformer = np.matmul(transformer_vector, transformer_vector.T)\n",
        "similarity_matrix_transformer.shape"
      ],
      "metadata": {
        "colab": {
          "base_uri": "https://localhost:8080/"
        },
        "id": "0rIJZt-TM5gD",
        "outputId": "bbb8d9a4-4fba-4016-a20c-d9cfddcfb4ed"
      },
      "execution_count": 100,
      "outputs": [
        {
          "output_type": "execute_result",
          "data": {
            "text/plain": [
              "(4064, 4064)"
            ]
          },
          "metadata": {},
          "execution_count": 100
        }
      ]
    },
    {
      "cell_type": "code",
      "source": [
        "threshold = 0.69\n",
        "\n",
        "adj_matrix_transformer = (similarity_matrix_transformer > threshold).astype(int)\n",
        "# do we need this?\n",
        "adj_matrix_transformer -= np.eye(len(adj_matrix_transformer), dtype=int)\n",
        "print(f'Number of links: {adj_matrix_transformer.sum()}')"
      ],
      "metadata": {
        "colab": {
          "base_uri": "https://localhost:8080/"
        },
        "id": "zQX9NY8HOnGa",
        "outputId": "ca4f08c7-c43e-46be-cf3f-825272799555"
      },
      "execution_count": 101,
      "outputs": [
        {
          "output_type": "stream",
          "name": "stdout",
          "text": [
            "Number of links: 355270\n"
          ]
        }
      ]
    },
    {
      "cell_type": "code",
      "source": [
        "import networkx as nx\n",
        "adj_graph_transformer = nx.from_numpy_array(adj_matrix_transformer)\n",
        "probabilities = nx.pagerank(adj_graph_transformer)"
      ],
      "metadata": {
        "id": "h_AruMBoQYjl"
      },
      "execution_count": 102,
      "outputs": []
    },
    {
      "cell_type": "code",
      "source": [
        "max_idx = sorted(probabilities, key=probabilities.get, reverse=True)\n",
        "probabilities[max_idx[0]]"
      ],
      "metadata": {
        "colab": {
          "base_uri": "https://localhost:8080/"
        },
        "id": "tcn6afWMQaho",
        "outputId": "9389ec13-a42c-4428-bda7-0bd1bc66af01"
      },
      "execution_count": 103,
      "outputs": [
        {
          "output_type": "execute_result",
          "data": {
            "text/plain": [
              "0.002116671097428274"
            ]
          },
          "metadata": {},
          "execution_count": 103
        }
      ]
    },
    {
      "cell_type": "code",
      "source": [
        "for poem in data.poem[max_idx[0:5]]:\n",
        "    print(poem)\n",
        "    print()"
      ],
      "metadata": {
        "colab": {
          "base_uri": "https://localhost:8080/"
        },
        "id": "pFqGiJBdQyuu",
        "outputId": "7f2f69ab-3e34-4fe0-885b-363702bb0cbf"
      },
      "execution_count": 104,
      "outputs": [
        {
          "output_type": "stream",
          "name": "stdout",
          "text": [
            "زبان آمد از بهر شکر و سپاس\n",
            "به غیبت نگرداندش حق شناس\n",
            "\n",
            "زبان در نهندش به ایذا چو تیغ\n",
            "که بدبخت زر دارد از خود دریغ\n",
            "\n",
            "یکی شکر گفت اندران خاک و دود\n",
            "که دکان ما را گزندی نبود\n",
            "\n",
            "نیوشنده شد زین سخن تنگدل\n",
            "به فکرت فرو رفت چون خر به گل\n",
            "\n",
            "به پای بت اندر به امید خیر\n",
            "بغلطید بیچاره بر خاک دیر\n",
            "\n"
          ]
        }
      ]
    },
    {
      "cell_type": "code",
      "source": [
        "hubs, authority = nx.hits(adj_graph_transformer)"
      ],
      "metadata": {
        "id": "jqg6p1lMUOPl"
      },
      "execution_count": 105,
      "outputs": []
    },
    {
      "cell_type": "code",
      "source": [
        "max_idx = list(sorted(hubs, key=hubs.get, reverse=True))\n",
        "hubs[max_idx[0]]"
      ],
      "metadata": {
        "colab": {
          "base_uri": "https://localhost:8080/"
        },
        "id": "IJP_GxbCUPDs",
        "outputId": "32721749-4086-41db-a35c-c705b09aa435"
      },
      "execution_count": 106,
      "outputs": [
        {
          "output_type": "execute_result",
          "data": {
            "text/plain": [
              "0.0023943399138527713"
            ]
          },
          "metadata": {},
          "execution_count": 106
        }
      ]
    },
    {
      "cell_type": "code",
      "source": [
        "for poem in data.poem[max_idx[0:5]]:\n",
        "    print(poem)\n",
        "    print()"
      ],
      "metadata": {
        "colab": {
          "base_uri": "https://localhost:8080/"
        },
        "id": "mjPwmdubUPJP",
        "outputId": "2990d99c-1bd5-4586-bd90-15f812ad15dd"
      },
      "execution_count": 107,
      "outputs": [
        {
          "output_type": "stream",
          "name": "stdout",
          "text": [
            "به پای بت اندر به امید خیر\n",
            "بغلطید بیچاره بر خاک دیر\n",
            "\n",
            "یکی شکر گفت اندران خاک و دود\n",
            "که دکان ما را گزندی نبود\n",
            "\n",
            "زبان آمد از بهر شکر و سپاس\n",
            "به غیبت نگرداندش حق شناس\n",
            "\n",
            "زبان در نهندش به ایذا چو تیغ\n",
            "که بدبخت زر دارد از خود دریغ\n",
            "\n",
            "نیوشنده شد زین سخن تنگدل\n",
            "به فکرت فرو رفت چون خر به گل\n",
            "\n"
          ]
        }
      ]
    },
    {
      "cell_type": "markdown",
      "source": [
        "\n",
        "<div dir=rtl>\n",
        "<font face=\"B Nazanin\">\n",
        "\n",
        "نتایج حاصل شده از روش HITS \n",
        "و \n",
        "PageRank\n",
        "تفاوت چندانی با یکدیگر ندارند و می‌توانیم ببینیم که در روش PageRank\n",
        "مفهوم «غیبت نکردن» را مفهموم برجسته‌ای در نظر گرفته است. که البته می‌توان دید که با ابیات دیگری که به ارزش زیادی برای آن تشخیص داده است شباهت زیادی نداشته است. در کل روش tf-idf\n",
        "روش موثرتری برای ساختن ماتریس شباهت‌ها به نظر می‌آید. \n",
        "\n",
        "</div>"
      ],
      "metadata": {
        "id": "_GHCu35uYEUK"
      }
    }
  ]
}