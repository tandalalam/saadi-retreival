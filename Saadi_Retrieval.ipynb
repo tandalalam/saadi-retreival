{
  "nbformat": 4,
  "nbformat_minor": 0,
  "metadata": {
    "colab": {
      "name": "Saadi-Retrieval.ipynb",
      "provenance": [],
      "collapsed_sections": []
    },
    "kernelspec": {
      "name": "python3",
      "display_name": "Python 3"
    },
    "language_info": {
      "name": "python"
    },
    "widgets": {
      "application/vnd.jupyter.widget-state+json": {
        "91de0df5d4b34bbdb037c19287d61547": {
          "model_module": "@jupyter-widgets/controls",
          "model_name": "HBoxModel",
          "model_module_version": "1.5.0",
          "state": {
            "_dom_classes": [],
            "_model_module": "@jupyter-widgets/controls",
            "_model_module_version": "1.5.0",
            "_model_name": "HBoxModel",
            "_view_count": null,
            "_view_module": "@jupyter-widgets/controls",
            "_view_module_version": "1.5.0",
            "_view_name": "HBoxView",
            "box_style": "",
            "children": [
              "IPY_MODEL_9f655112e9454f42ac69d7373422c90c",
              "IPY_MODEL_e6fd365f2b364823a7ba8960863a57d9",
              "IPY_MODEL_f120983b528f462fae9ace93b4147461"
            ],
            "layout": "IPY_MODEL_c87350fc4c9d466faaaa3e68d9893556"
          }
        },
        "9f655112e9454f42ac69d7373422c90c": {
          "model_module": "@jupyter-widgets/controls",
          "model_name": "HTMLModel",
          "model_module_version": "1.5.0",
          "state": {
            "_dom_classes": [],
            "_model_module": "@jupyter-widgets/controls",
            "_model_module_version": "1.5.0",
            "_model_name": "HTMLModel",
            "_view_count": null,
            "_view_module": "@jupyter-widgets/controls",
            "_view_module_version": "1.5.0",
            "_view_name": "HTMLView",
            "description": "",
            "description_tooltip": null,
            "layout": "IPY_MODEL_de7246cad1aa40efafaba4aad3b8839c",
            "placeholder": "​",
            "style": "IPY_MODEL_82c4ed4443994b83818fbbcff6646bbd",
            "value": "Downloading: 100%"
          }
        },
        "e6fd365f2b364823a7ba8960863a57d9": {
          "model_module": "@jupyter-widgets/controls",
          "model_name": "FloatProgressModel",
          "model_module_version": "1.5.0",
          "state": {
            "_dom_classes": [],
            "_model_module": "@jupyter-widgets/controls",
            "_model_module_version": "1.5.0",
            "_model_name": "FloatProgressModel",
            "_view_count": null,
            "_view_module": "@jupyter-widgets/controls",
            "_view_module_version": "1.5.0",
            "_view_name": "ProgressView",
            "bar_style": "success",
            "description": "",
            "description_tooltip": null,
            "layout": "IPY_MODEL_ee59c2aa600648488dd32af91e832550",
            "max": 565,
            "min": 0,
            "orientation": "horizontal",
            "style": "IPY_MODEL_f5a176db3e8349d391f360b2fb951d62",
            "value": 565
          }
        },
        "f120983b528f462fae9ace93b4147461": {
          "model_module": "@jupyter-widgets/controls",
          "model_name": "HTMLModel",
          "model_module_version": "1.5.0",
          "state": {
            "_dom_classes": [],
            "_model_module": "@jupyter-widgets/controls",
            "_model_module_version": "1.5.0",
            "_model_name": "HTMLModel",
            "_view_count": null,
            "_view_module": "@jupyter-widgets/controls",
            "_view_module_version": "1.5.0",
            "_view_name": "HTMLView",
            "description": "",
            "description_tooltip": null,
            "layout": "IPY_MODEL_54dfdc1243d64f68839796c0604fa17c",
            "placeholder": "​",
            "style": "IPY_MODEL_ca5f4e028fc44879bcd279721a921bc2",
            "value": " 565/565 [00:00&lt;00:00, 4.11kB/s]"
          }
        },
        "c87350fc4c9d466faaaa3e68d9893556": {
          "model_module": "@jupyter-widgets/base",
          "model_name": "LayoutModel",
          "model_module_version": "1.2.0",
          "state": {
            "_model_module": "@jupyter-widgets/base",
            "_model_module_version": "1.2.0",
            "_model_name": "LayoutModel",
            "_view_count": null,
            "_view_module": "@jupyter-widgets/base",
            "_view_module_version": "1.2.0",
            "_view_name": "LayoutView",
            "align_content": null,
            "align_items": null,
            "align_self": null,
            "border": null,
            "bottom": null,
            "display": null,
            "flex": null,
            "flex_flow": null,
            "grid_area": null,
            "grid_auto_columns": null,
            "grid_auto_flow": null,
            "grid_auto_rows": null,
            "grid_column": null,
            "grid_gap": null,
            "grid_row": null,
            "grid_template_areas": null,
            "grid_template_columns": null,
            "grid_template_rows": null,
            "height": null,
            "justify_content": null,
            "justify_items": null,
            "left": null,
            "margin": null,
            "max_height": null,
            "max_width": null,
            "min_height": null,
            "min_width": null,
            "object_fit": null,
            "object_position": null,
            "order": null,
            "overflow": null,
            "overflow_x": null,
            "overflow_y": null,
            "padding": null,
            "right": null,
            "top": null,
            "visibility": null,
            "width": null
          }
        },
        "de7246cad1aa40efafaba4aad3b8839c": {
          "model_module": "@jupyter-widgets/base",
          "model_name": "LayoutModel",
          "model_module_version": "1.2.0",
          "state": {
            "_model_module": "@jupyter-widgets/base",
            "_model_module_version": "1.2.0",
            "_model_name": "LayoutModel",
            "_view_count": null,
            "_view_module": "@jupyter-widgets/base",
            "_view_module_version": "1.2.0",
            "_view_name": "LayoutView",
            "align_content": null,
            "align_items": null,
            "align_self": null,
            "border": null,
            "bottom": null,
            "display": null,
            "flex": null,
            "flex_flow": null,
            "grid_area": null,
            "grid_auto_columns": null,
            "grid_auto_flow": null,
            "grid_auto_rows": null,
            "grid_column": null,
            "grid_gap": null,
            "grid_row": null,
            "grid_template_areas": null,
            "grid_template_columns": null,
            "grid_template_rows": null,
            "height": null,
            "justify_content": null,
            "justify_items": null,
            "left": null,
            "margin": null,
            "max_height": null,
            "max_width": null,
            "min_height": null,
            "min_width": null,
            "object_fit": null,
            "object_position": null,
            "order": null,
            "overflow": null,
            "overflow_x": null,
            "overflow_y": null,
            "padding": null,
            "right": null,
            "top": null,
            "visibility": null,
            "width": null
          }
        },
        "82c4ed4443994b83818fbbcff6646bbd": {
          "model_module": "@jupyter-widgets/controls",
          "model_name": "DescriptionStyleModel",
          "model_module_version": "1.5.0",
          "state": {
            "_model_module": "@jupyter-widgets/controls",
            "_model_module_version": "1.5.0",
            "_model_name": "DescriptionStyleModel",
            "_view_count": null,
            "_view_module": "@jupyter-widgets/base",
            "_view_module_version": "1.2.0",
            "_view_name": "StyleView",
            "description_width": ""
          }
        },
        "ee59c2aa600648488dd32af91e832550": {
          "model_module": "@jupyter-widgets/base",
          "model_name": "LayoutModel",
          "model_module_version": "1.2.0",
          "state": {
            "_model_module": "@jupyter-widgets/base",
            "_model_module_version": "1.2.0",
            "_model_name": "LayoutModel",
            "_view_count": null,
            "_view_module": "@jupyter-widgets/base",
            "_view_module_version": "1.2.0",
            "_view_name": "LayoutView",
            "align_content": null,
            "align_items": null,
            "align_self": null,
            "border": null,
            "bottom": null,
            "display": null,
            "flex": null,
            "flex_flow": null,
            "grid_area": null,
            "grid_auto_columns": null,
            "grid_auto_flow": null,
            "grid_auto_rows": null,
            "grid_column": null,
            "grid_gap": null,
            "grid_row": null,
            "grid_template_areas": null,
            "grid_template_columns": null,
            "grid_template_rows": null,
            "height": null,
            "justify_content": null,
            "justify_items": null,
            "left": null,
            "margin": null,
            "max_height": null,
            "max_width": null,
            "min_height": null,
            "min_width": null,
            "object_fit": null,
            "object_position": null,
            "order": null,
            "overflow": null,
            "overflow_x": null,
            "overflow_y": null,
            "padding": null,
            "right": null,
            "top": null,
            "visibility": null,
            "width": null
          }
        },
        "f5a176db3e8349d391f360b2fb951d62": {
          "model_module": "@jupyter-widgets/controls",
          "model_name": "ProgressStyleModel",
          "model_module_version": "1.5.0",
          "state": {
            "_model_module": "@jupyter-widgets/controls",
            "_model_module_version": "1.5.0",
            "_model_name": "ProgressStyleModel",
            "_view_count": null,
            "_view_module": "@jupyter-widgets/base",
            "_view_module_version": "1.2.0",
            "_view_name": "StyleView",
            "bar_color": null,
            "description_width": ""
          }
        },
        "54dfdc1243d64f68839796c0604fa17c": {
          "model_module": "@jupyter-widgets/base",
          "model_name": "LayoutModel",
          "model_module_version": "1.2.0",
          "state": {
            "_model_module": "@jupyter-widgets/base",
            "_model_module_version": "1.2.0",
            "_model_name": "LayoutModel",
            "_view_count": null,
            "_view_module": "@jupyter-widgets/base",
            "_view_module_version": "1.2.0",
            "_view_name": "LayoutView",
            "align_content": null,
            "align_items": null,
            "align_self": null,
            "border": null,
            "bottom": null,
            "display": null,
            "flex": null,
            "flex_flow": null,
            "grid_area": null,
            "grid_auto_columns": null,
            "grid_auto_flow": null,
            "grid_auto_rows": null,
            "grid_column": null,
            "grid_gap": null,
            "grid_row": null,
            "grid_template_areas": null,
            "grid_template_columns": null,
            "grid_template_rows": null,
            "height": null,
            "justify_content": null,
            "justify_items": null,
            "left": null,
            "margin": null,
            "max_height": null,
            "max_width": null,
            "min_height": null,
            "min_width": null,
            "object_fit": null,
            "object_position": null,
            "order": null,
            "overflow": null,
            "overflow_x": null,
            "overflow_y": null,
            "padding": null,
            "right": null,
            "top": null,
            "visibility": null,
            "width": null
          }
        },
        "ca5f4e028fc44879bcd279721a921bc2": {
          "model_module": "@jupyter-widgets/controls",
          "model_name": "DescriptionStyleModel",
          "model_module_version": "1.5.0",
          "state": {
            "_model_module": "@jupyter-widgets/controls",
            "_model_module_version": "1.5.0",
            "_model_name": "DescriptionStyleModel",
            "_view_count": null,
            "_view_module": "@jupyter-widgets/base",
            "_view_module_version": "1.2.0",
            "_view_name": "StyleView",
            "description_width": ""
          }
        },
        "97377d4fa5eb4dc99e1df8721eb54aea": {
          "model_module": "@jupyter-widgets/controls",
          "model_name": "HBoxModel",
          "model_module_version": "1.5.0",
          "state": {
            "_dom_classes": [],
            "_model_module": "@jupyter-widgets/controls",
            "_model_module_version": "1.5.0",
            "_model_name": "HBoxModel",
            "_view_count": null,
            "_view_module": "@jupyter-widgets/controls",
            "_view_module_version": "1.5.0",
            "_view_name": "HBoxView",
            "box_style": "",
            "children": [
              "IPY_MODEL_50775cb2fb344b669cd55b5dd75e838e",
              "IPY_MODEL_f98417aead824ec4a8387d3592345e9a",
              "IPY_MODEL_c2ddcaf4bc844749a14c3b122dd8bc60"
            ],
            "layout": "IPY_MODEL_b79e408d191c42738123c992e85f3c99"
          }
        },
        "50775cb2fb344b669cd55b5dd75e838e": {
          "model_module": "@jupyter-widgets/controls",
          "model_name": "HTMLModel",
          "model_module_version": "1.5.0",
          "state": {
            "_dom_classes": [],
            "_model_module": "@jupyter-widgets/controls",
            "_model_module_version": "1.5.0",
            "_model_name": "HTMLModel",
            "_view_count": null,
            "_view_module": "@jupyter-widgets/controls",
            "_view_module_version": "1.5.0",
            "_view_name": "HTMLView",
            "description": "",
            "description_tooltip": null,
            "layout": "IPY_MODEL_7d3cfdd9cf134f7db3dfbf8661035313",
            "placeholder": "​",
            "style": "IPY_MODEL_c2369f4e4ce94610ae481b89dd643934",
            "value": "Downloading: 100%"
          }
        },
        "f98417aead824ec4a8387d3592345e9a": {
          "model_module": "@jupyter-widgets/controls",
          "model_name": "FloatProgressModel",
          "model_module_version": "1.5.0",
          "state": {
            "_dom_classes": [],
            "_model_module": "@jupyter-widgets/controls",
            "_model_module_version": "1.5.0",
            "_model_name": "FloatProgressModel",
            "_view_count": null,
            "_view_module": "@jupyter-widgets/controls",
            "_view_module_version": "1.5.0",
            "_view_name": "ProgressView",
            "bar_style": "success",
            "description": "",
            "description_tooltip": null,
            "layout": "IPY_MODEL_5c1356c96379475faffe504eb0ec959a",
            "max": 473451616,
            "min": 0,
            "orientation": "horizontal",
            "style": "IPY_MODEL_291abcf02fa34563a774322993d59ce2",
            "value": 473451616
          }
        },
        "c2ddcaf4bc844749a14c3b122dd8bc60": {
          "model_module": "@jupyter-widgets/controls",
          "model_name": "HTMLModel",
          "model_module_version": "1.5.0",
          "state": {
            "_dom_classes": [],
            "_model_module": "@jupyter-widgets/controls",
            "_model_module_version": "1.5.0",
            "_model_name": "HTMLModel",
            "_view_count": null,
            "_view_module": "@jupyter-widgets/controls",
            "_view_module_version": "1.5.0",
            "_view_name": "HTMLView",
            "description": "",
            "description_tooltip": null,
            "layout": "IPY_MODEL_7fc7f62ea6fb4691be33c41490c2fc2c",
            "placeholder": "​",
            "style": "IPY_MODEL_6bf29b6a65fa4f25ba01765271f3fcde",
            "value": " 452M/452M [00:11&lt;00:00, 50.6MB/s]"
          }
        },
        "b79e408d191c42738123c992e85f3c99": {
          "model_module": "@jupyter-widgets/base",
          "model_name": "LayoutModel",
          "model_module_version": "1.2.0",
          "state": {
            "_model_module": "@jupyter-widgets/base",
            "_model_module_version": "1.2.0",
            "_model_name": "LayoutModel",
            "_view_count": null,
            "_view_module": "@jupyter-widgets/base",
            "_view_module_version": "1.2.0",
            "_view_name": "LayoutView",
            "align_content": null,
            "align_items": null,
            "align_self": null,
            "border": null,
            "bottom": null,
            "display": null,
            "flex": null,
            "flex_flow": null,
            "grid_area": null,
            "grid_auto_columns": null,
            "grid_auto_flow": null,
            "grid_auto_rows": null,
            "grid_column": null,
            "grid_gap": null,
            "grid_row": null,
            "grid_template_areas": null,
            "grid_template_columns": null,
            "grid_template_rows": null,
            "height": null,
            "justify_content": null,
            "justify_items": null,
            "left": null,
            "margin": null,
            "max_height": null,
            "max_width": null,
            "min_height": null,
            "min_width": null,
            "object_fit": null,
            "object_position": null,
            "order": null,
            "overflow": null,
            "overflow_x": null,
            "overflow_y": null,
            "padding": null,
            "right": null,
            "top": null,
            "visibility": null,
            "width": null
          }
        },
        "7d3cfdd9cf134f7db3dfbf8661035313": {
          "model_module": "@jupyter-widgets/base",
          "model_name": "LayoutModel",
          "model_module_version": "1.2.0",
          "state": {
            "_model_module": "@jupyter-widgets/base",
            "_model_module_version": "1.2.0",
            "_model_name": "LayoutModel",
            "_view_count": null,
            "_view_module": "@jupyter-widgets/base",
            "_view_module_version": "1.2.0",
            "_view_name": "LayoutView",
            "align_content": null,
            "align_items": null,
            "align_self": null,
            "border": null,
            "bottom": null,
            "display": null,
            "flex": null,
            "flex_flow": null,
            "grid_area": null,
            "grid_auto_columns": null,
            "grid_auto_flow": null,
            "grid_auto_rows": null,
            "grid_column": null,
            "grid_gap": null,
            "grid_row": null,
            "grid_template_areas": null,
            "grid_template_columns": null,
            "grid_template_rows": null,
            "height": null,
            "justify_content": null,
            "justify_items": null,
            "left": null,
            "margin": null,
            "max_height": null,
            "max_width": null,
            "min_height": null,
            "min_width": null,
            "object_fit": null,
            "object_position": null,
            "order": null,
            "overflow": null,
            "overflow_x": null,
            "overflow_y": null,
            "padding": null,
            "right": null,
            "top": null,
            "visibility": null,
            "width": null
          }
        },
        "c2369f4e4ce94610ae481b89dd643934": {
          "model_module": "@jupyter-widgets/controls",
          "model_name": "DescriptionStyleModel",
          "model_module_version": "1.5.0",
          "state": {
            "_model_module": "@jupyter-widgets/controls",
            "_model_module_version": "1.5.0",
            "_model_name": "DescriptionStyleModel",
            "_view_count": null,
            "_view_module": "@jupyter-widgets/base",
            "_view_module_version": "1.2.0",
            "_view_name": "StyleView",
            "description_width": ""
          }
        },
        "5c1356c96379475faffe504eb0ec959a": {
          "model_module": "@jupyter-widgets/base",
          "model_name": "LayoutModel",
          "model_module_version": "1.2.0",
          "state": {
            "_model_module": "@jupyter-widgets/base",
            "_model_module_version": "1.2.0",
            "_model_name": "LayoutModel",
            "_view_count": null,
            "_view_module": "@jupyter-widgets/base",
            "_view_module_version": "1.2.0",
            "_view_name": "LayoutView",
            "align_content": null,
            "align_items": null,
            "align_self": null,
            "border": null,
            "bottom": null,
            "display": null,
            "flex": null,
            "flex_flow": null,
            "grid_area": null,
            "grid_auto_columns": null,
            "grid_auto_flow": null,
            "grid_auto_rows": null,
            "grid_column": null,
            "grid_gap": null,
            "grid_row": null,
            "grid_template_areas": null,
            "grid_template_columns": null,
            "grid_template_rows": null,
            "height": null,
            "justify_content": null,
            "justify_items": null,
            "left": null,
            "margin": null,
            "max_height": null,
            "max_width": null,
            "min_height": null,
            "min_width": null,
            "object_fit": null,
            "object_position": null,
            "order": null,
            "overflow": null,
            "overflow_x": null,
            "overflow_y": null,
            "padding": null,
            "right": null,
            "top": null,
            "visibility": null,
            "width": null
          }
        },
        "291abcf02fa34563a774322993d59ce2": {
          "model_module": "@jupyter-widgets/controls",
          "model_name": "ProgressStyleModel",
          "model_module_version": "1.5.0",
          "state": {
            "_model_module": "@jupyter-widgets/controls",
            "_model_module_version": "1.5.0",
            "_model_name": "ProgressStyleModel",
            "_view_count": null,
            "_view_module": "@jupyter-widgets/base",
            "_view_module_version": "1.2.0",
            "_view_name": "StyleView",
            "bar_color": null,
            "description_width": ""
          }
        },
        "7fc7f62ea6fb4691be33c41490c2fc2c": {
          "model_module": "@jupyter-widgets/base",
          "model_name": "LayoutModel",
          "model_module_version": "1.2.0",
          "state": {
            "_model_module": "@jupyter-widgets/base",
            "_model_module_version": "1.2.0",
            "_model_name": "LayoutModel",
            "_view_count": null,
            "_view_module": "@jupyter-widgets/base",
            "_view_module_version": "1.2.0",
            "_view_name": "LayoutView",
            "align_content": null,
            "align_items": null,
            "align_self": null,
            "border": null,
            "bottom": null,
            "display": null,
            "flex": null,
            "flex_flow": null,
            "grid_area": null,
            "grid_auto_columns": null,
            "grid_auto_flow": null,
            "grid_auto_rows": null,
            "grid_column": null,
            "grid_gap": null,
            "grid_row": null,
            "grid_template_areas": null,
            "grid_template_columns": null,
            "grid_template_rows": null,
            "height": null,
            "justify_content": null,
            "justify_items": null,
            "left": null,
            "margin": null,
            "max_height": null,
            "max_width": null,
            "min_height": null,
            "min_width": null,
            "object_fit": null,
            "object_position": null,
            "order": null,
            "overflow": null,
            "overflow_x": null,
            "overflow_y": null,
            "padding": null,
            "right": null,
            "top": null,
            "visibility": null,
            "width": null
          }
        },
        "6bf29b6a65fa4f25ba01765271f3fcde": {
          "model_module": "@jupyter-widgets/controls",
          "model_name": "DescriptionStyleModel",
          "model_module_version": "1.5.0",
          "state": {
            "_model_module": "@jupyter-widgets/controls",
            "_model_module_version": "1.5.0",
            "_model_name": "DescriptionStyleModel",
            "_view_count": null,
            "_view_module": "@jupyter-widgets/base",
            "_view_module_version": "1.2.0",
            "_view_name": "StyleView",
            "description_width": ""
          }
        },
        "5794307aaf424d9c8f0d77ea3e952bb2": {
          "model_module": "@jupyter-widgets/controls",
          "model_name": "HBoxModel",
          "model_module_version": "1.5.0",
          "state": {
            "_dom_classes": [],
            "_model_module": "@jupyter-widgets/controls",
            "_model_module_version": "1.5.0",
            "_model_name": "HBoxModel",
            "_view_count": null,
            "_view_module": "@jupyter-widgets/controls",
            "_view_module_version": "1.5.0",
            "_view_name": "HBoxView",
            "box_style": "",
            "children": [
              "IPY_MODEL_0de51f5a969948c1ad1b3a3a590cafb8",
              "IPY_MODEL_4441f5b616644c01934f93f20c40186a",
              "IPY_MODEL_3b7bb47044ca4bc292520decbb22e4da"
            ],
            "layout": "IPY_MODEL_de38cf0018c44d3ca5d401a0802ef60b"
          }
        },
        "0de51f5a969948c1ad1b3a3a590cafb8": {
          "model_module": "@jupyter-widgets/controls",
          "model_name": "HTMLModel",
          "model_module_version": "1.5.0",
          "state": {
            "_dom_classes": [],
            "_model_module": "@jupyter-widgets/controls",
            "_model_module_version": "1.5.0",
            "_model_name": "HTMLModel",
            "_view_count": null,
            "_view_module": "@jupyter-widgets/controls",
            "_view_module_version": "1.5.0",
            "_view_name": "HTMLView",
            "description": "",
            "description_tooltip": null,
            "layout": "IPY_MODEL_736d6b51dae540b0bcd23b9a40e73a77",
            "placeholder": "​",
            "style": "IPY_MODEL_efa5a687d86c452db657cc2ef06a9bbf",
            "value": "Downloading: 100%"
          }
        },
        "4441f5b616644c01934f93f20c40186a": {
          "model_module": "@jupyter-widgets/controls",
          "model_name": "FloatProgressModel",
          "model_module_version": "1.5.0",
          "state": {
            "_dom_classes": [],
            "_model_module": "@jupyter-widgets/controls",
            "_model_module_version": "1.5.0",
            "_model_name": "FloatProgressModel",
            "_view_count": null,
            "_view_module": "@jupyter-widgets/controls",
            "_view_module_version": "1.5.0",
            "_view_name": "ProgressView",
            "bar_style": "success",
            "description": "",
            "description_tooltip": null,
            "layout": "IPY_MODEL_952e7711fc7341a297d4da4117710f33",
            "max": 292,
            "min": 0,
            "orientation": "horizontal",
            "style": "IPY_MODEL_1f5cf7939b7c49d8a287813247d72c27",
            "value": 292
          }
        },
        "3b7bb47044ca4bc292520decbb22e4da": {
          "model_module": "@jupyter-widgets/controls",
          "model_name": "HTMLModel",
          "model_module_version": "1.5.0",
          "state": {
            "_dom_classes": [],
            "_model_module": "@jupyter-widgets/controls",
            "_model_module_version": "1.5.0",
            "_model_name": "HTMLModel",
            "_view_count": null,
            "_view_module": "@jupyter-widgets/controls",
            "_view_module_version": "1.5.0",
            "_view_name": "HTMLView",
            "description": "",
            "description_tooltip": null,
            "layout": "IPY_MODEL_9413209419dd48d196027d9f50418bc5",
            "placeholder": "​",
            "style": "IPY_MODEL_a35f52919aea4359b262595ed4398c9c",
            "value": " 292/292 [00:00&lt;00:00, 4.94kB/s]"
          }
        },
        "de38cf0018c44d3ca5d401a0802ef60b": {
          "model_module": "@jupyter-widgets/base",
          "model_name": "LayoutModel",
          "model_module_version": "1.2.0",
          "state": {
            "_model_module": "@jupyter-widgets/base",
            "_model_module_version": "1.2.0",
            "_model_name": "LayoutModel",
            "_view_count": null,
            "_view_module": "@jupyter-widgets/base",
            "_view_module_version": "1.2.0",
            "_view_name": "LayoutView",
            "align_content": null,
            "align_items": null,
            "align_self": null,
            "border": null,
            "bottom": null,
            "display": null,
            "flex": null,
            "flex_flow": null,
            "grid_area": null,
            "grid_auto_columns": null,
            "grid_auto_flow": null,
            "grid_auto_rows": null,
            "grid_column": null,
            "grid_gap": null,
            "grid_row": null,
            "grid_template_areas": null,
            "grid_template_columns": null,
            "grid_template_rows": null,
            "height": null,
            "justify_content": null,
            "justify_items": null,
            "left": null,
            "margin": null,
            "max_height": null,
            "max_width": null,
            "min_height": null,
            "min_width": null,
            "object_fit": null,
            "object_position": null,
            "order": null,
            "overflow": null,
            "overflow_x": null,
            "overflow_y": null,
            "padding": null,
            "right": null,
            "top": null,
            "visibility": null,
            "width": null
          }
        },
        "736d6b51dae540b0bcd23b9a40e73a77": {
          "model_module": "@jupyter-widgets/base",
          "model_name": "LayoutModel",
          "model_module_version": "1.2.0",
          "state": {
            "_model_module": "@jupyter-widgets/base",
            "_model_module_version": "1.2.0",
            "_model_name": "LayoutModel",
            "_view_count": null,
            "_view_module": "@jupyter-widgets/base",
            "_view_module_version": "1.2.0",
            "_view_name": "LayoutView",
            "align_content": null,
            "align_items": null,
            "align_self": null,
            "border": null,
            "bottom": null,
            "display": null,
            "flex": null,
            "flex_flow": null,
            "grid_area": null,
            "grid_auto_columns": null,
            "grid_auto_flow": null,
            "grid_auto_rows": null,
            "grid_column": null,
            "grid_gap": null,
            "grid_row": null,
            "grid_template_areas": null,
            "grid_template_columns": null,
            "grid_template_rows": null,
            "height": null,
            "justify_content": null,
            "justify_items": null,
            "left": null,
            "margin": null,
            "max_height": null,
            "max_width": null,
            "min_height": null,
            "min_width": null,
            "object_fit": null,
            "object_position": null,
            "order": null,
            "overflow": null,
            "overflow_x": null,
            "overflow_y": null,
            "padding": null,
            "right": null,
            "top": null,
            "visibility": null,
            "width": null
          }
        },
        "efa5a687d86c452db657cc2ef06a9bbf": {
          "model_module": "@jupyter-widgets/controls",
          "model_name": "DescriptionStyleModel",
          "model_module_version": "1.5.0",
          "state": {
            "_model_module": "@jupyter-widgets/controls",
            "_model_module_version": "1.5.0",
            "_model_name": "DescriptionStyleModel",
            "_view_count": null,
            "_view_module": "@jupyter-widgets/base",
            "_view_module_version": "1.2.0",
            "_view_name": "StyleView",
            "description_width": ""
          }
        },
        "952e7711fc7341a297d4da4117710f33": {
          "model_module": "@jupyter-widgets/base",
          "model_name": "LayoutModel",
          "model_module_version": "1.2.0",
          "state": {
            "_model_module": "@jupyter-widgets/base",
            "_model_module_version": "1.2.0",
            "_model_name": "LayoutModel",
            "_view_count": null,
            "_view_module": "@jupyter-widgets/base",
            "_view_module_version": "1.2.0",
            "_view_name": "LayoutView",
            "align_content": null,
            "align_items": null,
            "align_self": null,
            "border": null,
            "bottom": null,
            "display": null,
            "flex": null,
            "flex_flow": null,
            "grid_area": null,
            "grid_auto_columns": null,
            "grid_auto_flow": null,
            "grid_auto_rows": null,
            "grid_column": null,
            "grid_gap": null,
            "grid_row": null,
            "grid_template_areas": null,
            "grid_template_columns": null,
            "grid_template_rows": null,
            "height": null,
            "justify_content": null,
            "justify_items": null,
            "left": null,
            "margin": null,
            "max_height": null,
            "max_width": null,
            "min_height": null,
            "min_width": null,
            "object_fit": null,
            "object_position": null,
            "order": null,
            "overflow": null,
            "overflow_x": null,
            "overflow_y": null,
            "padding": null,
            "right": null,
            "top": null,
            "visibility": null,
            "width": null
          }
        },
        "1f5cf7939b7c49d8a287813247d72c27": {
          "model_module": "@jupyter-widgets/controls",
          "model_name": "ProgressStyleModel",
          "model_module_version": "1.5.0",
          "state": {
            "_model_module": "@jupyter-widgets/controls",
            "_model_module_version": "1.5.0",
            "_model_name": "ProgressStyleModel",
            "_view_count": null,
            "_view_module": "@jupyter-widgets/base",
            "_view_module_version": "1.2.0",
            "_view_name": "StyleView",
            "bar_color": null,
            "description_width": ""
          }
        },
        "9413209419dd48d196027d9f50418bc5": {
          "model_module": "@jupyter-widgets/base",
          "model_name": "LayoutModel",
          "model_module_version": "1.2.0",
          "state": {
            "_model_module": "@jupyter-widgets/base",
            "_model_module_version": "1.2.0",
            "_model_name": "LayoutModel",
            "_view_count": null,
            "_view_module": "@jupyter-widgets/base",
            "_view_module_version": "1.2.0",
            "_view_name": "LayoutView",
            "align_content": null,
            "align_items": null,
            "align_self": null,
            "border": null,
            "bottom": null,
            "display": null,
            "flex": null,
            "flex_flow": null,
            "grid_area": null,
            "grid_auto_columns": null,
            "grid_auto_flow": null,
            "grid_auto_rows": null,
            "grid_column": null,
            "grid_gap": null,
            "grid_row": null,
            "grid_template_areas": null,
            "grid_template_columns": null,
            "grid_template_rows": null,
            "height": null,
            "justify_content": null,
            "justify_items": null,
            "left": null,
            "margin": null,
            "max_height": null,
            "max_width": null,
            "min_height": null,
            "min_width": null,
            "object_fit": null,
            "object_position": null,
            "order": null,
            "overflow": null,
            "overflow_x": null,
            "overflow_y": null,
            "padding": null,
            "right": null,
            "top": null,
            "visibility": null,
            "width": null
          }
        },
        "a35f52919aea4359b262595ed4398c9c": {
          "model_module": "@jupyter-widgets/controls",
          "model_name": "DescriptionStyleModel",
          "model_module_version": "1.5.0",
          "state": {
            "_model_module": "@jupyter-widgets/controls",
            "_model_module_version": "1.5.0",
            "_model_name": "DescriptionStyleModel",
            "_view_count": null,
            "_view_module": "@jupyter-widgets/base",
            "_view_module_version": "1.2.0",
            "_view_name": "StyleView",
            "description_width": ""
          }
        },
        "90fe9b06c85e435b9acd3977c6cb84e3": {
          "model_module": "@jupyter-widgets/controls",
          "model_name": "HBoxModel",
          "model_module_version": "1.5.0",
          "state": {
            "_dom_classes": [],
            "_model_module": "@jupyter-widgets/controls",
            "_model_module_version": "1.5.0",
            "_model_name": "HBoxModel",
            "_view_count": null,
            "_view_module": "@jupyter-widgets/controls",
            "_view_module_version": "1.5.0",
            "_view_name": "HBoxView",
            "box_style": "",
            "children": [
              "IPY_MODEL_d8ee6fece4384a46bb5ece734e5aa96a",
              "IPY_MODEL_4381a46c449a46e0b30d58fd85fa1b39",
              "IPY_MODEL_8cea42bdbff34532966db1db9b1187ca"
            ],
            "layout": "IPY_MODEL_e373f4850eca40b0830848788cbdfe93"
          }
        },
        "d8ee6fece4384a46bb5ece734e5aa96a": {
          "model_module": "@jupyter-widgets/controls",
          "model_name": "HTMLModel",
          "model_module_version": "1.5.0",
          "state": {
            "_dom_classes": [],
            "_model_module": "@jupyter-widgets/controls",
            "_model_module_version": "1.5.0",
            "_model_name": "HTMLModel",
            "_view_count": null,
            "_view_module": "@jupyter-widgets/controls",
            "_view_module_version": "1.5.0",
            "_view_name": "HTMLView",
            "description": "",
            "description_tooltip": null,
            "layout": "IPY_MODEL_90856b0972614e9e8da13ecace9e5b13",
            "placeholder": "​",
            "style": "IPY_MODEL_b528e79d99e04536b926236db3d420b7",
            "value": "Downloading: 100%"
          }
        },
        "4381a46c449a46e0b30d58fd85fa1b39": {
          "model_module": "@jupyter-widgets/controls",
          "model_name": "FloatProgressModel",
          "model_module_version": "1.5.0",
          "state": {
            "_dom_classes": [],
            "_model_module": "@jupyter-widgets/controls",
            "_model_module_version": "1.5.0",
            "_model_name": "FloatProgressModel",
            "_view_count": null,
            "_view_module": "@jupyter-widgets/controls",
            "_view_module_version": "1.5.0",
            "_view_name": "ProgressView",
            "bar_style": "success",
            "description": "",
            "description_tooltip": null,
            "layout": "IPY_MODEL_f57c31a664ab472d9571f6c37376dd1e",
            "max": 426422,
            "min": 0,
            "orientation": "horizontal",
            "style": "IPY_MODEL_bfcae5086ad742e18590e8b06b1a4fe1",
            "value": 426422
          }
        },
        "8cea42bdbff34532966db1db9b1187ca": {
          "model_module": "@jupyter-widgets/controls",
          "model_name": "HTMLModel",
          "model_module_version": "1.5.0",
          "state": {
            "_dom_classes": [],
            "_model_module": "@jupyter-widgets/controls",
            "_model_module_version": "1.5.0",
            "_model_name": "HTMLModel",
            "_view_count": null,
            "_view_module": "@jupyter-widgets/controls",
            "_view_module_version": "1.5.0",
            "_view_name": "HTMLView",
            "description": "",
            "description_tooltip": null,
            "layout": "IPY_MODEL_d933ef76896642d6804275e9dbb765fe",
            "placeholder": "​",
            "style": "IPY_MODEL_c0cea91599f34285959521732186142e",
            "value": " 416k/416k [00:00&lt;00:00, 3.62MB/s]"
          }
        },
        "e373f4850eca40b0830848788cbdfe93": {
          "model_module": "@jupyter-widgets/base",
          "model_name": "LayoutModel",
          "model_module_version": "1.2.0",
          "state": {
            "_model_module": "@jupyter-widgets/base",
            "_model_module_version": "1.2.0",
            "_model_name": "LayoutModel",
            "_view_count": null,
            "_view_module": "@jupyter-widgets/base",
            "_view_module_version": "1.2.0",
            "_view_name": "LayoutView",
            "align_content": null,
            "align_items": null,
            "align_self": null,
            "border": null,
            "bottom": null,
            "display": null,
            "flex": null,
            "flex_flow": null,
            "grid_area": null,
            "grid_auto_columns": null,
            "grid_auto_flow": null,
            "grid_auto_rows": null,
            "grid_column": null,
            "grid_gap": null,
            "grid_row": null,
            "grid_template_areas": null,
            "grid_template_columns": null,
            "grid_template_rows": null,
            "height": null,
            "justify_content": null,
            "justify_items": null,
            "left": null,
            "margin": null,
            "max_height": null,
            "max_width": null,
            "min_height": null,
            "min_width": null,
            "object_fit": null,
            "object_position": null,
            "order": null,
            "overflow": null,
            "overflow_x": null,
            "overflow_y": null,
            "padding": null,
            "right": null,
            "top": null,
            "visibility": null,
            "width": null
          }
        },
        "90856b0972614e9e8da13ecace9e5b13": {
          "model_module": "@jupyter-widgets/base",
          "model_name": "LayoutModel",
          "model_module_version": "1.2.0",
          "state": {
            "_model_module": "@jupyter-widgets/base",
            "_model_module_version": "1.2.0",
            "_model_name": "LayoutModel",
            "_view_count": null,
            "_view_module": "@jupyter-widgets/base",
            "_view_module_version": "1.2.0",
            "_view_name": "LayoutView",
            "align_content": null,
            "align_items": null,
            "align_self": null,
            "border": null,
            "bottom": null,
            "display": null,
            "flex": null,
            "flex_flow": null,
            "grid_area": null,
            "grid_auto_columns": null,
            "grid_auto_flow": null,
            "grid_auto_rows": null,
            "grid_column": null,
            "grid_gap": null,
            "grid_row": null,
            "grid_template_areas": null,
            "grid_template_columns": null,
            "grid_template_rows": null,
            "height": null,
            "justify_content": null,
            "justify_items": null,
            "left": null,
            "margin": null,
            "max_height": null,
            "max_width": null,
            "min_height": null,
            "min_width": null,
            "object_fit": null,
            "object_position": null,
            "order": null,
            "overflow": null,
            "overflow_x": null,
            "overflow_y": null,
            "padding": null,
            "right": null,
            "top": null,
            "visibility": null,
            "width": null
          }
        },
        "b528e79d99e04536b926236db3d420b7": {
          "model_module": "@jupyter-widgets/controls",
          "model_name": "DescriptionStyleModel",
          "model_module_version": "1.5.0",
          "state": {
            "_model_module": "@jupyter-widgets/controls",
            "_model_module_version": "1.5.0",
            "_model_name": "DescriptionStyleModel",
            "_view_count": null,
            "_view_module": "@jupyter-widgets/base",
            "_view_module_version": "1.2.0",
            "_view_name": "StyleView",
            "description_width": ""
          }
        },
        "f57c31a664ab472d9571f6c37376dd1e": {
          "model_module": "@jupyter-widgets/base",
          "model_name": "LayoutModel",
          "model_module_version": "1.2.0",
          "state": {
            "_model_module": "@jupyter-widgets/base",
            "_model_module_version": "1.2.0",
            "_model_name": "LayoutModel",
            "_view_count": null,
            "_view_module": "@jupyter-widgets/base",
            "_view_module_version": "1.2.0",
            "_view_name": "LayoutView",
            "align_content": null,
            "align_items": null,
            "align_self": null,
            "border": null,
            "bottom": null,
            "display": null,
            "flex": null,
            "flex_flow": null,
            "grid_area": null,
            "grid_auto_columns": null,
            "grid_auto_flow": null,
            "grid_auto_rows": null,
            "grid_column": null,
            "grid_gap": null,
            "grid_row": null,
            "grid_template_areas": null,
            "grid_template_columns": null,
            "grid_template_rows": null,
            "height": null,
            "justify_content": null,
            "justify_items": null,
            "left": null,
            "margin": null,
            "max_height": null,
            "max_width": null,
            "min_height": null,
            "min_width": null,
            "object_fit": null,
            "object_position": null,
            "order": null,
            "overflow": null,
            "overflow_x": null,
            "overflow_y": null,
            "padding": null,
            "right": null,
            "top": null,
            "visibility": null,
            "width": null
          }
        },
        "bfcae5086ad742e18590e8b06b1a4fe1": {
          "model_module": "@jupyter-widgets/controls",
          "model_name": "ProgressStyleModel",
          "model_module_version": "1.5.0",
          "state": {
            "_model_module": "@jupyter-widgets/controls",
            "_model_module_version": "1.5.0",
            "_model_name": "ProgressStyleModel",
            "_view_count": null,
            "_view_module": "@jupyter-widgets/base",
            "_view_module_version": "1.2.0",
            "_view_name": "StyleView",
            "bar_color": null,
            "description_width": ""
          }
        },
        "d933ef76896642d6804275e9dbb765fe": {
          "model_module": "@jupyter-widgets/base",
          "model_name": "LayoutModel",
          "model_module_version": "1.2.0",
          "state": {
            "_model_module": "@jupyter-widgets/base",
            "_model_module_version": "1.2.0",
            "_model_name": "LayoutModel",
            "_view_count": null,
            "_view_module": "@jupyter-widgets/base",
            "_view_module_version": "1.2.0",
            "_view_name": "LayoutView",
            "align_content": null,
            "align_items": null,
            "align_self": null,
            "border": null,
            "bottom": null,
            "display": null,
            "flex": null,
            "flex_flow": null,
            "grid_area": null,
            "grid_auto_columns": null,
            "grid_auto_flow": null,
            "grid_auto_rows": null,
            "grid_column": null,
            "grid_gap": null,
            "grid_row": null,
            "grid_template_areas": null,
            "grid_template_columns": null,
            "grid_template_rows": null,
            "height": null,
            "justify_content": null,
            "justify_items": null,
            "left": null,
            "margin": null,
            "max_height": null,
            "max_width": null,
            "min_height": null,
            "min_width": null,
            "object_fit": null,
            "object_position": null,
            "order": null,
            "overflow": null,
            "overflow_x": null,
            "overflow_y": null,
            "padding": null,
            "right": null,
            "top": null,
            "visibility": null,
            "width": null
          }
        },
        "c0cea91599f34285959521732186142e": {
          "model_module": "@jupyter-widgets/controls",
          "model_name": "DescriptionStyleModel",
          "model_module_version": "1.5.0",
          "state": {
            "_model_module": "@jupyter-widgets/controls",
            "_model_module_version": "1.5.0",
            "_model_name": "DescriptionStyleModel",
            "_view_count": null,
            "_view_module": "@jupyter-widgets/base",
            "_view_module_version": "1.2.0",
            "_view_name": "StyleView",
            "description_width": ""
          }
        },
        "bc5a7b9cd13646609b82405de26058d3": {
          "model_module": "@jupyter-widgets/controls",
          "model_name": "HBoxModel",
          "model_module_version": "1.5.0",
          "state": {
            "_dom_classes": [],
            "_model_module": "@jupyter-widgets/controls",
            "_model_module_version": "1.5.0",
            "_model_name": "HBoxModel",
            "_view_count": null,
            "_view_module": "@jupyter-widgets/controls",
            "_view_module_version": "1.5.0",
            "_view_name": "HBoxView",
            "box_style": "",
            "children": [
              "IPY_MODEL_93d2d13273524f53ad4d196c5a724a90",
              "IPY_MODEL_b7a61e91714443d69766102e20c6f5ee",
              "IPY_MODEL_4a0304cedc014ba4a315d469054f8a39"
            ],
            "layout": "IPY_MODEL_18e4b12eebb34159a9f6d7391986a511"
          }
        },
        "93d2d13273524f53ad4d196c5a724a90": {
          "model_module": "@jupyter-widgets/controls",
          "model_name": "HTMLModel",
          "model_module_version": "1.5.0",
          "state": {
            "_dom_classes": [],
            "_model_module": "@jupyter-widgets/controls",
            "_model_module_version": "1.5.0",
            "_model_name": "HTMLModel",
            "_view_count": null,
            "_view_module": "@jupyter-widgets/controls",
            "_view_module_version": "1.5.0",
            "_view_name": "HTMLView",
            "description": "",
            "description_tooltip": null,
            "layout": "IPY_MODEL_340a928042ea4565b2838671a65c3f2a",
            "placeholder": "​",
            "style": "IPY_MODEL_3be56cb8bb16409788ea4422eb0265f5",
            "value": "Downloading: 100%"
          }
        },
        "b7a61e91714443d69766102e20c6f5ee": {
          "model_module": "@jupyter-widgets/controls",
          "model_name": "FloatProgressModel",
          "model_module_version": "1.5.0",
          "state": {
            "_dom_classes": [],
            "_model_module": "@jupyter-widgets/controls",
            "_model_module_version": "1.5.0",
            "_model_name": "FloatProgressModel",
            "_view_count": null,
            "_view_module": "@jupyter-widgets/controls",
            "_view_module_version": "1.5.0",
            "_view_name": "ProgressView",
            "bar_style": "success",
            "description": "",
            "description_tooltip": null,
            "layout": "IPY_MODEL_46beb6782a53437fb9fc5dc782043361",
            "max": 1108824,
            "min": 0,
            "orientation": "horizontal",
            "style": "IPY_MODEL_43b1aa709029445c9ee48d71efff7a03",
            "value": 1108824
          }
        },
        "4a0304cedc014ba4a315d469054f8a39": {
          "model_module": "@jupyter-widgets/controls",
          "model_name": "HTMLModel",
          "model_module_version": "1.5.0",
          "state": {
            "_dom_classes": [],
            "_model_module": "@jupyter-widgets/controls",
            "_model_module_version": "1.5.0",
            "_model_name": "HTMLModel",
            "_view_count": null,
            "_view_module": "@jupyter-widgets/controls",
            "_view_module_version": "1.5.0",
            "_view_name": "HTMLView",
            "description": "",
            "description_tooltip": null,
            "layout": "IPY_MODEL_3c390b0ff8f340a29574b566c6147211",
            "placeholder": "​",
            "style": "IPY_MODEL_b070352bc7774f56892a89369ab43fd7",
            "value": " 1.06M/1.06M [00:00&lt;00:00, 11.9MB/s]"
          }
        },
        "18e4b12eebb34159a9f6d7391986a511": {
          "model_module": "@jupyter-widgets/base",
          "model_name": "LayoutModel",
          "model_module_version": "1.2.0",
          "state": {
            "_model_module": "@jupyter-widgets/base",
            "_model_module_version": "1.2.0",
            "_model_name": "LayoutModel",
            "_view_count": null,
            "_view_module": "@jupyter-widgets/base",
            "_view_module_version": "1.2.0",
            "_view_name": "LayoutView",
            "align_content": null,
            "align_items": null,
            "align_self": null,
            "border": null,
            "bottom": null,
            "display": null,
            "flex": null,
            "flex_flow": null,
            "grid_area": null,
            "grid_auto_columns": null,
            "grid_auto_flow": null,
            "grid_auto_rows": null,
            "grid_column": null,
            "grid_gap": null,
            "grid_row": null,
            "grid_template_areas": null,
            "grid_template_columns": null,
            "grid_template_rows": null,
            "height": null,
            "justify_content": null,
            "justify_items": null,
            "left": null,
            "margin": null,
            "max_height": null,
            "max_width": null,
            "min_height": null,
            "min_width": null,
            "object_fit": null,
            "object_position": null,
            "order": null,
            "overflow": null,
            "overflow_x": null,
            "overflow_y": null,
            "padding": null,
            "right": null,
            "top": null,
            "visibility": null,
            "width": null
          }
        },
        "340a928042ea4565b2838671a65c3f2a": {
          "model_module": "@jupyter-widgets/base",
          "model_name": "LayoutModel",
          "model_module_version": "1.2.0",
          "state": {
            "_model_module": "@jupyter-widgets/base",
            "_model_module_version": "1.2.0",
            "_model_name": "LayoutModel",
            "_view_count": null,
            "_view_module": "@jupyter-widgets/base",
            "_view_module_version": "1.2.0",
            "_view_name": "LayoutView",
            "align_content": null,
            "align_items": null,
            "align_self": null,
            "border": null,
            "bottom": null,
            "display": null,
            "flex": null,
            "flex_flow": null,
            "grid_area": null,
            "grid_auto_columns": null,
            "grid_auto_flow": null,
            "grid_auto_rows": null,
            "grid_column": null,
            "grid_gap": null,
            "grid_row": null,
            "grid_template_areas": null,
            "grid_template_columns": null,
            "grid_template_rows": null,
            "height": null,
            "justify_content": null,
            "justify_items": null,
            "left": null,
            "margin": null,
            "max_height": null,
            "max_width": null,
            "min_height": null,
            "min_width": null,
            "object_fit": null,
            "object_position": null,
            "order": null,
            "overflow": null,
            "overflow_x": null,
            "overflow_y": null,
            "padding": null,
            "right": null,
            "top": null,
            "visibility": null,
            "width": null
          }
        },
        "3be56cb8bb16409788ea4422eb0265f5": {
          "model_module": "@jupyter-widgets/controls",
          "model_name": "DescriptionStyleModel",
          "model_module_version": "1.5.0",
          "state": {
            "_model_module": "@jupyter-widgets/controls",
            "_model_module_version": "1.5.0",
            "_model_name": "DescriptionStyleModel",
            "_view_count": null,
            "_view_module": "@jupyter-widgets/base",
            "_view_module_version": "1.2.0",
            "_view_name": "StyleView",
            "description_width": ""
          }
        },
        "46beb6782a53437fb9fc5dc782043361": {
          "model_module": "@jupyter-widgets/base",
          "model_name": "LayoutModel",
          "model_module_version": "1.2.0",
          "state": {
            "_model_module": "@jupyter-widgets/base",
            "_model_module_version": "1.2.0",
            "_model_name": "LayoutModel",
            "_view_count": null,
            "_view_module": "@jupyter-widgets/base",
            "_view_module_version": "1.2.0",
            "_view_name": "LayoutView",
            "align_content": null,
            "align_items": null,
            "align_self": null,
            "border": null,
            "bottom": null,
            "display": null,
            "flex": null,
            "flex_flow": null,
            "grid_area": null,
            "grid_auto_columns": null,
            "grid_auto_flow": null,
            "grid_auto_rows": null,
            "grid_column": null,
            "grid_gap": null,
            "grid_row": null,
            "grid_template_areas": null,
            "grid_template_columns": null,
            "grid_template_rows": null,
            "height": null,
            "justify_content": null,
            "justify_items": null,
            "left": null,
            "margin": null,
            "max_height": null,
            "max_width": null,
            "min_height": null,
            "min_width": null,
            "object_fit": null,
            "object_position": null,
            "order": null,
            "overflow": null,
            "overflow_x": null,
            "overflow_y": null,
            "padding": null,
            "right": null,
            "top": null,
            "visibility": null,
            "width": null
          }
        },
        "43b1aa709029445c9ee48d71efff7a03": {
          "model_module": "@jupyter-widgets/controls",
          "model_name": "ProgressStyleModel",
          "model_module_version": "1.5.0",
          "state": {
            "_model_module": "@jupyter-widgets/controls",
            "_model_module_version": "1.5.0",
            "_model_name": "ProgressStyleModel",
            "_view_count": null,
            "_view_module": "@jupyter-widgets/base",
            "_view_module_version": "1.2.0",
            "_view_name": "StyleView",
            "bar_color": null,
            "description_width": ""
          }
        },
        "3c390b0ff8f340a29574b566c6147211": {
          "model_module": "@jupyter-widgets/base",
          "model_name": "LayoutModel",
          "model_module_version": "1.2.0",
          "state": {
            "_model_module": "@jupyter-widgets/base",
            "_model_module_version": "1.2.0",
            "_model_name": "LayoutModel",
            "_view_count": null,
            "_view_module": "@jupyter-widgets/base",
            "_view_module_version": "1.2.0",
            "_view_name": "LayoutView",
            "align_content": null,
            "align_items": null,
            "align_self": null,
            "border": null,
            "bottom": null,
            "display": null,
            "flex": null,
            "flex_flow": null,
            "grid_area": null,
            "grid_auto_columns": null,
            "grid_auto_flow": null,
            "grid_auto_rows": null,
            "grid_column": null,
            "grid_gap": null,
            "grid_row": null,
            "grid_template_areas": null,
            "grid_template_columns": null,
            "grid_template_rows": null,
            "height": null,
            "justify_content": null,
            "justify_items": null,
            "left": null,
            "margin": null,
            "max_height": null,
            "max_width": null,
            "min_height": null,
            "min_width": null,
            "object_fit": null,
            "object_position": null,
            "order": null,
            "overflow": null,
            "overflow_x": null,
            "overflow_y": null,
            "padding": null,
            "right": null,
            "top": null,
            "visibility": null,
            "width": null
          }
        },
        "b070352bc7774f56892a89369ab43fd7": {
          "model_module": "@jupyter-widgets/controls",
          "model_name": "DescriptionStyleModel",
          "model_module_version": "1.5.0",
          "state": {
            "_model_module": "@jupyter-widgets/controls",
            "_model_module_version": "1.5.0",
            "_model_name": "DescriptionStyleModel",
            "_view_count": null,
            "_view_module": "@jupyter-widgets/base",
            "_view_module_version": "1.2.0",
            "_view_name": "StyleView",
            "description_width": ""
          }
        },
        "74a2c3a2321444d697880e11667c8003": {
          "model_module": "@jupyter-widgets/controls",
          "model_name": "HBoxModel",
          "model_module_version": "1.5.0",
          "state": {
            "_dom_classes": [],
            "_model_module": "@jupyter-widgets/controls",
            "_model_module_version": "1.5.0",
            "_model_name": "HBoxModel",
            "_view_count": null,
            "_view_module": "@jupyter-widgets/controls",
            "_view_module_version": "1.5.0",
            "_view_name": "HBoxView",
            "box_style": "",
            "children": [
              "IPY_MODEL_7096e305d8004dbd8872274d737adbee",
              "IPY_MODEL_16c0f36e3b7243af809ac5a5bb8f017a",
              "IPY_MODEL_2b1e6e05b55045b6ae952ac33de92b91"
            ],
            "layout": "IPY_MODEL_df41bf652cb447c086bb242a6df9e594"
          }
        },
        "7096e305d8004dbd8872274d737adbee": {
          "model_module": "@jupyter-widgets/controls",
          "model_name": "HTMLModel",
          "model_module_version": "1.5.0",
          "state": {
            "_dom_classes": [],
            "_model_module": "@jupyter-widgets/controls",
            "_model_module_version": "1.5.0",
            "_model_name": "HTMLModel",
            "_view_count": null,
            "_view_module": "@jupyter-widgets/controls",
            "_view_module_version": "1.5.0",
            "_view_name": "HTMLView",
            "description": "",
            "description_tooltip": null,
            "layout": "IPY_MODEL_08c0396bd5394cbbbbdd0fdc61411443",
            "placeholder": "​",
            "style": "IPY_MODEL_8396c92660a24320b7835edf53f87d1c",
            "value": "Downloading: 100%"
          }
        },
        "16c0f36e3b7243af809ac5a5bb8f017a": {
          "model_module": "@jupyter-widgets/controls",
          "model_name": "FloatProgressModel",
          "model_module_version": "1.5.0",
          "state": {
            "_dom_classes": [],
            "_model_module": "@jupyter-widgets/controls",
            "_model_module_version": "1.5.0",
            "_model_name": "FloatProgressModel",
            "_view_count": null,
            "_view_module": "@jupyter-widgets/controls",
            "_view_module_version": "1.5.0",
            "_view_name": "ProgressView",
            "bar_style": "success",
            "description": "",
            "description_tooltip": null,
            "layout": "IPY_MODEL_36a6a14a2f604172b379b5748c1a7823",
            "max": 134,
            "min": 0,
            "orientation": "horizontal",
            "style": "IPY_MODEL_cf34321c5f354d3bbd27138b8014f7b8",
            "value": 134
          }
        },
        "2b1e6e05b55045b6ae952ac33de92b91": {
          "model_module": "@jupyter-widgets/controls",
          "model_name": "HTMLModel",
          "model_module_version": "1.5.0",
          "state": {
            "_dom_classes": [],
            "_model_module": "@jupyter-widgets/controls",
            "_model_module_version": "1.5.0",
            "_model_name": "HTMLModel",
            "_view_count": null,
            "_view_module": "@jupyter-widgets/controls",
            "_view_module_version": "1.5.0",
            "_view_name": "HTMLView",
            "description": "",
            "description_tooltip": null,
            "layout": "IPY_MODEL_90cb95e3d597484da2dad8a43dcf9669",
            "placeholder": "​",
            "style": "IPY_MODEL_ec339248dc074215bf85da7add143439",
            "value": " 134/134 [00:00&lt;00:00, 2.29kB/s]"
          }
        },
        "df41bf652cb447c086bb242a6df9e594": {
          "model_module": "@jupyter-widgets/base",
          "model_name": "LayoutModel",
          "model_module_version": "1.2.0",
          "state": {
            "_model_module": "@jupyter-widgets/base",
            "_model_module_version": "1.2.0",
            "_model_name": "LayoutModel",
            "_view_count": null,
            "_view_module": "@jupyter-widgets/base",
            "_view_module_version": "1.2.0",
            "_view_name": "LayoutView",
            "align_content": null,
            "align_items": null,
            "align_self": null,
            "border": null,
            "bottom": null,
            "display": null,
            "flex": null,
            "flex_flow": null,
            "grid_area": null,
            "grid_auto_columns": null,
            "grid_auto_flow": null,
            "grid_auto_rows": null,
            "grid_column": null,
            "grid_gap": null,
            "grid_row": null,
            "grid_template_areas": null,
            "grid_template_columns": null,
            "grid_template_rows": null,
            "height": null,
            "justify_content": null,
            "justify_items": null,
            "left": null,
            "margin": null,
            "max_height": null,
            "max_width": null,
            "min_height": null,
            "min_width": null,
            "object_fit": null,
            "object_position": null,
            "order": null,
            "overflow": null,
            "overflow_x": null,
            "overflow_y": null,
            "padding": null,
            "right": null,
            "top": null,
            "visibility": null,
            "width": null
          }
        },
        "08c0396bd5394cbbbbdd0fdc61411443": {
          "model_module": "@jupyter-widgets/base",
          "model_name": "LayoutModel",
          "model_module_version": "1.2.0",
          "state": {
            "_model_module": "@jupyter-widgets/base",
            "_model_module_version": "1.2.0",
            "_model_name": "LayoutModel",
            "_view_count": null,
            "_view_module": "@jupyter-widgets/base",
            "_view_module_version": "1.2.0",
            "_view_name": "LayoutView",
            "align_content": null,
            "align_items": null,
            "align_self": null,
            "border": null,
            "bottom": null,
            "display": null,
            "flex": null,
            "flex_flow": null,
            "grid_area": null,
            "grid_auto_columns": null,
            "grid_auto_flow": null,
            "grid_auto_rows": null,
            "grid_column": null,
            "grid_gap": null,
            "grid_row": null,
            "grid_template_areas": null,
            "grid_template_columns": null,
            "grid_template_rows": null,
            "height": null,
            "justify_content": null,
            "justify_items": null,
            "left": null,
            "margin": null,
            "max_height": null,
            "max_width": null,
            "min_height": null,
            "min_width": null,
            "object_fit": null,
            "object_position": null,
            "order": null,
            "overflow": null,
            "overflow_x": null,
            "overflow_y": null,
            "padding": null,
            "right": null,
            "top": null,
            "visibility": null,
            "width": null
          }
        },
        "8396c92660a24320b7835edf53f87d1c": {
          "model_module": "@jupyter-widgets/controls",
          "model_name": "DescriptionStyleModel",
          "model_module_version": "1.5.0",
          "state": {
            "_model_module": "@jupyter-widgets/controls",
            "_model_module_version": "1.5.0",
            "_model_name": "DescriptionStyleModel",
            "_view_count": null,
            "_view_module": "@jupyter-widgets/base",
            "_view_module_version": "1.2.0",
            "_view_name": "StyleView",
            "description_width": ""
          }
        },
        "36a6a14a2f604172b379b5748c1a7823": {
          "model_module": "@jupyter-widgets/base",
          "model_name": "LayoutModel",
          "model_module_version": "1.2.0",
          "state": {
            "_model_module": "@jupyter-widgets/base",
            "_model_module_version": "1.2.0",
            "_model_name": "LayoutModel",
            "_view_count": null,
            "_view_module": "@jupyter-widgets/base",
            "_view_module_version": "1.2.0",
            "_view_name": "LayoutView",
            "align_content": null,
            "align_items": null,
            "align_self": null,
            "border": null,
            "bottom": null,
            "display": null,
            "flex": null,
            "flex_flow": null,
            "grid_area": null,
            "grid_auto_columns": null,
            "grid_auto_flow": null,
            "grid_auto_rows": null,
            "grid_column": null,
            "grid_gap": null,
            "grid_row": null,
            "grid_template_areas": null,
            "grid_template_columns": null,
            "grid_template_rows": null,
            "height": null,
            "justify_content": null,
            "justify_items": null,
            "left": null,
            "margin": null,
            "max_height": null,
            "max_width": null,
            "min_height": null,
            "min_width": null,
            "object_fit": null,
            "object_position": null,
            "order": null,
            "overflow": null,
            "overflow_x": null,
            "overflow_y": null,
            "padding": null,
            "right": null,
            "top": null,
            "visibility": null,
            "width": null
          }
        },
        "cf34321c5f354d3bbd27138b8014f7b8": {
          "model_module": "@jupyter-widgets/controls",
          "model_name": "ProgressStyleModel",
          "model_module_version": "1.5.0",
          "state": {
            "_model_module": "@jupyter-widgets/controls",
            "_model_module_version": "1.5.0",
            "_model_name": "ProgressStyleModel",
            "_view_count": null,
            "_view_module": "@jupyter-widgets/base",
            "_view_module_version": "1.2.0",
            "_view_name": "StyleView",
            "bar_color": null,
            "description_width": ""
          }
        },
        "90cb95e3d597484da2dad8a43dcf9669": {
          "model_module": "@jupyter-widgets/base",
          "model_name": "LayoutModel",
          "model_module_version": "1.2.0",
          "state": {
            "_model_module": "@jupyter-widgets/base",
            "_model_module_version": "1.2.0",
            "_model_name": "LayoutModel",
            "_view_count": null,
            "_view_module": "@jupyter-widgets/base",
            "_view_module_version": "1.2.0",
            "_view_name": "LayoutView",
            "align_content": null,
            "align_items": null,
            "align_self": null,
            "border": null,
            "bottom": null,
            "display": null,
            "flex": null,
            "flex_flow": null,
            "grid_area": null,
            "grid_auto_columns": null,
            "grid_auto_flow": null,
            "grid_auto_rows": null,
            "grid_column": null,
            "grid_gap": null,
            "grid_row": null,
            "grid_template_areas": null,
            "grid_template_columns": null,
            "grid_template_rows": null,
            "height": null,
            "justify_content": null,
            "justify_items": null,
            "left": null,
            "margin": null,
            "max_height": null,
            "max_width": null,
            "min_height": null,
            "min_width": null,
            "object_fit": null,
            "object_position": null,
            "order": null,
            "overflow": null,
            "overflow_x": null,
            "overflow_y": null,
            "padding": null,
            "right": null,
            "top": null,
            "visibility": null,
            "width": null
          }
        },
        "ec339248dc074215bf85da7add143439": {
          "model_module": "@jupyter-widgets/controls",
          "model_name": "DescriptionStyleModel",
          "model_module_version": "1.5.0",
          "state": {
            "_model_module": "@jupyter-widgets/controls",
            "_model_module_version": "1.5.0",
            "_model_name": "DescriptionStyleModel",
            "_view_count": null,
            "_view_module": "@jupyter-widgets/base",
            "_view_module_version": "1.2.0",
            "_view_name": "StyleView",
            "description_width": ""
          }
        }
      }
    }
  },
  "cells": [
    {
      "cell_type": "markdown",
      "source": [
        "# Importing Libraries"
      ],
      "metadata": {
        "id": "2qA2yh05Uhjp"
      }
    },
    {
      "cell_type": "code",
      "execution_count": 1,
      "metadata": {
        "id": "Qb2Oo-Q1az2B"
      },
      "outputs": [],
      "source": [
        "import sklearn\n",
        "import os\n",
        "import pandas as pd\n",
        "import numpy as np"
      ]
    },
    {
      "cell_type": "markdown",
      "source": [
        "Cloning git repository related to this project. Crawled data and Crawler code are available in git repository."
      ],
      "metadata": {
        "id": "1KksqF1OVJnF"
      }
    },
    {
      "cell_type": "code",
      "source": [
        "!git clone https://github.com/tandalalam/saadi-retreival.git"
      ],
      "metadata": {
        "id": "46ot2WhlKAmR",
        "colab": {
          "base_uri": "https://localhost:8080/"
        },
        "outputId": "5af95dda-21a3-43fb-d4fa-2a90bc967e40"
      },
      "execution_count": 2,
      "outputs": [
        {
          "output_type": "stream",
          "name": "stdout",
          "text": [
            "Cloning into 'saadi-retreival'...\n",
            "remote: Enumerating objects: 585, done.\u001b[K\n",
            "remote: Counting objects: 100% (585/585), done.\u001b[K\n",
            "remote: Compressing objects: 100% (577/577), done.\u001b[K\n",
            "remote: Total 585 (delta 16), reused 563 (delta 5), pack-reused 0\u001b[K\n",
            "Receiving objects: 100% (585/585), 356.73 KiB | 11.89 MiB/s, done.\n",
            "Resolving deltas: 100% (16/16), done.\n"
          ]
        }
      ]
    },
    {
      "cell_type": "code",
      "source": [
        "os.chdir('saadi-retreival')"
      ],
      "metadata": {
        "id": "DbR4Dz8xNNCR"
      },
      "execution_count": 3,
      "outputs": []
    },
    {
      "cell_type": "markdown",
      "source": [
        "Reading Boostan from file:"
      ],
      "metadata": {
        "id": "iSEy0gFbXFYj"
      }
    },
    {
      "cell_type": "code",
      "source": [
        "boostan_data = list()\n",
        "for chapter_name in os.listdir('boostan'):\n",
        "    for file_name in os.listdir(f'boostan/{chapter_name}'):\n",
        "        file = open(f'boostan/{chapter_name}/{file_name}')\n",
        "        poem = file.read()\n",
        "        for hem in [x.strip() for x in poem.split('\\n\\n')]:\n",
        "            if hem:\n",
        "                boostan_data.append([hem, int(chapter_name.split('bab')[1]), int(file_name.split('sh')[1].split('.')[0])])"
      ],
      "metadata": {
        "id": "YfcVz8kccBwO"
      },
      "execution_count": 4,
      "outputs": []
    },
    {
      "cell_type": "code",
      "source": [
        "boostan_data = pd.DataFrame(boostan_data)"
      ],
      "metadata": {
        "id": "hF8rJ9KbbVOw"
      },
      "execution_count": 5,
      "outputs": []
    },
    {
      "cell_type": "code",
      "source": [
        "boostan_data.columns = ['poem', 'chapter', 'section']"
      ],
      "metadata": {
        "id": "5jJKMjQidtwP"
      },
      "execution_count": 6,
      "outputs": []
    },
    {
      "cell_type": "code",
      "source": [
        "boostan_data.sort_values(by=['chapter', 'section'], ignore_index=True, inplace=True)"
      ],
      "metadata": {
        "id": "t1zqWZIkPRiE"
      },
      "execution_count": 7,
      "outputs": []
    },
    {
      "cell_type": "code",
      "source": [
        "boostan_data"
      ],
      "metadata": {
        "colab": {
          "base_uri": "https://localhost:8080/",
          "height": 424
        },
        "id": "zx4Hr7vgPlWl",
        "outputId": "daa8b536-f43f-4650-efbe-0adeedf76d1b"
      },
      "execution_count": 8,
      "outputs": [
        {
          "output_type": "execute_result",
          "data": {
            "text/plain": [
              "                                                   poem  chapter  section\n",
              "0      به نام خداوندِ جان‌آفرین\\nحکیمِ سخن‌درزبان‌آفرین        0        1\n",
              "1          خداوند بخشندهٔ دستگیر\\nکریم خطابخش پوزش‌پذیر        0        1\n",
              "2     عزیزی که هر کز درش سر بتافت\\nبه هر در که شد هی...        0        1\n",
              "3       سر پادشاهان گردن‌فراز\\nبه درگاه او بر زمین نیاز        0        1\n",
              "4     نه گردن‌کشان را بگیرد به فور\\nنه عذرآوران را ب...        0        1\n",
              "...                                                 ...      ...      ...\n",
              "4059  به کردار بدشان مقید نکرد\\nبضاعات مزجاتشان رد نکرد       10        4\n",
              "4060  ز لطفت همین چشم داریم نیز\\nبر این بی‌بضاعت ببخ...       10        4\n",
              "4061  کس از من سیه نامه تر دیده نیست\\nکه هیچم فعال پ...       10        4\n",
              "4062  جز این کاعتمادم به یاری تست\\nامیدم به آمرزگاری...       10        4\n",
              "4063    بضاعت نیاوردم الا امید\\nخدایا ز عفوم مکن ناامید       10        4\n",
              "\n",
              "[4064 rows x 3 columns]"
            ],
            "text/html": [
              "\n",
              "  <div id=\"df-905beb9a-7ade-4bcf-93b4-3c6b7c39b764\">\n",
              "    <div class=\"colab-df-container\">\n",
              "      <div>\n",
              "<style scoped>\n",
              "    .dataframe tbody tr th:only-of-type {\n",
              "        vertical-align: middle;\n",
              "    }\n",
              "\n",
              "    .dataframe tbody tr th {\n",
              "        vertical-align: top;\n",
              "    }\n",
              "\n",
              "    .dataframe thead th {\n",
              "        text-align: right;\n",
              "    }\n",
              "</style>\n",
              "<table border=\"1\" class=\"dataframe\">\n",
              "  <thead>\n",
              "    <tr style=\"text-align: right;\">\n",
              "      <th></th>\n",
              "      <th>poem</th>\n",
              "      <th>chapter</th>\n",
              "      <th>section</th>\n",
              "    </tr>\n",
              "  </thead>\n",
              "  <tbody>\n",
              "    <tr>\n",
              "      <th>0</th>\n",
              "      <td>به نام خداوندِ جان‌آفرین\\nحکیمِ سخن‌درزبان‌آفرین</td>\n",
              "      <td>0</td>\n",
              "      <td>1</td>\n",
              "    </tr>\n",
              "    <tr>\n",
              "      <th>1</th>\n",
              "      <td>خداوند بخشندهٔ دستگیر\\nکریم خطابخش پوزش‌پذیر</td>\n",
              "      <td>0</td>\n",
              "      <td>1</td>\n",
              "    </tr>\n",
              "    <tr>\n",
              "      <th>2</th>\n",
              "      <td>عزیزی که هر کز درش سر بتافت\\nبه هر در که شد هی...</td>\n",
              "      <td>0</td>\n",
              "      <td>1</td>\n",
              "    </tr>\n",
              "    <tr>\n",
              "      <th>3</th>\n",
              "      <td>سر پادشاهان گردن‌فراز\\nبه درگاه او بر زمین نیاز</td>\n",
              "      <td>0</td>\n",
              "      <td>1</td>\n",
              "    </tr>\n",
              "    <tr>\n",
              "      <th>4</th>\n",
              "      <td>نه گردن‌کشان را بگیرد به فور\\nنه عذرآوران را ب...</td>\n",
              "      <td>0</td>\n",
              "      <td>1</td>\n",
              "    </tr>\n",
              "    <tr>\n",
              "      <th>...</th>\n",
              "      <td>...</td>\n",
              "      <td>...</td>\n",
              "      <td>...</td>\n",
              "    </tr>\n",
              "    <tr>\n",
              "      <th>4059</th>\n",
              "      <td>به کردار بدشان مقید نکرد\\nبضاعات مزجاتشان رد نکرد</td>\n",
              "      <td>10</td>\n",
              "      <td>4</td>\n",
              "    </tr>\n",
              "    <tr>\n",
              "      <th>4060</th>\n",
              "      <td>ز لطفت همین چشم داریم نیز\\nبر این بی‌بضاعت ببخ...</td>\n",
              "      <td>10</td>\n",
              "      <td>4</td>\n",
              "    </tr>\n",
              "    <tr>\n",
              "      <th>4061</th>\n",
              "      <td>کس از من سیه نامه تر دیده نیست\\nکه هیچم فعال پ...</td>\n",
              "      <td>10</td>\n",
              "      <td>4</td>\n",
              "    </tr>\n",
              "    <tr>\n",
              "      <th>4062</th>\n",
              "      <td>جز این کاعتمادم به یاری تست\\nامیدم به آمرزگاری...</td>\n",
              "      <td>10</td>\n",
              "      <td>4</td>\n",
              "    </tr>\n",
              "    <tr>\n",
              "      <th>4063</th>\n",
              "      <td>بضاعت نیاوردم الا امید\\nخدایا ز عفوم مکن ناامید</td>\n",
              "      <td>10</td>\n",
              "      <td>4</td>\n",
              "    </tr>\n",
              "  </tbody>\n",
              "</table>\n",
              "<p>4064 rows × 3 columns</p>\n",
              "</div>\n",
              "      <button class=\"colab-df-convert\" onclick=\"convertToInteractive('df-905beb9a-7ade-4bcf-93b4-3c6b7c39b764')\"\n",
              "              title=\"Convert this dataframe to an interactive table.\"\n",
              "              style=\"display:none;\">\n",
              "        \n",
              "  <svg xmlns=\"http://www.w3.org/2000/svg\" height=\"24px\"viewBox=\"0 0 24 24\"\n",
              "       width=\"24px\">\n",
              "    <path d=\"M0 0h24v24H0V0z\" fill=\"none\"/>\n",
              "    <path d=\"M18.56 5.44l.94 2.06.94-2.06 2.06-.94-2.06-.94-.94-2.06-.94 2.06-2.06.94zm-11 1L8.5 8.5l.94-2.06 2.06-.94-2.06-.94L8.5 2.5l-.94 2.06-2.06.94zm10 10l.94 2.06.94-2.06 2.06-.94-2.06-.94-.94-2.06-.94 2.06-2.06.94z\"/><path d=\"M17.41 7.96l-1.37-1.37c-.4-.4-.92-.59-1.43-.59-.52 0-1.04.2-1.43.59L10.3 9.45l-7.72 7.72c-.78.78-.78 2.05 0 2.83L4 21.41c.39.39.9.59 1.41.59.51 0 1.02-.2 1.41-.59l7.78-7.78 2.81-2.81c.8-.78.8-2.07 0-2.86zM5.41 20L4 18.59l7.72-7.72 1.47 1.35L5.41 20z\"/>\n",
              "  </svg>\n",
              "      </button>\n",
              "      \n",
              "  <style>\n",
              "    .colab-df-container {\n",
              "      display:flex;\n",
              "      flex-wrap:wrap;\n",
              "      gap: 12px;\n",
              "    }\n",
              "\n",
              "    .colab-df-convert {\n",
              "      background-color: #E8F0FE;\n",
              "      border: none;\n",
              "      border-radius: 50%;\n",
              "      cursor: pointer;\n",
              "      display: none;\n",
              "      fill: #1967D2;\n",
              "      height: 32px;\n",
              "      padding: 0 0 0 0;\n",
              "      width: 32px;\n",
              "    }\n",
              "\n",
              "    .colab-df-convert:hover {\n",
              "      background-color: #E2EBFA;\n",
              "      box-shadow: 0px 1px 2px rgba(60, 64, 67, 0.3), 0px 1px 3px 1px rgba(60, 64, 67, 0.15);\n",
              "      fill: #174EA6;\n",
              "    }\n",
              "\n",
              "    [theme=dark] .colab-df-convert {\n",
              "      background-color: #3B4455;\n",
              "      fill: #D2E3FC;\n",
              "    }\n",
              "\n",
              "    [theme=dark] .colab-df-convert:hover {\n",
              "      background-color: #434B5C;\n",
              "      box-shadow: 0px 1px 3px 1px rgba(0, 0, 0, 0.15);\n",
              "      filter: drop-shadow(0px 1px 2px rgba(0, 0, 0, 0.3));\n",
              "      fill: #FFFFFF;\n",
              "    }\n",
              "  </style>\n",
              "\n",
              "      <script>\n",
              "        const buttonEl =\n",
              "          document.querySelector('#df-905beb9a-7ade-4bcf-93b4-3c6b7c39b764 button.colab-df-convert');\n",
              "        buttonEl.style.display =\n",
              "          google.colab.kernel.accessAllowed ? 'block' : 'none';\n",
              "\n",
              "        async function convertToInteractive(key) {\n",
              "          const element = document.querySelector('#df-905beb9a-7ade-4bcf-93b4-3c6b7c39b764');\n",
              "          const dataTable =\n",
              "            await google.colab.kernel.invokeFunction('convertToInteractive',\n",
              "                                                     [key], {});\n",
              "          if (!dataTable) return;\n",
              "\n",
              "          const docLinkHtml = 'Like what you see? Visit the ' +\n",
              "            '<a target=\"_blank\" href=https://colab.research.google.com/notebooks/data_table.ipynb>data table notebook</a>'\n",
              "            + ' to learn more about interactive tables.';\n",
              "          element.innerHTML = '';\n",
              "          dataTable['output_type'] = 'display_data';\n",
              "          await google.colab.output.renderOutput(dataTable, element);\n",
              "          const docLink = document.createElement('div');\n",
              "          docLink.innerHTML = docLinkHtml;\n",
              "          element.appendChild(docLink);\n",
              "        }\n",
              "      </script>\n",
              "    </div>\n",
              "  </div>\n",
              "  "
            ]
          },
          "metadata": {},
          "execution_count": 8
        }
      ]
    },
    {
      "cell_type": "markdown",
      "source": [
        "Reading Golestan from file:"
      ],
      "metadata": {
        "id": "KdojXHhW1Qmj"
      }
    },
    {
      "cell_type": "code",
      "source": [
        "import re"
      ],
      "metadata": {
        "id": "G9JCsF5jTCK9"
      },
      "execution_count": 9,
      "outputs": []
    },
    {
      "cell_type": "markdown",
      "source": [
        "We will split Golestan's NASR based on their punctiuation:"
      ],
      "metadata": {
        "id": "8EkQ_JHx1VwP"
      }
    },
    {
      "cell_type": "code",
      "source": [
        "golestan_data = list()\n",
        "for chapter_name in os.listdir('golestan'):\n",
        "    for file_name in os.listdir(f'golestan/{chapter_name}'):\n",
        "        file = open(f'golestan/{chapter_name}/{file_name}')\n",
        "        for hem in [x.strip() for x in re.split('\\n\\n|\\.|\\?|!', file.read())]:\n",
        "            if len(hem.split()) < 3:\n",
        "              continue\n",
        "            if hem:\n",
        "                if file_name.startswith('d'):\n",
        "                    golestan_data.append([hem, 0, 1])\n",
        "                else:\n",
        "                    golestan_data.append([hem, int(chapter_name.split('bab')[1]), int(file_name.split('sh')[1].split('.')[0])])"
      ],
      "metadata": {
        "id": "Zy_CkAgXjCOV"
      },
      "execution_count": 10,
      "outputs": []
    },
    {
      "cell_type": "code",
      "source": [
        "golestan_data = pd.DataFrame(golestan_data)"
      ],
      "metadata": {
        "id": "MHwpzK2-ploS"
      },
      "execution_count": 11,
      "outputs": []
    },
    {
      "cell_type": "code",
      "source": [
        "golestan_data.columns = ['poem', 'chapter', 'section']"
      ],
      "metadata": {
        "id": "5InLM2R3ppTo"
      },
      "execution_count": 12,
      "outputs": []
    },
    {
      "cell_type": "code",
      "source": [
        "golestan_data.sort_values(by=['chapter', 'section'], ignore_index=True, inplace=True)"
      ],
      "metadata": {
        "id": "B-9lU_XcWnBl"
      },
      "execution_count": 13,
      "outputs": []
    },
    {
      "cell_type": "code",
      "source": [
        "golestan_data"
      ],
      "metadata": {
        "id": "C6E2xOzepvSf",
        "colab": {
          "base_uri": "https://localhost:8080/",
          "height": 424
        },
        "outputId": "905799bf-ceb8-415c-b364-33b1b4880495"
      },
      "execution_count": 14,
      "outputs": [
        {
          "output_type": "execute_result",
          "data": {
            "text/plain": [
              "                                                   poem  chapter  section\n",
              "0                         بِسم اللهِ الرَّحمنِ الرَّحیم        0        1\n",
              "1     منّت خدای را عز و جل که طاعتش موجب قربت است و ...        0        1\n",
              "2     هر نفسی که فرو می رود ممدّ حیات است و چون بر م...        0        1\n",
              "3     پس در هر نفسی دو نعمت موجود است و بر هر نعمتی ...        0        1\n",
              "4      از دست و زبان که بر آید\\nکز عهدهٔ شکرش به در آید        0        1\n",
              "...                                                 ...      ...      ...\n",
              "2497  غالب گفتار سعدی طرب انگیز است و طیبت آمیز و کو...        8      109\n",
              "2498  ما نصیحت به جای خود کردیم\\nروزگاری در این به س...        8      109\n",
              "2499  گر نیاید به گوش رغبت کس\\nبر رسولان پیام باشد و بس        8      109\n",
              "2500  یا ناظراً فیه سَل باللهِ مرحمةً\\nعلی المصنفِ و...        8      109\n",
              "2501  و اَطلُب لِنَفسِکَ مِن خیرٍ تُریدُ بها\\nمِن بع...        8      109\n",
              "\n",
              "[2502 rows x 3 columns]"
            ],
            "text/html": [
              "\n",
              "  <div id=\"df-a374ffbc-f319-43ce-822e-755449c0b9c8\">\n",
              "    <div class=\"colab-df-container\">\n",
              "      <div>\n",
              "<style scoped>\n",
              "    .dataframe tbody tr th:only-of-type {\n",
              "        vertical-align: middle;\n",
              "    }\n",
              "\n",
              "    .dataframe tbody tr th {\n",
              "        vertical-align: top;\n",
              "    }\n",
              "\n",
              "    .dataframe thead th {\n",
              "        text-align: right;\n",
              "    }\n",
              "</style>\n",
              "<table border=\"1\" class=\"dataframe\">\n",
              "  <thead>\n",
              "    <tr style=\"text-align: right;\">\n",
              "      <th></th>\n",
              "      <th>poem</th>\n",
              "      <th>chapter</th>\n",
              "      <th>section</th>\n",
              "    </tr>\n",
              "  </thead>\n",
              "  <tbody>\n",
              "    <tr>\n",
              "      <th>0</th>\n",
              "      <td>بِسم اللهِ الرَّحمنِ الرَّحیم</td>\n",
              "      <td>0</td>\n",
              "      <td>1</td>\n",
              "    </tr>\n",
              "    <tr>\n",
              "      <th>1</th>\n",
              "      <td>منّت خدای را عز و جل که طاعتش موجب قربت است و ...</td>\n",
              "      <td>0</td>\n",
              "      <td>1</td>\n",
              "    </tr>\n",
              "    <tr>\n",
              "      <th>2</th>\n",
              "      <td>هر نفسی که فرو می رود ممدّ حیات است و چون بر م...</td>\n",
              "      <td>0</td>\n",
              "      <td>1</td>\n",
              "    </tr>\n",
              "    <tr>\n",
              "      <th>3</th>\n",
              "      <td>پس در هر نفسی دو نعمت موجود است و بر هر نعمتی ...</td>\n",
              "      <td>0</td>\n",
              "      <td>1</td>\n",
              "    </tr>\n",
              "    <tr>\n",
              "      <th>4</th>\n",
              "      <td>از دست و زبان که بر آید\\nکز عهدهٔ شکرش به در آید</td>\n",
              "      <td>0</td>\n",
              "      <td>1</td>\n",
              "    </tr>\n",
              "    <tr>\n",
              "      <th>...</th>\n",
              "      <td>...</td>\n",
              "      <td>...</td>\n",
              "      <td>...</td>\n",
              "    </tr>\n",
              "    <tr>\n",
              "      <th>2497</th>\n",
              "      <td>غالب گفتار سعدی طرب انگیز است و طیبت آمیز و کو...</td>\n",
              "      <td>8</td>\n",
              "      <td>109</td>\n",
              "    </tr>\n",
              "    <tr>\n",
              "      <th>2498</th>\n",
              "      <td>ما نصیحت به جای خود کردیم\\nروزگاری در این به س...</td>\n",
              "      <td>8</td>\n",
              "      <td>109</td>\n",
              "    </tr>\n",
              "    <tr>\n",
              "      <th>2499</th>\n",
              "      <td>گر نیاید به گوش رغبت کس\\nبر رسولان پیام باشد و بس</td>\n",
              "      <td>8</td>\n",
              "      <td>109</td>\n",
              "    </tr>\n",
              "    <tr>\n",
              "      <th>2500</th>\n",
              "      <td>یا ناظراً فیه سَل باللهِ مرحمةً\\nعلی المصنفِ و...</td>\n",
              "      <td>8</td>\n",
              "      <td>109</td>\n",
              "    </tr>\n",
              "    <tr>\n",
              "      <th>2501</th>\n",
              "      <td>و اَطلُب لِنَفسِکَ مِن خیرٍ تُریدُ بها\\nمِن بع...</td>\n",
              "      <td>8</td>\n",
              "      <td>109</td>\n",
              "    </tr>\n",
              "  </tbody>\n",
              "</table>\n",
              "<p>2502 rows × 3 columns</p>\n",
              "</div>\n",
              "      <button class=\"colab-df-convert\" onclick=\"convertToInteractive('df-a374ffbc-f319-43ce-822e-755449c0b9c8')\"\n",
              "              title=\"Convert this dataframe to an interactive table.\"\n",
              "              style=\"display:none;\">\n",
              "        \n",
              "  <svg xmlns=\"http://www.w3.org/2000/svg\" height=\"24px\"viewBox=\"0 0 24 24\"\n",
              "       width=\"24px\">\n",
              "    <path d=\"M0 0h24v24H0V0z\" fill=\"none\"/>\n",
              "    <path d=\"M18.56 5.44l.94 2.06.94-2.06 2.06-.94-2.06-.94-.94-2.06-.94 2.06-2.06.94zm-11 1L8.5 8.5l.94-2.06 2.06-.94-2.06-.94L8.5 2.5l-.94 2.06-2.06.94zm10 10l.94 2.06.94-2.06 2.06-.94-2.06-.94-.94-2.06-.94 2.06-2.06.94z\"/><path d=\"M17.41 7.96l-1.37-1.37c-.4-.4-.92-.59-1.43-.59-.52 0-1.04.2-1.43.59L10.3 9.45l-7.72 7.72c-.78.78-.78 2.05 0 2.83L4 21.41c.39.39.9.59 1.41.59.51 0 1.02-.2 1.41-.59l7.78-7.78 2.81-2.81c.8-.78.8-2.07 0-2.86zM5.41 20L4 18.59l7.72-7.72 1.47 1.35L5.41 20z\"/>\n",
              "  </svg>\n",
              "      </button>\n",
              "      \n",
              "  <style>\n",
              "    .colab-df-container {\n",
              "      display:flex;\n",
              "      flex-wrap:wrap;\n",
              "      gap: 12px;\n",
              "    }\n",
              "\n",
              "    .colab-df-convert {\n",
              "      background-color: #E8F0FE;\n",
              "      border: none;\n",
              "      border-radius: 50%;\n",
              "      cursor: pointer;\n",
              "      display: none;\n",
              "      fill: #1967D2;\n",
              "      height: 32px;\n",
              "      padding: 0 0 0 0;\n",
              "      width: 32px;\n",
              "    }\n",
              "\n",
              "    .colab-df-convert:hover {\n",
              "      background-color: #E2EBFA;\n",
              "      box-shadow: 0px 1px 2px rgba(60, 64, 67, 0.3), 0px 1px 3px 1px rgba(60, 64, 67, 0.15);\n",
              "      fill: #174EA6;\n",
              "    }\n",
              "\n",
              "    [theme=dark] .colab-df-convert {\n",
              "      background-color: #3B4455;\n",
              "      fill: #D2E3FC;\n",
              "    }\n",
              "\n",
              "    [theme=dark] .colab-df-convert:hover {\n",
              "      background-color: #434B5C;\n",
              "      box-shadow: 0px 1px 3px 1px rgba(0, 0, 0, 0.15);\n",
              "      filter: drop-shadow(0px 1px 2px rgba(0, 0, 0, 0.3));\n",
              "      fill: #FFFFFF;\n",
              "    }\n",
              "  </style>\n",
              "\n",
              "      <script>\n",
              "        const buttonEl =\n",
              "          document.querySelector('#df-a374ffbc-f319-43ce-822e-755449c0b9c8 button.colab-df-convert');\n",
              "        buttonEl.style.display =\n",
              "          google.colab.kernel.accessAllowed ? 'block' : 'none';\n",
              "\n",
              "        async function convertToInteractive(key) {\n",
              "          const element = document.querySelector('#df-a374ffbc-f319-43ce-822e-755449c0b9c8');\n",
              "          const dataTable =\n",
              "            await google.colab.kernel.invokeFunction('convertToInteractive',\n",
              "                                                     [key], {});\n",
              "          if (!dataTable) return;\n",
              "\n",
              "          const docLinkHtml = 'Like what you see? Visit the ' +\n",
              "            '<a target=\"_blank\" href=https://colab.research.google.com/notebooks/data_table.ipynb>data table notebook</a>'\n",
              "            + ' to learn more about interactive tables.';\n",
              "          element.innerHTML = '';\n",
              "          dataTable['output_type'] = 'display_data';\n",
              "          await google.colab.output.renderOutput(dataTable, element);\n",
              "          const docLink = document.createElement('div');\n",
              "          docLink.innerHTML = docLinkHtml;\n",
              "          element.appendChild(docLink);\n",
              "        }\n",
              "      </script>\n",
              "    </div>\n",
              "  </div>\n",
              "  "
            ]
          },
          "metadata": {},
          "execution_count": 14
        }
      ]
    },
    {
      "cell_type": "markdown",
      "source": [
        "Concatanating data from Boostan and Golestan:"
      ],
      "metadata": {
        "id": "zKlZlPrP1m0u"
      }
    },
    {
      "cell_type": "code",
      "source": [
        "all_data = pd.concat([boostan_data, golestan_data], ignore_index=True)['poem']"
      ],
      "metadata": {
        "id": "BRaESnYp94qW"
      },
      "execution_count": 15,
      "outputs": []
    },
    {
      "cell_type": "code",
      "source": [
        "!pip3 install hazm"
      ],
      "metadata": {
        "id": "tcp9Gdxah_Ee",
        "colab": {
          "base_uri": "https://localhost:8080/"
        },
        "outputId": "fc037eea-424f-4193-8b20-f95744f482dd"
      },
      "execution_count": 16,
      "outputs": [
        {
          "output_type": "stream",
          "name": "stdout",
          "text": [
            "Looking in indexes: https://pypi.org/simple, https://us-python.pkg.dev/colab-wheels/public/simple/\n",
            "Collecting hazm\n",
            "  Downloading hazm-0.7.0-py3-none-any.whl (316 kB)\n",
            "\u001b[K     |████████████████████████████████| 316 kB 28.3 MB/s \n",
            "\u001b[?25hCollecting nltk==3.3\n",
            "  Downloading nltk-3.3.0.zip (1.4 MB)\n",
            "\u001b[K     |████████████████████████████████| 1.4 MB 59.0 MB/s \n",
            "\u001b[?25hCollecting libwapiti>=0.2.1\n",
            "  Downloading libwapiti-0.2.1.tar.gz (233 kB)\n",
            "\u001b[K     |████████████████████████████████| 233 kB 65.8 MB/s \n",
            "\u001b[?25hRequirement already satisfied: six in /usr/local/lib/python3.7/dist-packages (from nltk==3.3->hazm) (1.15.0)\n",
            "Building wheels for collected packages: nltk, libwapiti\n",
            "  Building wheel for nltk (setup.py) ... \u001b[?25l\u001b[?25hdone\n",
            "  Created wheel for nltk: filename=nltk-3.3-py3-none-any.whl size=1394487 sha256=551b018629b62d572aee94453ede4c7f3cf6d38894a311a12c2d68230f290fcf\n",
            "  Stored in directory: /root/.cache/pip/wheels/9b/fd/0c/d92302c876e5de87ebd7fc0979d82edb93e2d8d768bf71fac4\n",
            "  Building wheel for libwapiti (setup.py) ... \u001b[?25l\u001b[?25hdone\n",
            "  Created wheel for libwapiti: filename=libwapiti-0.2.1-cp37-cp37m-linux_x86_64.whl size=153385 sha256=17315835737ce9881d659dc22ce3fceb1700c30338e3ec5a0bd4d4d22990ce78\n",
            "  Stored in directory: /root/.cache/pip/wheels/ab/b2/5b/0fe4b8f5c0e65341e8ea7bb3f4a6ebabfe8b1ac31322392dbf\n",
            "Successfully built nltk libwapiti\n",
            "Installing collected packages: nltk, libwapiti, hazm\n",
            "  Attempting uninstall: nltk\n",
            "    Found existing installation: nltk 3.2.5\n",
            "    Uninstalling nltk-3.2.5:\n",
            "      Successfully uninstalled nltk-3.2.5\n",
            "Successfully installed hazm-0.7.0 libwapiti-0.2.1 nltk-3.3\n"
          ]
        }
      ]
    },
    {
      "cell_type": "code",
      "source": [
        "from __future__ import unicode_literals\n",
        "from hazm import *\n",
        "import tqdm\n",
        "import string"
      ],
      "metadata": {
        "id": "pzfW1fHa9y0p"
      },
      "execution_count": 17,
      "outputs": []
    },
    {
      "cell_type": "markdown",
      "source": [
        "Importing stopwords and words that should be replaced:  \n",
        "We have use stop-words for persian poems from [here](https://github.com/amnghd/Persian_poems_corpus). And word that should replaced are written by ourselves."
      ],
      "metadata": {
        "id": "K7KcBBizXqQO"
      }
    },
    {
      "cell_type": "code",
      "source": [
        "stopwords = []\n",
        "replace_dict = {}\n",
        "punctuations = '\\.:!،؛؟»\\]\\)\\}«\\[\\(\\{' + string.punctuation\n",
        "\n",
        "with open('stopwords.txt') as f:\n",
        "    var = f.readline()\n",
        "    while var:\n",
        "        stopwords.append(var.strip())\n",
        "        var = f.readline()\n",
        "\n",
        "with open('replace.txt') as f:\n",
        "    line = f.readline()\n",
        "    while line:\n",
        "        key, value = line.split('-')\n",
        "        key, value = key.strip(), value.strip()\n",
        "        replace_dict[f'{key}'] = f'{value}'\n",
        "        line = f.readline()"
      ],
      "metadata": {
        "id": "mkjR59seKOV4"
      },
      "execution_count": 18,
      "outputs": []
    },
    {
      "cell_type": "markdown",
      "source": [
        "# Preprocessing Data"
      ],
      "metadata": {
        "id": "pL5pSO5DVebz"
      }
    },
    {
      "cell_type": "code",
      "source": [
        "normalizer = Normalizer()\n",
        "stemmer = Stemmer()\n",
        "lemmatizer = Lemmatizer()\n",
        "\n",
        "def replace_function(string):\n",
        "    if string in replace_dict:\n",
        "      return replace_dict[string]\n",
        "    return string\n",
        "\n",
        "def sent_pre_process(sentence, normalize=True, remove_stopwords=False, stemme=False, lemmatize=True, replace=True, remove_punctuations=True, is_first=True):\n",
        "\n",
        "    # replace some charachters\n",
        "    replace_char = {'هٔ': 'ه',\n",
        "                    'ۀ' : 'ه',\n",
        "                    'ه‌ی' : 'ه'}\n",
        "    \n",
        "    if remove_punctuations:\n",
        "      for char in punctuations:\n",
        "        replace_char[char] = \" \"\n",
        "\n",
        "    for key, value in replace_char.items():\n",
        "        sentence = sentence.replace(key, value)\n",
        "\n",
        "    if normalize:\n",
        "        sentence = normalizer.normalize(sentence)\n",
        "    if stemme:\n",
        "        sentence = stemmer.stemme(sentence)\n",
        "    if lemmatize:\n",
        "        sentence = lemmatizer.lemmatize(sentence)\n",
        "    \n",
        "\n",
        "    tokens = word_tokenize(sentence)\n",
        "    \n",
        "    if replace:\n",
        "        tokens = [replace_function(token) for token in tokens]\n",
        "    if remove_stopwords:\n",
        "        tokens = [token for token in tokens if token not in stopwords]\n",
        "    \n",
        "    if is_first:\n",
        "        return sent_pre_process(\" \".join(tokens), normalize, remove_stopwords, stemme, lemmatize, replace, remove_punctuations, False)\n",
        "    \n",
        "    return tokens\n",
        "\n",
        "def pre_process(sentences, normalize=True, remove_stopwords=False, stemme=False, lemmatize=True, replace=True, remove_punctuations=True, is_first=True, MIN_COUNT=3, put_index=False):\n",
        "    if put_index:\n",
        "        processed = [(sent_pre_process(sent, normalize, remove_stopwords, stemme, lemmatize, replace, remove_punctuations, is_first), i) for i, sent in enumerate(sentences)]\n",
        "        return [t for t in processed if len(list(t[0])) > MIN_COUNT]\n",
        "    processed = [sent_pre_process(sent, normalize, remove_stopwords, stemme, lemmatize, replace, remove_punctuations, is_first) for sent in sentences]\n",
        "    return [t for t in processed if len(list(t)) > MIN_COUNT]"
      ],
      "metadata": {
        "id": "3JFys7VThw9_"
      },
      "execution_count": 19,
      "outputs": []
    },
    {
      "cell_type": "markdown",
      "source": [
        "# Boolean Retreival"
      ],
      "metadata": {
        "id": "2rC_sfQfV81R"
      }
    },
    {
      "cell_type": "markdown",
      "source": [
        "For convinience, we use CountVectorizer and then convert its values from number to boolean to get boolean retreival matrix:"
      ],
      "metadata": {
        "id": "LxiAh9v2X8ij"
      }
    },
    {
      "cell_type": "code",
      "source": [
        "from sklearn.feature_extraction.text import CountVectorizer\n",
        "tf = CountVectorizer(analyzer= lambda x: sent_pre_process(x, remove_stopwords=True))\n",
        "tf_data = tf.fit_transform(all_data)\n",
        "tf_data = tf_data.toarray().astype(bool)"
      ],
      "metadata": {
        "id": "2joRrt84mIRB"
      },
      "execution_count": 20,
      "outputs": []
    },
    {
      "cell_type": "code",
      "source": [
        "tf.transform(['ما ز یاران چشم یاری']).toarray()"
      ],
      "metadata": {
        "id": "SvmFym5FmJHZ",
        "colab": {
          "base_uri": "https://localhost:8080/"
        },
        "outputId": "eeaf974d-1f6f-45d9-a0f1-7e38231e3265"
      },
      "execution_count": 21,
      "outputs": [
        {
          "output_type": "execute_result",
          "data": {
            "text/plain": [
              "array([[0, 0, 0, ..., 0, 0, 0]])"
            ]
          },
          "metadata": {},
          "execution_count": 21
        }
      ]
    },
    {
      "cell_type": "code",
      "source": [
        "tf_data"
      ],
      "metadata": {
        "id": "sv8xqQlRmLYj",
        "colab": {
          "base_uri": "https://localhost:8080/"
        },
        "outputId": "490a59de-704c-4ed3-85aa-c2985830d906"
      },
      "execution_count": 22,
      "outputs": [
        {
          "output_type": "execute_result",
          "data": {
            "text/plain": [
              "array([[False, False, False, ..., False, False, False],\n",
              "       [False, False, False, ..., False, False, False],\n",
              "       [False, False, False, ..., False, False, False],\n",
              "       ...,\n",
              "       [False, False, False, ..., False, False, False],\n",
              "       [False, False, False, ..., False, False, False],\n",
              "       [False, False, False, ..., False, False, False]])"
            ]
          },
          "metadata": {},
          "execution_count": 22
        }
      ]
    },
    {
      "cell_type": "code",
      "source": [
        "def boolean_retrieval(str, k=10):\n",
        "  query_vec = tf.transform([str]).toarray()[0]\n",
        "  scores = np.dot(tf_data, query_vec)\n",
        "  args = np.argsort(scores)[::-1]\n",
        "  k_args = args[:k]\n",
        "  return np.concatenate([[scores[k_args]], [all_data[k_args]]]).T"
      ],
      "metadata": {
        "id": "Qeft12KdmN1-"
      },
      "execution_count": 23,
      "outputs": []
    },
    {
      "cell_type": "code",
      "source": [
        "boolean_retrieval('به نام خداوند جان و خرد کز این برتر اندیشه بر نگذرد')"
      ],
      "metadata": {
        "id": "XeCnl1PkmPzb",
        "colab": {
          "base_uri": "https://localhost:8080/"
        },
        "outputId": "bc331f7d-370c-483f-fc3d-d49ff337d5b5"
      },
      "execution_count": 24,
      "outputs": [
        {
          "output_type": "execute_result",
          "data": {
            "text/plain": [
              "array([[2, 'اگر باد سرد نفس نگذرد\\nتف معده جان در خروش آورد'],\n",
              "       [1,\n",
              "        'به نام خداوندِ جان\\u200cآفرین\\nحکیمِ سخن\\u200cدرزبان\\u200cآفرین'],\n",
              "       [1,\n",
              "        'در این کشور اندیشه کردم بسی\\nپریشان\\u200cتر از خود ندیدم کسی'],\n",
              "       [1, 'عجب آن که غراب از مجاورت طوطی هم به جان آمده بود و ملول شده'],\n",
              "       [1, 'هر آن کس که جور بزرگان نبرد\\nنسوزد دلش بر ضعیفان خرد'],\n",
              "       [1,\n",
              "        'که درمانده\\u200cام دست گیر ای صنم\\nبه جان آمدم رحم کن بر تنم'],\n",
              "       [1,\n",
              "        'یکی را زنی صاحب جمال جوان درگذشت و مادرزن فرتوت به علت کابین در خانه متمکن بماند و مرد از محاورت او به جان رنجیدی و از مجاورت او چاره ندیدی تا گروهی آشنایان به پرسیدن آمدندش'],\n",
              "       [1,\n",
              "        'چو الب ارسلان جان به جان\\u200cبخش داد\\nپسر تاج شاهی به سر برنهاد'],\n",
              "       [1, 'ز دوران ملک پدر یاد کن\\nدل از بند اندیشه آزاد کن'],\n",
              "       [1, 'وگر راست گفت ای خداوند پاک\\nمرا توبه ده تا نگردم هلاک']],\n",
              "      dtype=object)"
            ]
          },
          "metadata": {},
          "execution_count": 24
        }
      ]
    },
    {
      "cell_type": "markdown",
      "source": [
        "We can train a retreival system that returns the whole related poem (file) instead of only one MESRAA or BEIT just as easily:"
      ],
      "metadata": {
        "id": "T1Wklg9F73Tl"
      }
    },
    {
      "cell_type": "code",
      "source": [
        "# setting book column for both golestan and boostan:\n",
        "golestan_data['book'] = 'Golestan'\n",
        "boostan_data['book'] = 'Boostan'"
      ],
      "metadata": {
        "id": "oEmOC-V68MVZ"
      },
      "execution_count": 57,
      "outputs": []
    },
    {
      "cell_type": "code",
      "source": [
        "df = all_data = pd.concat([boostan_data, golestan_data], ignore_index=True)\n",
        "file_based_df = df.groupby(['book', 'chapter', 'section']).apply(lambda f: ' '.join(f['poem'].tolist())).reset_index()\n",
        "file_based_df.columns = ['book', 'chapter', 'section', 'poem']\n",
        "file_based_df.head()"
      ],
      "metadata": {
        "colab": {
          "base_uri": "https://localhost:8080/",
          "height": 206
        },
        "id": "gJGpgQwU8e1-",
        "outputId": "a6f122ee-da52-4314-805d-f27dda44dce3"
      },
      "execution_count": 75,
      "outputs": [
        {
          "output_type": "execute_result",
          "data": {
            "text/plain": [
              "      book  chapter  section  \\\n",
              "0  Boostan        0        1   \n",
              "1  Boostan        0        2   \n",
              "2  Boostan        0        3   \n",
              "3  Boostan        0        4   \n",
              "4  Boostan        0        5   \n",
              "\n",
              "                                                poem  \n",
              "0  به نام خداوندِ جان‌آفرین\\nحکیمِ سخن‌درزبان‌آفر...  \n",
              "1  کریم السجایا جمیل الشیم\\nنبی البرایا شفیع الام...  \n",
              "2  در اقصای عالم بگشتم بسی\\nبه سر بردم ایام با هر...  \n",
              "3  مرا طبع از این نوع خواهان نبود\\nسر مدحت پادشاه...  \n",
              "4  اتابک محمد شه نیکبخت\\nخداوند تاج و خداوند تخت ...  "
            ],
            "text/html": [
              "\n",
              "  <div id=\"df-2ca00b8c-63d4-4eb0-a496-305cfdbc54ca\">\n",
              "    <div class=\"colab-df-container\">\n",
              "      <div>\n",
              "<style scoped>\n",
              "    .dataframe tbody tr th:only-of-type {\n",
              "        vertical-align: middle;\n",
              "    }\n",
              "\n",
              "    .dataframe tbody tr th {\n",
              "        vertical-align: top;\n",
              "    }\n",
              "\n",
              "    .dataframe thead th {\n",
              "        text-align: right;\n",
              "    }\n",
              "</style>\n",
              "<table border=\"1\" class=\"dataframe\">\n",
              "  <thead>\n",
              "    <tr style=\"text-align: right;\">\n",
              "      <th></th>\n",
              "      <th>book</th>\n",
              "      <th>chapter</th>\n",
              "      <th>section</th>\n",
              "      <th>poem</th>\n",
              "    </tr>\n",
              "  </thead>\n",
              "  <tbody>\n",
              "    <tr>\n",
              "      <th>0</th>\n",
              "      <td>Boostan</td>\n",
              "      <td>0</td>\n",
              "      <td>1</td>\n",
              "      <td>به نام خداوندِ جان‌آفرین\\nحکیمِ سخن‌درزبان‌آفر...</td>\n",
              "    </tr>\n",
              "    <tr>\n",
              "      <th>1</th>\n",
              "      <td>Boostan</td>\n",
              "      <td>0</td>\n",
              "      <td>2</td>\n",
              "      <td>کریم السجایا جمیل الشیم\\nنبی البرایا شفیع الام...</td>\n",
              "    </tr>\n",
              "    <tr>\n",
              "      <th>2</th>\n",
              "      <td>Boostan</td>\n",
              "      <td>0</td>\n",
              "      <td>3</td>\n",
              "      <td>در اقصای عالم بگشتم بسی\\nبه سر بردم ایام با هر...</td>\n",
              "    </tr>\n",
              "    <tr>\n",
              "      <th>3</th>\n",
              "      <td>Boostan</td>\n",
              "      <td>0</td>\n",
              "      <td>4</td>\n",
              "      <td>مرا طبع از این نوع خواهان نبود\\nسر مدحت پادشاه...</td>\n",
              "    </tr>\n",
              "    <tr>\n",
              "      <th>4</th>\n",
              "      <td>Boostan</td>\n",
              "      <td>0</td>\n",
              "      <td>5</td>\n",
              "      <td>اتابک محمد شه نیکبخت\\nخداوند تاج و خداوند تخت ...</td>\n",
              "    </tr>\n",
              "  </tbody>\n",
              "</table>\n",
              "</div>\n",
              "      <button class=\"colab-df-convert\" onclick=\"convertToInteractive('df-2ca00b8c-63d4-4eb0-a496-305cfdbc54ca')\"\n",
              "              title=\"Convert this dataframe to an interactive table.\"\n",
              "              style=\"display:none;\">\n",
              "        \n",
              "  <svg xmlns=\"http://www.w3.org/2000/svg\" height=\"24px\"viewBox=\"0 0 24 24\"\n",
              "       width=\"24px\">\n",
              "    <path d=\"M0 0h24v24H0V0z\" fill=\"none\"/>\n",
              "    <path d=\"M18.56 5.44l.94 2.06.94-2.06 2.06-.94-2.06-.94-.94-2.06-.94 2.06-2.06.94zm-11 1L8.5 8.5l.94-2.06 2.06-.94-2.06-.94L8.5 2.5l-.94 2.06-2.06.94zm10 10l.94 2.06.94-2.06 2.06-.94-2.06-.94-.94-2.06-.94 2.06-2.06.94z\"/><path d=\"M17.41 7.96l-1.37-1.37c-.4-.4-.92-.59-1.43-.59-.52 0-1.04.2-1.43.59L10.3 9.45l-7.72 7.72c-.78.78-.78 2.05 0 2.83L4 21.41c.39.39.9.59 1.41.59.51 0 1.02-.2 1.41-.59l7.78-7.78 2.81-2.81c.8-.78.8-2.07 0-2.86zM5.41 20L4 18.59l7.72-7.72 1.47 1.35L5.41 20z\"/>\n",
              "  </svg>\n",
              "      </button>\n",
              "      \n",
              "  <style>\n",
              "    .colab-df-container {\n",
              "      display:flex;\n",
              "      flex-wrap:wrap;\n",
              "      gap: 12px;\n",
              "    }\n",
              "\n",
              "    .colab-df-convert {\n",
              "      background-color: #E8F0FE;\n",
              "      border: none;\n",
              "      border-radius: 50%;\n",
              "      cursor: pointer;\n",
              "      display: none;\n",
              "      fill: #1967D2;\n",
              "      height: 32px;\n",
              "      padding: 0 0 0 0;\n",
              "      width: 32px;\n",
              "    }\n",
              "\n",
              "    .colab-df-convert:hover {\n",
              "      background-color: #E2EBFA;\n",
              "      box-shadow: 0px 1px 2px rgba(60, 64, 67, 0.3), 0px 1px 3px 1px rgba(60, 64, 67, 0.15);\n",
              "      fill: #174EA6;\n",
              "    }\n",
              "\n",
              "    [theme=dark] .colab-df-convert {\n",
              "      background-color: #3B4455;\n",
              "      fill: #D2E3FC;\n",
              "    }\n",
              "\n",
              "    [theme=dark] .colab-df-convert:hover {\n",
              "      background-color: #434B5C;\n",
              "      box-shadow: 0px 1px 3px 1px rgba(0, 0, 0, 0.15);\n",
              "      filter: drop-shadow(0px 1px 2px rgba(0, 0, 0, 0.3));\n",
              "      fill: #FFFFFF;\n",
              "    }\n",
              "  </style>\n",
              "\n",
              "      <script>\n",
              "        const buttonEl =\n",
              "          document.querySelector('#df-2ca00b8c-63d4-4eb0-a496-305cfdbc54ca button.colab-df-convert');\n",
              "        buttonEl.style.display =\n",
              "          google.colab.kernel.accessAllowed ? 'block' : 'none';\n",
              "\n",
              "        async function convertToInteractive(key) {\n",
              "          const element = document.querySelector('#df-2ca00b8c-63d4-4eb0-a496-305cfdbc54ca');\n",
              "          const dataTable =\n",
              "            await google.colab.kernel.invokeFunction('convertToInteractive',\n",
              "                                                     [key], {});\n",
              "          if (!dataTable) return;\n",
              "\n",
              "          const docLinkHtml = 'Like what you see? Visit the ' +\n",
              "            '<a target=\"_blank\" href=https://colab.research.google.com/notebooks/data_table.ipynb>data table notebook</a>'\n",
              "            + ' to learn more about interactive tables.';\n",
              "          element.innerHTML = '';\n",
              "          dataTable['output_type'] = 'display_data';\n",
              "          await google.colab.output.renderOutput(dataTable, element);\n",
              "          const docLink = document.createElement('div');\n",
              "          docLink.innerHTML = docLinkHtml;\n",
              "          element.appendChild(docLink);\n",
              "        }\n",
              "      </script>\n",
              "    </div>\n",
              "  </div>\n",
              "  "
            ]
          },
          "metadata": {},
          "execution_count": 75
        }
      ]
    },
    {
      "cell_type": "code",
      "source": [
        "file_base_tf = CountVectorizer(analyzer= lambda x: sent_pre_process(x, remove_stopwords=True))\n",
        "file_base_tf_data = file_base_tf.fit_transform(file_based_df.poem)\n",
        "file_base_tf_data = file_base_tf_data.toarray().astype(bool)\n",
        "\n",
        "def file_base_boolean_retrieval(str, k=10):\n",
        "  query_vec = file_base_tf.transform([str]).toarray()[0]\n",
        "  scores = np.dot(file_base_tf_data, query_vec)\n",
        "  args = np.argsort(scores)[::-1]\n",
        "  k_args = args[:k]\n",
        "  return np.concatenate([[scores[k_args]], [file_based_df.poem[k_args]]]).T"
      ],
      "metadata": {
        "id": "PH6UYEfcAQse"
      },
      "execution_count": 89,
      "outputs": []
    },
    {
      "cell_type": "code",
      "source": [
        "file_base_boolean_retrieval('به نام خداوند جان و خرد کز این برتر اندیشه بر نگذرد', k=1)"
      ],
      "metadata": {
        "colab": {
          "base_uri": "https://localhost:8080/"
        },
        "id": "QTOE7XzyBj_o",
        "outputId": "2721c026-7630-49a1-b48a-26552c687cff"
      },
      "execution_count": 90,
      "outputs": [
        {
          "output_type": "execute_result",
          "data": {
            "text/plain": [
              "array([[4,\n",
              "        'بِسم اللهِ الرَّحمنِ الرَّحیم منّت خدای را عز و جل که طاعتش موجب قربت است و به شکر اندرش مزید نعمت هر نفسی که فرو می رود ممدّ حیات است و چون بر می آید مفرّح ذات پس در هر نفسی دو نعمت موجود است و بر هر نعمتی شکری واجب از دست و زبان که بر آید\\nکز عهدهٔ شکرش به در آید اِعملوا آلَ داودَ شکراً وَ قلیلٌ مِن عبادیَ الشکور بنده همان به که ز تقصیر خویش\\nعذر به درگاه خدای آورد ور نه سزاوار خداوندیش\\nکس نتواند که به جای آورد باران رحمت بی حسابش همه را رسیده و خوان نعمت بی دریغش همه جا کشیده پردهٔ ناموس بندگان به گناه فاحش ندرد و وظیفهٔ روزی به خطای منکر نبرد ای کریمی که از خزانهٔ غیب\\nگبر و ترسا وظیفه خور داری دوستان را کجا کنی محروم\\nتو که با دشمن این نظر داری فرّاش باد صبا را گفته تا فرش زمرّدی بگسترد و دایهٔ ابر بهاری را فرموده تا بنات نبات در مهد زمین بپرورد درختان را به خلعت نوروزی قبای سبز ورق در بر گرفته و اطفال شاخ را به قدوم موسم ربیع کلاه شکوفه بر سر نهاده عصاره نالی به قدرت او شهد فایق شده و تخم خرمایی به تربیتش نخل باسق گشته ابر و باد و مه و خورشید و فلک در کارند\\nتا تو نانی به کف آریّ و به غفلت نخوری همه از بهر تو سرگشته و فرمانبردار\\nشرط انصاف نباشد که تو فرمان نبری در خبر است از سرور کاینات و مفخر موجودات و رحمت عالمیان و صفوت آدمیان و تتمهٔ دور زمان محمد مصطفی صلی الله علیه و سلم، شفیعٌ مطاعٌ نبیٌ کریم\\nقسیمٌ جسیمٌ نسیمٌ وسیم چه غم دیوار امّت را که دارد چون تو پشتیبان\\nچه باک از موج بحر آن را که باشد نوح کشتیبان بلغَ العلی بِکمالِه کشفَ الدُّجی بِجَمالِه\\nحَسنتْ جَمیعُ خِصالِه صلّوا علیه و آله هر گاه که یکی از بندگان گنهکار پریشان روزگار دست انابت به امید اجابت به درگاه حق جل و علا بردارد ایزد تعالی در وی نظر نکند بازش بخواند باز اعراض کند بازش به تضرّع و زاری بخواند حق سبحانه و تعالی فرماید یا ملائکتی قَد استَحْیَیتُ مِن عبدی و لَیس لَهُ غیری فَقد غَفَرت لَهُ دعوتش را اجابت کردم و حاجتش بر آوردم که از بسیاری دعا و زاری بنده همی شرم دارم کرم بین و لطف خداوندگار\\nگنه بنده کرده است و او شرمسار عاکفان کعبهٔ جلالش به تقصیر عبادت معترف که ما عبدناکَ حقّ عبادتِک و واصفان حلیهٔ جمالش به تحیر منسوب که ما عَرَفناکَ حقّ مَعرِفتِک گر کسی وصف او ز من پرسد\\nبیدل از بی نشان چه گوید باز عاشقان کشتگان معشوقند\\nبر نیاید ز کشتگان آواز یکی از صاحبدلان سر به جیب مراقبت فرو برده بود و در بحر مکاشفت مستغرق شده حالی که از این معامله باز آمد یکی از دوستان گفت: از این بستان که بودی ما را چه تحفه کرامت کردی؟ گفت: به خاطر داشتم که چون به درخت گل رسم دامنی پر کنم هدیه اصحاب را، چون برسیدم بوی گلم چنان مست کرد که دامنم از دست برفت ای مرغ سحر عشق ز پروانه بیاموز\\nکآن سوخته را جان شد و آواز نیامد این مدعیان در طلبش بی خبرانند\\nکآن را که خبر شد خبری باز نیامد ای برتر از خیال و قیاس و گمان و وهم\\nوز هر چه گفته\\u200cاند و شنیدیم و خوانده\\u200cایم مجلس تمام گشت و به آخر رسید عمر\\nما همچنان در اوّل وصف تو مانده\\u200cایم ذکر جمیل سعدی که در افواه عوام افتاده است و صیت سخنش که در بسیط زمین رفته و قصب الجیب حدیثش که همچون شکر می\\u200cخورند و رقعهٔ منشآتش که چون کاغذ زر می\\u200cبرند بر کمال فضل و بلاغت او حمل نتوان کرد بلکه خداوند جهان و قطب دایرهٔ زمان و قایم مقام سلیمان و ناصر اهل ایمان اتابک اعظم مظفر الدنیا و الدین ابوبکر بن سعد بن زنگی ظلّ الله تعالی فی ارضه رَبِّ اِرْضَ عَنهُ و اَرْضِه به عین عنایت نظر کرده است و تحسین بلیغ فرموده و ارادت صادق نموده، لاجرم کافهٔ انام از خواص و عوام به محبت او گراییده\\u200cاند که الناسُ علی دینِ ملوکِهم زآن گه که تو را بر من مسکین نظر است\\nآثارم از آفتاب مشهور تر است گر خود همه عیبها بدین بنده در است\\nهر عیب که سلطان بپسندد هنر است گِلی خوشبوی در حمام روزی\\nرسید از دست محبوبی به دستم بدو گفتم که مشکی یا عبیری\\nکه از بوی دلاویز تو مستم بگفتا من گلی ناچیز بودم\\nو لیکن مدّتی با گل نشستم کمال همنشین در من اثر کرد\\nوگرنه من همان خاکم که هستم اللّهمَ مَتِّع المسلمینَ بطولِ حیاتِه و ضاعِف جمیلَ حسناتِه و ارْفَع درجةَ اودّائه و وُلاتِه وَ دمِّر علی اعدائه و شُناتِه بماتُلِیَ فی القرآن مِنْ آیاتِهِ اللّهُم آمِن بَلدَه و احفَظْ وَلَدَه لَقد سَعِدَ الدُنیا بهِ دامَ سعدُه\\nوَ ایَّدَه المولی بِاَلویةِ النَّصرِ کذلکَ ینشألینةُ هو عِرقُها\\nو حُسنُ نباتِ الارضِ من کرمِ البذرِ ایزد تعالی و تقدس خطهٔ پاک شیراز را به هیبت حاکمان عادل و همت عالمان عامل تا زمان قیامت در امان سلامت نگه داراد اقلیم پارس را غم از آسیب دهر نیست\\nتا بر سرش بود چو تویی سایه خدا امروز کس نشان ندهد در بسیط خاک\\nمانند آستان درت مأمن رضا بر توست پاس خاطر بیچارگان و شکر\\nبر ما و بر خدای جهان آفرین جزا یا رب ز باد فتنه نگهدار خاک پارس\\nچندان که خاک را بود و باد را بقا یک شب تأمل ایام گذشته می\\u200cکردم و بر عمر تلف کرده تأسف می\\u200cخوردم و سنگ سراچهٔ دل به الماس آب دیده می\\u200cسفتم و این بیت\\u200cها مناسب حال خود می\\u200cگفتم: هر دم از عمر می رود نفسی\\nچون نگه می\\u200cکنم نمانده بسی ای که پنجاه رفت و در خوابی\\nمگر این پنج روز دریابی خجل آن کس که رفت و کار نساخت\\nکوس رحلت زدند و بار نساخت خواب نوشین بامداد رحیل\\nباز دارد پیاده را ز سبیل هر که آمد عمارتی نو ساخت\\nرفت و منزل به دیگری پرداخت وآن دگر پخت همچنین هوسی\\nوین عمارت بسر نبرد کسی یار ناپایدار دوست مدار\\nدوستی را نشاید این غدّار نیک و بد چون همی بباید مرد\\nخنک آن کس که گوی نیکی برد برگ عیشی به گور خویش فرست\\nکس نیارد ز پس ز پیش فرست عمر برف است و آفتاب تموز\\nاندکی ماند و خواجه غرّه هنوز ای تهی دست رفته در بازار\\nترسمت پر نیاوری دستار هر که مزروع خود بخورد به خوید\\nوقت خرمنش خوشه باید چید بعد از تأمل این معنی مصلحت چنان دیدم که در نشیمن عزلت نشینم و دامن صحبت فراهم چینم و دفتر از گفت\\u200cهای پریشان بشویم و من بعد پریشان نگویم زبان بریده به کنجی نشسته صمٌّ بکمٌ\\nبه از کسی که نباشد زبانش اندر حکم تا یکی از دوستان که در کجاوه انیس من بود و در حجره جلیس، به رسم قدیم از در در آمد چندان که نشاط ملاعبت کرد و بساط مداعبت گسترد جوابش نگفتم و سر از زانوی تعبّد بر نگرفتم رنجیده نگه کرد و گفت: کنونت که امکان گفتار هست\\nبگو ای برادر به لطف و خوشی که فردا چو پیک اجل در رسید\\nبه حکم ضرورت زبان در کشی کسی از متعلقان منش بر حسب واقعه مطلع گردانید که فلان عزم کرده است و نیت جزم که بقیت عمر معتکف نشیند و خاموشی گزیند، تو نیز اگر توانی سر خویش گیر و راه مجانبت پیش گفتا: به عزت عظیم و صحبت قدیم که دم بر نیارم و قدم بر ندارم مگر آن گه که سخن گفته شود به عادت مألوف و طریق معروف که آزردن دوستان جهل است و کفّارت یمین سهل و خلاف راه صواب است و نقص رای اولوالالباب ذوالفقار علی در نیام و زبان سعدی در کام زبان در دهان ای خردمند چیست\\nکلید در گنج صاحب هنر چو در بسته باشد چه داند کسی\\nکه جوهر فروش است یا پیله ور اگر چه پیش خردمند خامشی ادب است\\nبه وقت مصلحت آن به که در سخن کوشی دو چیز طیرهٔ عقل است دم فرو بستن\\nبه وقت گفتن و گفتن به وقت خاموشی فی الجمله زبان از مکالمهٔ او در کشیدن قوّت نداشتم و روی از محاورهٔ او گردانیدن مروّت ندانستم که یار موافق بود و ارادت صادق چو جنگ آوری با کسی برستیز\\nکه از وی گزیرت بود یا گریز به حکم ضرورت سخن گفتم و تفرج کنان بیرون رفتیم در فصل ربیع که صولت برد آرمیده بود و ایام دولت ورد رسیده پیراهن برگ بر درختان\\nچون جامهٔ عید نیکبختان اول اردیبهشت ماه جلالی\\nبلبل گوینده بر منابر قضبان بر گل سرخ از نم اوفتاده لآلی\\nهمچو عرق بر عذار شاهد غضبان شب را به بوستان با یکی از دوستان اتفاق مبیت افتاد، موضعی خوش و خرّم و درختان در هم گفتی که خردهٔ مینا بر خاکش ریخته و عقد ثریا از تارکش آویخته روضةٌ ماءُ نهرِها سَلسال\\nدوحةٌ سَجعُ طیرِها موزون آن پر از لالهای رنگارنگ\\nوین پر از میوه\\u200cهای گوناگون باد در سایهٔ درختانش\\nگسترانیده فرش بوقلمون بامدادان که خاطر باز آمدن بر رای نشستن غالب آمد دیدمش دامنی گل و ریحان و سنبل و ضیمران فراهم آورده و رغبت شهر کرده گفتم: گل بستان را چنان که دانی بقایی و عهد گلستان را وفایی نباشد و حکما گفته\\u200cاند هر چه نپاید دلبستگی را نشاید گفتا: طریق چیست؟ گفتم: برای نزهت ناظران و فسحت حاضران کتاب گلستان توانم تصنیف کردن که باد خزان را بر ورق او دست تطاول نباشد و گردش زمان عیش ربیعش را به طیش خریف مبدل نکند به چه کار آیدت ز گل طبقی\\nاز گلستان من ببر ورقی گل همین پنج روز و شش باشد\\nوین گلستان همیشه خوش باشد حالی که من این بگفتم دامن گل بریخت و در دامنم آویخت که الکریم اذا وعدَ وفا فصلی در همان روز اتفاق بیاض افتاد در حسن معاشرت و آداب محاورت در لباسی که متکلمان را به کار آید و مترسّلان را بلاغت بیفزاید فی الجمله هنوز از گل بستان بقیّتی موجود بود که کتاب گلستان تمام شد و تمام آنگه شود به حقیقت که پسندیده آید در بارگاه شاه جهان پناه سایهٔ کردگار و پرتو لطف پروردگار ذخر زمان و کهف امان المؤیدُ من السماء المنصورُ علی الاعداء عضدُ الدولةِ القاهرةِ سراجُ الملةِ الباهرةِ جمالُ الانامِ مفخرُ الاسلام سعدُ بن الاتابکِ الاعظم شاهنشاه المعظم مولی ملوک العرب و العجم سلطان البر و البحر وارث ملک سلیمان مظفرالدین ابی بکر بن سعد بن زنگی ادام الله اقبالَهما و ضاعَفَ جَلالَهما وَ جعَل الی کلِّ خیر مآلهما و به کرشمه لطف خداوندی مطالعه فرماید گر التفات خداوندیش بیاراید\\nنگارخانه چینی و نقش ارتنگیست امید هست که روی ملال در نکشد\\nاز این سخن که گلستان نه جای دلتنگیست علی الخصوص که دیباچهٔ همایونش\\nبه نام سعد ابوبکر سعد بن زنگیست دیگر عروس فکر من از بی جمالی سر بر نیارد و دیدهٔ یأس از پشت پای خجالت بر ندارد و در زمرهٔ صاحبدلان متجلی نشود مگر آن گه که متحلّی گردد به زیور قبول امیر کبیر عالم عادل مؤید مظفر منصور ظهیر سریر سلطنت و مشیر تدبیر مملکت کهف الفقرا ملاذُ الغربا مربّی الفضلا محبُّ الاتقیا افتخار آل فارس یمینُ الملک ملک الخواص فخر الدولة والدین غیاث الاسلام و المسلمین عمدةُ الملوکِ و السلاطین ابوبکر بنُ ابی نصر اطال الله عمرَه و اجل قدرَه و شرَح صدرَه و ضاعَف اجرَه که ممدوح اکابر آفاق است و مجموع مکارم اخلاق هر که در سایهٔ عنایت اوست\\nگنهش طاعت است و دشمن دوست به هر یک از سایر بندگان حواشی خدمتی متعین است که اگر در ادای برخی از آن تهاون و تکاسل روا دارند در معرض خطاب آیند و در محل عتاب مگر بر این طایفهٔ درویشان که شکر نعمت بزرگان واجب است و ذکر جمیل و دعای خیر و اداء چنین خدمتی در غیبت اولیتر است که در حضور، که آن به تصنع نزدیک است و این از تکلف دور پشت دوتای فلک راست شد از خرّمی\\nتا چو تو فرزند زاد مادر ایام را حکمت محض است اگر لطف جهان آفرین\\nخاص کند بنده\\u200cای مصلحت عام را دولت جاوید یافت هر که نکونام زیست\\nکز عقبش ذکر خیر زنده کند نام را وصف تو را گر کنند ور نکنند اهل فضل\\nحاجت مشّاطه نیست روی دلارام را تقصیر و تقاعدی که در مواظبت خدمت بارگاه خداوندی می\\u200cرود بنا بر آن است که طایفه\\u200cای از حکماء هندوستان در فضایل بزرجمهر سخن می\\u200cگفتند، به آخر جز این عیبش ندانستند که در سخن گفتن بطیء است یعنی درنگ بسیار می\\u200cکند و مستمع را بسی منتظر باید بودن تا تقریر سخنی کند بزرجمهر بشنید و گفت: اندیشه کردن که چه گویم به از پشیمانی خوردن که چرا گفتم سخندان پرورده پیر کهن\\nبیندیشد آن گه بگوید سخن مزن تا توانی به گفتار دم\\nنکو گوی گر دیر گویی چه غم بیندیش وآن گه بر آور نفس\\nو زآن پیش بس کن که گویند بس به نطق آدمی بهتر است از دواب\\nدواب از تو به گر نگویی صواب فکیف در نظر اعیان حضرت خداوندی عزّ نصرُه که مجمع اهل دل است و مرکز علمای متبحر اگر در سیاقت سخن دلیری کنم شوخی کرده باشم و بضاعت مزجاة به حضرت عزیز آورده و شبه در جوهریان جوی نیارد و چراغ پیش آفتاب پرتوی ندارد و مناره بلند بر دامن کوه الوند پست نماید هر که گردن به دعوی افرازد\\nخویشتن را به گردن اندازد سعدی افتاده\\u200cایست آزاده\\nکس نیاید به جنگ افتاده اول اندیشه وآنگهی گفتار\\nپای بست آمده\\u200cست و پس دیوار نخلبندی دانم ولی نه در بستان و شاهدی فروشم ولیکن نه در کنعان لقمان را گفتند: حکمت از که آموختی؟ گفت: از نابینایان که تا جای نبینند پای ننهند قدّم الخروجَ قبلَ الولوجُ، مردیت بیازمای وآنگه زن کن گر چه شاطر بود خروس به جنگ\\nچه زند پیش باز رویین چنگ گربه شیر است در گرفتن موش\\nلیک موش است در مصاف پلنگ اما به اعتماد سعت اخلاق بزرگان که چشم از عوایب زیردستان بپوشند و در افشای جرائم کهتران نکوشند کلمه\\u200cای چند به طریق اختصار از نوادر و امثال و شعر و حکایات و سیر ملوک ماضی رحمهم الله در این کتاب درج کردیم و برخی از عمر گرانمایه بر او خرج، موجب تصنیف کتاب این بود و بالله التوفیق بماند سالها این نظم و ترتیب\\nز ما هر ذرّه خاک افتاده جایی غرض نقشیست کز ما باز ماند\\nکه هستی را نمی بینم بقایی مگر صاحبدلی روزی به رحمت\\nکند در کار درویشان دعایی امعان نظر در ترتیب کتاب و تهذیب ابواب ایجاز سخن مصلحت دید تا بر این روضهٔ غنا و حدیقهٔ غلبا چون بهشت هشت باب اتفاق افتاد از آن مختصر آمد تا به ملال نیانجامد باب اوّل: در سیرت پادشاهان باب دوم: در اخلاق درویشان باب سوم: در فضیلت قناعت باب چهارم: در فواید خاموشی باب پنجم: در عشق و جوانی باب ششم: در ضعف و پیری باب هفتم: در تأثیر تربیت باب هشتم: در آداب صحبت در این مدت که ما را وقت خوش بود\\nز هجرت ششصد و پنجاه و شش بود مراد ما نصیحت بود و گفتیم\\nحوالت با خدا کردیم و رفتیم']],\n",
              "      dtype=object)"
            ]
          },
          "metadata": {},
          "execution_count": 90
        }
      ]
    },
    {
      "cell_type": "markdown",
      "source": [
        "And we can use this to create our file-based retreival system for all our models. But in this notebook, our main retreival systems are retreiving BEITs."
      ],
      "metadata": {
        "id": "qg5JMRYe9-fH"
      }
    },
    {
      "cell_type": "markdown",
      "source": [
        "# TF-IDF Retreival"
      ],
      "metadata": {
        "id": "nOX_ND8tWIua"
      }
    },
    {
      "cell_type": "markdown",
      "source": [
        "Defining cosine function to compute cosine of angle between two vectors in space:\n"
      ],
      "metadata": {
        "id": "VzFGF62QYW6q"
      }
    },
    {
      "cell_type": "code",
      "source": [
        "def get_cosine(v1,v2):\n",
        "    return np.inner(v1, v2) / (np.linalg.norm(v1) * np.linalg.norm(v2))"
      ],
      "metadata": {
        "id": "93XKKu818gp2"
      },
      "execution_count": 25,
      "outputs": []
    },
    {
      "cell_type": "markdown",
      "source": [
        "get_most_similars returns k most similar vectos to query_vector based on similarity_func:\n"
      ],
      "metadata": {
        "id": "lAVZh17L3PTD"
      }
    },
    {
      "cell_type": "code",
      "source": [
        "def get_most_similars(document_vectors, query_vector, similarity_func, k=10):\n",
        "    tops = list()\n",
        "    for i, vec in enumerate(document_vectors):\n",
        "        similarity = similarity_func(query_vector, vec)\n",
        "        if not np.isnan(similarity):\n",
        "          tops.append([similarity, all_data[i]])\n",
        "    tops = np.array(tops)\n",
        "    args = np.argsort(tops[:, 0])[::-1]\n",
        "    return list(tops[args[:k]])"
      ],
      "metadata": {
        "id": "BVNrHaMD9VDL"
      },
      "execution_count": 26,
      "outputs": []
    },
    {
      "cell_type": "code",
      "source": [
        "from sklearn.feature_extraction.text import TfidfVectorizer\n",
        "\n",
        "tfidf = TfidfVectorizer(analyzer= lambda x: sent_pre_process(x, remove_stopwords=True))\n",
        "tfidf_data = tfidf.fit_transform(all_data)\n",
        "tfidf_data = tfidf_data.toarray()"
      ],
      "metadata": {
        "id": "hNs7OmLAwg4B"
      },
      "execution_count": 27,
      "outputs": []
    },
    {
      "cell_type": "code",
      "source": [
        "def tfidf_retrieval(str, k=10):\n",
        "  tfidf_str = tfidf.transform([str]).toarray()[0]\n",
        "  return pd.DataFrame(get_most_similars(tfidf_data, tfidf_str, get_cosine, k))"
      ],
      "metadata": {
        "id": "l9mPI_LW9XpK"
      },
      "execution_count": 28,
      "outputs": []
    },
    {
      "cell_type": "code",
      "source": [
        "tfidf_retrieval('دلم خانه‌ی مهر یار است و بس', k=10)"
      ],
      "metadata": {
        "colab": {
          "base_uri": "https://localhost:8080/",
          "height": 418
        },
        "id": "1oc0Zt0K9snq",
        "outputId": "a78bb9b2-fe99-4ed6-abbc-c75314b458c4"
      },
      "execution_count": 29,
      "outputs": [
        {
          "output_type": "stream",
          "name": "stderr",
          "text": [
            "/usr/local/lib/python3.7/dist-packages/ipykernel_launcher.py:2: RuntimeWarning: invalid value encountered in double_scalars\n",
            "  \n"
          ]
        },
        {
          "output_type": "execute_result",
          "data": {
            "text/plain": [
              "                     0                                                  1\n",
              "0   0.6832235115151075  دلم خانهٔ مهر یار است و بس\\nاز آن می‌نگنجد در ...\n",
              "1   0.5413772731987289                                        گفت: ای یار\n",
              "2   0.5413772731987289                                      گفت: ای یاران\n",
              "3   0.3613019833857258                                   گفت: ای یار عزیز\n",
              "4    0.310908529569272  خرابت کند شاهد خانه کن\\nبرو خانه آباد گردان به زن\n",
              "5  0.30932197746696155  یکی از لوازم صحبت آن است که خانه بپردازی یا با...\n",
              "6   0.2855158030134369  رهی رو که بینی طریق رجا\\nتو و مهر شمع از کجا ت...\n",
              "7   0.2754478022726963   بر سر لوح او نبشته به زر\\nجور استاد به ز مهر پدر\n",
              "8  0.27440282720818304                               منجمی به خانه در آمد\n",
              "9  0.26910487285512996                              صاحب دعوت گفت: ای یار"
            ],
            "text/html": [
              "\n",
              "  <div id=\"df-2d76cae8-c59f-428a-bda6-15848a401810\">\n",
              "    <div class=\"colab-df-container\">\n",
              "      <div>\n",
              "<style scoped>\n",
              "    .dataframe tbody tr th:only-of-type {\n",
              "        vertical-align: middle;\n",
              "    }\n",
              "\n",
              "    .dataframe tbody tr th {\n",
              "        vertical-align: top;\n",
              "    }\n",
              "\n",
              "    .dataframe thead th {\n",
              "        text-align: right;\n",
              "    }\n",
              "</style>\n",
              "<table border=\"1\" class=\"dataframe\">\n",
              "  <thead>\n",
              "    <tr style=\"text-align: right;\">\n",
              "      <th></th>\n",
              "      <th>0</th>\n",
              "      <th>1</th>\n",
              "    </tr>\n",
              "  </thead>\n",
              "  <tbody>\n",
              "    <tr>\n",
              "      <th>0</th>\n",
              "      <td>0.6832235115151075</td>\n",
              "      <td>دلم خانهٔ مهر یار است و بس\\nاز آن می‌نگنجد در ...</td>\n",
              "    </tr>\n",
              "    <tr>\n",
              "      <th>1</th>\n",
              "      <td>0.5413772731987289</td>\n",
              "      <td>گفت: ای یار</td>\n",
              "    </tr>\n",
              "    <tr>\n",
              "      <th>2</th>\n",
              "      <td>0.5413772731987289</td>\n",
              "      <td>گفت: ای یاران</td>\n",
              "    </tr>\n",
              "    <tr>\n",
              "      <th>3</th>\n",
              "      <td>0.3613019833857258</td>\n",
              "      <td>گفت: ای یار عزیز</td>\n",
              "    </tr>\n",
              "    <tr>\n",
              "      <th>4</th>\n",
              "      <td>0.310908529569272</td>\n",
              "      <td>خرابت کند شاهد خانه کن\\nبرو خانه آباد گردان به زن</td>\n",
              "    </tr>\n",
              "    <tr>\n",
              "      <th>5</th>\n",
              "      <td>0.30932197746696155</td>\n",
              "      <td>یکی از لوازم صحبت آن است که خانه بپردازی یا با...</td>\n",
              "    </tr>\n",
              "    <tr>\n",
              "      <th>6</th>\n",
              "      <td>0.2855158030134369</td>\n",
              "      <td>رهی رو که بینی طریق رجا\\nتو و مهر شمع از کجا ت...</td>\n",
              "    </tr>\n",
              "    <tr>\n",
              "      <th>7</th>\n",
              "      <td>0.2754478022726963</td>\n",
              "      <td>بر سر لوح او نبشته به زر\\nجور استاد به ز مهر پدر</td>\n",
              "    </tr>\n",
              "    <tr>\n",
              "      <th>8</th>\n",
              "      <td>0.27440282720818304</td>\n",
              "      <td>منجمی به خانه در آمد</td>\n",
              "    </tr>\n",
              "    <tr>\n",
              "      <th>9</th>\n",
              "      <td>0.26910487285512996</td>\n",
              "      <td>صاحب دعوت گفت: ای یار</td>\n",
              "    </tr>\n",
              "  </tbody>\n",
              "</table>\n",
              "</div>\n",
              "      <button class=\"colab-df-convert\" onclick=\"convertToInteractive('df-2d76cae8-c59f-428a-bda6-15848a401810')\"\n",
              "              title=\"Convert this dataframe to an interactive table.\"\n",
              "              style=\"display:none;\">\n",
              "        \n",
              "  <svg xmlns=\"http://www.w3.org/2000/svg\" height=\"24px\"viewBox=\"0 0 24 24\"\n",
              "       width=\"24px\">\n",
              "    <path d=\"M0 0h24v24H0V0z\" fill=\"none\"/>\n",
              "    <path d=\"M18.56 5.44l.94 2.06.94-2.06 2.06-.94-2.06-.94-.94-2.06-.94 2.06-2.06.94zm-11 1L8.5 8.5l.94-2.06 2.06-.94-2.06-.94L8.5 2.5l-.94 2.06-2.06.94zm10 10l.94 2.06.94-2.06 2.06-.94-2.06-.94-.94-2.06-.94 2.06-2.06.94z\"/><path d=\"M17.41 7.96l-1.37-1.37c-.4-.4-.92-.59-1.43-.59-.52 0-1.04.2-1.43.59L10.3 9.45l-7.72 7.72c-.78.78-.78 2.05 0 2.83L4 21.41c.39.39.9.59 1.41.59.51 0 1.02-.2 1.41-.59l7.78-7.78 2.81-2.81c.8-.78.8-2.07 0-2.86zM5.41 20L4 18.59l7.72-7.72 1.47 1.35L5.41 20z\"/>\n",
              "  </svg>\n",
              "      </button>\n",
              "      \n",
              "  <style>\n",
              "    .colab-df-container {\n",
              "      display:flex;\n",
              "      flex-wrap:wrap;\n",
              "      gap: 12px;\n",
              "    }\n",
              "\n",
              "    .colab-df-convert {\n",
              "      background-color: #E8F0FE;\n",
              "      border: none;\n",
              "      border-radius: 50%;\n",
              "      cursor: pointer;\n",
              "      display: none;\n",
              "      fill: #1967D2;\n",
              "      height: 32px;\n",
              "      padding: 0 0 0 0;\n",
              "      width: 32px;\n",
              "    }\n",
              "\n",
              "    .colab-df-convert:hover {\n",
              "      background-color: #E2EBFA;\n",
              "      box-shadow: 0px 1px 2px rgba(60, 64, 67, 0.3), 0px 1px 3px 1px rgba(60, 64, 67, 0.15);\n",
              "      fill: #174EA6;\n",
              "    }\n",
              "\n",
              "    [theme=dark] .colab-df-convert {\n",
              "      background-color: #3B4455;\n",
              "      fill: #D2E3FC;\n",
              "    }\n",
              "\n",
              "    [theme=dark] .colab-df-convert:hover {\n",
              "      background-color: #434B5C;\n",
              "      box-shadow: 0px 1px 3px 1px rgba(0, 0, 0, 0.15);\n",
              "      filter: drop-shadow(0px 1px 2px rgba(0, 0, 0, 0.3));\n",
              "      fill: #FFFFFF;\n",
              "    }\n",
              "  </style>\n",
              "\n",
              "      <script>\n",
              "        const buttonEl =\n",
              "          document.querySelector('#df-2d76cae8-c59f-428a-bda6-15848a401810 button.colab-df-convert');\n",
              "        buttonEl.style.display =\n",
              "          google.colab.kernel.accessAllowed ? 'block' : 'none';\n",
              "\n",
              "        async function convertToInteractive(key) {\n",
              "          const element = document.querySelector('#df-2d76cae8-c59f-428a-bda6-15848a401810');\n",
              "          const dataTable =\n",
              "            await google.colab.kernel.invokeFunction('convertToInteractive',\n",
              "                                                     [key], {});\n",
              "          if (!dataTable) return;\n",
              "\n",
              "          const docLinkHtml = 'Like what you see? Visit the ' +\n",
              "            '<a target=\"_blank\" href=https://colab.research.google.com/notebooks/data_table.ipynb>data table notebook</a>'\n",
              "            + ' to learn more about interactive tables.';\n",
              "          element.innerHTML = '';\n",
              "          dataTable['output_type'] = 'display_data';\n",
              "          await google.colab.output.renderOutput(dataTable, element);\n",
              "          const docLink = document.createElement('div');\n",
              "          docLink.innerHTML = docLinkHtml;\n",
              "          element.appendChild(docLink);\n",
              "        }\n",
              "      </script>\n",
              "    </div>\n",
              "  </div>\n",
              "  "
            ]
          },
          "metadata": {},
          "execution_count": 29
        }
      ]
    },
    {
      "cell_type": "markdown",
      "source": [
        "# Transformer-based Model"
      ],
      "metadata": {
        "id": "t5Wfi8WS4rzJ"
      }
    },
    {
      "cell_type": "markdown",
      "source": [
        "For this part, we create a model based on [Pars-BERT](https://github.com/hooshvare/parsbert), a pretrained transformer model based on BERT."
      ],
      "metadata": {
        "id": "1XzbzJNX4aZp"
      }
    },
    {
      "cell_type": "code",
      "source": [
        "!pip install -U sentence-transformers"
      ],
      "metadata": {
        "colab": {
          "base_uri": "https://localhost:8080/"
        },
        "id": "eLL4pZfy4t6Q",
        "outputId": "ec59ce4e-61c2-407a-d9a1-2b2520c653b6"
      },
      "execution_count": 30,
      "outputs": [
        {
          "output_type": "stream",
          "name": "stdout",
          "text": [
            "Looking in indexes: https://pypi.org/simple, https://us-python.pkg.dev/colab-wheels/public/simple/\n",
            "Collecting sentence-transformers\n",
            "  Downloading sentence-transformers-2.2.0.tar.gz (79 kB)\n",
            "\u001b[K     |████████████████████████████████| 79 kB 6.8 MB/s \n",
            "\u001b[?25hCollecting transformers<5.0.0,>=4.6.0\n",
            "  Downloading transformers-4.19.2-py3-none-any.whl (4.2 MB)\n",
            "\u001b[K     |████████████████████████████████| 4.2 MB 20.3 MB/s \n",
            "\u001b[?25hRequirement already satisfied: tqdm in /usr/local/lib/python3.7/dist-packages (from sentence-transformers) (4.64.0)\n",
            "Requirement already satisfied: torch>=1.6.0 in /usr/local/lib/python3.7/dist-packages (from sentence-transformers) (1.11.0+cu113)\n",
            "Requirement already satisfied: torchvision in /usr/local/lib/python3.7/dist-packages (from sentence-transformers) (0.12.0+cu113)\n",
            "Requirement already satisfied: numpy in /usr/local/lib/python3.7/dist-packages (from sentence-transformers) (1.21.6)\n",
            "Requirement already satisfied: scikit-learn in /usr/local/lib/python3.7/dist-packages (from sentence-transformers) (1.0.2)\n",
            "Requirement already satisfied: scipy in /usr/local/lib/python3.7/dist-packages (from sentence-transformers) (1.4.1)\n",
            "Requirement already satisfied: nltk in /usr/local/lib/python3.7/dist-packages (from sentence-transformers) (3.3)\n",
            "Collecting sentencepiece\n",
            "  Downloading sentencepiece-0.1.96-cp37-cp37m-manylinux_2_17_x86_64.manylinux2014_x86_64.whl (1.2 MB)\n",
            "\u001b[K     |████████████████████████████████| 1.2 MB 36.5 MB/s \n",
            "\u001b[?25hCollecting huggingface-hub\n",
            "  Downloading huggingface_hub-0.7.0-py3-none-any.whl (86 kB)\n",
            "\u001b[K     |████████████████████████████████| 86 kB 5.7 MB/s \n",
            "\u001b[?25hRequirement already satisfied: typing-extensions in /usr/local/lib/python3.7/dist-packages (from torch>=1.6.0->sentence-transformers) (4.2.0)\n",
            "Requirement already satisfied: packaging>=20.0 in /usr/local/lib/python3.7/dist-packages (from transformers<5.0.0,>=4.6.0->sentence-transformers) (21.3)\n",
            "Requirement already satisfied: regex!=2019.12.17 in /usr/local/lib/python3.7/dist-packages (from transformers<5.0.0,>=4.6.0->sentence-transformers) (2019.12.20)\n",
            "Requirement already satisfied: requests in /usr/local/lib/python3.7/dist-packages (from transformers<5.0.0,>=4.6.0->sentence-transformers) (2.23.0)\n",
            "Requirement already satisfied: filelock in /usr/local/lib/python3.7/dist-packages (from transformers<5.0.0,>=4.6.0->sentence-transformers) (3.7.0)\n",
            "Requirement already satisfied: importlib-metadata in /usr/local/lib/python3.7/dist-packages (from transformers<5.0.0,>=4.6.0->sentence-transformers) (4.11.4)\n",
            "Collecting pyyaml>=5.1\n",
            "  Downloading PyYAML-6.0-cp37-cp37m-manylinux_2_5_x86_64.manylinux1_x86_64.manylinux_2_12_x86_64.manylinux2010_x86_64.whl (596 kB)\n",
            "\u001b[K     |████████████████████████████████| 596 kB 50.9 MB/s \n",
            "\u001b[?25hCollecting tokenizers!=0.11.3,<0.13,>=0.11.1\n",
            "  Downloading tokenizers-0.12.1-cp37-cp37m-manylinux_2_12_x86_64.manylinux2010_x86_64.whl (6.6 MB)\n",
            "\u001b[K     |████████████████████████████████| 6.6 MB 39.4 MB/s \n",
            "\u001b[?25hRequirement already satisfied: pyparsing!=3.0.5,>=2.0.2 in /usr/local/lib/python3.7/dist-packages (from packaging>=20.0->transformers<5.0.0,>=4.6.0->sentence-transformers) (3.0.9)\n",
            "Requirement already satisfied: zipp>=0.5 in /usr/local/lib/python3.7/dist-packages (from importlib-metadata->transformers<5.0.0,>=4.6.0->sentence-transformers) (3.8.0)\n",
            "Requirement already satisfied: six in /usr/local/lib/python3.7/dist-packages (from nltk->sentence-transformers) (1.15.0)\n",
            "Requirement already satisfied: urllib3!=1.25.0,!=1.25.1,<1.26,>=1.21.1 in /usr/local/lib/python3.7/dist-packages (from requests->transformers<5.0.0,>=4.6.0->sentence-transformers) (1.24.3)\n",
            "Requirement already satisfied: idna<3,>=2.5 in /usr/local/lib/python3.7/dist-packages (from requests->transformers<5.0.0,>=4.6.0->sentence-transformers) (2.10)\n",
            "Requirement already satisfied: certifi>=2017.4.17 in /usr/local/lib/python3.7/dist-packages (from requests->transformers<5.0.0,>=4.6.0->sentence-transformers) (2022.5.18.1)\n",
            "Requirement already satisfied: chardet<4,>=3.0.2 in /usr/local/lib/python3.7/dist-packages (from requests->transformers<5.0.0,>=4.6.0->sentence-transformers) (3.0.4)\n",
            "Requirement already satisfied: joblib>=0.11 in /usr/local/lib/python3.7/dist-packages (from scikit-learn->sentence-transformers) (1.1.0)\n",
            "Requirement already satisfied: threadpoolctl>=2.0.0 in /usr/local/lib/python3.7/dist-packages (from scikit-learn->sentence-transformers) (3.1.0)\n",
            "Requirement already satisfied: pillow!=8.3.*,>=5.3.0 in /usr/local/lib/python3.7/dist-packages (from torchvision->sentence-transformers) (7.1.2)\n",
            "Building wheels for collected packages: sentence-transformers\n",
            "  Building wheel for sentence-transformers (setup.py) ... \u001b[?25l\u001b[?25hdone\n",
            "  Created wheel for sentence-transformers: filename=sentence_transformers-2.2.0-py3-none-any.whl size=120747 sha256=9069d22986763da542242c8b8e6a3b36741ce69db71712455c670d5a2cbc7139\n",
            "  Stored in directory: /root/.cache/pip/wheels/83/c0/df/b6873ab7aac3f2465aa9144b6b4c41c4391cfecc027c8b07e7\n",
            "Successfully built sentence-transformers\n",
            "Installing collected packages: pyyaml, tokenizers, huggingface-hub, transformers, sentencepiece, sentence-transformers\n",
            "  Attempting uninstall: pyyaml\n",
            "    Found existing installation: PyYAML 3.13\n",
            "    Uninstalling PyYAML-3.13:\n",
            "      Successfully uninstalled PyYAML-3.13\n",
            "Successfully installed huggingface-hub-0.7.0 pyyaml-6.0 sentence-transformers-2.2.0 sentencepiece-0.1.96 tokenizers-0.12.1 transformers-4.19.2\n"
          ]
        }
      ]
    },
    {
      "cell_type": "code",
      "source": [
        "import sentence_transformers as st\n",
        "import itertools"
      ],
      "metadata": {
        "id": "mHh6_6J94w_D"
      },
      "execution_count": 34,
      "outputs": []
    },
    {
      "cell_type": "code",
      "source": [
        "class my_transformer:\n",
        "    def __init__(self, document):\n",
        "        self.data = document\n",
        "        self.x = st.models.Transformer('HooshvareLab/bert-fa-zwnj-base')\n",
        "        self.model = st.SentenceTransformer(modules=[self.x, st.models.Pooling(self.x.get_word_embedding_dimension())])\n",
        "        self.processed_data = pre_process(self.data, remove_stopwords=True, put_index=True)\n",
        "        self.processed_data_index = [(' '.join(x[0]), x[1]) for x in self.processed_data]\n",
        "        self.processed_data = [' '.join(x[0]) for x in self.processed_data]\n",
        "        self.vectors = self.model.encode(self.processed_data)\n",
        "    \n",
        "    def search(self, query, k=10):\n",
        "        pre_processed_query = sent_pre_process(query, remove_stopwords=True)\n",
        "        joint_processed_query = ' '.join(pre_processed_query)\n",
        "        tops = list()\n",
        "        query_encode = self.model.encode(joint_processed_query)\n",
        "        sims = st.util.cos_sim(query_encode, self.vectors).numpy()[0]\n",
        "        indexes = np.argsort(sims)[::-1][:k]\n",
        "        tops = list()\n",
        "        for ind in indexes:\n",
        "            tops.append((sims[ind], self.data[self.processed_data_index[ind][1]]))\n",
        "        return tops"
      ],
      "metadata": {
        "id": "JMd8sKCC4yl5"
      },
      "execution_count": 35,
      "outputs": []
    },
    {
      "cell_type": "code",
      "source": [
        "transformer_model = my_transformer(all_data)"
      ],
      "metadata": {
        "colab": {
          "base_uri": "https://localhost:8080/",
          "height": 316,
          "referenced_widgets": [
            "91de0df5d4b34bbdb037c19287d61547",
            "9f655112e9454f42ac69d7373422c90c",
            "e6fd365f2b364823a7ba8960863a57d9",
            "f120983b528f462fae9ace93b4147461",
            "c87350fc4c9d466faaaa3e68d9893556",
            "de7246cad1aa40efafaba4aad3b8839c",
            "82c4ed4443994b83818fbbcff6646bbd",
            "ee59c2aa600648488dd32af91e832550",
            "f5a176db3e8349d391f360b2fb951d62",
            "54dfdc1243d64f68839796c0604fa17c",
            "ca5f4e028fc44879bcd279721a921bc2",
            "97377d4fa5eb4dc99e1df8721eb54aea",
            "50775cb2fb344b669cd55b5dd75e838e",
            "f98417aead824ec4a8387d3592345e9a",
            "c2ddcaf4bc844749a14c3b122dd8bc60",
            "b79e408d191c42738123c992e85f3c99",
            "7d3cfdd9cf134f7db3dfbf8661035313",
            "c2369f4e4ce94610ae481b89dd643934",
            "5c1356c96379475faffe504eb0ec959a",
            "291abcf02fa34563a774322993d59ce2",
            "7fc7f62ea6fb4691be33c41490c2fc2c",
            "6bf29b6a65fa4f25ba01765271f3fcde",
            "5794307aaf424d9c8f0d77ea3e952bb2",
            "0de51f5a969948c1ad1b3a3a590cafb8",
            "4441f5b616644c01934f93f20c40186a",
            "3b7bb47044ca4bc292520decbb22e4da",
            "de38cf0018c44d3ca5d401a0802ef60b",
            "736d6b51dae540b0bcd23b9a40e73a77",
            "efa5a687d86c452db657cc2ef06a9bbf",
            "952e7711fc7341a297d4da4117710f33",
            "1f5cf7939b7c49d8a287813247d72c27",
            "9413209419dd48d196027d9f50418bc5",
            "a35f52919aea4359b262595ed4398c9c",
            "90fe9b06c85e435b9acd3977c6cb84e3",
            "d8ee6fece4384a46bb5ece734e5aa96a",
            "4381a46c449a46e0b30d58fd85fa1b39",
            "8cea42bdbff34532966db1db9b1187ca",
            "e373f4850eca40b0830848788cbdfe93",
            "90856b0972614e9e8da13ecace9e5b13",
            "b528e79d99e04536b926236db3d420b7",
            "f57c31a664ab472d9571f6c37376dd1e",
            "bfcae5086ad742e18590e8b06b1a4fe1",
            "d933ef76896642d6804275e9dbb765fe",
            "c0cea91599f34285959521732186142e",
            "bc5a7b9cd13646609b82405de26058d3",
            "93d2d13273524f53ad4d196c5a724a90",
            "b7a61e91714443d69766102e20c6f5ee",
            "4a0304cedc014ba4a315d469054f8a39",
            "18e4b12eebb34159a9f6d7391986a511",
            "340a928042ea4565b2838671a65c3f2a",
            "3be56cb8bb16409788ea4422eb0265f5",
            "46beb6782a53437fb9fc5dc782043361",
            "43b1aa709029445c9ee48d71efff7a03",
            "3c390b0ff8f340a29574b566c6147211",
            "b070352bc7774f56892a89369ab43fd7",
            "74a2c3a2321444d697880e11667c8003",
            "7096e305d8004dbd8872274d737adbee",
            "16c0f36e3b7243af809ac5a5bb8f017a",
            "2b1e6e05b55045b6ae952ac33de92b91",
            "df41bf652cb447c086bb242a6df9e594",
            "08c0396bd5394cbbbbdd0fdc61411443",
            "8396c92660a24320b7835edf53f87d1c",
            "36a6a14a2f604172b379b5748c1a7823",
            "cf34321c5f354d3bbd27138b8014f7b8",
            "90cb95e3d597484da2dad8a43dcf9669",
            "ec339248dc074215bf85da7add143439"
          ]
        },
        "id": "Rm-GS65V4z9L",
        "outputId": "47f9a3a0-1dab-438e-e372-e956797bbae6"
      },
      "execution_count": 36,
      "outputs": [
        {
          "output_type": "display_data",
          "data": {
            "text/plain": [
              "Downloading:   0%|          | 0.00/565 [00:00<?, ?B/s]"
            ],
            "application/vnd.jupyter.widget-view+json": {
              "version_major": 2,
              "version_minor": 0,
              "model_id": "91de0df5d4b34bbdb037c19287d61547"
            }
          },
          "metadata": {}
        },
        {
          "output_type": "display_data",
          "data": {
            "text/plain": [
              "Downloading:   0%|          | 0.00/452M [00:00<?, ?B/s]"
            ],
            "application/vnd.jupyter.widget-view+json": {
              "version_major": 2,
              "version_minor": 0,
              "model_id": "97377d4fa5eb4dc99e1df8721eb54aea"
            }
          },
          "metadata": {}
        },
        {
          "output_type": "stream",
          "name": "stderr",
          "text": [
            "Some weights of the model checkpoint at HooshvareLab/bert-fa-zwnj-base were not used when initializing BertModel: ['cls.predictions.transform.LayerNorm.weight', 'cls.predictions.transform.dense.bias', 'cls.predictions.decoder.bias', 'cls.predictions.transform.LayerNorm.bias', 'cls.predictions.transform.dense.weight', 'cls.predictions.decoder.weight', 'cls.predictions.bias']\n",
            "- This IS expected if you are initializing BertModel from the checkpoint of a model trained on another task or with another architecture (e.g. initializing a BertForSequenceClassification model from a BertForPreTraining model).\n",
            "- This IS NOT expected if you are initializing BertModel from the checkpoint of a model that you expect to be exactly identical (initializing a BertForSequenceClassification model from a BertForSequenceClassification model).\n",
            "Some weights of BertModel were not initialized from the model checkpoint at HooshvareLab/bert-fa-zwnj-base and are newly initialized: ['bert.pooler.dense.weight', 'bert.pooler.dense.bias']\n",
            "You should probably TRAIN this model on a down-stream task to be able to use it for predictions and inference.\n"
          ]
        },
        {
          "output_type": "display_data",
          "data": {
            "text/plain": [
              "Downloading:   0%|          | 0.00/292 [00:00<?, ?B/s]"
            ],
            "application/vnd.jupyter.widget-view+json": {
              "version_major": 2,
              "version_minor": 0,
              "model_id": "5794307aaf424d9c8f0d77ea3e952bb2"
            }
          },
          "metadata": {}
        },
        {
          "output_type": "display_data",
          "data": {
            "text/plain": [
              "Downloading:   0%|          | 0.00/416k [00:00<?, ?B/s]"
            ],
            "application/vnd.jupyter.widget-view+json": {
              "version_major": 2,
              "version_minor": 0,
              "model_id": "90fe9b06c85e435b9acd3977c6cb84e3"
            }
          },
          "metadata": {}
        },
        {
          "output_type": "display_data",
          "data": {
            "text/plain": [
              "Downloading:   0%|          | 0.00/1.06M [00:00<?, ?B/s]"
            ],
            "application/vnd.jupyter.widget-view+json": {
              "version_major": 2,
              "version_minor": 0,
              "model_id": "bc5a7b9cd13646609b82405de26058d3"
            }
          },
          "metadata": {}
        },
        {
          "output_type": "display_data",
          "data": {
            "text/plain": [
              "Downloading:   0%|          | 0.00/134 [00:00<?, ?B/s]"
            ],
            "application/vnd.jupyter.widget-view+json": {
              "version_major": 2,
              "version_minor": 0,
              "model_id": "74a2c3a2321444d697880e11667c8003"
            }
          },
          "metadata": {}
        }
      ]
    },
    {
      "cell_type": "code",
      "source": [
        "transformer_model.search('به نام خداوند جان آفرین')"
      ],
      "metadata": {
        "colab": {
          "base_uri": "https://localhost:8080/"
        },
        "id": "h5ih_vTg41Nx",
        "outputId": "2e3ac896-1a2c-4b68-b8f3-662d79eafd2e"
      },
      "execution_count": 37,
      "outputs": [
        {
          "output_type": "execute_result",
          "data": {
            "text/plain": [
              "[(0.78659546, 'زهی بندگان را خداوندگار\\nخداوند را بندهٔ حق گزار'),\n",
              " (0.7836034, 'گناه آید از بندهٔ خاکسار\\nبه امید عفو خداوندگار'),\n",
              " (0.7790897, 'پس ای مرد پوینده بر راه راست\\nتو را نیست منت، خداوند راست'),\n",
              " (0.77556974, 'چو باز آمد از عیش و شادی به جای\\nمرا دید و گفت ای خداوند رای'),\n",
              " (0.7660403, 'پدر بعد از آن، روزگاری شمرد\\nبه جان آفرین جان شیرین سپرد'),\n",
              " (0.75382686, 'پس آن را که شخصم ز خاک آفرید\\nبه قدرت در او جان پاک آفرید'),\n",
              " (0.74856436,\n",
              "  'به نام خداوندِ جان\\u200cآفرین\\nحکیمِ سخن\\u200cدرزبان\\u200cآفرین'),\n",
              " (0.74346936, 'خداوند از آن بنده خرسند نیست\\nکه راضی به قسم خداوند نیست'),\n",
              " (0.733925, 'تو را نیست منت ز روی قیاس\\nخداوند را من و فضل و سپاس'),\n",
              " (0.73277295, 'خداوند بخشندهٔ دستگیر\\nکریم خطابخش پوزش\\u200cپذیر')]"
            ]
          },
          "metadata": {},
          "execution_count": 37
        }
      ]
    },
    {
      "cell_type": "markdown",
      "source": [
        "# Word Embedding"
      ],
      "metadata": {
        "id": "OzM4n6pznPyJ"
      }
    },
    {
      "cell_type": "markdown",
      "source": [
        "We'll use Word2Vec as our model for for Word Embedding:"
      ],
      "metadata": {
        "id": "lRoXjJXQ5GLp"
      }
    },
    {
      "cell_type": "code",
      "source": [
        "from gensim.models import Word2Vec"
      ],
      "metadata": {
        "id": "DfQxws4kNtzc"
      },
      "execution_count": 38,
      "outputs": []
    },
    {
      "cell_type": "code",
      "source": [
        "def get_all_words(document):\n",
        "    all_words = {}\n",
        "    for line in pre_process(document['poem'], remove_stopwords=True):\n",
        "        for w in line:\n",
        "            if w not in all_words:\n",
        "                all_words[w] = 0\n",
        "            all_words[w] += 1\n",
        "    return all_words"
      ],
      "metadata": {
        "id": "zD2X62_tN8QV"
      },
      "execution_count": 39,
      "outputs": []
    },
    {
      "cell_type": "code",
      "source": [
        "print(pre_process(boostan_data['poem']))"
      ],
      "metadata": {
        "id": "afxvqD91I017",
        "colab": {
          "base_uri": "https://localhost:8080/"
        },
        "outputId": "b823c251-b4a4-4519-bf15-658feb7c946b"
      },
      "execution_count": 40,
      "outputs": [
        {
          "output_type": "stream",
          "name": "stdout",
          "text": [
            "[['به', 'نام', 'خداوند', 'جان\\u200cآفرین', 'حکیم', 'سخن\\u200cدرزبان\\u200cآفرین'], ['خداوند', 'بخشنده', 'دستگیر', 'کریم', 'خطابخش', 'پوزش\\u200cپذیر'], ['عزیزی', 'که', 'هر', 'که', 'از', 'درش', 'سر', 'بتافت', 'به', 'هر', 'در', 'که', 'شد', 'هیچ', 'عزت', 'نیافت'], ['سر', 'پادشاهان', 'گردن\\u200cفراز', 'به', 'درگاه', 'او', 'بر', 'زمین', 'نیاز'], ['نه', 'گردن\\u200cکشان', 'را', 'بگیرد', 'به', 'فور', 'نه', 'عذرآوران', 'را', 'براند', 'به', 'جور'], ['وگر', 'خشم', 'گیرد', 'از', 'کردار', 'زشت', 'چون', 'بازآمدی', 'ماجرا', 'درنوشت'], ['اگر', 'با', 'پدر', 'جنگ', 'جوید', 'کسی', 'پدر', 'بی\\u200cگمان', 'خشم', 'گیرد', 'بسی'], ['وگر', 'خویش', 'راضی', 'نباشد', 'از', 'خویش', 'چون', 'بیگانگانش', 'براند', 'از', 'پیش'], ['وگر', 'بنده', 'چابک', 'نباشد', 'به', 'کار', 'عزیزش', 'ندارد', 'خداوندگار'], ['وگر', 'بر', 'رفیقان', 'نباشی', 'شفیق', 'به', 'فرسنگ', 'بگریزد', 'از', 'تو', 'رفیق'], ['وگر', 'ترک', 'خدمت', 'کند', 'لشکری', 'شود', 'شاه', 'لشکرکش', 'از', 'او', 'بری'], ['ولیکن', 'خداوند', 'بالا', 'و', 'پست', 'به', 'عصیان', 'در', 'رزق', 'بر', 'کس', 'نبست'], ['دو', 'کونش', 'یکی', 'قطره', 'از', 'بحر', 'علم', 'گنه', 'بیند', 'و', 'پرده', 'پوشد', 'به', 'حلم'], ['ادیم', 'زمین', 'سفره', 'عام', 'اوست', 'بر', 'این', 'خوان', 'یغما', 'چه', 'دشمن', 'چه', 'دوست'], ['اگر', 'بر', 'جفاپیشه', 'بشتافتی', 'که', 'از', 'دست', 'قهرش', 'امان', 'یافتی'], ['بری', 'ذاتش', 'از', 'تهمت', 'ضد', 'و', 'جنس', 'غنی', 'ملکش', 'از', 'طاعت', 'جن', 'و', 'انس'], ['پرستار', 'امرش', 'همه', 'چیز', 'و', 'کس', 'بنی\\u200cآدم', 'و', 'مرغ', 'و', 'مور', 'و', 'مگس'], ['چنان', 'پهن', 'خوان', 'کرم', 'گسترد', 'که', 'سیمرغ', 'در', 'قاف', 'قسمت', 'خورد'], ['لطیف', 'کرم\\u200cگستر', 'کارساز', 'که', 'دارای', 'خلق', 'است', 'و', 'دانای', 'راز'], ['مر', 'او', 'را', 'رسد', 'کبریا', 'و', 'منی', 'که', 'ملکش', 'قدیم', 'است', 'و', 'ذاتش', 'غنی'], ['یکی', 'را', 'به', 'سر', 'برنهد', 'تاج', 'بخت', 'یکی', 'را', 'به', 'خاک', 'در', 'آرد', 'از', 'تخت'], ['کلاه', 'سعادت', 'یکی', 'بر', 'سرش', 'گلیم', 'شقاوت', 'یکی', 'در', 'برش'], ['گلستان', 'کند', 'آتشی', 'بر', 'خلیل', 'گروهی', 'بر', 'آتش', 'برد', 'از', 'آب', 'نیل'], ['اگر', 'آن', 'است', 'منشور', 'احسان', 'اوست', 'ور', 'این', 'است', 'توقیع', 'فرمان', 'اوست'], ['پس', 'پرده', 'بیند', 'عمل\\u200cهای', 'بد', 'هم', 'او', 'پرده', 'پوشد', 'به', 'آلای', 'خود'], ['به', 'تهدید', 'اگر', 'برکشد', 'تیغ', 'حکم', 'بمانند', 'کروبیان', 'صم', 'و', 'بکم'], ['وگر', 'دردهد', 'یک', 'صلای', 'کرم', 'عزازیل', 'گوید', 'نصیبی', 'برم'], ['به', 'درگاه', 'لطف', 'و', 'بزرگیش', 'بر', 'بزرگان', 'نهاده', 'بزرگی', 'از', 'سر'], ['فروماندگان', 'را', 'به', 'رحمت', 'قریب', 'تضرع\\u200cکنان', 'را', 'به', 'دعوت', 'مجیب'], ['بر', 'احوال', 'نابوده', 'علمش', 'بصیر', 'به', 'اسرار', 'ناگفته', 'لطفش', 'خبیر'], ['به', 'قدرت', 'نگهدار', 'بالا', 'و', 'شیب', 'خداوند', 'دیوان', 'روز', 'حسیب'], ['نه', 'مستغنی', 'از', 'طاعتش', 'پشت', 'کس', 'نه', 'بر', 'حرف', 'او', 'جای', 'انگشت', 'کس'], ['قدیمی', 'نکوکار', 'نیکی\\u200cپسند', 'به', 'کلک', 'قضا', 'در', 'رحم', 'نقش\\u200cبند'], ['از', 'مشرق', 'به', 'مغرب', 'مه', 'و', 'آفتاب', 'روان', 'کرد', 'و', 'بنهاد', 'گیتی', 'بر', 'آب'], ['زمین', 'از', 'تب', 'لرزه', 'آمد', 'ستوه', 'فروکوفت', 'بر', 'دامنش', 'میخ', 'کوه'], ['دهد', 'نطفه', 'را', 'صورتی', 'چون', 'پری', 'که', 'کرده\\u200cست', 'بر', 'آب', 'صورتگری'], ['نهد', 'لعل', 'و', 'پیروزه', 'در', 'صلب', 'سنگ', 'گل', 'و', 'لعل', 'در', 'شاخ', 'پیروزه\\u200cرنگ'], ['از', 'ابر', 'افکند', 'قطره\\u200cای', 'سوی', 'یم', 'از', 'صلب', 'افکند', 'نطفه\\u200cای', 'در', 'شکم'], ['از', 'آن', 'قطره', 'لولوی', 'لالا', 'کند', 'وز', 'این', 'صورتی', 'سروبالا', 'کند'], ['بر', 'او', 'علم', 'یک', 'ذره', 'پوشیده', 'نیست', 'که', 'پیدا', 'و', 'پنهان', 'به', 'نزدش', 'یکی\\u200cست'], ['مهیاکن', 'روزی', 'مار', 'و', 'مور', 'اگر', 'چند', 'بی\\u200cدست\\u200cوپایند', 'و', 'زور'], ['به', 'امرش', 'وجود', 'از', 'عدم', 'نقش', 'بست', 'که', 'داند', 'جز', 'او', 'کردن', 'از', 'نیست', 'هست'], ['دیگر', 'راه', 'به', 'کتم', 'عدم', 'در', 'برد', 'وز', 'آنجا', 'به', 'صحرای', 'محشر', 'برد'], ['جهان', 'متفق', 'بر', 'الهیتش', 'فرومانده', 'از', 'کنه', 'ماهیتش'], ['بشر', 'ماورای', 'جلالش', 'نیافت', 'بصر', 'منتهای', 'جمالش', 'نیافت'], ['نه', 'بر', 'اوج', 'ذاتش', 'پرد', 'مرغ', 'وهم', 'نه', 'در', 'ذیل', 'وصفش', 'رسد', 'دست', 'فهم'], ['در', 'این', 'ورطه', 'کشتی', 'فروشد', 'هزار', 'که', 'پیدا', 'نشد', 'تخته\\u200cای', 'بر', 'کنار'], ['چه', 'شب\\u200cها', 'نشستم', 'در', 'این', 'سیر', 'گم', 'که', 'دهشت', 'گرفت', 'آستینم', 'که', 'قم'], ['محیط', 'است', 'علم', 'ملک', 'بر', 'بسیط', 'قیاس', 'تو', 'بر', 'او', 'نگردد', 'محیط'], ['نه', 'ادراک', 'در', 'کنه', 'ذاتش', 'رسید', 'نه', 'فکرت', 'به', 'غور', 'صفاتش', 'رسید'], ['توان', 'در', 'بلاغت', 'به', 'سحبان', 'رسید', 'نه', 'در', 'کنه', 'بی\\u200cچون', 'سبحان', 'رسید'], ['که', 'خاصان', 'در', 'این', 'راه', 'فرس', 'رانده\\u200cاند', 'به', 'لااحصیٖ', 'از', 'تک', 'فرومانده\\u200cاند'], ['نه', 'هر', 'جای', 'مرکب', 'توان', 'تاختن', 'که', 'جاها', 'سپر', 'باید', 'انداختن'], ['وگر', 'سالکی', 'محرم', 'راز', 'گشت', 'ببندند', 'بر', 'او', 'در', 'بازگشت'], ['کسی', 'را', 'در', 'این', 'بزم', 'ساغر', 'دهند', 'که', 'داروی', 'بیهوشی\\u200cاش', 'دردهند'], ['یکی', 'باز', 'را', 'دیده', 'بردوخته\\u200cست', 'یکی', 'دیده\\u200cها', 'باز', 'و', 'پر', 'سوخته\\u200cست'], ['کسی', 'راه', 'سوی', 'گنج', 'قارون', 'نبرد', 'وگر', 'برد', 'راه', 'باز', 'بیرون', 'نبرد'], ['بمردم', 'در', 'این', 'موج', 'دریای', 'خون', 'که', 'از', 'او', 'کس', 'نبرده\\u200cست', 'کشتی', 'برون'], ['اگر', 'طالبی', 'کاین', 'زمین', 'طی', 'کنی', 'نخست', 'اسب', 'بازآمدن', 'پی', 'کنی'], ['تأمل', 'در', 'آیینه', 'دل', 'کنی', 'صفایی', 'به\\u200cتدریج', 'حاصل', 'کنی'], ['مگر', 'بویی', 'از', 'عشق', 'مستت', 'کند', 'طلبکار', 'عهد', 'الستت', 'کند'], ['به', 'پا', 'طلب', 'راه', 'بدان', 'جا', 'بری', 'وز', 'آنجا', 'به', 'بال', 'محبت', 'پری'], ['بدرد', 'یقین', 'پرده\\u200cهای', 'خیال', 'نماند', 'سراپرده', 'الا', 'جلال'], ['دیگر', 'مرکب', 'عقل', 'را', 'پویه', 'نیست', 'عنانش', 'بگیرد', 'تحیر', 'که', 'بیست'], ['در', 'این', 'بحر', 'جز', 'مرد', 'راعی', 'نرفت', 'گم', 'آن', 'شد', 'که', 'دنبال', 'داعی', 'نرفت'], ['کسانی', 'که', 'از', 'این', 'راه', 'برگشته\\u200cاند', 'برفتند', 'بسیار', 'و', 'سرگشته\\u200cاند'], ['خلاف', 'پیمبر', 'کسی', 'راه', 'گزید', 'که', 'هرگز', 'به', 'منزل', 'نخواهد_رسید'], ['مپندار', 'سعدی', 'که', 'راه', 'صفا', 'توان', 'رفت', 'جز', 'بر', 'پی', 'مصطفی'], ['کریم', 'السجایا', 'جمیل', 'الشیم', 'نبی', 'البرایا', 'شفیع', 'الامم'], ['امام', 'رسل', 'پیشوای', 'سبیل', 'امین', 'خدا', 'مهبط', 'جبرئیل'], ['شفیع', 'الوری', 'خواجه', 'بعث', 'و', 'نشر', 'امام', 'الهدی', 'صدر', 'دیوان', 'حشر'], ['کلیمی', 'که', 'چرخ', 'فلک', 'طور', 'اوست', 'همه', 'نورها', 'پرتو', 'نور', 'اوست'], ['شفیع', 'مطاع', 'نبی', 'کریم', 'قسیم', 'جسیم', 'نسیم', 'وسیم'], ['یتیمی', 'که', 'ناکرده', 'قرآن', 'درست', 'کتب', 'خانه', 'چند', 'ملت', 'بشست'], ['چون', 'عزمش', 'برآهخت', 'شمشیر', 'بیم', 'به', 'معجز', 'میان', 'قمر', 'زد', 'دو', 'نیم'], ['چون', 'صیتش', 'در', 'افواه', 'دنیا', 'فتاد', 'تزلزل', 'در', 'ایوان', 'کسری', 'فتاد'], ['به', 'لا', 'قامت', 'لات', 'بشکست', 'خرد', 'به', 'اعزاز', 'دین', 'آب', 'عزی', 'ببرد'], ['نه', 'از', 'لات', 'و', 'عزی', 'برآورد', 'گرد', 'که', 'تورات', 'و', 'انجیل', 'منسوخ', 'کرد'], ['شبی', 'بر', 'نشست', 'از', 'فلک', 'برگذشت', 'به', 'تمکین', 'و', 'جاه', 'از', 'ملک', 'درگذشت'], ['چنان', 'گرم', 'در', 'تیه', 'قربت', 'براند', 'که', 'بر', 'سدره', 'جبریل', 'از', 'او', 'بازماند'], ['بدو', 'گفت', 'سالار', 'بیت\\u200cالحرام', 'که\\u200cای', 'حامل', 'وحی', 'برتر', 'خرام'], ['چون', 'در', 'دوستی', 'مخلصم', 'یافتی', 'عنانم', 'از', 'صحبت', 'چرا', 'تافتی'], ['بگفتا', 'فراتر', 'مجالم', 'نماند', 'بماندم', 'که', 'نیروی', 'بالم', 'نماند'], ['اگر', 'یک', 'سر', 'موی', 'برتر', 'پرم', 'فروغ', 'تجلی', 'بسوزد', 'پرم'], ['نماند', 'به', 'عصیان', 'کسی', 'در', 'گرو', 'که', 'دارد', 'چنین', 'سیدی', 'پیشرو'], ['چه', 'نعت', 'پسندیده', 'گویم', 'تو', 'را', 'علیک', 'السلام', 'ای', 'نبی', 'الوری'], ['درود', 'ملک', 'بر', 'روان', 'تو', 'باد', 'بر', 'اصحاب', 'و', 'بر', 'پیروان', 'تو', 'باد'], ['نخستین', 'ابوبکر', 'پیر', 'مرید', 'عمر', 'پنجه', 'بر', 'پیچ', 'دیو', 'مرید'], ['خردمند', 'عثمان', 'شب', 'زنده\\u200cدار', 'چهارم', 'علی', 'شاه', 'دلدل', 'سوار'], ['خدایا', 'به', 'حق', 'بنی', 'فاطمه', 'که', 'بر', 'قولم', 'ایمان', 'کنم', 'خاتمه'], ['اگر', 'دعوتم', 'رد', 'کنی', 'ور', 'قبول', 'من', 'و', 'دست', 'و', 'دامان', 'آل', 'رسول'], ['چه', 'کم', 'گردد', 'ای', 'صدر', 'فرخنده', 'پی', 'از', 'قدر', 'رفیعت', 'به', 'درگاه', 'حی'], ['که', 'باشند', 'مشتی', 'گدایان', 'خیل', 'به', 'مهمان', 'دارالسلامت', 'طفیل'], ['خدایت', 'ثنا', 'گفت', 'و', 'تبجیل', 'کرد', 'زمین', 'بوس', 'قدر', 'تو', 'جبریل', 'کرد'], ['بلند', 'آسمان', 'پیش', 'قدرت', 'خجل', 'تو', 'مخلوق', 'و', 'آدم', 'هنوز', 'آب', 'و', 'گل'], ['تو', 'اصل', 'وجود', 'آمدی', 'از', 'نخست', 'دیگر', 'هرچه', 'موجود', 'شد', 'فرع', 'توست'], ['ندانم', 'کدامین', 'سخن', 'گویمت', 'که', 'والاتری', 'زانچه', 'من', 'گویمت'], ['تو', 'را', 'عز', 'لولاک', 'تمکین', 'بس', 'است', 'ثنای', 'تو', 'طه', 'و', 'یس', 'بس', 'است'], ['چه', 'وصفت', 'کند', 'سعدی', 'ناتمام', 'علیک', 'الصلوة', 'ای', 'نبی', 'السلام'], ['در', 'اقصای', 'عالم', 'بگشتم', 'بسی', 'به', 'سر', 'بردم', 'ایام', 'با', 'هر', 'کسی'], ['تمتع', 'به', 'هر', 'گوشه\\u200cای', 'یافتم', 'از', 'هر', 'خرمنی', 'خوشه\\u200cای', 'یافتم'], ['چون', 'پاکان', 'شیراز', 'خاکی', 'نهاد', 'ندیدم', 'که', 'رحمت', 'بر', 'این', 'خاک', 'باد'], ['تولای', 'مردان', 'این', 'پاک', 'بوم', 'برانگیختم', 'خاطر', 'از', 'شام', 'و', 'روم'], ['دریغ', 'آمدم', 'زآن', 'همه', 'بوستان', 'تهیدست', 'رفتن', 'سوی', 'دوستان'], ['به', 'دل', 'گفتم', 'از', 'مصر', 'قند', 'آورند', 'بر', 'دوستان', 'ارمغانی', 'برند'], ['مرا\\u200cگر', 'تهی', 'بود', 'از', 'آن', 'قند', 'دست', 'سخنهای', 'شیرین\\u200cتر', 'از', 'قند', 'هست'], ['نه', 'قندی', 'که', 'مردم', 'به', 'صورت', 'خورند', 'که', 'ارباب', 'معنی', 'به', 'کاغذ', 'برند'], ['چون', 'این', 'کاخ', 'دولت', 'بپرداختم', 'بر', 'او', 'ده', 'در', 'از', 'تربیت', 'ساختم'], ['یکی', 'باب', 'عدل', 'است', 'و', 'تدبیر', 'و', 'رای', 'نگهبانی', 'خلق', 'و', 'ترس', 'خدای'], ['دوم', 'باب', 'احسان', 'نهادم', 'اساس', 'که', 'منعم', 'کند', 'فضل', 'حق', 'را', 'سپاس'], ['سوم', 'باب', 'عشق', 'است', 'و', 'مستی', 'و', 'شور', 'نه', 'عشقی', 'که', 'بندند', 'بر', 'خود', 'بزور'], ['چهارم', 'تواضع', 'رضا', 'پنجمین', 'ششم', 'ذکر', 'مرد', 'قناعت', 'گزین'], ['به', 'هفتم', 'در', 'از', 'عالم', 'تربیت', 'به', 'هشتم', 'در', 'از', 'شکر', 'بر', 'عافیت'], ['نهم', 'باب', 'توبه', 'است', 'و', 'راه', 'صواب', 'دهم', 'در', 'مناجات', 'و', 'ختم', 'کتاب'], ['به', 'روز', 'همایون', 'و', 'سال', 'سعید', 'به', 'تاریخ', 'فرخ', 'میان', 'دو', 'عید'], ['از', 'ششصد', 'فزون', 'بود', 'پنجاه', 'و', 'پنج', 'که', 'پر', 'در', 'شد', 'این', 'نامبردار', 'گنج'], ['بمانده\\u200cست', 'با', 'دامنی', 'گوهرم', 'هنوز', 'از', 'خجالت', 'به', 'زانو', 'برم'], ['که', 'در', 'بحر', 'لؤلؤ', 'صدف', 'نیز', 'هست', 'درخت', 'بلند', 'است', 'در', 'باغ', 'و', 'پست'], ['الا', 'ای', 'خردمند', 'پاکیزه', 'خوی', 'خردمند', 'نشنیده\\u200cام', 'عیب', 'جوی'], ['قبا\\u200cگر', 'حریر', 'است', 'و', 'اگر', 'پرنیان', 'به', 'ناچار', 'حشوش', 'بود', 'در', 'میان'], ['تو\\u200cگر', 'پرنیانی', 'نیابی', 'مجوش', 'کرم', 'کار', 'فرما', 'و', 'حشوش', 'بپوش'], ['ننازم', 'به', 'سرمایه', 'فضل', 'خویش', 'به', 'دریوزه', 'آورده\\u200cام', 'دست', 'پیش'], ['شنیدم', 'که', 'در', 'روز', 'امید', 'و', 'بیم', 'بدان', 'را', 'به', 'نیکان', 'ببخشد', 'کریم'], ['تو', 'نیز', 'اگر', 'بدی', 'بینیم', 'در', 'سخن', 'به', 'خلق', 'جهان', 'آفرین', 'کار', 'کن'], ['چون', 'بیتی', 'پسند', 'آیدت', 'از', 'هزار', 'به', 'مردی', 'که', 'دست', 'از', 'تعنت', 'بدار'], ['همانا', 'که', 'در', 'فارس', 'انشای', 'من', 'چون', 'مشک', 'است', 'بی', 'قیمت', 'در', 'ختن'], ['چون', 'بانگ', 'دهل', 'هولم', 'از', 'دور', 'بود', 'به', 'غیبت', 'درم', 'عیب', 'مستور', 'بود'], ['گل', 'آورد', 'سعدی', 'سوی', 'بوستان', 'به', 'شوخی', 'و', 'فلفل', 'به', 'هندوستان'], ['چون', 'خرما', 'به', 'شیرینی', 'اندوده', 'پوست', 'چون', 'بازش', 'کنی', 'استخوانی', 'در', 'اوست'], ['من', 'را', 'طبع', 'از', 'این', 'نوع', 'خواهان', 'نبود', 'سر', 'مدحت', 'پادشاهان', 'نبود'], ['ولی', 'نظم', 'کردم', 'به', 'نام', 'فلان', 'مگر', 'باز', 'گویند', 'صاحبدلان'], ['که', 'سعدی', 'که', 'گوی', 'بلاغت', 'ربود', 'در', 'ایام', 'بوبکر', 'بن', 'سعد', 'بود'], ['سزد\\u200cگر', 'به', 'دورش', 'بنازم', 'چنان', 'که', 'سید', 'به', 'دوران', 'نوشیروان'], ['جهانبان', 'دین', 'پرور', 'دادگر', 'نیامد', 'چون', 'بوبکر', 'بعد', 'از', 'عمر'], ['سر', 'سرفرازان', 'و', 'تاج', 'مهان', 'به', 'دوران', 'عدلش', 'بناز', 'ای', 'جهان'], ['اگر', 'از', 'فتنه', 'آید', 'کسی', 'در', 'پناه', 'ندارد', 'جز', 'این', 'کشور', 'آرامگاه'], ['فطوبی', 'لباب', 'کبیت', 'العتیق', 'حوالیه', 'من', 'کل', 'فج', 'عمیق'], ['ندیدم', 'چنین', 'گنج', 'و', 'ملک', 'و', 'سریر', 'که', 'وقف', 'است', 'بر', 'طفل', 'و', 'درویش', 'و', 'پیر'], ['نیامد', 'برش', 'دردناک', 'غمی', 'که', 'ننهاد', 'بر', 'خاطرش', 'مرهمی'], ['طلبکار', 'خیر', 'است', 'امیدوار', 'خدایا', 'امیدی', 'که', 'دارد', 'برآر'], ['کله', 'گوشه', 'بر', 'آسمان', 'برین', 'هنوز', 'از', 'تواضع', 'سرش', 'بر', 'زمین'], ['گدا\\u200cگر', 'تواضع', 'کند', 'خوی', 'اوست', 'از', 'گردن', 'فرازان', 'تواضع', 'نکوست'], ['اگر', 'زیردستی', 'بیفتد', 'چه', 'خاست', 'زبردست', 'افتاده', 'مرد', 'خداست'], ['نه', 'ذکر', 'جمیلش', 'نهان', 'می\\u200cرود', 'که', 'صیت', 'کرم', 'در', 'جهان', 'می\\u200cرود'], ['چنویی', 'خردمند', 'فرخ', 'نژاد', 'ندارد', 'جهان', 'تا', 'جهان', 'است', 'یاد'], ['نبینی', 'در', 'ایام', 'او', 'رنجه\\u200cای', 'که', 'نالد', 'از', 'بیداد', 'سرپنجه\\u200cای'], ['کس', 'این', 'رسم', 'و', 'ترتیب', 'و', 'آیین', 'ندید', 'فریدون', 'با', 'آن', 'شکوه', 'این', 'ندید'], ['از', 'آن', 'پیش', 'حق', 'پایگاهش', 'قوی', 'است', 'که', 'دست', 'ضعیفان', 'به', 'جاهش', 'قوی', 'است'], ['چنان', 'سایه', 'گسترده', 'بر', 'عالمی', 'که', 'زالی', 'نیندیشد', 'از', 'رستمی'], ['همه', 'وقت', 'مردم', 'از', 'جور', 'زمان', 'بنالند', 'و', 'از', 'گردش', 'آسمان'], ['در', 'ایام', 'عدل', 'تو', 'ای', 'شهریار', 'ندارد', 'شکایت', 'کس', 'از', 'روزگار'], ['به', 'عهد', 'تو', 'می\\u200cبینم', 'آرام', 'خلق', 'پس', 'از', 'تو', 'ندانم', 'سرانجام', 'خلق'], ['هم', 'از', 'بخت', 'فرخنده', 'فرجام', 'توست', 'که', 'تاریخ', 'سعدی', 'در', 'ایام', 'توست'], ['که', 'تا', 'بر', 'فلک', 'ماه', 'و', 'خورشید', 'هست', 'در', 'این', 'دفترت', 'ذکر', 'جاوید', 'هست'], ['ملوک', 'اگر', 'نکو', 'نامی', 'اندوختند', 'از', 'پیشینگان', 'سیرت', 'آموختند'], ['تو', 'در', 'سیرت', 'پادشاهی', 'خویش', 'سبق', 'بردی', 'از', 'پادشاهان', 'پیش'], ['سکندر', 'به', 'دیوار', 'رویین', 'و', 'سنگ', 'بکرد', 'از', 'جهان', 'راه', 'یأجوج', 'تنگ'], ['تو', 'را', 'سد', 'یأجوج', 'کفر', 'از', 'زر', 'است', 'نه', 'رویین', 'چون', 'دیوار', 'اسکندر', 'است'], ['زبان', 'آوری', 'کاندر', 'این', 'امن', 'و', 'داد', 'سپاست', 'نگوید', 'زبانش', 'مباد'], ['زهی', 'بحر', 'بخشایش', 'و', 'کان', 'جود', 'که', 'مستظهرند', 'از', 'وجودت', 'وجود'], ['برون', 'بینم', 'اوصاف', 'شاه', 'از', 'حساب', 'نگنجد', 'در', 'این', 'تنگ', 'میدان', 'کتاب'], ['اگر', 'آن', 'جمله', 'را', 'سعدی', 'انشا', 'کند', 'مگر', 'دفتری', 'دیگر', 'املا', 'کند'], ['فروماندم', 'از', 'شکر', 'چندین', 'کرم', 'همان', 'به', 'که', 'دست', 'دعا', 'گسترم'], ['جهانت', 'به', 'کام', 'و', 'فلک', 'یار', 'باد', 'جهان', 'آفرینت', 'نگهدار', 'باد'], ['بلند', 'اخترت', 'عالم', 'افروخته', 'زوال', 'اختر', 'دشمنت', 'سوخته'], ['غم', 'از', 'گردش', 'روزگارت', 'مباد', 'وز', 'اندیشه', 'بر', 'دل', 'غبارت', 'مباد'], ['که', 'بر', 'خاطر', 'پادشاهان', 'غمی', 'پریشان', 'کند', 'خاطر', 'عالمی'], ['دل', 'و', 'کشورت', 'جمع', 'و', 'معمور', 'باد', 'از', 'ملکت', 'پراکندگی', 'دور', 'باد'], ['تنت', 'باد', 'پیوسته', 'چون', 'دین', 'درست', 'بداندیش', 'را', 'دل', 'چون', 'تدبیر', 'سست'], ['درونت', 'به', 'تأیید', 'حق', 'شاد', 'باد', 'دل', 'و', 'دین', 'و', 'اقلیمت', 'آباد', 'باد'], ['جهان', 'آفرین', 'بر', 'تو', 'رحمت', 'کناد', 'دیگر', 'هرچه', 'گویم', 'فسانه\\u200cست', 'و', 'باد'], ['همینت', 'بس', 'از', 'کردگار', 'مجید', 'که', 'توفیق', 'خیرت', 'بود', 'بر', 'مزید'], ['نرفت', 'از', 'جهان', 'سعد', 'زنگی', 'به', 'درد', 'که', 'چون', 'تو', 'خلف', 'نامبردار', 'کرد'], ['عجب', 'نیست', 'این', 'فرع', 'از', 'آن', 'اصل', 'پاک', 'که', 'جانش', 'بر', 'اوج', 'است', 'و', 'جسمش', 'به', 'خاک'], ['خدایا', 'بر', 'آن', 'تربت', 'نامدار', 'به', 'فضلت', 'که', 'باران', 'رحمت', 'ببار'], ['اگر', 'از', 'سعد', 'زنگی', 'مثل', 'ماند', 'یاد', 'فلک', 'یاور', 'سعد', 'بوبکر', 'باد'], ['اتابک', 'محمد', 'شه', 'نیکبخت', 'خداوند', 'تاج', 'و', 'خداوند', 'تخت'], ['جوان', 'جوان\\u200cبخت', 'روشن\\u200cضمیر', 'به', 'دولت', 'جوان', 'و', 'به', 'تدبیر', 'پیر'], ['به', 'دانش', 'بزرگ', 'و', 'به', 'همت', 'بلند', 'به', 'بازو', 'دلیر', 'و', 'به', 'دل', 'هوشمند'], ['زهی', 'دولت', 'مادر', 'روزگار', 'که', 'رودی', 'چنین', 'پرورد', 'در', 'کنار'], ['به', 'دست', 'کرم', 'آب', 'دریا', 'ببرد', 'به', 'رفعت', 'محل', 'ثریا', 'ببرد'], ['زهی', 'چشم', 'دولت', 'به', 'روی', 'تو', 'باز', 'سر', 'شهریاران', 'گردن', 'فراز'], ['صدف', 'را', 'که', 'بینی', 'از', 'دردانه', 'پر', 'نه', 'آن', 'قدر', 'دارد', 'که', 'یکدانه', 'در'], ['تو', 'آن', 'در', 'مکنون', 'یکدانه\\u200cای', 'که', 'پیرایه', 'سلطنت', 'خانه\\u200cای'], ['نگه', 'دار', 'یارب', 'به', 'چشم', 'خودش', 'بپرهیز', 'از', 'آسیب', 'چشم', 'بدش'], ['خدایا', 'در', 'آفاق', 'نامی', 'کنش', 'به', 'توفیق', 'طاعت', 'گرامی', 'کنش'], ['مقیمش', 'در', 'انصاف', 'و', 'تقوی', 'بدار', 'مرادش', 'به', 'دنیا', 'و', 'عقبی', 'برآر'], ['غم', 'از', 'دشمن', 'ناپسندش', 'مباد', 'وز', 'اندیشه', 'بر', 'دل', 'گزندش', 'مباد'], ['بهشتی', 'درخت', 'آورد', 'چون', 'تو', 'بار', 'پسر', 'نامجوی', 'و', 'پدر', 'نامدار'], ['از', 'آن', 'خاندان', 'خیر', 'بیگانه', 'دان', 'که', 'باشند', 'بدخواه', 'این', 'خاندان'], ['زهی', 'دین', 'و', 'دانش', 'زهی', 'عدل', 'و', 'داد', 'زهی', 'ملک', 'و', 'دولت', 'که', 'پاینده', 'باد'], ['نگنجد', 'کرمهای', 'حق', 'در', 'قیاس', 'چه', 'خدمت', 'گزارد', 'زبان', 'سپاس'], ['خدایا', 'تو', 'این', 'شاه', 'درویش', 'دوست', 'که', 'آسایش', 'خلق', 'در', 'ظل', 'اوست'], ['بسی', 'بر', 'سر', 'خلق', 'پاینده', 'دار', 'به', 'توفیق', 'طاعت', 'دلش', 'زنده', 'دار'], ['برومند', 'دارش', 'درخت', 'امید', 'سرش', 'سبز', 'و', 'رویش', 'به', 'رحمت', 'سفید'], ['به', 'راه', 'تکلف', 'مرو', 'سعدیا', 'اگر', 'صدق', 'داری', 'بیار', 'و', 'بیا'], ['تو', 'منزل', 'شناسی', 'و', 'شه', 'راهرو', 'تو', 'حقگوی', 'و', 'خسرو', 'حقایق', 'شنو'], ['چه', 'حاجت', 'که', 'نه', 'کرسی', 'آسمان', 'نهی', 'زیر', 'پا', 'قزل', 'ارسلان'], ['مگو', 'پا', 'عزت', 'بر', 'افلاک', 'نه', 'بگو', 'روی', 'اخلاص', 'بر', 'خاک', 'نه'], ['بطاعت', 'بنه', 'چهره', 'بر', 'آستان', 'که', 'این', 'است', 'سر', 'جاده', 'راستان'], ['اگر', 'بنده\\u200cای', 'سر', 'بر', 'این', 'در', 'بنه', 'کلاه', 'خداوندی', 'از', 'سر', 'بنه'], ['به', 'درگاه', 'فرمانده', 'ذوالجلال', 'چون', 'درویش', 'پیش', 'توانگر', 'بنال'], ['چون', 'طاعت', 'کنی', 'لبس', 'شاهی', 'مپوش', 'چون', 'درویش', 'مخلص', 'برآور', 'خروش'], ['که', 'پروردگارا', 'توانگر', 'تویی', 'توانا', 'و', 'درویش', 'پرور', 'تویی'], ['نه', 'کشور', 'خدایم', 'نه', 'فرماندهم', 'یکی', 'از', 'گدایان', 'این', 'درگهم'], ['تو', 'بر', 'خیر', 'و', 'نیکی', 'دهم', 'دسترس', 'وگر', 'نه', 'چه', 'خیر', 'آید', 'از', 'من', 'به', 'کس'], ['دعا', 'کن', 'به', 'شب', 'چون', 'گدایان', 'به', 'سوز', 'اگر', 'می\\u200cکنی', 'پادشاهی', 'به', 'روز'], ['کمر', 'بسته', 'گردن', 'کشان', 'بر', 'درت', 'تو', 'بر', 'آستان', 'عبادت', 'سرت'], ['زهی', 'بندگان', 'را', 'خداوندگار', 'خداوند', 'را', 'بنده', 'حق', 'گزار'], ['حکایت', 'کنند', 'از', 'بزرگان', 'دین', 'حقیقت', 'شناسان', 'عین', 'الیقین'], ['که', 'صاحبدلی', 'بر', 'پلنگی', 'نشست', 'همی', 'راند', 'رهوار', 'و', 'ماری', 'به', 'دست'], ['یکی', 'گفتش', 'ای', 'مرد', 'راه', 'خدای', 'بدین', 'راه', 'که', 'رفتی', 'من', 'را', 'راه', 'نمای'], ['چه', 'کردی', 'که', 'درنده', 'رام', 'تو', 'شد', 'نگین', 'سعادت', 'به', 'نام', 'تو', 'شد'], ['بگفت', 'اگر', 'پلنگم', 'زبون', 'است', 'و', 'مار', 'وگر', 'پیل', 'و', 'کرکس', 'شگفتی', 'مدار'], ['تو', 'هم', 'گردن', 'از', 'حکم', 'داور', 'مپیچ', 'که', 'گردن', 'نپیچد', 'از', 'حکم', 'تو', 'هیچ'], ['چون', 'حاکم', 'به', 'فرمان', 'داور', 'بود', 'خدایش', 'نگهبان', 'و', 'یاور', 'بود'], ['محال', 'است', 'چون', 'دوست', 'دارد', 'تو', 'را', 'که', 'در', 'دست', 'دشمن', 'گذارد', 'تو', 'را'], ['راه', 'این', 'است', 'روی', 'از', 'طریقت', 'متاب', 'بنه', 'گام', 'و', 'کامی', 'که', 'داری', 'بیاب'], ['نصیحت', 'کسی', 'سودمند', 'آیدش', 'که', 'گفتار', 'سعدی', 'پسند', 'آیدش'], ['شنیدم', 'که', 'در', 'وقت', 'نزع', 'روان', 'به', 'هرمز', 'چنین', 'گفت', 'نوشیروان'], ['که', 'خاطر', 'نگهدار', 'درویش', 'باش', 'نه', 'در', 'بند', 'آسایش', 'خویش', 'باش'], ['نیاساید', 'در', 'دیار', 'تو', 'کس', 'چون', 'آسایش', 'خویش', 'جویی', 'و', 'بس'], ['نیاید', 'به', 'نزدیک', 'دانا', 'پسند', 'شبان', 'خفته', 'و', 'گرگ', 'در', 'گوسفند'], ['برو', 'پاس', 'درویش', 'محتاج', 'دار', 'که', 'شاه', 'از', 'رعیت', 'بود', 'تاجدار'], ['رعیت', 'چون', 'بیخند', 'و', 'سلطان', 'درخت', 'درخت', 'ای', 'پسر', 'باشد', 'از', 'بیخ', 'سخت'], ['مکن', 'تا', 'توانی', 'دل', 'خلق', 'ریش', 'وگر', 'می\\u200cکنی', 'می\\u200cکنی', 'بیخ', 'خویش'], ['اگر', 'جاده\\u200cای', 'بایدت', 'مستقیم', 'راه', 'پارسایان', 'امید', 'است', 'و', 'بیم'], ['طبیعت', 'شود', 'مرد', 'را', 'بخردی', 'به', 'امید', 'نیکی', 'و', 'بیم', 'بدی'], ['اگر', 'این', 'هر', 'دو', 'در', 'پادشه', 'یافتی', 'در', 'اقلیم', 'و', 'ملکش', 'پنه', 'یافتی'], ['که', 'بخشایش', 'آرد', 'بر', 'امیدوار', 'به', 'امید', 'بخشایش', 'کردگار'], ['گزند', 'کسانش', 'نیاید', 'پسند', 'که', 'ترسد', 'که', 'در', 'ملکش', 'آید', 'گزند'], ['وگر', 'در', 'سرشت', 'او', 'این', 'خوی', 'نیست', 'در', 'آن', 'کشور', 'آسودگی', 'بوی', 'نیست'], ['اگر', 'پا', 'بندی', 'رضا', 'پیش', 'گیر', 'وگر', 'یک', 'سواری', 'سر', 'خویش', 'گیر'], ['فراخی', 'در', 'آن', 'مرز', 'و', 'کشور', 'مخواه', 'که', 'دلتنگ', 'بینی', 'رعیت', 'از', 'شاه'], ['از', 'مستکبران', 'دلاور', 'بترس', 'از', 'آن', 'کاو', 'نترسد', 'از', 'داور', 'بترس'], ['دیگر', 'کشور', 'آباد', 'بیند', 'به', 'خواب', 'که', 'دارد', 'دل', 'اهل', 'کشور', 'خراب'], ['خرابی', 'و', 'بدنامی', 'آید', 'از', 'جور', 'رسد', 'پیش', 'بین', 'این', 'سخن', 'را', 'به', 'غور'], ['رعیت', 'نشاید', 'به', 'بیداد', 'کشت', 'که', 'مر', 'سلطنت', 'را', 'پناهند', 'و', 'پشت'], ['مراعات', 'دهقان', 'کن', 'از', 'بهر', 'خویش', 'که', 'مزدور', 'خوشدل', 'کند', 'کار', 'بیش'], ['مروت', 'نباشد', 'بدی', 'با', 'کسی', 'که', 'از', 'او', 'نیکویی', 'دیده_باشی', 'بسی'], ['شنیدم', 'که', 'خسرو', 'به', 'شیرویه', 'گفت', 'در', 'آن', 'دم', 'که', 'چشمش', 'زدیدن', 'بخفت'], ['بر', 'آن', 'باش', 'تا', 'هرچه', 'نیت', 'کنی', 'نظر', 'در', 'صلاح', 'رعیت', 'کنی'], ['الا', 'تا', 'نپیچی', 'سر', 'از', 'عدل', 'و', 'رای', 'که', 'مردم', 'از', 'دستت', 'نپیچند', 'پا'], ['گریزد', 'رعیت', 'از', 'بیدادگر', 'کند', 'نام', 'زشتش', 'به', 'گیتی', 'سمر'], ['بسی', 'بر', 'نیاید', 'که', 'بنیاد', 'خود', 'بکند', 'آن', 'که', 'بنهاد', 'بنیاد', 'بد'], ['خرابی', 'کند', 'مرد', 'شمشیر', 'زن', 'نه', 'چندان', 'که', 'دود', 'دل', 'طفل', 'و', 'زن'], ['چراغی', 'که', 'بیوه', 'زنی', 'برفروخت', 'بسی', 'دیده_باشی', 'که', 'شهری', 'بسوخت'], ['از', 'آن', 'بهره\\u200cورتر', 'در', 'آفاق', 'کیست', 'که', 'در', 'ملکرانی', 'به', 'انصاف', 'زیست'], ['چون', 'نوبت', 'رسد', 'زین', 'جهان', 'غربتش', 'ترحم', 'فرستند', 'بر', 'تربتش'], ['بد', 'و', 'نیک', 'مردم', 'چون', 'می\\u200cبگذرند', 'همان', 'به', 'که', 'نامت', 'به', 'نیکی', 'برند'], ['خداترس', 'را', 'بر', 'رعیت', 'گمار', 'که', 'معمار', 'ملک', 'است', 'پرهیزگار'], ['بد', 'اندیش', 'توست', 'آن', 'و', 'خونخوار', 'خلق', 'که', 'نفع', 'تو', 'جوید', 'در', 'آزار', 'خلق'], ['ریاست', 'به', 'دست', 'کسانی', 'خطاست', 'که', 'از', 'دستشان', 'دستها', 'برخداست'], ['نکوکارپرور', 'نبیند', 'بدی', 'چون', 'بد', 'پروری', 'خصم', 'خون', 'خودی'], ['مکافات', 'موذی', 'به', 'مالش', 'مکن', 'که', 'بیخش', 'برآورد', 'باید', 'از', 'بن'], ['مکن', 'صبر', 'بر', 'عامل', 'ظلم', 'دوست', 'که', 'از', 'فربهی', 'بایدش', 'کند', 'پوست'], ['سر', 'گرگ', 'باید', 'هم', 'اول', 'برید', 'نه', 'چون', 'گوسفندان', 'مردم', 'درید'], ['چه', 'خوش', 'گفت', 'بازارگانی', 'اسیر', 'چون', 'گردش', 'گرفتند', 'دزدان', 'به', 'تیر'], ['چون', 'مردانگی', 'آید', 'از', 'رهزنان', 'چه', 'مردان', 'لشکر', 'چه', 'خیل', 'زنان'], ['شهنشه', 'که', 'بازارگان', 'را', 'بخست', 'در', 'خیر', 'بر', 'شهر', 'و', 'لشکر', 'ببست'], ['کی', 'آن', 'جا', 'دیگر', 'هوشمندان', 'روند', 'چون', 'آوازه', 'رسم', 'بد', 'بشنوند'], ['نکو', 'بایدت', 'نام', 'و', 'نیکی', 'قبول', 'نکو', 'دار', 'بازارگان', 'و', 'رسول'], ['بزرگان', 'مسافر', 'به', 'جان', 'پرورند', 'که', 'نام', 'نکویی', 'به', 'عالم', 'برند'], ['تبه', 'گردد', 'آن', 'مملکت', 'عن', 'قریب', 'که', 'از', 'او', 'خاطر', 'آزرده', 'آید', 'غریب'], ['غریب', 'آشنا', 'باش', 'و', 'سیاح', 'دوست', 'که', 'سیاح', 'جلاب', 'نام', 'نکوست'], ['نکو', 'دار', 'ضیف', 'و', 'مسافر', 'عزیز', 'وز', 'آسیبشان', 'بر', 'حذر', 'باش', 'نیز'], ['از', 'بیگانه', 'پرهیز', 'کردن', 'نکوست', 'که', 'دشمن', 'توان', 'بود', 'در', 'زی', 'دوست'], ['غریبی', 'که', 'پر', 'فتنه', 'باشد', 'سرش', 'میازار', 'و', 'بیرون', 'کن', 'از', 'کشورش'], ['تو\\u200cگر', 'خشم', 'بر', 'او', 'نگیری', 'رواست', 'که', 'خود', 'خوی', 'بد', 'دشمنش', 'در', 'قفاست'], ['وگر', 'پارسی', 'باشدش', 'زاد', 'و', 'بوم', 'به', 'صنعاش', 'مفرست', 'و', 'سقلاب', 'و', 'روم'], ['هم', 'آن', 'جا', 'امانش', 'مده', 'تا', 'به', 'چاشت', 'نشاید', 'بلا', 'بر', 'دیگر', 'کس', 'گماشت'], ['که', 'گویند', 'برگشته', 'باد', 'آن', 'زمین', 'که', 'از', 'او', 'مردم', 'آیند', 'بیرون', 'چنین'], ['قدیمان', 'خود', 'را', 'بیفزای', 'قدر', 'که', 'هرگز', 'نیاید', 'از', 'پرورده', 'غدر'], ['چون', 'خدمتگزاریت', 'گردد', 'کهن', 'حق', 'سالیانش', 'فرامش', 'مکن'], ['اگر', 'او', 'را', 'هرم', 'دست', 'خدمت', 'ببست', 'تو', 'را', 'بر', 'کرم', 'همچنان', 'دست', 'هست'], ['شنیدم', 'که', 'شاپور', 'دم', 'در', 'کشید', 'چون', 'خسرو', 'به', 'رسمش', 'قلم', 'در', 'کشید'], ['چون', 'شد', 'حالش', 'از', 'بینوایی', 'تباه', 'نبشت', 'این', 'حکایت', 'به', 'نزدیک', 'شاه'], ['چون', 'بذل', 'تو', 'کردم', 'جوانی', 'خویش', 'به', 'هنگام', 'پیری', 'مرانم', 'از', 'پیش'], ['عمل\\u200cگر', 'دهی', 'مرد', 'منعم', 'شناس', 'که', 'مفلس', 'ندارد', 'از', 'سلطان', 'هراس'], ['چون', 'مفلس', 'فرو', 'برد', 'گردن', 'به', 'دوش', 'از', 'او', 'بر', 'نیاید', 'دیگر', 'جز', 'خروش'], ['چون', 'مشرف', 'دو', 'دست', 'از', 'امانت', 'بداشت', 'بباید', 'بر', 'او', 'ناظری', 'بر', 'گماشت'], ['ور', 'او', 'نیز', 'در', 'ساخت', 'با', 'خاطرش', 'از', 'مشرف', 'عمل', 'بر', 'کن', 'و', 'ناظرش'], ['خدا', 'ترس', 'باید', 'امانت', 'گزار', 'امین', 'که', 'از', 'تو', 'ترسد', 'امینش', 'مدار'], ['امین', 'باید', 'از', 'داور', 'اندیشناک', 'نه', 'از', 'رفع', 'دیوان', 'و', 'زجر', 'و', 'هلاک'], ['بیفشان', 'و', 'بشمار', 'و', 'فارغ', 'نشین', 'که', 'از', 'صد', 'یکی', 'را', 'نبینی', 'امین'], ['دو', 'همجنس', 'دیرینه', 'را', 'هم\\u200cقلم', 'نباید', 'فرستاد', 'یک', 'جا', 'به', 'هم'], ['چه', 'دانی', 'که', 'همدست', 'گردند', 'و', 'یار', 'یکی', 'دزد', 'باشد', 'یکی', 'پرده\\u200cدار'], ['چون', 'دزدان', 'از', 'هم', 'باک', 'دارند', 'و', 'بیم', 'رود', 'در', 'میان', 'کاروانی', 'سلیم'], ['یکی', 'را', 'که', 'معزول', 'کردی', 'از', 'جاه', 'چون', 'چندی', 'برآید', 'ببخشش', 'گناه'], ['بر', 'آوردن', 'کام', 'امیدوار', 'به', 'از', 'قید', 'بندی', 'شکستن', 'هزار'], ['نویسنده', 'را\\u200cگر', 'ستون', 'عمل', 'بیفتد', 'نبرد', 'طناب', 'امل'], ['به', 'فرمانبران', 'بر', 'شه', 'دادگر', 'پدروار', 'خشم', 'آورد', 'بر', 'پسر'], ['گهش', 'می\\u200cزند', 'تا', 'شود', 'دردناک', 'گهی', 'می\\u200cکند', 'آبش', 'از', 'دیده', 'پاک'], ['چون', 'نرمی', 'کنی', 'خصم', 'گردد', 'دلیر', 'وگر', 'خشم', 'گیری', 'شوند', 'از', 'تو', 'سیر'], ['درشتی', 'و', 'نرمی', 'به', 'هم', 'در', 'به', 'است', 'چون', 'رگ\\u200cزن', 'که', 'جراح', 'و', 'مرهم', 'نه_است'], ['جوانمرد', 'و', 'خوش', 'خوی', 'و', 'بخشنده', 'باش', 'چون', 'حق', 'بر', 'تو', 'پاشد', 'تو', 'بر', 'خلق', 'پاش'], ['نیامد', 'کس', 'در', 'جهان', 'کاو', 'بماند', 'مگر', 'آن', 'که', 'از', 'او', 'نام', 'نیکو', 'بماند'], ['نمرد', 'آن', 'که', 'ماند', 'پس', 'از', 'او', 'به', 'جای', 'پل', 'و', 'خانی', 'و', 'خان', 'و', 'مهمان', 'سرای'], ['هر', 'آن', 'کاو', 'نماند', 'از', 'پسش', 'یادگار', 'درخت', 'وجودش', 'نیاورد', 'بار'], ['وگر', 'رفت', 'و', 'آثار', 'خیرش', 'نماند', 'نشاید', 'پس', 'مرگش', 'الحمد', 'خواند'], ['چون', 'خواهی_که', 'نامت', 'بود', 'جاودان', 'مکن', 'نام', 'نیک', 'بزرگان', 'نهان'], ['همین', 'نقش', 'بر', 'خوان', 'پس', 'از', 'عهد', 'خویش', 'که', 'دیدی', 'پس', 'از', 'عهد', 'شاهان', 'پیش'], ['همین', 'کام', 'و', 'ناز', 'و', 'طرب', 'داشتند', 'به', 'آخر', 'برفتند', 'و', 'بگذاشتند'], ['یکی', 'نام', 'نیکو', 'ببرد', 'از', 'جهان', 'یکی', 'رسم', 'بد', 'ماند', 'از', 'او', 'جاودان'], ['به', 'سمع', 'رضا', 'مشنو', 'ایذای', 'کس', 'وگر', 'گفته', 'آید', 'به', 'غورش', 'برس'], ['گنهکار', 'را', 'عذر', 'نسیان', 'بنه', 'چون', 'زنهار', 'خواهند_زنهار', 'ده'], ['اگر', 'آید', 'گنهکاری', 'در', 'پناه', 'نه', 'شرط', 'است', 'کشتن', 'به', 'اول', 'گناه'], ['چون', 'باری', 'بگفتند', 'و', 'نشنید', 'پند', 'بده', 'گوشمالش', 'به', 'زندان', 'و', 'بند'], ['وگر', 'پند', 'و', 'بندش', 'نیاید', 'بکار', 'درختی', 'خبیث', 'است', 'بیخش', 'برآر'], ['چون', 'خشم', 'آیدت', 'بر', 'گناه', 'کسی', 'تأمل', 'کنش', 'در', 'عقوبت', 'بسی'], ['که', 'سهل', 'است', 'لعل', 'بدخشان', 'شکست', 'شکسته', 'نشاید', 'دگرباره', 'بست'], ['از', 'دریای', 'عمان', 'برآمد', 'کسی', 'سفر', 'کرده', 'هامون', 'و', 'دریا', 'بسی'], ['عرب', 'دیده', 'و', 'ترک', 'و', 'تاجیک', 'و', 'روم', 'از', 'هر', 'جنس', 'در', 'نفس', 'پاکش', 'علوم'], ['جهان', 'گشته', 'و', 'دانش', 'اندوخته', 'سفر', 'کرده', 'و', 'صحبت', 'آموخته'], ['به', 'هیکل', 'قوی', 'چون', 'تناور', 'درخت', 'ولیکن', 'فرو', 'مانده', 'بی', 'برگ', 'سخت'], ['دو', 'صد', 'رقعه', 'بالای', 'هم', 'دوخته', 'از', 'حراق', 'و', 'او', 'در', 'میان', 'سوخته'], ['به', 'شهری', 'در', 'آمد', 'از', 'دریا', 'کنار', 'بزرگی', 'در', 'آن', 'ناحیت', 'شهریار'], ['که', 'طبعی', 'نکونامی', 'اندیش', 'داشت', 'سر', 'عجز', 'در', 'پا', 'درویش', 'داشت'], ['بشستند', 'خدمتگزاران', 'شاه', 'سر', 'و', 'تن', 'به', 'حمامش', 'از', 'گرد', 'راه'], ['چون', 'بر', 'آستان', 'ملک', 'سر', 'نهاد', 'نیایش', 'کنان', 'دست', 'بر', 'بر', 'نهاد'], ['درآمد', 'به', 'ایوان', 'شاهنشهی', 'که', 'بختت', 'جوان', 'باد', 'و', 'دولت', 'رهی'], ['نرفتم', 'در', 'این', 'مملکت', 'منزلی', 'که', 'از', 'آسیب', 'آزرده', 'دیدم', 'دلی'], ['ندیدم', 'کسی', 'سرگران', 'از', 'شراب', 'مگر', 'هم', 'خرابات', 'دیدم', 'خراب'], ['ملک', 'را', 'همین', 'ملک', 'پیرایه', 'بس', 'که', 'راضی', 'نگرد', 'به', 'آزار', 'کس'], ['سخن', 'گفت', 'و', 'دامان', 'گوهر', 'فشاند', 'به', 'نطقی', 'که', 'شه', 'آستین', 'برفشاند'], ['پسند', 'آمدش', 'حسن', 'گفتار', 'مرد', 'به', 'نزد', 'خودش', 'خواند', 'و', 'اکرام', 'کرد'], ['زرش', 'داد', 'و', 'گوهر', 'به', 'شکر', 'قدوم', 'بپرسیدش', 'از', 'گوهر', 'و', 'زاد', 'و', 'بوم'], ['بگفت', 'آنچه', 'پرسیدش', 'از', 'سرگذشت', 'به', 'قربت', 'از', 'دیگر', 'کسان', 'بر', 'گذشت'], ['ملک', 'با', 'دل', 'خویش', 'با', 'گفت', 'و', 'گو', 'که', 'دست', 'وزارت', 'سپارد', 'بدو'], ['ولیکن', 'بتدریج', 'تا', 'انجمن', 'به', 'سستی', 'نخندند', 'بر', 'رای', 'من'], ['به', 'عقلش', 'بباید', 'نخست', 'آزمود', 'به', 'قدر', 'هنر', 'پایگاهش', 'فزود'], ['برد', 'بر', 'دل', 'از', 'جور', 'غم', 'بارها', 'که', 'نا', 'آزموده', 'کند', 'کارها'], ['چون', 'قاضی', 'به', 'فکرت', 'نویسد', 'سجل', 'نگردد', 'از', 'دستاربندان', 'خجل'], ['نظر', 'کن', 'چون', 'سوفار', 'داری', 'به', 'شست', 'نه', 'آنگه', 'که', 'پرتاب', 'کردی', 'از', 'دست'], ['چون', 'یوسف', 'کسی', 'در', 'صلاح', 'و', 'تمیز', 'به', 'یک', 'سال', 'باید', 'که', 'گردد', 'عزیز'], ['به', 'ایام', 'تا', 'بر', 'نیاید', 'بسی', 'نشاید', 'رسیدن', 'به', 'غور', 'کسی'], ['از', 'هر', 'نوع', 'اخلاق', 'او', 'کشف', 'کرد', 'خردمند', 'و', 'پاکیزه', 'دین', 'بود', 'مرد'], ['نکو', 'سیرتش', 'دید', 'و', 'روشن', 'قیاس', 'سخن', 'سنج', 'و', 'مقدار', 'مردم', 'شناس'], ['به', 'رای', 'از', 'بزرگان', 'مهش', 'دید', 'و', 'بیش', 'نشاندش', 'زبردست', 'دستور', 'خویش'], ['چنان', 'حکمت', 'و', 'معرفت', 'کار', 'بست', 'که', 'از', 'امر', 'و', 'نهیش', 'درونی', 'نخست'], ['در', 'آورد', 'ملکی', 'به', 'زیر', 'قلم', 'که', 'از', 'او', 'بر', 'وجودی', 'نیامد', 'الم'], ['زبان', 'همه', 'حرف', 'گیران', 'ببست', 'که', 'حرفی', 'بدش', 'بر', 'نیامد', 'از', 'دست'], ['حسودی', 'که', 'یک', 'جو', 'خیانت', 'ندید', 'به', 'کارش', 'نیامد', 'چون', 'گندم', 'تپید'], ['از', 'روشن', 'دلش', 'ملک', 'پرتو', 'گرفت', 'وزیر', 'کهن', 'را', 'غم', 'نو', 'گرفت'], ['ندید', 'آن', 'خردمند', 'را', 'رخنه\\u200cای', 'که', 'در', 'او', 'تواند', 'زدن', 'طعنه\\u200cای'], ['امین', 'و', 'بد', 'اندیش', 'طشتند', 'و', 'مور', 'نشاید', 'در', 'او', 'رخنه', 'کردن', 'به', 'زور'], ['ملک', 'را', 'دو', 'خورشید', 'طلعت', 'غلام', 'به', 'سر', 'بر', 'کمر', 'بسته_بودی', 'مدام'], ['دو', 'پاکیزه', 'پیکر', 'چون', 'حور', 'و', 'پری', 'چون', 'خورشید', 'و', 'ماه', 'از', 'سدیگر', 'بری'], ['دو', 'صورت', 'که', 'گفتی', 'یکی', 'نیست', 'بیش', 'نموده', 'در', 'آیینه', 'همتای', 'خویش'], ['سخنهای', 'دانای', 'شیرین', 'سخن', 'گرفت', 'در', 'آن', 'هر', 'دو', 'شمشاد', 'بن'], ['چون', 'دیدند', 'کاوصاف', 'و', 'خلقش', 'نکوست', 'به', 'طبعش', 'هواخواه', 'گشتند', 'و', 'دوست'], ['در', 'او', 'هم', 'اثر', 'کرد', 'میل', 'بشر', 'نه', 'میلی', 'چون', 'کوتاه\\u200cبینان', 'به', 'شر'], ['از', 'آسایش', 'آنگه', 'خبر', 'داشتی', 'که', 'در', 'روی', 'ایشان', 'نظر', 'داشتی'], ['چون', 'خواهی_که', 'قدرت', 'بماند', 'بلند', 'دل', 'ای', 'خواجه', 'در', 'ساده', 'رویان', 'مبند'], ['وگر', 'خود', 'نباشد', 'غرض', 'در', 'میان', 'حذر', 'کن', 'که', 'دارد', 'به', 'هیبت', 'زیان'], ['وزیر', 'در', 'این', 'شمه\\u200cای', 'راه', 'برد', 'به', 'خبث', 'این', 'حکایت', 'بر', 'شاه', 'برد'], ['که', 'این', 'را', 'ندانم', 'چه', 'خوانند', 'و', 'کیست', 'نخواهد_به', 'سامان', 'در', 'این', 'ملک', 'زیست'], ['سفر', 'کردگان', 'لاابالی', 'زیند', 'که', 'پرورده', 'ملک', 'و', 'دولت', 'نیند'], ['شنیدم', 'که', 'با', 'بندگانش', 'سر', 'است', 'خیانت', 'پسند', 'است', 'و', 'شهوت', 'پرست'], ['نشاید', 'چنین', 'خیره', 'روی', 'تباه', 'که', 'بد', 'نامی', 'آرد', 'در', 'ایوان', 'شاه'], ['مگر', 'نعمت', 'شه', 'فرامش', 'کنم', 'که', 'بینم', 'تباهی', 'و', 'خامش', 'کنم'], ['به', 'پندار', 'نتوان', 'سخن', 'گفت', 'زود', 'نگفتم', 'تو', 'را', 'تا', 'یقینم', 'نبود'], ['از', 'فرمانبرانم', 'کسی', 'گوش', 'داشت', 'که', 'آغوش', 'را', 'در', 'آغوش', 'داشت'], ['من', 'این', 'گفتم', 'اکنون', 'ملک', 'راست', 'رای', 'چون', 'من', 'آزمودم', 'تو', 'نیز', 'آزمای'], ['به', 'ناخوب\\u200cتر', 'صورتی', 'شرح', 'داد', 'که', 'بد', 'مرد', 'را', 'نیکروزی', 'مباد'], ['بداندیش', 'بر', 'خرده', 'چون', 'دست', 'یافت', 'درون', 'بزرگان', 'به', 'آتش', 'بتافت'], ['به', 'خرده', 'توان', 'آتش', 'افروختن', 'پس', 'آنگه', 'درخت', 'کهن', 'سوختن'], ['ملک', 'را', 'چنان', 'گرم', 'کرد', 'این', 'خبر', 'که', 'جوشش', 'برآمد', 'چون', 'مرجل', 'به', 'سر'], ['غضب', 'دست', 'در', 'خون', 'درویش', 'داشت', 'ولیکن', 'سکون', 'دست', 'در', 'پیش', 'داشت'], ['که', 'پرورده', 'کشتن', 'نه', 'مردی', 'بود', 'ستم', 'در', 'پی', 'داد', 'سردی', 'بود'], ['میازار', 'پرورده', 'خویشتن', 'چون', 'تیر', 'تو', 'دارد', 'به', 'تیرش', 'مزن'], ['به', 'نعمت', 'نبایست', 'پروردنش', 'چون', 'خواهی_به', 'بیداد', 'خون', 'خوردنش'], ['از', 'او', 'تا', 'هنرها', 'یقینت', 'نشد', 'در', 'ایوان', 'شاهی', 'قرینت', 'نشد'], ['کنون', 'تا', 'یقینت', 'نگردد', 'گناه', 'به', 'گفتار', 'دشمن', 'گزندش', 'مخواه'], ['ملک', 'در', 'دل', 'این', 'راز', 'پوشیده', 'داشت', 'که', 'قول', 'حکیمان', 'نیوشیده', 'داشت'], ['دل', 'است', 'ای', 'خردمند', 'زندان', 'راز', 'چون', 'گفتی', 'نیاید', 'به', 'زنجیر', 'باز'], ['نظر', 'کرد', 'پوشیده', 'در', 'کار', 'مرد', 'خلل', 'دید', 'در', 'رای', 'هشیار', 'مرد'], ['که', 'ناگه', 'نظر', 'زی', 'یکی', 'بنده', 'کرد', 'پری', 'چهره', 'در', 'زیر', 'لب', 'خنده', 'کرد'], ['دو', 'کس', 'را', 'که', 'با', 'هم', 'بود', 'جان', 'و', 'هوش', 'حکایت', 'کنانند', 'و', 'ایشان', 'خموش'], ['چون', 'دیده', 'به', 'دیدار', 'کردی', 'دلیر', 'نگردی', 'چون', 'مستسقی', 'از', 'دجله', 'سیر'], ['ملک', 'را', 'گمان', 'بدی', 'راست', 'شد', 'از', 'سودا', 'بر', 'او', 'خشمگین', 'خواست', 'شد'], ['هم', 'از', 'حسن', 'تدبیر', 'و', 'رای', 'تمام', 'به', 'آهستگی', 'گفتش', 'ای', 'نیک', 'نام'], ['تو', 'را', 'من', 'خردمند', 'پنداشتم', 'بر', 'اسرار', 'ملکت', 'امین', 'داشتم'], ['گمان', 'بردمت', 'زیرک', 'و', 'هوشمند', 'ندانستمت', 'خیره', 'و', 'ناپسند'], ['چنین', 'مرتفع', 'پایه', 'جای', 'تو', 'نیست', 'گناه', 'از', 'من', 'آمد', 'خطای', 'تو', 'نیست'], ['که', 'چون', 'بدگهر', 'پرورم', 'لاجرم', 'خیانت', 'روا', 'داردم', 'در', 'حرم'], ['برآورد', 'سر', 'مرد', 'بسیاردان', 'چنین', 'گفت', 'با', 'خسرو', 'کاردان'], ['من', 'را', 'چون', 'بود', 'دامن', 'از', 'جرم', 'پاک', 'نباشد', 'از', 'خبث', 'بداندیش', 'باک'], ['به', 'خاطر', 'درم', 'هرگز', 'این', 'ظن', 'نرفت', 'ندانم', 'که', 'گفت', 'آنچه', 'بر', 'من', 'نرفت'], ['شهنشاه', 'گفت', 'آنچه', 'گفتم', 'برت', 'بگویند', 'خصمان', 'به', 'روی', 'اندرت'], ['چنین', 'گفت', 'با', 'من', 'وزیر', 'کهن', 'تو', 'نیز', 'آنچه', 'دانی', 'بگوی', 'و', 'بکن'], ['تسبم', 'کنان', 'دست', 'بر', 'لب', 'گرفت', 'که', 'از', 'او', 'هر', 'چه', 'آید', 'نیاید', 'شگفت'], ['حسودی', 'که', 'بیند', 'به', 'جای', 'خودم', 'کجا', 'بر', 'زبان', 'آورد', 'جز', 'بدم'], ['من', 'آن', 'ساعت', 'انگاشتم', 'دشمنش', 'که', 'بنشاند', 'شه', 'زیردست', 'منش'], ['چون', 'سلطان', 'فضیلت', 'نهد', 'بر', 'ویم', 'ندانی', 'که', 'دشمن', 'بود', 'در', 'پیم'], ['من', 'را', 'تا', 'قیامت', 'نگیرد', 'به', 'دوست', 'چون', 'بیند', 'که', 'در', 'عز', 'من', 'ذل', 'اوست'], ['بر', 'اینت', 'بگویم', 'حدیثی', 'درست', 'اگر', 'گوش', 'با', 'بنده', 'داری', 'نخست'], ['ندانم', 'کجا', 'دیده\\u200cام', 'در', 'کتاب', 'که', 'ابلیس', 'را', 'دید', 'شخصی', 'به', 'خواب'], ['به', 'بالا', 'صنوبر', 'به', 'دیدن', 'چون', 'حور', 'چون', 'خورشیدش', 'از', 'چهره', 'می\\u200cتافت', 'نور'], ['فرا', 'رفت', 'و', 'گفت', 'ای', 'عجب', 'این', 'تویی', 'فرشته', 'نباشد', 'بدین', 'نیکویی'], ['تو', 'کاین', 'روی', 'داری', 'به', 'حسن', 'قمر', 'چرا', 'در', 'جهانی', 'به', 'زشتی', 'سمر'], ['چرا', 'نقش', 'بندت', 'در', 'ایوان', 'شاه', 'دژم', 'روی', 'کرده\\u200cست', 'و', 'زشت', 'و', 'تباه'], ['شنید', 'این', 'سخن', 'بخت', 'برگشته', 'دیو', 'به', 'زاری', 'برآورد', 'بانگ', 'و', 'غریو'], ['که\\u200cای', 'نیکبخت', 'این', 'نه', 'شکل', 'من', 'است', 'ولیکن', 'قلم', 'در', 'کف', 'دشمن', 'است'], ['من', 'را', 'همچنین', 'نام', 'نیک', 'است', 'لیک', 'از', 'علت', 'نگوید', 'بداندیش', 'نیک'], ['وزیری', 'که', 'جاه', 'من', 'آبش', 'بریخت', 'به', 'فرسنگ', 'باید', 'از', 'مکرش', 'گریخت'], ['ولیکن', 'نیندیشم', 'از', 'خشم', 'شاه', 'دلاور', 'بود', 'در', 'سخن', 'بی\\u200cگناه'], ['اگر', 'محتسب', 'گردد', 'آن', 'را', 'غم', 'است', 'که', 'سنگ', 'ترازوی', 'بارش', 'کم', 'است'], ['چون', 'حرفم', 'برآید', 'درست', 'از', 'قلم', 'من', 'را', 'از', 'همه', 'حرف', 'گیران', 'چه', 'غم'], ['ملک', 'در', 'سخن', 'گفتنش', 'خیره', 'ماند', 'سر', 'دست', 'فرماندهی', 'برفشاند'], ['که', 'مجرم', 'به', 'زرق', 'و', 'زبان', 'آوری', 'از', 'جرمی', 'که', 'دارد', 'نگردد', 'بری'], ['از', 'خصمت', 'همانا', 'که', 'نشنیده\\u200cام', 'نه', 'آخر', 'به', 'چشم', 'خودم', 'دیده\\u200cام'], ['که', 'از', 'این', 'زمره', 'خلق', 'در', 'بارگاه', 'نمی\\u200cباشدت', 'جز', 'در', 'اینان', 'نگاه'], ['بخندید', 'مرد', 'سخنگوی', 'و', 'گفت', 'حق', 'است', 'این', 'سخن', 'حق', 'نشاید', 'نهفت'], ['در', 'این', 'نکته\\u200cای', 'هست', 'اگر', 'بشنوی', 'که', 'حکمت', 'روان', 'باد', 'و', 'دولت', 'قوی'], ['نبینی', 'که', 'درویش', 'بی', 'دستگاه', 'به', 'حسرت', 'کند', 'در', 'توانگر', 'نگاه'], ['من', 'را', 'دستگاه', 'جوانی', 'برفت', 'به', 'لهو', 'و', 'لعب', 'زندگانی', 'برفت'], ['از', 'دیدار', 'اینان', 'ندارم', 'شکیب', 'که', 'سرمایه', 'داران', 'حسنند', 'و', 'زیب'], ['من', 'را', 'همچنین', 'چهره', 'گلفام', 'بود', 'بلورینم', 'از', 'خوبی', 'اندام', 'بود'], ['در', 'این', 'غایتم', 'رشت', 'باید', 'کفن', 'که', 'مویم', 'چون', 'پنبه\\u200cست', 'و', 'دوکم', 'بدن'], ['من', 'را', 'همچنین', 'جعد', 'شبرنگ', 'بود', 'قبا', 'در', 'بر', 'از', 'نازکی', 'تنگ', 'بود'], ['دو', 'رسته', 'درم', 'در', 'دهن', 'داشت', 'جای', 'چون', 'دیواری', 'از', 'خشت', 'سیمین', 'بپای'], ['کنونم', 'نگه', 'کن', 'به', 'وقت', 'سخن', 'بیفتاده', 'یک', 'یک', 'چون', 'سور', 'کهن'], ['در', 'اینان', 'به', 'حسرت', 'چرا', 'ننگرم', 'که', 'عمر', 'تلف', 'کرده', 'یاد', 'آورم'], ['برفت', 'از', 'من', 'آن', 'روزهای', 'عزیز', 'به', 'پایان', 'رسد', 'ناگه', 'این', 'روز', 'نیز'], ['چون', 'دانشور', 'این', 'در', 'معنی', 'بسفت', 'بگفت', 'این', 'که', 'از', 'این', 'به', 'محال', 'است', 'گفت'], ['در', 'ارکان', 'دولت', 'نگه', 'کرد', 'شاه', 'که', 'از', 'این', 'خوبتر', 'لفظ', 'و', 'معنی', 'مخواه'], ['کسی', 'را', 'نظر', 'سوی', 'شاهد', 'رواست', 'که', 'داند', 'بدین', 'شاهدی', 'عذر', 'خواست'], ['به', 'عقل', 'اگر', 'نه', 'آهستگی', 'کردمی', 'به', 'گفتار', 'خصمش', 'بیازردمی'], ['به', 'تندی', 'سبک', 'دست', 'بردن', 'به', 'تیغ', 'به', 'دندان', 'برد', 'پشت', 'دست', 'دریغ'], ['از', 'صاحب', 'غرض', 'تا', 'سخن', 'نشنوی', 'که\\u200cگر', 'کار', 'بندی', 'پشیمان', 'شوی'], ['نکونام', 'را', 'جاه', 'و', 'تشریف', 'و', 'مال', 'بیفزود', 'و', 'بدگوی', 'را', 'گوشمال'], ['به', 'تدبیر', 'دستور', 'دانشورش', 'به', 'نیکی', 'بشد', 'نام', 'در', 'کشورش'], ['به', 'عدل', 'و', 'کرم', 'سالها', 'ملک', 'راند', 'برفت', 'و', 'نکونامی', 'از', 'او', 'بماند'], ['چنین', 'پادشاهان', 'که', 'دین', 'پرورند', 'به', 'بازوی', 'دین', 'گوی', 'دولت', 'برند'], ['از', 'آنان', 'نبینم', 'در', 'این', 'عهد', 'کس', 'وگر', 'هست', 'بوبکر', 'سعد', 'است', 'و', 'بس'], ['بهشتی', 'درختی', 'تو', 'ای', 'پادشاه', 'که', 'افکنده\\u200cای', 'سایه', 'یک', 'ساله', 'راه'], ['طمع', 'بود', 'از', 'بخت', 'نیک', 'اخترم', 'که', 'بال', 'همای', 'افکند', 'بر', 'سرم'], ['خرد', 'گفت', 'دولت', 'نبخشد', 'همای', 'اگر', 'اقبال', 'خواهی_در', 'این', 'سایه', 'آی'], ['خدایا', 'به', 'رحمت', 'نظر', 'کرده\\u200cای', 'که', 'این', 'سایه', 'بر', 'خلق', 'گسترده\\u200cای'], ['دعا', 'گوی', 'این', 'دولتم', 'بنده\\u200cوار', 'خدایا', 'تو', 'این', 'سایه', 'پاینده', 'دار'], ['صواب', 'است', 'پیش', 'از', 'کشش', 'بند', 'کرد', 'که', 'نتوان', 'سر', 'کشته', 'پیوند', 'کرد'], ['خداوند', 'فرمان', 'و', 'رای', 'و', 'شکوه', 'از', 'غوغای', 'مردم', 'نگردد', 'ستوه'], ['سر', 'پر', 'غرور', 'از', 'تحمل', 'تهی', 'حرامش', 'بود', 'تاج', 'شاهنشهی'], ['نگویم', 'چون', 'جنگ', 'آوری', 'پا', 'دار', 'چون', 'خشم', 'آیدت', 'عقل', 'بر', 'جای', 'دار'], ['تحمل', 'کند', 'هر', 'که', 'را', 'عقل', 'هست', 'نه', 'عقلی', 'که', 'خشمش', 'کند', 'زیردست'], ['چون', 'لشکر', 'برون', 'تاخت', 'خشم', 'از', 'کمین', 'نه', 'انصاف', 'ماند', 'نه', 'تقوی', 'نه', 'دین'], ['ندیدم', 'چنین', 'دیو', 'زیر', 'فلک', 'که', 'از', 'او', 'گریزند', 'چندین', 'ملک'], ['نه', 'بر', 'حکم', 'شرع', 'آب', 'خوردن', 'خطاست', 'وگر', 'خون', 'به', 'فتوی', 'بریزی', 'رواست'], ['که', 'را', 'شرع', 'فتوی', 'دهد', 'بر', 'هلاک', 'الا', 'تا', 'نداری', 'از', 'کشتنش', 'باک'], ['وگر', 'دانی', 'در', 'تبارش', 'کسان', 'بر', 'ایشان', 'ببخشای', 'و', 'راحت', 'رسان'], ['گنه', 'بود', 'مرد', 'ستمکاره', 'را', 'چه', 'تاوان', 'زن', 'و', 'طفل', 'بیچاره', 'را'], ['تنت', 'زورمند', 'است', 'و', 'لشکر', 'گران', 'ولیکن', 'در', 'اقلیم', 'دشمن', 'مران'], ['که', 'او', 'بر', 'حصاری', 'گریزد', 'بلند', 'رسد', 'کشوری', 'بی', 'گنه', 'را', 'گزند'], ['نظر', 'کن', 'در', 'احوال', 'زندانیان', 'که', 'ممکن', 'بود', 'بی\\u200cگنه', 'در', 'میان'], ['چون', 'بازارگان', 'در', 'دیارت', 'بمرد', 'به', 'مالش', 'خساست', 'بود', 'دستبرد'], ['که', 'از', 'آن', 'پس', 'که', 'بر', 'او', 'بگریند', 'زار', 'به', 'هم', 'باز', 'گویند', 'خویش', 'و', 'تبار'], ['که', 'مسکین', 'در', 'اقلیم', 'غربت', 'بمرد', 'متاعی', 'که', 'از', 'او', 'ماند', 'ظالم', 'ببرد'], ['بیندیش', 'از', 'آن', 'طفلک', 'بی', 'پدر', 'وز', 'آه', 'دل', 'دردمندش', 'حذر'], ['بسا', 'نام', 'نیکوی', 'پنجاه', 'سال', 'که', 'یک', 'نام', 'زشتش', 'کند', 'پایمال'], ['پسندیده', 'کاران', 'جاوید', 'نام', 'تطاول', 'نکردند', 'بر', 'مال', 'عام'], ['بر', 'آفاق', 'اگر', 'سر', 'به', 'سر', 'پادشاست', 'چون', 'مال', 'از', 'توانگر', 'ستاند', 'گداست'], ['بمرد', 'از', 'تهیدستی', 'آزاد', 'مرد', 'از', 'پهلوی', 'مسکین', 'شکم', 'پر', 'نکرد'], ['شنیدم', 'که', 'فرماندهی', 'دادگر', 'قبا', 'داشتی', 'هر', 'دو', 'روی', 'آستر'], ['یکی', 'گفتش', 'ای', 'خسرو', 'نیکروز', 'از', 'دیبای', 'چینی', 'قبایی', 'بدوز'], ['بگفت', 'این', 'قدر', 'ستر', 'و', 'آسایش', 'است', 'وز', 'این', 'بگذری', 'زیب', 'و', 'آرایش', 'است'], ['نه', 'از', 'بهر', 'آن', 'می\\u200cستانم', 'خراج', 'که', 'زینت', 'کنم', 'بر', 'خود', 'و', 'تخت', 'و', 'تاج'], ['چون', 'همچون', 'زنان', 'حله', 'در', 'تن', 'کنم', 'به', 'مردی', 'کجا', 'دفع', 'دشمن', 'کنم'], ['من', 'را', 'هم', 'از', 'صد', 'گونه', 'آز', 'و', 'هواست', 'ولیکن', 'خزینه', 'نه', 'تنها', 'مراست'], ['خزاین', 'پر', 'از', 'بهر', 'لشکر', 'بود', 'نه', 'از', 'بهر', 'آذین', 'و', 'زیور', 'بود'], ['سپاهی', 'که', 'خوشدل', 'نباشد', 'از', 'شاه', 'ندارد', 'حدود', 'ولایت', 'نگاه'], ['چون', 'دشمن', 'خر', 'روستایی', 'برد', 'ملک', 'باج', 'و', 'ده', 'یک', 'چرا', 'می\\u200cخورد'], ['مخالف', 'خرش', 'برد', 'و', 'سلطان', 'خراج', 'چه', 'اقبال', 'ماند', 'در', 'آن', 'تخت', 'و', 'تاج'], ['رعیت', 'درخت', 'است', 'اگر', 'پروری', 'به', 'کام', 'دل', 'دوستان', 'بر', 'خوری'], ['به', 'بی\\u200cرحمی', 'از', 'بیخ', 'و', 'بارش', 'مکن', 'که', 'نادان', 'کند', 'حیف', 'بر', 'خویشتن'], ['مروت', 'نباشد', 'بر', 'افتاده', 'زور', 'برد', 'مرغ', 'دون', 'دانه', 'از', 'پیش', 'مور'], ['کسان', 'بر', 'خورند', 'از', 'جوانی', 'و', 'بخت', 'که', 'بر', 'زیردستان', 'نگیرند', 'سخت'], ['اگر', 'زیردستی', 'در', 'آید', 'از', 'پا', 'حذر', 'کن', 'از', 'نالیدنش', 'بر', 'خدای'], ['چون', 'شاید', 'گرفتن', 'به', 'نرمی', 'دیار', 'به', 'پیکار', 'خون', 'از', 'مشامی', 'میار'], ['به', 'مردی', 'که', 'ملک', 'سراسر', 'زمین', 'نیرزد', 'که', 'خونی', 'چکد', 'بر', 'زمین'], ['شنیدم', 'که', 'جمشید', 'فرخ', 'سرشت', 'به', 'سرچشمه\\u200cای', 'بر', 'به', 'سنگی', 'نوشت'], ['بر', 'این', 'چشمه', 'چون', 'ما', 'بسی', 'دم', 'زدند', 'برفتند', 'چون', 'چشم', 'بر', 'هم', 'زدند'], ['گرفتیم', 'عالم', 'به', 'مردی', 'و', 'زور', 'ولیکن', 'نبردیم', 'با', 'خود', 'به', 'گور'], ['چون', 'بر', 'دشمنی', 'باشدت', 'دسترس', 'مرنجانش', 'کاو', 'را', 'همین', 'غصه', 'بس'], ['عدو', 'زنده', 'سرگشته', 'پیرامنت', 'به', 'از', 'خون', 'او', 'کشته', 'در', 'گردنت'], ['شنیدم', 'که', 'دارای', 'فرخ', 'تبار', 'از', 'لشکر', 'جدا', 'ماند', 'روز', 'شکار'], ['دوان', 'آمدش', 'گله\\u200cبانی', 'به', 'پیش', 'به', 'دل', 'گفت', 'دارای', 'فرخنده', 'کیش'], ['مگر', 'دشمن', 'است', 'این', 'که', 'آمد', 'به', 'جنگ', 'از', 'دورش', 'بدوزم', 'به', 'تیر', 'خدنگ'], ['کمان', 'کیانی', 'به', 'زه', 'راست', 'کرد', 'به', 'یک', 'دم', 'وجودش', 'عدم', 'خواست', 'کرد'], ['بگفت', 'ای', 'خداوند', 'ایران', 'و', 'تور', 'که', 'چشم', 'بد', 'از', 'روزگار', 'تو', 'دور'], ['من', 'آنم', 'که', 'اسبان', 'شه', 'پرورم', 'به', 'خدمت', 'بدین', 'مرغزار', 'اندرم'], ['ملک', 'را', 'دل', 'رفته', 'آمد', 'به', 'جای', 'بخندید', 'و', 'گفت', 'ای', 'نکوهیده', 'رای'], ['تو', 'را', 'یاوری', 'کرد', 'فرخ', 'سروش', 'وگر', 'نه', 'زه', 'آورده_بودم', 'به', 'گوش'], ['نگهبان', 'مرعی', 'بخندید', 'و', 'گفت', 'نصیحت', 'از', 'منعم', 'نباید', 'نهفت'], ['نه', 'تدبیر', 'محمود', 'و', 'رای', 'نکوست', 'که', 'دشمن', 'نداند', 'شهنشه', 'از', 'دوست'], ['چنان', 'است', 'در', 'مهتری', 'شرط', 'زیست', 'که', 'هر', 'کهتری', 'را', 'بدانی', 'که', 'کیست'], ['من', 'را', 'بارها', 'در', 'حضر', 'دیده\\u200cای', 'از', 'خیل', 'و', 'چراگاه', 'پرسیده\\u200cای'], ['کنونت', 'به', 'مهر', 'آمدم', 'پیشباز', 'نمی\\u200cدانیم', 'از', 'بداندیش', 'باز'], ['توانم', 'من', 'ای', 'نامور', 'شهریار', 'که', 'اسبی', 'برون', 'آرم', 'از', 'صد', 'هزار'], ['من', 'را', 'گله\\u200cبانی', 'به', 'عقل', 'است', 'و', 'رای', 'تو', 'هم', 'گله', 'خویش', 'باری', 'بپای'], ['در', 'آن', 'تخت', 'و', 'ملک', 'از', 'خلل', 'غم', 'بود', 'که', 'تدبیر', 'شاه', 'از', 'شبان', 'کم', 'بود'], ['تو', 'کی', 'بشنوی', 'ناله', 'دادخواه', 'به', 'کیوان', 'برت', 'کله', 'خوابگاه'], ['چنان', 'خسب', 'کآید', 'فغانت', 'به', 'گوش', 'اگر', 'دادخواهی', 'برآرد', 'خروش'], ['که', 'نالد', 'از', 'ظالم', 'که', 'در', 'دور', 'توست', 'که', 'هر', 'جور', 'کاو', 'می\\u200cکند', 'جور', 'توست'], ['نه', 'سگ', 'دامن', 'کاروانی', 'درید', 'که', 'دهقان', 'نادان', 'که', 'سگ', 'پرورید'], ['دلیر', 'آمدی', 'سعدیا', 'در', 'سخن', 'چون', 'تیغت', 'به', 'دست', 'است', 'فتحی', 'بکن'], ['بگو', 'آنچه', 'دانی', 'که', 'حق', 'گفته', 'به', 'نه', 'رشوت', 'ستانی', 'و', 'نه', 'عشوه', 'ده'], ['طمع', 'بند', 'و', 'دفتر', 'از', 'حکمت', 'بشوی', 'طمع', 'بگسل', 'و', 'هرچه', 'دانی', 'بگوی'], ['خبر', 'یافت', 'گردن\\u200cکشی', 'در', 'عراق', 'که', 'می\\u200cگفت', 'مسکینی', 'از', 'زیر', 'طاق'], ['تو', 'هم', 'بر', 'دری', 'هستی', 'امیدوار', 'پس', 'امید', 'بر', 'در', 'نشینان', 'برآر'], ['نخواهی_که', 'باشد', 'دلت', 'دردمند', 'دل', 'دردمندان', 'برآور', 'از', 'بند'], ['پریشانی', 'خاطر', 'دادخواه', 'براندازد', 'از', 'مملکت', 'پادشاه'], ['تو', 'خفته', 'خنک', 'در', 'حرم', 'نیمروز', 'غریب', 'از', 'برون', 'گو', 'به', 'گرما', 'بسوز'], ['ستاننده', 'داد', 'آن', 'کس', 'خداست', 'که', 'نتواند', 'از', 'پادشه', 'دادخواست'], ['یکی', 'از', 'بزرگان', 'اهل', 'تمیز', 'حکایت', 'کند', 'از', 'ابن', 'عبدالعزیز'], ['که', 'بودش', 'نگینی', 'در', 'انگشتری', 'فرو', 'مانده', 'در', 'قیمتش', 'جوهری'], ['به', 'شب', 'گفتی', 'از', 'جرم', 'گیتی', 'فروز', 'دری', 'بود', 'از', 'روشنایی', 'چون', 'روز'], ['قضا', 'را', 'درآمد', 'یکی', 'خشک', 'سال', 'که', 'شد', 'بدر', 'سیمای', 'مردم', 'هلال'], ['چون', 'در', 'مردم', 'آرام', 'و', 'قوت', 'ندید', 'خود', 'آسوده', 'بودن', 'مروت', 'ندید'], ['چون', 'بیند', 'کسی', 'زهر', 'در', 'کام', 'خلق', 'کیش', 'بگذرد', 'آب', 'نوشین', 'به', 'حلق'], ['بفرمود', 'و', 'بفروختندش', 'به', 'سیم', 'که', 'رحم', 'آمدش', 'بر', 'غریب', 'و', 'یتیم'], ['به', 'یک', 'هفته', 'نقدش', 'به', 'تاراج', 'داد', 'به', 'درویش', 'و', 'مسکین', 'و', 'محتاج', 'داد'], ['فتادند', 'در', 'او', 'ملامت', 'کنان', 'که', 'دیگر', 'به', 'دستت', 'نیاید', 'چنان'], ['شنیدم', 'که', 'می\\u200cگفت', 'و', 'باران', 'دمع', 'فرو', 'می\\u200cدویدش', 'به', 'عارض', 'چون', 'شمع'], ['که', 'زشت', 'است', 'پیرایه', 'بر', 'شهریار', 'دل', 'شهری', 'از', 'ناتوانی', 'فگار'], ['من', 'را', 'شاید', 'انگشتری', 'بی\\u200cنگین', 'نشاید', 'دل', 'خلقی', 'اندوهگین'], ['خنک', 'آن', 'که', 'آسایش', 'مرد', 'و', 'زن', 'گزیند', 'بر', 'آرایش', 'خویشتن'], ['نکردند', 'رغبت', 'هنرپروران', 'به', 'شادی', 'خویش', 'از', 'غم', 'دیگران'], ['اگر', 'خوش', 'بخسبد', 'ملک', 'بر', 'سریر', 'نپندارم', 'آسوده', 'خسبد', 'فقیر'], ['وگر', 'زنده', 'دارد', 'شب', 'دیر', 'باز', 'بخسبند', 'مردم', 'به', 'آرام', 'و', 'ناز'], ['بحمدالله', 'این', 'سیرت', 'و', 'راه', 'راست', 'اتابک', 'ابوبکر', 'بن', 'سعد', 'راست'], ['کس', 'از', 'فتنه', 'در', 'پارس', 'دیگر', 'نشان', 'نبیند', 'مگر', 'قامت', 'مهوشان'], ['یکی', 'پنج', 'بیتم', 'خوش', 'آمد', 'به', 'گوش', 'که', 'در', 'مجلسی', 'می\\u200cسرودند', 'دوش'], ['من', 'را', 'راحت', 'از', 'زندگی', 'دوش', 'بود', 'که', 'آن', 'ماهرویم', 'در', 'آغوش', 'بود'], ['مر', 'او', 'را', 'چون', 'دیدم', 'سر', 'از', 'خواب', 'مست', 'بدو', 'گفتم', 'ای', 'سرو', 'پیش', 'تو', 'پست'], ['دمی', 'نرگس', 'از', 'خواب', 'نوشین', 'بشوی', 'چون', 'گلبن', 'بخند', 'و', 'چون', 'بلبل', 'بگوی'], ['چه', 'می\\u200cخسبی', 'ای', 'فتنه', 'روزگار', 'بیا', 'و', 'می\\u200cلعل', 'نوشین', 'بیار'], ['نگه', 'کرد', 'شوریده', 'از', 'خواب', 'و', 'گفت', 'من', 'را', 'فتنه', 'خوانی', 'و', 'گویی', 'مخفت'], ['در', 'ایام', 'سلطان', 'روشن', 'نفس', 'نبیند', 'دیگر', 'فتنه', 'بیدار', 'کس'], ['در', 'اخبار', 'شاهان', 'پیشینه', 'هست', 'که', 'چون', 'تکله', 'بر', 'تخت', 'زنگی', 'نشست'], ['به', 'دورانش', 'از', 'کس', 'نیازرد', 'کس', 'سبق', 'برد', 'اگر', 'خود', 'همین', 'بود', 'و', 'بس'], ['چنین', 'گفت', 'یک', 'راه', 'به', 'صاحبدلی', 'که', 'عمرم', 'به', 'سر', 'رفت', 'بی', 'حاصلی'], ['بخواهم', 'به', 'کنج', 'عبادت', 'نشست', 'که', 'دریابم', 'این', 'پنج', 'روزی', 'که', 'هست'], ['چون', 'می\\u200cبگذرد', 'جاه', 'و', 'ملک', 'و', 'سریر', 'نبرد', 'از', 'جهان', 'دولت', 'الا', 'فقیر'], ['چون', 'بشنید', 'دانای', 'روشن', 'نفس', 'به', 'تندی', 'برآشفت', 'کای', 'تکله', 'بس'], ['طریقت', 'به', 'جز', 'خدمت', 'خلق', 'نیست', 'به', 'تسبیح', 'و', 'سجاده', 'و', 'دلق', 'نیست'], ['تو', 'بر', 'تخت', 'سلطانی', 'خویش', 'باش', 'به', 'اخلاق', 'پاکیزه', 'درویش', 'باش'], ['به', 'صدق', 'و', 'ارادت', 'میان', 'بسته\\u200cدار', 'از', 'طامات', 'و', 'دعوی', 'زبان', 'بسته\\u200cدار'], ['قدم', 'باید', 'در', 'طریقت', 'نه', 'دم', 'که', 'اصلی', 'ندارد', 'دم', 'بی\\u200cقدم'], ['بزرگان', 'که', 'نقد', 'صفا', 'داشتند', 'چنین', 'خرقه', 'زیر', 'قبا', 'داشتند'], ['شنیدم', 'که', 'بگریست', 'سلطان', 'روم', 'بر', 'نیکمردی', 'از', 'اهل', 'علوم'], ['که', 'پایابم', 'از', 'دست', 'دشمن', 'نماند', 'جز', 'این', 'قلعه', 'و', 'شهر', 'با', 'من', 'نماند'], ['بسی', 'جهد', 'کردم', 'که', 'فرزند', 'من', 'پس', 'از', 'من', 'بود', 'سرور', 'انجمن'], ['کنون', 'دشمن', 'بدگهر', 'دست', 'یافت', 'سر', 'دست', 'مردی', 'و', 'جهدم', 'بتافت'], ['چه', 'تدبیر', 'سازم', 'چه', 'درمان', 'کنم', 'که', 'از', 'غم', 'بفرسود', 'جان', 'در', 'تنم'], ['بگفت', 'ای', 'برادر', 'غم', 'خویش', 'خور', 'که', 'از', 'عمر', 'بهتر', 'شد', 'و', 'بیشتر'], ['تو', 'را', 'این', 'قدر', 'تا', 'بمانی', 'بس', 'است', 'چون', 'رفتی', 'جهان', 'جای', 'دیگر', 'کس', 'است'], ['اگر', 'هوشمند', 'است', 'و', 'اگر', 'بی\\u200cخرد', 'غم', 'او', 'مخور', 'کاو', 'غم', 'خود', 'خورد'], ['مشقت', 'نیرزد', 'جهان', 'داشتن', 'گرفتن', 'به', 'شمشیر', 'و', 'بگذاشتن'], ['بدین', 'پنج', 'روزه', 'اقامت', 'مناز', 'به', 'اندیشه', 'تدبیر', 'رفتن', 'بساز'], ['که', 'را', 'دانی', 'از', 'خسروان', 'عجم', 'از', 'عهد', 'فریدون', 'و', 'ضحاک', 'و', 'جم'], ['که', 'بر', 'تخت', 'و', 'ملکش', 'نیامد', 'زوال', 'نماند', 'به', 'جز', 'ملک', 'ایزد', 'تعال'], ['که', 'را', 'جاودان', 'ماندن', 'امید', 'ماند', 'چون', 'کس', 'را', 'نبینی', 'که', 'جاوید', 'ماند'], ['که', 'را', 'سیم', 'و', 'زر', 'ماند', 'و', 'گنج', 'و', 'مال', 'پس', 'از', 'او', 'به', 'چندی', 'شود', 'پایمال'], ['وز', 'آن', 'کس', 'که', 'خیری', 'بماند', 'روان', 'دمادم', 'رسد', 'رحمتش', 'بر', 'روان'], ['بزرگی', 'که', 'از', 'او', 'نام', 'نیکو', 'نماند', 'توان', 'گفت', 'با', 'اهل', 'دل', 'کاو', 'نماند'], ['الا', 'تا', 'درخت', 'کرم', 'پروری', 'اگر', 'امیدواری', 'که', 'از', 'او', 'بر', 'خوری'], ['کرم', 'کن', 'که', 'فردا', 'که', 'دیوان', 'نهند', 'منازل', 'به', 'مقدار', 'احسان', 'دهند'], ['یکی', 'را', 'که', 'سعی', 'قدم', 'پیشتر', 'به', 'درگاه', 'حق', 'منزلت', 'بیشتر'], ['یکی', 'باز', 'پس', 'خائن', 'و', 'شرمسار', 'بترسد', 'همی', 'مرد', 'ناکرده', 'کار'], ['بهل', 'تا', 'به', 'دندان', 'گزد', 'پشت', 'دست', 'تنوری', 'چنین', 'گرم', 'و', 'نانی', 'نبست'], ['بدانی', 'گه', 'غله', 'برداشتن', 'که', 'سستی', 'بود', 'تخم', 'ناکاشتن'], ['خردمند', 'مردی', 'در', 'اقصای', 'شام', 'گرفت', 'از', 'جهان', 'کنج', 'غاری', 'مقام'], ['به', 'صبرش', 'در', 'آن', 'کنج', 'تاریک', 'جای', 'به', 'گنج', 'قناعت', 'فرو', 'رفته', 'پا'], ['شنیدم', 'که', 'نامش', 'خدادوست', 'بود', 'ملک', 'سیرتی', 'آدمی', 'پوست', 'بود'], ['بزرگان', 'نهادند', 'سر', 'بر', 'درش', 'که', 'در', 'می\\u200cنیامد', 'به', 'درها', 'سرش'], ['تمنا', 'کند', 'عارف', 'پاکباز', 'به', 'دریوزه', 'از', 'خویشتن', 'ترک', 'آز'], ['چون', 'هر', 'ساعتش', 'نفس', 'گوید', 'بده', 'به', 'خواری', 'بگرداندش', 'ده', 'به', 'ده'], ['در', 'آن', 'مرز', 'کاین', 'پیر', 'هشیار', 'بود', 'یکی', 'مرزبان', 'ستمکار', 'بود'], ['که', 'هر', 'ناتوان', 'را', 'که', 'دریافتی', 'به', 'سرپنجگی', 'پنجه', 'برتافتی'], ['جهان', 'سوز', 'و', 'بی\\u200cرحمت', 'و', 'خیره\\u200cکش', 'از', 'تلخیش', 'روی', 'جهانی', 'ترش'], ['گروهی', 'برفتند', 'از', 'آن', 'ظلم', 'و', 'عار', 'ببردند', 'نام', 'بدش', 'در', 'دیار'], ['گروهی', 'بماندند', 'مسکین', 'و', 'ریش', 'پس', 'چرخه', 'نفرین', 'گرفتند', 'پیش'], ['ید', 'ظلم', 'جایی', 'که', 'گردد', 'دراز', 'نبینی', 'لب', 'مردم', 'از', 'خنده', 'باز'], ['به', 'دیدار', 'شیخ', 'آمدی', 'گاه', 'گاه', 'خدادوست', 'در', 'او', 'نکردی', 'نگاه'], ['ملک', 'نوبتی', 'گفتش', 'ای', 'نیکبخت', 'به', 'نفرت', 'از', 'من', 'در', 'مکش', 'روی', 'سخت'], ['من', 'را', 'با', 'تو', 'دانی', 'سر', 'دوستی', 'است', 'تو', 'را', 'دشمنی', 'با', 'من', 'از', 'بهر', 'چیست'], ['گرفتم', 'که', 'سالار', 'کشور', 'نیم', 'به', 'عزت', 'از', 'درویش', 'کمتر', 'نیم'], ['نگویم', 'فضیلت', 'نهم', 'بر', 'کسی', 'چنان', 'باش', 'با', 'من', 'که', 'با', 'هر', 'کسی'], ['شنید', 'این', 'سخن', 'عابد', 'هوشیار', 'بر', 'آشفت', 'و', 'گفت', 'ای', 'ملک', 'هوش', 'دار'], ['وجودت', 'پریشانی', 'خلق', 'از', 'اوست', 'ندارم', 'پریشانی', 'خلق', 'دوست'], ['تو', 'با', 'آن', 'که', 'من', 'دوستم', 'دشمنی', 'نپندارمت', 'دوستدار', 'منی'], ['چرا', 'دوست', 'دارم', 'به', 'باطل', 'منت', 'چون', 'دانم', 'که', 'دارد', 'خدا', 'دشمنت'], ['مده', 'بوسه', 'بر', 'دست', 'من', 'دوستوار', 'برو', 'دوستداران', 'من', 'دوست', 'دار'], ['خدادوست', 'را\\u200cگر', 'بدرند', 'پوست', 'نخواهد_شدن', 'دشمن', 'دوست', 'دوست'], ['عجب', 'دارم', 'از', 'خواب', 'آن', 'سنگدل', 'که', 'خلقی', 'بخسبند', 'از', 'او', 'تنگدل'], ['مها', 'زورمندی', 'مکن', 'با', 'کهان', 'که', 'بر', 'یک', 'نمط', 'می\\u200cنماند', 'جهان'], ['سر', 'پنجه', 'ناتوان', 'بر', 'مپیچ', 'که\\u200cگر', 'دست', 'یابد', 'برآیی', 'به', 'هیچ'], ['عدو', 'را', 'به', 'کوچک', 'نباید', 'شمرد', 'که', 'کوه', 'کلان', 'دیدم', 'از', 'سنگ', 'خرد'], ['نبینی', 'که', 'چون', 'با', 'هم', 'آیند', 'مور', 'از', 'شیران', 'جنگی', 'برآرند', 'شور'], ['نه', 'موری', 'که', 'مویی', 'که', 'از', 'آن', 'کمتر', 'است', 'چون', 'پر', 'شد', 'از', 'زنجیر', 'محکمتر', 'است'], ['مبر', 'گفتمت', 'پا', 'مردم', 'از', 'جای', 'که', 'عاجز', 'شوی\\u200cگر', 'درآیی', 'از', 'پا'], ['دل', 'دوستان', 'جمع', 'بهتر', 'که', 'گنج', 'خزینه', 'تهی', 'به', 'که', 'مردم', 'به', 'رنج'], ['مینداز', 'در', 'پا', 'کار', 'کسی', 'که', 'افتد', 'که', 'در', 'پایش', 'افتی', 'بسی'], ['تحمل', 'کن', 'ای', 'ناتوان', 'از', 'قوی', 'که', 'روزی', 'تواناتر', 'از', 'او', 'شوی'], ['به', 'همت', 'برآر', 'از', 'ستیهنده', 'شور', 'که', 'بازوی', 'همت', 'به', 'از', 'دست', 'زور'], ['لب', 'خشک', 'مظلوم', 'را', 'گو', 'بخند', 'که', 'دندان', 'ظالم', 'بخواهند', 'کند'], ['به', 'بانگ', 'دهل', 'خواجه', 'بیدار', 'گشت', 'چه', 'داند', 'شب', 'پاسبان', 'چون', 'گذشت'], ['خورد', 'کاروانی', 'غم', 'بار', 'خویش', 'نسوزد', 'دلش', 'بر', 'خر', 'پشت', 'ریش'], ['گرفتم', 'که', 'از', 'افتادگان', 'نیستی', 'چون', 'افتاده', 'بینی', 'چرا', 'نیستی'], ['بر', 'اینت', 'بگویم', 'یکی', 'سرگذشت', 'که', 'سستی', 'بود', 'زین', 'سخن', 'درگذشت'], ['چنان', 'قحط', 'سالی', 'شد', 'در', 'دمشق', 'که', 'یاران', 'فراموش', 'کردند', 'عشق'], ['چنان', 'آسمان', 'بر', 'زمین', 'شد', 'بخیل', 'که', 'لب\\u200cتر', 'نکردند', 'زرع', 'و', 'نخیل'], ['بخوشید', 'سرچشمه\\u200cهای', 'قدیم', 'نماند', 'آب', 'جز', 'آب', 'چشم', 'یتیم'], ['نبودی', 'به', 'جز', 'آه', 'بیوه', 'زنی', 'اگر', 'برشدی', 'دودی', 'از', 'روزنی'], ['چون', 'درویش', 'بی', 'رنگ', 'دیدم', 'درخت', 'قوی', 'بازوان', 'سست', 'و', 'درمانده', 'سخت'], ['نه', 'در', 'کوه', 'سبزی', 'نه', 'در', 'باغ', 'شخ', 'ملخ', 'بوستان', 'خورده', 'مردم', 'ملخ'], ['در', 'آن', 'حال', 'پیش', 'آمدم', 'دوستی', 'از', 'او', 'مانده', 'بر', 'استخوان', 'پوستی'], ['وگر', 'چه', 'به', 'مکنت', 'قوی', 'حال', 'بود', 'خداوند', 'جاه', 'و', 'زر', 'و', 'مال', 'بود'], ['بدو', 'گفتم', 'ای', 'یار', 'پاکیزه', 'خوی', 'چه', 'درماندگی', 'پیشت', 'آمد', 'بگوی'], ['بغرید', 'بر', 'من', 'که', 'عقلت', 'کجاست', 'چون', 'دانی', 'و', 'پرسی', 'سؤالت', 'خطاست'], ['نبینی', 'که', 'سختی', 'به', 'غایت', 'رسید', 'مشقت', 'به', 'حد', 'نهایت', 'رسید'], ['نه', 'باران', 'همی', 'آید', 'از', 'آسمان', 'نه', 'بر', 'می\\u200cرود', 'دود', 'فریادخوان'], ['بدو', 'گفتم', 'آخر', 'تو', 'را', 'باک', 'نیست', 'کشد', 'زهر', 'جایی', 'که', 'تریاک', 'نیست'], ['اگر', 'از', 'نیستی', 'دیگری', 'شد', 'هلاک', 'تو', 'را', 'هست', 'بط', 'را', 'از', 'طوفان', 'چه', 'باک'], ['نگه', 'کرد', 'رنجیده', 'در', 'من', 'فقیه', 'نگه', 'کردن', 'عالم', 'در', 'سفیه'], ['که', 'مرد', 'اگر', 'چه', 'بر', 'ساحل', 'است', 'ای', 'رفیق', 'نیاساید', 'و', 'دوستانش', 'غریق'], ['من', 'از', 'بینوایی', 'نیم', 'روی', 'زرد', 'غم', 'بینوایان', 'رخم', 'زرد', 'کرد'], ['نخواهد_که', 'بیند', 'خردمند', 'ریش', 'نه', 'بر', 'عضو', 'مردم', 'نه', 'بر', 'عضو', 'خویش'], ['یکی', 'اول', 'از', 'تندرستان', 'منم', 'که', 'ریشی', 'ببینم', 'بلرزد', 'تنم'], ['منغص', 'بود', 'عیش', 'آن', 'تندرست', 'که', 'باشد', 'به', 'پهلوی', 'بیمار', 'سست'], ['چون', 'بینم', 'که', 'درویش', 'مسکین', 'نخورد', 'به', 'کام', 'اندرم', 'لقمه', 'زهر', 'است', 'و', 'درد'], ['یکی', 'را', 'به', 'زندان', 'درش', 'دوستان', 'کجا', 'ماندش', 'عیش', 'در', 'بوستان'], ['شبی', 'دود', 'خلق', 'آتشی', 'برفروخت', 'شنیدم', 'که', 'بغداد', 'نیمی', 'بسوخت'], ['یکی', 'شکر', 'گفت', 'اندران', 'خاک', 'و', 'دود', 'که', 'دکان', 'ما', 'را', 'گزندی', 'نبود'], ['جهاندیده\\u200cای', 'گفتش', 'ای', 'بوالهوس', 'تو', 'را', 'خود', 'غم', 'خویشتن', 'بود', 'و', 'بس'], ['پسندی', 'که', 'شهری', 'بسوزد', 'به', 'نار', 'اگر', 'چه', 'سرایت', 'بود', 'بر', 'کنار'], ['به', 'جز', 'سنگدل', 'ناکند', 'معده', 'تنگ', 'چون', 'بیند', 'کسان', 'بر', 'شکم', 'بسته', 'سنگ'], ['توانگر', 'خود', 'آن', 'لقمه', 'چون', 'می\\u200cخورد', 'چون', 'بیند', 'که', 'درویش', 'خون', 'می\\u200cخورد'], ['مگو', 'تندرست', 'است', 'رنجوردار', 'که', 'می\\u200cپیچد', 'از', 'غصه', 'رنجوروار'], ['تنکدل', 'چون', 'یاران', 'به', 'منزل', 'رسند', 'نخسبد', 'که', 'واماندگان', 'از', 'پسند'], ['دل', 'پادشاهان', 'شود', 'بارکش', 'چون', 'بینند', 'در', 'گل', 'خر', 'خارکش'], ['اگر', 'در', 'سرای', 'سعادت', 'کس', 'است', 'از', 'گفتار', 'سعدیش', 'حرفی', 'بس', 'است'], ['همینت', 'بسنده\\u200cست', 'اگر', 'بشنوی', 'که\\u200cگر', 'خار', 'کاری', 'سمن', 'ندروی'], ['خبرداری', 'از', 'خسروان', 'عجم', 'که', 'کردند', 'بر', 'زیردستان', 'ستم'], ['نه', 'آن', 'شوکت', 'و', 'پادشایی', 'بماند', 'نه', 'آن', 'ظلم', 'بر', 'روستایی', 'بماند'], ['خطا', 'بین', 'که', 'بر', 'دست', 'ظالم', 'برفت', 'جهان', 'ماند', 'و', 'با', 'او', 'مظالم', 'برفت'], ['خنک', 'روز', 'محشر', 'تن', 'دادگر', 'که', 'در', 'سایه', 'عرش', 'دارد', 'مقر'], ['به', 'قومی', 'که', 'نیکی', 'پسندد', 'خدای', 'دهد', 'خسروی', 'عادل', 'و', 'نیک', 'رای'], ['چون', 'خواهد_که', 'ویران', 'شود', 'عالمی', 'کند', 'ملک', 'در', 'پنجه', 'ظالمی'], ['سگالند', 'از', 'او', 'نیکمردان', 'حذر', 'که', 'خشم', 'خدای', 'است', 'بیدادگر'], ['بزرگی', 'از', 'او', 'دان', 'و', 'منت', 'شناس', 'که', 'زایل', 'شود', 'نعمت', 'ناسپاس'], ['اگر', 'شکر', 'کردی', 'بر', 'این', 'ملک', 'و', 'مال', 'به', 'مالی', 'و', 'ملکی', 'رسی', 'بی', 'زوال'], ['وگر', 'جور', 'در', 'پادشایی', 'کنی', 'پس', 'از', 'پادشایی', 'گدایی', 'کنی'], ['حرام', 'است', 'بر', 'پادشه', 'خواب', 'خوش', 'چون', 'باشد', 'ضعیف', 'از', 'قوی', 'بارکش'], ['میازار', 'عامی', 'به', 'یک', 'خردله', 'که', 'سلطان', 'شبان', 'است', 'و', 'عامی', 'گله'], ['چون', 'پرخاش', 'بینند', 'و', 'بیداد', 'از', 'او', 'شبان', 'نیست', 'گرگ', 'است', 'فریاد', 'از', 'او'], ['بد', 'انجام', 'رفت', 'و', 'بد', 'اندیشه', 'کرد', 'که', 'با', 'زیردستان', 'جفا', 'پیشه', 'کرد'], ['به', 'سختی', 'و', 'سستی', 'بر', 'این', 'بگذرد', 'بماند', 'بر', 'او', 'سالها', 'نام', 'بد'], ['نخواهی_که', 'نفرین', 'کنند', 'از', 'پست', 'نکو', 'باش', 'تا', 'بد', 'نگوید', 'کست'], ['شنیدم', 'که', 'در', 'مرزی', 'از', 'باختر', 'برادر', 'دو', 'بودند', 'از', 'یک', 'پدر'], ['سپهدار', 'و', 'گردن', 'کش', 'و', 'پیلتن', 'نکو', 'روی', 'و', 'دانا', 'و', 'شمشیر', 'زن'], ['پدر', 'هر', 'دو', 'را', 'سهمگین', 'مرد', 'یافت', 'طلبکار', 'جولان', 'و', 'ناورد', 'یافت'], ['برفت', 'آن', 'زمین', 'را', 'دو', 'قسمت', 'نهاد', 'به', 'هر', 'یک', 'پسر', 'زآن', 'نصیبی', 'بداد'], ['مبادا', 'که', 'بر', 'یکدگر', 'سر', 'کشند', 'به', 'پیکار', 'شمشیر', 'کین', 'برکشند'], ['پدر', 'بعد', 'از', 'آن', 'روزگاری', 'شمرد', 'به', 'جان', 'آفرین', 'جان', 'شیرین', 'سپرد'], ['اجل', 'بگسلاندش', 'طناب', 'امل', 'وفاتش', 'فرو', 'بست', 'دست', 'عمل'], ['مقرر', 'شد', 'آن', 'مملکت', 'بر', 'دو', 'شاه', 'که', 'بی', 'حد', 'و', 'مر', 'بود', 'گنج', 'و', 'سپاه'], ['به', 'حکم', 'نظر', 'در', 'به', 'افتاد', 'خویش', 'گرفتند', 'هر', 'یک', 'یکی', 'راه', 'پیش'], ['یکی', 'عدل', 'تا', 'نام', 'نیکو', 'برد', 'یکی', 'ظلم', 'تا', 'مال', 'گرد', 'آورد'], ['یکی', 'عاطفت', 'سیرت', 'خویش', 'کرد', 'درم', 'داد', 'و', 'تیمار', 'درویش', 'خورد'], ['بنا', 'کرد', 'و', 'نان', 'داد', 'و', 'لشکر', 'نواخت', 'شب', 'از', 'بهر', 'درویش', 'شبخانه', 'ساخت'], ['خزاین', 'تهی', 'کرد', 'و', 'پر', 'کرد', 'جیش', 'چنان', 'که', 'از', 'خلایق', 'به', 'هنگام', 'عیش'], ['برآمد', 'همی', 'بانگ', 'شادی', 'چون', 'رعد', 'چون', 'شیراز', 'در', 'عهد', 'بوبکر', 'سعد'], ['خدیو', 'خردمند', 'فرخ', 'نهاد', 'که', 'شاخ', 'امیدش', 'برومند', 'باد'], ['حکایت', 'شنو', 'کان', 'گو', 'نامجوی', 'پسندیده', 'پی', 'بود', 'و', 'فرخنده', 'خوی'], ['ملازم', 'به', 'دلداری', 'خاص', 'و', 'عام', 'ثناگوی', 'حق', 'بامدادان', 'و', 'شام'], ['در', 'آن', 'ملک', 'قارون', 'برفتی', 'دلیر', 'که', 'شه', 'دادگر', 'بود', 'و', 'درویش', 'سیر'], ['نیامد', 'در', 'ایام', 'او', 'بر', 'دلی', 'نگویم', 'که', 'خاری', 'که', 'برگ', 'گلی'], ['سرآمد', 'به', 'تأیید', 'ملک', 'از', 'سران', 'نهادند', 'سر', 'بر', 'خطش', 'سروران'], ['دیگر', 'خواست', 'کافزون', 'کند', 'تخت', 'و', 'تاج', 'بیافزود', 'بر', 'مرد', 'دهقان', 'خراج'], ['طمع', 'کرد', 'در', 'مال', 'بازارگان', 'بلا', 'ریخت', 'بر', 'جان', 'بیچارگان'], ['به', 'امید', 'بیشی', 'نداد', 'و', 'نخورد', 'خردمند', 'داند', 'که', 'ناخوب', 'کرد'], ['که', 'تا', 'جمع', 'کرد', 'آن', 'زر', 'از', 'گربزی', 'پراکنده_شد', 'لشکر', 'از', 'عاجزی'], ['شنیدند', 'بازارگانان', 'خبر', 'که', 'ظلم', 'است', 'در', 'بوم', 'آن', 'بی\\u200cهنر'], ['بریدند', 'از', 'آنجا', 'خرید', 'و', 'فروخت', 'زراعت', 'نیامد', 'رعیت', 'بسوخت'], ['چون', 'اقبالش', 'از', 'دوستی', 'سر', 'بتافت', 'به', 'ناکام', 'دشمن', 'بر', 'او', 'دست', 'یافت'], ['ستیز', 'فلک', 'بیخ', 'و', 'بارش', 'بکند', 'سم', 'اسب', 'دشمن', 'دیارش', 'بکند'], ['وفا', 'در', 'که', 'جوید', 'چون', 'پیمان', 'گسیخت', 'خراج', 'از', 'که', 'خواهد_چو', 'دهقان', 'گریخت'], ['چه', 'نیکی', 'طمع', 'دارد', 'آن', 'بی\\u200cصفا', 'که', 'باشد', 'دعای', 'بدش', 'در', 'قفا'], ['چون', 'بختش', 'نگون', 'بود', 'در', 'کاف', 'کن', 'نکرد', 'آنچه', 'نیکانش', 'گفتند', 'کن'], ['چه', 'گفتند', 'نیکان', 'بدان', 'نیکمرد', 'تو', 'برخور', 'که', 'بیدادگر', 'بر', 'نخورد'], ['گمانش', 'خطا', 'بود', 'و', 'تدبیر', 'سست', 'که', 'در', 'عدل', 'بود', 'آنچه', 'در', 'ظلم', 'جست'], ['یکی', 'بر', 'سر', 'شاخ', 'بن', 'می\\u200cبرید', 'خداوند', 'بستان', 'نگه', 'کرد', 'و', 'دید'], ['بگفتا\\u200cگر', 'این', 'مرد', 'بد', 'می\\u200cکند', 'نه', 'با', 'من', 'که', 'با', 'نفس', 'خود', 'می\\u200cکند'], ['نصیحت', 'بجای', 'است', 'اگر', 'بشنوی', 'ضعیفان', 'میفکن', 'به', 'کتف', 'قوی'], ['که', 'فردا', 'به', 'داور', 'برد', 'خسروی', 'گدایی', 'که', 'پیشت', 'نیرزد', 'جوی'], ['چون', 'خواهی_که', 'فردا', 'به', 'او', 'مهتری', 'مکن', 'دشمن', 'خویشتن', 'کهتری'], ['که', 'چون', 'بگذرد', 'بر', 'تو', 'این', 'سلطنت', 'بگیرد', 'به', 'قهر', 'آن', 'گدا', 'دامنت'], ['مکن', 'پنجه', 'از', 'ناتوانان', 'بدار', 'که\\u200cگر', 'بفکنندت', 'شوی', 'شرمسار'], ['که', 'زشت', 'است', 'در', 'چشم', 'آزادگان', 'بیافتادن', 'از', 'دست', 'افتادگان'], ['بزرگان', 'روشندل', 'نیکبخت', 'به', 'فرزانگی', 'تاج', 'بردند', 'و', 'تخت'], ['به', 'دنباله', 'راستان', 'کج', 'مرو', 'وگر', 'راست', 'خواهی_ز', 'سعدی', 'شنو'], ['مگو', 'جاهی', 'از', 'سلطنت', 'بیش', 'نیست', 'که', 'ایمن\\u200cتر', 'از', 'ملک', 'درویش', 'نیست'], ['سبکبار', 'مردم', 'سبک\\u200cتر', 'روند', 'حق', 'این', 'است', 'و', 'صاحبدلان', 'بشنوند'], ['تهیدست', 'تشویش', 'نانی', 'خورد', 'جهانبان', 'به', 'قدر', 'جهانی', 'خورد'], ['گدا', 'را', 'چون', 'حاصل', 'شود', 'نان', 'شام', 'چنان', 'خوش', 'بخسبد', 'که', 'سلطان', 'شام'], ['غم', 'و', 'شادمانی', 'به', 'سر', 'می\\u200cرود', 'به', 'مرگ', 'این', 'دو', 'از', 'سر', 'به', 'در', 'می\\u200cرود'], ['چه', 'آن', 'را', 'که', 'بر', 'سر', 'نهادند', 'تاج', 'چه', 'آن', 'را', 'که', 'بر', 'گردن', 'آمد', 'خراج'], ['اگر', 'سرفرازی', 'به', 'کیوان', 'بر', 'است', 'وگر', 'تنگدستی', 'به', 'زندان', 'در', 'است'], ['چون', 'خیل', 'اجل', 'بر', 'سر', 'هر', 'دو', 'تاخت', 'نمی\\u200cشاید', 'از', 'یکدگرشان', 'شناخت'], ['شنیدم', 'که', 'یک', 'بار', 'در', 'حله\\u200cای', 'سخن', 'گفت', 'با', 'عابدی', 'کله\\u200cای'], ['که', 'من', 'فر', 'فرماندهی', 'داشتم', 'به', 'سر', 'بر', 'کلاه', 'مهی', 'داشتم'], ['سپهرم', 'مدد', 'کرد', 'و', 'نصرت', 'وفاق', 'گرفتم', 'به', 'بازوی', 'دولت', 'عراق'], ['طمع', 'کرده_بودم', 'که', 'کرمان', 'خورم', 'که', 'ناگه', 'بخوردند', 'کرمان', 'سرم'], ['بکن', 'پنبه', 'غفلت', 'از', 'گوش', 'هوش', 'که', 'از', 'مردگان', 'پندت', 'آید', 'به', 'گوش'], ['نکوکار', 'مردم', 'نباشد', 'بدش', 'نورزد', 'کسی', 'بد', 'که', 'نیک', 'افتدش'], ['شر', 'انگیز', 'هم', 'بر', 'سر', 'شر', 'شود', 'چون', 'کژدم', 'که', 'با', 'خانه', 'کمتر', 'شود'], ['اگر', 'نفع', 'کس', 'در', 'نهاد', 'تو', 'نیست', 'چنین', 'گوهر', 'و', 'سنگ', 'خارا', 'یکی', 'است'], ['غلط', 'گفتم', 'ای', 'یار', 'شایسته', 'خوی', 'که', 'نفع', 'است', 'در', 'آهن', 'و', 'سنگ', 'و', 'روی'], ['چنین', 'آدمی', 'مرده', 'به', 'ننگ', 'را', 'که', 'بر', 'او', 'فضیلت', 'بود', 'سنگ', 'را'], ['نه', 'هر', 'آدمی', 'زاده', 'از', 'دد', 'به', 'است', 'که', 'دد', 'از', 'آدمی', 'زاده', 'بد', 'به', 'است'], ['به', 'است', 'از', 'دد', 'انسان', 'صاحب', 'خرد', 'نه', 'انسان', 'که', 'در', 'مردم', 'افتد', 'چون', 'دد'], ['چون', 'انسان', 'نداند', 'به', 'جز', 'خورد', 'و', 'خواب', 'کدامش', 'فضیلت', 'بود', 'بر', 'دواب'], ['سوار', 'نگون', 'بخت', 'بی', 'راهرو', 'پیاده', 'برد', 'از', 'او', 'به', 'رفتن', 'گرو'], ['کسی', 'دانه', 'نیکمردی', 'نکاشت', 'که', 'از', 'او', 'خرمن', 'کام', 'دل', 'برنداشت'], ['نه', 'هرگز', 'شنیدیم', 'در', 'عمر', 'خویش', 'که', 'بدمرد', 'را', 'نیکی', 'آمد', 'به', 'پیش'], ['گزیری', 'به', 'چاهی', 'در', 'افتاده_بود', 'که', 'از', 'هول', 'او', 'شیر', 'نر', 'ماده', 'بود'], ['بداندیش', 'مردم', 'به', 'جز', 'بد', 'ندید', 'بیافتاد', 'و', 'عاجزتر', 'از', 'خود', 'ندید'], ['همه', 'شب', 'از', 'فریاد', 'و', 'زاری', 'نخفت', 'یکی', 'بر', 'سرش', 'کوفت', 'سنگی', 'و', 'گفت'], ['تو', 'هرگز', 'رسیدی', 'به', 'فریاد', 'کس', 'که', 'می\\u200cخواهی', 'امروز', 'فریادرس'], ['همه', 'تخم', 'نامردمی', 'کاشتی', 'ببین', 'لاجرم', 'بر', 'که', 'برداشتی'], ['که', 'بر', 'جان', 'ریشت', 'نهد', 'مرهمی', 'که', 'دلها', 'از', 'ریشت', 'بنالد', 'همی'], ['تو', 'ما', 'را', 'همی', 'چاه', 'کندی', 'به', 'راه', 'به', 'سر', 'لاجرم', 'در', 'فتادی', 'به', 'چاه'], ['دو', 'کس', 'چه', 'کنند', 'از', 'پی', 'خاص', 'و', 'عام', 'یکی', 'نیک', 'محضر', 'دیگر', 'زشت', 'نام'], ['یکی', 'تشنه', 'را', 'تا', 'کند', 'تازه', 'حلق', 'دیگر', 'تا', 'به', 'گردن', 'در', 'افتند', 'خلق'], ['اگر', 'بد', 'کنی', 'چشم', 'نیکی', 'مدار', 'که', 'هرگز', 'نیارد', 'گز', 'انگور', 'بار'], ['نپندارم', 'ای', 'در', 'خزان', 'کشته', 'جو', 'که', 'گندم', 'ستانی', 'به', 'وقت', 'درو'], ['درخت', 'زقوم', 'اگر', 'به', 'جان', 'پروری', 'مپندار', 'هرگز', 'که', 'از', 'او', 'بر', 'خوری'], ['رطب', 'ناورد', 'چوب', 'خرزهره', 'بار', 'چون', 'تخم', 'افکنی', 'بر', 'همان', 'چشم', 'دار'], ['حکایت', 'کنند', 'از', 'یکی', 'نیکمرد', 'که', 'اکرام', 'حجاج', 'یوسف', 'نکرد'], ['به', 'سرهنگ', 'دیوان', 'نگه', 'کرد', 'تیز', 'که', 'نطعش', 'بیانداز', 'و', 'خونش', 'بریز'], ['چون', 'حجت', 'نماند', 'جفا', 'جوی', 'را', 'به', 'پرخاش', 'در', 'هم', 'کشد', 'روی', 'را'], ['بخندید', 'و', 'بگریست', 'مرد', 'خدای', 'عجب', 'داشت', 'سنگین', 'دل', 'تیره', 'رای'], ['چون', 'دیدش', 'که', 'خندید', 'و', 'دیگر', 'گریست', 'بپرسید', 'کاین', 'خنده', 'و', 'گریه', 'چیست'], ['بگفتا', 'همی\\u200cگریم', 'از', 'روزگار', 'که', 'طفلان', 'بیچاره', 'دارم', 'چهار'], ['همی\\u200cخندم', 'از', 'لطف', 'یزدان', 'پاک', 'که', 'مظلوم', 'رفتم', 'نه', 'ظالم', 'به', 'خاک'], ['پسر', 'گفتش', 'ای', 'نامور', 'شهریار', 'یکی', 'دست', 'از', 'این', 'مرد', 'صوفی', 'بدار'], ['که', 'خلقی', 'بر', 'او', 'روی', 'دارند', 'و', 'پشت', 'نه', 'رای', 'است', 'خلقی', 'به', 'یک', 'بار', 'کشت'], ['بزرگی', 'و', 'عفو', 'و', 'کرم', 'پیشه', 'کن', 'از', 'خردان', 'اطفالش', 'اندیشه', 'کن'], ['شنیدم', 'که', 'نشنید', 'و', 'خونش', 'بریخت', 'از', 'فرمان', 'داور', 'که', 'داند', 'گریخت'], ['بزرگی', 'در', 'آن', 'فکرت', 'آن', 'شب', 'بخفت', 'به', 'خواب', 'اندرش', 'دید', 'و', 'پرسید', 'و', 'گفت'], ['دمی', 'بیش', 'بر', 'من', 'سیاست', 'نراند', 'عقوبت', 'بر', 'او', 'تا', 'قیامت', 'بماند'], ['نخفته\\u200cست', 'مظلوم', 'از', 'آهش', 'بترس', 'از', 'دود', 'دل', 'صبحگاهش', 'بترس'], ['نترسی', 'که', 'پاک', 'اندرونی', 'شبی', 'بر', 'آرد', 'از', 'سوز', 'جگر', 'یا', 'ربی'], ['نه', 'ابلیس', 'بد', 'کرد', 'و', 'نیکی', 'ندید', 'بر', 'پاک', 'ناید', 'از', 'تخم', 'پلید'], ['مدر', 'پرده', 'کس', 'به', 'هنگام', 'جنگ', 'که', 'باشد', 'تو', 'را', 'نیز', 'در', 'پرده', 'ننگ'], ['مزن', 'بانگ', 'بر', 'شیرمردان', 'درشت', 'چون', 'با', 'کودکان', 'برنیایی', 'به', 'مشت'], ['یکی', 'پند', 'می\\u200cداد', 'فرزند', 'را', 'نگه', 'دار', 'پند', 'خردمند', 'را'], ['مکن', 'جور', 'بر', 'خردکان', 'ای', 'پسر', 'که', 'یک', 'روزت', 'افتد', 'بزرگی', 'به', 'سر'], ['نمی\\u200cترسی', 'ای', 'گرگگ', 'کم', 'خرد', 'که', 'روزی', 'پلنگیت', 'بر', 'هم', 'درد'], ['به', 'خردی', 'درم', 'زور', 'سرپنجه', 'بود', 'دل', 'زیردستان', 'از', 'من', 'رنجه', 'بود'], ['بخوردم', 'یکی', 'مشت', 'زورآوران', 'نکردم', 'دیگر', 'زور', 'بر', 'لاغران'], ['الا', 'تا', 'به', 'غفلت', 'نخفتی', 'که', 'نوم', 'حرام', 'است', 'بر', 'چشم', 'سالار', 'قوم'], ['غم', 'زیردستان', 'بخور', 'زینهار', 'بترس', 'از', 'زبردستی', 'روزگار'], ['نصیحت', 'که', 'خالی', 'بود', 'از', 'غرض', 'چون', 'داروی', 'تلخ', 'است', 'دفع', 'مرض'], ['یکی', 'را', 'حکایت', 'کنند', 'از', 'ملوک', 'که', 'بیماری', 'رشته', 'کردش', 'چون', 'دوک'], ['چنانش', 'در', 'انداخت', 'ضعف', 'جسد', 'که', 'می\\u200cبرد', 'بر', 'زیردستان', 'حسد'], ['که', 'شاه', 'اگر', 'چه', 'بر', 'عرصه', 'نام', 'آور', 'است', 'چون', 'ضعف', 'آمد', 'از', 'بیدقی', 'کمتر', 'است'], ['ندیمی', 'زمین', 'ملک', 'بوسه', 'داد', 'که', 'ملک', 'خداوند', 'جاوید', 'باد'], ['در', 'این', 'شهر', 'مردی', 'مبارک', 'دم', 'است', 'که', 'در', 'پارسایی', 'چنویی', 'کم', 'است'], ['نرفته\\u200cست', 'هرگز', 'راه', 'ناصواب', 'دلی', 'روشن', 'و', 'دعوتی', 'مستجاب'], ['نبردند', 'پیشش', 'مهمات', 'کس', 'که', 'مقصود', 'حاصل', 'نشد', 'در', 'نفس'], ['بخوان', 'تا', 'بخواند', 'دعایی', 'بر', 'این', 'که', 'رحمت', 'رسد', 'از', 'آسمان', 'برین'], ['بفرمود', 'تا', 'مهتران', 'خدم', 'بخواندند', 'پیر', 'مبارک', 'قدم'], ['برفتند', 'و', 'گفتند', 'و', 'آمد', 'فقیر', 'تنی', 'محتشم', 'در', 'لباسی', 'حقیر'], ['بگفتا', 'دعایی', 'کن', 'ای', 'هوشمند', 'که', 'در', 'رشته', 'چون', 'سوزنم', 'پای\\u200cبند'], ['شنید', 'این', 'سخن', 'پیر', 'خم', 'بوده', 'پشت', 'به', 'تندی', 'برآورد', 'بانگی', 'درشت'], ['که', 'حق', 'مهربان', 'است', 'بر', 'دادگر', 'ببخشای', 'و', 'بخشایش', 'حق', 'نگر'], ['دعای', 'منت', 'کی', 'شود', 'سودمند', 'اسیران', 'محتاج', 'در', 'چاه', 'و', 'بند'], ['تو', 'ناکرده', 'بر', 'خلق', 'بخشایشی', 'کجا', 'بینی', 'از', 'دولت', 'آسایشی'], ['ببایدت', 'عذر', 'خطا', 'خواستن', 'پس', 'از', 'شیخ', 'صالح', 'دعا', 'خواستن'], ['کجا', 'دست', 'گیرد', 'دعای', 'ویت', 'دعای', 'ستمدیدگان', 'در', 'پیت'], ['شنید', 'این', 'سخن', 'شهریار', 'عجم', 'از', 'خشم', 'و', 'خجالت', 'بر', 'آمد', 'بهم'], ['برنجید', 'و', 'پس', 'با', 'دل', 'خویش', 'گفت', 'چه', 'رنجم', 'حق', 'است', 'این', 'که', 'درویش', 'گفت'], ['بفرمود', 'تا', 'هر', 'که', 'در', 'بند', 'بود', 'به', 'فرمانش', 'آزاد', 'کردند', 'زود'], ['جهاندیده', 'بعد', 'از', 'دو', 'رکعت', 'نماز', 'به', 'داور', 'برآورد', 'دست', 'نیاز'], ['که\\u200cای', 'برفرازنده', 'آسمان', 'به', 'جنگش', 'گرفتی', 'به', 'صلحش', 'بمان'], ['ولی', 'همچنان', 'بر', 'دعا', 'داشت', 'دست', 'که', 'شه', 'سر', 'برآورد', 'و', 'بر', 'پا', 'جست'], ['تو', 'گفتی', 'از', 'شادی', 'بخواهد', 'پرید', 'چون', 'طاووس', 'چون', 'رشته', 'در', 'پا', 'ندید'], ['بفرمود', 'گنجینه', 'گوهرش', 'فشاندند', 'در', 'پا', 'و', 'زر', 'بر', 'سرش'], ['حق', 'از', 'بهر', 'باطل', 'نشاید', 'نهفت', 'از', 'آن', 'جمله', 'دامن', 'بیفشاند', 'و', 'گفت'], ['مرو', 'با', 'سر', 'رشته', 'بار', 'دیگر', 'مبادا', 'که', 'دیگر', 'کند', 'رشته', 'سر'], ['چون', 'باری', 'فتادی', 'نگه\\u200cدار', 'پا', 'که', 'یک', 'بار', 'دیگر', 'بلغزد', 'از', 'جای'], ['از', 'سعدی', 'شنو', 'کاین', 'سخن', 'راست', 'است', 'نه', 'هر', 'باری', 'افتاده', 'برخاسته\\u200cست'], ['جهان', 'ای', 'پسر', 'ملک', 'جاوید', 'نیست', 'از', 'دنیا', 'وفاداری', 'امید', 'نیست'], ['نه', 'بر', 'باد', 'رفتی', 'سحرگاه', 'و', 'شام', 'سریر', 'سلیمان', 'علیه\\u200cالسلام'], ['به', 'آخر', 'ندیدی', 'که', 'بر', 'باد', 'رفت', 'خنک', 'آن', 'که', 'با', 'دانش', 'و', 'داد', 'رفت'], ['کسی', 'زین', 'میان', 'گوی', 'دولت', 'ربود', 'که', 'در', 'بند', 'آسایش', 'خلق', 'بود'], ['به', 'کار', 'آمد', 'آنها', 'که', 'برداشتند', 'نه', 'گرد', 'آوریدند', 'و', 'بگذاشتند'], ['شنیدم', 'که', 'در', 'مصر', 'میری', 'اجل', 'سپه', 'تاخت', 'بر', 'روزگارش', 'اجل'], ['جمالش', 'برفت', 'از', 'رخ', 'دل', 'فروز', 'چون', 'خور', 'زرد', 'شد', 'بس', 'نماند', 'از', 'روز'], ['گزیدند', 'فرزانگان', 'دست', 'فوت', 'که', 'در', 'طب', 'ندیدند', 'داروی', 'موت'], ['همه', 'تخت', 'و', 'ملکی', 'پذیرد', 'زوال', 'به', 'جز', 'ملک', 'فرمانده', 'لایزال'], ['چون', 'نزدیک', 'شد', 'روز', 'عمرش', 'به', 'شب', 'شنیدند', 'می\\u200cگفت', 'در', 'زیر', 'لب'], ['که', 'در', 'مصر', 'چون', 'من', 'عزیزی', 'نبود', 'چون', 'حاصل', 'همین', 'بود', 'چیزی', 'نبود'], ['جهان', 'گرد', 'کردم', 'نخوردم', 'برش', 'برفتم', 'چون', 'بیچارگان', 'از', 'سرش'], ['پسندیده', 'رایی', 'که', 'بخشید', 'و', 'خورد', 'جهان', 'از', 'پی', 'خویشتن', 'گرد', 'کرد'], ['در', 'این', 'کوش', 'تا', 'با', 'تو', 'ماند', 'مقیم', 'که', 'هرچ', 'از', 'تو', 'ماند', 'دریغ', 'است', 'و', 'بیم'], ['کند', 'خواجه', 'بر', 'بستر', 'جان\\u200cگداز', 'یکی', 'دست', 'کوتاه', 'و', 'دیگر', 'دراز'], ['در', 'آن', 'دم', 'تو', 'را', 'می\\u200cنماید', 'به', 'دست', 'که', 'دهشت', 'زبانش', 'از', 'گفتن', 'ببست'], ['که', 'دستی', 'به', 'جود', 'و', 'کرم', 'کن', 'دراز', 'دیگر', 'دست', 'کوته', 'کن', 'از', 'ظلم', 'و', 'آز'], ['کنونت', 'که', 'دست', 'است', 'خاری', 'بکن', 'دیگر', 'کی', 'بر', 'آری', 'تو', 'دست', 'از', 'کفن'], ['بتابد', 'بسی', 'ماه', 'و', 'پروین', 'و', 'هور', 'که', 'سر', 'بر', 'نداری', 'از', 'بالین', 'گور'], ['قزل', 'ارسلان', 'قلعه\\u200cای', 'سخت', 'داشت', 'که', 'گردن', 'به', 'الوند', 'بر', 'می\\u200cفراشت'], ['نه', 'اندیشه', 'از', 'کس', 'نه', 'حاجت', 'به', 'هیچ', 'چون', 'زلف', 'عروسان', 'رهش', 'پیچ', 'پیچ'], ['چنان', 'نادر', 'افتاده', 'در', 'روضه\\u200cای', 'که', 'بر', 'لاجوردی', 'طبق', 'بیضه\\u200cای'], ['شنیدم', 'که', 'مردی', 'مبارک', 'حضور', 'به', 'نزدیک', 'شاه', 'آمد', 'از', 'راه', 'دور'], ['حقایق', 'شناسی', 'جهاندیده\\u200cای', 'هنرمندی', 'آفاق', 'گردیده\\u200cای'], ['بزرگی', 'زبان', 'آوری', 'کاردان', 'حکیمی', 'سخنگوی', 'بسیاردان'], ['قزل', 'گفت', 'چندین', 'که', 'گردیده\\u200cای', 'چنین', 'جای', 'محکم', 'دیگر', 'دیده\\u200cای'], ['بخندید', 'کاین', 'قلعه\\u200cای', 'خرم', 'است', 'ولیکن', 'نپندارمش', 'محکم', 'است'], ['نه', 'پیش', 'از', 'تو', 'گردن', 'کشان', 'داشتند', 'دمی', 'چند', 'بودند', 'و', 'بگذاشتند'], ['نه', 'بعد', 'از', 'تو', 'شاهان', 'دیگر', 'برند', 'درخت', 'امید', 'تو', 'را', 'بر', 'خورند'], ['از', 'دوران', 'ملک', 'پدر', 'یاد', 'کن', 'دل', 'از', 'بند', 'اندیشه', 'آزاد', 'کن'], ['چنان', 'روزگارش', 'به', 'کنجی', 'نشاند', 'که', 'بر', 'یک', 'پشیزش', 'تصرف', 'نماند'], ['چون', 'نومید', 'ماند', 'از', 'همه', 'چیز', 'و', 'کس', 'امیدش', 'به', 'فضل', 'خدا', 'ماند', 'و', 'بس'], ['بر', 'مرد', 'هشیار', 'دنیا', 'خس', 'است', 'که', 'هر', 'مدتی', 'جای', 'دیگر', 'کس', 'است'], ['چنین', 'گفت', 'شوریده\\u200cای', 'در', 'عجم', 'به', 'کسری', 'که\\u200cای', 'وارث', 'ملک', 'جم'], ['اگر', 'ملک', 'بر', 'جم', 'بماندی', 'و', 'بخت', 'تو', 'را', 'کی', 'میسر', 'شدی', 'تاج', 'و', 'تخت'], ['اگر', 'گنج', 'قارون', 'به', 'دست', 'آوری', 'نماند', 'مگر', 'آنچه', 'بخشی', 'بری'], ['چون', 'الب', 'ارسلان', 'جان', 'به', 'جان\\u200cبخش', 'داد', 'پسر', 'تاج', 'شاهی', 'به', 'سر', 'برنهاد'], ['به', 'تربت', 'سپردندش', 'از', 'تاجگاه', 'نه', 'جای', 'نشستن', 'بد', 'آماجگاه'], ['چنین', 'گفت', 'دیوانه\\u200cای', 'هوشیار', 'چون', 'دیدش', 'پسر', 'روز', 'دیگر', 'سوار'], ['زهی', 'ملک', 'و', 'دوران', 'سر', 'در', 'نشیب', 'پدر', 'رفت', 'و', 'پا', 'پسر', 'در', 'رکیب'], ['چنین', 'است', 'گردیدن', 'روزگار', 'سبک', 'سیر', 'و', 'بدعهد', 'و', 'ناپایدار'], ['چون', 'دیرینه', 'روزی', 'سرآورد', 'عهد', 'جوان', 'دولتی', 'سر', 'برآرد', 'از', 'مهد'], ['منه', 'بر', 'جهان', 'دل', 'که', 'بیگانه\\u200cای', 'است', 'چون', 'مطرب', 'که', 'هر', 'روز', 'در', 'خانه\\u200cای', 'است'], ['نه', 'لایق', 'بود', 'عیش', 'با', 'دلبری', 'که', 'هر', 'بامدادش', 'بود', 'شوهری'], ['نکویی', 'کن', 'امسال', 'چون', 'ده', 'تو', 'راست', 'که', 'سال', 'دیگر', 'دیگری', 'دهخداست'], ['شنیدم', 'که', 'از', 'پادشاهان', 'غور', 'یکی', 'پادشه', 'خر', 'گرفتی', 'به', 'زور'], ['خران', 'زیر', 'بار', 'گران', 'بی', 'علف', 'به', 'روزی', 'دو', 'مسکین', 'شدندی', 'تلف'], ['چون', 'منعم', 'کند', 'سفله', 'را', 'روزگار', 'نهد', 'بر', 'دل', 'تنگ', 'درویش', 'بار'], ['چون', 'بام', 'بلندش', 'بود', 'خودپرست', 'کند', 'بول', 'و', 'خاشاک', 'بر', 'بام', 'پست'], ['شنیدم', 'که', 'باری', 'به', 'عزم', 'شکار', 'برون', 'رفت', 'بیدادگر', 'شهریار'], ['تکاور', 'به', 'دنبال', 'صیدی', 'براند', 'شبش', 'در', 'گرفت', 'از', 'حشم', 'باز', 'ماند'], ['به', 'تنها', 'ندانست', 'روی', 'و', 'رهی', 'بینداخت', 'ناکام', 'شب', 'در', 'دهی'], ['یکی', 'پیرمرد', 'در', 'آن', 'ده', 'مقیم', 'از', 'پیران', 'مردم', 'شناس', 'قدیم'], ['پسر', 'را', 'همی\\u200cگفت', 'کای', 'شادبهر', 'خرت', 'را', 'مبر', 'بامدادان', 'به', 'شهر'], ['که', 'این', 'ناجوانمرد', 'برگشته', 'بخت', 'که', 'تابوت', 'بینمش', 'بر', 'جای', 'تخت'], ['کمر', 'بسته', 'دارد', 'به', 'فرمان', 'دیو', 'به', 'گردون', 'بر', 'از', 'دست', 'جورش', 'غریو'], ['در', 'این', 'کشور', 'آسایش', 'و', 'خرمی', 'ندید', 'و', 'نبیند', 'به', 'چشم', 'آدمی'], ['مگر', 'کاین', 'سیه', 'نامه', 'بی\\u200cصفا', 'به', 'دوزخ', 'برد', 'لعنت', 'در', 'قفا'], ['پسر', 'گفت', 'راه', 'دراز', 'است', 'و', 'سخت', 'پیاده', 'نیارم', 'شد', 'ای', 'نیکبخت'], ['طریقی', 'بیندیش', 'و', 'رایی', 'بزن', 'که', 'رای', 'تو', 'روشن\\u200cتر', 'از', 'رای', 'من'], ['پدر', 'گفت', 'اگر', 'پند', 'من', 'بشنوی', 'یکی', 'سنگ', 'برداشت', 'باید', 'قوی'], ['زدن', 'بر', 'خر', 'نامور', 'چند', 'بار', 'سر', 'و', 'دست', 'و', 'پهلوش', 'کردن', 'فگار'], ['مگر', 'کان', 'فرومایه', 'زشت', 'کیش', 'به', 'کارش', 'نیاید', 'خر', 'پشت', 'ریش'], ['چون', 'خضر', 'پیمبر', 'که', 'کشتی', 'شکست', 'وز', 'او', 'دست', 'جبار', 'ظالم', 'ببست'], ['به', 'سالی', 'که', 'در', 'بحر', 'کشتی', 'گرفت', 'بسی', 'سالها', 'نام', 'زشتی', 'گرفت'], ['تفو', 'بر', 'چنان', 'ملک', 'و', 'دولت', 'که', 'راند', 'که', 'شنعت', 'بر', 'او', 'تا', 'قیامت', 'بماند'], ['پسر', 'چون', 'شنید', 'این', 'حدیث', 'از', 'پدر', 'سر', 'از', 'خط', 'فرمان', 'نبردش', 'به', 'در'], ['فرو', 'کوفت', 'بیچاره', 'خر', 'را', 'به', 'سنگ', 'خر', 'از', 'دست', 'عاجز', 'شد', 'از', 'پا', 'لنگ'], ['پدر', 'گفتش', 'اکنون', 'سر', 'خویش', 'گیر', 'هر', 'آن', 'راه', 'که', 'می\\u200cبایدت', 'پیش', 'گیر'], ['پسر', 'در', 'پی', 'کاروان', 'اوفتاد', 'از', 'دشنام', 'چندان', 'که', 'دانست', 'داد'], ['وز', 'آن', 'سو', 'پدر', 'روی', 'در', 'آستان', 'که', 'یارب', 'به', 'سجاده', 'راستان'], ['که', 'چندان', 'امانم', 'ده', 'از', 'روزگار', 'که', 'از', 'این', 'نحس', 'ظالم', 'بر', 'آید', 'دمار'], ['اگر', 'من', 'نبینم', 'مر', 'او', 'را', 'هلاک', 'شب', 'گور', 'چشمم', 'نخسبد', 'به', 'خاک'], ['اگر', 'مار', 'زاید', 'زن', 'باردار', 'به', 'از', 'آدمی', 'زاده', 'دیوسار'], ['زن', 'از', 'مرد', 'موذی', 'به', 'بسیار', 'به', 'سگ', 'از', 'مردم', 'مردم\\u200cآزار', 'به'], ['مخنث', 'که', 'بیداد', 'بر', 'خود', 'کند', 'از', 'آن', 'به', 'که', 'با', 'دیگری', 'بد', 'کند'], ['شه', 'این', 'جمله', 'بشنید', 'و', 'چیزی', 'نگفت', 'ببست', 'اسب', 'و', 'سر', 'بر', 'نمد', 'زین', 'بخفت'], ['همه', 'شب', 'به', 'بیداری', 'اختر', 'شمرد', 'از', 'سودا', 'و', 'اندیشه', 'خوابش', 'نبرد'], ['چون', 'آواز', 'مرغ', 'سحر', 'گوش', 'کرد', 'پریشانی', 'شب', 'فراموش', 'کرد'], ['سواران', 'همه', 'شب', 'همی', 'تاختند', 'سحرگه', 'پی', 'اسب', 'بشناختند'], ['بر', 'آن', 'عرصه', 'بر', 'اسب', 'دیدند', 'شاه', 'پیاده', 'دویدند', 'یکسر', 'سپاه'], ['به', 'خدمت', 'نهادند', 'سر', 'بر', 'زمین', 'چون', 'دریا', 'شد', 'از', 'موج', 'لشکر', 'زمین'], ['یکی', 'گفتش', 'از', 'دوستان', 'قدیم', 'که', 'شب', 'حاجبش', 'بود', 'و', 'روزش', 'ندیم'], ['رعیت', 'چه', 'نزلت', 'نهادند', 'دوش', 'که', 'ما', 'را', 'نه', 'چشم', 'آرمید', 'و', 'نه', 'گوش'], ['شهنشه', 'نیارست', 'کردن', 'حدیث', 'که', 'بر', 'او', 'چه', 'آمد', 'از', 'خبث', 'خبیث'], ['هم', 'آهسته', 'سر', 'برد', 'پیش', 'سرش', 'فرو', 'گفت', 'پنهان', 'به', 'گوش', 'اندرش'], ['کسم', 'پا', 'مرغی', 'نیاورد', 'پیش', 'ولی', 'دست', 'خر', 'رفت', 'از', 'اندازه', 'بیش'], ['بزرگان', 'نشستند', 'و', 'خوان', 'خواستند', 'بخوردند', 'و', 'مجلس', 'بیاراستند'], ['چون', 'شور', 'و', 'طرب', 'در', 'نهاد', 'آمدش', 'از', 'دهقان', 'دوشینه', 'یاد', 'آمدش'], ['بفرمود', 'و', 'جستند', 'و', 'بستند', 'سخت', 'به', 'خواری', 'فکندند', 'در', 'پا', 'تخت'], ['سیه', 'دل', 'برآهخت', 'شمشیر', 'تیز', 'ندانست', 'بیچاره', 'راه', 'گریز'], ['سر', 'ناامیدی', 'برآورد', 'و', 'گفت', 'نشاید', 'شب', 'گور', 'در', 'خانه', 'خفت'], ['نه', 'تنها', 'منت', 'گفتم', 'ای', 'شهریار', 'که', 'برگشته', 'بختی', 'و', 'بد', 'روزگار'], ['چرا', 'خشم', 'بر', 'من', 'گرفتی', 'و', 'بس', 'منت', 'پیش', 'گفتم', 'همه', 'خلق', 'پس'], ['چون', 'بیداد', 'کردی', 'توقع', 'مدار', 'که', 'نامت', 'به', 'نیکی', 'رود', 'در', 'دیار'], ['ور', 'ایدون', 'که', 'دشوارت', 'آمد', 'سخن', 'دیگر', 'هر', 'چه', 'دشوارت', 'آید', 'مکن'], ['تو', 'را', 'چاره', 'از', 'ظلم', 'برگشتن', 'است', 'نه', 'بیچاره', 'بی\\u200cگنه', 'کشتن', 'است'], ['من', 'را', 'پنج', 'روز', 'دیگر', 'مانده', 'گیر', 'دو', 'روز', 'دیگر', 'عیش', 'خوش', 'رانده', 'گیر'], ['نماند', 'ستمکار', 'بد', 'روزگار', 'بماند', 'بر', 'او', 'لعنت', 'پایدار'], ['تو', 'را', 'نیک', 'پند', 'است', 'اگر', 'بشنوی', 'وگر', 'نشنوی', 'خود', 'پشیمان', 'شوی'], ['بدان', 'کی', 'ستوده', 'شود', 'پادشاه', 'که', 'خلقش', 'ستایند', 'در', 'بارگاه'], ['چه', 'سود', 'آفرین', 'بر', 'سر', 'انجمن', 'پس', 'چرخه', 'نفرین', 'کنان', 'پیرزن'], ['همی', 'گفت', 'و', 'شمشیر', 'بالای', 'سر', 'سپر', 'کرده', 'جان', 'پیش', 'تیر', 'قدر'], ['نبینی', 'که', 'چون', 'کارد', 'بر', 'سر', 'بود', 'قلم', 'را', 'زبانش', 'روان\\u200cتر', 'بود'], ['شه', 'از', 'مستی', 'غفلت', 'آمد', 'به', 'هوش', 'به', 'گوشش', 'فرو', 'گفت', 'فرخ', 'سروش'], ['که', 'از', 'این', 'پیر', 'دست', 'عقوبت', 'بدار', 'یکی', 'کشته', 'گیر', 'از', 'هزاران', 'هزار'], ['زمانی', 'سر', 'در', 'گریبان', 'بماند', 'پس', 'آن', 'گه', 'به', 'عفو', 'آستین', 'برفشاند'], ['به', 'دستان', 'خود', 'بند', 'از', 'او', 'برگرفت', 'سرش', 'را', 'ببوسید', 'و', 'در', 'بر', 'گرفت'], ['بزرگیش', 'بخشید', 'و', 'فرماندهی', 'از', 'شاخ', 'امیدش', 'برآمد', 'بهی'], ['به', 'گیتی', 'حکایت', 'شد', 'این', 'داستان', 'رود', 'نیکبخت', 'از', 'پی', 'راستان'], ['بیاموزی', 'از', 'عاقلان', 'حسن', 'خوی', 'نه', 'چندان', 'که', 'از', 'غافل', 'عیب', 'جوی'], ['از', 'دشمن', 'شنو', 'سیرت', 'خود', 'که', 'دوست', 'هرآنچ', 'از', 'تو', 'آید', 'به', 'چشمش', 'نکوست'], ['وبال', 'است', 'دادن', 'به', 'رنجور', 'قند', 'که', 'داروی', 'تلخش', 'بود', 'سودمند'], ['ترش', 'روی', 'بهتر', 'کند', 'سرزنش', 'که', 'یاران', 'خوش', 'طبع', 'شیرین', 'منش'], ['از', 'این', 'به', 'نصیحت', 'نگوید', 'کست', 'اگر', 'عاقلی', 'یک', 'اشارت', 'بست'], ['چون', 'دور', 'خلافت', 'به', 'مأمون', 'رسید', 'یکی', 'ماه', 'پیکر', 'کنیزک', 'خرید'], ['به', 'چهر', 'آفتابی', 'به', 'تن', 'گلبنی', 'به', 'عقل', 'خردمند', 'بازی', 'کنی'], ['به', 'خون', 'عزیزان', 'فرو', 'برده', 'چنگ', 'سر', 'انگشتها', 'کرده', 'عناب', 'رنگ'], ['بر', 'ابروی', 'عابد', 'فریبش', 'خضاب', 'چون', 'قوس', 'قزح', 'بود', 'بر', 'آفتاب'], ['شب', 'خلوت', 'آن', 'لعبت', 'حور', 'زاد', 'مگر', 'تن', 'در', 'آغوش', 'مأمون', 'نداد'], ['گرفت', 'آتش', 'خشم', 'در', 'او', 'عظیم', 'سرش', 'خواست', 'کردن', 'چون', 'جوزا', 'دو', 'نیم'], ['بگفتا', 'سر', 'اینک', 'به', 'شمشیر', 'تیز', 'بینداز', 'و', 'با', 'من', 'مکن', 'خفت', 'و', 'خیز'], ['بگفت', 'از', 'چه', 'بر', 'دل', 'گزند', 'آمدت', 'چه', 'خصلت', 'از', 'من', 'ناپسند', 'آمدت'], ['بگفت', 'اگر', 'کشی', 'ور', 'شکافی', 'سرم', 'از', 'بوی', 'دهانت', 'به', 'رنج', 'اندرم'], ['کشد', 'تیر', 'پیکار', 'و', 'تیغ', 'ستم', 'به', 'یک', 'بار', 'و', 'بوی', 'دهن', 'دم', 'به', 'دم'], ['شنید', 'این', 'سخن', 'سرور', 'نیکبخت', 'برآشفت', 'تند', 'و', 'برنجید', 'سخت'], ['همه', 'شب', 'در', 'این', 'فکر', 'بود', 'و', 'نخفت', 'دیگر', 'روز', 'با', 'هوشمندان', 'بگفت'], ['طبیعت', 'شناسان', 'هر', 'کشوری', 'سخن', 'گفت', 'با', 'هر', 'یک', 'از', 'هر', 'دری'], ['دلش\\u200cگر', 'چه', 'در', 'حال', 'از', 'او', 'رنجه', 'شد', 'دوا', 'کرد', 'و', 'خوشبوی', 'چون', 'غنچه', 'شد'], ['پری', 'چهره', 'را', 'همنشین', 'کرد', 'و', 'دوست', 'که', 'این', 'عیب', 'من', 'گفت', 'یار', 'من', 'اوست'], ['به', 'نزد', 'من', 'آن', 'کس', 'نکوخواه', 'توست', 'که', 'گوید', 'فلان', 'خار', 'در', 'راه', 'توست'], ['به', 'گمراه', 'گفتن', 'نکو', 'می\\u200cروی', 'جفایی', 'تمام', 'است', 'و', 'جوری', 'قوی'], ['هر', 'آن', 'گه', 'که', 'عیبت', 'نگویند', 'پیش', 'هنر', 'دانی', 'از', 'جاهلی', 'عیب', 'خویش'], ['مگو', 'شهد', 'شیرین', 'شکر', 'فایق', 'است', 'کسی', 'را', 'که', 'سقمونیا', 'لایق', 'است'], ['چه', 'خوش', 'گفت', 'یک', 'روز', 'دارو', 'فروش', 'شفا', 'بایدت', 'داروی', 'تلخ', 'نوش'], ['اگر', 'شربتی', 'بایدت', 'سودمند', 'از', 'سعدی', 'ستان', 'تلخ', 'داروی', 'پند'], ['به', 'پرویزن', 'معرفت', 'بیخته', 'به', 'شهد', 'ظرافت', 'برآمیخته'], ['شنیدم', 'که', 'از', 'نیکمردی', 'فقیر', 'دل', 'آزرده', 'شد', 'پادشاهی', 'کبیر'], ['مگر', 'بر', 'زبانش', 'حقی', 'رفته_بود', 'از', 'گردن\\u200cکشی', 'بر', 'او', 'آشفته', 'بود'], ['به', 'زندان', 'فرستادش', 'از', 'بارگاه', 'که', 'زورآزمای', 'است', 'بازوی', 'جاه'], ['از', 'یاران', 'کسی', 'گفتش', 'در', 'نهفت', 'مصالح', 'نبود', 'این', 'سخن', 'گفت', 'گفت'], ['رسانیدن', 'امر', 'حق', 'طاعت', 'است', 'از', 'زندان', 'نترسم', 'که', 'یک', 'ساعت', 'است'], ['همان', 'دم', 'که', 'در', 'خفیه', 'این', 'راز', 'رفت', 'حکایت', 'به', 'گوش', 'ملک', 'باز', 'رفت'], ['بخندید', 'کاو', 'ظن', 'بیهوده', 'برد', 'نداند', 'که', 'خواهد_در', 'این', 'حبس', 'مرد'], ['غلامی', 'به', 'درویش', 'برد', 'این', 'پیام', 'بگفتا', 'به', 'خسرو', 'بگو', 'ای', 'غلام'], ['من', 'را', 'بار', 'غم', 'بر', 'دل', 'ریش', 'نیست', 'که', 'دنیا', 'همین', 'ساعتی', 'بیش', 'نیست'], ['نه\\u200cگر', 'دستگیری', 'کنی', 'خرمم', 'نه\\u200cگر', 'سر', 'بری', 'بر', 'دل', 'آید', 'غمم'], ['تو\\u200cگر', 'کامرانی', 'به', 'فرمان', 'و', 'گنج', 'دیگر', 'کس', 'فرومانده', 'در', 'ضعف', 'و', 'رنج'], ['به', 'دروازه', 'مرگ', 'چون', 'در', 'شویم', 'به', 'یک', 'هفته', 'با', 'هم', 'برابر', 'شویم'], ['منه', 'دل', 'بر', 'این', 'دولت', 'پنج', 'روز', 'به', 'دود', 'دل', 'خلق', 'خود', 'را', 'مسوز'], ['نه', 'پیش', 'از', 'تو', 'بیش', 'از', 'تو', 'اندوختند', 'به', 'بیداد', 'کردن', 'جهان', 'سوختند'], ['چنان', 'زی', 'که', 'ذکرت', 'به', 'تحسین', 'کنند', 'چون', 'مردی', 'نه', 'بر', 'گور', 'نفرین', 'کنند'], ['نباید', 'به', 'رسم', 'بد', 'آیین', 'نهاد', 'که', 'گویند', 'لعنت', 'بر', 'آن', 'کاین', 'نهاد'], ['وگر', 'بر', 'سرآید', 'خداوند', 'زور', 'نه', 'زیرش', 'کند', 'عاقبت', 'خاک', 'گور'], ['بفرمود', 'دلتنگ', 'روی', 'از', 'جفا', 'که', 'بیرون', 'کنندش', 'زبان', 'از', 'قفا'], ['چنین', 'گفت', 'مرد', 'حقایق', 'شناس', 'که', 'از', 'این', 'هم', 'که', 'گفتی', 'ندارم', 'هراس'], ['من', 'از', 'بی', 'زبانی', 'ندارم', 'غمی', 'که', 'دانم', 'که', 'ناگفته', 'داند', 'همی'], ['اگر', 'بینوایی', 'برم', 'ور', 'ستم', 'گرم', 'عاقبت', 'خیر', 'باشد', 'چه', 'غم'], ['عروسی', 'بود', 'نوبت', 'ماتمت', 'گرت', 'نیکروزی', 'بود', 'خاتمت'], ['یکی', 'مشت', 'زن', 'بخت', 'و', 'روزی', 'نداشت', 'نه', 'اسباب', 'شامش', 'مهیا', 'نه', 'چاشت'], ['از', 'جور', 'شکم', 'گل', 'کشیدی', 'به', 'پشت', 'که', 'روزی', 'محال', 'است', 'خوردن', 'به', 'مشت'], ['مدام', 'از', 'پریشانی', 'روزگار', 'دلش', 'حسرت', 'آورد', 'و', 'تن', 'سوگوار'], ['گهش', 'جنگ', 'با', 'عالم', 'خیره\\u200cکش', 'گه', 'از', 'بخت', 'شوریده', 'رویش', 'ترش'], ['گه', 'از', 'دیدن', 'عیش', 'شیرین', 'خلق', 'فرو', 'می\\u200cشدی', 'آب', 'تلخش', 'به', 'حلق'], ['گه', 'از', 'کار', 'آشفته', 'بگریستی', 'که', 'کس', 'دید', 'از', 'این', 'تلخ\\u200cتر', 'زیستی'], ['کسان', 'شهد', 'نوشند', 'و', 'مرغ', 'و', 'بره', 'من', 'را', 'روی', 'نان', 'می\\u200cنبیند', 'تره'], ['اگر', 'انصاف', 'پرسی', 'نه', 'نیکوست', 'این', 'برهنه', 'من', 'و', 'گربه', 'را', 'پوستین'], ['چه', 'بودی', 'که', 'پایم', 'در', 'این', 'کار', 'گل', 'به', 'گنجی', 'فرو', 'رفتی', 'از', 'کام', 'دل'], ['مگر', 'روزگاری', 'هوس', 'راندمی', 'از', 'خود', 'گرد', 'محنت', 'بیفشاندمی'], ['شنیدم', 'که', 'روزی', 'زمین', 'می\\u200cشکافت', 'عظام', 'زنخدان', 'پوسیده', 'یافت'], ['به', 'خاک', 'اندرش', 'عقد', 'بگسیخته', 'گهرهای', 'دندان', 'فرو', 'ریخته'], ['دهان', 'بی', 'زبان', 'پند', 'می\\u200cگفت', 'و', 'راز', 'که\\u200cای', 'خواجه', 'با', 'بینوایی', 'بساز'], ['نه', 'این', 'است', 'حال', 'دهن', 'زیر', 'گل', 'شکر', 'خورده', 'انگار', 'یا', 'خون', 'دل'], ['غم', 'از', 'گردش', 'روزگاران', 'مدار', 'که', 'بی', 'ما', 'بگردد', 'بسی', 'روزگار'], ['همان', 'لحظه', 'کاین', 'خاطرش', 'روی', 'داد', 'غم', 'از', 'خاطرش', 'رخت', 'یک', 'سو', 'نهاد'], ['که\\u200cای', 'نفس', 'بی', 'رای', 'و', 'تدبیر', 'و', 'هش', 'بکش', 'بار', 'تیمار', 'و', 'خود', 'را', 'مکش'], ['اگر', 'بنده\\u200cای', 'بار', 'بر', 'سر', 'برد', 'وگر', 'سر', 'به', 'اوج', 'فلک', 'بر', 'برد'], ['در', 'آن', 'دم', 'که', 'حالش', 'دگرگون', 'شود', 'به', 'مرگ', 'از', 'سرش', 'هر', 'دو', 'بیرون', 'شود'], ['غم', 'و', 'شادمانی', 'نماند', 'ولیک', 'جزای', 'عمل', 'ماند', 'و', 'نام', 'نیک'], ['کرم', 'پا', 'دارد', 'نه', 'دیهیم', 'و', 'تخت', 'بده', 'که', 'از', 'تو', 'این', 'ماند', 'ای', 'نیکبخت'], ['مکن', 'تکیه', 'بر', 'ملک', 'و', 'جاه', 'و', 'حشم', 'که', 'پیش', 'از', 'تو', 'بوده\\u200cست', 'و', 'بعد', 'از', 'تو', 'هم'], ['خداوند', 'دولت', 'غم', 'دین', 'خورد', 'که', 'دنیا', 'به', 'هر', 'حال', 'می\\u200cبگذرد'], ['نخواهی_که', 'ملکت', 'برآید', 'بهم', 'غم', 'ملک', 'و', 'دین', 'هر', 'دو', 'باید', 'بهم'], ['زرافشان', 'چون', 'دنیا', 'بخواهی', 'گذاشت', 'که', 'سعدی', 'در', 'افشاند', 'اگر', 'زر', 'نداشت'], ['حکایت', 'کنند', 'از', 'جفاگستری', 'که', 'فرماندهی', 'داشت', 'بر', 'کشوری'], ['در', 'ایام', 'او', 'روز', 'مردم', 'چون', 'شام', 'شب', 'از', 'بیم', 'او', 'خواب', 'مردم', 'حرام'], ['همه', 'روز', 'نیکان', 'از', 'او', 'در', 'بلا', 'به', 'شب', 'دست', 'پاکان', 'از', 'او', 'بر', 'دعا'], ['گروهی', 'بر', 'شیخ', 'آن', 'روزگار', 'از', 'دست', 'ستمگر', 'گرستند', 'زار'], ['که\\u200cای', 'پیر', 'دانای', 'فرخنده', 'رای', 'بگوی', 'این', 'جوان', 'را', 'بترس', 'از', 'خدای'], ['بگفتا', 'دریغ', 'آیدم', 'نام', 'دوست', 'که', 'هر', 'کس', 'نه', 'در', 'خورد', 'پیغام', 'اوست'], ['کسی', 'را', 'که', 'بینی', 'از', 'حق', 'بر', 'کران', 'منه', 'با', 'او', 'ای', 'خواجه', 'حق', 'در', 'میان'], ['دریغ', 'است', 'با', 'سفله', 'گفت', 'از', 'علوم', 'که', 'ضایع', 'شود', 'تخم', 'در', 'شوره', 'بوم'], ['چون', 'در', 'او', 'نگیرد', 'عدو', 'داندت', 'برنجد', 'به', 'جان', 'و', 'برنجاندت'], ['تو', 'را', 'عادت', 'ای', 'پادشه', 'حق', 'روی', 'است', 'دل', 'مرد', 'حق', 'گوی', 'از', 'این', 'جا', 'قوی', 'است'], ['نگین', 'خصلتی', 'دارد', 'ای', 'نیکبخت', 'که', 'در', 'موم', 'گیرد', 'نه', 'در', 'سنگ', 'سخت'], ['عجب', 'نیست\\u200cگر', 'ظالم', 'از', 'من', 'به', 'جان', 'برنجد', 'که', 'دزد', 'است', 'و', 'من', 'پاسبان'], ['تو', 'هم', 'پاسبانی', 'به', 'انصاف', 'و', 'داد', 'که', 'حفظ', 'خدا', 'پاسبان', 'تو', 'باد'], ['تو', 'را', 'نیست', 'منت', 'از', 'روی', 'قیاس', 'خداوند', 'را', 'من', 'و', 'فضل', 'و', 'سپاس'], ['که', 'در', 'کار', 'خیرت', 'به', 'خدمت', 'بداشت', 'نه', 'چون', 'دیگرانت', 'معطل', 'گذاشت'], ['همه', 'کس', 'به', 'میدان', 'کوشش', 'درند', 'ولی', 'گوی', 'بخشش', 'نه', 'هر', 'کس', 'برند'], ['تو', 'حاصل', 'نکردی', 'به', 'کوشش', 'بهشت', 'خدا', 'در', 'تو', 'خوی', 'بهشتی', 'بهشت'], ['دلت', 'روشن', 'و', 'وقت', 'مجموع', 'باد', 'قدم', 'ثابت', 'و', 'پایه', 'مرفوع', 'باد'], ['حیاتت', 'خوش', 'و', 'رفتنت', 'بر', 'صواب', 'عبادت', 'قبول', 'و', 'دعا', 'مستجاب'], ['همی', 'تا', 'برآید', 'به', 'تدبیر', 'کار', 'مدارای', 'دشمن', 'به', 'از', 'کارزار'], ['چون', 'نتوان', 'عدو', 'را', 'به', 'قوت', 'شکست', 'به', 'نعمت', 'بباید', 'در', 'فتنه', 'بست'], ['اگر', 'اندیشه', 'باشد', 'از', 'خصمت', 'گزند', 'به', 'تعویذ', 'احسان', 'زبانش', 'ببند'], ['عدو', 'را', 'به', 'جای', 'خسک', 'زر', 'بریز', 'که', 'احسان', 'کند', 'کند', 'دندان', 'تیز'], ['چون', 'دستی', 'نشاید', 'گزیدن', 'ببوس', 'که', 'با', 'غالبان', 'چاره', 'زرق', 'است', 'و', 'لوس'], ['به', 'تدبیر', 'رستم', 'در', 'آید', 'به', 'بند', 'که', 'اسفندیارش', 'نجست', 'از', 'کمند'], ['عدو', 'را', 'به', 'فرصت', 'توان', 'کند', 'پوست', 'پس', 'او', 'را', 'مدارا', 'چنان', 'کن', 'که', 'دوست'], ['حذر', 'کن', 'از', 'پیکار', 'کمتر', 'کسی', 'که', 'از', 'قطره', 'سیلاب', 'دیدم', 'بسی'], ['مزن', 'تا', 'توانی', 'بر', 'ابرو', 'گره', 'که', 'دشمن', 'اگرچه', 'زبون', 'دوست', 'به'], ['بود', 'دشمنش', 'تازه', 'و', 'دوست', 'ریش', 'کسی', 'کش', 'بود', 'دشمن', 'از', 'دوست', 'بیش'], ['مزن', 'با', 'سپاهی', 'از', 'خود', 'بیشتر', 'که', 'نتوان', 'زد', 'انگشت', 'بر', 'نیشتر'], ['وگر', 'زو', 'تواناتری', 'در', 'نبرد', 'نه', 'مردی', 'است', 'بر', 'ناتوان', 'زور', 'کرد'], ['اگر', 'پیل', 'زوری', 'وگر', 'شیر', 'چنگ', 'به', 'نزدیک', 'من', 'صلح', 'بهتر', 'که', 'جنگ'], ['چون', 'دست', 'از', 'همه', 'حیلتی', 'در', 'گسست', 'حلال', 'است', 'بردن', 'به', 'شمشیر', 'دست'], ['اگر', 'صلح', 'خواهد_عدو', 'سر', 'مپیچ', 'وگر', 'جنگ', 'جوید', 'عنان', 'بر', 'مپیچ'], ['که\\u200cگر', 'او', 'ببندد', 'در', 'کارزار', 'تو', 'را', 'قدر', 'و', 'هیبت', 'شود', 'یک', 'هزار'], ['ور', 'او', 'پا', 'جنگ', 'آورد', 'در', 'رکاب', 'نخواهد_به', 'حشر', 'از', 'تو', 'داور', 'حساب'], ['تو', 'هم', 'جنگ', 'را', 'باش', 'چون', 'کینه', 'خواست', 'که', 'با', 'کینه', 'ور', 'مهربانی', 'خطاست'], ['چون', 'با', 'سفله', 'گویی', 'به', 'لطف', 'و', 'خوشی', 'فزون', 'گرددش', 'کبر', 'و', 'گردن', 'کشی'], ['به', 'اسبان', 'تازی', 'و', 'مردان', 'مرد', 'بر', 'آر', 'از', 'نهاد', 'بداندیش', 'گرد'], ['و', 'اگر', 'می\\u200cبر', 'آید', 'به', 'نرمی', 'و', 'هوش', 'به', 'تندی', 'و', 'خشم', 'و', 'درشتی', 'مکوش'], ['چون', 'دشمن', 'به', 'عجز', 'در', 'آمد', 'از', 'در', 'نباید', 'که', 'پرخاش', 'جویی', 'دیگر'], ['چون', 'زنهار', 'خواهد_کرم', 'پیشه', 'کن', 'ببخشای', 'و', 'از', 'مکرش', 'اندیشه', 'کن'], ['از', 'تدبیر', 'پیر', 'کهن', 'بر', 'مگرد', 'که', 'کارآزموده', 'بود', 'سالخورد'], ['در', 'آرند', 'بنیاد', 'رویین', 'از', 'پا', 'جوانان', 'به', 'نیروی', 'و', 'پیران', 'به', 'رای'], ['بیندیش', 'در', 'قلب', 'هیجا', 'مفر', 'چه', 'دانی', 'که', 'زان', 'که', 'باشد', 'ظفر'], ['چون', 'بینی', 'که', 'لشکر', 'از', 'هم', 'دست', 'داد', 'به', 'تنها', 'مده', 'جان', 'شیرین', 'به', 'باد'], ['اگر', 'بر', 'کناری', 'به', 'رفتن', 'بکوش', 'وگر', 'در', 'میان', 'لبس', 'دشمن', 'بپوش'], ['وگر', 'خود', 'هزاری', 'و', 'دشمن', 'دویست', 'چون', 'شب', 'شد', 'در', 'اقلیم', 'دشمن', 'مایست'], ['شب', 'تیره', 'پنجه', 'سوار', 'از', 'کمین', 'چون', 'پانصد', 'به', 'هیبت', 'بدرد', 'زمین'], ['چون', 'خواهی_بریدن', 'به', 'شب', 'راهها', 'حذر', 'کن', 'نخست', 'از', 'کمینگاهها'], ['میان', 'دو', 'لشکر', 'چون', 'یک', 'روز', 'راه', 'بماند', 'بزن', 'خیمه', 'بر', 'جایگاه'], ['اگر', 'او', 'پیشدستی', 'کند', 'غم', 'مدار', 'ور', 'افراسیاب', 'است', 'مغزش', 'بر', 'آر'], ['ندانی', 'که', 'لشکر', 'چون', 'یک', 'روزه', 'راند', 'سر', 'پنجه', 'زورمندش', 'نماند'], ['تو', 'آسوده', 'بر', 'لشکر', 'مانده', 'زن', 'که', 'نادان', 'ستم', 'کرد', 'بر', 'خویشتن'], ['چون', 'دشمن', 'شکستی', 'بیفکن', 'علم', 'که', 'بازش', 'نیاید', 'جراحت', 'به', 'هم'], ['بسی', 'در', 'قفای', 'هزیمت', 'مران', 'نباید', 'که', 'دور', 'افتی', 'از', 'یاوران'], ['هوا', 'بینی', 'از', 'گرد', 'هیجا', 'چون', 'میغ', 'بگیرند', 'گردت', 'به', 'زوبین', 'و', 'تیغ'], ['به', 'دنبال', 'غارت', 'نراند', 'سپاه', 'که', 'خالی', 'بماند', 'پس', 'پشت', 'شاه'], ['سپه', 'را', 'نگهبانی', 'شهریار', 'به', 'از', 'جنگ', 'در', 'حلقه', 'کارزار'], ['دلاور', 'که', 'باری', 'تهور', 'نمود', 'بباید', 'به', 'مقدارش', 'در', 'فزود'], ['که', 'بار', 'دیگر', 'دل', 'نهد', 'بر', 'هلاک', 'ندارد', 'از', 'پیکار', 'یأجوج', 'باک'], ['سپاهی', 'در', 'آسودگی', 'خوش', 'بدار', 'که', 'در', 'حالت', 'سختی', 'آید', 'به', 'کار'], ['سپاهی', 'که', 'کارش', 'نباشد', 'به', 'برگ', 'چرا', 'دل', 'نهد', 'روز', 'هیجا', 'به', 'مرگ'], ['کنون', 'دست', 'مردان', 'جنگی', 'ببوس', 'نه', 'آنگه', 'که', 'دشمن', 'فرو', 'کوفت', 'کوس'], ['نواحی', 'ملک', 'از', 'کف', 'بدسگال', 'به', 'لشکر', 'نگه', 'دار', 'و', 'لشکر', 'به', 'مال'], ['ملک', 'را', 'بود', 'بر', 'عدو', 'دست', 'چیر', 'چون', 'لشکر', 'دل', 'آسوده', 'باشند', 'و', 'سیر'], ['بهای', 'سر', 'خویشتن', 'می\\u200cخورد', 'نه', 'انصاف', 'باشد', 'که', 'سختی', 'برد'], ['چون', 'دارند', 'گنج', 'از', 'سپاهی', 'دریغ', 'دریغ', 'آیدش', 'دست', 'بردن', 'به', 'تیغ'], ['چه', 'مردی', 'کند', 'در', 'صف', 'کارزار', 'که', 'دستش', 'تهی', 'باشد', 'و', 'کار', 'زار'], ['به', 'پیکار', 'دشمن', 'دلیران', 'فرست', 'هژبران', 'به', 'ناورد', 'شیران', 'فرست'], ['به', 'رای', 'جهاندیدگان', 'کار', 'کن', 'که', 'صید', 'آزموده\\u200cست', 'گرگ', 'کهن'], ['مترس', 'از', 'جوانان', 'شمشیر', 'زن', 'حذر', 'کن', 'از', 'پیران', 'بسیار', 'فن'], ['جوانان', 'پیل', 'افکن', 'شیرگیر', 'ندانند', 'دستان', 'روباه', 'پیر'], ['خردمند', 'باشد', 'جهاندیده', 'مرد', 'که', 'بسیار', 'گرم', 'آزموده\\u200cست', 'و', 'سرد'], ['جوانان', 'شایسته', 'بخت', 'ور', 'از', 'گفتار', 'پیران', 'نپیچند', 'سر'], ['گرت', 'مملکت', 'باید', 'آراسته', 'مده', 'کار', 'معظم', 'به', 'نوخاسته'], ['سپه', 'را', 'مکن', 'پیشرو', 'جز', 'کسی', 'که', 'در', 'جنگها', 'بوده_باشد', 'بسی'], ['به', 'خردان', 'مفرمای', 'کار', 'درشت', 'که', 'سندان', 'نشاید', 'شکستن', 'به', 'مشت'], ['رعیت', 'نوازی', 'و', 'سر', 'لشکری', 'نه', 'کاری', 'است', 'بازیچه', 'و', 'سرسری'], ['نخواهی_که', 'ضایع', 'شود', 'روزگار', 'به', 'ناکاردیده', 'مفرمای', 'کار'], ['نتابد', 'سگ', 'صید', 'روی', 'از', 'پلنگ', 'از', 'روبه', 'رمد', 'شیر', 'نادیده', 'جنگ'], ['چون', 'پرورده', 'باشد', 'پسر', 'در', 'شکار', 'نترسد', 'چون', 'پیش', 'آیدش', 'کارزار'], ['به', 'کشتی', 'و', 'نخجیر', 'و', 'آماج', 'و', 'گوی', 'دلاور', 'شود', 'مرد', 'پرخاشجوی'], ['به', 'گرمابه', 'پرورده', 'و', 'عیش', 'و', 'ناز', 'برنجد', 'چون', 'بیند', 'در', 'جنگ', 'باز'], ['دو', 'مردش', 'نشانند', 'بر', 'پشت', 'زین', 'بود', 'کش', 'زند', 'کودکی', 'بر', 'زمین'], ['یکی', 'را', 'که', 'دیدی', 'تو', 'در', 'جنگ', 'پشت', 'بکش\\u200cگر', 'عدو', 'در', 'مصافش', 'نکشت'], ['مخنث', 'به', 'از', 'مرد', 'شمشیر', 'زن', 'که', 'روز', 'وغا', 'سر', 'بتابد', 'چون', 'زن'], ['چه', 'خوش', 'گفت', 'گرگین', 'به', 'فرزند', 'خویش', 'چون', 'قربان', 'پیکار', 'بربست', 'و', 'کیش'], ['اگر', 'چون', 'زنان', 'جست', 'خواهی_گریز', 'مرو', 'آب', 'مردان', 'جنگی', 'مریز'], ['سواری', 'که', 'در', 'جنگ', 'بنمود', 'پشت', 'نه', 'خود', 'را', 'که', 'نام', 'آوران', 'را', 'بکشت'], ['شجاعت', 'نیاید', 'مگر', 'زآن', 'دو', 'یار', 'که', 'افتند', 'در', 'حلقه', 'کارزار'], ['دو', 'همجنس', 'همسفره', 'همزبان', 'بکوشند', 'در', 'قلب', 'هیجا', 'به', 'جان'], ['که', 'تنگ', 'آیدش', 'رفتن', 'از', 'پیش', 'تیر', 'برادر', 'به', 'چنگال', 'دشمن', 'اسیر'], ['چون', 'بینی', 'که', 'یاران', 'نباشند', 'یار', 'هزیمت', 'از', 'میدان', 'غنیمت', 'شمار'], ['دو', 'تن', 'پرور', 'ای', 'شاه', 'کشور', 'گشای', 'یکی', 'اهل', 'رزم', 'و', 'دیگر', 'اهل', 'رای'], ['از', 'نام', 'آوران', 'گوی', 'دولت', 'برند', 'که', 'دانا', 'و', 'شمشیر', 'زن', 'پرورند'], ['هر', 'آن', 'کاو', 'قلم', 'را', 'نورزید', 'و', 'تیغ', 'بر', 'او\\u200cگر', 'بمیرد', 'مگو', 'ای', 'دریغ'], ['قلم', 'زن', 'نکودار', 'و', 'شمشیر', 'زن', 'نه', 'مطرب', 'که', 'مردی', 'نیاید', 'از', 'زن'], ['نه', 'مردی', 'است', 'دشمن', 'در', 'اسباب', 'جنگ', 'تو', 'مدهوش', 'ساقی', 'و', 'آواز', 'چنگ'], ['بسا', 'اهل', 'دولت', 'به', 'بازی', 'نشست', 'که', 'دولت', 'برفتش', 'به', 'بازی', 'از', 'دست'], ['نگویم', 'از', 'جنگ', 'بد', 'اندیش', 'ترس', 'در', 'آوازه', 'صلح', 'از', 'او', 'بیش', 'ترس'], ['بسا', 'کس', 'به', 'روز', 'آیت', 'صلح', 'خواند', 'چون', 'شب', 'شد', 'سپه', 'بر', 'سر', 'خفته', 'راند'], ['زره', 'پوش', 'خسبند', 'مرد', 'اوژنان', 'که', 'بستر', 'بود', 'خوابگاه', 'زنان'], ['به', 'خیمه', 'درون', 'مرد', 'شمشیر', 'زن', 'برهنه', 'نخسبد', 'چون', 'در', 'خانه', 'زن'], ['بباید', 'نهان', 'جنگ', 'را', 'ساختن', 'که', 'دشمن', 'نهان', 'آورد', 'تاختن'], ['حذر', 'کار', 'مردان', 'کار', 'آگه', 'است', 'یزک', 'سد', 'رویین', 'لشکر', 'گه', 'است'], ['میان', 'دو', 'بد', 'خواه', 'کوتاه', 'دست', 'نه', 'فرزانگی', 'باشد', 'ایمن', 'نشست'], ['که\\u200cگر', 'هر', 'دو', 'باهم', 'سگالند', 'راز', 'شود', 'دست', 'کوتاه', 'ایشان', 'دراز'], ['یکی', 'را', 'به', 'نیرنگ', 'مشغول', 'دار', 'دیگر', 'را', 'برآور', 'از', 'هستی', 'دمار'], ['اگر', 'دشمنی', 'پیش', 'گیرد', 'ستیز', 'به', 'شمشیر', 'تدبیر', 'خونش', 'بریز'], ['برو', 'دوستی', 'گیر', 'با', 'دشمنش', 'که', 'زندان', 'شود', 'پیرهن', 'بر', 'تنش'], ['چون', 'در', 'لشکر', 'دشمن', 'افتد', 'خلاف', 'تو', 'بگذار', 'شمشیر', 'خود', 'در', 'غلاف'], ['چون', 'گرگان', 'پسندند', 'بر', 'هم', 'گزند', 'بر', 'آساید', 'در', 'میان', 'گوسفند'], ['چون', 'دشمن', 'به', 'دشمن', 'بود', 'مشتغل', 'تو', 'با', 'دوست', 'بنشین', 'به', 'آرام', 'دل'], ['چون', 'شمشیر', 'پیکار', 'برداشتی', 'نگه', 'دار', 'پنهان', 'راه', 'آشتی'], ['که', 'لشکر', 'شکوفان', 'مغفر', 'شکاف', 'نهان', 'صلح', 'جستند', 'و', 'پیدا', 'مصاف'], ['دل', 'مرد', 'میدان', 'نهانی', 'بجوی', 'که', 'باشد', 'که', 'در', 'پایت', 'افتد', 'چون', 'گوی'], ['چون', 'سالاری', 'از', 'دشمن', 'افتد', 'به', 'چنگ', 'به', 'کشتن', 'درش', 'کرد', 'باید', 'درنگ'], ['که', 'افتد', 'که', 'از', 'این', 'نیمه', 'هم', 'سروری', 'بماند', 'گرفتار', 'در', 'چنبری'], ['اگر', 'کشتی', 'این', 'بندی', 'ریش', 'را', 'نبینی', 'دیگر', 'بندی', 'خویش', 'را'], ['نترسد', 'که', 'دورانش', 'بندی', 'کند', 'که', 'بر', 'بندیان', 'زورمندی', 'کند'], ['کسی', 'بندیان', 'را', 'بود', 'دستگیر', 'که', 'خود', 'بوده_باشد', 'به', 'بندی', 'اسیر'], ['اگر', 'سر', 'نهد', 'بر', 'خطت', 'سروری', 'چون', 'نیکش', 'بداری', 'نهد', 'دیگری'], ['اگر', 'خفیه', 'ده', 'دل', 'بدست', 'آوری', 'از', 'آن', 'به', 'که', 'صد', 'راه', 'شبیخون', 'بری'], ['گرت', 'خویش', 'دشمن', 'شود', 'دوستدار', 'از', 'تلبیسش', 'ایمن', 'مشو', 'زینهار'], ['که', 'گردد', 'درونش', 'به', 'کین', 'تو', 'ریش', 'چون', 'یاد', 'آیدش', 'مهر', 'پیوند', 'خویش'], ['بد', 'اندیش', 'را', 'لفظ', 'شیرین', 'مبین', 'که', 'ممکن', 'بود', 'زهر', 'در', 'انگبین'], ['کسی', 'جان', 'از', 'آسیب', 'دشمن', 'ببرد', 'که', 'مر', 'دوستان', 'را', 'به', 'دشمن', 'شمرد'], ['نگه', 'دارد', 'آن', 'شوخ', 'در', 'کیسه', 'در', 'که', 'بیند', 'همه', 'خلق', 'را', 'کیسه', 'بر'], ['سپاهی', 'که', 'عاصی', 'شود', 'در', 'امیر', 'ورا', 'تا', 'توانی', 'به', 'خدمت', 'مگیر'], ['ندانست', 'سالار', 'خود', 'را', 'سپاس', 'تو', 'را', 'هم', 'ندارد', 'از', 'غدرش', 'هراس'], ['به', 'سوگند', 'و', 'عهد', 'استوارش', 'مدار', 'نگهبان', 'پنهان', 'بر', 'او', 'بر', 'گمار'], ['نو', 'آموز', 'را', 'ریسمان', 'کن', 'دراز', 'نه', 'بگسل', 'که', 'دیگر', 'نبینیش', 'باز'], ['چون', 'اقلیم', 'دشمن', 'به', 'جنگ', 'و', 'حصار', 'گرفتی', 'به', 'زندانیانش', 'سپار'], ['که', 'بندی', 'چون', 'دندان', 'به', 'خون', 'در', 'برد', 'از', 'حلقوم', 'بیدادگر', 'خون', 'خورد'], ['چون', 'بر', 'کندی', 'از', 'دست', 'دشمن', 'دیار', 'رعیت', 'به', 'سامان\\u200cتر', 'از', 'او', 'بدار'], ['که\\u200cگر', 'باز', 'کوبد', 'در', 'کارزار', 'بر', 'آرند', 'عام', 'از', 'دماغش', 'دمار'], ['وگر', 'شهریان', 'را', 'رسانی', 'گزند', 'در', 'شهر', 'بر', 'روی', 'دشمن', 'مبند'], ['مگو', 'دشمن', 'تیغ', 'زن', 'بر', 'در', 'است', 'که', 'انباز', 'دشمن', 'به', 'شهر', 'در', 'است'], ['به', 'تدبیر', 'جنگ', 'بد', 'اندیش', 'کوش', 'مصالح', 'بیندیش', 'و', 'نیت', 'بپوش'], ['منه', 'در', 'میان', 'راز', 'با', 'هر', 'کسی', 'که', 'جاسوس', 'هم', 'کاسه', 'دیدم', 'بسی'], ['سکندر', 'که', 'با', 'شرقیان', 'حرب', 'داشت', 'در', 'خیمه', 'گویند', 'در', 'غرب', 'داشت'], ['چون', 'بهمن', 'به', 'زاولستان', 'خواست', 'شد', 'چپ', 'آوازه', 'افکند', 'و', 'از', 'راست', 'شد'], ['اگر', 'جز', 'تو', 'داند', 'که', 'عزم', 'تو', 'چیست', 'بر', 'آن', 'رای', 'و', 'دانش', 'بباید', 'گریست'], ['کرم', 'کن', 'نه', 'پرخاش', 'و', 'کین\\u200cآوری', 'که', 'عالم', 'به', 'زیر', 'نگین', 'آوری'], ['چون', 'کاری', 'بر', 'آید', 'به', 'لطف', 'و', 'خوشی', 'چه', 'حاجت', 'به', 'تندی', 'و', 'گردن', 'کشی'], ['نخواهی_که', 'باشد', 'دلت', 'دردمند', 'دل', 'دردمندان', 'بر', 'آور', 'از', 'بند'], ['به', 'بازو', 'توانا', 'نباشد', 'سپاه', 'برو', 'همت', 'از', 'ناتوانان', 'بخواه'], ['دعای', 'ضعیفان', 'امیدوار', 'از', 'بازوی', 'مردی', 'به', 'آید', 'به', 'کار'], ['هر', 'آن', 'کاستعانت', 'به', 'درویش', 'برد', 'اگر', 'بر', 'فریدون', 'زد', 'از', 'پیش', 'برد'], ['اگر', 'هوشمندی', 'به', 'معنی', 'گرای', 'که', 'معنی', 'بماند', 'از', 'صورت', 'به', 'جای'], ['که', 'را', 'دانش', 'و', 'جود', 'و', 'تقوی', 'نبود', 'به', 'صورت', 'درش', 'هیچ', 'معنی', 'نبود'], ['کسی', 'خسبد', 'آسوده', 'در', 'زیر', 'گل', 'که', 'خسبند', 'از', 'او', 'مردم', 'آسوده', 'دل'], ['غم', 'خویش', 'در', 'زندگی', 'خور', 'که', 'خویش', 'به', 'مرده', 'نپردازد', 'از', 'حرص', 'خویش'], ['زر', 'و', 'نعمت', 'اکنون', 'بده', 'کان', 'تست', 'که', 'بعد', 'از', 'تو', 'بیرون', 'از', 'فرمان', 'تست'], ['نخواهی_که', 'باشی', 'پراکنده', 'دل', 'پراکندگان', 'را', 'از', 'خاطر', 'مهل'], ['پریشان', 'کن', 'امروز', 'گنجینه', 'چست', 'که', 'فردا', 'کلیدش', 'نه', 'در', 'دست', 'تست'], ['تو', 'با', 'خود', 'ببر', 'توشه', 'خویشتن', 'که', 'شفقت', 'نیاید', 'از', 'فرزند', 'و', 'زن'], ['کسی', 'گوی', 'دولت', 'از', 'دنیا', 'برد', 'که', 'با', 'خود', 'نصیبی', 'به', 'عقبی', 'برد'], ['به', 'غمخوارگی', 'چون', 'سرانگشت', 'من', 'نخارد', 'کس', 'در', 'جهان', 'پشت', 'من'], ['مکن', 'بر', 'کف', 'دست', 'نه', 'هر', 'چه', 'هست', 'که', 'فردا', 'به', 'دندان', 'بری', 'پشت', 'دست'], ['به', 'پوشیدن', 'ستر', 'درویش', 'کوش', 'که', 'ستر', 'خدایت', 'بود', 'پرده', 'پوش'], ['مگردان', 'غریب', 'از', 'درت', 'بی', 'نصیب', 'مبادا', 'که', 'گردی', 'به', 'درها', 'غریب'], ['بزرگی', 'رساند', 'به', 'محتاج', 'خیر', 'که', 'ترسد', 'که', 'محتاج', 'گردد', 'به', 'غیر'], ['به', 'حال', 'دل', 'خستگان', 'در', 'نگر', 'که', 'روزی', 'تو', 'دلخسته', 'باشی', 'مگر'], ['درون', 'فروماندگان', 'شاد', 'کن', 'از', 'روز', 'فروماندگی', 'یاد', 'کن'], ['نه', 'خواهنده\\u200cای', 'بر', 'در', 'دیگران', 'به', 'شکرانه', 'خواهنده', 'از', 'در', 'مران'], ['پدرمرده', 'را', 'سایه', 'بر', 'سر', 'فکن', 'غبارش', 'بیفشان', 'و', 'خارش', 'بکن'], ['ندانی', 'چه', 'بودش', 'فرو', 'مانده', 'سخت', 'بود', 'تازه', 'بی', 'بیخ', 'هرگز', 'درخت'], ['چون', 'بینی', 'یتیمی', 'سر', 'افکنده', 'پیش', 'مده', 'بوسه', 'بر', 'روی', 'فرزند', 'خویش'], ['یتیم', 'اگر', 'بگرید', 'که', 'نازش', 'خرد', 'وگر', 'خشم', 'گیرد', 'که', 'بارش', 'برد'], ['الا', 'تا', 'نگرید', 'که', 'عرش', 'عظیم', 'بلرزد', 'همی', 'چون', 'بگرید', 'یتیم'], ['به', 'رحمت', 'بکن', 'آبش', 'از', 'دیده', 'پاک', 'به', 'شفقت', 'بیفشانش', 'از', 'چهره', 'خاک'], ['اگر', 'سایه', 'خود', 'برفت', 'از', 'سرش', 'تو', 'در', 'سایه', 'خویشتن', 'پرورش'], ['من', 'آنگه', 'سر', 'تاجور', 'داشتم', 'که', 'سر', 'بر', 'کنار', 'پدر', 'داشتم'], ['اگر', 'بر', 'وجودم', 'نشستی', 'مگس', 'پریشان', 'شدی', 'خاطر', 'چند', 'کس'], ['کنون', 'دشمنان\\u200cگر', 'برندم', 'اسیر', 'نباشد', 'کس', 'از', 'دوستانم', 'نصیر'], ['من', 'را', 'باشد', 'از', 'درد', 'طفلان', 'خبر', 'که', 'در', 'طفلی', 'از', 'سر', 'برفتم', 'پدر'], ['یکی', 'خار', 'پا', 'یتیمی', 'بکند', 'به', 'خواب', 'اندرش', 'دید', 'صدر', 'خجند'], ['همی', 'گفت', 'و', 'در', 'روضه\\u200cها', 'می\\u200cچمید', 'که', 'از', 'آن', 'خار', 'بر', 'من', 'چه', 'گلها', 'دمید'], ['مشو', 'تا', 'توانی', 'از', 'رحمت', 'بری', 'که', 'رحمت', 'برندت', 'چون', 'رحمت', 'بری'], ['چون', 'انعام', 'کردی', 'مشو', 'خودپرست', 'که', 'من', 'سرورم', 'دیگران', 'زیردست'], ['اگر', 'تیغ', 'دورانش', 'انداخته\\u200cست', 'نه', 'شمشیر', 'دوران', 'هنوز', 'آخته\\u200cست'], ['چون', 'بینی', 'دعاگوی', 'دولت', 'هزار', 'خداوند', 'را', 'شکر', 'نعمت', 'گزار'], ['که', 'چشم', 'از', 'تو', 'دارند', 'مردم', 'بسی', 'نه', 'تو', 'چشم', 'داری', 'به', 'دست', 'کسی'], ['کرم', 'خوانده\\u200cام', 'سیرت', 'سروران', 'غلط', 'گفتم', 'اخلاق', 'پیغمبران'], ['شنیدم', 'که', 'یک', 'هفته', 'ابن\\u200cالسبیل', 'نیامد', 'به', 'مهمانسرای', 'خلیل'], ['از', 'فرخنده', 'خویی', 'نخوردی', 'بگاه', 'مگر', 'بینوایی', 'در', 'آید', 'از', 'راه'], ['برون', 'رفت', 'و', 'هر', 'جانبی', 'بنگرید', 'بر', 'اطراف', 'وادی', 'نگه', 'کرد', 'و', 'دید'], ['به', 'تنها', 'یکی', 'در', 'بیابان', 'چون', 'بید', 'سر', 'و', 'مویش', 'از', 'گرد', 'پیری', 'سپید'], ['به', 'دلداریش', 'مرحبایی', 'بگفت', 'به', 'رسم', 'کریمان', 'صلایی', 'بگفت'], ['که\\u200cای', 'چشمهای', 'من', 'را', 'مردمک', 'یکی', 'مردمی', 'کن', 'به', 'نان', 'و', 'نمک'], ['نعم', 'گفت', 'و', 'برجست', 'و', 'برداشت', 'گام', 'که', 'دانست', 'خلقش', 'علیه\\u200cالسلام'], ['رقیبان', 'مهمانسرای', 'خلیل', 'به', 'عزت', 'نشاندند', 'پیر', 'ذلیل'], ['بفرمود', 'و', 'ترتیب', 'کردند', 'خوان', 'نشستند', 'بر', 'هر', 'طرف', 'همگنان'], ['چون', 'بسم', 'الله', 'آغاز', 'کردند', 'جمع', 'نیامد', 'از', 'پیرش', 'حدیثی', 'به', 'سمع'], ['چنین', 'گفتش', 'ای', 'پیر', 'دیرینه', 'روز', 'چون', 'پیران', 'نمی\\u200cبینمت', 'صدق', 'و', 'سوز'], ['نه', 'شرط', 'است', 'وقتی', 'که', 'روزی', 'خوری', 'که', 'نام', 'خداوند', 'روزی', 'بری'], ['بگفتا', 'نگیرم', 'طریقی', 'به', 'دست', 'که', 'نشنیدم', 'از', 'پیر', 'آذرپرست'], ['بدانست', 'پیغمبر', 'نیک', 'فال', 'که', 'گبر', 'است', 'پیر', 'تبه', 'بوده', 'حال'], ['به', 'خواری', 'براندش', 'چون', 'بیگانه', 'دید', 'که', 'منکر', 'بود', 'پیش', 'پاکان', 'پلید'], ['سروش', 'آمد', 'از', 'کردگار', 'جلیل', 'به', 'هیبت', 'ملامت', 'کنان', 'کای', 'خلیل'], ['منش', 'داده', 'صد', 'سال', 'روزی', 'و', 'جان', 'تو', 'را', 'نفرت', 'آمد', 'از', 'او', 'یک', 'زمان'], ['اگر', 'او', 'می\\u200cبرد', 'پیش', 'آتش', 'سجود', 'تو', 'وا', 'پس', 'چرا', 'می\\u200cبری', 'دست', 'جود'], ['گره', 'بر', 'سر', 'بند', 'احسان', 'مزن', 'که', 'این', 'زرق', 'و', 'شید', 'است', 'و', 'آن', 'مکر', 'و', 'فن'], ['زیان', 'می\\u200cکند', 'مرد', 'تفسیردان', 'که', 'علم', 'و', 'ادب', 'می\\u200cفروشد', 'به', 'نان'], ['کجا', 'عقل', 'یا', 'شرع', 'فتوی', 'دهد', 'که', 'اهل', 'خرد', 'دین', 'به', 'دنیا', 'دهد'], ['ولیکن', 'تو', 'بستان', 'که', 'صاحب', 'خرد', 'از', 'ارزان', 'فروشان', 'به', 'رغبت', 'خرد'], ['زباندانی', 'آمد', 'به', 'صاحبدلی', 'که', 'محکم', 'فرومانده\\u200cام', 'در', 'گلی'], ['یکی', 'سفله', 'را', 'ده', 'درم', 'بر', 'من', 'است', 'که', 'دانگی', 'از', 'او', 'بر', 'دلم', 'ده', 'من', 'است'], ['همه', 'شب', 'پریشان', 'از', 'او', 'حال', 'من', 'همه', 'روز', 'چون', 'سایه', 'دنبال', 'من'], ['بکرد', 'از', 'سخنهای', 'خاطر', 'پریش', 'درون', 'دلم', 'چون', 'در', 'خانه', 'ریش'], ['خدایش', 'مگر', 'تا', 'از', 'مادر', 'بزاد', 'جز', 'این', 'ده', 'درم', 'چیز', 'دیگر', 'نداد'], ['ندانسته', 'از', 'دفتر', 'دین', 'الف', 'نخوانده', 'به', 'جز', 'باب', 'لاینصرف'], ['خور', 'از', 'کوه', 'یک', 'روز', 'سر', 'بر', 'نزد', 'که', 'آن', 'قلتبان', 'حلقه', 'بر', 'در', 'نزد'], ['در', 'اندیشه\\u200cام', 'تا', 'کدامم', 'کریم', 'از', 'آن', 'سنگدل', 'دست', 'گیرد', 'به', 'سیم'], ['شنید', 'این', 'سخن', 'پیر', 'فرخ', 'نهاد', 'درستی', 'دو', 'در', 'آستینش', 'نهاد'], ['زر', 'افتاد', 'در', 'دست', 'افسانه', 'گوی', 'برون', 'رفت', 'از', 'آنجا', 'چون', 'زر', 'تازه', 'روی'], ['یکی', 'گفت', 'شیخ', 'این', 'ندانی', 'که', 'کیست', 'بر', 'او\\u200cگر', 'بمیرد', 'نباید', 'گریست'], ['گدایی', 'که', 'بر', 'شیر', 'نر', 'زین', 'نهد', 'ابو', 'زید', 'را', 'اسب', 'و', 'فرزین', 'نهد'], ['بر', 'آشفت', 'عابد', 'که', 'خاموش', 'باش', 'تو', 'مرد', 'زبان', 'نیستی', 'گوش', 'باش'], ['اگر', 'راست', 'بود', 'آنچه', 'پنداشتم', 'از', 'خلق', 'آبرویش', 'نگه', 'داشتم'], ['وگر', 'شوخ', 'چشمی', 'و', 'سالوس', 'کرد', 'الا', 'تا', 'نپنداری', 'افسوس', 'کرد'], ['که', 'خود', 'را', 'نگه', 'داشتم', 'آبروی', 'از', 'دست', 'چنان', 'گربزی', 'یاوه', 'گوی'], ['بد', 'و', 'نیک', 'را', 'بذل', 'کن', 'سیم', 'و', 'زر', 'که', 'این', 'کسب', 'خیر', 'است', 'و', 'آن', 'دفع', 'شر'], ['خنک', 'آن', 'که', 'در', 'صحبت', 'عاقلان', 'بیاموزد', 'اخلاق', 'صاحبدلان'], ['گرت', 'عقل', 'و', 'رای', 'است', 'و', 'تدبیر', 'و', 'هوش', 'به', 'عزت', 'کنی', 'پند', 'سعدی', 'به', 'گوش'], ['که', 'اغلب', 'در', 'این', 'شیوه', 'دارد', 'مقال', 'نه', 'در', 'چشم', 'و', 'زلف', 'و', 'بناگوش', 'و', 'خال'], ['یکی', 'رفت', 'و', 'دینار', 'از', 'او', 'صد', 'هزار', 'خلف', 'برد', 'صاحبدلی', 'هوشیار'], ['نه', 'چون', 'ممسکان', 'دست', 'بر', 'زر', 'گرفت', 'چون', 'آزادگان', 'دست', 'از', 'او', 'بر', 'گرفت'], ['از', 'درویش', 'خالی', 'نبودی', 'درش', 'مسافر', 'به', 'مهمانسرای', 'اندرش'], ['دل', 'خویش', 'و', 'بیگانه', 'خرسند', 'کرد', 'نه', 'همچون', 'پدر', 'سیم', 'و', 'زر', 'بند', 'کرد'], ['ملامت', 'کنی', 'گفتش', 'ای', 'باد', 'دست', 'به', 'یک', 'راه', 'پریشان', 'مکن', 'هر', 'چه', 'هست'], ['به', 'سالی', 'توان', 'خرمن', 'اندوختن', 'به', 'یک', 'دم', 'نه', 'مردی', 'بود', 'سوختن'], ['چون', 'در', 'تنگدستی', 'نداری', 'شکیب', 'نگه', 'دار', 'وقت', 'فراخی', 'حسیب'], ['به', 'دختر', 'چه', 'خوش', 'گفت', 'بانوی', 'ده', 'که', 'روز', 'نوا', 'برگ', 'سختی', 'بنه'], ['همه', 'وقت', 'بر', 'دار', 'مشک', 'و', 'سبوی', 'که', 'پیوسته', 'در', 'ده', 'روان', 'نیست', 'جوی'], ['به', 'دنیا', 'توان', 'آخرت', 'یافتن', 'به', 'زر', 'پنجه', 'شیر', 'بر', 'تافتن'], ['به', 'یک', 'بار', 'بر', 'دوستان', 'زر', 'مپاش', 'وز', 'آسیب', 'دشمن', 'به', 'اندیشه', 'باش'], ['اگر', 'تنگدستی', 'مرو', 'پیش', 'یار', 'وگر', 'سیم', 'داری', 'بیا', 'و', 'بیار'], ['اگر', 'روی', 'بر', 'خاک', 'پایش', 'نهی', 'جوابت', 'نگوید', 'به', 'دست', 'تهی'], ['خداوند', 'زر', 'بر', 'کند', 'چشم', 'دیو', 'به', 'دام', 'آورد', 'صخر', 'جنی', 'به', 'ریو'], ['تهی', 'دست', 'در', 'خوبرویان', 'مپیچ', 'که', 'بی', 'سیم', 'مردم', 'نیرزند', 'هیچ'], ['به', 'دست', 'تهی', 'بر', 'نیاد', 'امید', 'به', 'زر', 'برکنی', 'چشم', 'دیو', 'سپید'], ['وگر', 'هرچه', 'یابی', 'به', 'کف', 'بر', 'نهی', 'کفت', 'وقت', 'حاجت', 'بماند', 'تهی'], ['گدایان', 'به', 'سعی', 'تو', 'هرگز', 'قوی', 'نگردند', 'ترسم', 'تو', 'لاغر', 'شوی'], ['چون', 'مناع', 'خیر', 'این', 'حکایت', 'بگفت', 'از', 'غیرت', 'جوانمرد', 'را', 'رگ', 'نخفت'], ['پراکنده', 'دل', 'گشت', 'از', 'آن', 'عیب', 'جوی', 'بر', 'آشفت', 'و', 'گفت', 'ای', 'پراکنده', 'گوی'], ['من', 'را', 'دستگاهی', 'که', 'پیرامن', 'است', 'پدر', 'گفت', 'میراث', 'جد', 'من', 'است'], ['نه', 'ایشان', 'به', 'خست', 'نگه', 'داشتند', 'به', 'حسرت', 'بمردند', 'و', 'بگذاشتند'], ['به', 'دستم', 'نیفتاد', 'مال', 'پدر', 'که', 'بعد', 'از', 'من', 'افتد', 'به', 'دست', 'پسر'], ['همان', 'به', 'که', 'امروز', 'مردم', 'خورند', 'که', 'فردا', 'پس', 'از', 'من', 'به', 'یغما', 'برند'], ['خور', 'و', 'پوش', 'و', 'بخشای', 'و', 'راحت', 'رسان', 'نگه', 'می\\u200cچه', 'داری', 'از', 'بهر', 'کسان'], ['برند', 'از', 'جهان', 'با', 'خود', 'اصحاب', 'رای', 'فرو', 'مایه', 'ماند', 'به', 'حسرت', 'بجای'], ['زر', 'و', 'نعمت', 'اکنون', 'بده', 'کان', 'توست', 'که', 'بعد', 'از', 'تو', 'بیرون', 'از', 'فرمان', 'توست'], ['به', 'دنیا', 'توانی', 'که', 'عقبی', 'خری', 'بخر', 'جان', 'من', 'ور', 'نه', 'حسرت', 'بری'], ['بزارید', 'وقتی', 'زنی', 'پیش', 'شوی', 'که', 'دیگر', 'مخر', 'نان', 'از', 'بقال', 'کوی'], ['به', 'بازار', 'گندم', 'فروشان', 'گرای', 'که', 'این', 'جو', 'فروشیست', 'گندم', 'نمای'], ['نه', 'از', 'مشتری', 'که', 'از', 'زحام', 'مگس', 'به', 'یک', 'هفته', 'رویش', 'ندیده\\u200cست', 'کس'], ['به', 'دلداری', 'آن', 'مرد', 'صاحب', 'نیاز', 'به', 'زن', 'گفت', 'کای', 'روشنایی', 'بساز'], ['به', 'امید', 'ما', 'کلبه', 'اینجا', 'گرفت', 'نه', 'مردی', 'بود', 'نفع', 'از', 'او', 'وا', 'گرفت'], ['راه', 'نیکمردان', 'آزاده', 'گیر', 'چون', 'استاده\\u200cای', 'دست', 'افتاده', 'گیر'], ['ببخشای', 'کآنان', 'که', 'مرد', 'حقند', 'خریدار', 'دکان', 'بی', 'رونقند'], ['جوانمرد', 'اگر', 'راست', 'خواهی_ولیست', 'کرم', 'پیشه', 'شاه', 'مردان', 'علیست'], ['شنیدم', 'که', 'پیری', 'به', 'راه', 'حجاز', 'به', 'هر', 'خطوه', 'کردی', 'دو', 'رکعت', 'نماز'], ['چنان', 'گرم', 'رو', 'در', 'طریق', 'خدای', 'که', 'خار', 'مغیلان', 'نکندی', 'از', 'پا'], ['به', 'آخر', 'از', 'وسواس', 'خاطر', 'پریش', 'پسند', 'آمدش', 'در', 'نظر', 'کار', 'خویش'], ['به', 'تلبیس', 'ابلیس', 'در', 'چاه', 'رفت', 'که', 'نتوان', 'از', 'این', 'خوب\\u200cتر', 'راه', 'رفت'], ['گرش', 'رحمت', 'حق', 'نه', 'دریافتی', 'غرورش', 'سر', 'از', 'جاده', 'برتافتی'], ['یکی', 'هاتف', 'از', 'غیبش', 'آواز', 'داد', 'که\\u200cای', 'نیکبخت', 'مبارک', 'نهاد'], ['مپندار', 'اگر', 'طاعتی', 'کرده\\u200cای', 'که', 'نزلی', 'بدین', 'حضرت', 'آورده\\u200cای'], ['به', 'احسانی', 'آسوده', 'کردن', 'دلی', 'به', 'از', 'الف', 'رکعت', 'به', 'هر', 'منزلی'], ['به', 'سرهنگ', 'سلطان', 'چنین', 'گفت', 'زن', 'که', 'خیز', 'ای', 'مبارک', 'در', 'رزق', 'زن'], ['برو', 'تا', 'از', 'خوانت', 'نصیبی', 'دهند', 'که', 'فرزندکانت', 'نظر', 'بر', 'رهند'], ['بگفتا', 'بود', 'مطبخ', 'امروز', 'سرد', 'که', 'سلطان', 'به', 'شب', 'نیت', 'روزه', 'کرد'], ['زن', 'از', 'ناامیدی', 'سر', 'انداخت', 'پیش', 'همی', 'گفت', 'با', 'خود', 'دل', 'از', 'فاقه', 'ریش'], ['که', 'سلطان', 'از', 'این', 'روزه', 'گویی', 'چه', 'خواست', 'که', 'افطار', 'او', 'عید', 'طفلان', 'ماست'], ['خورنده', 'که', 'خیرش', 'برآید', 'از', 'دست', 'به', 'از', 'صائم\\u200cالدهر', 'دنیاپرست'], ['مسلم', 'کسی', 'را', 'بود', 'روزه\\u200cداشت', 'که', 'درمانده\\u200cای', 'را', 'دهد', 'نان', 'چاشت'], ['وگرنه', 'چه', 'لازم', 'که', 'سعیی', 'بری', 'از', 'خود', 'بازگیری', 'و', 'هم', 'خود', 'خوری'], ['یکی', 'را', 'کرم', 'بود', 'و', 'قوت', 'نبود', 'کفافش', 'به', 'قدر', 'مروت', 'نبود'], ['که', 'سفله', 'خداوند', 'هستی', 'مباد', 'جوانمرد', 'را', 'تنگدستی', 'مباد'], ['کسی', 'را', 'که', 'همت', 'بلند', 'اوفتد', 'مرادش', 'کم', 'در', 'کمند', 'اوفتد'], ['چون', 'سیلاب', 'ریزان', 'که', 'در', 'کوهسار', 'نگیرد', 'همی', 'بر', 'بلندی', 'قرار'], ['نه', 'در', 'خورد', 'سرمایه', 'کردی', 'کرم', 'تنک', 'مایه', 'بودی', 'از', 'این', 'لاجرم'], ['برش', 'تنگدستی', 'دو', 'حرفی', 'نبشت', 'که\\u200cای', 'خوب', 'فرجام', 'نیکو', 'سرشت'], ['یکی', 'دست', 'گیرم', 'به', 'چندین', 'درم', 'که', 'چندی', 'است', 'تا', 'من', 'به', 'زندان', 'درم'], ['به', 'چشم', 'اندرش', 'قدر', 'چیزی', 'نبود', 'ولیکن', 'به', 'دستش', 'پشیزی', 'نبود'], ['به', 'خصمان', 'بندی', 'فرستاد', 'مرد', 'که\\u200cای', 'نیکنامان', 'آزاد', 'مرد'], ['بدارید', 'چندی', 'کف', 'از', 'دامنش', 'و', 'اگر', 'می\\u200cگریزد', 'ضمان', 'بر', 'منش'], ['وز', 'آنجا', 'به', 'زندانی', 'آمد', 'که', 'خیز', 'وز', 'این', 'شهر', 'تا', 'پا', 'داری', 'گریز'], ['چون', 'گنجشک', 'در', 'باز', 'دید', 'از', 'قفس', 'قرارش', 'نماند', 'در', 'آن', 'یک', 'نفس'], ['چون', 'باد', 'صبا', 'زآن', 'میان', 'سیر', 'کرد', 'نه', 'سیری', 'که', 'بادش', 'رسیدی', 'به', 'گرد'], ['گرفتند', 'حالی', 'جوانمرد', 'را', 'که', 'حاصل', 'کن', 'این', 'سیم', 'یا', 'مرد', 'را'], ['به', 'بیچارگی', 'راه', 'زندان', 'گرفت', 'که', 'مرغ', 'از', 'قفس', 'رفته', 'نتوان', 'گرفت'], ['شنیدم', 'که', 'در', 'حبس', 'چندی', 'بماند', 'نه', 'شکوت', 'نوشت', 'و', 'نه', 'فریاد', 'خواند'], ['زمانها', 'نیاسود', 'و', 'شبها', 'نخفت', 'بر', 'او', 'پارسایی', 'گذر', 'کرد', 'و', 'گفت'], ['نپندارمت', 'مال', 'مردم', 'خوری', 'چه', 'پیش', 'آمدت', 'تا', 'به', 'زندان', 'دری'], ['بگفت', 'ای', 'جلیس', 'مبارک', 'نفس', 'نخوردم', 'به', 'حیلتگری', 'مال', 'کس'], ['یکی', 'ناتوان', 'دیدم', 'از', 'بند', 'ریش', 'خلاصش', 'ندیدم', 'به', 'جز', 'بند', 'خویش'], ['ندیدم', 'به', 'نزدیک', 'رایم', 'پسند', 'من', 'آسوده', 'و', 'دیگری', 'پایبند'], ['بمرد', 'آخر', 'و', 'نیکنامی', 'ببرد', 'زهی', 'زندگانی', 'که', 'نامش', 'نمرد'], ['تنی', 'زنده', 'دل', 'خفته', 'در', 'زیر', 'گل', 'به', 'از', 'عالمی', 'زنده', 'مرده', 'دل'], ['دل', 'زنده', 'هرگز', 'نگردد', 'هلاک', 'تن', 'زنده', 'دل\\u200cگر', 'بمیرد', 'چه', 'باک'], ['یکی', 'در', 'بیابان', 'سگی', 'تشنه', 'یافت', 'برون', 'از', 'رمق', 'در', 'حیاتش', 'نیافت'], ['کله', 'دلو', 'کرد', 'آن', 'پسندیده', 'کیش', 'چون', 'حبل', 'در', 'آن', 'بست', 'دستار', 'خویش'], ['به', 'خدمت', 'میان', 'بست', 'و', 'بازو', 'گشاد', 'سگ', 'ناتوان', 'را', 'دمی', 'آب', 'داد'], ['خبر', 'داد', 'پیغمبر', 'از', 'حال', 'مرد', 'که', 'داور', 'گناهان', 'از', 'او', 'عفو', 'کرد'], ['الا\\u200cگر', 'جفاکاری', 'اندیشه', 'کن', 'وفا', 'پیش', 'گیر', 'و', 'کرم', 'پیشه', 'کن'], ['کسی', 'با', 'سگی', 'نیکویی', 'گم', 'نکرد', 'کجا', 'گم', 'شود', 'خیر', 'با', 'نیکمرد'], ['کرم', 'کن', 'چنان', 'که\\u200cت', 'برآید', 'از', 'دست', 'جهانبان', 'در', 'خیر', 'بر', 'کس', 'نبست'], ['به', 'قنطار', 'زر', 'بخش', 'کردن', 'از', 'گنج', 'نباشد', 'چون', 'قیراطی', 'از', 'دسترنج'], ['برد', 'هر', 'کسی', 'بار', 'در', 'خورد', 'زور', 'گران', 'است', 'پا', 'ملخ', 'پیش', 'مور'], ['تو', 'با', 'خلق', 'سهلی', 'کن', 'ای', 'نیکبخت', 'که', 'فردا', 'نگیرد', 'خدا', 'با', 'تو', 'سخت'], ['اگر', 'از', 'پا', 'در', 'آید', 'نماند', 'اسیر', 'که', 'افتادگان', 'را', 'بود', 'دستگیر'], ['به', 'آزار', 'فرمان', 'مده', 'بر', 'رهی', 'که', 'باشد', 'که', 'افتد', 'به', 'فرماندهی'], ['چون', 'تمکین', 'و', 'جاهت', 'بود', 'بر', 'دوام', 'مکن', 'زور', 'بر', 'ضعف', 'درویش', 'عام'], ['که', 'افتد', 'که', 'با', 'جاه', 'و', 'تمکین', 'شود', 'چون', 'بیدق', 'که', 'ناگاه', 'فرزین', 'شود'], ['نصیحت', 'شنو', 'مردم', 'دوربین', 'نپاشند', 'در', 'هیچ', 'دل', 'تخم', 'کین'], ['خداوند', 'خرمن', 'زیان', 'می\\u200cکند', 'که', 'بر', 'خوشه\\u200cچین', 'سر', 'گران', 'می\\u200cکند'], ['نترسد', 'که', 'نعمت', 'به', 'مسکین', 'دهند', 'وزآن', 'بار', 'غم', 'بر', 'دل', 'این', 'نهند'], ['بسا', 'زورمندا', 'که', 'افتاد', 'سخت', 'بس', 'افتاده', 'را', 'یاوری', 'کرد', 'بخت'], ['دل', 'زیر', 'دستان', 'نباید', 'شکست', 'مبادا', 'که', 'روزی', 'شوی', 'زیردست'], ['بنالید', 'درویشی', 'از', 'ضعف', 'حال', 'بر', 'تندرویی', 'خداوند', 'مال'], ['نه', 'دینار', 'دادش', 'سیه', 'دل', 'نه', 'دانگ', 'بر', 'او', 'زد', 'به', 'سر', 'باری', 'از', 'طیره', 'بانگ'], ['دل', 'سائل', 'از', 'جور', 'او', 'خون', 'گرفت', 'سر', 'از', 'غم', 'بر', 'آورد', 'و', 'گفت', 'ای', 'شگفت'], ['توانگر', 'ترش', 'روی', 'باری', 'چراست', 'مگر', 'می\\u200cنترسد', 'از', 'تلخی', 'خواست'], ['بفرمود', 'کوته', 'نظر', 'تا', 'غلام', 'براندش', 'به', 'خواری', 'و', 'زجر', 'تمام'], ['به', 'ناکردن', 'شکر', 'پروردگار', 'شنیدم', 'که', 'برگشت', 'از', 'او', 'روزگار'], ['بزرگیش', 'سر', 'در', 'تباهی', 'نهاد', 'عطارد', 'قلم', 'در', 'سیاهی', 'نهاد'], ['شقاوت', 'برهنه', 'نشاندش', 'چون', 'سیر', 'نه', 'بارش', 'رها', 'کرد', 'و', 'نه', 'بارگیر'], ['فشاندش', 'قضا', 'بر', 'سر', 'از', 'فاقه', 'خاک', 'مشعبد', 'صفت', 'کیسه', 'و', 'دست', 'پاک'], ['سراپای', 'حالش', 'دگرگونه', 'گشت', 'بر', 'این', 'ماجرا', 'مدتی', 'بر', 'گذشت'], ['غلامش', 'به', 'دست', 'کریمی', 'فتاد', 'توانگر', 'دل', 'و', 'دست', 'و', 'روشن', 'نهاد'], ['به', 'دیدار', 'مسکین', 'آشفته', 'حال', 'چنان', 'شاد', 'بودی', 'که', 'مسکین', 'به', 'مال'], ['شبانگه', 'یکی', 'بر', 'درش', 'لقمه', 'جست', 'از', 'سختی', 'کشیدن', 'قدمهاش', 'سست'], ['بفرمود', 'صاحب', 'نظر', 'بنده', 'را', 'که', 'خشنود', 'کن', 'مرد', 'درمنده', 'را'], ['چون', 'نزدیک', 'بردش', 'از', 'خوان', 'بهره\\u200cای', 'برآورد', 'بی', 'خویشتن', 'نعره\\u200cای'], ['شکسته', 'دل', 'آمد', 'بر', 'خواجه', 'باز', 'عیان', 'کرده', 'اشکش', 'به', 'دیباجه', 'راز'], ['بپرسید', 'سالار', 'فرخنده', 'خوی', 'که', 'اشکت', 'از', 'جور', 'که', 'آمد', 'به', 'روی'], ['بگفت', 'اندرونم', 'بشورید', 'سخت', 'بر', 'احوال', 'این', 'پیر', 'شوریده', 'بخت'], ['که', 'مملوک', 'او', 'بودم', 'در', 'قدیم', 'خداوند', 'املاک', 'و', 'اسباب', 'و', 'سیم'], ['چون', 'کوتاه', 'شد', 'دستش', 'از', 'عز', 'و', 'ناز', 'کند', 'دست', 'خواهش', 'به', 'درها', 'دراز'], ['بخندید', 'و', 'گفت', 'ای', 'پسر', 'جور', 'نیست', 'ستم', 'بر', 'کس', 'از', 'گردش', 'دور', 'نیست'], ['نه', 'آن', 'تندروی', 'است', 'بازارگان', 'که', 'بردی', 'سر', 'از', 'کبر', 'بر', 'آسمان'], ['من', 'آنم', 'که', 'آن', 'روزم', 'از', 'در', 'براند', 'به', 'روز', 'منش', 'دور', 'گیتی', 'نشاند'], ['نگه', 'کرد', 'باز', 'آسمان', 'سوی', 'من', 'فرو', 'شست', 'گرد', 'غم', 'از', 'روی', 'من'], ['خدای', 'اگر', 'به', 'حکمت', 'ببندد', 'دری', 'گشاید', 'به', 'فضل', 'و', 'کرم', 'دیگری'], ['بسا', 'مفلس', 'بینوا', 'سیر', 'شد', 'بسا', 'کار', 'منعم', 'زبر', 'زیر', 'شد'], ['یکی', 'سیرت', 'نیکمردان', 'شنو', 'اگر', 'نیکبختی', 'و', 'مردانه', 'رو'], ['که', 'شبلی', 'از', 'حانوت', 'گندم', 'فروش', 'به', 'ده', 'برد', 'انبان', 'گندم', 'به', 'دوش'], ['نگه', 'کرد', 'و', 'موری', 'در', 'آن', 'غله', 'دید', 'که', 'سرگشته', 'هر', 'گوشه\\u200cای', 'می\\u200cدوید'], ['از', 'رحمت', 'بر', 'او', 'شب', 'نیارست', 'خفت', 'به', 'مأوای', 'خود', 'بازش', 'آورد', 'و', 'گفت'], ['مروت', 'نباشد', 'که', 'این', 'مور', 'ریش', 'پراکنده', 'گردانم', 'از', 'جای', 'خویش'], ['درون', 'پراکندگان', 'جمع', 'دار', 'که', 'جمعیتت', 'باشد', 'از', 'روزگار'], ['چه', 'خوش', 'گفت', 'فردوسی', 'پاک', 'زاد', 'که', 'رحمت', 'بر', 'آن', 'تربت', 'پاک', 'باد'], ['میازار', 'موری', 'که', 'دانه\\u200cکش', 'است', 'که', 'جان', 'دارد', 'و', 'جان', 'شیرین', 'خوش', 'است'], ['سیاه', 'اندرون', 'باشد', 'و', 'سنگدل', 'که', 'خواهد_که', 'موری', 'شود', 'تنگدل'], ['مزن', 'بر', 'سر', 'ناتوان', 'دست', 'زور', 'که', 'روزی', 'به', 'پایش', 'در', 'افتی', 'چون', 'مور'], ['درون', 'فروماندگان', 'شاد', 'کن', 'از', 'روز', 'فروماندگی', 'یاد', 'کن'], ['نبخشود', 'بر', 'حال', 'پروانه', 'شمع', 'نگه', 'کن', 'که', 'چون', 'سوخت', 'در', 'پیش', 'جمع'], ['گرفتم', 'از', 'تو', 'ناتوان\\u200cتر', 'بسی', 'است', 'تواناتر', 'از', 'تو', 'هم', 'آخر', 'کسی', 'است'], ['ببخش', 'ای', 'پسر', 'کآدمی', 'زاده', 'صید', 'به', 'احسان', 'توان', 'کرد', 'و', 'وحشی', 'به', 'قید'], ['عدو', 'را', 'به', 'الطاف', 'گردن', 'ببند', 'که', 'نتوان', 'بریدن', 'به', 'تیغ', 'این', 'کمند'], ['چون', 'دشمن', 'کرم', 'بیند', 'و', 'لطف', 'و', 'جود', 'نیاید', 'دیگر', 'خبث', 'از', 'او', 'در', 'وجود'], ['مکن', 'بد', 'که', 'بد', 'بینی', 'از', 'یار', 'نیک', 'نروید', 'از', 'تخم', 'بدی', 'بار', 'نیک'], ['چون', 'با', 'دوست', 'دشخوار', 'گیری', 'و', 'تنگ', 'نخواهد_که', 'بیند', 'تو', 'را', 'نقش', 'و', 'رنگ'], ['و', 'اگر', 'خواجه', 'با', 'دشمنان', 'نیکخوست', 'بسی', 'بر', 'نیاید', 'که', 'گردند', 'دوست'], ['به', 'راه', 'بر', 'یکی', 'پیشم', 'آمد', 'جوان', 'به', 'تک', 'در', 'پیش', 'گوسفندی', 'دوان'], ['بدو', 'گفتم', 'این', 'ریسمان', 'است', 'و', 'بند', 'که', 'می\\u200cآرد', 'در', 'پیت', 'گوسفند'], ['سبک', 'طوق', 'و', 'زنجیر', 'از', 'او', 'باز', 'کرد', 'چپ', 'و', 'راست', 'پوییدن', 'آغاز', 'کرد'], ['هنوز', 'از', 'پیش', 'تازیان', 'می\\u200cدوید', 'که', 'جو', 'خورده_بود', 'از', 'کف', 'مرد', 'و', 'خوید'], ['چون', 'باز', 'آمد', 'از', 'عیش', 'و', 'شادی', 'به', 'جای', 'من', 'را', 'دید', 'و', 'گفت', 'ای', 'خداوند', 'رای'], ['نه', 'این', 'ریسمان', 'می\\u200cبرد', 'با', 'منش', 'که', 'احسان', 'کمندی', 'است', 'در', 'گردنش'], ['به', 'لطفی', 'که', 'دیده\\u200cست', 'پیل', 'دمان', 'نیارد', 'همی', 'حمله', 'بر', 'پیلبان'], ['بدان', 'را', 'نوازش', 'کن', 'ای', 'نیکمرد', 'که', 'سگ', 'پاس', 'دارد', 'چون', 'نان', 'تو', 'خورد'], ['بر', 'آن', 'مرد', 'کند', 'است', 'دندان', 'یوز', 'که', 'مالد', 'زبان', 'بر', 'پنیرش', 'دو', 'روز'], ['یکی', 'روبهی', 'دید', 'بی', 'دست', 'و', 'پا', 'فرو', 'ماند', 'در', 'لطف', 'و', 'صنع', 'خدای'], ['که', 'چون', 'زندگانی', 'به', 'سر', 'می\\u200cبرد', 'بدین', 'دست', 'و', 'پا', 'از', 'کجا', 'می\\u200cخورد'], ['در', 'این', 'بود', 'درویش', 'شوریده', 'رنگ', 'که', 'شیری', 'در', 'آمد', 'شغالی', 'به', 'چنگ'], ['شغال', 'نگون', 'بخت', 'را', 'شیر', 'خورد', 'بماند', 'آنچه', 'روباه', 'از', 'آن', 'سیر', 'خورد'], ['دیگر', 'روز', 'باز', 'اتفاق', 'اوفتاد', 'که', 'روزی', 'رسان', 'قوت', 'روزش', 'بداد'], ['یقین', 'مرد', 'را', 'دیده', 'بیننده', 'کرد', 'شد', 'و', 'تکیه', 'بر', 'آفریننده', 'کرد'], ['که', 'از', 'این', 'پس', 'به', 'کنجی', 'نشینم', 'چون', 'مور', 'که', 'روزی', 'نخوردند', 'پیلان', 'به', 'زور'], ['زنخدان', 'فرو', 'برد', 'چندی', 'به', 'جیب', 'که', 'بخشنده', 'روزی', 'فرستد', 'از', 'غیب'], ['نه', 'بیگانه', 'تیمار', 'خوردش', 'نه', 'دوست', 'چون', 'چنگش', 'رگ', 'و', 'استخوان', 'ماند', 'و', 'پوست'], ['چون', 'صبرش', 'نماند', 'از', 'ضعیفی', 'و', 'هوش', 'از', 'دیوار', 'محرابش', 'آمد', 'به', 'گوش'], ['برو', 'شیر', 'درنده', 'باش', 'ای', 'دغل', 'مینداز', 'خود', 'را', 'چون', 'روباه', 'شل'], ['چنان', 'سعی', 'کن', 'که', 'از', 'تو', 'ماند', 'چون', 'شیر', 'چه', 'باشی', 'چون', 'روبه', 'به', 'وامانده', 'سیر'], ['چون', 'شیر', 'آن', 'که', 'را', 'گردنی', 'فربه', 'است', 'اگر', 'افتد', 'چون', 'روبه', 'سگ', 'از', 'او', 'به', 'است'], ['به', 'چنگ', 'آر', 'و', 'با', 'دیگران', 'نوش', 'کن', 'نه', 'بر', 'فضله', 'دیگران', 'گوش', 'کن'], ['بخور', 'تا', 'توانی', 'به', 'بازوی', 'خویش', 'که', 'سعیت', 'بود', 'در', 'ترازوی', 'خویش'], ['چون', 'مردان', 'ببر', 'رنج', 'و', 'راحت', 'رسان', 'مخنث', 'خورد', 'دسترنج', 'کسان'], ['بگیر', 'ای', 'جوان', 'دست', 'درویش', 'پیر', 'نه', 'خود', 'را', 'بیفکن', 'که', 'دستم', 'بگیر'], ['خدا', 'را', 'بر', 'آن', 'بنده', 'بخشایش', 'است', 'که', 'خلق', 'از', 'وجودش', 'در', 'آسایش', 'است'], ['کرم', 'ورزد', 'آن', 'سر', 'که', 'مغزی', 'در', 'اوست', 'که', 'دون', 'همتانند', 'بی', 'مغز', 'و', 'پوست'], ['کسی', 'نیک', 'بیند', 'به', 'هر', 'دو', 'سرای', 'که', 'نیکی', 'رساند', 'به', 'خلق', 'خدای'], ['شنیدم', 'که', 'مردی', 'است', 'پاکیزه', 'بوم', 'شناسا', 'و', 'رهرو', 'در', 'اقصای', 'روم'], ['من', 'و', 'چند', 'سیاح', 'صحرانورد', 'برفتیم', 'قاصد', 'به', 'دیدار', 'مرد'], ['سر', 'و', 'چشم', 'هر', 'یک', 'ببوسید', 'و', 'دست', 'به', 'تمکین', 'و', 'عزت', 'نشاند', 'و', 'نشست'], ['زرش', 'دیدم', 'و', 'زرع', 'و', 'شاگرد', 'و', 'رخت', 'ولی', 'بی', 'مروت', 'چون', 'بی', 'بر', 'درخت'], ['به', 'لطف', 'و', 'سخن', 'گرم', 'رو', 'مرد', 'بود', 'ولی', 'دیگدانش', 'عجب', 'سرد', 'بود'], ['همه', 'شب', 'نبودش', 'قرار', 'و', 'هجوع', 'از', 'تسبیح', 'و', 'تهلیل', 'و', 'ما', 'را', 'از', 'جوع'], ['سحرگه', 'میان', 'بست', 'و', 'در', 'باز', 'کرد', 'همان', 'لطف', 'و', 'پرسیدن', 'آغاز', 'کرد'], ['یکی', 'بد', 'که', 'شیرین', 'و', 'خوش', 'طبع', 'بود', 'که', 'با', 'ما', 'مسافر', 'در', 'آن', 'ربع', 'بود'], ['من', 'را', 'بوسه', 'گفتا', 'به', 'تصحیف', 'ده', 'که', 'درویش', 'را', 'توشه', 'از', 'بوسه', 'به'], ['به', 'خدمت', 'منه', 'دست', 'بر', 'کفش', 'من', 'من', 'را', 'نان', 'ده', 'و', 'کفش', 'بر', 'سر', 'بزن'], ['به', 'ایثار', 'مردان', 'سبق', 'برده\\u200cاند', 'نه', 'شب', 'زنده', 'داران', 'دل', 'مرده\\u200cاند'], ['همین', 'دیدم', 'از', 'پاسبان', 'تتار', 'دل', 'مرده', 'و', 'چشم', 'شب', 'زنده\\u200cدار'], ['کرامت', 'جوانمردی', 'و', 'نان', 'دهی', 'است', 'مقالات', 'بیهوده', 'طبل', 'تهی', 'است'], ['قیامت', 'کسی', 'بینی', 'در', 'بهشت', 'که', 'معنی', 'طلب', 'کرد', 'و', 'دعوی', 'بهشت'], ['به', 'معنی', 'توان', 'کرد', 'دعوی', 'درست', 'دم', 'بی', 'قدم', 'تکیه', 'گاهی', 'است', 'سست'], ['شنیدم', 'در', 'ایام', 'حاتم', 'که', 'بود', 'به', 'خیل', 'اندرش', 'بادپایی', 'چون', 'دود'], ['صبا', 'سرعتی', 'رعد', 'بانگ', 'ادهمی', 'که', 'بر', 'برق', 'پیشی', 'گرفتی', 'همی'], ['به', 'تک', 'ژاله', 'می\\u200cریخت', 'بر', 'کوه', 'و', 'دشت', 'تو', 'گفتی', 'مگر', 'ابر', 'نیسان', 'گذشت'], ['یکی', 'سیل', 'رفتار', 'هامون', 'نورد', 'که', 'باد', 'از', 'پیش', 'باز', 'ماندی', 'چون', 'گرد'], ['از', 'اوصاف', 'حاتم', 'به', 'هر', 'مرز', 'و', 'بوم', 'بگفتند', 'برخی', 'به', 'سلطان', 'روم'], ['که', 'همتای', 'او', 'در', 'کرم', 'مرد', 'نیست', 'چون', 'اسبش', 'به', 'جولان', 'و', 'ناورد', 'نیست'], ['بیابان', 'نوردی', 'چون', 'کشتی', 'بر', 'آب', 'که', 'بالای', 'سیرش', 'نپرد', 'عقاب'], ['به', 'دستور', 'دانا', 'چنین', 'گفت', 'شاه', 'که', 'دعوی', 'خجالت', 'بود', 'بی', 'گواه'], ['من', 'از', 'حاتم', 'آن', 'اسب', 'تازی', 'نژاد', 'بخواهم\\u200cگر', 'او', 'مکرمت', 'کرد', 'و', 'داد'], ['بدانم', 'که', 'در', 'او', 'شکوه', 'مهی', 'است', 'وگر', 'رد', 'کند', 'بانگ', 'طبل', 'تهی', 'است'], ['رسولی', 'هنرمند', 'عالم', 'به', 'طی', 'روان', 'کرد', 'و', 'ده', 'مرد', 'همراه', 'او'], ['زمین', 'مرده', 'و', 'ابر', 'گریان', 'بر', 'او', 'صبا', 'کرده', 'بار', 'دیگر', 'جان', 'در', 'او'], ['به', 'منزلگه', 'حاتم', 'آمد', 'فرود', 'بر', 'آسود', 'چون', 'تشنه', 'بر', 'زنده', 'رود'], ['سماطی', 'بیفکند', 'و', 'اسبی', 'بکشت', 'به', 'دامن', 'شکر', 'دادشان', 'زر', 'به', 'مشت'], ['شب', 'آن', 'جا', 'ببودند', 'و', 'روز', 'دیگر', 'بگفت', 'آنچه', 'دانست', 'صاحب', 'خبر'], ['همی', 'گفت', 'حاتم', 'پریشان', 'چون', 'مست', 'به', 'دندان', 'از', 'حسرت', 'همی', 'کند', 'دست'], ['که\\u200cای', 'بهره', 'ور', 'موبد', 'نیک', 'نام', 'چرا', 'پیش', 'از', 'اینم', 'نگفتی', 'پیام'], ['من', 'آن', 'باد', 'رفتار', 'دلدل', 'شتاب', 'از', 'بهر', 'شما', 'دوش', 'کردم', 'کباب'], ['که', 'دانستم', 'از', 'هول', 'باران', 'و', 'سیل', 'نشاید', 'شدن', 'در', 'چراگاه', 'خیل'], ['به', 'نوعی', 'دیگر', 'روی', 'و', 'راهم', 'نبود', 'جز', 'او', 'بر', 'در', 'بارگاهم', 'نبود'], ['مروت', 'ندیدم', 'در', 'آیین', 'خویش', 'که', 'مهمان', 'بخسبد', 'دل', 'از', 'فاقه', 'ریش'], ['من', 'را', 'نام', 'باید', 'در', 'اقلیم', 'فاش', 'دیگر', 'مرکب', 'نامور', 'گو', 'مباش'], ['کسان', 'را', 'درم', 'داد', 'و', 'تشریف', 'و', 'اسب', 'طبیعی', 'است', 'اخلاق', 'نیکو', 'نه', 'کسب'], ['خبر', 'شد', 'به', 'روم', 'از', 'جوانمرد', 'طی', 'هزار', 'آفرین', 'گفت', 'بر', 'طبع', 'او'], ['از', 'حاتم', 'بدین', 'نکته', 'راضی', 'مشو', 'از', 'این', 'خوب\\u200cتر', 'ماجرایی', 'شنو'], ['ندانم', 'که', 'گفت', 'این', 'حکایت', 'به', 'من', 'که', 'بوده\\u200cست', 'فرماندهی', 'در', 'یمن'], ['از', 'نام', 'آوران', 'گوی', 'دولت', 'ربود', 'که', 'در', 'گنج', 'بخشی', 'نظیرش', 'نبود'], ['توان', 'گفت', 'او', 'را', 'سحاب', 'کرم', 'که', 'دستش', 'چون', 'باران', 'فشاندی', 'درم'], ['کسی', 'نام', 'حاتم', 'نبردی', 'برش', 'که', 'سودا', 'نرفتی', 'از', 'او', 'بر', 'سرش'], ['که', 'چند', 'از', 'مقالات', 'آن', 'بادسنج', 'که', 'نه', 'ملک', 'دارد', 'نه', 'فرمان', 'نه', 'گنج'], ['شنیدم', 'که', 'جشنی', 'ملوکانه', 'ساخت', 'چون', 'چنگ', 'در', 'آن', 'بزم', 'خلقی', 'نواخت'], ['در', 'ذکر', 'حاتم', 'کسی', 'باز', 'کرد', 'دیگر', 'کس', 'ثنا', 'گفتن', 'آغاز', 'کرد'], ['حسد', 'مرد', 'را', 'بر', 'سر', 'کینه', 'داشت', 'یکی', 'را', 'به', 'خون', 'خوردنش', 'بر', 'گماشت'], ['که', 'تا', 'هست', 'حاتم', 'در', 'ایام', 'من', 'نخواهد_به', 'نیکی', 'شدن', 'نام', 'من'], ['بلا', 'جوی', 'راه', 'بنی', 'طی', 'گرفت', 'به', 'کشتن', 'جوانمرد', 'را', 'پی', 'گرفت'], ['جوانی', 'به', 'راه', 'پیشباز', 'آمدش', 'که', 'از', 'او', 'بوی', 'انسی', 'فراز', 'آمدش'], ['نکو', 'روی', 'و', 'دانا', 'و', 'شیرین', 'زبان', 'بر', 'خویش', 'برد', 'آن', 'شبش', 'میهمان'], ['کرم', 'کرد', 'و', 'غم', 'خورد', 'و', 'پوزش', 'نمود', 'بد', 'اندیش', 'را', 'دل', 'به', 'نیکی', 'ربود'], ['نهادش', 'سحر', 'بوسه', 'بر', 'دست', 'و', 'پا', 'که', 'نزدیک', 'ما', 'چند', 'روزی', 'بپای'], ['بگفتا', 'نیارم', 'شد', 'اینجا', 'مقیم', 'که', 'در', 'پیش', 'دارم', 'مهمی', 'عظیم'], ['بگفت', 'اگر', 'نهی', 'با', 'من', 'در', 'میان', 'چون', 'یاران', 'یکدل', 'بکوشم', 'به', 'جان'], ['به', 'من', 'دار', 'گفت', 'ای', 'جوانمرد', 'گوش', 'که', 'دانم', 'جوانمرد', 'را', 'پرده', 'پوش'], ['در', 'این', 'بوم', 'حاتم', 'شناسی', 'مگر', 'که', 'فرخنده', 'رای', 'است', 'و', 'نیکو', 'سیر'], ['سرش', 'پادشاه', 'یمن', 'خواسته\\u200cست', 'ندانم', 'چه', 'کین', 'در', 'میان', 'خاسته\\u200cست'], ['گرم', 'راه', 'نمایی', 'بدان', 'جا', 'که', 'اوست', 'همین', 'چشم', 'دارم', 'از', 'لطف', 'تو', 'دوست'], ['بخندید', 'برنا', 'که', 'حاتم', 'منم', 'سر', 'اینک', 'جدا', 'کن', 'به', 'تیغ', 'از', 'تنم'], ['نباید', 'که', 'چون', 'صبح', 'گردد', 'سفید', 'گزندت', 'رسد', 'یا', 'شوی', 'ناامید'], ['چون', 'حاتم', 'به', 'آزادگی', 'سر', 'نهاد', 'جوان', 'را', 'برآمد', 'خروش', 'از', 'نهاد'], ['به', 'خاک', 'در', 'افتاد', 'و', 'بر', 'پا', 'جست', 'گهش', 'خاک', 'بوسید', 'و', 'گه', 'پا', 'و', 'دست'], ['بینداخت', 'شمشیر', 'و', 'ترکش', 'نهاد', 'چون', 'بیچارگان', 'دست', 'بر', 'کش', 'نهاد'], ['که', 'من\\u200cگر', 'گلی', 'بر', 'وجودت', 'زنم', 'به', 'نزدیک', 'مردان', 'نه', 'مردم', 'زنم'], ['دو', 'چشمش', 'ببوسید', 'و', 'در', 'بر', 'گرفت', 'وز', 'آنجا', 'طریق', 'یمن', 'بر', 'گرفت'], ['ملک', 'در', 'میان', 'دو', 'ابروی', 'مرد', 'بدانست', 'حالی', 'که', 'کاری', 'نکرد'], ['بگفتا', 'بیا', 'تا', 'چه', 'داری', 'خبر', 'چرا', 'سر', 'نبستی', 'به', 'فتراک', 'بر'], ['مگر', 'بر', 'تو', 'نام\\u200cآوری', 'حمله', 'کرد', 'نیاوردی', 'از', 'ضعف', 'تاب', 'نبرد'], ['جوانمرد', 'شاطر', 'زمین', 'بوسه', 'داد', 'ملک', 'را', 'ثنا', 'گفت', 'و', 'تمکین', 'نهاد'], ['که', 'دریافتم', 'حاتم', 'نامجوی', 'هنرمند', 'و', 'خوش', 'منظر', 'و', 'خوبروی'], ['جوانمرد', 'و', 'صاحب', 'خرد', 'دیدمش', 'به', 'مردانگی', 'فوق', 'خود', 'دیدمش'], ['من', 'را', 'بار', 'لطفش', 'دو', 'تا', 'کرد', 'پشت', 'به', 'شمشیر', 'احسان', 'و', 'فضلم', 'بکشت'], ['بگفت', 'آنچه', 'دید', 'از', 'کرمهای', 'او', 'شهنشه', 'ثنا', 'گفت', 'بر', 'آل', 'طی'], ['فرستاده', 'را', 'داد', 'مهری', 'درم', 'که', 'مهر', 'است', 'بر', 'نام', 'حاتم', 'کرم'], ['مر', 'او', 'را', 'سزد\\u200cگر', 'گواهی', 'دهند', 'که', 'معنی', 'و', 'آوازه\\u200cاش', 'همرهند'], ['شنیدم', 'که', 'طی', 'در', 'زمان', 'رسول', 'نکردند', 'منشور', 'ایمان', 'قبول'], ['فرستاد', 'لشکر', 'بشیر', 'نذیر', 'گرفتند', 'از', 'ایشان', 'گروهی', 'اسیر'], ['بفرمود', 'کشتن', 'به', 'شمشیر', 'کین', 'که', 'ناپاک', 'بودند', 'و', 'ناپاک', 'دین'], ['زنی', 'گفت', 'من', 'دختر', 'حاتمم', 'بخواهید', 'از', 'این', 'نامور', 'حاکمم'], ['کرم', 'کن', 'به', 'جای', 'من', 'ای', 'محترم', 'که', 'مولای', 'من', 'بود', 'از', 'اهل', 'کرم'], ['به', 'فرمان', 'پیغمبر', 'نیک', 'رای', 'گشادند', 'زنجیرش', 'از', 'دست', 'و', 'پا'], ['در', 'آن', 'قوم', 'باقی', 'نهادند', 'تیغ', 'که', 'رانند', 'سیلاب', 'خون', 'بی', 'دریغ'], ['به', 'زاری', 'به', 'شمشیر', 'زن', 'گفت', 'زن', 'من', 'را', 'نیز', 'با', 'جمله', 'گردن', 'بزن'], ['مروت', 'نبینم', 'رهایی', 'از', 'بند', 'به', 'تنها', 'و', 'یارانم', 'در', 'کمند'], ['همی', 'گفت', 'و', 'گریان', 'بر', 'احوال', 'طی', 'به', 'سمع', 'رسول', 'آمد', 'آواز', 'او'], ['ببخشود', 'آن', 'قوم', 'و', 'دیگر', 'عطا', 'که', 'هرگز', 'نکرد', 'اصل', 'و', 'گوهر', 'خطا'], ['از', 'بنگاه', 'حاتم', 'یکی', 'پیرمرد', 'طلب', 'ده', 'درم', 'سنگ', 'فانید', 'کرد'], ['از', 'راوی', 'چنان', 'یاد', 'دارم', 'خبر', 'که', 'پیشش', 'فرستاد', 'تنگی', 'شکر'], ['زن', 'از', 'خیمه', 'گفت', 'این', 'چه', 'تدبیر', 'بود', 'همان', 'ده', 'درم', 'حاجت', 'پیر', 'بود'], ['شنید', 'این', 'سخن', 'نامبردار', 'طی', 'بخندید', 'و', 'گفت', 'ای', 'دلارام', 'حی'], ['اگر', 'او', 'در', 'خور', 'حاجت', 'خویش', 'خواست', 'جوانمردی', 'آل', 'حاتم', 'کجاست'], ['چون', 'حاتم', 'به', 'آزادمردی', 'دیگر', 'از', 'دوران', 'گیتی', 'نیامد', 'مگر'], ['ابوبکر', 'سعد', 'آن', 'که', 'دست', 'نوال', 'نهد', 'همتش', 'بر', 'دهان', 'سؤال'], ['رعیت', 'پناها', 'دلت', 'شاد', 'باد', 'به', 'سعیت', 'مسلمانی', 'آباد', 'باد'], ['سرافرازد', 'این', 'خاک', 'فرخنده', 'بوم', 'از', 'عدلت', 'بر', 'اقلیم', 'یونان', 'و', 'روم'], ['چون', 'حاتم', 'اگر', 'نیستی', 'کام', 'او', 'نبردی', 'کس', 'در', 'جهان', 'نام', 'طی'], ['ثنا', 'ماند', 'از', 'آن', 'نامور', 'در', 'کتاب', 'تو', 'را', 'هم', 'ثنا', 'ماند', 'و', 'هم', 'ثواب'], ['که', 'حاتم', 'بدان', 'نام', 'و', 'آوازه', 'خواست', 'تو', 'را', 'سعی', 'و', 'جهد', 'از', 'برای', 'خداست'], ['تکلف', 'بر', 'مرد', 'درویش', 'نیست', 'وصیت', 'همین', 'یک', 'سخن', 'بیش', 'نیست'], ['که', 'چندان', 'که', 'جهدت', 'بود', 'خیر', 'کن', 'از', 'تو', 'خیر', 'ماند', 'از', 'سعدی', 'سخن'], ['یکی', 'را', 'خری', 'در', 'گل', 'افتاده_بود', 'از', 'سوداش', 'خون', 'در', 'دل', 'افتاده_بود'], ['بیابان', 'و', 'باران', 'و', 'سرما', 'و', 'سیل', 'فرو', 'هشته', 'ظلمت', 'بر', 'آفاق', 'ذیل'], ['همه', 'شب', 'در', 'این', 'غصه', 'تا', 'بامداد', 'سقط', 'گفت', 'و', 'نفرین', 'و', 'دشنام', 'داد'], ['نه', 'دشمن', 'برست', 'از', 'زبانش', 'نه', 'دوست', 'نه', 'سلطان', 'که', 'این', 'بوم', 'و', 'بر', 'زآن', 'اوست'], ['قضا', 'را', 'خداوند', 'آن', 'پهن', 'دشت', 'در', 'آن', 'حال', 'منکر', 'بر', 'او', 'بر', 'گذشت'], ['شنید', 'این', 'سخنهای', 'دور', 'از', 'صواب', 'نه', 'صبر', 'شنیدن', 'نه', 'روی', 'جواب'], ['ملک', 'شرمگین', 'در', 'حشم', 'بنگریست', 'که', 'سودای', 'این', 'بر', 'من', 'از', 'بهر', 'چیست'], ['یکی', 'گفت', 'شاها', 'به', 'تیغش', 'بزن', 'که', 'نگذاشت', 'کس', 'را', 'نه', 'دختر', 'نه', 'زن'], ['نگه', 'کرد', 'سلطان', 'عالی', 'محل', 'خودش', 'در', 'بلا', 'دید', 'و', 'خر', 'در', 'وحل'], ['ببخشود', 'بر', 'حال', 'مسکین', 'مرد', 'فرو', 'خورد', 'خشم', 'سخنهای', 'سرد'], ['زرش', 'داد', 'و', 'اسب', 'و', 'قبا', 'پوستین', 'چه', 'نیکو', 'بود', 'مهر', 'در', 'وقت', 'کین'], ['یکی', 'گفتش', 'ای', 'پیر', 'بی', 'عقل', 'و', 'هوش', 'عجب', 'رستی', 'از', 'قتل', 'گفتا', 'خموش'], ['اگر', 'من', 'بنالیدم', 'از', 'درد', 'خویش', 'او', 'انعام', 'فرمود', 'در', 'خورد', 'خویش'], ['بدی', 'را', 'بدی', 'سهل', 'باشد', 'جزا', 'اگر', 'مردی', 'أحسن', 'إلی', 'من', 'أساء'], ['شنیدم', 'که', 'مغروری', 'از', 'کبر', 'مست', 'در', 'خانه', 'بر', 'روی', 'سائل', 'ببست'], ['به', 'کنجی', 'فرو', 'ماند', 'و', 'بنشست', 'مرد', 'جگر', 'گرم', 'و', 'آه', 'از', 'تف', 'سینه', 'سرد'], ['شنیدش', 'یکی', 'مرد', 'پوشیده', 'چشم', 'بپرسیدش', 'از', 'موجب', 'کین', 'و', 'خشم'], ['فرو', 'گفت', 'و', 'بگریست', 'بر', 'خاک', 'کوی', 'جفایی', 'که', 'از', 'آن', 'شخصش', 'آمد', 'به', 'روی'], ['بگفت', 'ای', 'فلان', 'ترک', 'آزار', 'کن', 'یک', 'امشب', 'به', 'نزد', 'من', 'افطار', 'کن'], ['به', 'خلق', 'و', 'فریبش', 'گریبان', 'کشید', 'به', 'خانه', 'در', 'آوردش', 'و', 'خوان', 'کشید'], ['بر', 'آسود', 'درویش', 'روشن', 'نهاد', 'بگفت', 'ایزدت', 'روشنایی', 'دهاد'], ['شب', 'از', 'نرگسش', 'قطره', 'چندی', 'چکید', 'سحر', 'دیده', 'بر', 'کرد', 'و', 'دنیا', 'بدید'], ['حکایت', 'به', 'شهر', 'در', 'افتاد', 'و', 'جوش', 'که', 'آن', 'بی', 'بصر', 'دیده', 'بر', 'کرد', 'دوش'], ['شنید', 'این', 'سخن', 'خواجه', 'سنگدل', 'که', 'برگشت', 'درویش', 'از', 'او', 'تنگدل'], ['بگفتا', 'حکایت', 'کن', 'ای', 'نیکبخت', 'که', 'چون', 'سهل', 'شد', 'بر', 'تو', 'این', 'کار', 'سخت'], ['که', 'بر', 'کردت', 'این', 'شمع', 'گیتی', 'فروز', 'بگفت', 'ای', 'ستمکار', 'آشفته', 'روز'], ['تو', 'کوته', 'نظر', 'بودی', 'و', 'سست', 'رای', 'که', 'مشغول', 'گشتی', 'به', 'جغد', 'از', 'همای'], ['به', 'روی', 'من', 'این', 'در', 'کسی', 'کرد', 'باز', 'که', 'کردی', 'تو', 'بر', 'روی', 'او', 'در', 'فراز'], ['اگر', 'بوسه', 'بر', 'خاک', 'مردان', 'زنی', 'به', 'مردی', 'که', 'پیش', 'آیدت', 'روشنی'], ['کسانی', 'که', 'پوشیده', 'چشم', 'دلند', 'همانا', 'که', 'از', 'این', 'توتیا', 'غافلند'], ['چون', 'برگشته', 'دولت', 'ملامت', 'شنید', 'سر', 'انگشت', 'حیرت', 'به', 'دندان', 'گزید'], ['که', 'شهباز', 'من', 'صید', 'دام', 'تو', 'شد', 'من', 'را', 'بود', 'دولت', 'به', 'نام', 'تو', 'شد'], ['کسی', 'چون', 'به', 'دست', 'آورد', 'جره', 'باز', 'فرو', 'برده', 'چون', 'موش', 'دندان', 'آز'], ['الا\\u200cگر', 'طلبکار', 'اهل', 'دلی', 'از', 'خدمت', 'مکن', 'یک', 'زمان', 'غافلی'], ['خورش', 'ده', 'به', 'گنجشک', 'و', 'کبک', 'و', 'حمام', 'که', 'یک', 'روزت', 'افتد', 'همایی', 'به', 'دام'], ['چون', 'هر', 'گوشه', 'تیر', 'نیاز', 'افکنی', 'امید', 'است', 'ناگه', 'که', 'صیدی', 'زنی'], ['دری', 'هم', 'بر', 'آید', 'از', 'چندین', 'صدف', 'از', 'صد', 'چوبه', 'آید', 'یکی', 'بر', 'هدف'], ['یکی', 'را', 'پسر', 'گم', 'شد', 'از', 'راحله', 'شبانگه', 'بگردید', 'در', 'قافله'], ['از', 'هر', 'خیمه', 'پرسید', 'و', 'هر', 'سو', 'شتافت', 'به', 'تاریکی', 'آن', 'روشنایی', 'نیافت'], ['چون', 'آمد', 'بر', 'مردم', 'کاروان', 'شنیدم', 'که', 'می\\u200cگفت', 'با', 'ساروان'], ['ندانی', 'که', 'چون', 'راه', 'بردم', 'به', 'دوست', 'هر', 'آن', 'کس', 'که', 'پیش', 'آمدم', 'گفتم', 'اوست'], ['از', 'آن', 'اهل', 'دل', 'در', 'پی', 'هر', 'کسند', 'که', 'باشد', 'که', 'روزی', 'به', 'مردی', 'رسند'], ['برند', 'از', 'برای', 'دلی', 'بارها', 'خورند', 'از', 'برای', 'گلی', 'خارها'], ['از', 'تاج', 'ملکزاده\\u200cای', 'در', 'مناخ', 'شبی', 'لعلی', 'افتاد', 'در', 'سنگلاخ'], ['پدر', 'گفتش', 'در', 'شب', 'تیره', 'رنگ', 'چه', 'دانی', 'که', 'گوهر', 'کدام', 'است', 'و', 'سنگ'], ['همه', 'سنگها', 'پاس', 'دار', 'ای', 'پسر', 'که', 'لعل', 'از', 'میانش', 'نباشد', 'به', 'در'], ['در', 'اوباش', 'پاکان', 'شوریده', 'رنگ', 'همان', 'جای', 'تاریک', 'و', 'لعلند', 'و', 'سنگ'], ['چون', 'پاکیزه', 'نفسان', 'و', 'صاحبدلان', 'بر', 'آمیختستند', 'با', 'جاهلان'], ['به', 'رغبت', 'بکش', 'بار', 'هر', 'جاهلی', 'که', 'افتی', 'به', 'سر', 'وقت', 'صاحبدلی'], ['کسی', 'را', 'که', 'با', 'دوستی', 'سرخوش', 'است', 'نبینی', 'که', 'چون', 'بار', 'دشمن', 'کش', 'است'], ['بدرد', 'چون', 'گل', 'جامه', 'از', 'دست', 'خار', 'که', 'خون', 'در', 'دل', 'افتاده', 'خندد', 'چون', 'نار'], ['غم', 'جمله', 'خور', 'در', 'هوای', 'یکی', 'مراعات', 'صد', 'کن', 'برای', 'یکی'], ['گرت', 'خاکپایان', 'شوریده', 'سر', 'حقیر', 'و', 'فقیر', 'آید', 'در', 'نظر'], ['به', 'مردی', 'که', 'از', 'ایشان', 'به', 'در', 'نیست', 'آن', 'به', 'خدمت', 'کمر', 'بندشان', 'بر', 'میان'], ['تو', 'هرگز', 'مبینشان', 'به', 'چشم', 'پسند', 'که', 'ایشان', 'پسندیده', 'حق', 'بسند'], ['کسی', 'را', 'که', 'نزدیک', 'ظنت', 'بد', 'اوست', 'چه', 'دانی', 'که', 'صاحب', 'ولایت', 'خود', 'اوست'], ['در', 'معرفت', 'بر', 'کسانی', 'است', 'باز', 'که', 'درهاست', 'بر', 'روی', 'ایشان', 'فراز'], ['بسا', 'تلخ', 'عیشان', 'تلخی', 'چشان', 'که', 'آیند', 'در', 'حله', 'دامن', 'کشان'], ['ببوسی', 'گرت', 'عقل', 'و', 'تدبیر', 'هست', 'ملکزاده', 'را', 'در', 'نواخانه', 'دست'], ['که', 'روزی', 'برون', 'آید', 'از', 'شهربند', 'بلندیت', 'بخشد', 'چون', 'گردد', 'بلند'], ['مسوزان', 'درخت', 'گل', 'در', 'خریف', 'که', 'در', 'نوبهارت', 'نماید', 'ظریف'], ['یکی', 'زهره', 'خرج', 'کردن', 'نداشت', 'زرش', 'بود', 'و', 'یارای', 'خوردن', 'نداشت'], ['نه', 'خوردی', 'که', 'خاطر', 'بر', 'آسایدش', 'نه', 'دادی', 'که', 'فردا', 'بکار', 'آیدش'], ['شب', 'و', 'روز', 'در', 'بند', 'زر', 'بود', 'و', 'سیم', 'زر', 'و', 'سیم', 'در', 'بند', 'مرد', 'لئیم'], ['بدانست', 'روزی', 'پسر', 'در', 'کمین', 'که', 'ممسک', 'کجا', 'کرد', 'زر', 'در', 'زمین'], ['از', 'خاکش', 'بر', 'آورد', 'و', 'بر', 'باد', 'داد', 'شنیدم', 'که', 'سنگی', 'در', 'آن', 'جا', 'نهاد'], ['جوانمرد', 'را', 'زر', 'بقایی', 'نکرد', 'به', 'یک', 'دستش', 'آمد', 'به', 'دیگر', 'بخورد'], ['که', 'از', 'این', 'کم', 'زنی', 'بود', 'ناپاکرو', 'کلاهش', 'به', 'بازار', 'و', 'میزر', 'گرو'], ['نهاده', 'پدر', 'چنگ', 'در', 'نای', 'خویش', 'پسر', 'چنگی', 'و', 'نایی', 'آورده', 'پیش'], ['پدر', 'زار', 'و', 'گریان', 'همه', 'شب', 'نخفت', 'پسر', 'بامدادان', 'بخندید', 'و', 'گفت'], ['زر', 'از', 'بهر', 'خوردن', 'بود', 'ای', 'پدر', 'از', 'بهر', 'نهادن', 'چه', 'سنگ', 'و', 'چه', 'زر'], ['زر', 'از', 'سنگ', 'خارا', 'برون', 'آورند', 'که', 'با', 'دوستان', 'و', 'عزیزان', 'خورند'], ['زر', 'در', 'کف', 'مرد', 'دنیاپرست', 'هنوز', 'ای', 'برادر', 'به', 'سنگ', 'اندرست'], ['چون', 'در', 'زندگانی', 'بدی', 'با', 'عیال', 'گرت', 'مرگ', 'خواهند_از', 'ایشان', 'منال'], ['چون', 'خشم', 'آری', 'آن', 'گه', 'خورند', 'از', 'تو', 'سیر', 'که', 'از', 'بام', 'پنجه', 'گز', 'افتی', 'به', 'زیر'], ['بخیل', 'توانگر', 'به', 'دینار', 'و', 'سیم', 'طلسمی', 'است', 'بالای', 'گنجی', 'مقیم'], ['از', 'آن', 'سالها', 'می\\u200cبماند', 'زرش', 'که', 'لرزد', 'طلسمی', 'چنین', 'بر', 'سرش'], ['به', 'سنگ', 'اجل', 'ناگهش', 'بشکنند', 'به', 'اسودگی', 'گنج', 'قسمت', 'کنند'], ['پس', 'از', 'بردن', 'و', 'گرد', 'کردن', 'چون', 'مور', 'بخور', 'پیش', 'از', 'آن', 'که\\u200cت', 'خورد', 'کرم', 'گور'], ['سخنهای', 'سعدی', 'مثال', 'است', 'و', 'پند', 'به', 'کار', 'آیدت\\u200cگر', 'شوی', 'کار', 'بند'], ['دریغ', 'است', 'از', 'این', 'روی', 'برتافتن', 'که', 'از', 'این', 'روی', 'دولت', 'توان', 'یافتن'], ['جوانی', 'به', 'دانگی', 'کرم', 'کرده_بود', 'تمنای', 'پیری', 'بر', 'آورده_بود'], ['به', 'جرمی', 'گرفت', 'آسمان', 'ناگهش', 'فرستاد', 'سلطان', 'به', 'کشتنگهش'], ['تکاپوی', 'ترکان', 'و', 'غوغای', 'عام', 'تماشاکنان', 'بر', 'در', 'و', 'کوی', 'و', 'بام'], ['چون', 'دید', 'در', 'آشوب', 'درویش', 'پیر', 'جوان', 'را', 'به', 'دست', 'خلایق', 'اسیر'], ['دلش', 'بر', 'جوانمرد', 'مسکین', 'بخست', 'که', 'باری', 'دل', 'آورده', 'بودش', 'به', 'دست'], ['برآورد', 'زاری', 'که', 'سلطان', 'بمرد', 'جهان', 'ماند', 'و', 'خوی', 'پسندیده', 'برد'], ['به', 'هم', 'بر', 'همی\\u200cسود', 'دست', 'دریغ', 'شنیدند', 'ترکان', 'آهخته', 'تیغ'], ['به', 'فریاد', 'از', 'ایشان', 'بر', 'آمد', 'خروش', 'تپانچه', 'زنان', 'بر', 'سر', 'و', 'روی', 'و', 'دوش'], ['پیاده', 'به', 'سر', 'تا', 'در', 'بارگاه', 'دویدند', 'و', 'بر', 'تخت', 'دیدند', 'شاه'], ['جوان', 'از', 'میان', 'رفت', 'و', 'بردند', 'پیر', 'به', 'گردن', 'بر', 'تخت', 'سلطان', 'اسیر'], ['به', 'ولش', 'بپرسید', 'و', 'هیبت', 'نمود', 'که', 'مرگ', 'منت', 'خواستن', 'بر', 'چه', 'بود'], ['چون', 'نیک', 'است', 'خوی', 'من', 'و', 'راستی', 'بد', 'مردم', 'آخر', 'چرا', 'خواستی'], ['برآورد', 'پیر', 'دلاور', 'زبان', 'که\\u200cای', 'حلقه', 'در', 'گوش', 'حکمت', 'جهان'], ['به', 'قول', 'دروغی', 'که', 'سلطان', 'بمرد', 'نمردی', 'و', 'بیچاره\\u200cای', 'جان', 'ببرد'], ['ملک', 'زین', 'حکایت', 'چنان', 'بر', 'شکفت', 'که', 'چیزش', 'ببخشید', 'و', 'چیزی', 'نگفت'], ['وز', 'این', 'جانب', 'افتان', 'و', 'خیزان', 'جوان', 'همی', 'رفت', 'بیچاره', 'هر', 'سو', 'دوان'], ['یکی', 'گفتش', 'از', 'چار', 'سوی', 'قصاص', 'چه', 'کردی', 'که', 'آمد', 'به', 'جانت', 'خلاص'], ['به', 'گوشش', 'فرو', 'گفت', 'کای', 'هوشمند', 'به', 'جانی', 'و', 'دانگی', 'رهیدم', 'از', 'بند'], ['یکی', 'تخم', 'در', 'خاک', 'از', 'آن', 'می\\u200cنهد', 'که', 'روز', 'فرو', 'ماندگی', 'بر', 'دهد'], ['جوی', 'باز', 'دارد', 'بلایی', 'درشت', 'عصایی', 'شنیدی', 'که', 'عوجی', 'بکشت'], ['حدیث', 'درست', 'آخر', 'از', 'مصطفاست', 'که', 'بخشایش', 'و', 'خیر', 'دفع', 'بلاست'], ['عدو', 'را', 'نبینی', 'در', 'این', 'بقعه', 'پا', 'که', 'بوبکر', 'سعد', 'است', 'کشور', 'خدای'], ['بگیر', 'ای', 'جهانی', 'به', 'روی', 'تو', 'شاد', 'جهانی', 'که', 'شادی', 'به', 'روی', 'تو', 'باد'], ['کس', 'از', 'کس', 'به', 'دور', 'تو', 'باری', 'نبرد', 'گلی', 'در', 'چمن', 'جور', 'خاری', 'نبرد'], ['تویی', 'سایه', 'لطف', 'حق', 'بر', 'زمین', 'پیمبر', 'صفت', 'رحمة', '\\u200cالعالمین'], ['تو', 'را', 'قدر', 'اگر', 'کس', 'نداند', 'چه', 'غم', 'شب', 'قدر', 'را', 'می\\u200cندانند', 'هم'], ['کسی', 'دید', 'صحرای', 'محشر', 'به', 'خواب', 'مس', 'تفته', 'روی', 'زمین', 'از', 'آفتاب'], ['همی', 'بر', 'فلک', 'شد', 'از', 'مردم', 'خروش', 'دماغ', 'از', 'تبش', 'می\\u200cبرآمد', 'به', 'جوش'], ['یکی', 'شخص', 'از', 'این', 'جمله', 'در', 'سایه\\u200cای', 'به', 'گردن', 'بر', 'از', 'خلد', 'پیرایه\\u200cای'], ['بپرسید', 'کای', 'مجلس', 'آرای', 'مرد', 'که', 'بود', 'در', 'این', 'مجلست', 'پایمرد'], ['رزی', 'داشتم', 'بر', 'در', 'خانه', 'گفت', 'به', 'سایه', 'درش', 'نیکمردی', 'بخفت'], ['در', 'این', 'وقت', 'نومیدی', 'آن', 'مرد', 'راست', 'گناهم', 'از', 'دادار', 'داور', 'بخواست'], ['که', 'یارب', 'بر', 'این', 'بنده', 'بخشایشی', 'که', 'از', 'او', 'دیده\\u200cام', 'وقتی', 'آسایشی'], ['چه', 'گفتم', 'چون', 'حل', 'کردم', 'این', 'راز', 'را', 'بشارت', 'خداوند', 'شیراز', 'را'], ['که', 'جمهور', 'در', 'سایه', 'همتش', 'مقیمند', 'و', 'بر', 'سفره', 'نعمتش'], ['درختی', 'است', 'مرد', 'کرم', 'باردار', 'وز', 'او', 'بگذری', 'هیزم', 'کوهسار'], ['حطب', 'را', 'اگر', 'تیشه', 'بر', 'پی', 'زنند', 'درخت', 'برومند', 'را', 'کی', 'زنند'], ['بسی', 'پا', 'دار', 'ای', 'درخت', 'هنر', 'که', 'هم', 'میوه\\u200cداری', 'و', 'هم', 'سایه\\u200cور'], ['بگفتیم', 'در', 'باب', 'احسان', 'بسی', 'ولیکن', 'نه', 'شرط', 'است', 'با', 'هر', 'کسی'], ['بخور', 'مردم', 'آزار', 'را', 'خون', 'و', 'مال', 'که', 'از', 'مرغ', 'بد', 'کنده', 'به', 'پر', 'و', 'بال'], ['یکی', 'را', 'که', 'با', 'خواجه', 'توست', 'جنگ', 'به', 'دستش', 'چرا', 'می\\u200cدهی', 'چوب', 'و', 'سنگ'], ['بر', 'انداز', 'بیخی', 'که', 'خار', 'آورد', 'درختی', 'بپرور', 'که', 'بار', 'آورد'], ['کسی', 'را', 'بده', 'پایه', 'مهتران', 'که', 'بر', 'کهتران', 'سر', 'ندارد', 'گران'], ['مبخشای', 'بر', 'هر', 'کجا', 'ظالمی', 'است', 'که', 'رحمت', 'بر', 'او', 'جور', 'بر', 'عالمی', 'است'], ['جهان\\u200cسوز', 'را', 'کشته', 'بهتر', 'چراغ', 'یکی', 'به', 'در', 'آتش', 'که', 'خلقی', 'به', 'داغ'], ['هر', 'آن', 'کس', 'که', 'بر', 'دزد', 'رحمت', 'کند', 'به', 'بازوی', 'خود', 'کاروان', 'می\\u200cزند'], ['جفاپیشگان', 'را', 'بده', 'سر', 'بباد', 'ستم', 'بر', 'ستم', 'پیشه', 'عدل', 'است', 'و', 'داد'], ['شنیدم', 'که', 'مردی', 'غم', 'خانه', 'خورد', 'که', 'زنبور', 'بر', 'سقف', 'او', 'لانه', 'کرد'], ['زنش', 'گفت', 'از', 'اینان', 'چه', 'خواهی_مکن', 'که', 'مسکین', 'پریشان', 'شوند', 'از', 'وطن'], ['بشد', 'مرد', 'نادان', 'پس', 'کار', 'خویش', 'گرفتند', 'یک', 'روز', 'زن', 'را', 'به', 'نیش'], ['زن', 'بی', 'خرد', 'بر', 'در', 'و', 'بام', 'و', 'کوی', 'همی', 'کرد', 'فریاد', 'و', 'می\\u200cگفت', 'شوی'], ['مکن', 'روی', 'بر', 'مردم', 'ای', 'زن', 'ترش', 'تو', 'گفتی', 'که', 'زنبور', 'مسکین', 'مکش'], ['کسی', 'با', 'بدان', 'نیکویی', 'چون', 'کند', 'بدان', 'را', 'تحمل', 'بد', 'افزون', 'کند'], ['چون', 'در', 'سری', 'بینی', 'آزار', 'خلق', 'به', 'شمشیر', 'تیزش', 'بیازار', 'حلق'], ['سگ', 'آخر', 'که', 'باشد', 'که', 'خوانش', 'نهند', 'بفرمای', 'تا', 'استخوانش', 'دهند'], ['چه', 'نیکو', 'زده\\u200cست', 'این', 'مثل', 'پیر', 'ده', 'ستور', 'لگدزن', 'گران', 'بار', 'به'], ['اگر', 'نیکمردی', 'نماید', 'عسس', 'نیارد', 'به', 'شب', 'خفتن', 'از', 'دزد', 'کس'], ['نی', 'نیزه', 'در', 'حلقه', 'کارزار', 'بقیمت\\u200cتر', 'از', 'نیشکر', 'صد', 'هزار'], ['نه', 'هر', 'کس', 'سزاوار', 'باشد', 'به', 'مال', 'یکی', 'مال', 'خواهد_یکی', 'گوشمال'], ['چون', 'گربه', 'نوازی', 'کبوتر', 'برد', 'چون', 'فربه', 'کنی', 'گرگ', 'یوسف', 'درد'], ['بنایی', 'که', 'محکم', 'ندارد', 'اساس', 'بلندش', 'مکن', 'ور', 'کنی', 'زو', 'هراس'], ['چه', 'خوش', 'گفت', 'بهرام', 'صحرانشین', 'چون', 'یکران', 'توسن', 'زدش', 'بر', 'زمین'], ['دیگر', 'اسبی', 'از', 'گله', 'باید', 'گرفت', 'که\\u200cگر', 'سر', 'کشد', 'باز', 'شاید', 'گرفت'], ['ببند', 'ای', 'پسر', 'دجله', 'در', 'آب', 'کاست', 'که', 'سودی', 'ندارد', 'چون', 'سیلاب', 'خاست'], ['چون', 'گرگ', 'خبیث', 'آمدت', 'در', 'کمند', 'بکش', 'ور', 'نه', 'دل', 'بر', 'کن', 'از', 'گوسفند'], ['از', 'ابلیس', 'هرگز', 'نیاید', 'سجود', 'نه', 'از', 'بد', 'گهر', 'نیکویی', 'در', 'وجود'], ['بد', 'اندیش', 'را', 'جاه', 'و', 'فرصت', 'مده', 'عدو', 'در', 'چه', 'و', 'دیو', 'در', 'شیشه', 'به'], ['مگو', 'شاید', 'این', 'مار', 'کشتن', 'به', 'چوب', 'چون', 'سر', 'زیر', 'سنگ', 'تو', 'دارد', 'بکوب'], ['قلم', 'زن', 'که', 'بد', 'کرد', 'با', 'زیردست', 'قلم', 'بهتر', 'او', 'را', 'به', 'شمشیر', 'دست'], ['مدبر', 'که', 'قانون', 'بد', 'می\\u200cنهد', 'تو', 'را', 'می\\u200cبرد', 'تا', 'به', 'دوزخ', 'دهد'], ['مگو', 'ملک', 'را', 'این', 'مدبر', 'بس', 'است', 'مدبر', 'مخوانش', 'که', 'مدبر', 'کس', 'است'], ['سعید', 'آورد', 'قول', 'سعدی', 'به', 'جای', 'که', 'ترتیب', 'ملک', 'است', 'و', 'تدبیر', 'رای'], ['خوشا', 'وقت', 'شوریدگان', 'غمش', 'اگر', 'زخم', 'بینند', 'و', 'اگر', 'مرهمش'], ['گدایانی', 'از', 'پادشاهی', 'نفور', 'به', 'امیدش', 'در', 'گدایی', 'صبور'], ['دمادم', 'شراب', 'الم', 'در', 'کشند', 'وگر', 'تلخ', 'بینند', 'دم', 'در', 'کشند'], ['بلای', 'خمار', 'است', 'در', 'عیش', 'مل', 'سلحدار', 'خار', 'است', 'با', 'شاه', 'گل'], ['نه', 'تلخ', 'است', 'صبری', 'که', 'بر', 'یاد', 'اوست', 'که', 'تلخی', 'شکر', 'باشد', 'از', 'دست', 'دوست'], ['ملامت', 'کشانند', 'مستان', 'یار', 'سبک\\u200cتر', 'برد', 'اشتر', 'مست', 'بار'], ['اسیرش', 'نخواهد_رهایی', 'از', 'بند', 'شکارش', 'نجوید', 'خلاص', 'از', 'کمند'], ['سلاطین', 'عزلت', 'گدایان', 'حی', 'منازل', 'شناسان', 'گم', 'کرده', 'پی'], ['به', 'سر', 'وقتشان', 'خلق', 'راه', 'کی', 'برند', 'که', 'چون', 'آب', 'حیوان', 'به', 'ظلمت', 'درند'], ['چون', 'بیت\\u200cالمقدس', 'درون', 'پر', 'قباب', 'رها', 'کرده', 'دیوار', 'بیرون', 'خراب'], ['چون', 'پروانه', 'آتش', 'به', 'خود', 'در', 'زنند', 'نه', 'چون', 'کرم', 'پیله', 'به', 'خود', 'برتنند'], ['دلارام', 'در', 'بر', 'دلارام', 'جوی', 'لب', 'از', 'تشنگی', 'خشک', 'بر', 'طرف', 'جوی'], ['نگویم', 'که', 'بر', 'آب', 'قادر', 'نیند', 'که', 'بر', 'شاطی', 'نیل', 'مستسقیند'], ['تو', 'را', 'عشق', 'همچون', 'خودی', 'از', 'آب', 'و', 'گل', 'رباید', 'همی', 'صبر', 'و', 'آرام', 'دل'], ['به', 'بیداریش', 'فتنه', 'بر', 'خد', 'و', 'خال', 'به', 'خواب', 'اندرش', 'پا', 'بند', 'خیال'], ['به', 'صدقش', 'چنان', 'سر', 'نهی', 'در', 'قدم', 'که', 'بینی', 'جهان', 'با', 'وجودش', 'عدم'], ['چون', 'در', 'چشم', 'شاهد', 'نیاید', 'زرت', 'زر', 'و', 'خاک', 'یکسان', 'نماید', 'برت'], ['دیگر', 'با', 'کست', 'بر', 'نیاید', 'نفس', 'که', 'با', 'او', 'نماند', 'دیگر', 'جای', 'کس'], ['تو', 'گویی', 'به', 'چشم', 'اندرش', 'منزل', 'است', 'وگر', 'دیده', 'بر', 'هم', 'نهی', 'در', 'دل', 'است'], ['نه', 'اندیشه', 'از', 'کس', 'که', 'رسوا', 'شوی', 'نه', 'قوت', 'که', 'یک', 'دم', 'شکیبا', 'شوی'], ['گرت', 'جان', 'بخواهد', 'به', 'لب', 'بر', 'نهی', 'ورت', 'تیغ', 'بر', 'سر', 'نهد', 'سر', 'نهی'], ['چون', 'عشقی', 'که', 'بنیاد', 'آن', 'بر', 'هواست', 'چنین', 'فتنه\\u200cانگیز', 'و', 'فرمانرواست'], ['عجب', 'داری', 'از', 'سالکان', 'طریق', 'که', 'باشند', 'در', 'بحر', 'معنی', 'غریق'], ['به', 'سودای', 'جانان', 'به', 'جان', 'مشتغل', 'به', 'ذکر', 'حبیب', 'از', 'جهان', 'مشتغل'], ['به', 'یاد', 'حق', 'از', 'خلق', 'بگریخته', 'چنان', 'مست', 'ساقی', 'که', 'می\\u200cریخته'], ['نشاید', 'به', 'دارو', 'دوا', 'کردشان', 'که', 'کس', 'مطلع', 'نیست', 'بر', 'دردشان'], ['الست', 'از', 'ازل', 'همچنانشان', 'به', 'گوش', 'به', 'فریاد', 'قالوا', 'بلی', 'در', 'خروش'], ['گروهی', 'عمل', 'دار', 'عزلت', 'نشین', 'قدمهای', 'خاکی', 'دم', 'آتشین'], ['به', 'یک', 'نعره', 'کوهی', 'از', 'جا', 'بر', 'کنند', 'به', 'یک', 'ناله', 'شهری', 'به', 'هم', 'بر', 'زنند'], ['چون', 'بادند', 'پنهان', 'و', 'چالاک', 'پوی', 'چون', 'سنگند', 'خاموش', 'و', 'تسبیح', 'گوی'], ['سحرها', 'بگریند', 'چندان', 'که', 'آب', 'فرو', 'شوید', 'از', 'دیده\\u200cشان', 'کحل', 'خواب'], ['فرس', 'کشته', 'از', 'بس', 'که', 'شب', 'رانده\\u200cاند', 'سحرگه', 'خروشان', 'که', 'وامانده\\u200cاند'], ['شب', 'و', 'روز', 'در', 'بحر', 'سودا', 'و', 'سوز', 'ندانند', 'از', 'آشفتگی', 'شب', 'از', 'روز'], ['چنان', 'فتنه', 'بر', 'حسن', 'صورت\\u200cنگار', 'که', 'با', 'حسن', 'صورت', 'ندارند', 'کار'], ['ندادند', 'صاحبدلان', 'دل', 'به', 'پوست', 'وگر', 'ابلهی', 'داد', 'بی\\u200cمغز', 'اوست'], ['می\\u200cصرف', 'وحدت', 'کسی', 'نوش', 'کرد', 'که', 'دنیا', 'و', 'عقبی', 'فراموش', 'کرد'], ['شنیدم', 'که', 'وقتی', 'گدازاده\\u200cای', 'نظر', 'داشت', 'با', 'پادشازاده\\u200cای'], ['همی\\u200cرفت', 'و', 'می\\u200cپخت', 'سودای', 'خام', 'خیالش', 'فرو', 'برده', 'دندان', 'به', 'کام'], ['از', 'میدانش', 'خالی', 'نبودی', 'چون', 'میل', 'همه', 'وقت', 'پهلوی', 'اسبش', 'چون', 'پیل'], ['دلش', 'خون', 'شد', 'و', 'راز', 'در', 'دل', 'بماند', 'ولی', 'پایش', 'از', 'گریه', 'در', 'گل', 'بماند'], ['رقیبان', 'خبر', 'یافتندش', 'از', 'درد', 'دگرباره', 'گفتندش', 'اینجا', 'مگرد'], ['دمی', 'رفت', 'و', 'یاد', 'آمدش', 'روی', 'دوست', 'دیگر', 'خیمه', 'زد', 'بر', 'سر', 'کوی', 'دوست'], ['غلامی', 'شکستش', 'سر', 'و', 'دست', 'و', 'پا', 'که', 'باری', 'نگفتیمت', 'ایدر', 'مپای'], ['دیگر', 'رفت', 'و', 'صبر', 'و', 'قرارش', 'نبود', 'شکیبایی', 'از', 'روی', 'یارش', 'نبود'], ['مگس', 'وارش', 'از', 'پیش', 'شکر', 'به', 'جور', 'براندندی', 'و', 'بازگشتی', 'بفور'], ['کسی', 'گفتش', 'ای', 'شوخ', 'دیوانه', 'رنگ', 'عجب', 'صبر', 'داری', 'تو', 'بر', 'چوب', 'و', 'سنگ'], ['بگفت', 'این', 'جفا', 'بر', 'من', 'از', 'دست', 'اوست', 'نه', 'شرطیست', 'نالیدن', 'از', 'دست', 'دوست'], ['من', 'اینک', 'دم', 'دوستی', 'می\\u200cزنم', 'اگر', 'او', 'دوست', 'دارد', 'وگر', 'دشمنم'], ['از', 'من', 'صبر', 'بی', 'او', 'توقع', 'مدار', 'که', 'با', 'او', 'هم', 'امکان', 'ندارد', 'قرار'], ['نه', 'نیروی', 'صبرم', 'نه', 'جای', 'ستیز', 'نه', 'امکان', 'بودن', 'نه', 'پا', 'گریز'], ['مگو', 'زین', 'در', 'بارگه', 'سر', 'بتاب', 'وگر', 'سر', 'چون', 'میخم', 'نهد', 'در', 'طناب'], ['نه', 'پروانه', 'جان', 'داده', 'در', 'پا', 'دوست', 'به', 'از', 'زنده', 'در', 'کنج', 'تاریک', 'اوست'], ['بگفت', 'اگر', 'خوری', 'زخم', 'چوگان', 'اوی', 'بگفتا', 'به', 'پایش', 'در', 'افتم', 'چون', 'گوی'], ['بگفتا', 'سرت\\u200cگر', 'ببرد', 'به', 'تیغ', 'بگفت', 'این', 'قدر', 'نبود', 'از', 'او', 'دریغ'], ['من', 'را', 'خود', 'از', 'سر', 'نیست', 'چندان', 'خبر', 'که', 'تاج', 'است', 'بر', 'تارکم', 'یا', 'تبر'], ['مکن', 'با', 'من', 'ناشکیبا', 'عتیب', 'که', 'در', 'عشق', 'صورت', 'نبندد', 'شکیب'], ['چون', 'یعقوبم', 'اگر', 'دیده', 'گردد', 'سپید', 'نبرم', 'از', 'دیدار', 'یوسف', 'امید'], ['یکی', 'را', 'که', 'سر', 'خوش', 'بود', 'با', 'یکی', 'نیازارد', 'از', 'او', 'به', 'هر', 'اندکی'], ['رکابش', 'ببوسید', 'روزی', 'جوان', 'برآشفت', 'و', 'برتافت', 'از', 'او', 'عنان'], ['بخندید', 'و', 'گفتا', 'عنان', 'برمپیچ', 'که', 'سلطان', 'عنان', 'برنپیچد', 'از', 'هیچ'], ['من', 'را', 'با', 'وجود', 'تو', 'هستی', 'نماند', 'به', 'یاد', 'توام', 'خودپرستی', 'نماند'], ['گرم', 'جرم', 'بینی', 'مکن', 'عیب', 'من', 'تویی', 'سر', 'بر', 'آورده', 'از', 'جیب', 'من'], ['بدان', 'زهره', 'دستت', 'زدم', 'در', 'رکاب', 'که', 'خود', 'را', 'نیاوردم', 'در', 'حساب'], ['کشیدم', 'قلم', 'در', 'سر', 'نام', 'خویش', 'نهادم', 'قدم', 'بر', 'سر', 'کام', 'خویش'], ['من', 'را', 'خود', 'کشد', 'تیر', 'آن', 'چشم', 'مست', 'چه', 'حاجت', 'که', 'آری', 'به', 'شمشیر', 'دست'], ['تو', 'آتش', 'به', 'نی', 'در', 'زن', 'و', 'در', 'گذر', 'که', 'نه', 'خشک', 'در', 'بیشه', 'ماند', 'نه\\u200cتر'], ['شنیدم', 'که', 'بر', 'لحن', 'خنیاگری', 'به', 'رقص', 'در', 'آمد', 'پری', 'پیکری'], ['از', 'دلهای', 'شوریده', 'پیرامنش', 'گرفت', 'آتش', 'شمع', 'در', 'دامنش'], ['پراکنده', 'خاطر', 'شد', 'و', 'خشمناک', 'یکی', 'گفتش', 'از', 'دوستداران', 'چه', 'باک'], ['تو', 'را', 'آتش', 'ای', 'دوست', 'دامن', 'بسوخت', 'من', 'را', 'خود', 'به', 'یک', 'بار', 'خرمن', 'بسوخت'], ['اگر', 'یاری', 'از', 'خویشتن', 'دم', 'مزن', 'که', 'شرک', 'است', 'با', 'یار', 'و', 'با', 'خویشتن'], ['چنین', 'دارم', 'از', 'پیر', 'داننده', 'یاد', 'که', 'شوریده\\u200cای', 'سر', 'به', 'صحرا', 'نهاد'], ['پدر', 'در', 'فراقش', 'نخورد', 'و', 'نخفت', 'پسر', 'را', 'ملامت', 'بکردند', 'و', 'گفت'], ['از', 'انگه', 'که', 'یارم', 'کس', 'خویش', 'خواند', 'دیگر', 'با', 'کسم', 'آشنایی', 'نماند'], ['به', 'حقش', 'که', 'تا', 'حق', 'جمالم', 'نمود', 'دیگر', 'هر', 'چه', 'دیدم', 'خیالم', 'نمود'], ['نشد', 'گم', 'که', 'روی', 'از', 'خلایق', 'بتافت', 'که', 'گم', 'کرده', 'خویش', 'را', 'باز', 'یافت'], ['پراکندگانند', 'زیر', 'فلک', 'که', 'هم', 'دد', 'توان', 'خواندشان', 'هم', 'ملک'], ['از', 'یاد', 'ملک', 'چون', 'ملک', 'نارمند', 'شب', 'و', 'روز', 'چون', 'دد', 'از', 'مردم', 'رمند'], ['قوی', 'بازوانند', 'کوتاه', 'دست', 'خردمند', 'شیدا', 'و', 'هشیار', 'مست'], ['گه', 'آسوده', 'در', 'گوشه\\u200cای', 'خرقه', 'دوز', 'گه', 'آشفته', 'در', 'مجلسی', 'خرقه', 'سوز'], ['نه', 'سودای', 'خودشان', 'نه', 'پروای', 'کس', 'نه', 'در', 'کنج', 'توحیدشان', 'جای', 'کس'], ['پریشیده', 'عقل', 'و', 'پراکنده', 'هوش', 'از', 'قول', 'نصیحتگر', 'آکنده', 'گوش'], ['به', 'دریا', 'نخواهد_شدن', 'بط', 'غریق', 'سمندر', 'چه', 'داند', 'عذاب', 'حریق'], ['تهیدست', 'مردان', 'پر', 'حوصله', 'بیابان', 'نوردان', 'پی', 'قافله'], ['عزیزان', 'پوشیده', 'از', 'چشم', 'خلق', 'نه', 'زنار', 'داران', 'پوشیده', 'دلق'], ['ندارند', 'چشم', 'از', 'خلایق', 'پسند', 'که', 'ایشان', 'پسندیده', 'حق', 'بسند'], ['پر', 'از', 'میوه', 'و', 'سایه\\u200cور', 'چون', 'رزند', 'نه', 'چون', 'ما', 'سیه\\u200cکار', 'و', 'ازرق', 'رزند'], ['به', 'خود', 'سر', 'فرو', 'برده', 'همچون', 'صدف', 'نه', 'مانند', 'دریا', 'بر', 'آورده', 'کف'], ['نه', 'مردم', 'همین', 'استخوانند', 'و', 'پوست', 'نه', 'هر', 'صورتی', 'جان', 'معنی', 'در', 'اوست'], ['نه', 'سلطان', 'خریدار', 'هر', 'بنده\\u200cای', 'است', 'نه', 'در', 'زیر', 'هر', 'ژنده\\u200cای', 'زنده\\u200cای', 'است'], ['اگر', 'ژاله', 'هر', 'قطره\\u200cای', 'در', 'شدی', 'چون', 'خرمهره', 'بازار', 'از', 'او', 'پر', 'شدی'], ['چون', 'غازی', 'به', 'خود', 'بر', 'نبندند', 'پا', 'که', 'محکم', 'رود', 'پا', 'چوبین', 'از', 'جای'], ['حریفان', 'خلوت', 'سرای', 'الست', 'به', 'یک', 'جرعه', 'تا', 'نفخه', 'صور', 'مست'], ['به', 'تیغ', 'از', 'غرض', 'بر', 'نگیرند', 'چنگ', 'که', 'پرهیز', 'و', 'عشق', 'آبگینه\\u200cست', 'و', 'سنگ'], ['یکی', 'شاهدی', 'در', 'سمرقند', 'داشت', 'که', 'گفتی', 'به', 'جای', 'سمر', 'قند', 'داشت'], ['جمالی', 'گرو', 'برده', 'از', 'آفتاب', 'از', 'شوخیش', 'بنیاد', 'تقوی', 'خراب'], ['تعالی', 'الله', 'از', 'حسن', 'تا', 'غایتی', 'که', 'پنداری', 'از', 'رحمت', 'است', 'آیتی'], ['همی', 'رفتی', 'و', 'دیده\\u200cها', 'در', 'پیش', 'دل', 'دوستان', 'کرده', 'جان', 'برخیش'], ['نظر', 'کردی', 'این', 'دوست', 'در', 'او', 'نهفت', 'نگه', 'کرد', 'باری', 'به', 'تندی', 'و', 'گفت'], ['که\\u200cای', 'خیره', 'سر', 'چند', 'پویی', 'پیم', 'ندانی', 'که', 'من', 'مرغ', 'دامت', 'نیم'], ['گرت', 'بار', 'دیگر', 'ببینم', 'به', 'تیغ', 'چون', 'دشمن', 'ببرم', 'سرت', 'بی', 'دریغ'], ['کسی', 'گفتش', 'اکنون', 'سر', 'خویش', 'گیر', 'از', 'این', 'سهل\\u200cتر', 'مطلبی', 'پیش', 'گیر'], ['نپندارم', 'این', 'کام', 'حاصل', 'کنی', 'مبادا', 'که', 'جان', 'در', 'سر', 'دل', 'کنی'], ['چون', 'مفتون', 'صادق', 'ملامت', 'شنید', 'بدرد', 'از', 'درون', 'ناله\\u200cای', 'برکشید'], ['که', 'بگذار', 'تا', 'زخم', 'تیغ', 'هلاک', 'بغلطاندم', 'لاشه', 'در', 'خون', 'و', 'خاک'], ['مگر', 'پیش', 'دشمن', 'بگویند', 'و', 'دوست', 'که', 'این', 'کشته', 'دست', 'و', 'شمشیر', 'اوست'], ['نمی\\u200cبینم', 'از', 'خاک', 'کویش', 'گریز', 'به', 'بیداد', 'گو', 'آبرویم', 'بریز'], ['من', 'را', 'توبه', 'فرمایی', 'ای', 'خودپرست', 'تو', 'را', 'توبه', 'زین', 'گفت', 'اولی', 'ترست'], ['ببخشای', 'بر', 'من', 'که', 'هرچ', 'او', 'کند', 'وگر', 'قصد', 'خون', 'است', 'نیکو', 'کند'], ['بسوزاندم', 'هر', 'شبی', 'آتشش', 'سحر', 'زنده', 'گردم', 'به', 'بوی', 'خوشش'], ['اگر', 'میرم', 'امروز', 'در', 'کوی', 'دوست', 'قیامت', 'زنم', 'خیمه', 'پهلوی', 'دوست'], ['مده', 'تا', 'توانی', 'در', 'این', 'جنگ', 'پشت', 'که', 'زنده\\u200cست', 'سعدی', 'که', 'عشقش', 'بکشت'], ['یکی', 'تشنه', 'می\\u200cگفت', 'و', 'جان', 'می\\u200cسپرد', 'خنک', 'نیکبختی', 'که', 'در', 'آب', 'مرد'], ['بدو', 'گفت', 'نابالغی', 'کای', 'عجب', 'چون', 'مردی', 'چه', 'سیراب', 'و', 'چه', 'خشک', 'لب'], ['بگفتا', 'نه', 'آخر', 'دهان\\u200cتر', 'کنم', 'که', 'تا', 'جان', 'شیرینش', 'در', 'سر', 'کنم'], ['فتد', 'تشنه', 'در', 'آبدان', 'عمیق', 'که', 'داند', 'که', 'سیراب', 'میرد', 'غریق'], ['اگر', 'عاشقی', 'دامن', 'او', 'بگیر', 'وگر', 'گویدت', 'جان', 'بده', 'گو', 'بگیر'], ['بهشت', 'تن', 'آسانی', 'آنگه', 'خوری', 'که', 'بر', 'دوزخ', 'نیستی', 'بگذری'], ['دل', 'تخم', 'کاران', 'بود', 'رنج', 'کش', 'چون', 'خرمن', 'برآید', 'بخسبند', 'خوش'], ['در', 'این', 'مجلس', 'آن', 'کس', 'به', 'کامی', 'رسید', 'که', 'در', 'دور', 'آخر', 'به', 'جامی', 'رسید'], ['چنین', 'نقل', 'دارم', 'از', 'مردان', 'راه', 'فقیران', 'منعم', 'گدایان', 'شاه'], ['که', 'پیری', 'به', 'در', 'یوزه', 'شد', 'بامداد', 'در', 'مسجدی', 'دید', 'و', 'آواز', 'داد'], ['یکی', 'گفتش', 'این', 'خانه', 'خلق', 'نیست', 'که', 'چیزی', 'دهندت', 'بشوخی', 'مایست'], ['بدو', 'گفت', 'کاین', 'خانه', 'کیست', 'پس', 'که', 'بخشایشش', 'نیست', 'بر', 'حال', 'کس'], ['بگفتا', 'خموش', 'این', 'چه', 'لفظ', 'خطاست', 'خداوند', 'خانه', 'خداوند', 'ماست'], ['نگه', 'کرد', 'و', 'قندیل', 'و', 'محراب', 'دید', 'به', 'سوز', 'از', 'جگر', 'نعره\\u200cای', 'بر', 'کشید'], ['که', 'حیف', 'است', 'از', 'این', 'جا', 'فراتر', 'شدن', 'دریغ', 'است', 'محروم', 'از', 'این', 'در', 'شدن'], ['نرفتم', 'به', 'محرومی', 'از', 'هیچ', 'کوی', 'چرا', 'از', 'در', 'حق', 'شوم', 'زردروی'], ['هم', 'این', 'جا', 'کنم', 'دست', 'خواهش', 'دراز', 'که', 'دانم', 'نگردم', 'تهیدست', 'باز'], ['شنیدم', 'که', 'سالی', 'مجاور', 'نشست', 'چون', 'فریاد', 'خواهان', 'برآورده', 'دست'], ['شبی', 'پا', 'عمرش', 'فرو', 'شد', 'به', 'گل', 'تپیدن', 'گرفت', 'از', 'ضعیفیش', 'دل'], ['سحر', 'برد', 'شخصی', 'چراغش', 'به', 'سر', 'رمق', 'دید', 'از', 'او', 'چون', 'چراغ', 'سحر'], ['همی\\u200cگفت', 'غلغل', 'کنان', 'از', 'فرح', 'و', 'من', 'دق', 'باب', 'الکریم', 'انفتح'], ['طلبکار', 'باید', 'صبور', 'و', 'حمول', 'که', 'نشنیده\\u200cام', 'کیمیاگر', 'ملول'], ['چه', 'زرها', 'به', 'خاک', 'سیه', 'در', 'کنند', 'که', 'باشد', 'که', 'روزی', 'مسی', 'زر', 'کنند'], ['زر', 'از', 'بهر', 'چیزی', 'خریدن', 'نکوست', 'نخواهی_خریدن', 'به', 'از', 'یاد', 'دوست'], ['اگر', 'از', 'دلبری', 'دل', 'به', 'تنگ', 'آیدت', 'دیگر', 'غمگساری', 'به', 'چنگ', 'آیدت'], ['مبر', 'تلخ', 'عیشی', 'از', 'روی', 'ترش', 'به', 'آب', 'دیگر', 'آتشش', 'باز', 'کش'], ['ولی\\u200cگر', 'به', 'خوبی', 'ندارد', 'نظیر', 'به', 'اندک', 'دل', 'آزار', 'ترکش', 'مگیر'], ['توان', 'از', 'کسی', 'دل', 'بپرداختن', 'که', 'دانی', 'که', 'بی', 'او', 'توان', 'ساختن'], ['شنیدم', 'که', 'پیری', 'شبی', 'زنده', 'داشت', 'سحر', 'دست', 'حاجت', 'به', 'حق', 'بر', 'فراشت'], ['یکی', 'هاتف', 'انداخت', 'در', 'گوش', 'پیر', 'که', 'بی', 'حاصلی', 'رو', 'سر', 'خویش', 'گیر'], ['بر', 'این', 'در', 'دعای', 'تو', 'مقبول', 'نیست', 'به', 'خواری', 'برو', 'یا', 'به', 'زاری', 'بایست'], ['شب', 'دیگر', 'از', 'ذکر', 'و', 'طاعت', 'نخفت', 'مریدی', 'از', 'حالش', 'خبر', 'یافت', 'گفت'], ['چون', 'دیدی', 'که', 'از', 'آن', 'روی', 'بسته\\u200cست', 'در', 'به', 'بی', 'حاصلی', 'سعی', 'چندین', 'مبر'], ['به', 'دیباچه', 'بر', 'اشک', 'یاقوت', 'فام', 'به', 'حسرت', 'ببارید', 'و', 'گفت', 'ای', 'غلام'], ['به', 'نومیدی', 'آنگه', 'بگردیدمی', 'از', 'این', 'راه', 'که', 'راهی', 'دیگر', 'دیدمی'], ['مپندار\\u200cگر', 'او', 'عنان', 'بر', 'شکست', 'که', 'من', 'باز', 'دارم', 'از', 'فتراک', 'دست'], ['چون', 'خواهنده', 'محروم', 'گشت', 'از', 'دری', 'چه', 'غم\\u200cگر', 'شناسد', 'در', 'دیگری'], ['شنیدم', 'که', 'راهم', 'در', 'این', 'کوی', 'نیست', 'ولی', 'هیچ', 'راه', 'دیگر', 'روی', 'نیست'], ['در', 'این', 'بود', 'سر', 'بر', 'زمین', 'فدا', 'که', 'گفتند', 'در', 'گوش', 'جانش', 'ندا'], ['قبول', 'است', 'اگر', 'چه', 'هنر', 'نیستش', 'که', 'جز', 'ما', 'پناهی', 'دیگر', 'نیستش'], ['یکی', 'در', 'نشابور', 'دانی', 'چه', 'گفت', 'چون', 'فرزندش', 'از', 'فرض', 'خفتن', 'بخفت'], ['توقع', 'مدار', 'ای', 'پسر\\u200cگر', 'کسی', 'که', 'بی', 'سعی', 'هرگز', 'به', 'جایی', 'رسی'], ['سمیلان', 'چون', 'می\\u200cبر', 'نگیرد', 'قدم', 'وجودی', 'است', 'بی', 'منفعت', 'چون', 'عدم'], ['طمع', 'دار', 'سود', 'و', 'بترس', 'از', 'زیان', 'که', 'بی', 'بهره', 'باشند', 'فارغ', 'زیان'], ['شکایت', 'کند', 'نوعروسی', 'جوان', 'به', 'پیری', 'از', 'داماد', 'نامهربان'], ['که', 'مپسند', 'چندین', 'که', 'با', 'این', 'پسر', 'به', 'تلخی', 'رود', 'روزگارم', 'به', 'سر'], ['کسانی', 'که', 'با', 'ما', 'در', 'این', 'منزلند', 'نبینم', 'که', 'چون', 'من', 'پریشان', 'دلند'], ['زن', 'و', 'مرد', 'با', 'هم', 'چنان', 'دوستند', 'که', 'گویی', 'دو', 'مغز', 'و', 'یکی', 'پوستند'], ['ندیدم', 'در', 'این', 'مدت', 'از', 'شوی', 'من', 'که', 'باری', 'بخندید', 'در', 'روی', 'من'], ['شنید', 'این', 'سخن', 'پیر', 'فرخنده', 'فال', 'سخندان', 'بود', 'مرد', 'دیرینه', 'سال'], ['یکی', 'پاسخش', 'داد', 'شیرین', 'و', 'خوش', 'که\\u200cگر', 'خوبروی', 'است', 'بارش', 'بکش'], ['دریغ', 'است', 'روی', 'از', 'کسی', 'تافتن', 'که', 'دیگر', 'نشاید', 'چنو', 'یافتن'], ['چرا', 'سر', 'کشی', 'زان', 'که\\u200cگر', 'سر', 'کشد', 'به', 'حرف', 'وجودت', 'قلم', 'در', 'کشد'], ['یکم', 'روز', 'بر', 'بنده\\u200cای', 'دل', 'بسوخت', 'که', 'می\\u200cگفت', 'و', 'فرماندهش', 'می\\u200cفروخت'], ['تو', 'را', 'بنده', 'از', 'من', 'به', 'افتد', 'بسی', 'من', 'را', 'چون', 'تو', 'دیگر', 'نیفتد', 'کسی'], ['طبیبی', 'پری', 'چهره', 'در', 'مرو', 'بود', 'که', 'در', 'باغ', 'دل', 'قامتش', 'سرو', 'بود'], ['نه', 'از', 'درد', 'دلهای', 'ریشش', 'خبر', 'نه', 'از', 'چشم', 'بیمار', 'خویشش', 'خبر'], ['حکایت', 'کند', 'دردمندی', 'غریب', 'که', 'خوش', 'بود', 'چندی', 'سرم', 'با', 'طبیب'], ['نمی\\u200cخواستم', 'تندرستی', 'خویش', 'که', 'دیگر', 'نیاید', 'طبیبم', 'به', 'پیش'], ['بسا', 'عقل', 'زورآور', 'چیردست', 'که', 'سودای', 'عشقش', 'کند', 'زیردست'], ['چون', 'سودا', 'خرد', 'را', 'بمالید', 'گوش', 'نیارد', 'دیگر', 'سر', 'برآورد', 'هوش'], ['یکی', 'پنجه', 'آهنین', 'راست', 'کرد', 'که', 'با', 'شیر', 'زورآوری', 'خواست', 'کرد'], ['چون', 'شیرش', 'به', 'سرپنجه', 'در', 'خود', 'کشید', 'دیگر', 'زور', 'در', 'پنجه', 'در', 'خود', 'ندید'], ['یکی', 'گفتش', 'آخر', 'چه', 'خسبی', 'چون', 'زن', 'به', 'سرپنجه', 'آهنینش', 'بزن'], ['شنیدم', 'که', 'مسکین', 'در', 'آن', 'زیر', 'گفت', 'نشاید', 'بدین', 'پنجه', 'با', 'شیر', 'گفت'], ['چون', 'بر', 'عقل', 'دانا', 'شود', 'عشق', 'چیر', 'همان', 'پنجه', 'آهنین', 'است', 'و', 'شیر'], ['تو', 'در', 'پنجه', 'شیر', 'مرد', 'اوژنی', 'چه', 'سودت', 'کند', 'پنجه', 'آهنی'], ['چون', 'عشق', 'آمد', 'از', 'عقل', 'دیگر', 'مگوی', 'که', 'در', 'دست', 'چوگان', 'اسیر', 'است', 'گوی'], ['میان', 'دو', 'عم', 'زاده', 'وصلت', 'فتاد', 'دو', 'خورشید', 'سیمای', 'مهتر', 'نژاد'], ['یکی', 'را', 'به', 'غایت', 'خوش', 'افتاده_بود', 'دیگر', 'نافر', 'و', 'سرکش', 'افتاده_بود'], ['یکی', 'خلق', 'و', 'لطف', 'پریوار', 'داشت', 'یکی', 'روی', 'در', 'روی', 'دیوار', 'داشت'], ['یکی', 'خویشتن', 'را', 'بیاراستی', 'دیگر', 'مرگ', 'خویش', 'از', 'خدا', 'خواستی'], ['پسر', 'را', 'نشاندند', 'پیران', 'ده', 'که', 'مهرت', 'بر', 'او', 'نیست', 'مهرش', 'بده'], ['بخندید', 'و', 'گفتا', 'به', 'صد', 'گوسفند', 'تغابن', 'نباشد', 'رهایی', 'از', 'بند'], ['به', 'ناخن', 'پری', 'چهره', 'می\\u200cکند', 'پوست', 'که', 'هرگز', 'بدین', 'کی', 'شکیبم', 'از', 'دوست'], ['نه', 'صد', 'گوسفندم', 'که', 'سیصد', 'هزار', 'نباید', 'به', 'نادیدن', 'روی', 'یار'], ['تو', 'را', 'هر', 'چه', 'مشغول', 'دارد', 'از', 'دوست', 'اگر', 'راست', 'خواهی_دلارامت', 'اوست'], ['یکی', 'پیش', 'شوریده', 'حالی', 'نبشت', 'که', 'دوزخ', 'تمنا', 'کنی', 'یا', 'بهشت'], ['بگفتا', 'مپرس', 'از', 'من', 'این', 'ماجرا', 'پسندیدم', 'آنچ', 'او', 'پسندد', 'من', 'را'], ['به', 'مجنون', 'کسی', 'گفت', 'کای', 'نیک', 'پی', 'چه', 'بودت', 'که', 'دیگر', 'نیایی', 'به', 'حی'], ['مگر', 'در', 'سرت', 'شور', 'لیلی', 'نماند', 'خیالت', 'دیگر', 'گشت', 'و', 'میلی', 'نماند'], ['چون', 'بشنید', 'بیچاره', 'بگریست', 'زار', 'که\\u200cای', 'خواجه', 'دستم', 'از', 'دامن', 'بدار'], ['من', 'را', 'خود', 'دلی', 'دردمند', 'است', 'ریش', 'تو', 'نیزم', 'نمک', 'بر', 'جراحت', 'مریش'], ['نه', 'دوری', 'دلیل', 'صبوری', 'بود', 'که', 'بسیار', 'دوری', 'ضروری', 'بود'], ['بگفت', 'ای', 'وفادار', 'فرخنده', 'خوی', 'پیامی', 'که', 'داری', 'به', 'لیلی', 'بگوی'], ['بگفتا', 'مبر', 'نام', 'من', 'پیش', 'دوست', 'که', 'حیف', 'است', 'نام', 'من', 'آنجا', 'که', 'اوست'], ['یکی', 'خرده', 'بر', 'شاه', 'غزنین', 'گرفت', 'که', 'حسنی', 'ندارد', 'ایاز', 'ای', 'شگفت'], ['گلی', 'را', 'که', 'نه', 'رنگ', 'باشد', 'نه', 'بوی', 'غریب', 'است', 'سودای', 'بلبل', 'بر', 'اوی'], ['به', 'محمود', 'گفت', 'این', 'حکایت', 'کسی', 'بپیچید', 'از', 'اندیشه', 'بر', 'خود', 'بسی'], ['که', 'عشق', 'من', 'ای', 'خواجه', 'بر', 'خوی', 'اوست', 'نه', 'بر', 'قد', 'و', 'بالای', 'نیکوی', 'اوست'], ['شنیدم', 'که', 'در', 'تنگنایی', 'شتر', 'بیفتاد', 'و', 'بشکست', 'صندوق', 'در'], ['به', 'یغما', 'ملک', 'آستین', 'برفشاند', 'وز', 'آنجا', 'به', 'تعجیل', 'مرکب', 'براند'], ['سواران', 'پی', 'در', 'و', 'مرجان', 'شدند', 'از', 'سلطان', 'به', 'یغما', 'پریشان', 'شدند'], ['نماند', 'از', 'وشاقان', 'گردن', 'فراز', 'کسی', 'در', 'قفای', 'ملک', 'جز', 'ایاز'], ['نگه', 'کرد', 'کای', 'دلبر', 'پیچ', 'پیچ', 'از', 'یغما', 'چه', 'آورده\\u200cای', 'گفت', 'هیچ'], ['من', 'در', 'قفای', 'تو', 'می\\u200cتاختم', 'از', 'خدمت', 'به', 'نعمت', 'نپرداختم'], ['گرت', 'قربتی', 'هست', 'در', 'بارگاه', 'به', 'خلعت', 'مشو', 'غافل', 'از', 'پادشاه'], ['خلاف', 'طریقت', 'بود', 'کاولیا', 'تمنا', 'کنند', 'از', 'خدا', 'جز', 'خدا'], ['اگر', 'از', 'دوست', 'چشمت', 'بر', 'احسان', 'اوست', 'تو', 'در', 'بند', 'خویشی', 'نه', 'در', 'بند', 'دوست'], ['تو', 'را', 'تا', 'دهن', 'باشد', 'از', 'حرص', 'باز', 'نیاید', 'به', 'گوش', 'دل', 'از', 'غیب', 'راز'], ['حقیقت', 'سرایی', 'است', 'آراسته', 'هوی', 'و', 'هوس', 'گرد', 'برخاسته'], ['نبینی', 'که', 'جایی', 'که', 'برخاست', 'گرد', 'نبیند', 'نظر', 'گرچه', 'بیناست', 'مرد'], ['قضا', 'را', 'من', 'و', 'پیری', 'از', 'فاریاب', 'رسیدیم', 'در', 'خاک', 'مغرب', 'به', 'آب'], ['من', 'را', 'یک', 'درم', 'بود', 'برداشتند', 'به', 'کشتی', 'و', 'درویش', 'بگذاشتند'], ['سیاهان', 'براندند', 'کشتی', 'چون', 'دود', 'که', 'آن', 'ناخدا', 'نا', 'خدا', 'ترس', 'بود'], ['من', 'را', 'گریه', 'آمد', 'از', 'تیمار', 'جفت', 'بر', 'آن', 'گریه', 'قهقه', 'بخندید', 'و', 'گفت'], ['مخور', 'غم', 'برای', 'من', 'ای', 'پر', 'خرد', 'من', 'را', 'آن', 'کس', 'آرد', 'که', 'کشتی', 'برد'], ['بگسترد', 'سجاده', 'بر', 'روی', 'آب', 'خیال', 'است', 'پنداشتم', 'یا', 'به', 'خواب'], ['از', 'مدهوشیم', 'دیده', 'آن', 'شب', 'نخفت', 'نگه', 'بامدادان', 'به', 'من', 'کرد', 'و', 'گفت'], ['تو', 'لنگی', 'به', 'چوب', 'آمدی', 'من', 'به', 'پا', 'تو', 'را', 'کشتی', 'آورد', 'و', 'ما', 'را', 'خدای'], ['چرا', 'اهل', 'معنی', 'بدین', 'نگروند', 'که', 'ابدال', 'در', 'آب', 'و', 'آتش', 'روند'], ['نه', 'طفلی', 'که', 'از', 'آتش', 'ندارد', 'خبر', 'نگه', 'داردش', 'مادر', 'مهرور'], ['پس', 'آنان', 'که', 'در', 'وجد', 'مستغرقند', 'شب', 'و', 'روز', 'در', 'عین', 'حفظ', 'حقند'], ['نگه', 'دارد', 'از', 'تاب', 'آتش', 'خلیل', 'چون', 'تابوت', 'موسی', 'از', 'غرقاب', 'نیل'], ['چون', 'کودک', 'به', 'دست', 'شناور', 'برست', 'نترسد', 'وگر', 'دجله', 'پهناورست'], ['تو', 'بر', 'روی', 'دریا', 'قدم', 'چون', 'زنی', 'چون', 'مردان', 'که', 'بر', 'خشک', 'تردامنی'], ['راه', 'عقل', 'جز', 'پیچ', 'بر', 'پیچ', 'نیست', 'بر', 'عارفان', 'جز', 'خدا', 'هیچ', 'نیست'], ['توان', 'گفتن', 'این', 'با', 'حقایق', 'شناس', 'ولی', 'خرده', 'گیرند', 'اهل', 'قیاس'], ['که', 'پس', 'آسمان', 'و', 'زمین', 'چیستند', 'بنی', 'آدم', 'و', 'دام', 'و', 'دد', 'کیستند'], ['پسندیده', 'پرسیدی', 'ای', 'هوشمند', 'بگویم\\u200cگر', 'آید', 'جوابت', 'پسند'], ['که', 'هامون', 'و', 'دریا', 'و', 'کوه', 'و', 'فلک', 'پری', 'و', 'آدمی\\u200cزاد', 'و', 'دیو', 'و', 'ملک'], ['همه', 'هرچه', 'هستند', 'از', 'آن', 'کمترند', 'که', 'با', 'هستیش', 'نام', 'هستی', 'برند'], ['عظیم', 'است', 'پیش', 'تو', 'دریا', 'به', 'موج', 'بلند', 'است', 'خورشید', 'تابان', 'به', 'اوج'], ['ولی', 'اهل', 'صورت', 'کجا', 'پی', 'برند', 'که', 'ارباب', 'معنی', 'به', 'ملکی', 'درند'], ['که\\u200cگر', 'آفتاب', 'است', 'یک', 'ذره', 'نیست', 'وگر', 'هفت', 'دریاست', 'یک', 'قطره', 'نیست'], ['چون', 'سلطان', 'عزت', 'علم', 'بر', 'کشد', 'جهان', 'سر', 'به', 'جیب', 'عدم', 'در', 'کشد'], ['رئیس', 'دهی', 'با', 'پسر', 'در', 'رهی', 'گذشتند', 'بر', 'قلب', 'شاهنشهی'], ['پسر', 'چاوشان', 'دید', 'و', 'تیغ', 'و', 'تبر', 'قباهای', 'اطلس', 'کمرهای', 'زر'], ['یلان', 'کماندار', 'نخجیر', 'زن', 'غلامان', 'ترکش', 'کش', 'تیرزن'], ['یکی', 'در', 'برش', 'پرنیانی', 'قباه', 'یکی', 'بر', 'سرش', 'خسروانی', 'کلاه'], ['پسر', 'کان', 'همه', 'شوکت', 'و', 'پایه', 'دید', 'پدر', 'را', 'به', 'غایت', 'فرومایه', 'دید'], ['که', 'حالش', 'بگردید', 'و', 'رنگش', 'بریخت', 'از', 'هیبت', 'به', 'بیغوله\\u200cای', 'در', 'گریخت'], ['پسر', 'گفتش', 'آخر', 'بزرگ', 'دهی', 'به', 'سرداری', 'از', 'سر', 'بزرگان', 'مهی'], ['چه', 'بودت', 'که', 'ببریدی', 'از', 'جان', 'امید', 'بلرزیدی', 'از', 'باد', 'هیبت', 'چون', 'بید'], ['بلی', 'گفت', 'سالار', 'و', 'فرماندهم', 'ولی', 'عزتم', 'هست', 'تا', 'در', 'دهم'], ['بزرگان', 'از', 'آن', 'دهشت', 'آلوده\\u200cاند', 'که', 'در', 'بارگاه', 'ملک', 'بوده\\u200cاند'], ['تو', 'ای', 'بی', 'خبر', 'همچنان', 'در', 'دهی', 'که', 'بر', 'خویشتن', 'منصبی', 'می\\u200cنهی'], ['نگفتند', 'حرفی', 'زبان', 'آوران', 'که', 'سعدی', 'نگوید', 'مثالی', 'بر', 'آن'], ['مگر', 'دیده_باشی', 'که', 'در', 'باغ', 'و', 'راغ', 'بتابد', 'به', 'شب', 'کرمکی', 'چون', 'چراغ'], ['یکی', 'گفتش', 'ای', 'کرمک', 'شب', 'فروز', 'چه', 'بودت', 'که', 'بیرون', 'نیایی', 'به', 'روز'], ['ببین', 'کآتشی', 'کرمک', 'خاکزاد', 'جواب', 'از', 'سر', 'روشنایی', 'چه', 'داد'], ['که', 'من', 'روز', 'و', 'شب', 'جز', 'به', 'صحرا', 'نیم', 'ولی', 'پیش', 'خورشید', 'پیدا', 'نیم'], ['ثنا', 'گفت', 'بر', 'سعد', 'زنگی', 'کسی', 'که', 'بر', 'تربتش', 'باد', 'رحمت', 'بسی'], ['درم', 'داد', 'و', 'تشریف', 'و', 'بنواختش', 'به', 'مقدار', 'خود', 'منزلت', 'ساختش'], ['چون', 'الله', 'و', 'بس', 'دید', 'بر', 'نقش', 'زر', 'بشورید', 'و', 'برکند', 'خلعت', 'از', 'بر'], ['از', 'سوزش', 'چنان', 'شعله', 'در', 'جان', 'گرفت', 'که', 'برجست', 'و', 'راه', 'بیابان', 'گرفت'], ['یکی', 'گفتش', 'از', 'همنشینان', 'دشت', 'چه', 'دیدی', 'که', 'حالت', 'دگرگونه', 'گشت'], ['تو', 'اول', 'زمین', 'بوسه', 'دادی', 'به', 'جای', 'نبایستی', 'آخر', 'زدن', 'پشت', 'پا'], ['بخندید', 'کاول', 'از', 'بیم', 'و', 'امید', 'همی', 'لرزه', 'بر', 'تن', 'فتادم', 'چون', 'بید'], ['به', 'آخر', 'از', 'تمکین', 'الله', 'و', 'بس', 'نه', 'چیزم', 'به', 'چشم', 'در', 'آمد', 'نه', 'کس'], ['به', 'شهری', 'در', 'از', 'شام', 'غوغا', 'فتاد', 'گرفتند', 'پیری', 'مبارک', 'نهاد'], ['هنوز', 'آن', 'حدیثم', 'به', 'گوش', 'در', 'است', 'چون', 'قیدش', 'نهادند', 'بر', 'پا', 'و', 'دست'], ['که', 'گفت', 'اگر', 'نه', 'سلطان', 'اشارت', 'کند', 'که', 'را', 'زهره', 'باشد', 'که', 'غارت', 'کند'], ['بباید', 'چنین', 'دشمنی', 'دوست', 'داشت', 'که', 'می\\u200cدانمش', 'دوست', 'بر', 'من', 'گماشت'], ['اگر', 'عز', 'و', 'جاه', 'است', 'و', 'اگر', 'ذل', 'و', 'قید', 'من', 'از', 'حق', 'شناسم', 'نه', 'از', 'عمرو', 'و', 'زید'], ['از', 'علت', 'مدار', 'ای', 'خردمند', 'بیم', 'چون', 'داروی', 'تلخت', 'فرستد', 'حکیم'], ['بخور', 'هرچه', 'آید', 'از', 'دست', 'حبیب', 'نه', 'بیمار', 'داناتر', 'است', 'از', 'طبیب'], ['یکی', 'را', 'چون', 'من', 'دل', 'به', 'دست', 'کسی', 'گرو', 'بود', 'و', 'می\\u200cبرد', 'خواری', 'بسی'], ['پس', 'از', 'هوشمندی', 'و', 'فرزانگی', 'به', 'دف', 'بر', 'زدندش', 'به', 'دیوانگی'], ['از', 'دشمن', 'جفا', 'بردی', 'از', 'بهر', 'دوست', 'که', 'تریاک', 'اکبر', 'بود', 'زهر', 'دوست'], ['قفا', 'خوردی', 'از', 'دست', 'یاران', 'خویش', 'چون', 'مسمار', 'پیشانی', 'آورده', 'پیش'], ['خیالش', 'چنان', 'بر', 'سر', 'آشوب', 'کرد', 'که', 'بام', 'دماغش', 'لگدکوب', 'کرد'], ['نبودش', 'از', 'تشنیع', 'یاران', 'خبر', 'که', 'غرقه', 'ندارد', 'از', 'باران', 'خبر'], ['کرا', 'پا', 'خاطر', 'بر', 'آمد', 'به', 'سنگ', 'نیندیشد', 'از', 'شیشه', 'نام', 'و', 'ننگ'], ['شبی', 'دیو', 'خود', 'را', 'پریچهره', 'ساخت', 'در', 'آغوش', 'آن', 'مرد', 'و', 'بر', 'او', 'بتاخت'], ['سحرگه', 'مجال', 'نمازش', 'نبود', 'از', 'یاران', 'کس', 'آگه', 'از', 'رازش', 'نبود'], ['به', 'آبی', 'فرو', 'رفت', 'نزدیک', 'بام', 'بر', 'او', 'بسته', 'سرما', 'دری', 'از', 'رخام'], ['نصیحتگری', 'لومش', 'آغاز', 'کرد', 'که', 'خود', 'را', 'بکشتی', 'در', 'این', 'آب', 'سرد'], ['از', 'برنای', 'منصف', 'بر', 'آمد', 'خروش', 'که\\u200cای', 'یار', 'چند', 'از', 'ملامت', 'خموش'], ['من', 'را', 'پنج', 'روز', 'این', 'پسر', 'دل', 'فریفت', 'از', 'مهرش', 'چنانم', 'که', 'نتوان', 'شکیفت'], ['نپرسید', 'باری', 'به', 'خلق', 'خوشم', 'ببین', 'تا', 'چه', 'بارش', 'به', 'جان', 'می\\u200cکشم'], ['پس', 'آن', 'را', 'که', 'شخصم', 'از', 'خاک', 'آفرید', 'به', 'قدرت', 'در', 'او', 'جان', 'پاک', 'آفرید'], ['عجب', 'داری', 'اگر', 'بار', 'امرش', 'برم', 'که', 'دایم', 'به', 'احسان', 'و', 'فضلش', 'درم'], ['اگر', 'مرد', 'عشقی', 'کم', 'خویش', 'گیر', 'و', 'اگر', 'نه', 'راه', 'عافیت', 'پیش', 'گیر'], ['مترس', 'از', 'محبت', 'که', 'خاکت', 'کند', 'که', 'باقی', 'شوی\\u200cگر', 'هلاکت', 'کند'], ['نروید', 'نبات', 'از', 'حبوب', 'درست', 'مگر', 'حال', 'بر', 'او', 'بگردد', 'نخست'], ['تو', 'را', 'با', 'حق', 'آن', 'آشنایی', 'دهد', 'که', 'از', 'دست', 'خویشت', 'رهایی', 'دهد'], ['که', 'تا', 'با', 'خودی', 'در', 'خودت', 'راه', 'نیست', 'وز', 'این', 'نکته', 'جز', 'بی', 'خود', 'آگاه', 'نیست'], ['نه', 'مطرب', 'که', 'آواز', 'پا', 'ستور', 'سماع', 'است', 'اگر', 'عشق', 'داری', 'و', 'شور'], ['مگس', 'پیش', 'شوریده', 'دل', 'پر', 'نزد', 'که', 'او', 'چون', 'مگس', 'دست', 'بر', 'سر', 'نزد'], ['نه', 'بم', 'داند', 'آشفته', 'سامان', 'نه', 'زیر', 'به', 'آواز', 'مرغی', 'بنالد', 'فقیر'], ['سراینده', 'خود', 'می\\u200cنگردد', 'خموش', 'ولیکن', 'نه', 'هر', 'وقت', 'باز', 'است', 'گوش'], ['چون', 'شوریدگان', 'می\\u200cپرستی', 'کنند', 'به', 'آواز', 'دولاب', 'مستی', 'کنند'], ['به', 'چرخ', 'در', 'آیند', 'دولاب', 'وار', 'چون', 'دولاب', 'بر', 'خود', 'بگریند', 'زار'], ['به', 'تسلیم', 'سر', 'در', 'گریبان', 'برند', 'چون', 'طاقت', 'نماند', 'گریبان', 'درند'], ['مکن', 'عیب', 'درویش', 'مدهوش', 'مست', 'که', 'غرق', 'است', 'از', 'آن', 'می\\u200cزند', 'پا', 'و', 'دست'], ['نگویم', 'سماع', 'ای', 'برادر', 'که', 'چیست', 'مگر', 'مستمع', 'را', 'بدانم', 'که', 'کیست'], ['اگر', 'از', 'برج', 'معنی', 'پرد', 'طیر', 'او', 'فرشته', 'فرو', 'ماند', 'از', 'سیر', 'او'], ['وگر', 'مرد', 'لهو', 'است', 'و', 'بازی', 'و', 'لاغ', 'قوی\\u200cتر', 'شود', 'دیوش', 'در', 'دماغ'], ['چون', 'مرد', 'سماع', 'است', 'شهوت', 'پرست', 'به', 'آواز', 'خوش', 'خفته', 'خیزد', 'نه', 'مست'], ['پریشان', 'شود', 'گل', 'به', 'باد', 'سحر', 'نه', 'هیزم', 'که', 'نشکافدش', 'جز', 'تبر'], ['جهان', 'پر', 'سماع', 'است', 'و', 'مستی', 'و', 'شور', 'ولیکن', 'چه', 'بیند', 'در', 'آیینه', 'کور'], ['نبینی', 'شتر', 'بر', 'نوای', 'عرب', 'که', 'چونش', 'به', 'رقص', 'در', 'آرد', 'طرب'], ['شتر', 'را', 'چون', 'شور', 'طرب', 'در', 'سر', 'است', 'اگر', 'آدمی', 'را', 'نباشد', 'خر', 'است'], ['شکر', 'لب', 'جوانی', 'نی', 'آموختی', 'که', 'دلها', 'در', 'آتش', 'چون', 'نی', 'سوختی'], ['پدر', 'بارها', 'بانگ', 'بر', 'او', 'زدی', 'به', 'تندی', 'و', 'آتش', 'در', 'آن', 'نی', 'زدی'], ['شبی', 'بر', 'ادای', 'پسر', 'گوش', 'کرد', 'سماعش', 'پریشان', 'و', 'مدهوش', 'کرد'], ['همی', 'گفت', 'و', 'بر', 'چهره', 'افکنده', 'خوی', 'که', 'آتش', 'به', 'من', 'در', 'زد', 'این', 'بار', 'نی'], ['ندانی', 'که', 'شوریده', 'حالان', 'مست', 'چرا', 'بر', 'فشانند', 'در', 'رقص', 'دست'], ['گشاید', 'دری', 'بر', 'دل', 'از', 'واردات', 'فشاند', 'سر', 'دست', 'بر', 'کاینات'], ['حلالش', 'بود', 'رقص', 'بر', 'یاد', 'دوست', 'که', 'هر', 'آستینیش', 'جانی', 'در', 'اوست'], ['گرفتم', 'که', 'مردانه\\u200cای', 'در', 'شنا', 'برهنه', 'توانی', 'زدن', 'دست', 'و', 'پا'], ['بکن', 'خرقه', 'نام', 'و', 'ناموس', 'و', 'زرق', 'که', 'عاجز', 'بود', 'مرد', 'با', 'جامه', 'غرق'], ['تعلق', 'حجاب', 'است', 'و', 'بی', 'حاصلی', 'چون', 'پیوندها', 'بگسلی', 'واصلی'], ['کسی', 'گفت', 'پروانه', 'را', 'کای', 'حقیر', 'برو', 'دوستی', 'در', 'خور', 'خویش', 'گیر'], ['رهی', 'رو', 'که', 'بینی', 'طریق', 'رجا', 'تو', 'و', 'مهر', 'شمع', 'از', 'کجا', 'تا', 'کجا'], ['سمندر', 'نه\\u200cای', 'گرد', 'آتش', 'مگرد', 'که', 'مردانگی', 'باید', 'آنگه', 'نبرد'], ['از', 'خورشید', 'پنهان', 'شود', 'موش', 'کور', 'که', 'جهل', 'است', 'با', 'آهنین', 'پنجه', 'زور'], ['کسی', 'را', 'که', 'دانی', 'که', 'خصم', 'تو', 'اوست', 'نه', 'از', 'عقل', 'باشد', 'گرفتن', 'به', 'دوست'], ['تو', 'را', 'کس', 'نگوید', 'نکو', 'می\\u200cکنی', 'که', 'جان', 'در', 'سر', 'کار', 'او', 'می\\u200cکنی'], ['گدایی', 'که', 'از', 'پادشه', 'خواست', 'دخت', 'قفا', 'خورد', 'و', 'سودای', 'بیهوده', 'پخت'], ['کجا', 'در', 'حساب', 'آرد', 'او', 'چون', 'تو', 'دوست', 'که', 'روی', 'ملوک', 'و', 'سلاطین', 'در', 'اوست'], ['مپندار', 'کاو', 'در', 'چنان', 'مجلسی', 'مدارا', 'کند', 'با', 'چون', 'تو', 'مفلسی'], ['وگر', 'با', 'همه', 'خلق', 'نرمی', 'کند', 'تو', 'بیچاره\\u200cای', 'با', 'تو', 'گرمی', 'کند'], ['نگه', 'کن', 'که', 'پروانه', 'سوزناک', 'چه', 'گفت', 'ای', 'عجب\\u200cگر', 'بسوزم', 'چه', 'باک'], ['من', 'را', 'چون', 'خلیل', 'آتشی', 'در', 'دل', 'است', 'که', 'پنداری', 'این', 'شعله', 'بر', 'من', 'گل', 'است'], ['نه', 'دل', 'دامن', 'دلستان', 'می\\u200cکشد', 'که', 'مهرش', 'گریبان', 'جان', 'می\\u200cکشد'], ['نه', 'خود', 'را', 'بر', 'آتش', 'به', 'خود', 'می\\u200cزنم', 'که', 'زنجیر', 'شوق', 'است', 'در', 'گردنم'], ['من', 'را', 'همچنان', 'دور', 'بودم', 'که', 'سوخت', 'نه', 'این', 'دم', 'که', 'آتش', 'به', 'من', 'در', 'فروخت'], ['نه', 'آن', 'می\\u200cکند', 'یار', 'در', 'شاهدی', 'که', 'با', 'او', 'توان', 'گفتن', 'از', 'زاهدی'], ['که', 'عیبم', 'کند', 'بر', 'تولای', 'دوست', 'که', 'من', 'راضیم', 'کشته', 'در', 'پا', 'دوست'], ['من', 'را', 'بر', 'تلف', 'حرص', 'دانی', 'چراست', 'چون', 'او', 'هست', 'اگر', 'من', 'نباشم', 'رواست'], ['بسوزم', 'که', 'یار', 'پسندیده', 'اوست', 'که', 'در', 'او', 'سرایت', 'کند', 'سوز', 'دوست'], ['من', 'را', 'چند', 'گویی', 'که', 'در', 'خورد', 'خویش', 'حریفی', 'به', 'دست', 'آر', 'همدرد', 'خویش'], ['بدان', 'ماند', 'اندرز', 'شوریده', 'حال', 'که', 'گویی', 'به', 'کژدم', 'گزیده', 'منال'], ['کسی', 'را', 'نصیحت', 'مگو', 'ای', 'شگفت', 'که', 'دانی', 'که', 'در', 'او', 'نخواهد_گرفت'], ['از', 'کف', 'رفته', 'بیچاره\\u200cای', 'را', 'لگام', 'نگویند', 'کآهسته', 'را', 'ای', 'غلام'], ['چه', 'نغز', 'آمد', 'این', 'نکته', 'در', 'سندباد', 'که', 'عشق', 'آتش', 'است', 'ای', 'پسر', 'پند', 'باد'], ['به', 'باد', 'آتش', 'تیز', 'برتر', 'شود', 'پلنگ', 'از', 'زدن', 'کینه', 'ور\\u200cتر', 'شود'], ['چون', 'نیکت', 'بدیدم', 'بدی', 'می\\u200cکنی', 'که', 'رویم', 'فرا', 'چون', 'خودی', 'می\\u200cکنی'], ['از', 'خود', 'بهتری', 'جوی', 'و', 'فرصت', 'شمار', 'که', 'با', 'چون', 'خودی', 'گم', 'کنی', 'روزگار'], ['پی', 'چون', 'خودی', 'خودپرستان', 'روند', 'به', 'کوی', 'خطرناک', 'مستان', 'روند'], ['من', 'اول', 'که', 'این', 'کار', 'سر', 'داشتم', 'دل', 'از', 'سر', 'به', 'یک', 'بار', 'برداشتم'], ['سر', 'انداز', 'در', 'عاشقی', 'صادق', 'است', 'که', 'بدزهره', 'بر', 'خویشتن', 'عاشق', 'است'], ['اجل', 'ناگهی', 'در', 'کمینم', 'کشد', 'همان', 'به', 'که', 'آن', 'نازنینم', 'کشد'], ['چون', 'بی', 'شک', 'نبشته\\u200cست', 'بر', 'سر', 'هلاک', 'به', 'دست', 'دلارام', 'خوشتر', 'هلاک'], ['نه', 'روزی', 'به', 'بیچارگی', 'جان', 'دهی', 'همان', 'به', 'که', 'در', 'پا', 'جانان', 'دهی'], ['شبی', 'یاد', 'دارم', 'که', 'چشمم', 'نخفت', 'شنیدم', 'که', 'پروانه', 'با', 'شمع', 'گفت'], ['که', 'من', 'عاشقم\\u200cگر', 'بسوزم', 'رواست', 'تو', 'را', 'گریه', 'و', 'سوز', 'باری', 'چراست'], ['بگفت', 'ای', 'هوادار', 'مسکین', 'من', 'برفت', 'انگبین', 'یار', 'شیرین', 'من'], ['چون', 'شیرینی', 'از', 'من', 'به', 'در', 'می\\u200cرود', 'چون', 'فرهادم', 'آتش', 'به', 'سر', 'می\\u200cرود'], ['همی', 'گفت', 'و', 'هر', 'لحظه', 'سیلاب', 'درد', 'فرو', 'می\\u200cدویدش', 'به', 'رخسار', 'زرد'], ['که\\u200cای', 'مدعی', 'عشق', 'کار', 'تو', 'نیست', 'که', 'نه', 'صبر', 'داری', 'نه', 'یارای', 'ایست'], ['تو', 'بگریزی', 'از', 'پیش', 'یک', 'شعله', 'خام', 'من', 'استاده\\u200cام', 'تا', 'بسوزم', 'تمام'], ['تو', 'را', 'آتش', 'عشق', 'اگر', 'پر', 'بسوخت', 'من', 'را', 'بین', 'که', 'از', 'پا', 'تا', 'سر', 'بسوخت'], ['همه', 'شب', 'در', 'این', 'گفت', 'و', 'گو', 'بود', 'شمع', 'به', 'دیدار', 'او', 'وقت', 'اصحاب', 'جمع'], ['نرفته', 'از', 'شب', 'همچنان', 'بهره\\u200cای', 'که', 'ناگه', 'بکشتش', 'پریچهره\\u200cای'], ['همی', 'گفت', 'و', 'می\\u200cرفت', 'دودش', 'به', 'سر', 'که', 'این', 'است', 'پایان', 'عشق', 'ای', 'پسر'], ['اگر', 'عاشقی', 'خواهی_آموختن', 'به', 'کشتن', 'فرج', 'یابی', 'از', 'سوختن'], ['مکن', 'گریه', 'بر', 'گور', 'مقتول', 'دوست', 'برو', 'خرمی', 'کن', 'که', 'مقبول', 'اوست'], ['اگر', 'عاشقی', 'سر', 'مشوی', 'از', 'مرض', 'چون', 'سعدی', 'فرو', 'شوی', 'دست', 'از', 'غرض'], ['فدایی', 'ندارد', 'از', 'مقصود', 'چنگ', 'و', 'اگر', 'بر', 'سرش', 'تیر', 'بارند', 'و', 'سنگ'], ['به', 'دریا', 'مرو', 'گفتمت', 'زینهار', 'وگر', 'می\\u200cروی', 'تن', 'به', 'طوفان', 'سپار'], ['از', 'خاک', 'آفریدت', 'خداوند', 'پاک', 'پس', 'ای', 'بنده', 'افتادگی', 'کن', 'چون', 'خاک'], ['حریص', 'و', 'جهان', 'سوز', 'و', 'سرکش', 'مباش', 'از', 'خاک', 'آفریدندت', 'آتش', 'مباش'], ['چون', 'گردن', 'کشید', 'آتش', 'هولناک', 'به', 'بیچارگی', 'تن', 'بینداخت', 'خاک'], ['چون', 'آن', 'سرفرازی', 'نمود', 'این', 'کمی', 'از', 'آن', 'دیو', 'کردند', 'از', 'این', 'آدمی'], ['یکی', 'قطره', 'باران', 'از', 'ابری', 'چکید', 'خجل', 'شد', 'چون', 'پهنای', 'دریا', 'بدید'], ['که', 'جایی', 'که', 'دریاست', 'من', 'کیستم', 'اگر', 'او', 'هست', 'حقا', 'که', 'من', 'نیستم'], ['چون', 'خود', 'را', 'به', 'چشم', 'حقارت', 'بدید', 'صدف', 'در', 'کنارش', 'به', 'جان', 'پرورید'], ['سپهرش', 'به', 'جایی', 'رسانید', 'کار', 'که', 'شد', 'نامور', 'لؤلؤ', 'شاهوار'], ['بلندی', 'از', 'آن', 'یافت', 'کاو', 'پست', 'شد', 'در', 'نیستی', 'کوفت', 'تا', 'هست', 'شد'], ['تواضع', 'کند', 'هوشمند', 'گزین', 'نهد', 'شاخ', 'پر', 'میوه', 'سر', 'بر', 'زمین'], ['جوانی', 'خردمند', 'پاکیزه', 'بوم', 'از', 'دریا', 'بر', 'آمد', 'به', 'دربند', 'روم'], ['در', 'او', 'فضل', 'دیدند', 'و', 'فقر', 'و', 'تمیز', 'نهادند', 'رختش', 'به', 'جایی', 'عزیز'], ['سر', 'صالحان', 'گفت', 'روزی', 'به', 'مرد', 'که', 'خاشاک', 'مسجد', 'بیفشان', 'و', 'گرد'], ['همان', 'کاین', 'سخن', 'مرد', 'رهرو', 'شنید', 'برون', 'رفت', 'و', 'بازش', 'کس', 'آنجا', 'ندید'], ['بر', 'آن', 'حمل', 'کردند', 'یاران', 'و', 'پیر', 'که', 'پروای', 'خدمت', 'نبودش', 'فقیر'], ['دیگر', 'روز', 'خادم', 'گرفتش', 'به', 'راه', 'که', 'ناخوب', 'کردی', 'به', 'رأی', 'تباه'], ['ندانستی', 'ای', 'کودک', 'خودپسند', 'که', 'مردان', 'از', 'خدمت', 'به', 'جایی', 'رسند'], ['گرستن', 'گرفت', 'از', 'سر', 'صدق', 'و', 'سوز', 'که\\u200cای', 'یار', 'جان', 'پرور', 'دلفروز'], ['نه', 'گرد', 'در', 'آن', 'بقعه', 'دیدم', 'نه', 'خاک', 'من', 'آلوده', 'بودم', 'در', 'آن', 'جای', 'پاک'], ['گرفتم', 'قدم', 'لاجرم', 'باز', 'پس', 'که', 'پاکیزه', 'به', 'مسجد', 'از', 'خاک', 'و', 'خس'], ['طریقت', 'جز', 'این', 'نیست', 'درویش', 'را', 'که', 'افکنده', 'دارد', 'تن', 'خویش', 'را'], ['بلندیت', 'باید', 'تواضع', 'گزین', 'که', 'آن', 'بام', 'را', 'نیست', 'سلم', 'جز', 'این'], ['شنیدم', 'که', 'وقتی', 'سحرگاه', 'عید', 'از', 'گرمابه', 'آمد', 'برون', 'بایزید'], ['یکی', 'طشت', 'خاکسترش', 'بی\\u200cخبر', 'فرو', 'ریختند', 'از', 'سرایی', 'به', 'سر'], ['همی', 'گفت', 'شولیده', 'دستار', 'و', 'موی', 'کف', 'دست', 'شکرانه', 'مالان', 'به', 'روی'], ['که\\u200cای', 'نفس', 'من', 'در', 'خور', 'آتشم', 'به', 'خاکستری', 'روی', 'در', 'هم', 'کشم'], ['بزرگان', 'نکردند', 'در', 'خود', 'نگاه', 'خدابینی', 'از', 'خویشتن', 'بین', 'مخواه'], ['بزرگی', 'به', 'ناموس', 'و', 'گفتار', 'نیست', 'بلندی', 'به', 'دعوی', 'و', 'پندار', 'نیست'], ['تواضع', 'سر', 'رفعت', 'افرازدت', 'تکبر', 'به', 'خاک', 'در', 'اندازدت'], ['به', 'گردن', 'فتد', 'سرکش', 'تند', 'خوی', 'بلندیت', 'باید', 'بلندی', 'مجوی'], ['از', 'مغرور', 'دنیا', 'راه', 'دین', 'مجوی', 'خدابینی', 'از', 'خویشتن', 'بین', 'مجوی'], ['گرت', 'جاه', 'باید', 'مکن', 'چون', 'خسان', 'به', 'چشم', 'حقارت', 'نگه', 'در', 'کسان'], ['گمان', 'کی', 'برد', 'مردم', 'هوشمند', 'که', 'در', 'سرگرانی', 'است', 'قدر', 'بلند'], ['از', 'این', 'نامورتر', 'محلی', 'مجوی', 'که', 'خوانند', 'خلقت', 'پسندیده', 'خوی'], ['نه\\u200cگر', 'چون', 'تویی', 'بر', 'تو', 'کبر', 'آورد', 'بزرگش', 'نبینی', 'به', 'چشم', 'خرد'], ['تو', 'نیز', 'اگر', 'تکبر', 'کنی', 'همچنان', 'نمایی', 'که', 'پیشت', 'تکبر', 'کنان'], ['چون', 'استاده\\u200cای', 'بر', 'مقامی', 'بلند', 'بر', 'افتاده\\u200cگر', 'هوشمندی', 'مخند'], ['بسا', 'ایستاده', 'در', 'آمد', 'از', 'پا', 'که', 'افتادگانش', 'گرفتند', 'جای'], ['گرفتم', 'که', 'خود', 'هستی', 'از', 'عیب', 'پاک', 'تعنت', 'مکن', 'بر', 'من', 'عیب\\u200cناک'], ['یکی', 'حلقه', 'کعبه', 'دارد', 'به', 'دست', 'یکی', 'در', 'خراباتی', 'افتاده', 'مست'], ['اگر', 'آن', 'را', 'بخواند', 'که', 'نگذاردش', 'ور', 'این', 'را', 'براند', 'که', 'باز', 'آردش'], ['نه', 'مستظهر', 'است', 'آن', 'به', 'اعمال', 'خویش', 'نه', 'این', 'را', 'در', 'توبه', 'بسته\\u200cست', 'پیش'], ['شنیدستم', 'از', 'راویان', 'کلام', 'که', 'در', 'عهد', 'عیسی', 'علیه\\u200cالسلام'], ['یکی', 'زندگانی', 'تلف', 'کرده_بود', 'به', 'جهل', 'و', 'ضلالت', 'سر', 'آورده_بود'], ['دلیری', 'سیه', 'نامه\\u200cای', 'سخت', 'دل', 'از', 'ناپاکی', 'ابلیس', 'در', 'او', 'خجل'], ['به', 'سر', 'برده', 'ایام', 'بی', 'حاصلی', 'نیاسوده', 'تا', 'بوده', 'از', 'او', 'دلی'], ['سرش', 'خالی', 'از', 'عقل', 'و', 'از', 'احتشام', 'شکم', 'فربه', 'از', 'لقمه\\u200cهای', 'حرام'], ['به', 'ناراستی', 'دامن', 'آلوده\\u200cای', 'به', 'ناداشتی', 'دوده', 'اندوده\\u200cای'], ['نه', 'چشمی', 'چون', 'بینندگان', 'راست', 'رو', 'نه', 'گوشی', 'چون', 'مردم', 'نصیحت', 'شنو'], ['چون', 'سال', 'بد', 'از', 'او', 'خلایق', 'نفور', 'نمایان', 'به', 'هم', 'چون', 'مه', 'نو', 'از', 'دور'], ['هوی', 'و', 'هوس', 'خرمنش', 'سوخته', 'جوی', 'نیکنامی', 'نیندوخته'], ['سیه', 'نامه', 'چندان', 'تنعم', 'براند', 'که', 'در', 'نامه', 'جای', 'نبشتن', 'نماند'], ['گنهکار', 'و', 'خودرای', 'و', 'شهوت', 'پرست', 'به', 'غفلت', 'شب', 'و', 'روز', 'مخمور', 'و', 'مست'], ['شنیدم', 'که', 'عیسی', 'در', 'آمد', 'از', 'دشت', 'به', 'مقصوره', 'عابدی', 'برگذشت'], ['به', 'زیر', 'آمد', 'از', 'غرفه', 'خلوت', 'نشین', 'به', 'پایش', 'در', 'افتاد', 'سر', 'بر', 'زمین'], ['گنهکار', 'برگشته', 'اختر', 'از', 'دور', 'چون', 'پروانه', 'حیران', 'در', 'ایشان', 'از', 'نور'], ['تأمل', 'به', 'حسرت', 'کنان', 'شرمسار', 'چون', 'درویش', 'در', 'دست', 'سرمایه\\u200cدار'], ['خجل', 'زیر', 'لب', 'عذرخواهان', 'به', 'سوز', 'از', 'شبهای', 'در', 'غفلت', 'آورده', 'روز'], ['سرشک', 'غم', 'از', 'دیده', 'باران', 'چون', 'میغ', 'که', 'عمرم', 'به', 'غفلت', 'گذشت', 'ای', 'دریغ'], ['بر', 'انداختم', 'نقد', 'عمر', 'عزیز', 'به', 'دست', 'از', 'نکویی', 'نیاورده', 'چیز'], ['چون', 'من', 'زنده', 'هرگز', 'مبادا', 'کسی', 'که', 'مرگش', 'به', 'از', 'زندگانی', 'بسی'], ['برست', 'آن', 'که', 'در', 'عهد', 'طفلی', 'بمرد', 'که', 'پیرانه', 'سر', 'شرمساری', 'نبرد'], ['گناهم', 'ببخش', 'ای', 'جهان', 'آفرین', 'که\\u200cگر', 'با', 'من', 'آید', 'فبئس', 'القرین'], ['نگون', 'مانده', 'از', 'شرمساری', 'سرش', 'روان', 'آب', 'حسرت', 'به', 'شیب', 'و', 'برش'], ['در', 'این', 'گوشه', 'نالان', 'گنهکار', 'پیر', 'که', 'فریاد', 'حالم', 'رس', 'ای', 'دستگیر'], ['وز', 'آن', 'نیمه', 'عابد', 'سری', 'پر', 'غرور', 'ترش', 'کرده', 'بر', 'فاسق', 'ابرو', 'از', 'دور'], ['که', 'این', 'مدبر', 'در', 'پی', 'ما', 'چراست', 'نگون', 'بخت', 'جاهل', 'چه', 'در', 'خورد', 'ماست'], ['به', 'گردن', 'در', 'آتش', 'در', 'افتاده\\u200cای', 'به', 'باد', 'هوی', 'عمر', 'بر', 'داده\\u200cای'], ['چه', 'خیر', 'آمد', 'از', 'نفس\\u200cتر', 'دامنش', 'که', 'صحبت', 'بود', 'با', 'مسیح', 'و', 'منش'], ['چه', 'بودی', 'که', 'زحمت', 'ببردی', 'از', 'پیش', 'به', 'دوزخ', 'برفتی', 'پس', 'کار', 'خویش'], ['همی', 'رنجم', 'از', 'طلعت', 'ناخوشش', 'مبادا', 'که', 'در', 'من', 'فتد', 'آتشش'], ['به', 'محشر', 'که', 'حاضر', 'شوند', 'انجمن', 'خدایا', 'تو', 'با', 'او', 'مکن', 'حشر', 'من'], ['در', 'این', 'بود', 'و', 'وحی', 'از', 'جلیل', 'الصفات', 'در', 'آمد', 'به', 'عیسی', 'علیه', 'الصلوة'], ['که\\u200cگر', 'عالم', 'است', 'این', 'و', 'اگر', 'او', 'جهول', 'من', 'را', 'دعوت', 'هر', 'دو', 'آمد', 'قبول'], ['تبه', 'کرده', 'ایام', 'برگشته', 'روز', 'بنالید', 'بر', 'من', 'به', 'زاری', 'و', 'سوز'], ['به', 'بیچارگی', 'هر', 'که', 'آمد', 'برم', 'نیندازمش', 'از', 'آستان', 'کرم'], ['عفو', 'کردم', 'از', 'او', 'عملهای', 'زشت', 'به', 'انعام', 'خویش', 'آرمش', 'در', 'بهشت'], ['و', 'اگر', 'عار', 'دارد', 'عبادت', 'پرست', 'که', 'در', 'خلد', 'با', 'او', 'بود', 'هم', 'نشست'], ['بگو', 'ننگ', 'از', 'او', 'در', 'قیامت', 'مدار', 'که', 'آن', 'را', 'به', 'جنت', 'برند', 'این', 'به', 'نار'], ['که', 'آن', 'را', 'جگر', 'خون', 'شد', 'از', 'سوز', 'و', 'درد', 'اگر', 'این', 'تکیه', 'بر', 'طاعت', 'خویش', 'کرد'], ['ندانست', 'در', 'بارگاه', 'غنی', 'که', 'بیچارگی', 'به', 'از', 'کبر', 'و', 'منی'], ['کرا', 'جامه', 'پاک', 'است', 'و', 'سیرت', 'پلید', 'در', 'دوزخش', 'را', 'نباید', 'کلید'], ['بر', 'این', 'آستان', 'عجز', 'و', 'مسکینیت', 'به', 'از', 'طاعت', 'و', 'خویشتن', 'بینیت'], ['چون', 'خود', 'را', 'از', 'نیکان', 'شمردی', 'بدی', 'نمی\\u200cگنجد', 'در', 'خدایی', 'خودی'], ['اگر', 'مردی', 'از', 'مردی', 'خود', 'مگوی', 'نه', 'هر', 'شهسواری', 'به', 'در', 'برد', 'گوی'], ['پیاز', 'آمد', 'آن', 'بی', 'هنر', 'جمله', 'پوست', 'که', 'پنداشت', 'چون', 'پسته', 'مغزی', 'در', 'اوست'], ['از', 'این', 'نوع', 'طاعت', 'نیاید', 'به', 'کار', 'برو', 'عذر', 'تقصیر', 'طاعت', 'بیار'], ['چه', 'رند', 'پریشان', 'شوریده', 'بخت', 'چه', 'زاهد', 'که', 'بر', 'خود', 'کند', 'کار', 'سخت'], ['به', 'زهد', 'و', 'ورع', 'کوش', 'و', 'صدق', 'و', 'صفا', 'ولیکن', 'میفزای', 'بر', 'مصطفی'], ['نخورد', 'از', 'عبادت', 'بر', 'آن', 'بی', 'خرد', 'که', 'با', 'حق', 'نکو', 'بود', 'و', 'با', 'خلق', 'بد'], ['سخن', 'ماند', 'از', 'عاقلان', 'یادگار', 'از', 'سعدی', 'همین', 'یک', 'سخن', 'یاد', 'دار'], ['گنهکار', 'اندیشناک', 'از', 'خدای', 'به', 'از', 'پارسای', 'عبادت', 'نمای'], ['فقیهی', 'کهن', 'جامه', 'تنگدست', 'در', 'ایوان', 'قاضی', 'به', 'صف', 'بر', 'نشست'], ['نگه', 'کرد', 'قاضی', 'در', 'او', 'تیز', 'تیز', 'معرف', 'گرفت', 'آستینش', 'که', 'خیز'], ['ندانی', 'که', 'برتر', 'مقام', 'تو', 'نیست', 'فروتر', 'نشین', 'یا', 'برو', 'یا', 'بایست'], ['نه', 'هر', 'کس', 'سزاوار', 'باشد', 'به', 'صدر', 'کرامت', 'به', 'جاه', 'است', 'و', 'منزل', 'به', 'قدر'], ['دیگر', 'راه', 'چه', 'حاجت', 'ببیند', 'کست', 'همین', 'شرمساری', 'عقوبت', 'بست'], ['به', 'عزت', 'هر', 'آن', 'کاو', 'فروتر', 'نشست', 'به', 'خواری', 'نیفتد', 'از', 'بالا', 'به', 'پست'], ['به', 'جای', 'بزرگان', 'دلیری', 'مکن', 'چون', 'سر', 'پنجه\\u200cات', 'نیست', 'شیری', 'مکن'], ['چون', 'دید', 'آن', 'خردمند', 'درویش', 'رنگ', 'که', 'بنشست', 'و', 'برخاست', 'بختش', 'به', 'جنگ'], ['چون', 'آتش', 'برآورد', 'بیچاره', 'دود', 'فروتر', 'نشست', 'از', 'مقامی', 'که', 'بود'], ['فقیهان', 'طریق', 'جدل', 'ساختند', 'لم', 'و', 'لا', 'اسلم', 'درانداختند'], ['گشادند', 'بر', 'هم', 'در', 'فتنه', 'باز', 'به', 'لا', 'و', 'نعم', 'کرده', 'گردن', 'دراز'], ['تو', 'گفتی', 'خروسان', 'شاطر', 'به', 'جنگ', 'فتادند', 'در', 'هم', 'به', 'منقار', 'و', 'چنگ'], ['یکی', 'بی', 'خود', 'از', 'خشمناکی', 'چون', 'مست', 'یکی', 'بر', 'زمین', 'می\\u200cزند', 'هر', 'دو', 'دست'], ['فتادند', 'در', 'عقده', 'پیچ', 'پیچ', 'که', 'در', 'حل', 'آن', 'راه', 'نبردند', 'هیچ'], ['کهن', 'جامه', 'در', 'صف', 'آخرترین', 'به', 'غرش', 'در', 'آمد', 'چون', 'شیر', 'عرین'], ['بگفت', 'ای', 'صنادید', 'شرع', 'رسول', 'به', 'ابلاغ', 'تنزیل', 'و', 'فقه', 'و', 'اصول'], ['دلایل', 'قوی', 'باید', 'و', 'معنوی', 'نه', 'رگهای', 'گردن', 'به', 'حجت', 'قوی'], ['من', 'را', 'نیز', 'چوگان', 'لعب', 'است', 'و', 'گوی', 'بگفتند', 'اگر', 'نیک', 'دانی', 'بگوی'], ['به', 'کلک', 'فصاحت', 'بیانی', 'که', 'داشت', 'به', 'دلها', 'چون', 'نقش', 'نگین', 'بر', 'نگاشت'], ['سر', 'از', 'کوی', 'صورت', 'به', 'معنی', 'کشید', 'قلم', 'بر', 'سر', 'حرف', 'دعوی', 'کشید'], ['بگفتندش', 'از', 'هر', 'کنار', 'آفرین', 'که', 'بر', 'عقل', 'و', 'طبعت', 'هزار', 'آفرین'], ['سمند', 'سخن', 'تا', 'به', 'جایی', 'براند', 'که', 'قاضی', 'چون', 'خر', 'در', 'وحل', 'باز', 'ماند'], ['برون', 'آمد', 'از', 'طاق', 'و', 'دستار', 'خویش', 'به', 'اکرام', 'و', 'لطفش', 'فرستاد', 'پیش'], ['که', 'هیهات', 'قدر', 'تو', 'نشناختم', 'به', 'شکر', 'قدومت', 'نپرداختم'], ['دریغ', 'آیدم', 'با', 'چنین', 'مایه\\u200cای', 'که', 'بینم', 'تو', 'را', 'در', 'چنین', 'پایه\\u200cای'], ['معرف', 'به', 'دلداری', 'آمد', 'برش', 'که', 'دستار', 'قاضی', 'نهد', 'بر', 'سرش'], ['به', 'دست', 'و', 'زبان', 'منع', 'کردش', 'که', 'دور', 'منه', 'بر', 'سرم', 'پایبند', 'غرور'], ['که', 'فردا', 'شود', 'بر', 'کهن', 'میزران', 'به', 'دستار', 'پنجه', 'گزم', 'سر', 'گران'], ['چون', 'مولام', 'خوانند', 'و', 'صدر', 'کبیر', 'نمایند', 'مردم', 'به', 'چشمم', 'حقیر'], ['تفاوت', 'کند', 'هرگز', 'آب', 'زلال', 'گرش', 'کوزه', 'زرین', 'بود', 'یا', 'سفال'], ['خرد', 'باید', 'در', 'سر', 'مرد', 'و', 'مغز', 'نباید', 'من', 'را', 'چون', 'تو', 'دستار', 'نغز'], ['کس', 'از', 'سربزرگی', 'نباشد', 'به', 'چیز', 'کدو', 'سربزرگ', 'است', 'و', 'بی', 'مغز', 'نیز'], ['میفراز', 'گردن', 'به', 'دستار', 'و', 'ریش', 'که', 'دستار', 'پنبه\\u200cست', 'و', 'سبلت', 'حشیش'], ['به', 'صورت', 'کسانی', 'که', 'مردم', 'وشند', 'چون', 'صورت', 'همان', 'به', 'که', 'دم', 'در', 'کشند'], ['به', 'قدر', 'هنر', 'جست', 'باید', 'محل', 'بلندی', 'و', 'نحسی', 'مکن', 'چون', 'زحل'], ['نی', 'بوریا', 'را', 'بلندی', 'نکوست', 'که', 'خاصیت', 'نیشکر', 'خود', 'در', 'اوست'], ['بدین', 'عقل', 'و', 'همت', 'نخوانم', 'کست', 'و', 'اگر', 'می\\u200cرود', 'صد', 'غلام', 'از', 'پست'], ['چه', 'خوش', 'گفت', 'خرمهره\\u200cای', 'در', 'گلی', 'چون', 'برداشتش', 'پر', 'طمع', 'جاهلی'], ['من', 'را', 'کس', 'نخواهد_خریدن', 'به', 'هیچ', 'به', 'دیوانگی', 'در', 'حریرم', 'مپیچ'], ['خبزدو', 'همان', 'قدر', 'دارد', 'که', 'هست', 'وگر', 'در', 'میان', 'شقایق', 'نشست'], ['نه', 'منعم', 'به', 'مال', 'از', 'کسی', 'بهتر', 'است', 'خر', 'اگر', 'جل', 'اطلس', 'بپوشد', 'خر', 'است'], ['بدین', 'شیوه', 'مرد', 'سخنگوی', 'چست', 'به', 'آب', 'سخن', 'کینه', 'از', 'دل', 'بشست'], ['دل', 'آزرده', 'را', 'سخت', 'باشد', 'سخن', 'چون', 'خصمت', 'بیفتاد', 'سستی', 'مکن'], ['چون', 'دستت', 'رسد', 'مغز', 'دشمن', 'بر', 'آر', 'که', 'فرصت', 'فرو', 'شوید', 'از', 'دل', 'غبار'], ['چنان', 'ماند', 'قاضی', 'به', 'جورش', 'اسیر', 'که', 'گفت', 'ان', 'هذا', 'لیوم', 'عسیر'], ['به', 'دندان', 'گزید', 'از', 'تعجب', 'یدین', 'بماندش', 'در', 'او', 'دیده', 'چون', 'فرقدین'], ['وز', 'آنجا', 'جوان', 'روی', 'همت', 'بتافت', 'برون', 'رفت', 'و', 'بازش', 'نشان', 'کس', 'نیافت'], ['غریو', 'از', 'بزرگان', 'مجلس', 'بخاست', 'که', 'گویی', 'چنین', 'شوخ', 'چشم', 'از', 'کجاست'], ['نقیب', 'از', 'پیش', 'رفت', 'و', 'هر', 'سو', 'دوید', 'که', 'مردی', 'بدین', 'نعت', 'و', 'صورت', 'که', 'دید'], ['یکی', 'گفت', 'از', 'این', 'نوع', 'شیرین', 'نفس', 'در', 'این', 'شهر', 'سعدی', 'شناسیم', 'و', 'بس'], ['بر', 'آن', 'صد', 'هزار', 'آفرین', 'کاین', 'بگفت', 'حق', 'تلخ', 'بین', 'تا', 'چه', 'شیرین', 'بگفت'], ['یکی', 'پادشه\\u200cزاده', 'در', 'گنجه', 'بود', 'که', 'دور', 'از', 'تو', 'ناپاک', 'و', 'سرپنجه', 'بود'], ['به', 'مسجد', 'در', 'آمد', 'سرایان', 'و', 'مست', 'می\\u200cدر', 'سر', 'و', 'ساتکینی', 'به', 'دست'], ['به', 'مقصوره', 'در', 'پارسایی', 'مقیم', 'زبانی', 'دلاویز', 'و', 'قلبی', 'سلیم'], ['تنی', 'چند', 'بر', 'گفت', 'او', 'مجتمع', 'چون', 'عالم', 'نباشی', 'کم', 'از', 'مستمع'], ['چون', 'بی', 'عزتی', 'پیشه', 'کرد', 'آن', 'حرون', 'شدند', 'آن', 'عزیزان', 'خراب', 'اندرون'], ['چون', 'منکر', 'بود', 'پادشه', 'را', 'قدم', 'که', 'یارد', 'زد', 'از', 'امر', 'معروف', 'دم'], ['تحکم', 'کند', 'سیر', 'بر', 'بوی', 'گل', 'فرو', 'ماند', 'آواز', 'چنگ', 'از', 'دهل'], ['گرت', 'نهی', 'منکر', 'بر', 'آید', 'از', 'دست', 'نشاید', 'چون', 'بی', 'دست', 'و', 'پایان', 'نشست'], ['وگر', 'دست', 'قدرت', 'نداری', 'بگوی', 'که', 'پاکیزه', 'گردد', 'به', 'اندرز', 'خوی'], ['چون', 'دست', 'و', 'زبان', 'را', 'نماند', 'مجال', 'به', 'همت', 'نمایند', 'مردی', 'رجال'], ['یکی', 'پیش', 'دانای', 'خلوت', 'نشین', 'بنالید', 'و', 'بگریست', 'سر', 'بر', 'زمین'], ['که', 'باری', 'بر', 'این', 'رند', 'ناپاک', 'و', 'مست', 'دعا', 'کن', 'که', 'ما', 'بی', 'زبانیم', 'و', 'دست'], ['دمی', 'سوزناک', 'از', 'دلی', 'با', 'خبر', 'قوی\\u200cتر', 'که', 'هفتاد', 'تیغ', 'و', 'تبر'], ['بر', 'آورد', 'مرد', 'جهاندیده', 'دست', 'چه', 'گفت', 'ای', 'خداوند', 'بالا', 'و', 'پست'], ['خوش', 'است', 'این', 'پسر', 'وقتش', 'از', 'روزگار', 'خدایا', 'همه', 'وقت', 'او', 'خوش', 'بدار'], ['کسی', 'گفتش', 'ای', 'قدوه', 'راستی', 'بر', 'این', 'بد', 'چرا', 'نیکویی', 'خواستی'], ['چون', 'بد', 'عهد', 'را', 'نیک', 'خواهی_ز', 'بهر', 'چه', 'بد', 'خواستی', 'بر', 'سر', 'خلق', 'شهر'], ['چنین', 'گفت', 'بیننده', 'تیز', 'هوش', 'چون', 'سر', 'سخن', 'در', 'نیابی', 'مجوش'], ['به', 'طامات', 'مجلس', 'نیاراستم', 'از', 'داد', 'آفرین', 'توبه\\u200cاش', 'خواستم'], ['که', 'هر', 'گه', 'که', 'باز', 'آید', 'از', 'خوی', 'زشت', 'به', 'عیشی', 'رسد', 'جاودان', 'در', 'بهشت'], ['همین', 'پنج', 'روز', 'است', 'عیش', 'مدام', 'به', 'ترک', 'اندرش', 'عیشهای', 'مدام'], ['حدیثی', 'که', 'مرد', 'سخن', 'ساز', 'گفت', 'کسی', 'از', 'آن', 'میان', 'با', 'ملک', 'باز', 'گفت'], ['از', 'وجد', 'آب', 'در', 'چشمش', 'آمد', 'چون', 'میغ', 'ببارید', 'بر', 'چهره', 'سیل', 'دریغ'], ['به', 'نیران', 'شوق', 'اندرونش', 'بسوخت', 'حیا', 'دیده', 'بر', 'پشت', 'پایش', 'بدوخت'], ['بر', 'نیک', 'محضر', 'فرستاد', 'کس', 'در', 'توبه', 'کوبان', 'که', 'فریاد', 'رس'], ['قدم', 'رنجه', 'فرمای', 'تا', 'سر', 'نهم', 'سر', 'جهل', 'و', 'ناراستی', 'بر', 'نهم'], ['دو', 'رویه', 'ستادند', 'بر', 'در', 'سپاه', 'سخن', 'پرور', 'آمد', 'در', 'ایوان', 'شاه'], ['شکر', 'دید', 'و', 'عناب', 'و', 'شمع', 'و', 'شراب', 'ده', 'از', 'نعمت', 'آباد', 'و', 'مردم', 'خراب'], ['یکی', 'غایب', 'از', 'خود', 'یکی', 'نیم', 'مست', 'یکی', 'شعر', 'گویان', 'صراحی', 'به', 'دست'], ['از', 'سویی', 'بر', 'آورده', 'مطرب', 'خروش', 'از', 'دیگر', 'سو', 'آواز', 'ساقی', 'که', 'نوش'], ['حریفان', 'خراب', 'از', 'می\\u200cلعل', 'رنگ', 'سر', 'چنگی', 'از', 'خواب', 'در', 'بر', 'چون', 'چنگ'], ['نبود', 'از', 'ندیمان', 'گردن', 'فراز', 'به', 'جز', 'نرگس', 'آن', 'جا', 'کسی', 'دیده', 'باز'], ['دف', 'و', 'چنگ', 'با', 'یکدگر', 'سازگار', 'بر', 'آورده', 'زیر', 'از', 'میان', 'ناله', 'زار'], ['بفرمود', 'و', 'در', 'هم', 'شکستند', 'خرد', 'مبدل', 'شد', 'آن', 'عیش', 'صافی', 'به', 'درد'], ['شکستند', 'چنگ', 'و', 'گسستند', 'رود', 'به', 'در', 'کرد', 'گوینده', 'از', 'سر', 'سرود'], ['به', 'میخانه', 'در', 'سنگ', 'بر', 'دن', 'زدند', 'کدو', 'را', 'نشاندند', 'و', 'گردن', 'زدند'], ['می\\u200cلاله', 'گون', 'از', 'بط', 'سرنگون', 'روان', 'همچنان', 'که', 'از', 'بط', 'کشته', 'خون'], ['خم', 'آبستن', 'خمر', 'نه', 'ماهه', 'بود', 'در', 'آن', 'فتنه', 'دختر', 'بینداخت', 'زود'], ['شکم', 'تا', 'به', 'نافش', 'دریدند', 'مشک', 'قدح', 'را', 'بر', 'او', 'چشم', 'خونی', 'پر', 'اشک'], ['بفرمود', 'تا', 'سنگ', 'صحن', 'سرای', 'بکندند', 'و', 'کردند', 'نو', 'باز', 'جای'], ['که', 'گلگونه', 'خمر', 'یاقوت', 'فام', 'به', 'شستن', 'نمی\\u200cشد', 'از', 'روی', 'رخام'], ['عجب', 'نیست', 'بالوعه\\u200cگر', 'شد', 'خراب', 'که', 'خورد', 'در', 'آن', 'روز', 'چندان', 'شراب'], ['دیگر', 'هر', 'که', 'بربط', 'گرفتی', 'به', 'کف', 'قفا', 'خوردی', 'از', 'دست', 'مردم', 'چون', 'دف'], ['وگر', 'فاسقی', 'چنگ', 'بردی', 'به', 'دوش', 'بمالیدی', 'او', 'را', 'چون', 'طنبور', 'گوش'], ['جوان', 'سر', 'از', 'کبر', 'و', 'پندار', 'مست', 'چون', 'پیران', 'به', 'کنج', 'عبادت', 'نشست'], ['پدر', 'بارها', 'گفته', 'بودش', 'به', 'هول', 'که', 'شایسته', 'رو', 'باش', 'و', 'پاکیزه', 'قول'], ['جفای', 'پدر', 'برد', 'و', 'زندان', 'و', 'بند', 'چنان', 'سودمندش', 'نیامد', 'که', 'پند'], ['گرش', 'سخت', 'گفتی', 'سخنگوی', 'سهل', 'که', 'بیرون', 'کن', 'از', 'سر', 'جوانی', 'و', 'جهل'], ['خیال', 'و', 'غرورش', 'بر', 'آن', 'داشتی', 'که', 'درویش', 'را', 'زنده', 'نگذاشتی'], ['سپر', 'نفکند', 'شیر', 'غران', 'از', 'جنگ', 'نیندیشد', 'از', 'تیغ', 'بران', 'پلنگ'], ['به', 'نرمی', 'از', 'دشمن', 'توان', 'کرد', 'دوست', 'چون', 'با', 'دوست', 'سختی', 'کنی', 'دشمن', 'اوست'], ['چون', 'سندان', 'کسی', 'سخت', 'رویی', 'نکرد', 'که', 'خایسک', 'تأدیب', 'بر', 'سر', 'نخورد'], ['به', 'گفتن', 'درشتی', 'مکن', 'با', 'امیر', 'چون', 'بینی', 'که', 'سختی', 'کند', 'سست', 'گیر'], ['به', 'اخلاق', 'با', 'هر', 'که', 'بینی', 'بساز', 'اگر', 'زیردست', 'است', 'اگر', 'سرفراز'], ['که', 'این', 'گردن', 'از', 'نازکی', 'بر', 'کشد', 'به', 'گفتار', 'خوش', 'و', 'آن', 'سر', 'در', 'کشد'], ['به', 'شیرین', 'زبانی', 'توان', 'برد', 'گوی', 'که', 'پیوسته', 'تلخی', 'برد', 'تندخوی'], ['تو', 'شیرین', 'زبانی', 'از', 'سعدی', 'بگیر', 'ترش', 'روی', 'را', 'گو', 'به', 'تلخی', 'بمیر'], ['شکر', 'خنده\\u200cای', 'انگبین', 'می\\u200cفروخت', 'که', 'دلها', 'از', 'شیرینیش', 'می\\u200cبسوخت'], ['نباتی', 'میان', 'بسته', 'چون', 'نیشکر', 'بر', 'او', 'مشتری', 'از', 'مگس', 'بیشتر'], ['اگر', 'او', 'زهر', 'برداشتی', 'فی\\u200cالمثل', 'بخوردندی', 'از', 'دست', 'او', 'چون', 'عسل'], ['گرانی', 'نظر', 'کرد', 'در', 'کار', 'او', 'حسد', 'برد', 'بر', 'گرم', 'بازار', 'او'], ['دیگر', 'روز', 'شد', 'گرد', 'گیتی', 'دوان', 'عسل', 'بر', 'سر', 'و', 'سرکه', 'بر', 'ابروان'], ['بسی', 'گشت', 'فریادخوان', 'پیش', 'و', 'پس', 'که', 'ننشست', 'بر', 'انگبینش', 'مگس'], ['شبانگه', 'چون', 'نقدش', 'نیامد', 'به', 'دست', 'به', 'دلتنگ', 'رویی', 'به', 'کنجی', 'نشست'], ['چون', 'عاصی', 'ترش', 'کرده', 'روی', 'از', 'وعید', 'چون', 'ابروی', 'زندانیان', 'روز', 'عید'], ['زنی', 'گفت', 'بازی', 'کنان', 'شوی', 'را', 'عسل', 'تلخ', 'باشد', 'ترش', 'روی', 'را'], ['به', 'دوزخ', 'برد', 'مرد', 'را', 'خوی', 'زشت', 'که', 'اخلاق', 'نیک', 'آمده\\u200cست', 'از', 'بهشت'], ['برو', 'آب', 'گرم', 'از', 'لب', 'جوی', 'خور', 'نه', 'جلاب', 'سرد', 'ترش', 'روی', 'خور'], ['حرامت', 'بود', 'نان', 'آن', 'کس', 'چشید', 'که', 'چون', 'سفره', 'ابرو', 'به', 'هم', 'در', 'کشید'], ['مکن', 'خواجه', 'بر', 'خویشتن', 'کار', 'سخت', 'که', 'بدخوی', 'باشد', 'نگون\\u200cسار', 'بخت'], ['گرفتم', 'که', 'سیم', 'و', 'زرت', 'چیز', 'نیست', 'چون', 'سعدی', 'زبان', 'خوشت', 'نیز', 'نیست'], ['شنیدم', 'که', 'فرزانه\\u200cای', 'حق', 'پرست', 'گریبان', 'گرفتش', 'یکی', 'رند', 'مست'], ['از', 'آن', 'تیره', 'دل', 'مرد', 'صافی', 'درون', 'قفا', 'خورد', 'و', 'سر', 'بر', 'نکرد', 'از', 'سکون'], ['یکی', 'گفتش', 'آخر', 'نه', 'مردی', 'تو', 'نیز', 'تحمل', 'دریغ', 'است', 'از', 'این', 'بی', 'تمیز'], ['شنید', 'این', 'سخن', 'مرد', 'پاکیزه', 'خوی', 'بدو', 'گفت', 'از', 'این', 'نوع', 'با', 'من', 'مگوی'], ['درد', 'مست', 'نادان', 'گریبان', 'مرد', 'که', 'با', 'شیر', 'جنگی', 'سگالد', 'نبرد'], ['از', 'هشیار', 'عاقل', 'نزیبد', 'که', 'دست', 'زند', 'در', 'گریبان', 'نادان', 'مست'], ['هنرور', 'چنین', 'زندگانی', 'کند', 'جفا', 'بیند', 'و', 'مهربانی', 'کند'], ['سگی', 'پا', 'صحرانشینی', 'گزید', 'به', 'خشمی', 'که', 'زهرش', 'از', 'دندان', 'چکید'], ['شب', 'از', 'درد', 'بیچاره', 'خوابش', 'نبرد', 'به', 'خیل', 'اندرش', 'دختری', 'بود', 'خرد'], ['پدر', 'را', 'جفا', 'کرد', 'و', 'تندی', 'نمود', 'که', 'آخر', 'تو', 'را', 'نیز', 'دندان', 'نبود'], ['پس', 'از', 'گریه', 'مرد', 'پراکنده', 'روز', 'بخندید', 'کای', 'بابک', 'دلفروز'], ['مرا\\u200cگر', 'چه', 'هم', 'سلطنت', 'بود', 'و', 'بیش', 'دریغ', 'آمدم', 'کام', 'و', 'دندان', 'خویش'], ['محال', 'است', 'اگر', 'تیغ', 'بر', 'سر', 'خورم', 'که', 'دندان', 'به', 'پا', 'سگ', 'در', 'برم'], ['توان', 'کرد', 'با', 'ناکسان', 'بد', 'رگی', 'ولیکن', 'نیاید', 'از', 'مردم', 'سگی'], ['بزرگی', 'هنرمند', 'آفاق', 'بود', 'غلامش', 'نکوهیده', 'اخلاق', 'بود'], ['از', 'این', 'خفرگی', 'موی', 'کالیده\\u200cای', 'بدی', 'سرکه', 'در', 'روی', 'مالیده\\u200cای'], ['چون', 'ثعبانش', 'آلوده', 'دندان', 'به', 'زهر', 'گرو', 'برده', 'از', 'زشت', 'رویان', 'شهر'], ['مدامش', 'به', 'روی', 'آب', 'چشم', 'سبل', 'دویدی', 'از', 'بوی', 'پیاز', 'بغل'], ['گره', 'وقت', 'پختن', 'بر', 'ابرو', 'زدی', 'چون', 'پختند', 'با', 'خواجه', 'زانو', 'زدی'], ['دمادم', 'به', 'نان', 'خوردنش', 'هم', 'نشست', 'و', 'اگر', 'مردی', 'آبش', 'ندادی', 'به', 'دست'], ['نه', 'گفت', 'در', 'او', 'کار', 'کردی', 'نه', 'چوب', 'شب', 'و', 'روز', 'از', 'او', 'خانه', 'در', 'کند', 'و', 'کوب'], ['گهی', 'خار', 'و', 'خس', 'در', 'راه', 'انداختی', 'گهی', 'ماکیان', 'در', 'چه', 'انداختی'], ['از', 'سیماش', 'وحشت', 'فراز', 'آمدی', 'نرفتی', 'به', 'کاری', 'که', 'باز', 'آمدی'], ['کسی', 'گفت', 'از', 'این', 'بنده', 'بد', 'خصال', 'چه', 'خواهی_ادب', 'یا', 'هنر', 'یا', 'جمال'], ['نیرزد', 'وجودی', 'بدین', 'ناخوشی', 'که', 'جورش', 'پسندی', 'و', 'بارش', 'کشی'], ['منت', 'بنده', 'خوب', 'و', 'نیکو', 'سیر', 'به', 'دست', 'آرم', 'این', 'را', 'به', 'نخاس', 'بر'], ['و', 'اگر', 'یک', 'پشیز', 'آورد', 'سر', 'مپیچ', 'گران', 'است', 'اگر', 'راست', 'خواهی_به', 'هیچ'], ['شنید', 'این', 'سخن', 'مرد', 'نیکو', 'نهاد', 'بخندید', 'کای', 'یار', 'فرخ', 'نژاد'], ['بد', 'است', 'این', 'پسر', 'طبع', 'و', 'خویش', 'ولیک', 'من', 'را', 'زاو', 'طبیعت', 'شود', 'خوی', 'نیک'], ['چون', 'زاو', 'کرده_باشم', 'تحمل', 'بسی', 'توانم', 'جفا', 'بردن', 'از', 'هر', 'کسی'], ['تحمل', 'چون', 'زهرت', 'نماید', 'نخست', 'ولی', 'شهد', 'گردد', 'چون', 'در', 'طبع', 'رست'], ['کسی', 'راه', 'معروف', 'کرخی', 'بجست', 'که', 'بنهاد', 'معروفی', 'از', 'سر', 'نخست'], ['شنیدم', 'که', 'مهمانش', 'آمد', 'یکی', 'از', 'بیماریش', 'تا', 'به', 'مرگ', 'اندکی'], ['سرش', 'موی', 'و', 'رویش', 'صفا', 'ریخته', 'به', 'موییش', 'جان', 'در', 'تن', 'آویخته'], ['شب', 'آنجا', 'بیفکند', 'و', 'بالش', 'نهاد', 'روان', 'دست', 'در', 'بانگ', 'و', 'نالش', 'نهاد'], ['نه', 'خوابش', 'گرفتی', 'شبان', 'یک', 'نفس', 'نه', 'از', 'دست', 'فریاد', 'او', 'خواب', 'کس'], ['نهادی', 'پریشان', 'و', 'طبعی', 'درشت', 'نمی\\u200cمرد', 'و', 'خلقی', 'به', 'حجت', 'بکشت'], ['از', 'فریاد', 'و', 'نالیدن', 'و', 'خفت', 'و', 'خیز', 'گرفتند', 'از', 'او', 'خلق', 'راه', 'گریز'], ['از', 'دیار', 'مردم', 'در', 'آن', 'بقعه', 'کس', 'همان', 'ناتوان', 'ماند', 'و', 'معروف', 'و', 'بس'], ['شنیدم', 'که', 'شبها', 'از', 'خدمت', 'نخفت', 'چون', 'مردان', 'میان', 'بست', 'و', 'کرد', 'آنچه', 'گفت'], ['شبی', 'بر', 'سرش', 'لشکر', 'آورد', 'خواب', 'که', 'چند', 'آورد', 'مرد', 'ناخفته', 'تاب'], ['به', 'یک', 'دم', 'که', 'چشمانش', 'خفتن', 'گرفت', 'مسافر', 'پراکنده', 'گفتن', 'گرفت'], ['که', 'لعنت', 'بر', 'این', 'نسل', 'ناپاک', 'باد', 'که', 'نامند', 'و', 'ناموس', 'و', 'زرقند', 'و', 'باد'], ['پلید', 'اعتقادان', 'پاکیزه', 'پوش', 'فریبنده', 'پارسایی', 'فروش'], ['چه', 'داند', 'لت', 'انبانی', 'از', 'خواب', 'مست', 'که', 'بیچاره\\u200cای', 'دیده', 'بر', 'هم', 'نبست'], ['سخنهای', 'منکر', 'به', 'معروف', 'گفت', 'که', 'یک', 'دم', 'چرا', 'غافل', 'از', 'او', 'بخفت'], ['فرو', 'خورد', 'شیخ', 'این', 'حدیث', 'از', 'کرم', 'شنیدند', 'پوشیدگان', 'حرم'], ['یکی', 'گفت', 'معروف', 'را', 'در', 'نهفت', 'شنیدی', 'که', 'درویش', 'نالان', 'چه', 'گفت'], ['برو', 'زاین', 'سپس', 'گو', 'سر', 'خویش', 'گیر', 'گرانی', 'مکن', 'جای', 'دیگر', 'بمیر'], ['نکویی', 'و', 'رحمت', 'به', 'جای', 'خود', 'است', 'ولی', 'با', 'بدان', 'نیکمردی', 'بد', 'است'], ['سر', 'سفله', 'را', 'گرد', 'بالش', 'منه', 'سر', 'مردم', 'آزار', 'بر', 'سنگ', 'به'], ['مکن', 'با', 'بدان', 'نیکی', 'ای', 'نیکبخت', 'که', 'در', 'شوره', 'نادان', 'نشاند', 'درخت'], ['نگویم', 'مراعات', 'مردم', 'مکن', 'کرم', 'پیش', 'نامردمان', 'گم', 'مکن'], ['به', 'اخلاق', 'نرمی', 'مکن', 'با', 'درشت', 'که', 'سگ', 'را', 'نمالند', 'چون', 'گربه', 'پشت'], ['اگر', 'انصاف', 'خواهی_سگ', 'حق', 'شناس', 'به', 'سیرت', 'به', 'از', 'مردم', 'ناسپاس'], ['به', 'برفاب', 'رحمت', 'مکن', 'بر', 'خسیس', 'چون', 'کردی', 'مکافات', 'بر', 'یخ', 'نویس'], ['ندیدم', 'چنین', 'پیچ', 'بر', 'پیچ', 'کس', 'مکن', 'هیچ', 'رحمت', 'بر', 'این', 'هیچ', 'کس'], ['بخندید', 'و', 'گفت', 'ای', 'دلارام', 'جفت', 'پریشان', 'مشو', 'زاین', 'پریشان', 'که', 'گفت'], ['اگر', 'از', 'ناخوشی', 'کرد', 'بر', 'من', 'خروش', 'من', 'را', 'ناخوش', 'از', 'او', 'خوش', 'آمد', 'به', 'گوش'], ['جفای', 'چنین', 'کس', 'نباید', 'شنود', 'که', 'نتواند', 'از', 'بی\\u200cقراری', 'غنود'], ['چون', 'خود', 'را', 'قوی', 'حال', 'بینی', 'و', 'خوش', 'به', 'شکرانه', 'بار', 'ضعیفان', 'بکش'], ['اگر', 'خود', 'همین', 'صورتی', 'چون', 'طلسم', 'بمیری', 'و', 'اسمت', 'بمیرد', 'چون', 'جسم'], ['وگر', 'پرورانی', 'درخت', 'کرم', 'بر', 'نیکنامی', 'خوری', 'لاجرم'], ['نبینی', 'که', 'در', 'کرخ', 'تربت', 'بسی', 'است', 'به', 'جز', 'گور', 'معروف', 'معروف', 'نیست'], ['به', 'دولت', 'کسانی', 'سر', 'افراختند', 'که', 'تاج', 'تکبر', 'بینداختند'], ['تکبر', 'کند', 'مرد', 'حشمت', 'پرست', 'نداند', 'که', 'حشمت', 'به', 'حلم', 'در', 'است'], ['طمع', 'برد', 'شوخی', 'به', 'صاحبدلی', 'نبود', 'آن', 'زمان', 'در', 'میان', 'حاصلی'], ['کمربند', 'و', 'دستش', 'تهی', 'بود', 'و', 'پاک', 'که', 'زر', 'برفشاندی', 'به', 'رویش', 'چون', 'خاک'], ['برون', 'تاخت', 'خواهنده', 'خیره', 'روی', 'نکوهیدن', 'آغاز', 'کردش', 'به', 'کوی'], ['که', 'زنهار', 'از', 'این', 'کژدمان', 'خموش', 'پلنگان', 'درنده', 'صوف', 'پوش'], ['که', 'چون', 'گربه', 'زانو', 'به', 'دل', 'برنهند', 'و', 'اگر', 'صیدی', 'افتد', 'چون', 'سگ', 'در', 'جهند'], ['سوی', 'مسجد', 'آورده', 'دکان', 'شید', 'که', 'در', 'خانه', 'کمتر', 'توان', 'یافت', 'صید'], ['راه', 'کاروان', 'شیرمردان', 'زنند', 'ولی', 'جامه', 'مردم', 'اینان', 'کنند'], ['سپید', 'و', 'سیه', 'پاره', 'بر', 'دوخته', 'به', 'سالوس', 'و', 'پنهان', 'زر', 'اندوخته'], ['زهی', 'جو', 'فروشان', 'گندم', 'نمای', 'جهانگرد', 'شبکوک', 'خرمن', 'گدای'], ['مبین', 'در', 'عبادت', 'که', 'پیرند', 'و', 'سست', 'که', 'در', 'رقص', 'و', 'حالت', 'جوانند', 'و', 'چست'], ['چرا', 'کرد', 'باید', 'نماز', 'از', 'نشست', 'چون', 'در', 'رقص', 'بر', 'می\\u200cتوانند', 'جست'], ['عصای', 'کلیمند', 'بسیار', 'خوار', 'به', 'ظاهر', 'چنین', 'زرد', 'روی', 'و', 'نزار'], ['نه', 'پرهیزگار', 'و', 'نه', 'دانشورند', 'همین', 'بس', 'که', 'دنیا', 'به', 'دین', 'می\\u200cخورند'], ['عبایی', 'بلیلانه', 'در', 'تن', 'کنند', 'به', 'دخل', 'حبش', 'جامه', 'زن', 'کنند'], ['از', 'سنت', 'نبینی', 'در', 'ایشان', 'اثر', 'مگر', 'خواب', 'پیشین', 'و', 'نان', 'سحر'], ['شکم', 'تا', 'سر', 'آکنده', 'از', 'لقمه', 'تنگ', 'چون', 'زنبیل', 'دریوزه', 'هفتاد', 'رنگ'], ['نخواهم_در', 'این', 'وصف', 'از', 'این', 'بیش', 'گفت', 'که', 'شنعت', 'بود', 'سیرت', 'خویش', 'گفت'], ['فرو', 'گفت', 'از', 'این', 'شیوه', 'نادیده', 'گوی', 'نبیند', 'هنر', 'دیده', 'عیبجوی'], ['یکی', 'کرده', 'بی', 'آبرویی', 'بسی', 'چه', 'غم', 'داردش', 'از', 'آبروی', 'کسی'], ['مریدی', 'به', 'شیخ', 'این', 'سخن', 'نقل', 'کرد', 'اگر', 'انصاف', 'پرسی', 'نه', 'از', 'عقل', 'کرد'], ['بدی', 'در', 'قفا', 'عیب', 'من', 'کرد', 'و', 'خفت', 'بتر', 'زاو', 'قرینی', 'که', 'آورد', 'و', 'گفت'], ['یکی', 'تیری', 'افکند', 'و', 'در', 'راه', 'فتاد', 'وجودم', 'نیازرد', 'و', 'رنجم', 'نداد'], ['تو', 'برداشتی', 'و', 'آمدی', 'سوی', 'من', 'همی', 'در', 'سپوزی', 'به', 'پهلوی', 'من'], ['بخندید', 'صاحبدل', 'نیکخوی', 'که', 'سهل', 'است', 'از', 'این', 'صعب\\u200cتر', 'گو', 'بگوی'], ['هنوز', 'آنچه', 'گفت', 'از', 'بدم', 'اندکی', 'است', 'از', 'آنها', 'که', 'من', 'دانم', 'از', 'صد', 'یکی', 'است'], ['از', 'روی', 'گمان', 'بر', 'من', 'اینها', 'که', 'بست', 'من', 'از', 'خود', 'یقین', 'می\\u200cشناسم', 'که', 'هست'], ['او', 'امسال', 'پیوست', 'با', 'ما', 'وصال', 'کجا', 'داندم', 'عیب', 'هفتاد', 'سال'], ['به', 'از', 'من', 'کس', 'در', 'جهان', 'عیب', 'من', 'نداند', 'به', 'جز', 'عالم', 'الغیب', 'من'], ['ندیدم', 'چنین', 'نیک', 'پندار', 'کس', 'که', 'پنداشت', 'عیب', 'من', 'این', 'است', 'و', 'بس'], ['به', 'محشر', 'گواه', 'گناهم\\u200cگر', 'اوست', 'از', 'دوزخ', 'نترسم', 'که', 'کارم', 'نکوست'], ['گرم', 'عیب', 'گوید', 'بد', 'اندیش', 'من', 'بیا', 'گو', 'ببر', 'نسخه', 'از', 'پیش', 'من'], ['کسان', 'مرد', 'راه', 'خدا', 'بوده\\u200cاند', 'که', 'برجاس', 'تیر', 'بلا', 'بوده\\u200cاند'], ['زبون', 'باش', 'چون', 'پوستینت', 'درند', 'که', 'صاحبدلان', 'بار', 'شوخان', 'برند'], ['اگر', 'از', 'خاک', 'مردان', 'سبویی', 'کنند', 'به', 'سنگش', 'ملامت', 'کنان', 'بشکنند'], ['ملک', 'صالح', 'از', 'پادشاهان', 'شام', 'برون', 'آمدی', 'صبحدم', 'با', 'غلام'], ['بگشتی', 'در', 'اطراف', 'بازار', 'و', 'کوی', 'به', 'رسم', 'عرب', 'نیمه', 'بر', 'بسته', 'روی'], ['که', 'صاحب', 'نظر', 'بود', 'و', 'درویش', 'دوست', 'هر', 'آن', 'کاین', 'دو', 'دارد', 'ملک', 'صالح', 'اوست'], ['دو', 'درویش', 'در', 'مسجدی', 'خفته', 'یافت', 'پریشان', 'دل', 'و', 'خاطر', 'آشفته', 'یافت'], ['شب', 'سردشان', 'دیده', 'نابرده', 'خواب', 'چون', 'حربا', 'تأمل', 'کنان', 'آفتاب'], ['یکی', 'زآن', 'دو', 'می\\u200cگفت', 'با', 'دیگری', 'که', 'هم', 'روز', 'محشر', 'بود', 'داوری'], ['اگر', 'این', 'پادشاهان', 'گردن', 'فراز', 'که', 'در', 'لهو', 'و', 'عیشند', 'و', 'با', 'کام', 'و', 'ناز'], ['در', 'آیند', 'با', 'عاجزان', 'در', 'بهشت', 'من', 'از', 'گور', 'سر', 'بر', 'نگیرم', 'از', 'خشت'], ['بهشت', 'برین', 'ملک', 'و', 'مأوای', 'ماست', 'که', 'بند', 'غم', 'امروز', 'بر', 'پا', 'ماست'], ['همه', 'عمر', 'از', 'اینان', 'چه', 'دیدی', 'خوشی', 'که', 'در', 'آخرت', 'نیز', 'زحمت', 'کشی'], ['اگر', 'صالح', 'آنجا', 'به', 'دیوار', 'باغ', 'بر', 'آید', 'به', 'کفشش', 'بدرم', 'دماغ'], ['چون', 'مرد', 'این', 'سخن', 'گفت', 'و', 'صالح', 'شنید', 'دیگر', 'بودن', 'آنجا', 'مصالح', 'ندید'], ['دمی', 'رفت', 'تا', 'چشمه', 'آفتاب', 'از', 'چشم', 'خلایق', 'فرو', 'شست', 'خواب'], ['دوان', 'هر', 'دو', 'را', 'کس', 'فرستاد', 'و', 'خواند', 'به', 'هیبت', 'نشست', 'و', 'به', 'حرمت', 'نشاند'], ['بر', 'ایشان', 'ببارید', 'باران', 'جود', 'فرو', 'شستشان', 'گرد', 'ذل', 'از', 'وجود'], ['پس', 'از', 'رنج', 'سرما', 'و', 'باران', 'و', 'سیل', 'نشستند', 'با', 'نامداران', 'خیل'], ['گدایان', 'بی', 'جامه', 'شب', 'کرده', 'روز', 'معطر', 'کنان', 'جامه', 'بر', 'عود', 'سوز'], ['یکی', 'گفت', 'از', 'اینان', 'ملک', 'را', 'نهان', 'که\\u200cای', 'حلقه', 'در', 'گوش', 'حکمت', 'جهان'], ['پسندیدگان', 'در', 'بزرگی', 'رسند', 'از', 'ما', 'بندگانت', 'چه', 'آمد', 'پسند'], ['شهنشه', 'از', 'شادی', 'چون', 'گل', 'بر', 'شکفت', 'بخندید', 'در', 'روی', 'درویش', 'و', 'گفت'], ['من', 'آن', 'کس', 'نیم', 'که', 'از', 'غرور', 'حشم', 'از', 'بیچارگان', 'روی', 'در', 'هم', 'کشم'], ['تو', 'هم', 'با', 'من', 'از', 'سر', 'بنه', 'خوی', 'زشت', 'که', 'ناسازگاری', 'کنی', 'در', 'بهشت'], ['من', 'امروز', 'کردم', 'در', 'صلح', 'باز', 'تو', 'فردا', 'مکن', 'در', 'به', 'رویم', 'فراز'], ['چنین', 'راه', 'اگر', 'مقبلی', 'پیش', 'گیر', 'شرف', 'بایدت', 'دست', 'درویش', 'گیر'], ['بر', 'از', 'شاخ', 'طوبی', 'کسی', 'بر', 'نداشت', 'که', 'امروز', 'تخم', 'ارادت', 'نکاشت'], ['ارادت', 'نداری', 'سعادت', 'مجوی', 'به', 'چوگان', 'خدمت', 'توان', 'برد', 'گوی'], ['تو', 'را', 'کی', 'بود', 'چون', 'چراغ', 'التهاب', 'که', 'از', 'خود', 'پری', 'همچو', 'قندیل', 'از', 'آب'], ['وجودی', 'دهد', 'روشنایی', 'به', 'جمع', 'که', 'سوزیش', 'در', 'سینه', 'باشد', 'چون', 'شمع'], ['یکی', 'در', 'نجوم', 'اندکی', 'دست', 'داشت', 'ولی', 'از', 'تکبر', 'سری', 'مست', 'داشت'], ['بر', 'کوشیار', 'آمد', 'از', 'راه', 'دور', 'دلی', 'پر', 'ارادت', 'سری', 'پر', 'غرور'], ['خردمند', 'از', 'او', 'دیده', 'بردوختی', 'یکی', 'حرف', 'در', 'او', 'نیاموختی'], ['چون', 'بی', 'بهره', 'عزم', 'سفر', 'کرد', 'باز', 'بدو', 'گفت', 'دانای', 'گردن', 'فراز'], ['تو', 'خود', 'را', 'گمان', 'برده\\u200cای', 'پر', 'خرد', 'انائی', 'که', 'پر', 'شد', 'دیگر', 'چون', 'برد'], ['از', 'دعوی', 'پری', 'زان', 'تهی', 'می\\u200cروی', 'تهی', 'آی', 'تا', 'پر', 'معانی', 'شوی'], ['از', 'هستی', 'در', 'آفاق', 'سعدی', 'صفت', 'تهی', 'گرد', 'و', 'باز', 'آی', 'پر', 'معرفت'], ['به', 'خشم', 'از', 'ملک', 'بنده\\u200cای', 'سربتافت', 'بفرمود', 'جستن', 'کسش', 'در', 'نیافت'], ['چون', 'بازآمد', 'از', 'راه', 'خشم', 'و', 'ستیز', 'به', 'شمشیر', 'زن', 'گفت', 'خونش', 'بریز'], ['به', 'خون', 'تشنه', 'جلاد', 'نامهربان', 'برون', 'کرد', 'دشنه', 'چون', 'تشنه', 'زبان'], ['شنیدم', 'که', 'گفت', 'از', 'دل', 'تنگ', 'ریش', 'خدایا', 'بحل', 'کردمش', 'خون', 'خویش'], ['که', 'پیوسته', 'در', 'نعمت', 'و', 'ناز', 'و', 'نام', 'در', 'اقبال', 'او', 'بوده\\u200cام', 'دوستکام'], ['مبادا', 'که', 'فردا', 'به', 'خون', 'منش', 'بگیرند', 'و', 'خرم', 'شود', 'دشمنش'], ['ملک', 'را', 'چون', 'گفت', 'او', 'آمد', 'به', 'گوش', 'دیگر', 'دیگ', 'خشمش', 'نیاورد', 'جوش'], ['بسی', 'بر', 'سرش', 'داد', 'و', 'بر', 'دیده', 'بوس', 'خداوند', 'رایت', 'شد', 'و', 'طبل', 'و', 'کوس'], ['به', 'رفق', 'از', 'چنان', 'سهمگن', 'جایگاه', 'رسانید', 'دهرش', 'بدان', 'پایگاه'], ['غرض', 'زین', 'حدیث', 'آن', 'که', 'گفتار', 'نرم', 'چون', 'آب', 'است', 'بر', 'آتش', 'مرد', 'گرم'], ['تواضع', 'کن', 'ای', 'دوست', 'با', 'خصم', 'تند', 'که', 'نرمی', 'کند', 'تیغ', 'برنده', 'کند'], ['نبینی', 'که', 'در', 'معرض', 'تیغ', 'و', 'تیر', 'بپوشند', 'خفتان', 'صد', 'تو', 'حریر'], ['از', 'ویرانه', 'عارفی', 'ژنده', 'پوش', 'یکی', 'را', 'نباح', 'سگ', 'آمد', 'به', 'گوش'], ['به', 'دل', 'گفت', 'کوی', 'سگ', 'اینجا', 'چراست', 'درآمد', 'که', 'درویش', 'صالح', 'کجاست'], ['نشان', 'سگ', 'از', 'پیش', 'و', 'از', 'پس', 'ندید', 'به', 'جز', 'عارف', 'آنجا', 'دیگر', 'کس', 'ندید'], ['خجل', 'باز', 'گردیدن', 'آغاز', 'کرد', 'که', 'شرم', 'آمدش', 'بحث', 'این', 'راز', 'کرد'], ['شنید', 'از', 'درون', 'عارف', 'آواز', 'پا', 'هلا', 'گفت', 'بر', 'در', 'چه', 'پایی', 'در', 'آی'], ['مپندار', 'ای', 'دیده', 'روشنم', 'که', 'از', 'ایدر', 'سگ', 'آواز', 'کرد', 'این', 'منم'], ['چون', 'دیدم', 'که', 'بیچارگی', 'می\\u200cخرد', 'نهادم', 'از', 'سر', 'کبر', 'و', 'رای', 'و', 'خرد'], ['چون', 'سگ', 'بر', 'درش', 'بانگ', 'کردم', 'بسی', 'که', 'مسکین\\u200cتر', 'از', 'سگ', 'ندیدم', 'کسی'], ['چون', 'خواهی_که', 'در', 'قدر', 'والا', 'رسی', 'از', 'شیب', 'تواضع', 'به', 'بالا', 'رسی'], ['در', 'این', 'حضرت', 'آنان', 'گرفتند', 'صدر', 'که', 'خود', 'را', 'فروتر', 'نهادند', 'قدر'], ['چون', 'سیل', 'در', 'آمد', 'به', 'هول', 'و', 'نهیب', 'فتاد', 'از', 'بلندی', 'به', 'سر', 'در', 'نشیب'], ['چون', 'شبنم', 'بیفتاد', 'مسکین', 'و', 'خرد', 'به', 'مهر', 'آسمانش', 'به', 'عیوق', 'برد'], ['گروهی', 'برآنند', 'از', 'اهل', 'سخن', 'که', 'حاتم', 'اصم', 'بود', 'باور', 'مکن'], ['برآمد', 'طنین', 'مگس', 'بامداد', 'که', 'در', 'چنبر', 'عنکبوتی', 'فتاد'], ['همه', 'ضعف', 'و', 'خاموشیش', 'کید', 'بود', 'مگس', 'قند', 'پنداشتش', 'قید', 'بود'], ['نگه', 'کرد', 'شیخ', 'از', 'سر', 'اعتبار', 'که\\u200cای', 'پایبند', 'طمع', 'پا', 'دار'], ['نه', 'هر', 'جا', 'شکر', 'باشد', 'و', 'شهد', 'و', 'قند', 'که', 'در', 'گوشه\\u200cها', 'دامیار', 'است', 'و', 'بند'], ['یکی', 'گفت', 'از', 'آن', 'حلقه', 'اهل', 'رای', 'عجب', 'دارم', 'ای', 'مرد', 'راه', 'خدای'], ['مگس', 'را', 'تو', 'چون', 'فهم', 'کردی', 'خروش', 'که', 'ما', 'را', 'به', 'دشواری', 'آمد', 'به', 'گوش'], ['تو', 'آگاه', 'گشتی', 'به', 'بانگ', 'مگس', 'نشاید', 'اصم', 'خواندنت', 'زین', 'سپس'], ['تبسم', 'کنان', 'گفت', 'ای', 'تیز', 'هوش', 'اصم', 'به', 'که', 'گفتار', 'باطل', 'نیوش'], ['کسانی', 'که', 'با', 'ما', 'به', 'خلوت', 'درند', 'من', 'را', 'عیب', 'پوش', 'و', 'ثنا', 'گسترند'], ['چون', 'پوشیده', 'دارند', 'اخلاق', 'دون', 'کند', 'هستیم', 'زیر', 'طبع', 'زبون'], ['فرا', 'می\\u200cنمایم', 'که', 'می\\u200cنشنوم', 'مگر', 'که', 'از', 'تکلف', 'مبرا', 'شوم'], ['چون', 'کالیو', 'دانندم', 'اهل', 'نشست', 'بگویند', 'نیک', 'و', 'بدم', 'هر', 'چه', 'هست'], ['اگر', 'بد', 'شنیدن', 'نیاید', 'خوشم', 'از', 'کردار', 'بد', 'دامن', 'در', 'کشم'], ['به', 'حبل', 'ستایش', 'فرا', 'چه', 'مشو', 'چون', 'حاتم', 'اصم', 'باش', 'و', 'عیبت', 'شنو'], ['عزیزی', 'در', 'اقصای', 'تبریز', 'بود', 'که', 'همواره', 'بیدار', 'و', 'شب', 'خیز', 'بود'], ['شبی', 'دید', 'جایی', 'که', 'دزدی', 'کمند', 'بپیچید', 'و', 'بر', 'طرف', 'بامی', 'فکند'], ['کسان', 'را', 'خبر', 'کرد', 'و', 'آشوب', 'خاست', 'از', 'هر', 'جانبی', 'مرد', 'با', 'چوب', 'خاست'], ['چون', 'نامردم', 'آواز', 'مردم', 'شنید', 'میان', 'خطر', 'جای', 'بودن', 'ندید'], ['نهیبی', 'از', 'آن', 'گیر', 'و', 'دار', 'آمدش', 'گریز', 'به', 'وقت', 'اختیار', 'آمدش'], ['از', 'رحمت', 'دل', 'پارسا', 'موم', 'شد', 'که', 'شب', 'دزد', 'بیچاره', 'محروم', 'شد'], ['به', 'تاریکی', 'از', 'پی', 'فراز', 'آمدش', 'به', 'راهی', 'دیگر', 'پیشباز', 'آمدش'], ['که', 'یارا', 'مرو', 'کآشنای', 'توام', 'به', 'مردانگی', 'خاک', 'پا', 'توام'], ['ندیدم', 'به', 'مردانگی', 'چون', 'تو', 'کس', 'که', 'جنگاوری', 'بر', 'دو', 'نوع', 'است', 'و', 'بس'], ['یکی', 'پیش', 'خصم', 'آمدن', 'مردوار', 'دوم', 'جان', 'به', 'در', 'بردن', 'از', 'کارزار'], ['بر', 'این', 'هر', 'دو', 'خصلت', 'غلام', 'توام', 'چه', 'نامی', 'که', 'مولای', 'نام', 'توام'], ['گرت', 'رای', 'باشد', 'به', 'حکم', 'کرم', 'به', 'جایی', 'که', 'می\\u200cدانمت', 'راه', 'برم'], ['سرایی', 'است', 'کوتاه', 'و', 'در', 'بسته', 'سخت', 'نپندارم', 'آنجا', 'خداوند', 'رخت'], ['کلوخی', 'دو', 'بالای', 'هم', 'بر', 'نهیم', 'یکی', 'پا', 'بر', 'دوش', 'دیگر', 'نهیم'], ['به', 'چندان', 'که', 'در', 'دستت', 'افتد', 'بساز', 'از', 'آن', 'به', 'که', 'گردی', 'تهیدست', 'باز'], ['به', 'دلداری', 'و', 'چاپلوسی', 'و', 'فن', 'کشیدش', 'سوی', 'خانه', 'خویشتن'], ['جوانمرد', 'شبرو', 'فرو', 'داشت', 'دوش', 'به', 'کتفش', 'برآمد', 'خداوند', 'هوش'], ['به', 'غلطاق', 'و', 'دستار', 'و', 'رختی', 'که', 'داشت', 'از', 'بالا', 'به', 'دامان', 'او', 'در', 'گذاشت'], ['وز', 'آنجا', 'برآورد', 'غوغا', 'که', 'دزد', 'ثواب', 'ای', 'جوانان', 'و', 'یاری', 'و', 'مزد'], ['به', 'در', 'جست', 'از', 'آشوب', 'دزد', 'دغل', 'دوان', 'جامه', 'پارسا', 'در', 'بغل'], ['دل', 'آسوده', 'شد', 'مرد', 'نیک', 'اعتقاد', 'که', 'سرگشته\\u200cای', 'را', 'برآمد', 'مراد'], ['خبیثی', 'که', 'بر', 'کس', 'ترحم', 'نکرد', 'ببخشود', 'بر', 'او', 'دل', 'نیکمرد'], ['عجب', 'ناید', 'از', 'سیرت', 'بخردان', 'که', 'نیکی', 'کنند', 'از', 'کرم', 'با', 'بدان'], ['در', 'اقبال', 'نیکان', 'بدان', 'می\\u200cزیند', 'وگر', 'چه', 'بدان', 'اهل', 'نیکی', 'نیند'], ['یکی', 'را', 'چون', 'سعدی', 'دلی', 'ساده', 'بود', 'که', 'با', 'ساده', 'رویی', 'در', 'افتاده_بود'], ['جفا', 'بردی', 'از', 'دشمن', 'سختگوی', 'از', 'چوگان', 'سختی', 'بخستی', 'چون', 'گوی'], ['از', 'کس', 'چین', 'بر', 'ابرو', 'نینداختی', 'از', 'یاری', 'به', 'تندی', 'نپرداختی'], ['یکی', 'گفتش', 'آخر', 'تو', 'را', 'ننگ', 'نیست', 'خبر', 'زین', 'همه', 'سیلی', 'و', 'سنگ', 'نیست'], ['تن', 'خویشتن', 'سغبه', 'دونان', 'کنند', 'از', 'دشمن', 'تحمل', 'زبونان', 'کنند'], ['نشاید', 'از', 'دشمن', 'خطا', 'درگذاشت', 'که', 'گویند', 'یارا', 'و', 'مردی', 'نداشت'], ['بدو', 'گفت', 'شیدای', 'شوریده', 'سر', 'جوابی', 'که', 'شاید', 'نبشتن', 'به', 'زر'], ['دلم', 'خانه', 'مهر', 'یار', 'است', 'و', 'بس', 'از', 'آن', 'می\\u200cنگنجد', 'در', 'او', 'کین', 'کس'], ['چه', 'خوش', 'گفت', 'بهلول', 'فرخنده', 'خوی', 'چون', 'بگذشت', 'بر', 'عارفی', 'جنگجوی'], ['اگر', 'این', 'مدعی', 'دوست', 'بشناختی', 'به', 'پیکار', 'دشمن', 'نپرداختی'], ['اگر', 'از', 'هستی', 'حق', 'خبر', 'داشتی', 'همه', 'خلق', 'را', 'نیست', 'پنداشتی'], ['شنیدم', 'که', 'لقمان', 'سیه\\u200cفام', 'بود', 'نه', 'تن\\u200cپرور', 'و', 'نازک', 'اندام', 'بود'], ['یکی', 'بنده', 'خویش', 'پنداشتش', 'زبون', 'دید', 'و', 'در', 'کار', 'گل', 'داشتش'], ['جفا', 'دید', 'و', 'با', 'جور', 'و', 'قهرش', 'بساخت', 'به', 'سالی', 'سرایی', 'از', 'بهرش', 'بساخت'], ['چون', 'پیش', 'آمدش', 'بنده', 'رفته', 'باز', 'از', 'لقمانش', 'آمد', 'نهیبی', 'فراز'], ['به', 'پایش', 'در', 'افتاد', 'و', 'پوزش', 'نمود', 'بخندید', 'لقمان', 'که', 'پوزش', 'چه', 'سود'], ['به', 'سالی', 'از', 'جورت', 'جگر', 'خون', 'کنم', 'به', 'یک', 'ساعت', 'از', 'دل', 'به', 'در', 'چون', 'کنم'], ['ولی', 'هم', 'ببخشایم', 'ای', 'نیکمرد', 'که', 'سود', 'تو', 'ما', 'را', 'زیانی', 'نکرد'], ['تو', 'آباد', 'کردی', 'شبستان', 'خویش', 'من', 'را', 'حکمت', 'و', 'معرفت', 'گشت', 'بیش'], ['غلامی', 'است', 'در', 'خیلم', 'ای', 'نیکبخت', 'که', 'فرمایمش', 'وقتها', 'کار', 'سخت'], ['دیگر', 'راه', 'نیازارمش', 'سخت', 'دل', 'چون', 'یاد', 'آیدم', 'سختی', 'کار', 'گل'], ['هر', 'آن', 'کس', 'که', 'جور', 'بزرگان', 'نبرد', 'نسوزد', 'دلش', 'بر', 'ضعیفان', 'خرد'], ['اگر', 'از', 'حاکمان', 'سختت', 'آید', 'سخن', 'تو', 'بر', 'زیردستان', 'درشتی', 'مکن'], ['نکو', 'گفت', 'بهرام', 'شه', 'با', 'وزیر', 'که', 'دشوار', 'با', 'زیردستان', 'مگیر'], ['شنیدم', 'که', 'در', 'دشت', 'صنعا', 'جنید', 'سگی', 'دید', 'برکنده', 'دندان', 'صید'], ['از', 'نیروی', 'سر', 'پنجه', 'شیر', 'گیر', 'فرومانده', 'عاجز', 'چون', 'روباه', 'پیر'], ['پس', 'از', 'غرم', 'و', 'آهو', 'گرفتن', 'به', 'پی', 'لگد', 'خوردی', 'از', 'گوسفندان', 'حی'], ['چون', 'مسکین', 'و', 'بی', 'طاقتش', 'دید', 'و', 'ریش', 'بدو', 'داد', 'یک', 'نیمه', 'از', 'زاد', 'خویش'], ['شنیدم', 'که', 'می\\u200cگفت', 'و', 'خوش', 'می\\u200cگریست', 'که', 'داند', 'که', 'بهتر', 'از', 'ما', 'هر', 'دو', 'کیست'], ['به', 'ظاهر', 'من', 'امروز', 'از', 'این', 'بهترم', 'دیگر', 'تا', 'چه', 'راند', 'قضا', 'بر', 'سرم'], ['گرم', 'پا', 'ایمان', 'نلغزد', 'از', 'جای', 'به', 'سر', 'بر', 'نهم', 'تاج', 'عفو', 'خدای'], ['وگر', 'کسوت', 'معرفت', 'در', 'برم', 'نماند', 'به', 'بسیار', 'از', 'این', 'کمترم'], ['که', 'سگ', 'با', 'همه', 'زشت', 'نامی', 'چون', 'مرد', 'مر', 'او', 'را', 'به', 'دوزخ', 'نخواهند_برد'], ['راه', 'این', 'است', 'سعدی', 'که', 'مردان', 'راه', 'به', 'عزت', 'نکردند', 'در', 'خود', 'نگاه'], ['از\\u200d\\u200d\\u200d\\u200d\\u200d\\u200d\\u200d\\u200d', 'آن', 'بر', 'ملائک', 'شرف', 'داشتند', 'که', 'خود', 'را', 'به', 'از', 'سگ', 'نپنداشتند'], ['یکی', 'بربطی', 'در', 'بغل', 'داشت', 'مست', 'به', 'شب', 'در', 'سر', 'پارسایی', 'شکست'], ['چون', 'روز', 'آمد', 'آن', 'نیکمرد', 'سلیم', 'بر', 'سنگدل', 'برد', 'یک', 'مشت', 'سیم'], ['که', 'دوشینه', 'معذور', 'بودی', 'و', 'مست', 'تو', 'را', 'و', 'من', 'را', 'بربط', 'و', 'سر', 'شکست'], ['من', 'را', 'به', 'شد', 'آن', 'زخم', 'و', 'برخاست', 'بیم', 'تو', 'را', 'به', 'نخواهد_شد', 'الا', 'به', 'سیم'], ['از', 'این', 'دوستان', 'خدا', 'بر', 'سرند', 'که', 'از', 'خلق', 'بسیار', 'بر', 'سر', 'خورند'], ['شنیدم', 'که', 'در', 'خاک', 'وخش', 'از', 'مهان', 'یکی', 'بود', 'در', 'کنج', 'خلوت', 'نهان'], ['مجرد', 'به', 'معنی', 'نه', 'عارف', 'به', 'دلق', 'که', 'بیرون', 'کند', 'دست', 'حاجت', 'به', 'خلق'], ['سعادت', 'گشاده', 'دری', 'سوی', 'او', 'در', 'از', 'دیگران', 'بسته', 'بر', 'روی', 'او'], ['زبان', 'آوری', 'بی\\u200cخرد', 'سعی', 'کرد', 'از', 'شوخی', 'به', 'بد', 'گفتن', 'نیکمرد'], ['که', 'زنهار', 'از', 'این', 'مکر', 'و', 'دستان', 'و', 'ریو', 'بجای', 'سلیمان', 'نشستن', 'چون', 'دیو'], ['دمادم', 'بشویند', 'چون', 'گربه', 'روی', 'طمع', 'کرده', 'در', 'صید', 'موشان', 'کوی'], ['ریاضت', 'کش', 'از', 'بهر', 'نام', 'و', 'غرور', 'که', 'طبل', 'تهی', 'را', 'رود', 'بانگ', 'دور'], ['همی', 'گفت', 'و', 'خلقی', 'بر', 'او', 'انجمن', 'بر', 'ایشان', 'تفرج', 'کنان', 'مرد', 'و', 'زن'], ['شنیدم', 'که', 'بگریست', 'دانای', 'وخش', 'که', 'یارب', 'مر', 'این', 'بنده', 'را', 'توبه', 'بخش'], ['وگر', 'راست', 'گفت', 'ای', 'خداوند', 'پاک', 'من', 'را', 'توبه', 'ده', 'تا', 'نگردم', 'هلاک'], ['پسند', 'آمد', 'از', 'عیب', 'جوی', 'خودم', 'که', 'معلوم', 'من', 'کرد', 'خوی', 'بدم'], ['اگر', 'آنی', 'که', 'دشمنت', 'گوید', 'مرنج', 'وگر', 'نیستی', 'گو', 'برو', 'بادسنج'], ['اگر', 'ابلهی', 'مشک', 'را', 'گنده', 'گفت', 'تو', 'مجموع', 'باش', 'او', 'پراکنده', 'گفت'], ['وگر', 'می\\u200cرود', 'در', 'پیاز', 'این', 'سخن', 'چنین', 'است', 'گو', 'گنده', 'مغزی', 'مکن'], ['نگیرد', 'خردمند', 'روشن', 'ضمیر', 'زبان', 'بند', 'دشمن', 'از', 'هنگامه', 'گیر'], ['نه', 'آیین', 'عقل', 'است', 'و', 'رای', 'و', 'خرد', 'که', 'دانا', 'فریب', 'مشعبد', 'خورد'], ['پس', 'کار', 'خویش', 'آنکه', 'عاقل', 'نشست', 'زبان', 'بداندیش', 'بر', 'خود', 'ببست'], ['تو', 'نیکو', 'روش', 'باش', 'تا', 'بد', 'سگال', 'نیابد', 'به', 'نقص', 'تو', 'گفتن', 'مجال'], ['چون', 'دشوارت', 'آمد', 'از', 'دشمن', 'سخن', 'نگر', 'تا', 'چه', 'عیبت', 'گرفت', 'آن', 'مکن'], ['جز', 'آن', 'کس', 'ندانم', 'نکو', 'گوی', 'من', 'که', 'روشن', 'کند', 'بر', 'من', 'آهوی', 'من'], ['کسی', 'مشکلی', 'برد', 'پیش', 'علی', 'مگر', 'مشکلش', 'را', 'کند', 'منجلی'], ['امیر', 'عدوبند', 'کشور', 'گشای', 'جوابش', 'بگفت', 'از', 'سر', 'علم', 'و', 'رای'], ['شنیدم', 'که', 'شخصی', 'در', 'آن', 'انجمن', 'بگفتا', 'چنین', 'نیست', 'یا', 'باالحسن'], ['نرنجید', 'از', 'او', 'حیدر', 'نامجوی', 'بگفت', 'اگر', 'تو', 'دانی', 'از', 'این', 'به', 'بگوی'], ['بگفت', 'آنچه', 'دانست', 'و', 'بایسته', 'گفت', 'به', 'گل', 'چشمه', 'خور', 'نشاید', 'نهفت'], ['پسندید', 'از', 'او', 'شاه', 'مردان', 'جواب', 'که', 'من', 'بر', 'خطا', 'بودم', 'او', 'بر', 'صواب'], ['به', 'از', 'ما', 'سخنگوی', 'دانا', 'یکی', 'است', 'که', 'بالاتر', 'از', 'علم', 'او', 'علم', 'نیست'], ['اگر', 'امروز', 'بودی', 'خداوند', 'جاه', 'نکردی', 'خود', 'از', 'کبر', 'در', 'او', 'نگاه'], ['به', 'در', 'کردی', 'از', 'بارگه', 'حاجبش', 'فرو', 'کوفتندی', 'به', 'ناواجبش'], ['که', 'من', 'بعد', 'بی', 'آبرویی', 'مکن', 'ادب', 'نیست', 'پیش', 'بزرگان', 'سخن'], ['یکی', 'را', 'که', 'پندار', 'در', 'سر', 'بود', 'مپندار', 'هرگز', 'که', 'حق', 'بشنود'], ['از', 'علمش', 'ملال', 'آید', 'از', 'وعظ', 'ننگ', 'شقایق', 'به', 'باران', 'نروید', 'از', 'سنگ'], ['گرت', 'در', 'دریای', 'فضل', 'است', 'خیز', 'به', 'تذکیر', 'در', 'پا', 'درویش', 'ریز'], ['نبینی', 'که', 'از', 'خاک', 'افتاده', 'خوار', 'بروید', 'گل', 'و', 'بشکفد', 'نوبهار'], ['مریز', 'ای', 'حکیم', 'آستینهای', 'در', 'چون', 'می\\u200cبینی', 'از', 'خویشتن', 'خواجه', 'پر'], ['به', 'چشم', 'کسان', 'در', 'نیاید', 'کسی', 'که', 'از', 'خود', 'بزرگی', 'نماید', 'بسی'], ['مگو', 'تا', 'بگویند', 'شکرت', 'هزار', 'چون', 'خود', 'گفتی', 'از', 'کس', 'توقع', 'مدار'], ['گدایی', 'شنیدم', 'که', 'در', 'تنگ', 'جای', 'نهادش', 'عمر', 'پا', 'بر', 'پشت', 'پا'], ['ندانست', 'درویش', 'بیچاره', 'کاوست', 'که', 'رنجیده', 'دشمن', 'نداند', 'از', 'دوست'], ['برآشفت', 'بر', 'او', 'که', 'کوری', 'مگر', 'بدو', 'گفت', 'سالار', 'عادل', 'عمر'], ['نه', 'کورم', 'ولیکن', 'خطا', 'رفت', 'کار', 'ندانستم', 'از', 'من', 'گنه', 'در', 'گذار'], ['چه', 'منصف', 'بزرگان', 'دین', 'بوده\\u200cاند', 'که', 'با', 'زیردستان', 'چنین', 'بوده\\u200cاند'], ['فروتن', 'بود', 'هوشمند', 'گزین', 'نهد', 'شاخ', 'پر', 'میوه', 'سر', 'بر', 'زمین'], ['بنازند', 'فردا', 'تواضع', 'کنان', 'نگون', 'از', 'خجالت', 'سر', 'گردنان'], ['اگر', 'می\\u200cبترسی', 'از', 'روز', 'شمار', 'از', 'آن', 'که', 'از', 'تو', 'ترسد', 'خطا', 'در', 'گذار'], ['مکن', 'خیره', 'بر', 'زیر', 'دستان', 'ستم', 'که', 'دستی', 'است', 'بالای', 'دست', 'تو', 'هم'], ['یکی', 'خوب', 'کردار', 'خوش', 'خوی', 'بود', 'که', 'بد', 'سیرتان', 'را', 'نکو', 'گوی', 'بود'], ['به', 'خوابش', 'کسی', 'دید', 'چون', 'در', 'گذشت', 'که', 'باری', 'حکایت', 'کن', 'از', 'سرگذشت'], ['دهانی', 'به', 'خنده', 'چون', 'گل', 'باز', 'کرد', 'چون', 'بلبل', 'به', 'صوتی', 'خوش', 'آغاز', 'کرد'], ['که', 'بر', 'من', 'نکردند', 'سختی', 'بسی', 'که', 'من', 'سخت', 'نگرفتمی', 'بر', 'کسی'], ['چنین', 'یاد', 'دارم', 'که', 'سقای', 'نیل', 'نکرد', 'آب', 'بر', 'مصر', 'سالی', 'سبیل'], ['گروهی', 'سوی', 'کوهساران', 'شدند', 'به', 'فریاد', 'خواهان', 'باران', 'شدند'], ['گرستند', 'و', 'از', 'گریه', 'جویی', 'روان', 'نیامد', 'مگر', 'گریه', 'آسمان'], ['به', 'ذوالنون', 'خبر', 'برد', 'از', 'ایشان', 'کسی', 'که', 'بر', 'خلق', 'رنج', 'است', 'و', 'زحمت', 'بسی'], ['فرو', 'ماندگان', 'را', 'دعایی', 'بکن', 'که', 'مقبول', 'را', 'رد', 'نباشد', 'سخن'], ['شنیدم', 'که', 'ذوالنون', 'به', 'مدین', 'گریخت', 'بسی', 'بر', 'نیامد', 'که', 'باران', 'بریخت'], ['خبر', 'شد', 'به', 'مدین', 'پس', 'از', 'روز', 'بیست', 'که', 'ابر', 'سیه', 'دل', 'بر', 'ایشان', 'گریست'], ['سبک', 'عزم', 'باز', 'آمدن', 'کرد', 'پیر', 'که', 'پر', 'شد', 'به', 'سیل', 'بهاران', 'غدیر'], ['بپرسید', 'از', 'او', 'عارفی', 'در', 'نهفت', 'چه', 'حکمت', 'در', 'این', 'رفتنت', 'بود', 'گفت'], ['شنیدم', 'که', 'بر', 'مرغ', 'و', 'مور', 'و', 'ددان', 'شود', 'تنگ', 'روزی', 'به', 'فعل', 'بدان'], ['در', 'این', 'کشور', 'اندیشه', 'کردم', 'بسی', 'پریشان\\u200cتر', 'از', 'خود', 'ندیدم', 'کسی'], ['برفتم', 'مبادا', 'که', 'از', 'شر', 'من', 'ببندد', 'در', 'خیر', 'بر', 'انجمن'], ['بهی', 'بایدت', 'لطف', 'کن', 'کان', 'بهان', 'ندیدندی', 'از', 'خود', 'بتر', 'در', 'جهان'], ['تو', 'آنگه', 'شوی', 'پیش', 'مردم', 'عزیز', 'که', 'مر', 'خویشتن', 'را', 'نگیری', 'به', 'چیز'], ['بزرگی', 'که', 'خود', 'را', 'به', 'خردی', 'شمرد', 'به', 'دنیا', 'و', 'عقبی', 'بزرگی', 'ببرد'], ['از', 'این', 'خاکدان', 'بنده\\u200cای', 'پاک', 'شد', 'که', 'در', 'پا', 'کمتر', 'کسی', 'خاک', 'شد'], ['الا', 'ای', 'که', 'بر', 'خاک', 'ما', 'بگذری', 'به', 'خاک', 'عزیزان', 'که', 'یاد', 'آوری'], ['که\\u200cگر', 'خاک', 'شد', 'سعدی', 'او', 'را', 'چه', 'غم', 'که', 'در', 'زندگی', 'خاک', 'بوده\\u200cست', 'هم'], ['به', 'بیچارگی', 'تن', 'فرا', 'خاک', 'داد', 'وگر', 'گرد', 'عالم', 'برآمد', 'چون', 'باد'], ['بسی', 'برنیاید', 'که', 'خاکش', 'خورد', 'دیگر', 'باره', 'بادش', 'به', 'عالم', 'برد'], ['مگر', 'تا', 'گلستان', 'معنی', 'شکفت', 'بر', 'او', 'هیچ', 'بلبل', 'چنین', 'خوش', 'نگفت'], ['عجب\\u200cگر', 'بمیرد', 'چنین', 'بلبلی', 'که', 'بر', 'استخوانش', 'نروید', 'گلی'], ['شبی', 'زیت', 'فکرت', 'همی', 'سوختم', 'چراغ', 'بلاغت', 'می\\u200cافروختم'], ['پراکنده', 'گویی', 'حدیثم', 'شنید', 'جز', 'احسنت', 'گفتن', 'طریقی', 'ندید'], ['هم', 'از', 'خبث', 'نوعی', 'در', 'آن', 'درج', 'کرد', 'که', 'ناچار', 'فریاد', 'خیزد', 'از', 'درد'], ['که', 'فکرش', 'بلیغ', 'است', 'و', 'رایش', 'بلند', 'در', 'این', 'شیوه', 'زهد', 'و', 'طامات', 'و', 'پند'], ['نه', 'در', 'خشت', 'و', 'کوپال', 'و', 'گرز', 'گران', 'که', 'این', 'شیوه', 'ختم', 'است', 'بر', 'دیگران'], ['نداند', 'که', 'ما', 'را', 'سر', 'جنگ', 'نیست', 'وگر', 'نه', 'مجال', 'سخن', 'تنگ', 'نیست'], ['توانم', 'که', 'تیغ', 'زبان', 'بر', 'کشم', 'جهانی', 'سخن', 'را', 'قلم', 'در', 'کشم'], ['بیا', 'تا', 'در', 'این', 'شیوه', 'چالش', 'کنیم', 'سر', 'خصم', 'را', 'سنگ', 'بالش', 'کنیم'], ['سعادت', 'به', 'بخشایش', 'داورست', 'نه', 'در', 'چنگ', 'و', 'بازوی', 'زور', 'آورست'], ['چون', 'دولت', 'نبخشد', 'سپهر', 'بلند', 'نیاید', 'به', 'مردانگی', 'در', 'کمند'], ['نه', 'سختی', 'رسید', 'از', 'ضعیفی', 'به', 'مور', 'نه', 'شیران', 'به', 'سرپنجه', 'خوردند', 'و', 'زور'], ['چون', 'نتوان', 'بر', 'افلاک', 'دست', 'آختن', 'ضروری', 'است', 'با', 'گردشش', 'ساختن'], ['گرت', 'زندگانی', 'نبشته\\u200cست', 'دیر', 'نه', 'مارت', 'گزاید', 'نه', 'شمشیر', 'و', 'شیر'], ['وگر', 'در', 'حیاتت', 'نمانده\\u200cست', 'بهر', 'چنانت', 'کشد', 'نوشدارو', 'که', 'زهر'], ['نه', 'رستم', 'چون', 'پایان', 'روزی', 'بخورد', 'شغاد', 'از', 'نهادش', 'برآورد', 'گرد'], ['من', 'را', 'در', 'سپاهان', 'یکی', 'یار', 'بود', 'که', 'جنگاور', 'و', 'شوخ', 'و', 'عیار', 'بود'], ['مدامش', 'به', 'خون', 'دست', 'و', 'خنجر', 'خضاب', 'بر', 'آتش', 'دل', 'خصم', 'از', 'او', 'چون', 'کباب'], ['ندیدمش', 'روزی', 'که', 'ترکش', 'نبست', 'از', 'پولاد', 'پیکانش', 'آتش', 'نجست'], ['دلاور', 'به', 'سرپنجه', 'گاوزور', 'از', 'هولش', 'به', 'شیران', 'در', 'افتاده', 'شور'], ['به', 'دعوی', 'چنان', 'ناوک', 'انداختی', 'که', 'عذرا', 'به', 'هر', 'یک', 'یک', 'انداختی'], ['چنان', 'خار', 'در', 'گل', 'ندیدم', 'که', 'رفت', 'که', 'پیکان', 'او', 'در', 'سپرهای', 'جفت'], ['نزد', 'تارک', 'جنگجویی', 'به', 'خشت', 'که', 'خود', 'و', 'سرش', 'را', 'نه', 'در', 'هم', 'سرشت'], ['چون', 'گنجشک', 'روز', 'ملخ', 'در', 'نبرد', 'به', 'کشتن', 'چه', 'گنجشک', 'پیشش', 'چه', 'مرد'], ['گرش', 'بر', 'فریدون', 'بدی', 'تاختن', 'امانش', 'ندادی', 'به', 'تیغ', 'آختن'], ['پلنگانش', 'از', 'زور', 'سرپنجه', 'زیر', 'فرو', 'برده', 'چنگال', 'در', 'مغز', 'شیر'], ['گرفتی', 'کمربند', 'جنگ', 'آزمای', 'وگر', 'کوه', 'بودی', 'بکندی', 'از', 'جای'], ['زره', 'پوش', 'را', 'چون', 'تبرزین', 'زدی', 'گذر', 'کردی', 'از', 'مرد', 'و', 'بر', 'زین', 'زدی'], ['نه', 'در', 'مردی', 'او', 'را', 'نه', 'در', 'مردمی', 'دوم', 'در', 'جهان', 'کس', 'شنید', 'آدمی'], ['من', 'را', 'یک', 'دم', 'از', 'دست', 'نگذاشتی', 'که', 'با', 'راست', 'طبعان', 'سری', 'داشتی'], ['سفر', 'ناگهم', 'زان', 'زمین', 'در', 'ربود', 'که', 'بیشم', 'در', 'آن', 'بقعه', 'روزی', 'نبود'], ['قضا', 'نقل', 'کرد', 'از', 'عراقم', 'به', 'شام', 'خوش', 'آمد', 'در', 'آن', 'خاک', 'پاکم', 'مقام'], ['مع', 'القصه', 'چندی', 'ببودم', 'مقیم', 'به', 'رنج', 'و', 'به', 'راحت', 'به', 'امید', 'و', 'بیم'], ['دیگر', 'پر', 'شد', 'از', 'شام', 'پیمانه\\u200cام', 'کشید', 'آرزومندی', 'خانه\\u200cام'], ['قضا', 'را', 'چنان', 'اتفاق', 'اوفتاد', 'که', 'بازم', 'گذر', 'بر', 'عراق', 'اوفتاد'], ['شبی', 'سر', 'فرو', 'شد', 'به', 'اندیشه\\u200cام', 'به', 'دل', 'برگذشت', 'آن', 'هنر', 'پیشه\\u200cام'], ['نمک', 'ریش', 'دیرینه\\u200cام', 'تازه', 'کرد', 'که', 'بودم', 'نمک', 'خورده', 'از', 'دست', 'مرد'], ['به', 'دیدار', 'او', 'در', 'سپاهان', 'شدم', 'به', 'مهرش', 'طلبکار', 'و', 'خواهان', 'شدم'], ['جوان', 'دیدم', 'از', 'گردش', 'دهر', 'پیر', 'خدنگش', 'کمان', 'ارغوانش', 'زریر'], ['چون', 'کوه', 'سپیدش', 'سر', 'از', 'برف', 'موی', 'دوان', 'آبش', 'از', 'برف', 'پیری', 'به', 'روی'], ['فلک', 'دست', 'قوت', 'بر', 'او', 'یافته', 'سر', 'دست', 'مردیش', 'بر', 'تافته'], ['بدر', 'کرده', 'گیتی', 'غرور', 'از', 'سرش', 'سر', 'ناتوانی', 'به', 'زانو', 'برش'], ['بدو', 'گفتم', 'ای', 'سرور', 'شیر', 'گیر', 'چه', 'فرسوده', 'کردت', 'چون', 'روباه', 'پیر'], ['بخندید', 'که', 'از', 'روز', 'جنگ', 'تتر', 'بدر', 'کردم', 'آن', 'جنگجویی', 'از', 'سر'], ['زمین', 'دیدم', 'از', 'نیزه', 'چون', 'نیستان', 'گرفته', 'علمها', 'چون', 'آتش', 'در', 'آن'], ['بر', 'انگیختم', 'گرد', 'هیجا', 'چون', 'دود', 'چون', 'دولت', 'نباشد', 'تهور', 'چه', 'سود'], ['من', 'آنم', 'که', 'چون', 'حمله', 'آوردمی', 'به', 'رمح', 'از', 'کف', 'انگشتری', 'بردمی'], ['ولی', 'چون', 'نکرد', 'اخترم', 'یاوری', 'گرفتند', 'گردم', 'چون', 'انگشتری'], ['غنیمت', 'شمردم', 'طریق', 'گریز', 'که', 'نادان', 'کند', 'با', 'قضا', 'پنجه', 'تیز'], ['چه', 'یاری', 'کند', 'مغفر', 'و', 'جوشنم', 'چون', 'یاری', 'نکرد', 'اختر', 'روشنم'], ['کلید', 'ظفر', 'چون', 'نباشد', 'به', 'دست', 'به', 'بازو', 'در', 'فتح', 'نتوان', 'شکست'], ['گروهی', 'پلنگ', 'افکن', 'پیل', 'زور', 'در', 'آهن', 'سر', 'مرد', 'و', 'سم', 'ستور'], ['همان', 'دم', 'که', 'دیدیم', 'گرد', 'سپاه', 'زره', 'جامه', 'کردیم', 'و', 'مغفر', 'کلاه'], ['چون', 'ابر', 'اسب', 'تازی', 'برانگیختیم', 'چون', 'باران', 'بلارک', 'فرو', 'ریختیم'], ['دو', 'لشکر', 'به', 'هم', 'بر', 'زدند', 'از', 'کمین', 'تو', 'گفتی', 'زدند', 'آسمان', 'بر', 'زمین'], ['از', 'باریدن', 'تیر', 'همچو', 'تگرگ', 'به', 'هر', 'گوشه', 'برخاست', 'طوفان', 'مرگ'], ['به', 'صید', 'هژبران', 'پرخاش', 'ساز', 'کمند', 'اژدهای', 'دهن', 'کرده', 'باز'], ['زمین', 'آسمان', 'شد', 'از', 'گرد', 'کبود', 'چون', 'انجم', 'در', 'او', 'برق', 'شمشیر', 'و', 'خود'], ['سواران', 'دشمن', 'چون', 'دریافتیم', 'پیاده', 'سپر', 'در', 'سپر', 'بافتیم'], ['به', 'تیر', 'و', 'سنان', 'موی', 'بشکافتیم', 'چون', 'دولت', 'نبد', 'روی', 'بر', 'تافتیم'], ['چه', 'زور', 'آورد', 'پنجه', 'جهد', 'مرد', 'چون', 'بازوی', 'توفیق', 'یاری', 'نکرد'], ['نه', 'شمشیر', 'گندآوران', 'کند', 'بود', 'که', 'کین', 'آوری', 'از', 'اختر', 'تند', 'بود'], ['کس', 'از', 'لشکر', 'ما', 'از', 'هیجا', 'برون', 'نیامد', 'جز', 'آغشته', 'خفتان', 'به', 'خون'], ['چون', 'صد', 'دانه', 'مجموع', 'در', 'خوشه\\u200cای', 'فتادیم', 'هر', 'دانه\\u200cای', 'گوشه\\u200cای'], ['به', 'نامردی', 'از', 'هم', 'بدادیم', 'دست', 'چون', 'ماهی', 'که', 'با', 'جوشن', 'افتد', 'به', 'شست'], ['کسان', 'را', 'نشد', 'ناوک', 'در', 'حریر', 'که', 'گفتم', 'بدوزند', 'سندان', 'به', 'تیر'], ['چون', 'طالع', 'از', 'ما', 'روی', 'بر', 'پیچ', 'بود', 'سپر', 'پیش', 'تیر', 'قضا', 'هیچ', 'بود'], ['از', 'این', 'بوالعجب\\u200cتر', 'حدیثی', 'شنو', 'که', 'بی', 'بخت', 'کوشش', 'نیرزد', 'دو', 'جو'], ['یکی', 'آهنین', 'پنجه', 'در', 'اردبیل', 'همی', 'بگذرانید', 'پیلک', 'از', 'پیل'], ['نمد', 'پوشی', 'آمد', 'به', 'جنگش', 'فراز', 'جوانی', 'جهان', 'سوز', 'پیکار', 'ساز'], ['به', 'پرخاش', 'جستن', 'چون', 'بهرام', 'گور', 'کمندی', 'به', 'کتفش', 'بر', 'از', 'خام', 'گور'], ['چون', 'دید', 'اردبیلی', 'نمد', 'پاره', 'پوش', 'کمان', 'در', 'زه', 'آورد', 'و', 'زه', 'را', 'به', 'گوش'], ['به', 'پنجاه', 'تیر', 'خدنگش', 'بزد', 'که', 'یک', 'چوبه', 'بیرون', 'نرفت', 'از', 'نمد'], ['درآمد', 'نمدپوش', 'چون', 'سام', 'گرد', 'به', 'خم', 'کمندش', 'درآورد', 'و', 'برد'], ['به', 'لشکرگهش', 'برد', 'و', 'در', 'خیمه', 'دست', 'چون', 'دزدان', 'خونی', 'به', 'گردن', 'ببست'], ['شب', 'از', 'غیرت', 'و', 'شرمساری', 'نخفت', 'سحرگه', 'پرستاری', 'از', 'خیمه', 'گفت'], ['تو', 'کآهن', 'به', 'ناوک', 'بدوزی', 'و', 'تیر', 'نمدپوش', 'را', 'چون', 'فتادی', 'اسیر'], ['شنیدم', 'که', 'می\\u200cگفت', 'و', 'خون', 'می\\u200cگریست', 'ندانی', 'که', 'روز', 'اجل', 'کس', 'نزیست'], ['من', 'آنم', 'که', 'در', 'شیوه', 'طعن', 'و', 'ضرب', 'به', 'رستم', 'در', 'آموزم', 'آداب', 'حرب'], ['چون', 'بازوی', 'بختم', 'قوی', 'حال', 'بود', 'ستبری', 'پیلم', 'نمد', 'می\\u200cنمود'], ['کنونم', 'که', 'در', 'پنجه', 'اقبیل', 'نیست', 'نمد', 'پیش', 'تیرم', 'کم', 'از', 'پیل', 'نیست'], ['به', 'روز', 'اجل', 'نیزه', 'جوشن', 'درد', 'از', 'پیراهن', 'بی', 'اجل', 'نگذرد'], ['کرا', 'تیغ', 'قهر', 'اجل', 'در', 'قفاست', 'برهنه\\u200cست', 'اگر', 'جوشنش', 'چند', 'لاست'], ['ورش', 'بخت', 'یاور', 'بود', 'دهر', 'پشت', 'برهنه', 'نشاید', 'به', 'ساطور', 'کشت'], ['نه', 'دانا', 'به', 'سعی', 'از', 'اجل', 'جان', 'ببرد', 'نه', 'نادان', 'به', 'ناساز', 'خوردن', 'بمرد'], ['شبی', 'کردی', 'از', 'درد', 'پهلو', 'نخفت', 'طبیبی', 'در', 'آن', 'ناحیت', 'بود', 'و', 'گفت'], ['از', 'این', 'دست', 'کاو', 'برگ', 'رز', 'می\\u200cخورد', 'عجب', 'دارم', 'اگر', 'شب', 'به', 'پایان', 'برد'], ['که', 'در', 'سینه', 'پیکان', 'تیر', 'تتار', 'به', 'از', 'ثقل', 'مأکول', 'ناسازگار'], ['اگر', 'افتد', 'به', 'یک', 'لقمه', 'در', 'روده', 'پیچ', 'همه', 'عمر', 'نادان', 'بر', 'آید', 'به', 'هیچ'], ['قضا', 'را', 'طبیب', 'در', 'آن', 'شب', 'بمرد', 'چهل', 'سال', 'از', 'این', 'رفت', 'و', 'زنده\\u200cست', 'کرد'], ['یکی', 'روستایی', 'سقط', 'شد', 'خرش', 'علم', 'کرد', 'بر', 'تاک', 'بستان', 'سرش'], ['جهاندیده', 'پیری', 'بر', 'او', 'بر', 'گذشت', 'چنین', 'گفت', 'خندان', 'به', 'ناطور', 'دشت'], ['مپندار', 'جان', 'پدر', 'کاین', 'حمار', 'کند', 'دفع', 'چشم', 'بد', 'از', 'کشتزار'], ['که', 'این', 'دفع', 'چوب', 'از', 'سر', 'و', 'گوش', 'خویش', 'نمی\\u200cکرد', 'تا', 'ناتوان', 'مرد', 'و', 'ریش'], ['چه', 'داند', 'طبیب', 'از', 'کسی', 'رنج', 'برد', 'که', 'بیچاره', 'خواهد_خود', 'از', 'رنج', 'مرد'], ['شنیدم', 'که', 'دیناری', 'از', 'مفلسی', 'بیفتاد', 'و', 'مسکین', 'بجستش', 'بسی'], ['به', 'آخر', 'سر', 'ناامیدی', 'بتافت', 'یکی', 'دیگرش', 'ناطلب', 'کرده', 'یافت'], ['به', 'بدبختی', 'و', 'نیکبختی', 'قلم', 'بگردید', 'و', 'ما', 'همچنان', 'در', 'شکم'], ['نه', 'روزی', 'به', 'سرپنجگی', 'می\\u200cخورند', 'که', 'سرپنجگان', 'تنگ', 'روزی', 'ترند'], ['بسا', 'چاره\\u200cدانا', 'به', 'سختی', 'بمرد', 'که', 'بیچاره', 'گوی', 'سلامت', 'ببرد'], ['فرو', 'کوفت', 'پیری', 'پسر', 'را', 'به', 'چوب', 'بگفت', 'ای', 'پدر', 'بی', 'گناهم', 'مکوب'], ['توان', 'بر', 'تو', 'از', 'جور', 'مردم', 'گریست', 'ولی', 'چون', 'تو', 'جورم', 'کنی', 'چاره', 'چیست'], ['به', 'داور', 'خروش', 'ای', 'خداوند', 'هوش', 'نه', 'از', 'دست', 'داور', 'برآور', 'خروش'], ['بلند', 'اختری', 'نام', 'او', 'بختیار', 'قوی', 'دستگه', 'بود', 'و', 'سرمایه\\u200cدار'], ['به', 'کوی', 'گدایان', 'درش', 'خانه', 'بود', 'زرش', 'همچو', 'گندم', 'به', 'پیمانه', 'بود'], ['چون', 'درویش', 'بیند', 'توانگر', 'به', 'ناز', 'دلش', 'بیش', 'سوزد', 'به', 'داغ', 'نیاز'], ['زنی', 'جنگ', 'پیوست', 'با', 'شوی', 'خویش', 'شبانگه', 'چون', 'رفتش', 'تهیدست', 'پیش'], ['که', 'کس', 'چون', 'تو', 'بدبخت', 'درویش', 'نیست', 'چون', 'زنبور', 'سرخت', 'جز', 'این', 'نیش', 'نیست'], ['بیاموز', 'مردی', 'از', 'همسایگان', 'که', 'آخر', 'نیم', 'قحبه', 'رایگان'], ['کسان', 'را', 'زر', 'و', 'سیم', 'و', 'ملک', 'است', 'و', 'رخت', 'چرا', 'همچو', 'ایشان', 'نه\\u200cای', 'نیکبخت'], ['بر', 'آورد', 'صافی', 'دل', 'صوف', 'پوش', 'چون', 'طبل', 'از', 'تهیگاه', 'خالی', 'خروش'], ['که', 'من', 'دست', 'قدرت', 'ندارم', 'به', 'هیچ', 'به', 'سرپنجه', 'دست', 'قضا', 'بر', 'مپیچ'], ['نکردند', 'در', 'دست', 'من', 'اختیار', 'که', 'من', 'خویشتن', 'را', 'کنم', 'بختیار'], ['یکی', 'پیر', 'درویش', 'در', 'خاک', 'کیش', 'چه', 'خوش', 'گفت', 'با', 'همسر', 'زشت', 'خویش'], ['چون', 'دست', 'قضا', 'زشت', 'رویت', 'سرشت', 'میندای', 'گلگونه', 'بر', 'روی', 'زشت'], ['که', 'حاصل', 'کند', 'نیکبختی', 'به', 'زور', 'به', 'سرمه', 'که', 'بینا', 'کند', 'چشم', 'کور'], ['نیاید', 'نکوکاری', 'از', 'بد', 'رگان', 'محال', 'است', 'دوزندگی', 'از', 'سگان'], ['همه', 'فیلسوفان', 'یونان', 'و', 'روم', 'ندانند', 'کرد', 'انگبین', 'از', 'زقوم'], ['از', 'وحشی', 'نیاید', 'که', 'مردم', 'شود', 'به', 'سعی', 'در', 'او', 'تربیت', 'گم', 'شود'], ['توان', 'پاک', 'کردن', 'از', 'زنگ', 'آینه', 'ولیکن', 'نیاید', 'از', 'سنگ', 'آینه'], ['به', 'کوشش', 'نه', 'روید', 'گل', 'از', 'شاخ', 'بید', 'نه', 'زنگی', 'به', 'گرمابه', 'گردد', 'سپید'], ['چون', 'رد', 'می\\u200cنگردد', 'خدنگ', 'قضا', 'سپر', 'نیست', 'مر', 'بنده', 'را', 'جز', 'رضا'], ['چنین', 'گفت', 'پیش', 'زغن', 'کرکسی', 'که', 'نبود', 'از', 'من', 'دوربین\\u200cتر', 'کسی'], ['زغن', 'گفت', 'از', 'این', 'در', 'نشاید', 'گذشت', 'بیا', 'تا', 'چه', 'بینی', 'بر', 'اطراف', 'دشت'], ['شنیدم', 'که', 'مقدار', 'یک', 'روزه', 'راه', 'بکرد', 'از', 'بلندی', 'به', 'پستی', 'نگاه'], ['چنین', 'گفت', 'دیدم', 'گرت', 'باور', 'است', 'که', 'یک', 'دانه', 'گندم', 'به', 'هامون', 'بر', 'است'], ['زغن', 'را', 'نماند', 'از', 'تعجب', 'شکیب', 'از', 'بالا', 'نهادند', 'سر', 'در', 'نشیب'], ['چون', 'کرکس', 'بر', 'دانه', 'آمد', 'فراز', 'گره', 'شد', 'بر', 'او', 'پایبندی', 'دراز'], ['ندانست', 'از', 'آن', 'دانه\\u200cای', 'خوردنش', 'که', 'دهر', 'افکند', 'دام', 'در', 'گردنش'], ['نه', 'آبستن', 'در', 'بود', 'هر', 'صدف', 'نه', 'هر', 'بار', 'شاطر', 'زند', 'بر', 'هدف'], ['زغن', 'گفت', 'از', 'آن', 'دانه', 'دیدن', 'چه', 'سود', 'چون', 'بینایی', 'دام', 'خصمت', 'نبود'], ['شنیدم', 'که', 'می\\u200cگفت', 'و', 'گردن', 'به', 'بند', 'نباشد', 'حذر', 'با', 'قدر', 'سودمند'], ['اجل', 'چون', 'به', 'خونش', 'بر', 'آورد', 'دست', 'قضا', 'چشم', 'باریک', 'بینش', 'ببست'], ['در', 'آبی', 'که', 'پیدا', 'نگردد', 'کنار', 'غرور', 'شناور', 'نیاید', 'به', 'کار'], ['چه', 'خوش', 'گفت', 'شاگرد', 'منسوج', 'باف', 'چون', 'عنقا', 'بر', 'آورد', 'و', 'پیل', 'و', 'زراف'], ['من', 'را', 'صورتی', 'بر', 'نیاید', 'از', 'دست', 'که', 'نقشش', 'معلم', 'از', 'بالا', 'نبست'], ['گرت', 'صورت', 'حال', 'بد', 'یا', 'نکوست', 'نگارنده', 'دست', 'تقدیر', 'اوست'], ['در', 'این', 'نوعی', 'از', 'شرک', 'پوشیده', 'هست', 'که', 'زیدم', 'بیازرد', 'و', 'عمروم', 'بخست'], ['گرت', 'دیده', 'بخشد', 'خداوند', 'امر', 'نبینی', 'دیگر', 'صورت', 'زید', 'و', 'عمرو'], ['نپندارم', 'اگر', 'بنده', 'دم', 'در', 'کشد', 'خدایش', 'به', 'روزی', 'قلم', 'در', 'کشد'], ['جهان', 'آفرینت', 'گشایش', 'دهاد', 'که\\u200cگر', 'او', 'ببندد', 'نشاید', 'گشاد'], ['شتر', 'بچه', 'با', 'مادر', 'خویش', 'گفت', 'بس', 'از', 'رفتن', 'آخر', 'زمانی', 'بخفت'], ['بگفت', 'اگر', 'به', 'دست', 'منستی', 'مهار', 'ندیدی', 'کسم', 'بارکش', 'در', 'قطار'], ['قضا', 'کشتی', 'آنجا', 'که', 'خواهد_برد', 'وگر', 'ناخدا', 'جامه', 'بر', 'تن', 'درد'], ['مکن', 'سعدیا', 'دیده', 'بر', 'دست', 'کس', 'که', 'بخشنده', 'پروردگار', 'است', 'و', 'بس'], ['اگر', 'حق', 'پرستی', 'از', 'درها', 'بست', 'که\\u200cگر', 'او', 'براند', 'نخواند', 'کست'], ['اگر', 'او', 'تاجدارت', 'کند', 'سر', 'بر', 'آر', 'وگر', 'نه', 'سر', 'نا', 'امیدی', 'بخار'], ['عبادت', 'به', 'اخلاص', 'نیت', 'نکوست', 'وگر', 'نه', 'چه', 'آید', 'از', 'بی', 'مغز', 'پوست'], ['چه', 'زنار', 'مغ', 'در', 'میانت', 'چه', 'دلق', 'که', 'در', 'پوشی', 'از', 'بهر', 'پندار', 'خلق'], ['مکن', 'گفتمت', 'مردی', 'خویش', 'فاش', 'چون', 'مردی', 'نمودی', 'مخنث', 'مباش'], ['به', 'اندازه', 'بود', 'باید', 'نمود', 'خجالت', 'نبرد', 'آن', 'که', 'ننمود', 'و', 'بود'], ['که', 'چون', 'عاریت', 'بر', 'کنند', 'از', 'سرش', 'نماید', 'کهن', 'جامه\\u200cای', 'در', 'برش'], ['اگر', 'کوتهی', 'پا', 'چوبین', 'مبند', 'که', 'در', 'چشم', 'طفلان', 'نمایی', 'بلند'], ['وگر', 'نقره', 'اندوده', 'باشد', 'نحاس', 'توان', 'خرج', 'کردن', 'بر', 'ناشناس'], ['منه', 'جان', 'من', 'آب', 'زر', 'بر', 'پشیز', 'که', 'صراف', 'دانا', 'نگیرد', 'به', 'چیز'], ['زر', 'اندودگان', 'را', 'به', 'آتش', 'برند', 'پدید', 'آید', 'آنگه', 'که', 'مس', 'یا', 'زرند'], ['ندانی', 'که', 'بابای', 'کوهی', 'چه', 'گفت', 'به', 'مردی', 'که', 'ناموس', 'را', 'شب', 'نخفت'], ['برو', 'جان', 'بابا', 'در', 'اخلاص', 'پیچ', 'که', 'نتوانی', 'از', 'خلق', 'رستن', 'به', 'هیچ'], ['کسانی', 'که', 'فعلت', 'پسندیده\\u200cاند', 'هنوز', 'از', 'تو', 'نقش', 'برون', 'دیده\\u200cاند'], ['چه', 'قدر', 'آورد', 'بنده', 'حوردیس', 'که', 'زیر', 'قبا', 'دارد', 'اندام', 'پیس'], ['نشاید', 'به', 'دستان', 'شدن', 'در', 'بهشت', 'که', 'بازت', 'رود', 'چادر', 'از', 'روی', 'زشت'], ['شنیدم', 'که', 'نابالغی', 'روزه', 'داشت', 'به', 'صد', 'محنت', 'آورد', 'روزی', 'به', 'چاشت'], ['به', 'کتابش', 'آن', 'روز', 'سائق', 'نبرد', 'بزرگ', 'آمدش', 'طاعت', 'از', 'طفل', 'خرد'], ['پدر', 'دیده', 'بوسید', 'و', 'مادر', 'سرش', 'فشاندند', 'بادام', 'و', 'زر', 'بر', 'سرش'], ['چون', 'بر', 'او', 'گذر', 'کرد', 'یک', 'نیمه', 'روز', 'فتاد', 'در', 'او', 'از', 'آتش', 'معده', 'سوز'], ['به', 'دل', 'گفت', 'اگر', 'لقمه', 'چندی', 'خورم', 'چه', 'داند', 'پدر', 'غیب', 'یا', 'مادرم'], ['چون', 'روی', 'پسر', 'در', 'پدر', 'بود', 'و', 'قوم', 'نهان', 'خورد', 'و', 'پیدا', 'به', 'سر', 'برد', 'صوم'], ['که', 'داند', 'چون', 'در', 'بند', 'حق', 'نیستی', 'اگر', 'بی', 'وضو', 'در', 'نماز', 'ایستی'], ['پس', 'این', 'پیر', 'از', 'آن', 'طفل', 'نادان\\u200cتر', 'است', 'که', 'از', 'بهر', 'مردم', 'به', 'طاعت', 'در', 'است'], ['کلید', 'در', 'دوزخ', 'است', 'آن', 'نماز', 'که', 'در', 'چشم', 'مردم', 'گزاری', 'دراز'], ['اگر', 'جز', 'به', 'حق', 'می\\u200cرود', 'جاده\\u200cات', 'در', 'آتش', 'فشانند', 'سجاده\\u200cات'], ['سیهکاری', 'از', 'نردبانی', 'فتاد', 'شنیدم', 'که', 'هم', 'در', 'نفس', 'جان', 'بداد'], ['پسر', 'چند', 'روزی', 'گرستن', 'گرفت', 'دیگر', 'با', 'حریفان', 'نشستن', 'گرفت'], ['به', 'خواب', 'اندرش', 'دید', 'و', 'پرسید', 'حال', 'که', 'چون', 'رستی', 'از', 'حشر', 'و', 'نشر', 'و', 'سؤال'], ['بگفت', 'ای', 'پسر', 'قصه', 'بر', 'من', 'مخوان', 'به', 'دوزخ', 'در', 'افتادم', 'از', 'نردبان'], ['نکو', 'سیرتی', 'بی', 'تکلف', 'برون', 'به', 'از', 'نیکنامی', 'خراب', 'اندرون'], ['به', 'نزدیک', 'من', 'شبرو', 'راهزن', 'به', 'از', 'فاسق', 'پارسا', 'پیرهن'], ['یکی', 'بر', 'در', 'خلق', 'رنج', 'آزمای', 'چه', 'مزدش', 'دهد', 'در', 'قیامت', 'خدای'], ['از', 'عمرو', 'ای', 'پسر', 'چشم', 'اجرت', 'مدار', 'چون', 'در', 'خانه', 'زید', 'باشی', 'به', 'کار'], ['نگویم', 'تواند', 'رسیدن', 'به', 'دوست', 'در', 'این', 'راه', 'جز', 'آن', 'کس', 'که', 'رویش', 'در', 'اوست'], ['راه', 'راست', 'رو', 'تا', 'به', 'منزل', 'رسی', 'تو', 'در', 'راه', 'نه\\u200cای', 'زین', 'قبل', 'واپسی'], ['چون', 'گاوی', 'که', 'عصار', 'چشمش', 'ببست', 'دوان', 'تا', 'به', 'شب', 'شب', 'همان', 'جا', 'که', 'هست'], ['کسی\\u200cگر', 'بتابد', 'از', 'محراب', 'روی', 'به', 'کفرش', 'گواهی', 'دهند', 'اهل', 'کوی'], ['تو', 'هم', 'پشت', 'بر', 'قبله\\u200cای', 'در', 'نماز', 'گرت', 'در', 'خدا', 'نیست', 'روی', 'نیاز'], ['درختی', 'که', 'بیخش', 'بود', 'برقرار', 'بپرور', 'که', 'روزی', 'دهد', 'میوه', 'بار'], ['گرت', 'بیخ', 'اخلاص', 'در', 'بوم', 'نیست', 'از', 'این', 'بر', 'کسی', 'چون', 'تو', 'محروم', 'نیست'], ['هر', 'آن', 'کافکند', 'تخم', 'بر', 'روی', 'سنگ', 'جوی', 'وقت', 'دخلش', 'نیاید', 'به', 'چنگ'], ['منه', 'آبروی', 'ریا', 'را', 'محل', 'که', 'این', 'آب', 'در', 'زیر', 'دارد', 'وحل'], ['چون', 'در', 'خفیه', 'بد', 'باشم', 'و', 'خاکسار', 'چه', 'سود', 'آب', 'ناموس', 'بر', 'روی', 'کار'], ['به', 'روی', 'و', 'ریا', 'خرقه', 'سهل', 'است', 'دوخت', 'گرش', 'با', 'خدا', 'در', 'توانی', 'فروخت'], ['چه', 'دانند', 'مردم', 'که', 'در', 'جامه', 'کیست', 'نویسنده', 'داند', 'که', 'در', 'نامه', 'چیست'], ['چه', 'وزن', 'آورد', 'جایی', 'انبان', 'باد', 'که', 'میزان', 'عدل', 'است', 'و', 'دیوان', 'داد'], ['مرائی', 'که', 'چندین', 'ورع', 'می\\u200cنمود', 'بدیدند', 'و', 'هیچش', 'در', 'انبان', 'نبود'], ['کنند', 'ابره', 'پاکیزه\\u200cتر', 'از', 'آستر', 'که', 'آن', 'در', 'حجاب', 'است', 'و', 'این', 'در', 'نظر'], ['بزرگان', 'فراغ', 'از', 'نظر', 'داشتند', 'از', 'آن', 'پرنیان', 'آستر', 'داشتند'], ['ور', 'آوازه', 'خواهی_در', 'اقلیم', 'فاش', 'برون', 'حله', 'کن', 'گو', 'درون', 'حشو', 'باش'], ['به', 'بازی', 'نگفت', 'این', 'سخن', 'بایزید', 'که', 'از', 'منکر', 'ایمن\\u200cترم', 'که', 'از', 'مرید'], ['کسانی', 'که', 'سلطان', 'و', 'شاهنشهند', 'سراسر', 'گدایان', 'این', 'درگهند'], ['طمع', 'در', 'گدا', 'مرد', 'معنی', 'نبست', 'نشاید', 'گرفتن', 'در', 'افتاده', 'دست'], ['همان', 'به\\u200cگر', 'آبستن', 'گوهری', 'که', 'همچون', 'صدف', 'سر', 'به', 'خود', 'در', 'بری'], ['چون', 'روی', 'پرستیدنت', 'در', 'خداست', 'اگر', 'جبرئیلت', 'نبیند', 'رواست'], ['تو', 'را', 'پند', 'سعدی', 'بس', 'است', 'ای', 'پسر', 'اگر', 'گوش', 'گیری', 'چون', 'پند', 'پدر'], ['اگر', 'امروز', 'گفتار', 'ما', 'نشنوی', 'مبادا', 'که', 'فردا', 'پشیمان', 'شوی'], ['از', 'این', 'به', 'نصیحتگری', 'بایدت', 'ندانم', 'پس', 'از', 'من', 'چه', 'پیش', 'آیدت'], ['خدا', 'را', 'ندانست', 'و', 'طاعت', 'نکرد', 'که', 'بر', 'بخت', 'و', 'روزی', 'قناعت', 'نکرد'], ['قناعت', 'توانگر', 'کند', 'مرد', 'را', 'خبر', 'کن', 'حریص', 'جهانگرد', 'را'], ['سکونی', 'به', 'دست', 'آور', 'ای', 'بی', 'ثبات', 'که', 'بر', 'سنگ', 'گردان', 'نروید', 'نبات'], ['مپرور', 'تن', 'اگر', 'مرد', 'رای', 'و', 'هشی', 'که', 'او', 'را', 'چون', 'می\\u200cپروری', 'می\\u200cکشی'], ['خردمند', 'مردم', 'هنر', 'پرورند', 'که', 'تن', 'پروران', 'از', 'هنر', 'لاغرند'], ['کسی', 'سیرت', 'آدمی', 'گوش', 'کرد', 'که', 'اول', 'سگ', 'نفس', 'خاموش', 'کرد'], ['خور', 'و', 'خواب', 'تنها', 'طریق', 'دد', 'است', 'بر', 'این', 'بودن', 'آیین', 'نابخرد', 'است'], ['خنک', 'نیکبختی', 'که', 'در', 'گوشه\\u200cای', 'به', 'دست', 'آرد', 'از', 'معرفت', 'توشه\\u200cای'], ['بر', 'آنان', 'که', 'شد', 'سر', 'حق', 'آشکار', 'نکردند', 'باطل', 'بر', 'او', 'اختیار'], ['ولیکن', 'چون', 'ظلمت', 'نداند', 'از', 'نور', 'چه', 'دیدار', 'دیوش', 'چه', 'رخسار', 'حور'], ['تو', 'خود', 'را', 'از', 'آن', 'در', 'چه', 'انداختی', 'که', 'چه', 'را', 'از', 'راه', 'باز', 'نشناختی'], ['بر', 'اوج', 'فلک', 'چون', 'پرد', 'جره', 'باز', 'که', 'در', 'شهپرش', 'بسته\\u200cای', 'سنگ', 'آز'], ['گرش', 'دامن', 'از', 'چنگ', 'شهوت', 'رها', 'کنی', 'رفت', 'تا', 'سدرةالمنتهی'], ['به', 'کم', 'کردن', 'از', 'عادت', 'خویش', 'خورد', 'توان', 'خویشتن', 'را', 'ملک', 'خوی', 'کرد'], ['کجا', 'سیر', 'وحشی', 'رسد', 'در', 'ملک', 'نشاید', 'پرید', 'از', 'ثری', 'بر', 'فلک'], ['نخست', 'آدمی', 'سیرتی', 'پیشه', 'کن', 'پس', 'آن', 'گه', 'ملک', 'خویی', 'اندیشه', 'کن'], ['تو', 'بر', 'کره', 'توسنی', 'بر', 'کمر', 'نگر', 'تا', 'نپیچد', 'از', 'حکم', 'تو', 'سر'], ['که\\u200cگر', 'پالهنگ', 'از', 'کفت', 'در', 'گسیخت', 'تن', 'خویشتن', 'کشت', 'و', 'خون', 'تو', 'ریخت'], ['به', 'اندازه', 'خور', 'زاد', 'اگر', 'مردمی', 'چنین', 'پر', 'شکم', 'آدمی', 'یا', 'خمی'], ['درون', 'جای', 'قوت', 'است', 'و', 'ذکر', 'و', 'نفس', 'تو', 'پنداری', 'از', 'بهر', 'نان', 'است', 'و', 'بس'], ['کجا', 'ذکر', 'گنجد', 'در', 'انبان', 'آز', 'به', 'سختی', 'نفس', 'می\\u200cکند', 'پا', 'دراز'], ['ندارند', 'تن', 'پروران', 'آگهی', 'که', 'پر', 'معده', 'باشد', 'از', 'حکمت', 'تهی'], ['دو', 'چشم', 'و', 'شکم', 'پر', 'نگردد', 'به', 'هیچ', 'تهی', 'بهتر', 'این', 'روده', 'پیچ', 'پیچ'], ['چون', 'دوزخ', 'که', 'سیرش', 'کنند', 'از', 'وقید', 'دیگر', 'بانگ', 'دارد', 'که', 'هل', 'من', 'مزید'], ['همی', 'میردت', 'عیسی', 'از', 'لاغری', 'تو', 'در', 'بند', 'آنی', 'که', 'خر', 'پروری'], ['به', 'دین', 'ای', 'فرومایه', 'دنیا', 'مخر', 'تو', 'خر', 'را', 'به', 'انجیل', 'عیسی', 'مخر'], ['مگر', 'می\\u200cنبینی', 'که', 'دد', 'را', 'و', 'دام', 'نینداخت', 'جز', 'حرص', 'خوردن', 'به', 'دام'], ['پلنگی', 'که', 'گردن', 'کشد', 'بر', 'وحوش', 'به', 'دام', 'افتد', 'از', 'بهر', 'خوردن', 'چون', 'موش'], ['چون', 'موش', 'آن', 'که', 'نان', 'و', 'پنیرش', 'خوری', 'به', 'دامش', 'در', 'افتی', 'و', 'تیرش', 'خوری'], ['من', 'را', 'حاجیی', 'شانه', 'عاج', 'داد', 'که', 'رحمت', 'بر', 'اخلاق', 'حجاج', 'باد'], ['شنیدم', 'که', 'باری', 'سگم', 'خوانده_بود', 'که', 'از', 'من', 'به', 'نوعی', 'دلش', 'مانده_بود'], ['بینداختم', 'شانه', 'کاین', 'استخوان', 'نمی\\u200cبایدم', 'دیگرم', 'سگ', 'مخوان'], ['مپندار', 'چون', 'سرکه', 'خود', 'خورم', 'که', 'جور', 'خداوند', 'حلوا', 'برم'], ['قناعت', 'کن', 'ای', 'نفس', 'بر', 'اندکی', 'که', 'سلطان', 'و', 'درویش', 'بینی', 'یکی'], ['چرا', 'پیش', 'خسرو', 'به', 'خواهش', 'روی', 'چون', 'یک', 'سو', 'نهادی', 'طمع', 'خسروی'], ['وگر', 'خود', 'پرستی', 'شکم', 'طبله', 'کن', 'در', 'خانه', 'این', 'و', 'آن', 'قبله', 'کن'], ['یکی', 'پر', 'طمع', 'پیش', 'خوارزمشاه', 'شنیدم', 'که', 'شد', 'بامدادی', 'پگاه'], ['چون', 'دیدش', 'به', 'خدمت', 'دوتا', 'گشت', 'و', 'راست', 'دیگر', 'روی', 'بر', 'خاک', 'مالید', 'و', 'خاست'], ['پسر', 'گفتش', 'ای', 'بابک', 'نامجوی', 'یکی', 'مشکلت', 'می\\u200cبپرسم', 'بگوی'], ['نگفتی', 'که', 'قبله\\u200cست', 'سوی', 'حجاز', 'چرا', 'کردی', 'امروز', 'از', 'این', 'سو', 'نماز'], ['مبر', 'طاعت', 'نفس', 'شهوت', 'پرست', 'که', 'هر', 'ساعتش', 'قبله', 'دیگر', 'است'], ['مبر', 'ای', 'برادر', 'به', 'فرمانش', 'دست', 'که', 'هر', 'کس', 'که', 'فرمان', 'نبردش', 'برست'], ['قناعت', 'سرافرازد', 'ای', 'مرد', 'هوش', 'سر', 'پر', 'طمع', 'بر', 'نیاید', 'از', 'دوش'], ['طمع', 'آبروی', 'توقر', 'بریخت', 'برای', 'دو', 'جو', 'دامنی', 'در', 'بریخت'], ['چون', 'سیراب', 'خواهی_شدن', 'از', 'آب', 'جوی', 'چرا', 'ریزی', 'از', 'بهر', 'برف', 'آبروی'], ['مگر', 'از', 'تنعم', 'شکیبا', 'شوی', 'وگرنه', 'ضرورت', 'به', 'درها', 'شوی'], ['برو', 'خواجه', 'کوتاه', 'کن', 'دست', 'آز', 'چه', 'می\\u200cبایدت', 'از', 'آستین', 'دراز'], ['کسی', 'را', 'که', 'درج', 'طمع', 'در', 'نوشت', 'نباید', 'به', 'کس', 'عبد', 'و', 'خادم', 'نبشت'], ['توقع', 'براند', 'از', 'هر', 'مجلست', 'بران', 'از', 'خودش', 'تا', 'نراند', 'کست'], ['یکی', 'را', 'تب', 'آمد', 'از', 'صاحبدلان', 'کسی', 'گفت', 'شکر', 'بخواه', 'از', 'فلان'], ['بگفت', 'ای', 'پسر', 'تلخی', 'مردنم', 'به', 'از', 'جور', 'روی', 'ترش', 'بردنم'], ['شکر', 'عاقل', 'از', 'دست', 'آن', 'کس', 'نخورد', 'که', 'روی', 'از', 'تکبر', 'بر', 'او', 'سرکه', 'کرد'], ['مرو', 'از', 'پی', 'هر', 'چه', 'دل', 'خواهدت', 'که', 'تمکین', 'تن', 'نور', 'جان', 'کاهدت'], ['کند', 'مرد', 'را', 'نفس', 'اماره', 'خوار', 'اگر', 'هوشمندی', 'عزیزش', 'مدار'], ['اگر', 'هرچه', 'باشد', 'مرادت', 'خوری', 'از', 'دوران', 'بسی', 'نامرادی', 'بری'], ['تنور', 'شکم', 'دم', 'به', 'دم', 'تافتن', 'مصیبت', 'بود', 'روز', 'نایافتن'], ['به', 'تنگی', 'بریزاندت', 'روی', 'رنگ', 'چون', 'وقت', 'فراخی', 'کنی', 'معده', 'تنگ'], ['کشد', 'مرد', 'پرخواره', 'بار', 'شکم', 'وگر', 'در', 'نیابد', 'کشد', 'بار', 'غم'], ['شکم', 'بنده', 'بسیار', 'بینی', 'خجل', 'شکم', 'پیش', 'من', 'تنگ', 'بهتر', 'که', 'دل'], ['چه', 'آوردم', 'از', 'بصره', 'دانی', 'عجب', 'حدیثی', 'که', 'شیرین\\u200cتر', 'است', 'از', 'رطب'], ['تنی', 'چند', 'در', 'خرقه', 'راستان', 'گذشتیم', 'بر', 'طرف', 'خرماستان'], ['یکی', 'در', 'میان', 'معده', 'انبار', 'بود', 'از', 'پر', 'خواری', 'خویش', 'بس', 'خوار', 'بود'], ['میان', 'بست', 'مسکین', 'و', 'شد', 'بر', 'درخت', 'وز', 'آنجا', 'به', 'گردن', 'در', 'افتاد', 'سخت'], ['نه', 'هر', 'بار', 'خرما', 'توان', 'خورد', 'و', 'برد', 'لت', 'انبان', 'بد', 'عاقبت', 'خورد', 'و', 'مرد'], ['رئیس', 'ده', 'آمد', 'که', 'این', 'را', 'که', 'کشت', 'بگفتم', 'مزن', 'بانگ', 'بر', 'ما', 'درشت'], ['شکم', 'دامن', 'در', 'کشیدش', 'از', 'شاخ', 'بود', 'تنگدل', 'رودگانی', 'فراخ'], ['شکم', 'بند', 'دست', 'است', 'و', 'زنجیر', 'پا', 'شکم', 'بنده', 'نادر', 'پرستد', 'خدای'], ['سراسر', 'شکم', 'شد', 'ملخ', 'لاجرم', 'به', 'پایش', 'کشد', 'مور', 'کوچک', 'شکم'], ['برو', 'اندرونی', 'به', 'دست', 'آر', 'پاک', 'شکم', 'پر', 'نخواهد_شد', 'الا', 'به', 'خاک'], ['شکم', 'صوفیی', 'را', 'زبون', 'کرد', 'و', 'فرج', 'دو', 'دینار', 'بر', 'هر', 'دوان', 'کرد', 'خرج'], ['یکی', 'گفتش', 'از', 'دوستان', 'در', 'نهفت', 'چه', 'کردی', 'بدین', 'هر', 'دو', 'دینار', 'گفت'], ['به', 'دیناری', 'از', 'پشت', 'راندم', 'نشاط', 'به', 'دیگر', 'شکم', 'را', 'کشیدم', 'سماط'], ['فرومایگی', 'کردم', 'و', 'ابلهی', 'که', 'این', 'همچنان', 'پر', 'نشد', 'وآن', 'تهی'], ['غذا\\u200cگر', 'لطیف', 'است', 'و', 'اگر', 'سرسری', 'چون', 'دیرت', 'به', 'دست', 'اوفتد', 'خوش', 'خوری'], ['سر', 'آنگه', 'به', 'بالین', 'نهد', 'هوشمند', 'که', 'خوابش', 'به', 'قهر', 'آورد', 'در', 'کمند'], ['مجال', 'سخن', 'تا', 'نیابی', 'مگوی', 'چون', 'میدان', 'نبینی', 'نگه', 'دار', 'گوی'], ['وز', 'اندازه', 'بیرون', 'مرو', 'پیش', 'زن', 'نه', 'دیوانه\\u200cای', 'تیغ', 'بر', 'خود', 'مزن'], ['به', 'بی', 'رغبتی', 'شهوت', 'انگیختن', 'به', 'رغبت', 'بود', 'خون', 'خود', 'ریختن'], ['یکی', 'نیشکر', 'داشت', 'بر', 'طبقری', 'چپ', 'و', 'راست', 'گردیده', 'بر', 'مشتری'], ['به', 'صاحبدلی', 'گفت', 'در', 'کنج', 'ده', 'که', 'بستان', 'و', 'چون', 'دست', 'یابی', 'بده'], ['بگفت', 'آن', 'خردمند', 'زیبا', 'سرشت', 'جوابی', 'که', 'بر', 'دیده', 'باید', 'نبشت'], ['تو', 'را', 'صبر', 'بر', 'من', 'نباشد', 'مگر', 'ولیکن', 'من', 'را', 'باشد', 'از', 'نیشکر'], ['حلاوت', 'ندارد', 'شکر', 'در', 'نیش', 'چون', 'باشد', 'تقاضای', 'تلخ', 'از', 'پیش'], ['یکی', 'را', 'از', 'مردان', 'روشن', 'ضمیر', 'امیر', 'ختن', 'داد', 'طاقی', 'حریر'], ['از', 'شادی', 'چون', 'گلبرگ', 'خندان', 'شکفت', 'نپوشید', 'و', 'دستش', 'ببوسید', 'و', 'گفت'], ['چه', 'خوب', 'است', 'تشریف', 'میر', 'ختن', 'وز', 'او', 'خوب\\u200cتر', 'خرقه', 'خویشتن'], ['اگر', 'آزاده\\u200cای', 'بر', 'زمین', 'خسب', 'و', 'بس', 'مکن', 'بهر', 'قالی', 'زمین', 'بوس', 'کس'], ['یکی', 'نان', 'خورش', 'جز', 'پیازی', 'نداشت', 'چون', 'دیگر', 'کسان', 'برگ', 'و', 'سازی', 'نداشت'], ['کسی', 'گفتش', 'ای', 'سغبه', 'خاکسار', 'برو', 'طبخی', 'از', 'خوان', 'یغما', 'بیار'], ['بخواه', 'و', 'مدار', 'ای', 'پسر', 'شرم', 'و', 'باک', 'که', 'مقطوع', 'روزی', 'بود', 'شرمناک'], ['قبا', 'بست', 'و', 'چابک', 'نوردید', 'دست', 'قبایش', 'دریدند', 'و', 'دستش', 'شکست'], ['همی', 'گفت', 'و', 'بر', 'خویشتن', 'می\\u200cگریست', 'که', 'مر', 'خویشتن', 'کرده', 'را', 'چاره', 'چیست'], ['بلا', 'جوی', 'باشد', 'گرفتار', 'آز', 'من', 'و', 'خانه', 'من', 'بعد', 'و', 'نان', 'و', 'پیاز'], ['جوینی', 'که', 'از', 'سعی', 'بازو', 'خورم', 'به', 'از', 'میده', 'بر', 'خوان', 'اهل', 'کرم'], ['چه', 'دلتنگ', 'خفت', 'آن', 'فرومایه', 'دوش', 'که', 'بر', 'سفره', 'دیگران', 'داشت', 'گوش'], ['یکی', 'گربه', 'در', 'خانه', 'زال', 'بود', 'که', 'برگشته', 'ایام', 'و', 'بد', 'حال', 'بود'], ['دوان', 'شد', 'به', 'مهمان', 'سرای', 'امیر', 'غلامان', 'سلطان', 'زدندش', 'به', 'تیر'], ['چکان', 'خونش', 'از', 'استخوان', 'می\\u200cدوید', 'همی', 'گفت', 'و', 'از', 'هول', 'جان', 'می\\u200cدوید'], ['اگر', 'جستم', 'از', 'دست', 'این', 'تیر', 'زن', 'من', 'و', 'موش', 'و', 'ویرانه', 'پیرزن'], ['نیرزد', 'عسل', 'جان', 'من', 'زخم', 'نیش', 'قناعت', 'نکوتر', 'به', 'دوشاب', 'خویش'], ['خداوند', 'از', 'آن', 'بنده', 'خرسند', 'نیست', 'که', 'راضی', 'به', 'قسم', 'خداوند', 'نیست'], ['یکی', 'طفل', 'دندان', 'برآورده', 'بود', 'پدر', 'سر', 'به', 'فکرت', 'فرو', 'برده_بود'], ['که', 'من', 'نان', 'و', 'برگ', 'از', 'کجا', 'آرمش', 'مروت', 'نباشد', 'که', 'بگذارمش'], ['چون', 'بیچاره', 'گفت', 'این', 'سخن', 'نزد', 'جفت', 'نگر', 'تا', 'زن', 'او', 'را', 'چه', 'مردانه', 'گفت'], ['مخور', 'هول', 'ابلیس', 'تا', 'جان', 'دهد', 'همان', 'کس', 'که', 'دندان', 'دهد', 'نان', 'دهد'], ['تواناست', 'آخر', 'خداوند', 'روز', 'که', 'روزی', 'رساند', 'تو', 'چندین', 'مسوز'], ['نگارنده', 'کودک', 'در', 'شکم', 'نویسنده', 'عمر', 'و', 'روزی', 'است', 'هم'], ['خداوندگاری', 'که', 'عبدی', 'خرید', 'بدارد', 'فکیف', 'آن', 'که', 'عبد', 'آفرید'], ['تو', 'را', 'نیست', 'این', 'تکیه', 'بر', 'کردگار', 'که', 'مملوک', 'را', 'بر', 'خداوندگار'], ['شنیدی', 'که', 'در', 'روزگار', 'قدیم', 'شدی', 'سنگ', 'در', 'دست', 'ابدال', 'سیم'], ['نپنداری', 'این', 'قول', 'معقول', 'نیست', 'چون', 'قانع', 'شدی', 'سیم', 'و', 'سنگت', 'یکی', 'است'], ['چون', 'طفل', 'اندرون', 'دارد', 'از', 'حرص', 'پاک', 'چه', 'مشتی', 'زرش', 'پیش', 'همت', 'چه', 'خاک'], ['خبر', 'ده', 'به', 'درویش', 'سلطان', 'پرست', 'که', 'سلطان', 'از', 'درویش', 'مسکین', 'ترست'], ['گدا', 'را', 'کند', 'یک', 'درم', 'سیم', 'سیر', 'فریدون', 'به', 'ملک', 'عجم', 'نیم', 'سیر'], ['نگهبانی', 'ملک', 'و', 'دولت', 'بلاست', 'گدا', 'پادشاه', 'است', 'و', 'نامش', 'گداست'], ['گدایی', 'که', 'بر', 'خاطرش', 'بند', 'نیست', 'به', 'از', 'پادشاهی', 'که', 'خرسند', 'نیست'], ['بخسبند', 'خوش', 'روستایی', 'و', 'جفت', 'به', 'ذوقی', 'که', 'سلطان', 'در', 'ایوان', 'نخفت'], ['اگر', 'پادشاه', 'است', 'و', 'اگر', 'پینه', 'دوز', 'چون', 'خفتند', 'گردد', 'شب', 'هر', 'دو', 'روز'], ['چون', 'سیلاب', 'خواب', 'آمد', 'و', 'مرد', 'برد', 'چه', 'بر', 'تخت', 'سلطان', 'چه', 'بر', 'دشت', 'کرد'], ['چون', 'بینی', 'توانگر', 'سر', 'از', 'کبر', 'مست', 'برو', 'شکر', 'یزدان', 'کن', 'ای', 'تنگدست'], ['نداری', 'بحمدالله', 'آن', 'دسترس', 'که', 'برخیزد', 'از', 'دستت', 'آزار', 'کس'], ['شنیدم', 'که', 'صاحبدلی', 'نیکمرد', 'یکی', 'خانه', 'بر', 'قامت', 'خویش', 'کرد'], ['کسی', 'گفت', 'می\\u200cدانمت', 'دسترس', 'که', 'از', 'این', 'خانه', 'بهتر', 'کنی', 'گفت', 'بس'], ['چه', 'می\\u200cخواهم', 'از', 'طارم', 'افراشتن', 'همینم', 'بس', 'از', 'بهر', 'بگذاشتن'], ['مکن', 'خانه', 'بر', 'راه', 'سیل', 'ای', 'غلام', 'که', 'کس', 'را', 'نگشت', 'این', 'عمارت', 'تمام'], ['نه', 'از', 'معرفت', 'باشد', 'و', 'عقل', 'و', 'رای', 'که', 'بر', 'راه', 'کند', 'کاروانی', 'سرای'], ['یکی', 'سلطنت', 'ران', 'صاحب', 'شکوه', 'فرو', 'خواست', 'رفت', 'آفتابش', 'به', 'کوه'], ['به', 'شیخی', 'در', 'آن', 'بقعه', 'کشور', 'گذاشت', 'که', 'در', 'دوره', 'قائم', 'مقامی', 'نداشت'], ['چون', 'خلوت', 'نشین', 'کوس', 'دولت', 'شنید', 'دیگر', 'ذوق', 'در', 'کنج', 'خلوت', 'ندید'], ['چپ', 'و', 'راست', 'لشکر', 'کشیدن', 'گرفت', 'دل', 'پردلان', 'زو', 'رمیدن', 'گرفت'], ['چنان', 'سخت', 'بازو', 'شد', 'و', 'تیز', 'چنگ', 'که', 'با', 'جنگجویان', 'طلب', 'کرد', 'جنگ'], ['از', 'قوم', 'پراکنده', 'خلقی', 'بکشت', 'دیگر', 'جمع', 'گشتند', 'و', 'هم', 'رای', 'و', 'پشت'], ['چنان', 'در', 'حصارش', 'کشیدند', 'تنگ', 'که', 'عاجز', 'شد', 'از', 'تیرباران', 'و', 'سنگ'], ['بر', 'نیکمردی', 'فرستاد', 'کس', 'که', 'صعبم', 'فرومانده', 'فریاد', 'رس'], ['به', 'همت', 'مدد', 'کن', 'که', 'شمشیر', 'و', 'تیر', 'نه', 'در', 'هر', 'وغایی', 'بود', 'دستگیر'], ['چون', 'بشنید', 'عابد', 'بخندید', 'و', 'گفت', 'چرا', 'نیم', 'نانی', 'نخورد', 'و', 'نخفت'], ['ندانست', 'قارون', 'نعمت', 'پرست', 'که', 'گنج', 'سلامت', 'به', 'کنج', 'در', 'است'], ['کمال', 'است', 'در', 'نفس', 'مرد', 'کریم', 'گرش', 'زر', 'نباشد', 'چه', 'نقصان', 'و', 'بیم'], ['مپندار', 'اگر', 'سفله', 'قارون', 'شود', 'که', 'طبع', 'لئیمش', 'دگرگون', 'شود'], ['وگر', 'درنیابد', 'کرم', 'پیشه', 'نان', 'نهادش', 'توانگر', 'بود', 'همچنان'], ['مروت', 'زمین', 'است', 'و', 'سرمایه', 'زرع', 'بده', 'کاصل', 'خالی', 'نماند', 'از', 'فرع'], ['خدایی', 'که', 'از', 'خاک', 'مردم', 'کند', 'عجب', 'باشد', 'اگر', 'مردمی', 'گم', 'کند'], ['از', 'نعمت', 'نهادن', 'بلندی', 'مجوی', 'که', 'ناخوش', 'کند', 'آب', 'استاده', 'بوی'], ['به', 'بخشندگی', 'کوش', 'کآب', 'روان', 'به', 'سیلش', 'مدد', 'می\\u200cرسد', 'از', 'آسمان'], ['اگر', 'از', 'جاه', 'و', 'دولت', 'بیفتد', 'لئیم', 'دیگر', 'باره', 'نادر', 'شود', 'مستقیم'], ['وگر', 'قیمتی', 'گوهری', 'غم', 'مدار', 'که', 'ضایع', 'نگرداندت', 'روزگار'], ['کلوخ', 'اگر', 'چه', 'افتاده', 'بینی', 'به', 'راه', 'نبینی', 'که', 'در', 'او', 'کند', 'کس', 'نگاه'], ['و', 'اگر', 'خرده', 'زر', 'از', 'دندان', 'گاز', 'بیفتد', 'به', 'شمعش', 'بجویند', 'باز'], ['به', 'در', 'می\\u200cکنند', 'آبگینه', 'از', 'سنگ', 'کجا', 'ماند', 'آیینه', 'در', 'زیر', 'زنگ'], ['هنر', 'باید', 'و', 'فضل', 'و', 'دین', 'و', 'کمال', 'که', 'گاه', 'آید', 'و', 'گه', 'رود', 'جاه', 'و', 'مال'], ['شنیدم', 'از', 'پیران', 'شیرین', 'سخن', 'که', 'بود', 'در', 'این', 'شهر', 'پیری', 'کهن'], ['بسی', 'دیده', 'شاهان', 'و', 'دوران', 'و', 'امر', 'سرآورده', 'عمری', 'از', 'تاریخ', 'عمرو'], ['درخت', 'کهن', 'میوه\\u200cای', 'تازه', 'داشت', 'که', 'شهر', 'از', 'نکویی', 'پرآوازه', 'داشت'], ['عجب', 'در', 'زنخدان', 'آن', 'دل', 'فریب', 'که', 'هرگز', 'نبوده\\u200cست', 'بر', 'سرو', 'سیب'], ['از', 'شوخی', 'و', 'مردم', 'خراشیدنش', 'فرج', 'دید', 'در', 'سر', 'تراشیدنش'], ['به', 'موسی', 'کهن', 'عمر', 'کوته', 'امید', 'سرش', 'کرد', 'چون', 'دست', 'موسی', 'سپید'], ['از', 'سر', 'تیزی', 'آن', 'آهنین', 'دل', 'که', 'بود', 'به', 'عیب', 'پری\\u200cرخ', 'زبان', 'برگشود'], ['به', 'مویی', 'که', 'کرد', 'از', 'نکوییش', 'کم', 'نهادند', 'حالی', 'سرش', 'در', 'شکم'], ['چون', 'چنگ', 'از', 'خجالت', 'سر', 'خوبروی', 'نگونسار', 'و', 'در', 'پیشش', 'افتاده', 'موی'], ['یکی', 'را', 'که', 'خاطر', 'در', 'او', 'رفته_بود', 'چون', 'چشمان', 'دلبندش', 'آشفته', 'بود'], ['کسی', 'گفت', 'جور', 'آزمودی', 'و', 'درد', 'دیگر', 'گرد', 'سودای', 'باطل', 'مگرد'], ['از', 'مهرش', 'بگردان', 'چون', 'پروانه', 'پشت', 'که', 'مقراض', 'شمع', 'جمالش', 'بکشت'], ['برآمد', 'خروش', 'از', 'هوادار', 'چست', 'که', 'تردامنان', 'را', 'بود', 'عهد', 'سست'], ['پسر', 'خوش', 'منش', 'باید', 'و', 'خوبروی', 'پدر', 'گو', 'به', 'جهلش', 'بینداز', 'موی'], ['من', 'را', 'جان', 'به', 'مهرش', 'برآمیخته\\u200cست', 'نه', 'خاطر', 'به', 'مویی', 'در', 'آویخته\\u200cست'], ['چون', 'روی', 'نکو', 'داری', 'انده', 'مخور', 'که', 'موی', 'اگر', 'بیفتد', 'بروید', 'دیگر'], ['نه', 'پیوسته', 'رز', 'خوشه\\u200cتر', 'دهد', 'گهی', 'برگ', 'ریزد', 'گهی', 'بر', 'دهد'], ['بزرگان', 'چون', 'خور', 'در', 'حجاب', 'اوفتند', 'حسودان', 'چون', 'اخگر', 'در', 'آب', 'اوفتند'], ['برون', 'آید', 'از', 'زیر', 'ابر', 'آفتاب', 'به', 'تدریج', 'و', 'اخگر', 'بمیرد', 'در', 'آب'], ['از', 'ظلمت', 'مترس', 'ای', 'پسندیده', 'دوست', 'که', 'ممکن', 'بود', 'کاب', 'حیوان', 'در', 'اوست'], ['نه', 'گیتی', 'پس', 'از', 'جنبش', 'آرام', 'یافت', 'نه', 'سعدی', 'سفر', 'کرد', 'تا', 'کام', 'یافت'], ['دل', 'از', 'بی', 'مرادی', 'به', 'فکرت', 'مسوز', 'شب', 'آبستن', 'است', 'ای', 'برادر', 'به', 'روز'], ['سخن', 'در', 'صلاح', 'است', 'و', 'تدبیر', 'و', 'خوی', 'نه', 'در', 'اسب', 'و', 'میدان', 'و', 'چوگان', 'و', 'گوی'], ['تو', 'با', 'دشمن', 'نفس', 'هم\\u200cخانه\\u200cای', 'چه', 'در', 'بند', 'پیکار', 'بیگانه\\u200cای'], ['عنان', 'باز', 'پیچان', 'نفس', 'از', 'حرام', 'به', 'مردی', 'از', 'رستم', 'گذشتند', 'و', 'سام'], ['تو', 'خود', 'را', 'چون', 'کودک', 'ادب', 'کن', 'به', 'چوب', 'به', 'گرز', 'گران', 'مغز', 'مردم', 'مکوب'], ['وجود', 'تو', 'شهری', 'است', 'پر', 'نیک', 'و', 'بد', 'تو', 'سلطان', 'و', 'دستور', 'دانا', 'خرد'], ['رضا', 'و', 'ورع', 'نیکنامان', 'حر', 'هوی', 'و', 'هوس', 'رهزن', 'و', 'کیسه', 'بر'], ['چون', 'سلطان', 'عنایت', 'کند', 'با', 'بدان', 'کجا', 'ماند', 'آسایش', 'بخردان'], ['تو', 'را', 'شهوت', 'و', 'حرص', 'و', 'کین', 'و', 'حسد', 'چون', 'خون', 'در', 'رگانند', 'و', 'جان', 'در', 'جسد'], ['هوی', 'و', 'هوس', 'را', 'نماند', 'ستیز', 'چون', 'بینند', 'سر', 'پنجه', 'عقل', 'تیز'], ['رئیسی', 'که', 'دشمن', 'سیاست', 'نکرد', 'هم', 'از', 'دست', 'دشمن', 'ریاست', 'نکرد'], ['نخواهم_در', 'این', 'نوع', 'گفتن', 'بسی', 'که', 'حرفی', 'بس', 'اگر', 'کار', 'بندد', 'کسی'], ['اگر', 'پا', 'در', 'دامن', 'آری', 'چون', 'کوه', 'سرت', 'از', 'آسمان', 'بگذرد', 'در', 'شکوه'], ['زبان', 'درکش', 'ای', 'مرد', 'بسیار', 'دان', 'که', 'فردا', 'قلم', 'نیست', 'بر', 'بی', 'زبان'], ['صدف', 'وار', 'گوهرشناسان', 'راز', 'دهان', 'جز', 'به', 'لؤلؤ', 'نکردند', 'باز'], ['فراوان', 'سخن', 'باشد', 'آکنده', 'گوش', 'نصیحت', 'نگیرد', 'مگر', 'در', 'خموش'], ['چون', 'خواهی_که', 'گویی', 'نفس', 'بر', 'نفس', 'حلاوت', 'نیابی', 'و', 'گفتار', 'کس'], ['نباید', 'سخن', 'گفت', 'ناساخته', 'نشاید', 'بریدن', 'نینداخته'], ['تأمل', 'کنان', 'در', 'خطا', 'و', 'صواب', 'به', 'از', 'ژاژخایان', 'حاضر', 'جواب'], ['کمال', 'است', 'در', 'نفس', 'انسان', 'سخن', 'تو', 'خود', 'را', 'به', 'گفتار', 'ناقص', 'مکن'], ['کم', 'آواز', 'هرگز', 'نبینی', 'خجل', 'جوی', 'مشک', 'بهتر', 'که', 'یک', 'توده', 'گل'], ['حذر', 'کن', 'از', 'نادان', 'ده', 'مرده', 'گوی', 'چون', 'دانا', 'یکی', 'گوی', 'و', 'پرورده', 'گوی'], ['صد', 'انداختی', 'تیر', 'و', 'هر', 'صد', 'خطاست', 'اگر', 'هوشمندی', 'یک', 'انداز', 'و', 'راست'], ['چرا', 'گوید', 'آن', 'چیز', 'در', 'خفیه', 'مرد', 'که\\u200cگر', 'فاش', 'گردد', 'شود', 'روی', 'زرد'], ['مکن', 'پیش', 'دیوار', 'غیبت', 'بسی', 'بود', 'که', 'از', 'پسش', 'گوش', 'دارد', 'کسی'], ['درون', 'دلت', 'شهربند', 'است', 'راز', 'نگر', 'تا', 'نبیند', 'در', 'شهر', 'باز'], ['از', 'آن', 'مرد', 'دانا', 'دهان', 'دوخته\\u200cست', 'که', 'بیند', 'که', 'شمع', 'از', 'زبان', 'سوخته\\u200cست'], ['تکش', 'با', 'غلامان', 'یکی', 'راز', 'گفت', 'که', 'این', 'را', 'نباید', 'به', 'کس', 'باز', 'گفت'], ['به', 'یک', 'سالش', 'آمد', 'از', 'دل', 'بر', 'دهان', 'به', 'یک', 'روز', 'شد', 'منتشر', 'در', 'جهان'], ['بفرمود', 'جلاد', 'را', 'بی', 'دریغ', 'که', 'بردار', 'سرهای', 'اینان', 'به', 'تیغ'], ['یکی', 'زآن', 'میان', 'گفت', 'و', 'زنهار', 'خواست', 'مکش', 'بندگان', 'کاین', 'گناه', 'از', 'تو', 'خاست'], ['تو', 'اول', 'نبستی', 'که', 'سرچشمه', 'بود', 'چون', 'سیلاب', 'شد', 'پیش', 'بستن', 'چه', 'سود'], ['تو', 'پیدا', 'مکن', 'راز', 'دل', 'بر', 'کسی', 'که', 'او', 'خود', 'نگوید', 'بر', 'هر', 'کسی'], ['جواهر', 'به', 'گنجینه', 'داران', 'سپار', 'ولی', 'راز', 'را', 'خویشتن', 'پاس', 'دار'], ['سخن', 'تا', 'نگویی', 'بر', 'او', 'دست', 'هست', 'چون', 'گفته_شود', 'یابد', 'او', 'بر', 'تو', 'دست'], ['سخن', 'دیو', 'بندی', 'است', 'در', 'چاه', 'دل', 'به', 'بالای', 'کام', 'و', 'زبانش', 'مهل'], ['توان', 'باز', 'دادن', 'راه', 'نره', 'دیو', 'ولی', 'باز', 'نتوان', 'گرفتن', 'به', 'ریو'], ['تو', 'دانی', 'که', 'چون', 'دیو', 'رفت', 'از', 'قفس', 'نیاید', 'به', 'لا', 'حول', 'کس', 'باز', 'پس'], ['یکی', 'طفل', 'بر', 'گیرد', 'از', 'رخش', 'بند', 'نیاید', 'به', 'صد', 'رستم', 'در', 'کمند'], ['مگوی', 'آن', 'که\\u200cگر', 'بر', 'ملا', 'اوفتد', 'وجودی', 'از', 'آن', 'در', 'بلا', 'اوفتد'], ['به', 'دهقان', 'نادان', 'چه', 'خوش', 'گفت', 'زن', 'به', 'دانش', 'سخن', 'گوی', 'یا', 'دم', 'مزن'], ['مگوی', 'آنچه', 'طاقت', 'نداری', 'شنود', 'که', 'جو', 'کشته', 'گندم', 'نخواهی_درود'], ['چه', 'نیکو', 'زده\\u200cست', 'این', 'مثل', 'برهمن', 'بود', 'حرمت', 'هر', 'کس', 'از', 'خویشتن'], ['چون', 'دشنام', 'گویی', 'دعا', 'نشنوی', 'به', 'جز', 'کشته', 'خویشتن', 'ندروی'], ['مگوی', 'و', 'منه', 'تا', 'توانی', 'قدم', 'از', 'اندازه', 'بیرون', 'وز', 'اندازه', 'کم'], ['نباید', 'که', 'بسیار', 'بازی', 'کنی', 'که', 'مر', 'قیمت', 'خویش', 'را', 'بشکنی'], ['وگر', 'تند', 'باشی', 'به', 'یک', 'بار', 'و', 'تیز', 'جهان', 'از', 'تو', 'گیرند', 'راه', 'گریز'], ['نه', 'کوتاه', 'دستی', 'و', 'بیچارگی', 'نه', 'زجر', 'و', 'تطاول', 'به', 'یک\\u200cبارگی'], ['یکی', 'خوب', 'خلق', 'خلق', 'پوش', 'بود', 'که', 'در', 'مصر', 'یک', 'چند', 'خاموش', 'بود'], ['خردمند', 'مردم', 'از', 'نزدیک', 'و', 'دور', 'به', 'گردش', 'چون', 'پروانه', 'جویان', 'نور'], ['تفکر', 'شبی', 'با', 'دل', 'خویش', 'کرد', 'که', 'پوشیده', 'زیر', 'زبان', 'است', 'مرد'], ['اگر', 'همچنین', 'سر', 'به', 'خود', 'در', 'برم', 'چه', 'دانند', 'مردم', 'که', 'دانشورم'], ['سخن', 'گفت', 'و', 'دشمن', 'بدانست', 'و', 'دوست', 'که', 'در', 'مصر', 'نادان\\u200cتر', 'از', 'او', 'هم', 'اوست'], ['حضورش', 'پریشان', 'شد', 'و', 'کار', 'زشت', 'سفر', 'کرد', 'و', 'بر', 'طاق', 'مسجد', 'نبشت'], ['در', 'آیینه\\u200cگر', 'خویشتن', 'دیدمی', 'به', 'بی', 'دانشی', 'پرده', 'ندریدمی'], ['چنین', 'زشت', 'از', 'آن', 'پرده', 'برداشتم', 'که', 'خود', 'را', 'نکو', 'روی', 'پنداشتم'], ['کم', 'آواز', 'را', 'باشد', 'آوازه', 'تیز', 'چون', 'گفتی', 'و', 'رونق', 'نماندت', 'گریز'], ['تو', 'را', 'خامشی', 'ای', 'خداوند', 'هوش', 'وقار', 'است', 'و', 'نا', 'اهل', 'را', 'پرده', 'پوش'], ['اگر', 'عالمی', 'هیبت', 'خود', 'مبر', 'وگر', 'جاهلی', 'پرده', 'خود', 'مدر'], ['ضمیر', 'دل', 'خویش', 'منمای', 'زود', 'که', 'هر', 'گه', 'که', 'خواهی_توانی', 'نمود'], ['ولیکن', 'چون', 'پیدا', 'شود', 'راز', 'مرد', 'به', 'کوشش', 'نشاید', 'نهان', 'باز', 'کرد'], ['قلم', 'سر', 'سلطان', 'چه', 'نیکو', 'نهفت', 'که', 'تا', 'کارد', 'بر', 'سر', 'نبودش', 'نگفت'], ['بهایم', 'خموشند', 'و', 'گویا', 'بشر', 'زبان', 'بسته', 'بهتر', 'که', 'گویا', 'به', 'شر'], ['چون', 'مردم', 'سخن', 'گفت', 'باید', 'به', 'هوش', 'وگر', 'نه', 'شدن', 'چون', 'بهایم', 'خموش'], ['به', 'نطق', 'است', 'و', 'عقل', 'آدمی\\u200cزاده', 'فاش', 'چون', 'طوطی', 'سخنگوی', 'نادان', 'مباش'], ['به', 'نطق', 'آدمی', 'بهتر', 'است', 'از', 'دواب', 'دواب', 'از', 'تو', 'به\\u200cگر', 'نگویی', 'صواب'], ['یکی', 'ناسزا', 'گفت', 'در', 'وقت', 'جنگ', 'گریبان', 'دریدند', 'او', 'را', 'به', 'چنگ'], ['قفا', 'خورده', 'عریان', 'و', 'گریان', 'نشست', 'جهاندیده\\u200cای', 'گفتش', 'ای', 'خودپرست'], ['چون', 'غنچه', 'گرت', 'بسته_بودی', 'دهن', 'دریده', 'ندیدی', 'چون', 'گل', 'پیرهن'], ['سراسیمه', 'گوید', 'سخن', 'بر', 'گزاف', 'چون', 'طنبور', 'بی', 'مغز', 'بسیار', 'لاف'], ['نبینی', 'که', 'آتش', 'زبان', 'است', 'و', 'بس', 'به', 'آبی', 'توان', 'کشتنش', 'در', 'نفس'], ['اگر', 'هست', 'مرد', 'از', 'هنر', 'بهره\\u200cور', 'هنر', 'خود', 'بگوید', 'نه', 'صاحب', 'هنر'], ['اگر', 'مشک', 'خالص', 'نداری', 'مگوی', 'ورت', 'هست', 'خود', 'فاش', 'گردد', 'به', 'بوی'], ['به', 'سوگند', 'گفتن', 'که', 'زر', 'مغربی', 'است', 'چه', 'حاجت', 'محک', 'خود', 'بگوید', 'که', 'چیست'], ['بگویند', 'از', 'این', 'حرف', 'گیران', 'هزار', 'که', 'سعدی', 'نه', 'اهل', 'است', 'و', 'آمیزگار'], ['روا', 'باشد', 'اگر', 'پوستینم', 'درند', 'که', 'طاقت', 'ندارم', 'که', 'مغزم', 'برند'], ['عضد', 'را', 'پسر', 'سخت', 'رنجور', 'بود', 'شکیب', 'از', 'نهاد', 'پدر', 'دور', 'بود'], ['یکی', 'پارسا', 'گفتش', 'از', 'روی', 'پند', 'که', 'بگذار', 'مرغان', 'وحشی', 'از', 'بند'], ['قفسهای', 'مرغ', 'سحر', 'خوان', 'شکست', 'که', 'در', 'بند', 'ماند', 'چون', 'زندان', 'شکست'], ['نگه', 'داشت', 'بر', 'طاق', 'بستان', 'سرای', 'یکی', 'نامور', 'بلبل', 'خوش\\u200cسرای'], ['پسر', 'صبحدم', 'سوی', 'بستان', 'شتافت', 'جز', 'آن', 'مرغ', 'بر', 'طاق', 'ایوان', 'نیافت'], ['بخندید', 'کای', 'بلبل', 'خوش', 'نفس', 'تو', 'از', 'گفت', 'خود', 'مانده\\u200cای', 'در', 'قفس'], ['ندارد', 'کسی', 'با', 'تو', 'ناگفته', 'کار', 'ولیکن', 'چون', 'گفتی', 'دلیلش', 'بیار'], ['چون', 'سعدی', 'که', 'چندی', 'زبان', 'بسته_بود', 'از', 'طعن', 'زبان', 'آوران', 'رسته', 'بود'], ['کسی', 'گیرد', 'آرام', 'دل', 'در', 'کنار', 'که', 'از', 'صحبت', 'خلق', 'گیرد', 'کنار'], ['مکن', 'عیب', 'خلق', 'ای', 'خردمند', 'فاش', 'به', 'عیب', 'خود', 'از', 'خلق', 'مشغول', 'باش'], ['چون', 'باطل', 'سرایند', 'مگمار', 'گوش', 'چون', 'بی\\u200cستر', 'بینی', 'بصیرت', 'بپوش'], ['شنیدم', 'که', 'در', 'بزم', 'ترکان', 'مست', 'مریدی', 'دف', 'و', 'چنگ', 'مطرب', 'شکست'], ['چون', 'چنگش', 'کشیدند', 'حالی', 'به', 'موی', 'غلامان', 'و', 'چون', 'دف', 'زدندش', 'به', 'روی'], ['شب', 'از', 'درد', 'چوگان', 'و', 'سیلی', 'نخفت', 'دیگر', 'روز', 'پیرش', 'به', 'تعلیم', 'گفت'], ['نخواهی_که', 'باشی', 'چون', 'دف', 'روی', 'ریش', 'چون', 'چنگ', 'ای', 'برادر', 'سر', 'انداز', 'پیش'], ['دو', 'کس', 'گرد', 'دیدند', 'و', 'آشوب', 'و', 'جنگ', 'پراکنده', 'نعلین', 'و', 'پرنده', 'سنگ'], ['یکی', 'فتنه', 'دید', 'از', 'طرف', 'بر', 'شکست', 'یکی', 'در', 'میان', 'آمد', 'و', 'سر', 'شکست'], ['کسی', 'خوشتر', 'از', 'خویشتن', 'دار', 'نیست', 'که', 'با', 'خوب', 'و', 'زشت', 'کسش', 'کار', 'نیست'], ['تو', 'را', 'دیده', 'در', 'سر', 'نهادند', 'و', 'گوش', 'دهان', 'جای', 'گفتار', 'و', 'دل', 'جای', 'هوش'], ['مگر', 'باز', 'دانی', 'نشیب', 'از', 'فراز', 'نگویی', 'که', 'این', 'کوته', 'است', 'آن', 'دراز'], ['چنین', 'گفت', 'پیری', 'پسندیده', 'هوش', 'خوش', 'آید', 'سخنهای', 'پیران', 'به', 'گوش'], ['که', 'در', 'هند', 'رفتم', 'به', 'کنجی', 'فراز', 'چه', 'دیدم', 'چون', 'یلدا', 'سیاهی', 'دراز'], ['تو', 'گفتی', 'که', 'عفریت', 'بلقیس', 'بود', 'به', 'زشتی', 'نمودار', 'ابلیس', 'بود'], ['در', 'آغوش', 'او', 'دختری', 'چون', 'قمر', 'فرو', 'برده', 'دندان', 'به', 'لبهاش', 'در'], ['چنان', 'تنگش', 'آورده', 'در', 'کنار', 'که', 'پنداری', 'اللیل', 'یغشی', 'النهار'], ['من', 'را', 'امر', 'معروف', 'دامن', 'گرفت', 'فضول', 'آتشی', 'گشت', 'و', 'در', 'من', 'گرفت'], ['طلب', 'کردم', 'از', 'پیش', 'و', 'پس', 'چوب', 'و', 'سنگ', 'که\\u200cای', 'نا', 'خدا', 'ترس', 'بی', 'نام', 'و', 'ننگ'], ['به', 'تشنیع', 'و', 'دشنام', 'و', 'آشوب', 'و', 'زجر', 'سپید', 'از', 'سیه', 'فرق', 'کردم', 'چون', 'فجر'], ['شد', 'آن', 'ابر', 'ناخوش', 'از', 'بالای', 'باغ', 'پدید', 'آمد', 'آن', 'بیضه', 'از', 'زیر', 'زاغ'], ['از', 'لا', 'حولم', 'آن', 'دیو', 'هیکل', 'بجست', 'پری', 'پیکر', 'در', 'من', 'آویخت', 'دست'], ['که\\u200cای', 'زرق', 'سجاده', 'دلق', 'پوش', 'سیه\\u200cکار', 'دنیاخر', 'دین\\u200cفروش'], ['من', 'را', 'عمرها', 'دل', 'از', 'کف', 'رفته_بود', 'بر', 'این', 'شخص', 'و', 'جان', 'بر', 'او', 'آشفته', 'بود'], ['کنون', 'پخته_شد', 'لقمه', 'خام', 'من', 'که', 'گرمش', 'به', 'در', 'کردی', 'از', 'کام', 'من'], ['تظلم', 'برآورد', 'و', 'فریاد', 'خواند', 'که', 'شفقت', 'بر', 'افتاد', 'و', 'رحمت', 'نماند'], ['نماند', 'از', 'جوانان', 'کسی', 'دستگیر', 'که', 'بستاندم', 'داد', 'از', 'این', 'مرد', 'پیر'], ['که', 'شرمش', 'نیاید', 'از', 'پیری', 'همی', 'زدن', 'دست', 'در', 'ستر', 'نامحرمی'], ['همی', 'کرد', 'فریاد', 'و', 'دامن', 'به', 'چنگ', 'من', 'را', 'مانده', 'سر', 'در', 'گریبان', 'از', 'ننگ'], ['فرو', 'گفت', 'عقلم', 'به', 'گوش', 'ضمیر', 'که', 'از', 'جامه', 'بیرون', 'روم', 'همچو', 'سیر'], ['نه', 'خصمی', 'که', 'با', 'او', 'برآیی', 'به', 'داو', 'بگرداندت', 'گرد', 'گیتی', 'به', 'گاو'], ['برهنه', 'دوان', 'رفتم', 'از', 'پیش', 'زن', 'که', 'در', 'دست', 'او', 'جامه', 'بهتر', 'که', 'من'], ['پس', 'از', 'مدتی', 'کرد', 'بر', 'من', 'گذار', 'که', 'می\\u200cدانیم', 'گفتمش', 'زینهار'], ['که', 'من', 'توبه', 'کردم', 'به', 'دست', 'تو', 'بر', 'که', 'گرد', 'فضولی', 'نگردم', 'دیگر'], ['کسی', 'را', 'نیاید', 'چنین', 'کار', 'پیش', 'که', 'عاقل', 'نشیند', 'پس', 'کار', 'خویش'], ['از', 'آن', 'شنعت', 'این', 'پند', 'برداشتم', 'دیگر', 'دیده', 'نادیده', 'انگاشتم'], ['زبان', 'در', 'کش', 'اگر', 'عقل', 'داری', 'و', 'هوش', 'چون', 'سعدی', 'سخن', 'گوی', 'ور', 'نه', 'خموش'], ['یکی', 'پیش', 'داود', 'طائی', 'نشست', 'که', 'دیدم', 'فلان', 'صوفی', 'افتاده', 'مست'], ['قی', 'آلوده', 'دستار', 'و', 'پیراهنش', 'گروهی', 'سگان', 'حلقه', 'پیرامنش'], ['چون', 'پیر', 'از', 'جوان', 'این', 'حکایت', 'شنید', 'به', 'آزار', 'از', 'او', 'روی', 'در', 'هم', 'کشید'], ['زمانی', 'بر', 'آشفت', 'و', 'گفت', 'ای', 'رفیق', 'به', 'کار', 'آید', 'امروز', 'یار', 'شفیق'], ['برو', 'زآن', 'مقام', 'شنیعش', 'بیار', 'که', 'در', 'شرع', 'نهی', 'است', 'و', 'در', 'خرقه', 'عار'], ['به', 'پشتش', 'در', 'آور', 'چون', 'مردان', 'که', 'مست', 'عنان', 'سلامت', 'ندارد', 'به', 'دست'], ['نیوشنده', 'شد', 'زین', 'سخن', 'تنگدل', 'به', 'فکرت', 'فرو', 'رفت', 'چون', 'خر', 'به', 'گل'], ['نه', 'زهره', 'که', 'فرمان', 'نگیرد', 'به', 'گوش', 'نه', 'یارا', 'که', 'مست', 'در', 'آرد', 'به', 'دوش'], ['زمانی', 'بپیچید', 'و', 'درمان', 'ندید', 'راه', 'سر', 'کشیدن', 'از', 'فرمان', 'ندید'], ['میان', 'بست', 'و', 'بی', 'اختیارش', 'به', 'دوش', 'در', 'آورد', 'و', 'شهری', 'بر', 'او', 'عام', 'جوش'], ['یکی', 'طعنه', 'می\\u200cزد', 'که', 'درویش', 'بین', 'زهی', 'پارسایان', 'پاکیزه', 'دین'], ['یکی', 'صوفیان', 'بین', 'که', 'می\\u200cخورده\\u200cاند', 'مرقع', 'به', 'سیکی', 'گرو', 'کرده\\u200cاند'], ['اشارت', 'کنان', 'این', 'و', 'آن', 'را', 'به', 'دست', 'که', 'آن', 'سر', 'گران', 'است', 'و', 'این', 'نیم', 'مست'], ['به', 'گردن', 'بر', 'از', 'جور', 'دشمن', 'حسام', 'به', 'از', 'شنعت', 'شهر', 'و', 'جوش', 'عوام'], ['بلا', 'دید', 'و', 'روزی', 'به', 'محنت', 'گذاشت', 'به', 'ناکام', 'بردش', 'به', 'جایی', 'که', 'داشت'], ['شب', 'از', 'فکرت', 'و', 'نامرادی', 'نخفت', 'دیگر', 'روز', 'پیرش', 'به', 'تعلیم', 'گفت'], ['مریز', 'آبروی', 'برادر', 'به', 'کوی', 'که', 'دهرت', 'نریزد', 'به', 'شهر', 'آبروی'], ['بد', 'در', 'حق', 'مردم', 'نیک', 'و', 'بد', 'مگوی', 'ای', 'جوانمرد', 'صاحب', 'خرد'], ['که', 'بد', 'مرد', 'را', 'خصم', 'خود', 'می\\u200cکنی', 'وگر', 'نیکمردست', 'بد', 'می\\u200cکنی'], ['تو', 'را', 'هر', 'که', 'گوید', 'فلان', 'کس', 'بدست', 'چنان', 'دان', 'که', 'در', 'پوستین', 'خودست'], ['که', 'فعل', 'فلان', 'را', 'بباید', 'بیان', 'وز', 'این', 'فعل', 'بد', 'می\\u200cبرآید', 'عیان'], ['به', 'بد', 'گفتن', 'خلق', 'چون', 'دم', 'زدی', 'اگر', 'راست', 'گویی', 'سخن', 'هم', 'بدی'], ['زبان', 'کرد', 'شخصی', 'به', 'غیبت', 'دراز', 'بدو', 'گفت', 'داننده\\u200cای', 'سرفراز'], ['که', 'یاد', 'کسان', 'پیش', 'من', 'بد', 'مکن', 'من', 'را', 'بدگمان', 'در', 'حق', 'خود', 'مکن'], ['گرفتم', 'از', 'تمکین', 'او', 'کم', 'ببود', 'نخواهد_به', 'جاه', 'تو', 'در', 'فزود'], ['کسی', 'گفت', 'و', 'پنداشتم', 'طیبت', 'است', 'که', 'دزدی', 'بسامان\\u200cتر', 'از', 'غیبت', 'است'], ['بدو', 'گفتم', 'ای', 'یار', 'آشفته', 'هوش', 'شگفت', 'آمد', 'این', 'داستانم', 'به', 'گوش'], ['به', 'ناراستی', 'در', 'چه', 'بینی', 'بهی', 'که', 'بر', 'غیبتش', 'مرتبت', 'می\\u200cنهی'], ['بلی', 'گفت', 'دزدان', 'تهور', 'کنند', 'به', 'بازوی', 'مردی', 'شکم', 'پر', 'کنند'], ['از', 'غیبت', 'چه', 'می\\u200cخواهد', 'آن', 'ساده', 'مرد', 'که', 'دیوان', 'سیه', 'کرد', 'و', 'چیزی', 'نخورد'], ['من', 'را', 'در', 'نظامیه', 'ادرار', 'بود', 'شب', 'و', 'روز', 'تلقین', 'و', 'تکرار', 'بود'], ['مر', 'استاد', 'را', 'گفتم', 'ای', 'پر', 'خرد', 'فلان', 'یار', 'بر', 'من', 'حسد', 'می\\u200cبرد'], ['چون', 'من', 'داد', 'معنی', 'دهم', 'در', 'حدیث', 'بر', 'آید', 'به', 'هم', 'اندرون', 'خبیث'], ['شنید', 'این', 'سخن', 'پیشوای', 'ادب', 'به', 'تندی', 'برآشفت', 'و', 'گفت', 'ای', 'عجب'], ['حسودی', 'پسندت', 'نیامد', 'از', 'دوست', 'که', 'معلوم', 'کردت', 'که', 'غیبت', 'نکوست'], ['اگر', 'او', 'راه', 'دوزخ', 'گرفت', 'از', 'خسی', 'از', 'این', 'راه', 'دیگر', 'تو', 'در', 'او', 'رسی'], ['کسی', 'گفت', 'حجاج', 'خون\\u200cخواره\\u200cای', 'است', 'دلش', 'همچو', 'سنگ', 'سیه', 'پاره\\u200cای', 'است'], ['نترسد', 'همی', 'از', 'آه', 'و', 'فریاد', 'خلق', 'خدایا', 'تو', 'بستان', 'از', 'او', 'داد', 'خلق'], ['جهاندیده\\u200cای', 'پیر', 'دیرینه', 'زاد', 'جوان', 'را', 'یکی', 'پند', 'پیرانه', 'داد'], ['که', 'از', 'او', 'داد', 'مظلوم', 'مسکین', 'او', 'بخواهند', 'و', 'از', 'دیگران', 'کین', 'او'], ['تو', 'دست', 'از', 'او', 'و', 'روزگارش', 'بدار', 'که', 'خود', 'زیر', 'دستش', 'کند', 'روزگار'], ['نه', 'بیداد', 'از', 'او', 'بهره\\u200cمند', 'آیدم', 'نه', 'نیز', 'از', 'تو', 'غیبت', 'پسند', 'آیدم'], ['به', 'دوزخ', 'برد', 'مدبری', 'را', 'گناه', 'که', 'پیمانه', 'پر', 'کرد', 'و', 'دیوان', 'سیاه'], ['دیگر', 'کس', 'به', 'غیبت', 'پیش', 'می\\u200cدود', 'مبادا', 'که', 'تنها', 'به', 'دوزخ', 'رود'], ['شنیدم', 'که', 'از', 'پارسایان', 'یکی', 'به', 'طیبت', 'بخندید', 'با', 'کودکی'], ['دیگر', 'پارسایان', 'خلوت', 'نشین', 'به', 'عیبش', 'فتادند', 'در', 'پوستین'], ['به', 'آخر', 'نماند', 'این', 'حکایت', 'نهفت', 'به', 'صاحب', 'نظر', 'باز', 'گفتند', 'و', 'گفت'], ['مدر', 'پرده', 'بر', 'یار', 'شوریده', 'حال', 'نه', 'طیبت', 'حرام', 'است', 'و', 'غیبت', 'حلال'], ['به', 'طفلی', 'درم', 'رغبت', 'روزه', 'خاست', 'ندانستمی', 'چپ', 'کدام', 'است', 'و', 'راست'], ['یکی', 'عابد', 'از', 'پارسایان', 'کوی', 'همی', 'شستن', 'آموختم', 'دست', 'و', 'روی'], ['که', 'بسم', 'الله', 'اول', 'به', 'سنت', 'بگوی', 'دوم', 'نیت', 'آور', 'سوم', 'کف', 'بشوی'], ['پس', 'آن', 'گه', 'دهن', 'شوی', 'و', 'بینی', 'سه', 'بار', 'مناخر', 'به', 'انگشت', 'کوچک', 'بخار'], ['به', 'سبابه', 'دندان', 'پیشین', 'بمال', 'که', 'نهی', 'است', 'در', 'روزه', 'بعد', 'از', 'زوال'], ['وز', 'آن', 'پس', 'سه', 'مشت', 'آب', 'بر', 'روی', 'زن', 'از', 'رستنگه', 'موی', 'سر', 'تا', 'ذقن'], ['دیگر', 'دستها', 'تا', 'به', 'مرفق', 'بشوی', 'از', 'تسبیح', 'و', 'ذکر', 'آنچه', 'دانی', 'بگوی'], ['دیگر', 'مسح', 'سر', 'بعد', 'از', 'آن', 'غسل', 'پا', 'همین', 'است', 'و', 'ختمش', 'به', 'نام', 'خدای'], ['کس', 'از', 'من', 'نداند', 'در', 'این', 'شیوه', 'به', 'نبینی', 'که', 'فرتوت', 'شد', 'پیر', 'ده'], ['بگفتند', 'با', 'دهخدای', 'آنچه', 'گفت', 'فرستاد', 'پیغامش', 'در', 'نهفت'], ['که\\u200cای', 'زشت', 'کردار', 'زیبا', 'سخن', 'نخست', 'آنچه', 'گویی', 'به', 'مردم', 'بکن'], ['نه', 'مسواک', 'در', 'روزه', 'گفتی', 'خطاست', 'بنی', 'آدم', 'مرده', 'خوردن', 'رواست'], ['دهن', 'گو', 'از', 'ناگفتنیها', 'نخست', 'بشوی', 'آن', 'که', 'از', 'خوردنیها', 'بشست'], ['کسی', 'را', 'که', 'نام', 'آمد', 'در', 'میان', 'به', 'نیکوترین', 'نام', 'و', 'نعتش', 'بخوان'], ['چون', 'همواره', 'گویی', 'که', 'مردم', 'خرند', 'مبر', 'ظن', 'که', 'نامت', 'چون', 'مردم', 'برند'], ['چنان', 'گوی', 'سیرت', 'به', 'کوی', 'اندرم', 'که', 'گفتن', 'توانی', 'به', 'روی', 'اندرم'], ['وگر', 'شرمت', 'از', 'دیده', 'ناظر', 'است', 'نه\\u200cای', 'بی\\u200cبصر', 'غیب', 'دان', 'حاضر', 'است'], ['نیاید', 'همی', 'شرمت', 'از', 'خویشتن', 'که', 'از', 'او', 'فارغ', 'و', 'شرم', 'داری', 'از', 'من'], ['طریقت', 'شناسان', 'ثابت', 'قدم', 'به', 'خلوت', 'نشستند', 'چندی', 'به', 'هم'], ['یکی', 'زان', 'میان', 'غیبت', 'آغاز', 'کرد', 'در', 'ذکر', 'بیچاره\\u200cای', 'باز', 'کرد'], ['کسی', 'گفتش', 'ای', 'یار', 'شوریده', 'رنگ', 'تو', 'هرگز', 'غزا', 'کرده\\u200cای', 'در', 'فرنگ'], ['بگفت', 'از', 'پس', 'چار', 'دیوار', 'خویش', 'همه', 'عمر', 'ننهاده\\u200cام', 'پا', 'پیش'], ['چنین', 'گفت', 'درویش', 'صادق', 'نفس', 'ندیدم', 'چنین', 'بخت', 'برگشته', 'کس'], ['که', 'کافر', 'از', 'پیکارش', 'ایمن', 'نشست', 'مسلمان', 'از', 'جور', 'زبانش', 'نرست'], ['چه', 'خوش', 'گفت', 'دیوانه', 'مرغزی', 'حدیثی', 'که', 'از', 'او', 'لب', 'به', 'دندان', 'گزی'], ['من', 'اگر', 'نام', 'مردم', 'بزشتی', 'برم', 'نگویم', 'به', 'جز', 'غیبت', 'مادرم'], ['که', 'دانند', 'پروردگان', 'خرد', 'که', 'طاعت', 'همان', 'به', 'که', 'مادر', 'برد'], ['رفیقی', 'که', 'غایب', 'شد', 'ای', 'نیک', 'نام', 'دو', 'چیزست', 'از', 'او', 'بر', 'رفیقان', 'حرام'], ['یکی', 'آن', 'که', 'مالش', 'به', 'باطل', 'خورند', 'دوم', 'آن', 'که', 'نامش', 'به', 'غیبت', 'برند'], ['هر', 'آن', 'کو', 'برد', 'نام', 'مردم', 'به', 'عار', 'تو', 'خیر', 'خود', 'از', 'او', 'توقع', 'مدار'], ['که', 'در', 'قفای', 'تو', 'گوید', 'همان', 'که', 'پیش', 'تو', 'گفت', 'از', 'پس', 'مردمان'], ['کسی', 'پیش', 'من', 'در', 'جهان', 'عاقل', 'است', 'که', 'مشغول', 'خود', 'وز', 'جهان', 'غافل', 'است'], ['سه', 'کس', 'را', 'شنیدم', 'که', 'غیبت', 'رواست', 'وز', 'این', 'درگذشتی', 'چهارم', 'خطاست'], ['یکی', 'پادشاهی', 'ملامت', 'پسند', 'که', 'از', 'او', 'بر', 'دل', 'خلق', 'بینی', 'گزند'], ['حلال', 'است', 'از', 'او', 'نقل', 'کردن', 'خبر', 'مگر', 'خلق', 'باشند', 'از', 'او', 'بر', 'حذر'], ['دوم', 'پرده', 'بر', 'بی', 'حیایی', 'متن', 'که', 'خود', 'می\\u200cدرد', 'پرده', 'بر', 'خویشتن'], ['از', 'حوضش', 'مدار', 'ای', 'برادر', 'نگاه', 'که', 'او', 'می\\u200cدرافتد', 'به', 'گردن', 'به', 'چاه'], ['سوم', 'کژ', 'ترازوی', 'ناراست', 'خوی', 'از', 'فعل', 'بدش', 'هرچه', 'دانی', 'بگوی'], ['شنیدم', 'که', 'دزدی', 'درآمد', 'از', 'دشت', 'به', 'دروازه', 'سیستان', 'برگذشت'], ['بدزدید', 'بقال', 'از', 'او', 'نیم', 'دانگ', 'برآورد', 'دزد', 'سیهکار', 'بانگ'], ['خدایا', 'تو', 'شبرو', 'به', 'آتش', 'مسوز', 'که', 'راه', 'می\\u200cزند', 'سیستانی', 'به', 'روز'], ['یکی', 'گفت', 'با', 'صوفیی', 'در', 'صفا', 'ندانی', 'فلانت', 'چه', 'گفت', 'از', 'قفا'], ['بگفتا', 'خموش', 'ای', 'برادر', 'بخفت', 'ندانسته', 'بهتر', 'که', 'دشمن', 'چه', 'گفت'], ['کسانی', 'که', 'پیغام', 'دشمن', 'برند', 'از', 'دشمن', 'همانا', 'که', 'دشمن', 'ترند'], ['کسی', 'قول', 'دشمن', 'نیارد', 'به', 'دوست', 'جز', 'آن', 'کس', 'که', 'در', 'دشمنی', 'یار', 'اوست'], ['نیارست', 'دشمن', 'جفا', 'گفتنم', 'چنان', 'که', 'از', 'شنیدن', 'بلرزد', 'تنم'], ['تو', 'دشمن\\u200cتری', 'کآوری', 'بر', 'دهان', 'که', 'دشمن', 'چنین', 'گفت', 'در', 'نهان'], ['سخن', 'چین', 'کند', 'تازه', 'جنگ', 'قدیم', 'به', 'خشم', 'آورد', 'نیکمرد', 'سلیم'], ['از', 'آن', 'همنشین', 'تا', 'توانی', 'گریز', 'که', 'مر', 'فتنه', 'خفته', 'را', 'گفت', 'خیز'], ['سیه', 'چال', 'و', 'مرد', 'در', 'او', 'بسته', 'پا', 'به', 'از', 'فتنه', 'از', 'جای', 'بردن', 'به', 'جای'], ['میان', 'دو', 'تن', 'جنگ', 'چون', 'آتش', 'است', 'سخن\\u200cچین', 'بدبخت', 'هیزم', 'کش', 'است'], ['فریدون', 'وزیری', 'پسندیده', 'داشت', 'که', 'روشن', 'دل', 'و', 'دوربین', 'دیده', 'داشت'], ['رضای', 'حق', 'اول', 'نگه', 'داشتی', 'دیگر', 'پاس', 'فرمان', 'شه', 'داشتی'], ['نهد', 'عامل', 'سفله', 'بر', 'خلق', 'رنج', 'که', 'تدبیر', 'ملک', 'است', 'و', 'توفیر', 'گنج'], ['اگر', 'جانب', 'حق', 'نداری', 'نگاه', 'گزندت', 'رساند', 'هم', 'از', 'پادشاه'], ['یکی', 'رفت', 'پیش', 'ملک', 'بامداد', 'که', 'هر', 'روزت', 'آسایش', 'و', 'کام', 'باد'], ['غرض', 'مشنو', 'از', 'من', 'نصیحت', 'پذیر', 'تو', 'را', 'در', 'نهان', 'دشمن', 'است', 'این', 'وزیر'], ['کس', 'از', 'خاص', 'لشکر', 'نمانده\\u200cست', 'و', 'عام', 'که', 'سیم', 'و', 'زر', 'از', 'او', 'ندارد', 'به', 'وام'], ['به', 'شرطی', 'که', 'چون', 'شاه', 'گردن', 'فراز', 'بمیرد', 'دهند', 'آن', 'زر', 'و', 'سیم', 'باز'], ['نخواهد_تو', 'را', 'زنده', 'این', 'خودپرست', 'مبادا', 'که', 'نقدش', 'نیاید', 'به', 'دست'], ['یکی', 'سوی', 'دستور', 'دولت', 'پناه', 'به', 'چشم', 'سیاست', 'نگه', 'کرد', 'شاه'], ['که', 'در', 'صورت', 'دوستان', 'پیش', 'من', 'به', 'خاطر', 'چرایی', 'بد', 'اندیش', 'من'], ['زمین', 'پیش', 'تختش', 'ببوسید', 'و', 'گفت', 'نشاید', 'چون', 'پرسیدی', 'اکنون', 'نهفت'], ['چنین', 'خواهم_ای', 'نامور', 'پادشاه', 'که', 'باشند', 'خلقت', 'همه', 'نیک', 'خواه'], ['چون', 'مرگت', 'بود', 'وعده', 'سیم', 'من', 'بقا', 'بیش', 'خواهندت', 'از', 'بیم', 'من'], ['نخواهی_که', 'مردم', 'به', 'صدق', 'و', 'نیاز', 'سرت', 'سبز', 'خواهند_و', 'عمرت', 'دراز'], ['غنیمت', 'شمارند', 'مردان', 'دعا', 'که', 'جوشن', 'بود', 'پیش', 'تیر', 'بلا'], ['پسندید', 'از', 'او', 'شهریار', 'آنچه', 'گفت', 'گل', 'رویش', 'از', 'تازگی', 'برشکفت'], ['از', 'قدر', 'و', 'مکانی', 'که', 'دستور', 'داشت', 'مکانش', 'بیفزود', 'و', 'قدرش', 'فراشت'], ['بد', 'اندیش', 'را', 'زجر', 'و', 'تأدیب', 'کرد', 'پشیمانی', 'از', 'گفته', 'خویش', 'خورد'], ['ندیدم', 'از', 'غماز', 'سرگشته\\u200cتر', 'نگون', 'طالع', 'و', 'بخت', 'برگشته\\u200cتر'], ['از', 'نادانی', 'و', 'تیره', 'رایی', 'که', 'اوست', 'خلاف', 'افکند', 'در', 'میان', 'دو', 'دوست'], ['کنند', 'این', 'و', 'آن', 'خوش', 'دیگر', 'باره', 'دل', 'او', 'در', 'میان', 'کور', 'بخت', 'و', 'خجل'], ['میان', 'دو', 'کس', 'آتش', 'افروختن', 'نه', 'عقل', 'است', 'و', 'خود', 'در', 'میان', 'سوختن'], ['چون', 'سعدی', 'کسی', 'ذوق', 'خلوت', 'چشید', 'که', 'از', 'هر', 'که', 'عالم', 'زبان', 'درکشید'], ['بگوی', 'آنچه', 'دانی', 'سخن', 'سودمند', 'وگر', 'هیچ', 'کس', 'را', 'نیاید', 'پسند'], ['که', 'فردا', 'پشیمان', 'برآرد', 'خروش', 'که', 'آوخ', 'چرا', 'حق', 'نکردم', 'به', 'گوش'], ['زن', 'خوب', 'فرمانبر', 'پارسا', 'کند', 'مرد', 'درویش', 'را', 'پادشا'], ['برو', 'پنج', 'نوبت', 'بزن', 'بر', 'درت', 'چون', 'یاری', 'موافق', 'بود', 'در', 'برت'], ['همه', 'روز', 'اگر', 'غم', 'خوری', 'غم', 'مدار', 'چون', 'شب', 'غمگسارت', 'بود', 'در', 'کنار'], ['کرا', 'خانه', 'آباد', 'و', 'همخوابه', 'دوست', 'خدا', 'را', 'به', 'رحمت', 'نظر', 'سوی', 'اوست'], ['چون', 'مستور', 'باشد', 'زن', 'و', 'خوبروی', 'به', 'دیدار', 'او', 'در', 'بهشت', 'است', 'شوی'], ['کسی', 'بر', 'گرفت', 'از', 'جهان', 'کام', 'دل', 'که', 'یکدل', 'بود', 'با', 'او', 'آرام', 'دل'], ['اگر', 'پارسا', 'باشد', 'و', 'خوش', 'سخن', 'نگه', 'در', 'نکویی', 'و', 'زشتی', 'مکن'], ['زن', 'خوش', 'منش', 'دل', 'نشان\\u200cتر', 'که', 'خوب', 'که', 'آمیزگاری', 'بپوشد', 'عیوب'], ['ببرد', 'از', 'پری', 'چهره', 'زشت', 'خوی', 'زن', 'دیو', 'سیمای', 'خوش', 'طبع', 'گوی'], ['چون', 'حلوا', 'خورد', 'سرکه', 'از', 'دست', 'شوی', 'نه', 'حلوا', 'خورد', 'سرکه', 'اندوده', 'روی'], ['دلارام', 'باشد', 'زن', 'نیک', 'خواه', 'ولیکن', 'زن', 'بد', 'خدایا', 'پناه'], ['چون', 'طوطی', 'کلاغش', 'بود', 'هم', 'نفس', 'غنیمت', 'شمارد', 'خلاص', 'از', 'قفس'], ['سر', 'در', 'جهان', 'نه', 'به', 'آوارگی', 'وگرنه', 'بنه', 'دل', 'به', 'بیچارگی'], ['تهی', 'پا', 'رفتن', 'به', 'از', 'کفش', 'تنگ', 'بلای', 'سفر', 'به', 'که', 'در', 'خانه', 'جنگ'], ['به', 'زندان', 'قاضی', 'گرفتار', 'به', 'که', 'در', 'خانه', 'دیدن', 'بر', 'ابرو', 'گره'], ['سفر', 'عید', 'باشد', 'بر', 'آن', 'کدخدای', 'که', 'بانوی', 'زشتش', 'بود', 'در', 'سرای'], ['در', 'خرمی', 'بر', 'سرایی', 'ببند', 'که', 'بانگ', 'زن', 'از', 'او', 'برآید', 'بلند'], ['چون', 'زن', 'راه', 'بازار', 'گیرد', 'بزن', 'وگرنه', 'تو', 'در', 'خانه', 'بنشین', 'چون', 'زن'], ['اگر', 'زن', 'ندارد', 'سوی', 'مرد', 'گوش', 'سراویل', 'کحلیش', 'در', 'مرد', 'پوش'], ['زنی', 'را', 'که', 'جهل', 'است', 'و', 'ناراستی', 'بلا', 'بر', 'سر', 'خود', 'نه', 'زن', 'خواستی'], ['چون', 'در', 'کیله', 'یک', 'جو', 'امانت', 'شکست', 'از', 'انبار', 'گندم', 'فرو', 'شوی', 'دست'], ['بر', 'آن', 'بنده', 'حق', 'نیکویی', 'خواسته_است', 'که', 'با', 'او', 'دل', 'و', 'دست', 'زن', 'راست', 'است'], ['چون', 'در', 'روی', 'بیگانه', 'خندید', 'زن', 'دیگر', 'مرد', 'گو', 'لاف', 'مردی', 'مزن'], ['زن', 'شوخ', 'چون', 'دست', 'در', 'قلیه', 'کرد', 'برو', 'گو', 'بنه', 'پنجه', 'بر', 'روی', 'مرد'], ['از', 'بیگانگان', 'چشم', 'زن', 'کور', 'باد', 'چون', 'بیرون', 'شد', 'از', 'خانه', 'در', 'گور', 'باد'], ['چون', 'بینی', 'که', 'زن', 'پا', 'بر', 'جای', 'نیست', 'ثبات', 'از', 'خردمندی', 'و', 'رای', 'نیست'], ['گریز', 'از', 'کفش', 'در', 'دهان', 'نهنگ', 'که', 'مردن', 'به', 'از', 'زندگانی', 'به', 'ننگ'], ['بپوشانش', 'از', 'چشم', 'بیگانه', 'روی', 'وگر', 'نشنود', 'چه', 'زن', 'آنگه', 'چه', 'شوی'], ['زن', 'خوب', 'خوش', 'طبع', 'رنج', 'است', 'و', 'بار', 'رها', 'کن', 'زن', 'زشت', 'ناسازگار'], ['چه', 'نغز', 'آمد', 'این', 'یک', 'سخن', 'زآن', 'دو', 'تن', 'که', 'بودند', 'سرگشته', 'از', 'دست', 'زن'], ['یکی', 'گفت', 'کس', 'را', 'زن', 'بد', 'مباد', 'دیگر', 'گفت', 'زن', 'در', 'جهان', 'خود', 'مباد'], ['زن', 'نو', 'کن', 'ای', 'دوست', 'هر', 'نوبهار', 'که', 'تقویم', 'پاری', 'نیاید', 'بکار'], ['کسی', 'را', 'که', 'بینی', 'گرفتار', 'زن', 'مکن', 'سعدیا', 'طعنه', 'بر', 'او', 'مزن'], ['تو', 'هم', 'جور', 'بینی', 'و', 'بارش', 'کشی', 'اگر', 'یک', 'سحر', 'در', 'کنارش', 'کشی'], ['جوانی', 'از', 'ناسازگاری', 'جفت', 'بر', 'پیرمردی', 'بنالید', 'و', 'گفت'], ['گران', 'باری', 'از', 'دست', 'این', 'خصم', 'چیر', 'چنان', 'می\\u200cبرم', 'کآسیا', 'سنگ', 'زیر'], ['به', 'سختی', 'بنه', 'گفتش', 'ای', 'خواجه', 'دل', 'کس', 'از', 'صبر', 'کردن', 'نگردد', 'خجل'], ['به', 'شب', 'سنگ', 'بالایی', 'ای', 'خانه', 'سوز', 'چرا', 'سنگ', 'زیرین', 'نباشی', 'به', 'روز'], ['چون', 'از', 'گلبنی', 'دیده_باشی', 'خوشی', 'روا', 'باشد', 'اگر', 'بار', 'خارش', 'کشی'], ['درختی', 'که', 'پیوسته', 'بارش', 'خوری', 'تحمل', 'کن', 'آنگه', 'که', 'خارش', 'خوری'], ['پسر', 'چون', 'از', 'ده', 'بر', 'گذشتش', 'سنین', 'از', 'نامحرمان', 'گو', 'فراتر', 'نشین'], ['بر', 'پنبه', 'آتش', 'نشاید', 'فروخت', 'که', 'تا', 'چشم', 'بر', 'هم', 'زنی', 'خانه', 'سوخت'], ['چون', 'خواهی_که', 'نامت', 'بماند', 'به', 'جای', 'پسر', 'را', 'خردمندی', 'آموز', 'و', 'رای'], ['که\\u200cگر', 'عقل', 'و', 'طبعش', 'نباشد', 'بسی', 'بمیری', 'و', 'از', 'تو', 'نماند', 'کسی'], ['بسا', 'روزگارا', 'که', 'سختی', 'برد', 'پسر', 'چون', 'پدر', 'نازکش', 'پرورد'], ['خردمند', 'و', 'پرهیزگارش', 'بر', 'آر', 'گرش', 'دوست', 'داری', 'به', 'نازش', 'مدار'], ['به', 'خردی', 'درش', 'زجر', 'و', 'تعلیم', 'کن', 'به', 'نیک', 'و', 'بدش', 'وعده', 'و', 'بیم', 'کن'], ['نوآموز', 'را', 'ذکر', 'و', 'تحسین', 'و', 'زه', 'از', 'توبیخ', 'و', 'تهدید', 'استاد', 'به'], ['بیاموز', 'پرورده', 'را', 'دسترنج', 'وگر', 'دست', 'داری', 'چون', 'قارون', 'به', 'گنج'], ['مکن', 'تکیه', 'بر', 'دستگاهی', 'که', 'هست', 'که', 'باشد', 'که', 'نعمت', 'نماند', 'به', 'دست'], ['به', 'پایان', 'رسد', 'کیسه', 'سیم', 'و', 'زر', 'نگردد', 'تهی', 'کیسه', 'پیشه\\u200cور'], ['چه', 'دانی', 'که', 'گردیدن', 'روزگار', 'به', 'غربت', 'بگرداندش', 'در', 'دیار'], ['چون', 'بر', 'پیشه\\u200cای', 'باشدش', 'دسترس', 'کجا', 'دست', 'حاجت', 'برد', 'پیش', 'کس'], ['ندانی', 'که', 'سعدی', 'مراد', 'از', 'چه', 'یافت', 'نه', 'هامون', 'نوشت', 'و', 'نه', 'دریا', 'شکافت'], ['به', 'خردی', 'بخورد', 'از', 'بزرگان', 'قفا', 'خدا', 'دادش', 'در', 'بزرگی', 'صفا'], ['هر', 'آن', 'کس', 'که', 'گردن', 'به', 'فرمان', 'نهد', 'بسی', 'بر', 'نیاید', 'که', 'فرمان', 'دهد'], ['هر', 'آن', 'طفل', 'کاو', 'جور', 'آموزگار', 'نبیند', 'جفا', 'بیند', 'از', 'روزگار'], ['پسر', 'را', 'نکو', 'دار', 'و', 'راحت', 'رسان', 'که', 'چشمش', 'نماند', 'به', 'دست', 'کسان'], ['هر', 'آن', 'کس', 'که', 'فرزند', 'را', 'غم', 'نخورد', 'دیگر', 'کس', 'غمش', 'خورد', 'و', 'بدنام', 'کرد'], ['نگه\\u200cدار', 'از', 'آمیزگار', 'بدش', 'که', 'بدبخت', 'و', 'بی', 'راه', 'کند', 'چون', 'خودش'], ['شبی', 'دعوتی', 'بود', 'در', 'کوی', 'من', 'از', 'هر', 'جنس', 'مردم', 'در', 'او', 'انجمن'], ['چون', 'آواز', 'مطرب', 'در', 'آمد', 'از', 'کوی', 'به', 'گردون', 'شد', 'از', 'عاشقان\\u200cهای', 'و', 'هوی'], ['پریچهره\\u200cای', 'بود', 'محبوب', 'من', 'بدو', 'گفتم', 'ای', 'لعبت', 'خوب', 'من'], ['چرا', 'با', 'رفیقان', 'نیایی', 'به', 'جمع', 'که', 'روشن', 'کنی', 'بزم', 'ما', 'را', 'چون', 'شمع'], ['شنیدم', 'سهی', 'قامت', 'سیم\\u200cتن', 'که', 'می\\u200cرفت', 'و', 'می\\u200cگفت', 'با', 'خویشتن'], ['محاسن', 'چون', 'مردان', 'ندارم', 'به', 'دست', 'نه', 'مردی', 'بود', 'پیش', 'مردان', 'نشست'], ['سیه', 'نامه\\u200cتر', 'زآن', 'مخنث', 'مخواه', 'که', 'پیش', 'از', 'خطش', 'روی', 'گردد', 'سیاه'], ['از', 'آن', 'بی', 'حمیت', 'بباید', 'گریخت', 'که', 'نامردیش', 'آب', 'مردان', 'بریخت'], ['پسر', 'کاو', 'میان', 'قلندر', 'نشست', 'پدر', 'گو', 'از', 'خیرش', 'فرو', 'شوی', 'دست'], ['دریغش', 'مخور', 'بر', 'هلاک', 'و', 'تلف', 'که', 'پیش', 'از', 'پدر', 'مرده', 'به', 'ناخلف'], ['خرابت', 'کند', 'شاهد', 'خانه', 'کن', 'برو', 'خانه', 'آباد', 'گردان', 'به', 'زن'], ['نشاید', 'هوس', 'باختن', 'با', 'گلی', 'که', 'هر', 'بامدادش', 'بود', 'بلبلی'], ['چون', 'خود', 'را', 'به', 'هر', 'مجلسی', 'شمع', 'کرد', 'تو', 'دیگر', 'چون', 'پروانه', 'گردش', 'مگرد'], ['زن', 'خوب', 'خوش', 'خوی', 'آراسته', 'چه', 'ماند', 'به', 'نادان', 'نو', 'خاسته'], ['در', 'او', 'دم', 'چون', 'غنچه', 'دمی', 'از', 'وفا', 'که', 'از', 'خنده', 'افتد', 'چون', 'گل', 'در', 'قفا'], ['نه', 'چون', 'کودک', 'پیچ', 'بر', 'پیچ', 'شنگ', 'که', 'چون', 'مقل', 'نتوان', 'شکستن', 'به', 'سنگ'], ['مبین', 'دلفریبش', 'چون', 'حور', 'بهشت', 'که', 'از', 'آن', 'روی', 'دیگر', 'چون', 'غول', 'است', 'زشت'], ['گرش', 'پا', 'بوسی', 'نداردت', 'پاس', 'ورش', 'خاک', 'باشی', 'نداند', 'سپاس'], ['سر', 'از', 'مغز', 'و', 'دست', 'از', 'درم', 'کن', 'تهی', 'چون', 'خاطر', 'به', 'فرزند', 'مردم', 'نهی'], ['مکن', 'بد', 'به', 'فرزند', 'مردم', 'نگاه', 'که', 'فرزند', 'خویشت', 'برآید', 'تباه'], ['در', 'این', 'شهر', 'باری', 'به', 'سمعم', 'رسید', 'که', 'بازارگانی', 'غلامی', 'خرید'], ['شبانگه', 'مگر', 'دست', 'بردش', 'به', 'سیب', 'که', 'سیمین', 'زنخ', 'بود', 'و', 'خاطر', 'فریب'], ['پریچهره', 'هرچ', 'اوفتادش', 'به', 'دست', 'یکی', 'در', 'سر', 'و', 'مغز', 'خواجه', 'شکست'], ['نه', 'هر', 'جا', 'که', 'بینی', 'خطی', 'دل', 'فریب', 'توانی', 'طمع', 'کردنش', 'در', 'کتیب'], ['گوا', 'کرد', 'بر', 'خود', 'خدای', 'و', 'رسول', 'که', 'دیگر', 'نگردم', 'به', 'گرد', 'فضول'], ['رحیل', 'آمدش', 'هم', 'در', 'آن', 'هفته', 'پیش', 'دل', 'افگار', 'و', 'سر', 'بسته', 'و', 'روی', 'ریش'], ['چون', 'بیرون', 'شد', 'از', 'کازرون', 'یک', 'دو', 'میل', 'به', 'پیش', 'آمدش', 'سنگلاخی', 'مهیل'], ['بپرسید', 'کاین', 'قله', 'را', 'نام', 'چیست', 'که', 'بسیار', 'بیند', 'عجب', 'هر', 'که', 'زیست'], ['چنین', 'گفتش', 'از', 'کاروان', 'همدمی', 'مگر', 'تنگ', 'ترکان', 'ندانی', 'همی'], ['برنجید', 'چون', 'تنگ', 'ترکان', 'شنید', 'تو', 'گفتی', 'که', 'دیدار', 'دشمن', 'بدید'], ['سیه', 'را', 'یکی', 'بانگ', 'برداشت', 'سخت', 'که', 'دیگر', 'مران', 'خر', 'بینداز', 'رخت'], ['نه', 'عقل', 'است', 'و', 'نه', 'معرفت', 'یک', 'جوم', 'اگر', 'من', 'دیگر', 'تنگ', 'ترکان', 'روم'], ['در', 'شهوت', 'نفس', 'کافر', 'ببند', 'وگر', 'عاشقی', 'لت', 'خور', 'و', 'سر', 'ببند'], ['چون', 'مر', 'بنده\\u200cای', 'را', 'همی', 'پروری', 'به', 'هیبت', 'بر', 'آرش', 'که', 'از', 'او', 'برخوری'], ['وگر', 'سیدش', 'لب', 'به', 'دندان', 'گزد', 'دماغ', 'خداوندگاری', 'پزد'], ['غلام', 'آبکش', 'باید', 'و', 'خشت', 'زن', 'بود', 'بنده', 'نازنین', 'مشت', 'زن'], ['گروهی', 'نشینند', 'با', 'خوش', 'پسر', 'که', 'ما', 'پاکبازیم', 'و', 'صاحب', 'نظر'], ['از', 'من', 'پرس', 'فرسوده', 'روزگار', 'که', 'بر', 'سفره', 'حسرت', 'خورد', 'روزه\\u200cدار'], ['از', 'آن', 'تخم', 'خرما', 'خورد', 'گوسپند', 'که', 'قفل', 'است', 'بر', 'تنگ', 'خرما', 'و', 'بند'], ['سر', 'گاو', 'عصار', 'از', 'آن', 'در', 'که', 'است', 'که', 'از', 'کنجدش', 'ریسمان', 'کوته', 'است'], ['یکی', 'صورتی', 'دید', 'صاحب', 'جمال', 'بگردیدش', 'از', 'شورش', 'عشق', 'حال'], ['بر', 'انداخت', 'بیچاره', 'چندان', 'عرق', 'که', 'شبنم', 'بر', 'اردیبهشتی', 'ورق'], ['گذر', 'کرد', 'بقراط', 'بر', 'او', 'سوار', 'بپرسید', 'کاین', 'را', 'چه', 'افتاده', 'کار'], ['کسی', 'گفتش', 'این', 'عابدی', 'پارساست', 'که', 'هرگز', 'خطایی', 'از', 'دستش', 'نخاست'], ['رود', 'روز', 'و', 'شب', 'در', 'بیابان', 'و', 'کوه', 'از', 'صحبت', 'گریزان', 'از', 'مردم', 'ستوه'], ['ربوده\\u200cست', 'خاطرفریبی', 'دلش', 'فرو', 'رفته', 'پا', 'نظر', 'در', 'گلش'], ['چون', 'آید', 'از', 'خلقش', 'ملامت', 'به', 'گوش', 'بگرید', 'که', 'چند', 'از', 'ملامت', 'خموش'], ['مگوی', 'اگر', 'بنالم', 'که', 'معذور', 'نیست', 'که', 'فریادم', 'از', 'علتی', 'دور', 'نیست'], ['نه', 'این', 'نقش', 'دل', 'می\\u200cرباید', 'از', 'دست', 'دل', 'آن', 'می\\u200cرباید', 'که', 'این', 'نقش', 'بست'], ['شنید', 'این', 'سخن', 'مرد', 'کار', 'آزمای', 'کهنسال', 'پرورده', 'پخته', 'رای'], ['بگفت', 'اگر', 'چه', 'صیت', 'نکویی', 'رود', 'نه', 'با', 'هر', 'کسی', 'هر', 'چه', 'گویی', 'رود'], ['نگارنده', 'را', 'خود', 'همین', 'نقش', 'بود', 'که', 'شوریده', 'را', 'دل', 'به', 'یغما', 'ربود'], ['چرا', 'طفل', 'یک', 'روزه', 'هوشش', 'نبرد', 'که', 'در', 'صنع', 'دیدن', 'چه', 'بالغ', 'چه', 'خرد'], ['محقق', 'همان', 'بیند', 'در', 'ابل', 'که', 'در', 'خوبرویان', 'چین', 'و', 'چگل'], ['نقابی', 'است', 'هر', 'سطر', 'من', 'زین', 'کتیب', 'فرو', 'هشته', 'بر', 'عارضی', 'دل', 'فریب'], ['معانی', 'است', 'در', 'زیر', 'حرف', 'سیاه', 'چون', 'در', 'پرده', 'معشوق', 'و', 'در', 'میغ', 'ماه'], ['در', 'اوراق', 'سعدی', 'نگنجد', 'ملال', 'که', 'دارد', 'پس', 'پرده', 'چندین', 'جمال'], ['من', 'را', 'کاین', 'سخنهاست', 'مجلس', 'فروز', 'چون', 'آتش', 'در', 'او', 'روشنایی', 'و', 'سوز'], ['نرنجم', 'از', 'خصمان', 'اگر', 'بر', 'تپند', 'که', 'از', 'این', 'آتش', 'پارسی', 'در', 'تبند'], ['اگر', 'در', 'جهان', 'از', 'جهان', 'رسته\\u200cای', 'است', 'در', 'از', 'خلق', 'بر', 'خویشتن', 'بسته\\u200cای', 'است'], ['کس', 'از', 'دست', 'جور', 'زبانها', 'نرست', 'اگر', 'خودنمای', 'است', 'و', 'اگر', 'حق', 'پرست'], ['اگر', 'برپری', 'چون', 'ملک', 'از', 'آسمان', 'به', 'دامن', 'در', 'آویزدت', 'بدگمان'], ['به', 'کوشش', 'توان', 'دجله', 'را', 'پیش', 'بست', 'نشاید', 'زبان', 'بداندیش', 'بست'], ['فرا', 'هم', 'نشینند', 'تردامنان', 'که', 'این', 'زهد', 'خشک', 'است', 'و', 'آن', 'دام', 'نان'], ['تو', 'روی', 'از', 'پرستیدن', 'حق', 'مپیچ', 'بهل', 'تا', 'نگیرند', 'خلقت', 'به', 'هیچ'], ['چون', 'راضی', 'شد', 'از', 'بنده', 'یزدان', 'پاک', 'اگر', 'اینها', 'نگردند', 'راضی', 'چه', 'باک'], ['بد', 'اندیش', 'خلق', 'از', 'حق', 'آگاه', 'نیست', 'از', 'غوغای', 'خلقش', 'به', 'حق', 'راه', 'نیست'], ['از', 'آن', 'راه', 'به', 'جایی', 'نیاورده\\u200cاند', 'که', 'اول', 'قدم', 'پی', 'غلط', 'کرده\\u200cاند'], ['دو', 'کس', 'بر', 'حدیثی', 'گمارند', 'گوش', 'از', 'این', 'تا', 'بدان', 'از', 'اهرمن', 'تا', 'سروش'], ['یکی', 'پند', 'گیرد', 'دیگر', 'ناپسند', 'نپردازد', 'از', 'حرفگیری', 'به', 'پند'], ['فرو', 'مانده', 'در', 'کنج', 'تاریک', 'جای', 'چه', 'دریابد', 'از', 'جام', 'گیتی', 'نمای'], ['مپندار', 'اگر', 'شیر', 'و', 'اگر', 'روبهی', 'که', 'از', 'اینان', 'به', 'مردی', 'و', 'حیلت', 'رهی'], ['اگر', 'کنج', 'خلوت', 'گزیند', 'کسی', 'که', 'پروای', 'صحبت', 'ندارد', 'بسی'], ['مذمت', 'کنندش', 'که', 'زرق', 'است', 'و', 'ریو', 'از', 'مردم', 'چنان', 'می\\u200cگریزد', 'که', 'دیو'], ['وگر', 'خنده', 'روی', 'است', 'و', 'آمیزگار', 'عفیفش', 'ندانند', 'و', 'پرهیزگار'], ['غنی', 'را', 'به', 'غیبت', 'بکاوند', 'پوست', 'که', 'فرعون', 'اگر', 'هست', 'در', 'عالم', 'اوست'], ['وگر', 'بینوایی', 'بگرید', 'به', 'سوز', 'نگون', 'بخت', 'خوانندش', 'و', 'تیره\\u200cروز'], ['وگر', 'کامرانی', 'در', 'آید', 'از', 'پا', 'غنیمت', 'شمارند', 'و', 'فضل', 'خدای'], ['که', 'تا', 'چند', 'از', 'این', 'جاه', 'و', 'گردن', 'کشی', 'خوشی', 'را', 'بود', 'در', 'قفا', 'ناخوشی'], ['و', 'اگر', 'تنگدستی', 'تنک', 'مایه\\u200cای', 'سعادت', 'بلندش', 'کند', 'پایه\\u200cای'], ['بخایندش', 'از', 'کینه', 'دندان', 'به', 'زهر', 'که', 'دون', 'پرور', 'است', 'این', 'فرومایه', 'دهر'], ['چون', 'بینند', 'کاری', 'به', 'دستت', 'در', 'است', 'حریصت', 'شمارند', 'و', 'دنیا', 'پرست'], ['وگر', 'دست', 'همت', 'بداری', 'از', 'کار', 'گدا', 'پیشه', 'خوانندت', 'و', 'پخته', 'خوار'], ['اگر', 'ناطقی', 'طبل', 'پر', 'یاوه\\u200cای', 'وگر', 'خامشی', 'نقش', 'گرماوه\\u200cای'], ['تحمل', 'کنان', 'را', 'نخوانند', 'مرد', 'که', 'بیچاره', 'از', 'بیم', 'سر', 'برنکرد'], ['وگر', 'در', 'سرش', 'هول', 'و', 'مردانگی', 'است', 'گریزند', 'از', 'او', 'کاین', 'چه', 'دیوانگی', 'است'], ['تعنت', 'کنندش\\u200cگر', 'اندک', 'خوری', 'است', 'که', 'مالش', 'مگر', 'روزی', 'دیگری', 'است'], ['وگر', 'نغز', 'و', 'پاکیزه', 'باشد', 'خورش', 'شکم', 'بنده', 'خوانند', 'و', 'تن', 'پرورش'], ['وگر', 'بی', 'تکلف', 'زید', 'مالدار', 'که', 'زینت', 'بر', 'اهل', 'تمیز', 'است', 'عار'], ['زبان', 'در', 'نهندش', 'به', 'ایذا', 'چون', 'تیغ', 'که', 'بدبخت', 'زر', 'دارد', 'از', 'خود', 'دریغ'], ['و', 'اگر', 'کاخ', 'و', 'ایوان', 'منقش', 'کند', 'تن', 'خویش', 'را', 'کسوتی', 'خوش', 'کند'], ['به', 'جان', 'آید', 'از', 'طعنه', 'بر', 'او', 'زنان', 'که', 'خود', 'را', 'بیاراست', 'همچون', 'زنان'], ['اگر', 'پارسایی', 'سیاحت', 'نکرد', 'سفر', 'کردگانش', 'نخوانند', 'مرد'], ['که', 'نارفته', 'بیرون', 'از', 'آغوش', 'زن', 'کدامش', 'هنر', 'باشد', 'و', 'رای', 'و', 'فن'], ['جهاندیده', 'را', 'هم', 'بدرند', 'پوست', 'که', 'سرگشته', 'بخت', 'برگشته', 'اوست'], ['گرش', 'حظ', 'از', 'اقبال', 'بودی', 'و', 'بهر', 'زمانه', 'نراندی', 'از', 'شهرش', 'به', 'شهر'], ['عزب', 'را', 'نکوهش', 'کند', 'خرده', 'بین', 'که', 'می\\u200cرنجد', 'از', 'خفت', 'و', 'خیزش', 'زمین'], ['وگر', 'زن', 'کند', 'گوید', 'از', 'دست', 'دل', 'به', 'گردن', 'در', 'افتاد', 'چون', 'خر', 'به', 'گل'], ['نه', 'از', 'جور', 'مردم', 'رهد', 'زشت', 'روی', 'نه', 'شاهد', 'از', 'نامردم', 'زشت', 'گوی'], ['غلامی', 'به', 'مصر', 'اندرم', 'بنده', 'بود', 'که', 'چشم', 'از', 'حیا', 'در', 'بر', 'افکنده', 'بود'], ['کسی', 'گفت', 'هیچ', 'این', 'پسر', 'عقل', 'و', 'هوش', 'ندارد', 'بمالش', 'به', 'تعلیم', 'گوش'], ['شبی', 'بر', 'زدم', 'بانگ', 'بر', 'او', 'درشت', 'هم', 'او', 'گفت', 'مسکین', 'به', 'جورش', 'بکشت'], ['گرت', 'برکند', 'خشم', 'روزی', 'از', 'جای', 'سراسیمه', 'خوانندت', 'و', 'تیره', 'رای'], ['وگر', 'بردباری', 'کنی', 'از', 'کسی', 'بگویند', 'غیرت', 'ندارد', 'بسی'], ['سخی', 'را', 'به', 'اندرز', 'گویند', 'بس', 'که', 'فردا', 'دو', 'دستت', 'بود', 'پیش', 'و', 'پس'], ['وگر', 'قانع', 'و', 'خویشتن\\u200cدار', 'گشت', 'به', 'تشنیع', 'خلقی', 'گرفتار', 'گشت'], ['که', 'همچون', 'پدر', 'خواهد_این', 'سفله', 'مرد', 'که', 'نعمت', 'رها', 'کرد', 'و', 'حسرت', 'ببرد'], ['که', 'یارد', 'به', 'کنج', 'سلامت', 'نشست', 'که', 'پیغمبر', 'از', 'خبث', 'ایشان', 'نرست'], ['خدا', 'را', 'که', 'مانند', 'و', 'انباز', 'و', 'جفت', 'ندارد', 'شنیدی', 'که', 'ترسا', 'چه', 'گفت'], ['رهایی', 'نیابد', 'کس', 'از', 'دست', 'کس', 'گرفتار', 'را', 'چاره', 'صبر', 'است', 'و', 'بس'], ['جوانی', 'هنرمند', 'فرزانه', 'بود', 'که', 'در', 'وعظ', 'چالاک', 'و', 'مردانه', 'بود'], ['نکونام', 'و', 'صاحبدل', 'و', 'حق', 'پرست', 'خط', 'عارضش', 'خوشتر', 'از', 'خط', 'دست'], ['قوی', 'در', 'بلاغات', 'و', 'در', 'نحو', 'چست', 'ولی', 'حرف', 'ابجد', 'نگفتی', 'درست'], ['یکی', 'را', 'بگفتم', 'از', 'صاحبدلان', 'که', 'دندان', 'پیشین', 'ندارد', 'فلان'], ['برآمد', 'از', 'سودای', 'من', 'سرخ', 'روی', 'که', 'از', 'این', 'جنس', 'بیهوده', 'دیگر', 'مگوی'], ['تو', 'در', 'او', 'همان', 'عیب', 'دیدی', 'که', 'هست', 'از', 'چندان', 'هنر', 'چشم', 'عقلت', 'ببست'], ['یقین', 'بشنو', 'از', 'من', 'که', 'روز', 'یقین', 'نبینند', 'بد', 'مردم', 'نیک', 'بین'], ['یکی', 'را', 'که', 'فضل', 'است', 'و', 'فرهنگ', 'و', 'رای', 'گرش', 'پا', 'عصمت', 'بخیزد', 'از', 'جای'], ['به', 'یک', 'خرده', 'مپسند', 'بر', 'او', 'جفا', 'بزرگان', 'چه', 'گفتند', 'خذ', 'ما', 'صفا'], ['بود', 'خار', 'و', 'گل', 'با', 'هم', 'ای', 'هوشمند', 'چه', 'در', 'بند', 'خاری', 'تو', 'گل', 'دسته', 'بند'], ['که', 'را', 'زشت', 'خویی', 'بود', 'در', 'سرشت', 'نبیند', 'از', 'طاووس', 'جز', 'پا', 'زشت'], ['صفایی', 'به', 'دست', 'آور', 'ای', 'خیره', 'روی', 'که', 'ننماید', 'آیینه', 'تیره', 'روی'], ['طریقی', 'طلب', 'که', 'از', 'عقوبت', 'رهی', 'نه', 'حرفی', 'که', 'انگشت', 'بر', 'او', 'نهی'], ['منه', 'عیب', 'خلق', 'ای', 'خردمند', 'پیش', 'که', 'چشمت', 'فرو', 'دوزد', 'از', 'عیب', 'خویش'], ['چرا', 'دامن', 'آلوده', 'را', 'حد', 'زنم', 'چون', 'در', 'خود', 'شناسم', 'که', 'تردامنم'], ['نشاید', 'که', 'بر', 'کس', 'درشتی', 'کنی', 'چون', 'خود', 'را', 'به', 'تأویل', 'پشتی', 'کنی'], ['چون', 'بد', 'ناپسند', 'آیدت', 'خود', 'مکن', 'پس', 'آنگه', 'به', 'همسایه', 'گو', 'بد', 'مکن'], ['من', 'اگر', 'حق', 'شناسم', 'وگر', 'خود', 'نمای', 'برون', 'با', 'تو', 'دارم', 'درون', 'با', 'خدای'], ['چون', 'ظاهر', 'به', 'عفت', 'بیاراستم', 'تصرف', 'مکن', 'در', 'کژ', 'و', 'راستم'], ['اگر', 'سیرتم', 'خوب', 'و', 'اگر', 'منکر', 'است', 'خدایم', 'به', 'سر', 'از', 'تو', 'داناتر', 'است'], ['تو', 'خاموش', 'اگر', 'من', 'بهم', 'یا', 'بدم', 'که', 'حمال', 'سود', 'و', 'زیان', 'خودم'], ['کسی', 'را', 'به', 'کردار', 'بد', 'کن', 'عذاب', 'که', 'چشم', 'از', 'تو', 'دارد', 'به', 'نیکی', 'ثواب'], ['نکو', 'کاری', 'از', 'مردم', 'نیک', 'رای', 'یکی', 'را', 'به', 'ده', 'می\\u200cنویسد', 'خدای'], ['تو', 'نیز', 'ای', 'عجب', 'هر', 'که', 'را', 'یک', 'هنر', 'ببینی', 'از', 'ده', 'عیبش', 'در', 'گذر'], ['نه', 'یک', 'عیب', 'او', 'را', 'بر', 'انگشت', 'پیچ', 'جهانی', 'فضیلت', 'بر', 'آور', 'به', 'هیچ'], ['چون', 'دشمن', 'که', 'در', 'شعر', 'سعدی', 'نگاه', 'به', 'نفرت', 'کند', 'از', 'اندرون', 'تباه'], ['ندارد', 'به', 'صد', 'نکته', 'نغز', 'گوش', 'چون', 'زحفی', 'ببیند', 'بر', 'آرد', 'خروش'], ['جز', 'این', 'علتش', 'نیست', 'کان', 'بد', 'پسند', 'حسد', 'دیده', 'نیک', 'بینش', 'بکند'], ['نه', 'مر', 'خلق', 'را', 'صنع', 'باری', 'سرشت', 'سیاه', 'و', 'سپید', 'آمد', 'و', 'خوب', 'و', 'زشت'], ['نه', 'هر', 'چشم', 'و', 'ابرو', 'که', 'بینی', 'نکوست', 'بخور', 'پسته', 'مغز', 'و', 'بینداز', 'پوست'], ['نفس', 'می\\u200cنیارم', 'زد', 'از', 'شکر', 'دوست', 'که', 'شکری', 'ندانم', 'که', 'در', 'خورد', 'اوست'], ['عطایی', 'است', 'هر', 'موی', 'از', 'او', 'بر', 'تنم', 'چگونه', 'به', 'هر', 'موی', 'شکری', 'کنم'], ['ستایش', 'خداوند', 'بخشنده', 'را', 'که', 'موجود', 'کرد', 'از', 'عدم', 'بنده', 'را'], ['که', 'را', 'قوت', 'وصف', 'احسان', 'اوست', 'که', 'اوصاف', 'مستغرق', 'شأن', 'اوست'], ['بدیعی', 'که', 'شخص', 'آفریند', 'از', 'گل', 'روان', 'و', 'خرد', 'بخشد', 'و', 'هوش', 'و', 'دل'], ['از', 'پشت', 'پدر', 'تا', 'به', 'پایان', 'شیب', 'نگر', 'تا', 'چه', 'تشریف', 'دادت', 'از', 'غیب'], ['چون', 'پاک', 'آفریدت', 'بهش', 'باش', 'و', 'پاک', 'که', 'ننگ', 'است', 'ناپاک', 'رفتن', 'به', 'خاک'], ['پیاپی', 'بیفشان', 'از', 'آیینه', 'گرد', 'که', 'مصقل', 'نگیرد', 'چون', 'زنگار', 'خورد'], ['نه', 'در', 'ابتدا', 'بودی', 'آب', 'منی', 'اگر', 'مردی', 'از', 'سر', 'به', 'در', 'کن', 'منی'], ['چون', 'روزی', 'به', 'سعی', 'آوری', 'سوی', 'خویش', 'مکن', 'تکیه', 'بر', 'زور', 'بازوی', 'خویش'], ['چرا', 'حق', 'نمی\\u200cبینی', 'ای', 'خودپرست', 'که', 'بازو', 'به', 'گردش', 'درآورد', 'و', 'دست'], ['چون', 'آید', 'به', 'کوشیدنت', 'خیر', 'پیش', 'به', 'توفیق', 'حق', 'دان', 'نه', 'از', 'سعی', 'خویش'], ['به', 'سرپنجگی', 'کس', 'نبرده\\u200cست', 'گوی', 'سپاس', 'خداوند', 'توفیق', 'گوی'], ['تو', 'قائم', 'به', 'خود', 'نیستی', 'یک', 'قدم', 'از', 'غیبت', 'مدد', 'می\\u200cرسد', 'دم', 'به', 'دم'], ['نه', 'طفل', 'زبان', 'بسته_بودی', 'از', 'لاف', 'همی', 'روزی', 'آمد', 'به', 'جوفش', 'از', 'ناف'], ['چون', 'نافش', 'بریدند', 'و', 'روزی', 'گسست', 'به', 'پستان', 'مادر', 'در', 'آویخت', 'دست'], ['غریبی', 'که', 'رنج', 'آردش', 'دهر', 'پیش', 'به', 'دارو', 'دهند', 'آبش', 'از', 'شهر', 'خویش'], ['پس', 'او', 'در', 'شکم', 'پرورش', 'یافته\\u200cست', 'از', 'انبوب', 'معده', 'خورش', 'یافته\\u200cست'], ['دو', 'پستان', 'که', 'امروز', 'دلخواه', 'اوست', 'دو', 'چشمه', 'هم', 'از', 'پرورشگاه', 'اوست'], ['کنار', 'و', 'بر', 'مادر', 'دلپذیر', 'بهشت', 'است', 'و', 'پستان', 'در', 'او', 'جوی', 'شیر'], ['درختی', 'است', 'بالای', 'جان', 'پرورش', 'ولد', 'میوه', 'نازنین', 'بر', 'برش'], ['نه', 'رگهای', 'پستان', 'درون', 'دل', 'است', 'پس', 'اگر', 'بنگری', 'شیر', 'خون', 'دل', 'است'], ['به', 'خونش', 'فرو', 'برده', 'دندان', 'چون', 'نیش', 'سرشته', 'در', 'او', 'مهر', 'خونخوار', 'خویش'], ['چون', 'بازو', 'قوی', 'کرد', 'و', 'دندان', 'ستبر', 'براندایدش', 'دایه', 'پستان', 'به', 'صبر'], ['چنان', 'صبرش', 'از', 'شیر', 'خامش', 'کند', 'که', 'پستان', 'شیرین', 'فرامش', 'کند'], ['تو', 'نیز', 'ای', 'که', 'در', 'توبه\\u200cای', 'طفل', 'راه', 'به', 'صبرت', 'فراموش', 'گردد', 'گناه'], ['جوانی', 'سر', 'از', 'رای', 'مادر', 'بتافت', 'دل', 'دردمندش', 'به', 'آذر', 'بتافت'], ['چون', 'بیچاره', 'شد', 'پیشش', 'آورد', 'مهد', 'که\\u200cای', 'سست', 'مهر', 'فراموش', 'عهد'], ['نه', 'گریان', 'و', 'درمانده', 'بودی', 'و', 'خرد', 'که', 'شبها', 'از', 'دست', 'تو', 'خوابم', 'نبرد'], ['نه', 'در', 'مهد', 'نیروی', 'حالت', 'نبود', 'مگس', 'راندن', 'از', 'خود', 'مجالت', 'نبود'], ['تو', 'آنی', 'که', 'از', 'آن', 'یک', 'مگس', 'رنجه\\u200cای', 'که', 'امروز', 'سالار', 'و', 'سرپنجه\\u200cای'], ['به', 'حالی', 'شوی', 'باز', 'در', 'قعر', 'گور', 'که', 'نتوانی', 'از', 'خویشتن', 'دفع', 'مور'], ['دیگر', 'دیده', 'چون', 'برفروزد', 'چراغ', 'چون', 'کرم', 'لحد', 'خورد', 'پیه', 'دماغ'], ['چون', 'پوشیده', 'چشمی', 'ببینی', 'که', 'راه', 'نداند', 'همی', 'وقت', 'رفتن', 'از', 'چاه'], ['تو\\u200cگر', 'شکر', 'کردی', 'که', 'با', 'دیده\\u200cای', 'وگر', 'نه', 'تو', 'هم', 'چشم', 'پوشیده\\u200cای'], ['معلم', 'نیاموختت', 'فهم', 'و', 'رای', 'سرشت', 'این', 'صفت', 'در', 'نهادت', 'خدای'], ['گرت', 'منع', 'کردی', 'دل', 'حق', 'نیوش', 'حقت', 'عین', 'باطل', 'نبودی', 'به', 'گوش'], ['ببین', 'تا', 'یک', 'انگشت', 'از', 'چند', 'بند', 'به', 'صنع', 'الهی', 'به', 'هم', 'در', 'فگند'], ['پس', 'آشفتگی', 'باشد', 'و', 'ابلهی', 'که', 'انگشت', 'بر', 'حرف', 'صنعش', 'نهی'], ['تأمل', 'کن', 'از', 'بهر', 'رفتار', 'مرد', 'که', 'چند', 'استخوان', 'پی', 'زد', 'و', 'وصل', 'کرد'], ['که', 'بی', 'گردش', 'کعب', 'و', 'زانو', 'و', 'پا', 'نشاید', 'قدم', 'بر', 'گرفتن', 'از', 'جای'], ['از', 'آن', 'سجده', 'بر', 'آدمی', 'سخت', 'نیست', 'که', 'در', 'صلب', 'او', 'مهره', 'یک', 'لخت', 'نیست'], ['دو', 'صد', 'مهره', 'بر', 'یکدگر', 'ساخته\\u200cست', 'که', 'گل', 'مهره\\u200cای', 'چون', 'تو', 'پرداخته\\u200cست'], ['رگت', 'بر', 'تن', 'است', 'ای', 'پسندیده', 'خوی', 'زمینی', 'در', 'او', 'سیصد', 'و', 'شصت', 'جوی'], ['بصر', 'در', 'سر', 'و', 'فکر', 'و', 'رای', 'و', 'تمیز', 'جوارح', 'به', 'دل', 'دل', 'به', 'دانش', 'عزیز'], ['بهایم', 'به', 'روی', 'در', 'افتاده', 'خوار', 'تو', 'همچون', 'الف', 'بر', 'قدمها', 'سوار'], ['نگون', 'کرده', 'ایشان', 'سر', 'از', 'بهر', 'خور', 'تو', 'آری', 'به', 'عزت', 'خورش', 'پیش', 'سر'], ['نزیبد', 'تو', 'را', 'با', 'چنین', 'سروری', 'که', 'سر', 'جز', 'به', 'طاعت', 'فرود', 'آوری'], ['به', 'انعام', 'خود', 'دانه', 'دادت', 'نه', 'کاه', 'نکردت', 'چون', 'انعام', 'سر', 'در', 'گیاه'], ['ولیکن', 'بدین', 'صورت', 'دلپذیر', 'فرفته', 'مشو', 'سیرت', 'خوب', 'گیر'], ['راه', 'راست', 'باید', 'نه', 'بالای', 'راست', 'که', 'کافر', 'هم', 'از', 'روی', 'صورت', 'چون', 'ماست'], ['تو', 'را', 'آن', 'که', 'چشم', 'و', 'دهان', 'داد', 'و', 'گوش', 'اگر', 'عاقلی', 'در', 'خلافش', 'مکوش'], ['گرفتم', 'که', 'دشمن', 'بکوبی', 'به', 'سنگ', 'مکن', 'باری', 'از', 'جهل', 'با', 'دوست', 'جنگ'], ['خردمند', 'طبعان', 'منت', 'شناس', 'بدوزند', 'نعمت', 'به', 'میخ', 'سپاس'], ['ملک', 'زاده\\u200cای', 'از', 'اسب', 'ادهم', 'فتاد', 'به', 'گردن', 'درش', 'مهره', 'بر', 'هم', 'فتاد'], ['چون', 'پیلش', 'فرو', 'رفت', 'گردن', 'به', 'تن', 'نگشتی', 'سرش', 'تا', 'نگشتی', 'بدن'], ['پزشکان', 'بماندند', 'حیران', 'در', 'این', 'مگر', 'فیلسوفی', 'از', 'یونان', 'زمین'], ['سرش', 'باز', 'پیچید', 'و', 'رگ', 'راست', 'شد', 'وگر', 'او', 'نبودی', 'زمن', 'خواست', 'شد'], ['دیگر', 'نوبت', 'آمد', 'به', 'نزدیک', 'شاه', 'به', 'عین', 'عنایت', 'نکردش', 'نگاه'], ['خردمند', 'را', 'سر', 'فرو', 'شد', 'به', 'شرم', 'شنیدم', 'که', 'می\\u200cرفت', 'و', 'می\\u200cگفت', 'نرم'], ['اگر', 'دی', 'نپیچیدمی', 'گردنش', 'نپیچیدی', 'امروز', 'روی', 'از', 'منش'], ['فرستاد', 'تخمی', 'به', 'دست', 'رهی', 'که', 'باید', 'که', 'بر', 'عودسوزش', 'نهی'], ['ملک', 'را', 'یکی', 'عطسه', 'آمد', 'از', 'دود', 'سر', 'و', 'گردنش', 'همچنان', 'شد', 'که', 'بود'], ['به', 'عذر', 'از', 'پی', 'مرد', 'بشتافتند', 'بجستند', 'بسیار', 'و', 'کم', 'یافتند'], ['مکن', 'گردن', 'از', 'شکر', 'منعم', 'مپیچ', 'که', 'روز', 'پسین', 'سر', 'بر', 'آری', 'به', 'هیچ'], ['شنیدم', 'که', 'پیری', 'پسر', 'را', 'به', 'خشم', 'ملامت', 'همی', 'کرد', 'کای', 'شوخ', 'چشم'], ['تو', 'را', 'تیشه', 'دادم', 'که', 'هیزم', 'شکن', 'نگفتم', 'که', 'دیوار', 'مسجد', 'بکن'], ['زبان', 'آمد', 'از', 'بهر', 'شکر', 'و', 'سپاس', 'به', 'غیبت', 'نگرداندش', 'حق', 'شناس'], ['گذرگاه', 'قرآن', 'و', 'پند', 'است', 'گوش', 'به', 'بهتان', 'و', 'باطل', 'شنیدن', 'مکوش'], ['دو', 'چشم', 'از', 'پی', 'صنع', 'باری', 'نکوست', 'از', 'عیب', 'برادر', 'فرو', 'گیر', 'و', 'دوست'], ['شب', 'از', 'بهر', 'آسایش', 'توست', 'و', 'روز', 'مه', 'روشن', 'و', 'مهر', 'گیتی', 'فروز'], ['سپهر', 'از', 'برای', 'تو', 'فراش', 'وار', 'همی', 'گستراند', 'بساط', 'بهار'], ['اگر', 'باد', 'و', 'برف', 'است', 'و', 'باران', 'و', 'میغ', 'وگر', 'رعد', 'چوگان', 'زند', 'برق', 'تیغ'], ['همه', 'کارداران', 'فرمانبرند', 'که', 'تخم', 'تو', 'در', 'خاک', 'می\\u200cپرورند'], ['اگر', 'تشنه', 'مانی', 'از', 'سختی', 'مجوش', 'که', 'سقای', 'ابر', 'آبت', 'آرد', 'به', 'دوش'], ['از', 'خاک', 'آورد', 'رنگ', 'و', 'بوی', 'و', 'طعام', 'تماشاگه', 'دیده', 'و', 'مغز', 'و', 'کام'], ['عسل', 'دادت', 'از', 'نحل', 'و', 'من', 'از', 'هوا', 'رطب', 'دادت', 'از', 'نخل', 'و', 'نخل', 'از', 'نوی'], ['همه', 'نخلبندان', 'بخایند', 'دست', 'از', 'حیرت', 'که', 'نخلی', 'چنین', 'کس', 'نبست'], ['خور', 'و', 'ماه', 'و', 'پروین', 'برای', 'تواند', 'قنادیل', 'سقف', 'سرای', 'تواند'], ['از', 'خارت', 'گل', 'آورد', 'و', 'از', 'نافه', 'مشک', 'زر', 'از', 'کان', 'و', 'برگ\\u200cتر', 'از', 'چوب', 'خشک'], ['به', 'دست', 'خودت', 'چشم', 'و', 'ابرو', 'نگاشت', 'که', 'محرم', 'به', 'اغیار', 'نتوان', 'گذاشت'], ['توانا', 'که', 'او', 'نازنین', 'پرورد', 'به', 'الوان', 'نعمت', 'چنین', 'پرورد'], ['به', 'جان', 'گفت', 'باید', 'نفس', 'بر', 'نفس', 'که', 'شکرش', 'نه', 'کار', 'زبان', 'است', 'و', 'بس'], ['خدایا', 'دلم', 'خون', 'شد', 'و', 'دیده', 'ریش', 'که', 'می\\u200cبینم', 'انعامت', 'از', 'گفت', 'بیش'], ['نگویم', 'دد', 'و', 'دام', 'و', 'مور', 'و', 'سمک', 'که', 'فوج', 'ملائک', 'بر', 'اوج', 'فلک'], ['هنوزت', 'سپاس', 'اندکی', 'گفته\\u200cاند', 'از', 'بیور', 'هزاران', 'یکی', 'گفته\\u200cاند'], ['برو', 'سعدیا', 'دست', 'و', 'دفتر', 'بشوی', 'به', 'راهی', 'که', 'پایان', 'ندارد', 'مپوی'], ['نداند', 'کسی', 'قدر', 'روز', 'خوشی', 'مگر', 'روزی', 'افتد', 'به', 'سختی', 'کشی'], ['زمستان', 'درویش', 'در', 'تنگ', 'سال', 'چه', 'سهل', 'است', 'پیش', 'خداوند', 'مال'], ['سلیمی', 'که', 'یک', 'چند', 'نالان', 'نخفت', 'خداوند', 'را', 'شکر', 'صحت', 'نگفت'], ['چون', 'مردانه\\u200cرو', 'باشی', 'و', 'تیز', 'پا', 'به', 'شکرانه', 'با', 'کندپایان', 'بپای'], ['به', 'پیر', 'کهن', 'بر', 'ببخشد', 'جوان', 'توانا', 'کند', 'رحم', 'بر', 'ناتوان'], ['چه', 'دانند', 'جیحونیان', 'قدر', 'آب', 'از', 'واماندگان', 'پرس', 'در', 'آفتاب'], ['عرب', 'را', 'که', 'در', 'دجله', 'باشد', 'قعود', 'چه', 'غم', 'دارد', 'از', 'تشنگان', 'زرود'], ['کسی', 'قیمت', 'تندرستی', 'شناخت', 'که', 'یک', 'چند', 'بیچاره', 'در', 'تب', 'گداخت'], ['تو', 'را', 'تیره', 'شب', 'کی', 'نماید', 'دراز', 'که', 'غلطی', 'از', 'پهلو', 'به', 'پهلوی', 'ناز'], ['براندیش', 'از', 'افتان', 'و', 'خیزان', 'تب', 'که', 'رنجور', 'داند', 'درازای', 'شب'], ['به', 'بانگ', 'دهل', 'خواجه', 'بیدار', 'گشت', 'چه', 'داند', 'شب', 'پاسبان', 'چون', 'گذشت'], ['شنیدم', 'که', 'طغرل', 'شبی', 'در', 'خزان', 'گذر', 'کرد', 'بر', 'هندوی', 'پاسبان'], ['از', 'باریدن', 'برف', 'و', 'باران', 'و', 'سیل', 'به', 'لرزش', 'در', 'افتاده', 'همچون', 'سهیل'], ['دلش', 'بر', 'او', 'از', 'رحمت', 'آورد', 'جوش', 'که', 'اینک', 'قبا', 'پوستینم', 'بپوش'], ['دمی', 'منتظر', 'باش', 'بر', 'طرف', 'بام', 'که', 'بیرون', 'فرستم', 'به', 'دست', 'غلام'], ['در', 'این', 'بود', 'و', 'باد', 'صبا', 'بروزید', 'شهنشه', 'در', 'ایوان', 'شاهی', 'خزید'], ['وشاقی', 'پری', 'چهره', 'در', 'خیل', 'داشت', 'که', 'طبعش', 'بدو', 'اندکی', 'میل', 'داشت'], ['تماشای', 'ترکش', 'چنان', 'خوش', 'فتاد', 'که', 'هندوی', 'مسکین', 'برفتش', 'از', 'یاد'], ['قبا', 'پوستینی', 'گذشتش', 'به', 'گوش', 'از', 'بدبختیش', 'در', 'نیامد', 'به', 'دوش'], ['مگر', 'رنج', 'سرما', 'بر', 'او', 'بس', 'نبود', 'که', 'جور', 'سپهر', 'انتظارش', 'فزود'], ['نگه', 'کن', 'چون', 'سلطان', 'به', 'غفلت', 'بخفت', 'که', 'چوبک', 'زنش', 'بامدادان', 'چه', 'گفت'], ['مگر', 'نیکبختت', 'فراموش', 'شد', 'چون', 'دستت', 'در', 'آغوش', 'آغوش', 'شد'], ['تو', 'را', 'شب', 'به', 'عیش', 'و', 'طرب', 'می\\u200cرود', 'چه', 'دانی', 'که', 'بر', 'ما', 'چه', 'شب', 'می\\u200cرود'], ['فرو', 'برده', 'سر', 'کاروانی', 'به', 'دیگ', 'چه', 'از', 'پا', 'فرو', 'رفتگانش', 'به', 'ریگ'], ['بدار', 'ای', 'خداوند', 'زورق', 'بر', 'آب', 'که', 'بیچارگان', 'را', 'گذشت', 'از', 'سر', 'آب'], ['توقف', 'کنید', 'ای', 'جوانان', 'چست', 'که', 'در', 'کاروانند', 'پیران', 'سست'], ['تو', 'خوش', 'خفته', 'در', 'هودج', 'کاروان', 'مهار', 'شتر', 'در', 'کف', 'ساروان'], ['چه', 'هامون', 'و', 'کوهت', 'چه', 'سنگ', 'و', 'رمال', 'از', 'راه', 'باز', 'پس', 'ماندگان', 'پرس', 'حال'], ['تو', 'را', 'کوه', 'پیکر', 'هیون', 'می\\u200cبرد', 'پیاده', 'چه', 'دانی', 'که', 'خون', 'می\\u200cخورد'], ['به', 'آرام', 'دل', 'خفتگان', 'در', 'بنه', 'چه', 'دانند', 'حال', 'کم', 'گرسنه'], ['یکی', 'را', 'عسس', 'دست', 'بر', 'بسته_بود', 'همه', 'شب', 'پریشان', 'و', 'دلخسته', 'بود'], ['به', 'گوش', 'آمدش', 'در', 'شب', 'تیره', 'رنگ', 'که', 'شخصی', 'همی', 'نالد', 'از', 'دست', 'تنگ'], ['شنید', 'این', 'سخن', 'دزد', 'مغلول', 'و', 'گفت', 'از', 'بیچارگی', 'چند', 'نالی', 'بخفت'], ['برو', 'شکر', 'یزدان', 'کن', 'ای', 'تنگدست', 'که', 'دستت', 'عسس', 'تنگ', 'بر', 'هم', 'نبست'], ['مکن', 'ناله', 'از', 'بینوایی', 'بسی', 'چون', 'بینی', 'از', 'خود', 'بینواتر', 'کسی'], ['برهنه', 'تنی', 'یک', 'درم', 'وام', 'کرد', 'تن', 'خویش', 'را', 'کسوتی', 'خام', 'کرد'], ['بنالید', 'کای', 'طالع', 'بدلگام', 'به', 'گرما', 'بپختم', 'در', 'این', 'زیر', 'خام'], ['چون', 'ناپخته', 'آمد', 'از', 'سختی', 'به', 'جوش', 'یکی', 'گفتش', 'از', 'چاه', 'زندان', 'خموش'], ['به', 'جای', 'آور', 'ای', 'خام', 'شکر', 'خدای', 'که', 'چون', 'ما', 'نه\\u200cای', 'خام', 'بر', 'دست', 'و', 'پا'], ['یکی', 'کرد', 'بر', 'پارسایی', 'گذر', 'به', 'صورت', 'جهود', 'آمدش', 'در', 'نظر'], ['قفایی', 'فرو', 'کوفت', 'بر', 'گردنش', 'ببخشید', 'درویش', 'پیراهنش'], ['خجل', 'گفت', 'کانچ', 'از', 'من', 'آمد', 'خطاست', 'ببخشای', 'بر', 'من', 'چه', 'جای', 'عطاست'], ['به', 'شکرانه', 'گفتا', 'به', 'سر', 'بیستم', 'که', 'آنم', 'که', 'پنداشتی', 'نیستم'], ['نکو', 'سیرت', 'بی', 'تکلف', 'برون', 'به', 'از', 'نیکنام', 'خراب', 'اندرون'], ['به', 'نزدیک', 'من', 'شبرو', 'راهزن', 'به', 'از', 'فاسق', 'پارسا', 'پیرهن'], ['از', 'راه', 'باز', 'پس', 'مانده\\u200cای', 'می\\u200cگریست', 'که', 'مسکین\\u200cتر', 'از', 'من', 'در', 'این', 'دشت', 'کیست'], ['جهاندیده\\u200cای', 'گفتش', 'ای', 'هوشیار', 'اگر', 'مردی', 'این', 'یک', 'سخن', 'گوش', 'دار'], ['برو', 'شکر', 'کن', 'چون', 'به', 'خر', 'بر', 'نه\\u200cای', 'که', 'آخر', 'بنی', 'آدمی', 'خر', 'نه\\u200cای'], ['فقیهی', 'بر', 'افتاده', 'مستی', 'گذشت', 'به', 'مستوری', 'خویش', 'مغرور', 'گشت'], ['از', 'نخوت', 'بر', 'او', 'التفاتی', 'نکرد', 'جوان', 'سر', 'برآورد', 'کای', 'پیرمرد'], ['برو', 'شکر', 'کن', 'چون', 'به', 'نعمت', 'دری', 'که', 'محرومی', 'آید', 'از', 'مستکبری'], ['یکی', 'را', 'که', 'در', 'بند', 'بینی', 'مخند', 'مبادا', 'که', 'ناگه', 'درافتی', 'به', 'بند'], ['نه', 'آخر', 'در', 'امکان', 'تقدیر', 'هست', 'که', 'فردا', 'چون', 'من', 'باشی', 'افتاده', 'مست'], ['تو', 'را', 'آسمان', 'خط', 'به', 'مسجد', 'نوشت', 'مزن', 'طعنه', 'بر', 'دیگری', 'در', 'کنشت'], ['ببند', 'ای', 'مسلمان', 'به', 'شکرانه', 'دست', 'که', 'زنار', 'مغ', 'بر', 'میانت', 'نبست'], ['نه', 'خود', 'می\\u200cرود', 'هر', 'که', 'جویان', 'اوست', 'به', 'عنفش', 'کشان', 'می\\u200cبرد', 'لطف', 'دوست'], ['نگر', 'تا', 'قضا', 'از', 'کجا', 'سیر', 'کرد', 'که', 'کوری', 'بود', 'تکیه', 'بر', 'غیر', 'کرد'], ['سرشته\\u200cست', 'باری', 'شفا', 'در', 'عسل', 'نه', 'چندان', 'که', 'زور', 'آورد', 'با', 'اجل'], ['عسل', 'خوش', 'کند', 'زندگان', 'را', 'مزاج', 'ولی', 'درد', 'مردن', 'ندارد', 'علاج'], ['رمق', 'مانده\\u200cای', 'را', 'که', 'جان', 'از', 'بدن', 'برآمد', 'چه', 'سود', 'انگبین', 'در', 'دهن'], ['یکی', 'گرز', 'پولاد', 'بر', 'مغز', 'خورد', 'کسی', 'گفت', 'صندل', 'بمالش', 'به', 'درد'], ['از', 'پیش', 'خطر', 'تا', 'توانی', 'گریز', 'ولیکن', 'مکن', 'با', 'قضا', 'پنجه', 'تیز'], ['درون', 'تا', 'بود', 'قابل', 'شرب', 'و', 'اکل', 'بدن', 'تازه', 'روی', 'است', 'و', 'پاکیزه', 'شکل'], ['خراب', 'آنگه', 'این', 'خانه', 'گردد', 'تمام', 'که', 'با', 'هم', 'نسازند', 'طبع', 'و', 'طعام'], ['طبایع\\u200cتر', 'و', 'خشک', 'و', 'گرم', 'است', 'و', 'سرد', 'مرکب', 'از', 'این', 'چار', 'طبع', 'است', 'مرد'], ['یکی', 'زین', 'چون', 'بر', 'دیگری', 'یافت', 'دست', 'ترازوی', 'عدل', 'طبیعت', 'شکست'], ['اگر', 'باد', 'سرد', 'نفس', 'نگذرد', 'تف', 'معده', 'جان', 'در', 'خروش', 'آورد'], ['وگر', 'دیگ', 'معده', 'نجوشد', 'طعام', 'تن', 'نازنین', 'را', 'شود', 'کار', 'خام'], ['در', 'اینان', 'نبندد', 'دل', 'اهل', 'شناخت', 'که', 'پیوسته', 'با', 'هم', 'نخواهند_ساخت'], ['توانایی', 'تن', 'مدان', 'از', 'خورش', 'که', 'لطف', 'حقت', 'می\\u200cدهد', 'پرورش'], ['به', 'حقش', 'که\\u200cگر', 'دیده', 'بر', 'تیغ', 'و', 'کارد', 'نهی', 'حق', 'شکرش', 'نخواهی_گزارد'], ['چون', 'رویی', 'به', 'طاعت', 'نهی', 'بر', 'زمین', 'خدا', 'را', 'ثناگوی', 'و', 'خود', 'را', 'مبین'], ['گدایی', 'است', 'تسبیح', 'و', 'ذکر', 'و', 'حضور', 'گدا', 'را', 'نباید', 'که', 'باشد', 'غرور'], ['گرفتم', 'که', 'خود', 'خدمتی', 'کرده\\u200cای', 'نه', 'پیوسته', 'اقطاع', 'او', 'خورده\\u200cای'], ['نخست', 'او', 'ارادت', 'به', 'دل', 'در', 'نهاد', 'پس', 'این', 'بنده', 'بر', 'آستان', 'سر', 'نهاد'], ['اگر', 'از', 'حق', 'نه', 'توفیق', 'خیری', 'رسد', 'کی', 'از', 'بنده', 'چیزی', 'به', 'غیری', 'رسد'], ['زبان', 'را', 'چه', 'بینی', 'که', 'اقرار', 'داد', 'ببین', 'تا', 'زبان', 'را', 'که', 'گفتار', 'داد'], ['در', 'معرفت', 'دیده', 'آدمی', 'است', 'که', 'بگشوده', 'بر', 'آسمان', 'و', 'زمی', 'است'], ['کیت', 'فهم', 'بودی', 'نشیب', 'و', 'فراز', 'اگر', 'این', 'در', 'نکردی', 'به', 'روی', 'تو', 'باز'], ['سر', 'آورد', 'و', 'دست', 'از', 'عدم', 'در', 'وجود', 'در', 'این', 'جود', 'بنهاد', 'و', 'در', 'او', 'سجود'], ['وگرنه', 'کی', 'از', 'دست', 'جود', 'آمدی', 'محال', 'است', 'که', 'از', 'سر', 'سجود', 'آمدی'], ['به', 'حکمت', 'زبان', 'داد', 'و', 'گوش', 'آفرید', 'که', 'باشند', 'صندوق', 'دل', 'را', 'کلید'], ['اگر', 'نه', 'زبان', 'قصه', 'برداشتی', 'کس', 'از', 'سر', 'دل', 'کی', 'خبر', 'داشتی'], ['وگر', 'نیستی', 'سعی', 'جاسوس', 'گوش', 'خبر', 'کی', 'رسیدی', 'به', 'سلطان', 'هوش'], ['من', 'را', 'لفظ', 'شیرین', 'خواننده', 'داد', 'تو', 'را', 'سمع', 'و', 'ادراک', 'داننده', 'داد'], ['مدام', 'این', 'دو', 'چون', 'حاجبان', 'بر', 'درند', 'از', 'سلطان', 'به', 'سلطان', 'خبر', 'می\\u200cبرند'], ['چه', 'اندیشی', 'از', 'خود', 'که', 'فعلم', 'نکوست', 'از', 'آن', 'در', 'نگه', 'کن', 'که', 'توفیق', 'اوست'], ['برد', 'بوستانبان', 'به', 'ایوان', 'شاه', 'به', 'نوباوه', 'گل', 'هم', 'از', 'بستان', 'شاه'], ['بتی', 'دیدم', 'از', 'عاج', 'در', 'سومنات', 'مرصع', 'چون', 'در', 'جاهلیت', 'منات'], ['چنان', 'صورتش', 'بسته', 'تمثالگر', 'که', 'صورت', 'نبندد', 'از', 'آن', 'خوبتر'], ['از', 'هر', 'ناحیت', 'کاروانها', 'روان', 'به', 'دیدار', 'آن', 'صورت', 'بی', 'روان'], ['طمع', 'کرده', 'رایان', 'چین', 'و', 'چگل', 'چون', 'سعدی', 'وفا', 'از', 'آن', 'بت', 'سخت', 'دل'], ['زبان', 'آوران', 'رفته', 'از', 'هر', 'مکان', 'تضرع', 'کنان', 'پیش', 'آن', 'بی', 'زبان'], ['فرو', 'ماندم', 'از', 'کشف', 'آن', 'ماجرا', 'که', 'حیی', 'جمادی', 'پرستد', 'چرا'], ['مغی', 'را', 'که', 'با', 'من', 'سر', 'و', 'کار', 'بود', 'نکوگوی', 'و', 'هم', 'حجره', 'و', 'یار', 'بود'], ['به', 'نرمی', 'بپرسیدم', 'ای', 'برهمن', 'عجب', 'دارم', 'از', 'کار', 'این', 'بقعه', 'من'], ['که', 'مدهوش', 'این', 'ناتوان', 'پیکرند', 'مقید', 'به', 'چاه', 'ضلال', 'اندرند'], ['نه', 'نیروی', 'دستش', 'نه', 'رفتار', 'پا', 'ورش', 'بفکنی', 'بر', 'نخیزد', 'از', 'جای'], ['نبینی', 'که', 'چشمانش', 'از', 'کهرباست', 'وفا', 'جستن', 'از', 'سنگ', 'چشمان', 'خطاست'], ['بر', 'این', 'گفتم', 'آن', 'دوست', 'دشمن', 'گرفت', 'چون', 'آتش', 'شد', 'از', 'خشم', 'و', 'در', 'من', 'گرفت'], ['مغان', 'را', 'خبر', 'کرد', 'و', 'پیران', 'دیر', 'ندیدم', 'در', 'آن', 'انجمن', 'روی', 'خیر'], ['فتادند', 'گبران', 'پازند', 'خوان', 'چون', 'سگ', 'در', 'من', 'از', 'بهر', 'آن', 'استخوان'], ['چون', 'آن', 'راه', 'کژ', 'پیششان', 'راست', 'بود', 'راه', 'راست', 'در', 'چشمشان', 'کژ', 'نمود'], ['که', 'مرد', 'اگر', 'چه', 'دانا', 'و', 'صاحبدل', 'است', 'به', 'نزدیک', 'بی\\u200cدانشان', 'جاهل', 'است'], ['فرو', 'ماندم', 'از', 'چاره', 'همچون', 'غریق', 'برون', 'از', 'مدارا', 'ندیدم', 'طریق'], ['چون', 'بینی', 'که', 'جاهل', 'به', 'کین', 'در', 'است', 'سلامت', 'به', 'تسلیم', 'و', 'لین', 'در', 'است'], ['مهین', 'برهمن', 'را', 'ستودم', 'بلند', 'که\\u200cای', 'پیر', 'تفسیر', 'استا', 'و', 'زند'], ['من', 'را', 'نیز', 'با', 'نقش', 'این', 'بت', 'خوش', 'است', 'که', 'شکلی', 'خوش', 'و', 'قامتی', 'دلکش', 'است'], ['بدیع', 'آیدم', 'صورتش', 'در', 'نظر', 'ولیکن', 'از', 'معنی', 'ندارم', 'خبر'], ['که', 'سالوک', 'این', 'منزلم', 'عن', 'قریب', 'بد', 'از', 'نیک', 'کمتر', 'شناسد', 'غریب'], ['تو', 'دانی', 'که', 'فرزین', 'این', 'رقعه\\u200cای', 'نصیحتگر', 'شاه', 'این', 'بقعه\\u200cای'], ['چه', 'معنی', 'است', 'در', 'صورت', 'این', 'صنم', 'که', 'اول', 'پرستندگانش', 'منم'], ['عبادت', 'به', 'تقلید', 'گمراهی', 'است', 'خنک', 'رهروی', 'را', 'که', 'آگاهی', 'است'], ['برهمن', 'از', 'شادی', 'بر', 'افروخت', 'روی', 'پسندید', 'و', 'گفت', 'ای', 'پسندیده', 'گوی'], ['سؤالت', 'صواب', 'است', 'و', 'فعلت', 'جمیل', 'به', 'منزل', 'رسد', 'هر', 'که', 'جوید', 'دلیل'], ['بسی', 'چون', 'تو', 'گردیدم', 'در', 'سفر', 'بتان', 'دیدم', 'از', 'خویشتن', 'بی', 'خبر'], ['جز', 'این', 'بت', 'که', 'هر', 'صبح', 'از', 'اینجا', 'که', 'هست', 'برآرد', 'به', 'یزدان', 'دادار', 'دست'], ['وگر', 'خواهی_امشب', 'همینجا', 'بباش', 'که', 'فردا', 'شود', 'سر', 'این', 'بر', 'تو', 'فاش'], ['شب', 'آنجا', 'ببودم', 'به', 'فرمان', 'پیر', 'چون', 'بیژن', 'به', 'چاه', 'بلا', 'در', 'اسیر'], ['شبی', 'همچو', 'روز', 'قیامت', 'دراز', 'مغان', 'گرد', 'من', 'بی', 'وضو', 'در', 'نماز'], ['کشیشان', 'هرگز', 'نیازرده', 'آب', 'بغلها', 'چون', 'مردار', 'در', 'آفتاب'], ['مگر', 'کرده_بودم', 'گناهی', 'عظیم', 'که', 'بردم', 'در', 'آن', 'شب', 'عذابی', 'الیم'], ['همه', 'شب', 'در', 'این', 'قید', 'غم', 'مبتلا', 'یکم', 'دست', 'بر', 'دل', 'یکی', 'بر', 'دعا'], ['که', 'ناگه', 'دهل', 'زن', 'فرو', 'کوفت', 'کوس', 'بخواند', 'از', 'فضای', 'برهمن', 'خروس'], ['خطیب', 'سیه', 'پوش', 'شب', 'بی', 'خلاف', 'بر', 'آهخت', 'شمشیر', 'روز', 'از', 'غلاف'], ['فتاد', 'آتش', 'صبح', 'در', 'سوخته', 'به', 'یک', 'دم', 'جهانی', 'شد', 'افروخته'], ['تو', 'گفتی', 'که', 'در', 'خطه', 'زنگبار', 'از', 'یک', 'گوشه', 'ناگه', 'در', 'آمد', 'تتار'], ['مغان', 'تبه', 'رای', 'ناشسته', 'روی', 'به', 'دیر', 'آمدند', 'از', 'در', 'و', 'دشت', 'و', 'کوی'], ['کس', 'از', 'مرد', 'در', 'شهر', 'و', 'از', 'زن', 'نماند', 'در', 'آن', 'بتکده', 'جای', 'درزن', 'نماند'], ['من', 'از', 'غصه', 'رنجور', 'و', 'از', 'خواب', 'مست', 'که', 'ناگاه', 'تمثال', 'برداشت', 'دست'], ['به', 'یک', 'بار', 'از', 'ایشان', 'برآمد', 'خروش', 'تو', 'گفتی', 'که', 'دریا', 'بر', 'آمد', 'به', 'جوش'], ['چون', 'بتخانه', 'خالی', 'شد', 'از', 'انجمن', 'برهمن', 'نگه', 'کرد', 'خندان', 'به', 'من'], ['که', 'دانم', 'تو', 'را', 'بیش', 'مشکل', 'نماند', 'حقیقت', 'عیان', 'گشت', 'و', 'باطل', 'نماند'], ['چون', 'دیدم', 'که', 'جهل', 'در', 'او', 'محکم', 'است', 'خیال', 'محال', 'در', 'او', 'مدغم', 'است'], ['نیارستم', 'از', 'حق', 'دیگر', 'هیچ', 'گفت', 'که', 'حق', 'از', 'اهل', 'باطل', 'بباید', 'نهفت'], ['چون', 'بینی', 'زبر', 'دست', 'را', 'زور', 'دست', 'نه', 'مردی', 'بود', 'پنجه', 'خود', 'شکست'], ['زمانی', 'به', 'سالوس', 'گریان', 'شدم', 'که', 'من', 'زآنچه', 'گفتم', 'پشیمان', 'شدم'], ['به', 'گریه', 'دل', 'کافران', 'کرد', 'میل', 'عجب', 'نیست', 'سنگ', 'اگر', 'بگردد', 'به', 'سیل'], ['دویدند', 'خدمت', 'کنان', 'سوی', 'من', 'به', 'عزت', 'گرفتند', 'بازوی', 'من'], ['شدم', 'عذرگویان', 'بر', 'شخص', 'عاج', 'به', 'کرسی', 'زر', 'کوفت', 'بر', 'تخت', 'ساج'], ['بتک', 'را', 'یکی', 'بوسه', 'دادم', 'به', 'دست', 'که', 'لعنت', 'بر', 'او', 'باد', 'و', 'بر', 'بت', 'پرست'], ['به', 'تقلید', 'کافر', 'شدم', 'روز', 'چند', 'برهمن', 'شدم', 'در', 'مقالات', 'زند'], ['چون', 'دیدم', 'که', 'در', 'دیر', 'گشتم', 'امین', 'نگنجیدم', 'از', 'خرمی', 'در', 'زمین'], ['در', 'دیر', 'محکم', 'ببستم', 'شبی', 'دویدم', 'چپ', 'و', 'راست', 'چون', 'عقربی'], ['نگه', 'کردم', 'از', 'زیر', 'تخت', 'و', 'زبر', 'یکی', 'پرده', 'دیدم', 'مکلل', 'به', 'زر'], ['پس', 'پرده', 'مطرانی', 'آذرپرست', 'مجاور', 'سر', 'ریسمانی', 'به', 'دست'], ['به', 'فورم', 'در', 'آن', 'حال', 'معلوم', 'شد', 'چون', 'داود', 'کآهن', 'بر', 'او', 'موم', 'شد'], ['که', 'ناچار', 'چون', 'در', 'کشد', 'ریسمان', 'بر', 'آرد', 'صنم', 'دست', 'فریادخوان'], ['برهمن', 'شد', 'از', 'روی', 'من', 'شرمسار', 'که', 'شنعت', 'بود', 'بخیه', 'بر', 'روی', 'کار'], ['بتازید', 'و', 'من', 'در', 'پیش', 'تاختم', 'نگونش', 'به', 'چاهی', 'در', 'انداختم'], ['که', 'دانستم', 'اگر', 'زنده', 'آن', 'برهمن', 'بماند', 'کند', 'سعی', 'در', 'خون', 'من'], ['پسندد', 'که', 'از', 'من', 'بر', 'آید', 'دمار', 'مبادا', 'که', 'سرش', 'کنم', 'آشکار'], ['چون', 'از', 'کار', 'مفسد', 'خبر', 'یافتی', 'از', 'دستش', 'برآور', 'چون', 'دریافتی'], ['که\\u200cگر', 'زنده\\u200cاش', 'مانی', 'آن', 'بی', 'هنر', 'نخواهد_تو', 'را', 'زندگانی', 'دیگر'], ['وگر', 'سر', 'به', 'خدمت', 'نهد', 'بر', 'درت', 'اگر', 'دست', 'یابد', 'ببرد', 'سرت'], ['فریبنده', 'را', 'پا', 'در', 'پی', 'منه', 'چون', 'رفتی', 'و', 'دیدی', 'امانش', 'مده'], ['تمامش', 'بکشتم', 'به', 'سنگ', 'آن', 'خبیث', 'که', 'از', 'مرده', 'دیگر', 'نیاید', 'حدیث'], ['چون', 'دیدم', 'که', 'غوغایی', 'انگیختم', 'رها', 'کردم', 'آن', 'بوم', 'و', 'بگریختم'], ['چون', 'در', 'نیستانی', 'آتش', 'زدی', 'از', 'شیران', 'بپرهیز', 'اگر', 'بخردی'], ['مکش', 'بچه', 'مار', 'مردم', 'گزای', 'چون', 'کشتی', 'در', 'آن', 'خانه', 'دیگر', 'مپای'], ['چون', 'زنبور', 'خانه', 'بیاشوفتی', 'گریز', 'از', 'محلت', 'که', 'گرم', 'اوفتی'], ['به', 'چابک\\u200cتر', 'از', 'خود', 'مینداز', 'تیر', 'چون', 'افتاد', 'دامن', 'به', 'دندان', 'بگیر'], ['در', 'اوراق', 'سعدی', 'چنین', 'پند', 'نیست', 'که', 'چون', 'پا', 'دیوار', 'کندی', 'مایست'], ['به', 'هند', 'آمدم', 'بعد', 'از', 'آن', 'رستخیز', 'وز', 'آنجا', 'به', 'راه', 'یمن', 'تا', 'حجیز'], ['از', 'آن', 'جمله', 'سختی', 'که', 'بر', 'من', 'گذشت', 'دهانم', 'جز', 'امروز', 'شیرین', 'نگشت'], ['در', 'اقبال', 'و', 'تأیید', 'بوبکر', 'سعد', 'که', 'مادر', 'نزاید', 'چنو', 'قبل', 'و', 'بعد'], ['از', 'جور', 'فلک', 'دادخواه', 'آمدم', 'در', 'این', 'سایه\\u200cگستر', 'پناه', 'آمدم'], ['دعاگوی', 'این', 'دولتم', 'بنده\\u200cوار', 'خدایا', 'تو', 'این', 'سایه', 'پاینده', 'دار'], ['که', 'مرهم', 'نهادم', 'نه', 'در', 'خورد', 'ریش', 'که', 'در', 'خورد', 'انعام', 'و', 'اکرام', 'خویش'], ['کی', 'این', 'شکر', 'نعمت', 'به', 'جای', 'آورم', 'و', 'اگر', 'پا', 'گردد', 'به', 'خدمت', 'سرم'], ['فرج', 'یافتم', 'بعد', 'از', 'آن', 'بندها', 'هنوزم', 'به', 'گوش', 'است', 'از', 'آن', 'پندها'], ['یکی', 'آن', 'که', 'هر', 'گه', 'که', 'دست', 'نیاز', 'برآرم', 'به', 'درگاه', 'دانای', 'راز'], ['به', 'یاد', 'آید', 'آن', 'لعبت', 'چینیم', 'کند', 'خاک', 'در', 'چشم', 'خودبینیم'], ['بدانم', 'که', 'دستی', 'که', 'برداشتم', 'به', 'نیروی', 'خود', 'بر', 'نیفراشتم'], ['نه', 'صاحبدلان', 'دست', 'بر', 'می\\u200cکشند', 'که', 'سررشته', 'از', 'غیب', 'در', 'می\\u200cکشند'], ['در', 'خیر', 'باز', 'است', 'و', 'طاعت', 'ولیک', 'نه', 'هر', 'کس', 'تواناست', 'بر', 'فعل', 'نیک'], ['همین', 'است', 'مانع', 'که', 'در', 'بارگاه', 'نشاید', 'شدن', 'جز', 'به', 'فرمان', 'شاه'], ['کلید', 'قدر', 'نیست', 'در', 'دست', 'کس', 'توانای', 'مطلق', 'خدای', 'است', 'و', 'بس'], ['پس', 'ای', 'مرد', 'پوینده', 'بر', 'راه', 'راست', 'تو', 'را', 'نیست', 'منت', 'خداوند', 'راست'], ['چون', 'در', 'غیب', 'نیکو', 'نهادت', 'سرشت', 'نیاید', 'از', 'خوی', 'تو', 'کردار', 'زشت'], ['از', 'زنبور', 'کرد', 'این', 'حلاوت', 'پدید', 'همان', 'کس', 'که', 'در', 'مار', 'زهر', 'آفرید'], ['چون', 'خواهد_که', 'ملک', 'تو', 'ویران', 'کند', 'نخست', 'از', 'تو', 'خلقی', 'پریشان', 'کند'], ['وگر', 'باشدش', 'بر', 'تو', 'بخشایشی', 'رساند', 'به', 'خلق', 'از', 'تو', 'آسایشی'], ['تکبر', 'مکن', 'بر', 'راه', 'راستی', 'که', 'دستت', 'گرفتند', 'و', 'برخاستی'], ['سخن', 'سودمند', 'است', 'اگر', 'بشنوی', 'به', 'مردان', 'رسی\\u200cگر', 'طریقت', 'روی'], ['مقامی', 'بیابی', 'گرت', 'راه', 'دهند', 'که', 'بر', 'خوان', 'عزت', 'سماطت', 'نهند'], ['ولیکن', 'نباید', 'که', 'تنها', 'خوری', 'از', 'درویش', 'درمنده', 'یاد', 'آوری'], ['فرستی', 'مگر', 'رحمتی', 'در', 'پیم', 'که', 'بر', 'کرده', 'خویش', 'واثق', 'نیم'], ['بیا', 'ای', 'که', 'عمرت', 'به', 'هفتاد', 'رفت', 'مگر', 'خفته', 'بودی', 'که', 'بر', 'باد', 'رفت'], ['همه', 'برگ', 'بودن', 'همی', 'ساختی', 'به', 'تدبیر', 'رفتن', 'نپرداختی'], ['قیامت', 'که', 'بازار', 'مینو', 'نهند', 'منازل', 'به', 'اعمال', 'نیکو', 'دهند'], ['بضاعت', 'به', 'چندان', 'که', 'آری', 'بری', 'وگر', 'مفلسی', 'شرمساری', 'بری'], ['که', 'بازار', 'چندان', 'که', 'آکنده\\u200cتر', 'تهیدست', 'را', 'دل', 'پراکنده\\u200cتر'], ['از', 'پنجه', 'درم', 'پنج', 'اگر', 'کم', 'شود', 'دلت', 'ریش', 'سرپنجه', 'غم', 'شود'], ['چون', 'پنجاه', 'سالت', 'برون', 'شد', 'از', 'دست', 'غنیمت', 'شمر', 'پنج', 'روزی', 'که', 'هست'], ['اگر', 'مرده', 'مسکین', 'زبان', 'داشتی', 'به', 'فریاد', 'و', 'زاری', 'فغان', 'داشتی'], ['که\\u200cای', 'زنده', 'چون', 'هست', 'امکان', 'گفت', 'لب', 'از', 'ذکر', 'چون', 'مرده', 'بر', 'هم', 'مخفت'], ['چون', 'ما', 'را', 'به', 'غفلت', 'بشد', 'روزگار', 'تو', 'باری', 'دمی', 'چند', 'فرصت', 'شمار'], ['شبی', 'در', 'جوانی', 'و', 'طیب', 'نعم', 'جوانان', 'نشستیم', 'چندی', 'بهم'], ['چون', 'بلبل', 'سرایان', 'چون', 'گل', 'تازه', 'روی', 'از', 'شوخی', 'در', 'افکنده', 'غلغل', 'به', 'کوی'], ['جهاندیده', 'پیری', 'از', 'ما', 'بر', 'کنار', 'از', 'دور', 'فلک', 'لیل', 'مویش', 'نهار'], ['چون', 'فندق', 'دهان', 'از', 'سخن', 'بسته_بود', 'نه', 'چون', 'ما', 'لب', 'از', 'خنده', 'چون', 'پسته', 'بود'], ['جوانی', 'فرا', 'رفت', 'کای', 'پیرمرد', 'چه', 'در', 'کنج', 'حسرت', 'نشینی', 'به', 'درد'], ['یکی', 'سر', 'برآر', 'از', 'گریبان', 'غم', 'به', 'آرام', 'دل', 'با', 'جوانان', 'بچم'], ['برآورد', 'سر', 'سالخورد', 'از', 'نهفت', 'جوابش', 'نگر', 'تا', 'چه', 'پیرانه', 'گفت'], ['چون', 'باد', 'صبا', 'بر', 'گلستان', 'وزد', 'چمیدن', 'درخت', 'جوان', 'را', 'سزد'], ['چمد', 'تا', 'جوان', 'است', 'و', 'سرسبز', 'خوید', 'شکسته_شود', 'چون', 'به', 'زردی', 'رسید'], ['بهاران', 'که', 'بید', 'آورد', 'بید', 'مشک', 'بریزد', 'درخت', 'گشن', 'برگ', 'خشک'], ['نزیبد', 'من', 'را', 'با', 'جوانان', 'چمید', 'که', 'بر', 'عارضم', 'صبح', 'پیری', 'دمید'], ['به', 'قید', 'اندرم', 'جره', 'بازی', 'که', 'بود', 'دمادم', 'سر', 'رشته', 'خواهد_ربود'], ['شما', 'راست', 'نوبت', 'بر', 'این', 'خوان', 'نشست', 'که', 'ما', 'از', 'تنعم', 'بشستیم', 'دست'], ['چون', 'بر', 'سر', 'نشست', 'از', 'بزرگی', 'غبار', 'دیگر', 'چشم', 'عیش', 'جوانی', 'مدار'], ['من', 'را', 'برف', 'باریده', 'بر', 'پر', 'زاغ', 'نشاید', 'چون', 'بلبل', 'تماشای', 'باغ'], ['کند', 'جلوه', 'طاووس', 'صاحب', 'جمال', 'چه', 'می\\u200cخواهی', 'از', 'باز', 'برکنده', 'بال'], ['من', 'را', 'غله', 'تنگ', 'در', 'آمد', 'درو', 'شما', 'را', 'کنون', 'می\\u200cدمد', 'سبزه', 'نو'], ['گلستان', 'ما', 'را', 'طراوت', 'گذشت', 'که', 'گل', 'دسته', 'بندد', 'چون', 'پژمرده', 'گشت'], ['من', 'را', 'تکیه', 'جان', 'پدر', 'بر', 'عصاست', 'دیگر', 'تکیه', 'بر', 'زندگانی', 'خطاست'], ['مسلم', 'جوان', 'راست', 'بر', 'پا', 'جست', 'که', 'پیران', 'برند', 'استعانت', 'به', 'دست'], ['گل', 'سرخ', 'رویم', 'نگر', 'زر', 'ناب', 'فرو', 'رفت', 'چون', 'زرد', 'شد', 'آفتاب'], ['هوس', 'پختن', 'از', 'کودک', 'ناتمام', 'چنان', 'زشت', 'نبود', 'که', 'از', 'پیر', 'خام'], ['من', 'را', 'می\\u200cبباید', 'چون', 'طفلان', 'گریست', 'از', 'شرم', 'گناهان', 'نه', 'طفلانه', 'زیست'], ['نکو', 'گفت', 'لقمان', 'که', 'نازیستن', 'به', 'از', 'سالها', 'بر', 'خطا', 'زیستن'], ['هم', 'از', 'بامدادان', 'در', 'کلبه', 'بست', 'به', 'از', 'سود', 'و', 'سرمایه', 'دادن', 'از', 'دست'], ['جوان', 'تا', 'رساند', 'سیاهی', 'به', 'نور', 'برد', 'پیر', 'مسکین', 'سپیدی', 'به', 'گور'], ['کهنسالی', 'آمد', 'به', 'نزد', 'طبیب', 'از', 'نالیدنش', 'تا', 'به', 'مردن', 'قریب'], ['که', 'دستم', 'به', 'رگ', 'بر', 'نه\\u200cای', 'نیک', 'رای', 'که', 'پایم', 'همی', 'بر', 'نیاید', 'از', 'جای'], ['بدین', 'ماند', 'این', 'قامت', 'خفته\\u200cام', 'که', 'گویی', 'به', 'گل', 'در', 'فرو', 'رفته\\u200cام'], ['برو', 'گفت', 'دست', 'از', 'جهان', 'در', 'گسل', 'که', 'پایت', 'قیامت', 'برآید', 'از', 'گل'], ['نشاط', 'جوانی', 'از', 'پیران', 'مجوی', 'که', 'آب', 'روان', 'باز', 'ناید', 'به', 'جوی'], ['اگر', 'در', 'جوانی', 'زدی', 'دست', 'و', 'پا', 'در', 'ایام', 'پیری', 'به', 'هش', 'باش', 'و', 'رای'], ['چون', 'دوران', 'عمر', 'از', 'چهل', 'در', 'گذشت', 'مزن', 'دست', 'و', 'پا', 'کآبت', 'از', 'سر', 'گذشت'], ['نشاط', 'از', 'من', 'آن', 'گه', 'رمیدن', 'گرفت', 'که', 'شامم', 'سپیده', 'دمیدن', 'گرفت'], ['بباید', 'هوس', 'کردن', 'از', 'سر', 'به', 'در', 'که', 'دور', 'هوسبازی', 'آمد', 'به', 'سر'], ['به', 'سبزه', 'کجا', 'تازه', 'گردد', 'دلم', 'که', 'سبزه', 'بخواهد', 'دمید', 'از', 'گلم'], ['تفرج', 'کنان', 'در', 'هوا', 'و', 'هوس', 'گذشتیم', 'بر', 'خاک', 'بسیار', 'کس'], ['کسانی', 'که', 'دیگر', 'به', 'غیب', 'اندرند', 'بیایند', 'و', 'بر', 'خاک', 'ما', 'بگذرند'], ['دریغا', 'که', 'فصل', 'جوانی', 'برفت', 'به', 'لهو', 'و', 'لعب', 'زندگانی', 'برفت'], ['دریغا', 'چنان', 'روح', 'پرور', 'زمان', 'که', 'بگذشت', 'بر', 'ما', 'چون', 'برق', 'یمان'], ['از', 'سودای', 'آن', 'پوشم', 'و', 'این', 'خورم', 'نپرداختم', 'تا', 'غم', 'دین', 'خورم'], ['دریغا', 'که', 'مشغول', 'باطل', 'شدیم', 'از', 'حق', 'دور', 'ماندیم', 'و', 'غافل', 'شدیم'], ['چه', 'خوش', 'گفت', 'با', 'کودک', 'آموزگار', 'که', 'کاری', 'نکردیم', 'و', 'شد', 'روزگار'], ['جوانا', 'راه', 'طاعت', 'امروز', 'گیر', 'که', 'فردا', 'جوانی', 'نیاید', 'از', 'پیر'], ['فراغ', 'دلت', 'هست', 'و', 'نیروی', 'تن', 'چون', 'میدان', 'فراخ', 'است', 'گویی', 'بزن'], ['قضا', 'روزگاری', 'از', 'من', 'در', 'ربود', 'که', 'هر', 'روزی', 'از', 'او', 'شبی', 'قدر', 'بود'], ['من', 'آن', 'روز', 'را', 'قدر', 'نشناختم', 'بدانستم', 'اکنون', 'که', 'در', 'باختم'], ['چه', 'کوشش', 'کند', 'پیر', 'خر', 'زیر', 'بار', 'تو', 'می\\u200cرو', 'که', 'بر', 'بادپایی', 'سوار'], ['شکسته', 'قدح', 'ور', 'ببندند', 'چست', 'نیاورد', 'خواهد_بهای', 'درست'], ['کنون', 'کاوفتادت', 'به', 'غفلت', 'از', 'دست', 'طریقی', 'ندارد', 'مگر', 'باز', 'بست'], ['که', 'گفتت', 'به', 'جیحون', 'در', 'انداز', 'تن', 'چون', 'افتاد', 'هم', 'دست', 'و', 'پایی', 'بزن'], ['به', 'غفلت', 'بدادی', 'از', 'دست', 'آب', 'پاک', 'چه', 'چاره', 'کنون', 'جز', 'تیمم', 'به', 'خاک'], ['چون', 'از', 'چابکان', 'در', 'دویدن', 'گرو', 'نبردی', 'هم', 'افتان', 'و', 'خیزان', 'برو'], ['اگر', 'آن', 'بادپایان', 'برفتند', 'تیز', 'تو', 'بی', 'دست', 'و', 'پا', 'از', 'نشستن', 'بخیز'], ['شبی', 'خوابم', 'در', 'بیابان', 'فید', 'فرو', 'بست', 'پا', 'دویدن', 'به', 'قید'], ['شتربانی', 'آمد', 'به', 'هول', 'و', 'ستیز', 'زمام', 'شتر', 'بر', 'سرم', 'زد', 'که', 'خیز'], ['مگر', 'دل', 'نهادی', 'به', 'مردن', 'از', 'پس', 'که', 'بر', 'می\\u200cنخیزی', 'به', 'بانگ', 'جرس'], ['من', 'را', 'همچو', 'تو', 'خواب', 'خوش', 'در', 'سر', 'است', 'ولیکن', 'بیابان', 'به', 'پیش', 'در', 'است'], ['تو', 'که', 'از', 'خواب', 'نوشین', 'به', 'بانگ', 'رحیل', 'نخیزی', 'دیگر', 'کی', 'رسی', 'در', 'سبیل'], ['فرو', 'کوفت', 'طبل', 'شتر', 'ساروان', 'به', 'منزل', 'رسید', 'اول', 'کاروان'], ['خنک', 'هوشیاران', 'فرخنده', 'بخت', 'که', 'پیش', 'از', 'دهلزن', 'بسازند', 'رخت'], ['به', 'راه', 'خفتگان', 'تا', 'بر', 'آرند', 'سر', 'نبینند', 'راه', 'رفتگان', 'را', 'اثر'], ['سبق', 'برد', 'رهرو', 'که', 'برخاست', 'زود', 'پس', 'از', 'نقل', 'بیدار', 'بودن', 'چه', 'سود'], ['یکی', 'در', 'بهاران', 'بیفشانده', 'جو', 'چه', 'گندم', 'ستاند', 'به', 'وقت', 'درو'], ['کنون', 'باید', 'ای', 'خفته', 'بیدار', 'بود', 'چون', 'مرگ', 'در', 'آرد', 'از', 'خوابت', 'چه', 'سود'], ['چون', 'شیبت', 'در', 'آمد', 'به', 'روی', 'شباب', 'شبت', 'روز', 'شد', 'دیده', 'بر', 'کن', 'از', 'خواب'], ['من', 'آن', 'روز', 'بر', 'کندم', 'از', 'عمر', 'امید', 'که', 'افتادم', 'در', 'سیاهی', 'سپید'], ['دریغا', 'که', 'بگذشت', 'عمر', 'عزیز', 'بخواهد', 'گذشت', 'این', 'دمی', 'چند', 'نیز'], ['گذشت', 'آنچه', 'در', 'ناصوابی', 'گذشت', 'ور', 'این', 'نیز', 'هم', 'در', 'نیابی', 'گذشت'], ['کنون', 'وقت', 'تخم', 'است', 'اگر', 'پروری', 'اگر', 'امید', 'داری', 'که', 'خرمن', 'بری'], ['به', 'شهر', 'قیامت', 'مرو', 'تنگدست', 'که', 'وجهی', 'ندارد', 'به', 'حسرت', 'نشست'], ['گرت', 'چشم', 'عقل', 'است', 'تدبیر', 'گور', 'کنون', 'کن', 'که', 'چشمت', 'نخورده\\u200cست', 'مور'], ['به', 'مایه', 'توان', 'ای', 'پسر', 'سود', 'کرد', 'چه', 'سود', 'افتد', 'آن', 'را', 'که', 'سرمایه', 'خورد'], ['کنون', 'کوش', 'کآب', 'از', 'کمر', 'در', 'گذشت', 'نه', 'وقتی', 'که', 'سیلابت', 'از', 'سر', 'گذشت'], ['کنونت', 'که', 'چشم', 'است', 'اشکی', 'ببار', 'زبان', 'در', 'دهان', 'است', 'عذری', 'بیار'], ['نه', 'پیوسته_باشد', 'روان', 'در', 'بدن', 'نه', 'همواره', 'گردد', 'زبان', 'در', 'دهن'], ['کنون', 'بایدت', 'عذر', 'تقصیر', 'گفت', 'نه', 'چون', 'نفس', 'ناطق', 'از', 'گفتن', 'بخفت'], ['از', 'دانندگان', 'بشنو', 'امروز', 'قول', 'که', 'فردا', 'نکیرت', 'بپرسد', 'به', 'هول'], ['غنیمت', 'شمار', 'این', 'گرامی', 'نفس', 'که', 'بی', 'مرغ', 'قیمت', 'ندارد', 'قفس'], ['مکن', 'عمر', 'ضایع', 'به', 'افسوس', 'و', 'حیف', 'که', 'فرصت', 'عزیز', 'است', 'و', 'الوقت', 'سیف'], ['قضا', 'زنده\\u200cای', 'را', 'رگ', 'جان', 'برید', 'دیگر', 'کس', 'به', 'مرگش', 'گریبان', 'درید'], ['چنین', 'گفت', 'بیننده\\u200cای', 'تیز', 'هوش', 'چون', 'فریاد', 'و', 'زاری', 'رسیدش', 'به', 'گوش'], ['از', 'دست', 'شما', 'مرده', 'بر', 'خویشتن', 'گرش', 'دست', 'بودی', 'دریدی', 'کفن'], ['که', 'چندین', 'از', 'تیمار', 'و', 'دردم', 'مپیچ', 'که', 'روزی', 'دو', 'پیش', 'از', 'تو', 'کردم', 'بسیچ'], ['فراموش', 'کردی', 'مگر', 'مرگ', 'خویش', 'که', 'مرگ', 'منت', 'ناتوان', 'کرد', 'و', 'ریش'], ['محقق', 'که', 'بر', 'مرده', 'ریزد', 'گلش', 'نه', 'بر', 'او', 'که', 'بر', 'خود', 'بسوزد', 'دلش'], ['از', 'هجران', 'طفلی', 'که', 'در', 'خاک', 'رفت', 'چه', 'نالی', 'که', 'پاک', 'آمد', 'و', 'پاک', 'رفت'], ['تو', 'پاک', 'آمدی', 'بر', 'حذر', 'باش', 'و', 'پاک', 'که', 'ننگ', 'است', 'ناپاک', 'رفتن', 'به', 'خاک'], ['کنون', 'باید', 'این', 'مرغ', 'را', 'پا', 'بست', 'نه', 'آنگه', 'که', 'سررشته', 'بردت', 'از', 'دست'], ['نشستی', 'به', 'جای', 'دیگر', 'کس', 'بسی', 'نشیند', 'به', 'جای', 'تو', 'دیگر', 'کسی'], ['اگر', 'پهلوانی', 'و', 'اگر', 'تیغزن', 'نخواهی_به', 'در', 'بردن', 'الا', 'کفن'], ['خر', 'وحش', 'اگر', 'بگسلاند', 'کمند', 'چون', 'در', 'ریگ', 'ماند', 'شود', 'پا', 'بند'], ['تو', 'را', 'نیز', 'چندان', 'بود', 'دست', 'زور', 'که', 'پایت', 'نرفته\\u200cست', 'در', 'ریگ', 'گور'], ['منه', 'دل', 'بر', 'این', 'سالخورده', 'مکان', 'که', 'گنبد', 'نپاید', 'بر', 'او', 'گردکان'], ['چون', 'دی', 'رفت', 'و', 'فردا', 'نیامد', 'به', 'دست', 'حساب', 'از', 'همین', 'یک', 'نفس', 'کن', 'که', 'هست'], ['فرو', 'رفت', 'جم', 'را', 'یکی', 'نازنین', 'کفن', 'کرد', 'چون', 'کرمش', 'ابریشمین'], ['به', 'دخمه', 'برآمد', 'پس', 'از', 'چند', 'روز', 'که', 'بر', 'او', 'بگرید', 'به', 'زاری', 'و', 'سوز'], ['چون', 'پوسیده', 'دیدش', 'حریرین', 'کفن', 'به', 'فکرت', 'چنین', 'گفت', 'با', 'خویشتن'], ['من', 'از', 'کرم', 'برکنده', 'بودم', 'به', 'زور', 'بکندند', 'از', 'او', 'باز', 'کرمان', 'گور'], ['در', 'این', 'باغ', 'سروی', 'نیامد', 'بلند', 'که', 'باد', 'اجل', 'بیخش', 'از', 'بن', 'نکند'], ['قضا', 'نقش', 'یوسف', 'جمالی', 'نکرد', 'که', 'ماهی', 'گورش', 'چون', 'یونس', 'نخورد'], ['دو', 'بیتم', 'جگر', 'کرد', 'روزی', 'کباب', 'که', 'می\\u200cگفت', 'گوینده\\u200cای', 'با', 'رباب'], ['دریغا', 'که', 'بی', 'ما', 'بسی', 'روزگار', 'بروید', 'گل', 'و', 'بشکفد', 'نوبهار'], ['بسی', 'تیر', 'و', 'دی', 'ماه', 'و', 'اردیبهشت', 'برآید', 'که', 'ما', 'خاک', 'باشیم', 'و', 'خشت'], ['یکی', 'پارسا', 'سیرت', 'حق', 'پرست', 'فتادش', 'یکی', 'خشت', 'زرین', 'به', 'دست'], ['سر', 'هوشمندش', 'چنان', 'خیره', 'کرد', 'که', 'سودا', 'دل', 'روشنش', 'تیره', 'کرد'], ['همه', 'شب', 'در', 'اندیشه', 'کاین', 'گنج', 'و', 'مال', 'در', 'او', 'تا', 'زیم', 'راه', 'نیابد', 'زوال'], ['دیگر', 'قامت', 'عجزم', 'از', 'بهر', 'خواست', 'نباید', 'بر', 'کس', 'دوتا', 'کرد', 'و', 'راست'], ['سرایی', 'کنم', 'پا', 'بستش', 'رخام', 'درختان', 'سقفش', 'همه', 'عود', 'خام'], ['یکی', 'حجره', 'خاص', 'از', 'پی', 'دوستان', 'در', 'حجره', 'در', 'سرا', 'بوستان'], ['بفرسودم', 'از', 'رقعه', 'بر', 'رقعه', 'دوخت', 'تف', 'دیگدان', 'چشم', 'و', 'مغزم', 'بسوخت'], ['دیگر', 'زیردستان', 'پزندم', 'خورش', 'به', 'راحت', 'دهم', 'روح', 'را', 'پرورش'], ['به', 'سختی', 'بکشت', 'این', 'نمد', 'بسترم', 'روم', 'زین', 'سپس', 'عبقری', 'گسترم'], ['خیالش', 'خرف', 'کرد', 'و', 'کالیوه', 'رنگ', 'به', 'مغزش', 'فرو', 'برده', 'خرچنگ', 'چنگ'], ['فراغ', 'مناجات', 'و', 'رازش', 'نماند', 'خور', 'و', 'خواب', 'و', 'ذکر', 'و', 'نمازش', 'نماند'], ['به', 'صحرا', 'برآمد', 'سر', 'از', 'عشوه', 'مست', 'که', 'جایی', 'نبودش', 'قرار', 'نشست'], ['یکی', 'بر', 'سر', 'گور', 'گل', 'می\\u200cسرشت', 'که', 'حاصل', 'کند', 'زآن', 'گل', 'گور', 'خشت'], ['به', 'اندیشه', 'لختی', 'فرو', 'رفت', 'پیر', 'که\\u200cای', 'نفس', 'کوته', 'نظر', 'پند', 'گیر'], ['چه', 'بندی', 'در', 'این', 'خشت', 'زرین', 'دلت', 'که', 'یک', 'روز', 'خشتی', 'کنند', 'از', 'گلت'], ['طمع', 'را', 'نه', 'چندان', 'دهان', 'است', 'باز', 'که', 'بازش', 'نشیند', 'به', 'یک', 'لقمه', 'آز'], ['بدار', 'ای', 'فرومایه', 'زین', 'خشت', 'دست', 'که', 'جیحون', 'نشاید', 'به', 'یک', 'خشت', 'بست'], ['تو', 'غافل', 'در', 'اندیشه', 'سود', 'و', 'مال', 'که', 'سرمایه', 'عمر', 'شد', 'پایمال'], ['غبار', 'هوا', 'چشم', 'عقلت', 'بدوخت', 'سموم', 'هوس', 'کشت', 'عمرت', 'بسوخت'], ['بکن', 'سرمه', 'غفلت', 'از', 'چشم', 'پاک', 'که', 'فردا', 'شوی', 'سرمه', 'در', 'چشم', 'خاک'], ['میان', 'دو', 'تن', 'دشمنی', 'بود', 'و', 'جنگ', 'سر', 'از', 'کبر', 'بر', 'یکدیگر', 'چون', 'پلنگ'], ['از', 'دیدار', 'هم', 'تا', 'به', 'حدی', 'رمان', 'که', 'بر', 'هر', 'دو', 'تنگ', 'آمدی', 'آسمان'], ['یکی', 'را', 'اجل', 'در', 'سر', 'آورد', 'جیش', 'سرآمد', 'بر', 'او', 'روزگاران', 'عیش'], ['بداندیش', 'او', 'را', 'درون', 'شاد', 'گشت', 'به', 'گورش', 'پس', 'از', 'مدتی', 'برگذشت'], ['شبستان', 'گورش', 'در', 'اندوده', 'دید', 'که', 'وقتی', 'سرایش', 'زر', 'اندوده', 'دید'], ['خرامان', 'به', 'بالینش', 'آمد', 'فراز', 'همی', 'گفت', 'با', 'خود', 'لب', 'از', 'خنده', 'باز'], ['خوشا', 'وقت', 'مجموع', 'آن', 'کس', 'که', 'اوست', 'پس', 'از', 'مرگ', 'دشمن', 'در', 'آغوش', 'دوست'], ['پس', 'از', 'مرگ', 'آن', 'کس', 'نباید', 'گریست', 'که', 'روزی', 'پس', 'از', 'مرگ', 'دشمن', 'بزیست'], ['از', 'روی', 'عداوت', 'به', 'بازوی', 'زور', 'یکی', 'تخته', 'برکندش', 'از', 'روی', 'گور'], ['سر', 'تاجور', 'دیدش', 'در', 'مغاک', 'دو', 'چشم', 'جهان', 'بینش', 'آکنده', 'خاک'], ['وجودش', 'گرفتار', 'زندان', 'گور', 'تنش', 'طعمه', 'کرم', 'و', 'تاراج', 'مور'], ['چنان', 'تنگش', 'آکنده', 'خاک', 'استخوان', 'که', 'از', 'عاج', 'پر', 'توتیا', 'سرمه', 'دان'], ['از', 'دور', 'فلک', 'بدر', 'رویش', 'هلال', 'از', 'جور', 'زمان', 'سرو', 'قدش', 'خلال'], ['کف', 'دست', 'و', 'سرپنجه', 'زورمند', 'جدا', 'کرده', 'ایام', 'بندش', 'از', 'بند'], ['چنانش', 'بر', 'او', 'رحمت', 'آمد', 'از', 'دل', 'که', 'بسرشت', 'بر', 'خاکش', 'از', 'گریه', 'گل'], ['پشیمان', 'شد', 'از', 'کرده', 'و', 'خوی', 'زشت', 'بفرمود', 'بر', 'سنگ', 'گورش', 'نبشت'], ['مکن', 'شادمانی', 'به', 'مرگ', 'کسی', 'که', 'دهرت', 'نماند', 'پس', 'از', 'او', 'بسی'], ['شنید', 'این', 'سخن', 'عارفی', 'هوشیار', 'بنالید', 'کای', 'قادر', 'کردگار'], ['عجب\\u200cگر', 'تو', 'رحمت', 'نیاری', 'بر', 'او', 'که', 'بگریست', 'دشمن', 'به', 'زاری', 'بر', 'او'], ['تن', 'ما', 'شود', 'نیز', 'روزی', 'چنان', 'که', 'بر', 'او', 'بسوزد', 'دل', 'دشمنان'], ['مگر', 'در', 'دل', 'دوست', 'رحم', 'آیدم', 'چون', 'بیند', 'که', 'دشمن', 'ببخشایدم'], ['به', 'جایی', 'رسد', 'کار', 'سر', 'دیر', 'و', 'زود', 'که', 'گویی', 'در', 'او', 'دیده', 'هرگز', 'نبود'], ['زدم', 'تیشه', 'یک', 'روز', 'بر', 'تل', 'خاک', 'به', 'گوش', 'آمدم', 'ناله\\u200cای', 'دردناک'], ['که', 'زنهار', 'اگر', 'مردی', 'آهسته\\u200cتر', 'که', 'چشم', 'و', 'بناگوش', 'و', 'روی', 'است', 'و', 'سر'], ['شبی', 'خفته', 'بودم', 'به', 'عزم', 'سفر', 'پی', 'کاروانی', 'گرفتم', 'سحر'], ['که', 'آمد', 'یکی', 'سهمگین', 'باد', 'و', 'گرد', 'که', 'بر', 'چشم', 'مردم', 'جهان', 'تیره', 'کرد'], ['به', 'راه', 'در', 'یکی', 'دختر', 'خانه', 'بود', 'به', 'معجر', 'غبار', 'از', 'پدر', 'می\\u200cزدود'], ['پدر', 'گفتش', 'ای', 'نازنین', 'چهر', 'من', 'که', 'داری', 'دل', 'آشفته', 'مهر', 'من'], ['نه', 'چندان', 'نشیند', 'در', 'این', 'دیده', 'خاک', 'که', 'بازش', 'به', 'معجر', 'توان', 'کرد', 'پاک'], ['بر', 'این', 'خاک', 'چندان', 'صبا', 'بگذرد', 'که', 'هر', 'ذره', 'از', 'ما', 'به', 'جایی', 'برد'], ['تو', 'را', 'نفس', 'رعنا', 'چون', 'سرکش', 'ستور', 'دوان', 'می\\u200cبرد', 'تا', 'سر', 'شیب', 'گور'], ['اجل', 'ناگهت', 'بگسلاند', 'رکیب', 'عنان', 'باز', 'نتوان', 'گرفت', 'از', 'نشیب'], ['خبر', 'داری', 'ای', 'استخوانی', 'قفس', 'که', 'جان', 'تو', 'مرغی', 'است', 'نامش', 'نفس'], ['چون', 'مرغ', 'از', 'قفس', 'رفت', 'و', 'بگسست', 'قید', 'دیگر', 'راه', 'نگردد', 'به', 'سعی', 'تو', 'صید'], ['نگه', 'دار', 'فرصت', 'که', 'عالم', 'دمی', 'است', 'دمی', 'پیش', 'دانا', 'به', 'از', 'عالمی', 'است'], ['سکندر', 'که', 'بر', 'عالمی', 'حکم', 'داشت', 'در', 'آن', 'دم', 'که', 'بگذشت', 'و', 'عالم', 'گذاشت'], ['میسر', 'نبودش', 'که', 'از', 'او', 'عالمی', 'ستانند', 'و', 'مهلت', 'دهندش', 'دمی'], ['برفتند', 'و', 'هر', 'کس', 'درود', 'آنچه', 'کشت', 'نماند', 'به', 'جز', 'نام', 'نیکو', 'و', 'زشت'], ['چرا', 'دل', 'بر', 'این', 'کاروانگه', 'نهیم', 'که', 'یاران', 'برفتند', 'و', 'ما', 'بر', 'رهیم'], ['پس', 'از', 'ما', 'همین', 'گل', 'دمد', 'بوستان', 'نشینند', 'با', 'یکدگر', 'دوستان'], ['دل', 'در', 'دلارام', 'دنیا', 'مبند', 'که', 'ننشست', 'با', 'کس', 'که', 'دل', 'بر', 'نکند'], ['چون', 'در', 'خاکدان', 'لحد', 'خفت', 'مرد', 'قیامت', 'بیفشاند', 'از', 'موی', 'گرد'], ['سر', 'از', 'جیب', 'غفلت', 'برآور', 'کنون', 'که', 'فردا', 'نماند', 'به', 'حسرت', 'نگون'], ['نه', 'چون', 'خواهی_آمد', 'به', 'شیراز', 'در', 'سر', 'و', 'تن', 'بشویی', 'از', 'گرد', 'سفر'], ['پس', 'ای', 'خاکسار', 'گنه', 'عن', 'قریب', 'سفر', 'کرد', 'خواهی_به', 'شهری', 'غریب'], ['بران', 'از', 'دو', 'سرچشمه', 'دیده', 'جوی', 'ور', 'آلایشی', 'داری', 'از', 'خود', 'بشوی'], ['از', 'عهد', 'پدر', 'یادم', 'آید', 'همی', 'که', 'باران', 'رحمت', 'بر', 'او', 'هر', 'دمی'], ['که', 'در', 'طفلیم', 'لوح', 'و', 'دفتر', 'خرید', 'از', 'بهرم', 'یکی', 'خاتم', 'زر', 'خرید'], ['به', 'در', 'کرد', 'ناگه', 'یکی', 'مشتری', 'به', 'خرمایی', 'از', 'دستم', 'انگشتری'], ['چون', 'نشناسد', 'انگشتری', 'طفل', 'خرد', 'به', 'شیرینی', 'از', 'او', 'توانند', 'برد'], ['تو', 'هم', 'قیمت', 'عمر', 'نشناختی', 'که', 'در', 'عیش', 'شیرین', 'برانداختی'], ['قیامت', 'که', 'نیکان', 'بر', 'اعلا', 'رسند', 'از', 'قعر', 'ثری', 'بر', 'ثریا', 'رسند'], ['تو', 'را', 'خود', 'بماند', 'سر', 'از', 'ننگ', 'پیش', 'که', 'گردت', 'برآید', 'عملهای', 'خویش'], ['برادر', 'از', 'کار', 'بدان', 'شرم', 'دار', 'که', 'در', 'روی', 'نیکان', 'شوی', 'شرمسار'], ['در', 'آن', 'روز', 'که', 'از', 'فعل', 'پرسند', 'و', 'قول', 'اولوالعزم', 'را', 'تن', 'بلرزد', 'از', 'هول'], ['به', 'جایی', 'که', 'دهشت', 'خورند', 'انبیا', 'تو', 'عذر', 'گنه', 'را', 'چه', 'داری', 'بیا'], ['زنانی', 'که', 'طاعت', 'به', 'رغبت', 'برند', 'از', 'مردان', 'ناپارسا', 'بگذرند'], ['تو', 'را', 'شرم', 'ناید', 'از', 'مردی', 'خویش', 'که', 'باشد', 'زنان', 'را', 'قبول', 'از', 'تو', 'بیش'], ['زنان', 'را', 'به', 'عذری', 'معین', 'که', 'هست', 'از', 'طاعت', 'بدارند', 'گه', 'گاه', 'دست'], ['تو', 'بی', 'عذر', 'یک', 'سو', 'نشینی', 'چون', 'زن', 'رو', 'ای', 'کم', 'از', 'زن', 'لاف', 'مردی', 'مزن'], ['من', 'را', 'خود', 'چه', 'باشد', 'زبان', 'آوری', 'چنین', 'گفت', 'شاه', 'سخن', 'عنصری'], ['چون', 'از', 'راستی', 'بگذری', 'خم', 'بود', 'چه', 'مردی', 'بود', 'که', 'از', 'زنی', 'کم', 'بود'], ['به', 'ناز', 'و', 'طرب', 'نفس', 'پرورده', 'گیر', 'به', 'ایام', 'دشمن', 'قوی', 'کرده', 'گیر'], ['یکی', 'بچه', 'گرگ', 'می\\u200cپرورید', 'چون', 'پرورده', 'شد', 'خواجه', 'بر', 'هم', 'درید'], ['چون', 'بر', 'پهلوی', 'جان', 'سپردن', 'بخفت', 'زبان', 'آوری', 'در', 'سرش', 'رفت', 'و', 'گفت'], ['تو', 'دشمن', 'چنین', 'نازنین', 'پروری', 'ندانی', 'که', 'ناچار', 'زخمش', 'خوری'], ['نه', 'ابلیس', 'در', 'حق', 'ما', 'طعنه', 'زد', 'که', 'از', 'اینان', 'نیاید', 'به', 'جز', 'کار', 'بد'], ['فغان', 'از', 'بدیها', 'که', 'در', 'نفس', 'ماست', 'که', 'ترسم', 'شود', 'ظن', 'ابلیس', 'راست'], ['چون', 'ملعون', 'پسند', 'آمدش', 'قهر', 'ما', 'خدایش', 'بینداخت', 'از', 'بهر', 'ما'], ['کجا', 'سر', 'برآریم', 'از', 'این', 'عار', 'و', 'ننگ', 'که', 'با', 'او', 'به', 'صلحیم', 'و', 'با', 'حق', 'به', 'جنگ'], ['نظر', 'دوست', 'نادر', 'کند', 'سوی', 'تو', 'چون', 'در', 'روی', 'دشمن', 'بود', 'روی', 'تو'], ['گرت', 'دوست', 'باید', 'که', 'از', 'او', 'بر', 'خوری', 'نباید', 'که', 'فرمان', 'دشمن', 'بری'], ['روا', 'دارد', 'از', 'دوست', 'بیگانگی', 'که', 'دشمن', 'گزیند', 'به', 'همخانگی'], ['ندانی', 'که', 'کمتر', 'نهد', 'دوست', 'پا', 'چون', 'بیند', 'که', 'دشمن', 'بود', 'در', 'سرای'], ['به', 'سیم', 'سیه', 'تا', 'چه', 'خواهی_خرید', 'که', 'خواهی_دل', 'از', 'مهر', 'یوسف', 'برید'], ['تو', 'از', 'دوست\\u200cگر', 'عاقلی', 'بر', 'مگرد', 'که', 'دشمن', 'نیارد', 'نگه', 'در', 'تو', 'کرد'], ['یکی', 'برد', 'با', 'پادشاهی', 'ستیز', 'به', 'دشمن', 'سپردش', 'که', 'خونش', 'بریز'], ['گرفتار', 'در', 'دست', 'آن', 'کینه', 'توز', 'همی', 'گفت', 'هر', 'دم', 'به', 'زاری', 'و', 'سوز'], ['اگر', 'دوست', 'بر', 'خود', 'نیازردمی', 'کی', 'از', 'دست', 'دشمن', 'جفا', 'بردمی'], ['بتا', 'جور', 'دشمن', 'بدردش', 'پوست', 'رفیقی', 'که', 'بر', 'خود', 'بیازرد', 'دوست'], ['تو', 'از', 'دوست\\u200cگر', 'عاقلی', 'بر', 'مگرد', 'که', 'دشمن', 'نیارد', 'نگه', 'در', 'تو', 'کرد'], ['تو', 'با', 'دوست', 'یکدل', 'شو', 'و', 'یک', 'سخن', 'که', 'خود', 'بیخ', 'دشمن', 'برآید', 'از', 'بن'], ['نپندارم', 'این', 'زشت', 'نامی', 'نکوست', 'به', 'خشنودی', 'دشمن', 'آزار', 'دوست'], ['یکی', 'مال', 'مردم', 'به', 'تلبیس', 'خورد', 'چون', 'برخاست', 'لعنت', 'بر', 'ابلیس', 'کرد'], ['چنین', 'گفتش', 'ابلیس', 'در', 'رهی', 'که', 'هرگز', 'ندیدم', 'چنین', 'ابلهی'], ['تو', 'را', 'با', 'من', 'است', 'ای', 'فلان', 'آشتی', 'به', 'جنگم', 'چرا', 'گردن', 'افراشتی'], ['دریغ', 'است', 'فرموده', 'دیو', 'زشت', 'که', 'دست', 'ملک', 'بر', 'تو', 'خواهد_نبشت'], ['روا', 'داری', 'از', 'جهل', 'و', 'ناباکیت', 'که', 'پاکان', 'نویسند', 'ناپاکیت'], ['طریقی', 'به', 'دست', 'آر', 'و', 'صلحی', 'بجوی', 'شفیعی', 'برانگیز', 'و', 'عذری', 'بگوی'], ['که', 'یک', 'لحظه', 'صورت', 'نبندد', 'امان', 'چون', 'پیمانه', 'پر', 'شد', 'به', 'دور', 'زمان'], ['وگر', 'دست', 'قدرت', 'نداری', 'به', 'کار', 'چون', 'بیچارگان', 'دست', 'زاری', 'بر', 'آر'], ['گرت', 'رفت', 'از', 'اندازه', 'بیرون', 'بدی', 'چون', 'گفتی', 'که', 'بد', 'رفت', 'نیک', 'آمدی'], ['فرا', 'شو', 'چون', 'بینی', 'راه', 'صلح', 'باز', 'که', 'ناگه', 'در', 'توبه', 'گردد', 'فراز'], ['مرو', 'زیر', 'بار', 'گنه\\u200cای', 'پسر', 'که', 'حمال', 'عاجز', 'بود', 'در', 'سفر'], ['پی', 'نیک\\u200cمردان', 'بباید', 'شتافت', 'که', 'هر', 'کاین', 'سعادت', 'طلب', 'کرد', 'یافت'], ['ولیکن', 'تو', 'دنبال', 'دیو', 'خسی', 'ندانم', 'که', 'در', 'صالحان', 'چون', 'رسی'], ['پیمبر', 'کسی', 'را', 'شفاعتگر', 'است', 'که', 'بر', 'جاده', 'شرع', 'پیغمبر', 'است'], ['راه', 'راست', 'رو', 'تا', 'به', 'منزل', 'رسی', 'تو', 'بر', 'راه', 'نه\\u200cای', 'زین', 'قبل', 'واپسی'], ['چون', 'گاوی', 'که', 'عصار', 'چشمش', 'ببست', 'دوان', 'تا', 'به', 'شب', 'شب', 'همانجا', 'که', 'هست'], ['گل', 'آلوده\\u200cای', 'راه', 'مسجد', 'گرفت', 'از', 'بخت', 'نگون', 'بود', 'در', 'شگفت'], ['یکی', 'زجر', 'کردش', 'که', 'تبت', 'یداک', 'مرو', 'دامن', 'آلوده', 'بر', 'جای', 'پاک'], ['من', 'را', 'رقتی', 'در', 'دل', 'آمد', 'بر', 'این', 'که', 'پاک', 'است', 'و', 'خرم', 'بهشت', 'برین'], ['در', 'آن', 'جای', 'پاکان', 'امیدوار', 'گل', 'آلوده', 'معصیت', 'را', 'چه', 'کار'], ['بهشت', 'آن', 'ستاند', 'که', 'طاعت', 'برد', 'کرا', 'نقد', 'باید', 'بضاعت', 'برد'], ['مکن', 'دامن', 'از', 'گرد', 'زلت', 'بشوی', 'که', 'ناگه', 'از', 'بالا', 'ببندند', 'جوی'], ['مگو', 'مرغ', 'دولت', 'از', 'قیدم', 'بجست', 'هنوزش', 'سر', 'رشته', 'داری', 'به', 'دست'], ['وگر', 'دیر', 'شد', 'گرم', 'رو', 'باش', 'و', 'چست', 'از', 'دیر', 'آمدن', 'غم', 'ندارد', 'درست'], ['هنوزت', 'اجل', 'دست', 'خواهش', 'نبست', 'بر', 'آور', 'به', 'درگاه', 'دادار', 'دست'], ['مخسب', 'ای', 'گنه', 'کار', 'خوش', 'خفته', 'خیز', 'به', 'عذر', 'گناه', 'آب', 'چشمی', 'بریز'], ['چون', 'حکم', 'ضرورت', 'بود', 'کآبروی', 'بریزند', 'باری', 'بر', 'این', 'خاک', 'کوی'], ['ور', 'آبت', 'نماند', 'شفیع', 'آر', 'پیش', 'کسی', 'را', 'که', 'هست', 'آبروی', 'از', 'تو', 'بیش'], ['به', 'قهر', 'اگر', 'براند', 'خدای', 'از', 'درم', 'روان', 'بزرگان', 'شفیع', 'آورم'], ['همی', 'یادم', 'آید', 'از', 'عهد', 'صغر', 'که', 'عیدی', 'برون', 'آمدم', 'با', 'پدر'], ['به', 'بازیچه', 'مشغول', 'مردم', 'شدم', 'در', 'آشوب', 'خلق', 'از', 'پدر', 'گم', 'شدم'], ['برآوردم', 'از', 'هول', 'و', 'دهشت', 'خروش', 'پدر', 'ناگهانم', 'بمالید', 'گوش'], ['که\\u200cای', 'شوخ', 'چشم', 'آخرت', 'چند', 'بار', 'بگفتم', 'که', 'دستم', 'از', 'دامن', 'مدار'], ['به', 'تنها', 'نداند', 'شدن', 'طفل', 'خرد', 'که', 'مشکل', 'توان', 'راه', 'نادیده', 'برد'], ['تو', 'هم', 'طفل', 'راهی', 'به', 'سعی', 'ای', 'فقیر', 'برو', 'دامن', 'راه', 'دانان', 'بگیر'], ['مکن', 'با', 'فرومایه', 'مردم', 'نشست', 'چون', 'کردی', 'از', 'هیبت', 'فرو', 'شوی', 'دست'], ['به', 'فتراک', 'پاکان', 'درآویز', 'چنگ', 'که', 'عارف', 'ندارد', 'از', 'دریوزه', 'ننگ'], ['مریدان', 'به', 'قوت', 'از', 'طفلان', 'کمند', 'مشایخ', 'چون', 'دیوار', 'مستحکمند'], ['بیاموز', 'رفتار', 'از', 'آن', 'طفل', 'خرد', 'که', 'چون', 'استعانت', 'به', 'دیوار', 'برد'], ['از', 'زنجیر', 'ناپارسایان', 'برست', 'که', 'در', 'حلقه', 'پارسایان', 'نشست'], ['اگر', 'حاجتی', 'داری', 'این', 'حلقه', 'گیر', 'که', 'سلطان', 'ندارد', 'از', 'این', 'در', 'گزیر'], ['برو', 'خوشه', 'چین', 'باش', 'سعدی', 'صفت', 'که', 'گرد', 'آوری', 'خرمن', 'معرفت'], ['الا', 'ای', 'مقیمان', 'محراب', 'انس', 'که', 'فردا', 'نشینید', 'بر', 'خوان', 'قدس'], ['متابید', 'روی', 'از', 'گدایان', 'خیل', 'که', 'صاحب', 'مروت', 'نراند', 'طفیل'], ['کنون', 'با', 'خرد', 'باید', 'انباز', 'گشت', 'که', 'فردا', 'نماند', 'راه', 'بازگشت'], ['یکی', 'غله', 'مرداد', 'مه', 'توده', 'کرد', 'از', 'تیمار', 'دی', 'خاطر', 'آسوده', 'کرد'], ['شبی', 'مست', 'شد', 'و', 'آتشی', 'برفروخت', 'نگون', 'بخت', 'کالیوه', 'خرمن', 'بسوخت'], ['دیگر', 'روز', 'در', 'خوشه', 'چینی', 'نشست', 'که', 'یک', 'جو', 'از', 'خرمن', 'نماندش', 'به', 'دست'], ['چون', 'سرگشته', 'دیدند', 'درویش', 'را', 'یکی', 'گفت', 'پرورده', 'خویش', 'را'], ['نخواهی_که', 'باشی', 'چنین', 'تیره', 'روز', 'به', 'دیوانگی', 'خرمن', 'خود', 'مسوز'], ['اگر', 'از', 'دست', 'شد', 'عمرت', 'در', 'بدی', 'تو', 'آنی', 'که', 'در', 'خرمن', 'آتش', 'زدی'], ['فضیحت', 'بود', 'خوشه', 'اندوختن', 'پس', 'از', 'خرمن', 'خویشتن', 'سوختن'], ['مکن', 'جان', 'من', 'تخم', 'دین', 'ورز', 'و', 'داد', 'مده', 'خرمن', 'نیکنامی', 'به', 'باد'], ['چون', 'برگشته', 'بختی', 'در', 'افتد', 'به', 'بند', 'از', 'او', 'نیک\\u200cبختان', 'بگیرند', 'پند'], ['تو', 'پیش', 'از', 'عقوبت', 'در', 'عفو', 'کوب', 'که', 'سودی', 'ندارد', 'فغان', 'زیر', 'چوب'], ['بر', 'آر', 'از', 'گریبان', 'غفلت', 'سرت', 'که', 'فردا', 'نماند', 'خجل', 'در', 'برت'], ['یکی', 'متفق', 'بود', 'بر', 'منکری', 'گذر', 'کرد', 'بر', 'او', 'نکو', 'محضری'], ['نشست', 'از', 'خجالت', 'عرق', 'کرده', 'روی', 'که', 'آیا', 'خجل', 'گشتم', 'از', 'شیخ', 'کوی'], ['شنید', 'این', 'سخن', 'پیر', 'روشن', 'روان', 'بر', 'او', 'بر', 'بشورید', 'و', 'گفت', 'ای', 'جوان'], ['نیاید', 'همی', 'شرمت', 'از', 'خویشتن', 'که', 'حق', 'حاضر', 'و', 'شرم', 'داری', 'از', 'من'], ['نیاسایی', 'از', 'جانب', 'هیچ', 'کس', 'برو', 'جانب', 'حق', 'نگه', 'دار', 'و', 'بس'], ['چنان', 'شرم', 'دار', 'از', 'خداوند', 'خویش', 'که', 'شرمت', 'از', 'بیگانگان', 'است', 'و', 'خویش'], ['زلیخا', 'چون', 'گشت', 'از', 'می\\u200cعشق', 'مست', 'به', 'دامان', 'یوسف', 'در', 'آویخت', 'دست'], ['چنان', 'دیو', 'شهوت', 'رضا', 'داده_بود', 'که', 'چون', 'گرگ', 'در', 'یوسف', 'افتاده_بود'], ['بتی', 'داشت', 'بانوی', 'مصر', 'از', 'رخام', 'بر', 'او', 'معتکف', 'بامدادان', 'و', 'شام'], ['در', 'آن', 'لحظه', 'رویش', 'بپوشید', 'و', 'سر', 'مبادا', 'که', 'زشت', 'آیدش', 'در', 'نظر'], ['غم', 'آلوده', 'یوسف', 'به', 'کنجی', 'نشست', 'به', 'سر', 'بر', 'از', 'نفس', 'ستمکاره', 'دست'], ['زلیخا', 'دو', 'دستش', 'ببوسید', 'و', 'پا', 'که\\u200cای', 'سست', 'پیمان', 'سرکش', 'درآی'], ['به', 'سندان', 'دلی', 'روی', 'در', 'هم', 'مکش', 'به', 'تندی', 'پریشان', 'مکن', 'وقت', 'خوش'], ['روان', 'گشتش', 'از', 'دیده', 'بر', 'چهره', 'جوی', 'که', 'برگرد', 'و', 'ناپاکی', 'از', 'من', 'مجوی'], ['تو', 'در', 'روی', 'سنگی', 'شدی', 'شرمناک', 'من', 'را', 'شرم', 'باد', 'از', 'خداوند', 'پاک'], ['چه', 'سود', 'از', 'پشیمانی', 'آید', 'به', 'کف', 'چون', 'سرمایه', 'عمر', 'کردی', 'تلف'], ['شراب', 'از', 'پی', 'سرخ', 'رویی', 'خورند', 'وز', 'او', 'عاقبت', 'زردرویی', 'برند'], ['به', 'عذرآوری', 'خواهش', 'امروز', 'کن', 'که', 'فردا', 'نماند', 'مجال', 'سخن'], ['پلیدی', 'کند', 'گربه', 'بر', 'جای', 'پاک', 'چون', 'زشتش', 'نماید', 'بپوشد', 'به', 'خاک'], ['تو', 'آزادی', 'از', 'ناپسندیده\\u200cها', 'نترسی', 'که', 'بر', 'او', 'فتد', 'دیده\\u200cها'], ['براندیش', 'از', 'آن', 'بنده', 'پر', 'گناه', 'که', 'از', 'خواجه', 'مخفی', 'شود', 'چند', 'گاه'], ['اگر', 'بر', 'نگردد', 'به', 'صدق', 'و', 'نیاز', 'به', 'زنجیر', 'و', 'بندش', 'بیارند', 'باز'], ['به', 'کین', 'آوری', 'با', 'کسی', 'بر', 'ستیز', 'که', 'از', 'او', 'گزیرت', 'بود', 'یا', 'گریز'], ['کنون', 'کرد', 'باید', 'عمل', 'را', 'حساب', 'نه', 'وقتی', 'که', 'منشور', 'گردد', 'کتاب'], ['کسی\\u200cگر', 'چه', 'بد', 'کرد', 'هم', 'بد', 'نکرد', 'که', 'پیش', 'از', 'قیامت', 'غم', 'خود', 'بخورد'], ['اگر', 'آیینه', 'از', 'آه', 'گردد', 'سیاه', 'شود', 'روشن', 'آیینه', 'دل', 'به', 'آه'], ['بترس', 'از', 'گناهان', 'خویش', 'این', 'نفس', 'که', 'روز', 'قیامت', 'نترسی', 'از', 'کس'], ['غریب', 'آمدم', 'در', 'سواد', 'حبش', 'دل', 'از', 'دهر', 'فارغ', 'سر', 'از', 'عیش', 'خوش'], ['به', 'راه', 'بر', 'یکی', 'دکه', 'دیدم', 'بلند', 'تنی', 'چند', 'مسکین', 'بر', 'او', 'پا', 'بند'], ['بسیج', 'سفر', 'کردم', 'در', 'نفس', 'بیابان', 'گرفتم', 'چون', 'مرغ', 'از', 'قفس'], ['یکی', 'گفت', 'کاین', 'بندیان', 'شبروند', 'نصیحت', 'نگیرند', 'و', 'حق', 'نشنوند'], ['چون', 'بر', 'کس', 'نیامد', 'از', 'دستت', 'ستم', 'تو', 'را\\u200cگر', 'جهان', 'شحنه', 'گیرد', 'چه', 'غم'], ['نیاورده', 'عامل', 'غش', 'در', 'میان', 'نیندیشد', 'از', 'رفع', 'دیوانیان'], ['وگر', 'عفتت', 'را', 'فریب', 'است', 'زیر', 'زبان', 'حسابت', 'نگردد', 'دلیر'], ['نکونام', 'را', 'کس', 'نگیرد', 'اسیر', 'بترس', 'از', 'خدای', 'و', 'مترس', 'از', 'امیر'], ['چون', 'خدمت', 'پسندیده', 'آرم', 'به', 'جای', 'نیندیشم', 'از', 'دشمن', 'تیره', 'رای'], ['اگر', 'بنده', 'کوشش', 'کند', 'بنده\\u200cوار', 'عزیزش', 'بدارد', 'خداوندگار'], ['وگر', 'کند', 'رای', 'است', 'در', 'بندگی', 'از', 'جانداری', 'افتد', 'به', 'خربندگی'], ['قدم', 'پیش', 'نه', 'که', 'از', 'ملک', 'بگذری', 'که\\u200cگر', 'باز', 'مانی', 'از', 'دد', 'کمتری'], ['یکی', 'را', 'به', 'چوگان', 'مه', 'دامغان', 'بزد', 'تا', 'چون', 'طبلش', 'بر', 'آمد', 'فغان'], ['شب', 'از', 'بی', 'قراری', 'نیارست', 'خفت', 'بر', 'او', 'پارسایی', 'گذر', 'کرد', 'و', 'گفت'], ['به', 'شب\\u200cگر', 'ببردی', 'بر', 'شحنه', 'سوز', 'گناه', 'آبرویش', 'نبردی', 'به', 'روز'], ['کسی', 'روز', 'محشر', 'نگردد', 'خجل', 'که', 'شبها', 'به', 'درگه', 'برد', 'سوز', 'دل'], ['هنوز', 'اگر', 'سر', 'صلح', 'داری', 'چه', 'بیم', 'در', 'عذرخواهان', 'نبندد', 'کریم'], ['از', 'یزدان', 'دادار', 'داور', 'بخواه', 'شب', 'توبه', 'تقصیر', 'روز', 'گناه'], ['کریمی', 'که', 'آوردت', 'از', 'نیست', 'هست', 'عجب\\u200cگر', 'بیفتی', 'نگیردت', 'دست'], ['اگر', 'بنده\\u200cای', 'دست', 'حاجت', 'بر', 'آر', 'و', 'اگر', 'شرمسار', 'آب', 'حسرت', 'ببار'], ['نیامد', 'بر', 'این', 'در', 'کسی', 'عذر', 'خواه', 'که', 'سیل', 'ندامت', 'نشستش', 'گناه'], ['نریزد', 'خدای', 'آبروی', 'کسی', 'که', 'ریزد', 'گناه', 'آب', 'چشمش', 'بسی'], ['به', 'صنعا', 'درم', 'طفلی', 'در', 'گذشت', 'چه', 'گویم', 'که', 'از', 'آنم', 'چه', 'بر', 'سر', 'گذشت'], ['قضا', 'نقش', 'یوسف', 'جمالی', 'نکرد', 'که', 'ماهی', 'گورش', 'چون', 'یونس', 'نخورد'], ['در', 'این', 'باغ', 'سروی', 'نیامد', 'بلند', 'که', 'باد', 'اجل', 'بیخش', 'از', 'بن', 'نکند'], ['نهالی', 'به', 'سی', 'سال', 'گردد', 'درخت', 'از', 'بیخش', 'بر', 'آرد', 'یکی', 'باد', 'سخت'], ['عجب', 'نیست', 'بر', 'خاک', 'اگر', 'گل', 'شکفت', 'که', 'چندین', 'گل\\u200cاندام', 'در', 'خاک', 'خفت'], ['به', 'دل', 'گفتم', 'ای', 'ننگ', 'مردان', 'بمیر', 'که', 'کودک', 'رود', 'پاک', 'و', 'آلوده', 'پیر'], ['از', 'سودا', 'و', 'آشفتگی', 'بر', 'قدش', 'برانداختم', 'سنگی', 'از', 'مرقدش'], ['از', 'هولم', 'در', 'آن', 'جای', 'تاریک', 'و', 'تنگ', 'بشورید', 'حال', 'و', 'بگردید', 'رنگ'], ['چون', 'باز', 'آمدم', 'زآن', 'تغیر', 'به', 'هوش', 'از', 'فرزند', 'دلبندم', 'آمد', 'به', 'گوش'], ['گرت', 'وحشت', 'آمد', 'از', 'تاریک', 'جای', 'به', 'هش', 'باش', 'و', 'با', 'روشنایی', 'در', 'آی'], ['شب', 'گور', 'خواهی_منور', 'چون', 'روز', 'از', 'اینجا', 'چراغ', 'عمل', 'برفروز'], ['تن', 'کارکن', 'می\\u200cبلرزد', 'از', 'تب', 'مبادا', 'که', 'نخلش', 'نیارد', 'رطب'], ['گروهی', 'فراوان', 'طمع', 'ظن', 'برند', 'که', 'گندم', 'نیفشانده', 'خرمن', 'برند'], ['بر', 'آن', 'خورد', 'سعدی', 'که', 'بیخی', 'نشاند', 'کسی', 'برد', 'خرمن', 'که', 'تخمی', 'فشاند'], ['بیا', 'تا', 'برآریم', 'دستی', 'از', 'دل', 'که', 'نتوان', 'برآورد', 'فردا', 'از', 'گل'], ['به', 'فصل', 'خزان', 'در', 'نبینی', 'درخت', 'که', 'بی', 'برگ', 'ماند', 'از', 'سرمای', 'سخت'], ['برآرد', 'تهی', 'دستهای', 'نیاز', 'از', 'رحمت', 'نگردد', 'تهیدست', 'باز'], ['مپندار', 'از', 'آن', 'در', 'که', 'هرگز', 'نبست', 'که', 'نومید', 'گردد', 'بر', 'آورده', 'دست'], ['قضا', 'خلعتی', 'نامدارش', 'دهد', 'قدر', 'میوه', 'در', 'آستینش', 'نهد'], ['همه', 'طاعت', 'آرند', 'و', 'مسکین', 'نیاز', 'بیا', 'تا', 'به', 'درگاه', 'مسکین', 'نواز'], ['چون', 'شاخ', 'برهنه', 'برآریم', 'دست', 'که', 'بی', 'برگ', 'از', 'این', 'بیش', 'نتوان', 'نشست'], ['خداوندگارا', 'نظر', 'کن', 'به', 'جود', 'که', 'جرم', 'آمد', 'از', 'بندگان', 'در', 'وجود'], ['گناه', 'آید', 'از', 'بنده', 'خاکسار', 'به', 'امید', 'عفو', 'خداوندگار'], ['کریما', 'به', 'رزق', 'تو', 'پرورده\\u200cایم', 'به', 'انعام', 'و', 'لطف', 'تو', 'خو', 'کرده\\u200cایم'], ['گدا', 'چون', 'کرم', 'بیند', 'و', 'لطف', 'و', 'ناز', 'نگردد', 'از', 'دنبال', 'بخشنده', 'باز'], ['چون', 'ما', 'را', 'به', 'دنیا', 'تو', 'کردی', 'عزیز', 'به', 'عقبی', 'همین', 'چشم', 'داریم', 'نیز'], ['عزیزی', 'و', 'خواری', 'تو', 'بخشی', 'و', 'بس', 'عزیز', 'تو', 'خواری', 'نبیند', 'از', 'کس'], ['خدایا', 'به', 'عزت', 'که', 'خوارم', 'مکن', 'به', 'ذل', 'گنه', 'شرمسارم', 'مکن'], ['مسلط', 'مکن', 'چون', 'منی', 'بر', 'سرم', 'از', 'دست', 'تو', 'به\\u200cگر', 'عقوبت', 'برم'], ['به', 'گیتی', 'بتر', 'زین', 'نباشد', 'بدی', 'جفا', 'بردن', 'از', 'دست', 'همچون', 'خودی'], ['من', 'را', 'شرمساری', 'از', 'روی', 'تو', 'بس', 'دیگر', 'شرمسارم', 'مکن', 'پیش', 'کس'], ['گرم', 'بر', 'سر', 'افتد', 'از', 'تو', 'سایه\\u200cای', 'سپهرم', 'بود', 'کهترین', 'پایه\\u200cای'], ['اگر', 'تاج', 'بخشی', 'سر', 'افرازدم', 'تو', 'بردار', 'تا', 'کس', 'نیندازدم'], ['تنم', 'می\\u200cبلرزد', 'چون', 'یاد', 'آورم', 'مناجات', 'شوریده\\u200cای', 'در', 'حرم'], ['که', 'می\\u200cگفت', 'شوریده', 'دلفگار', 'الها', 'ببخش', 'و', 'به', 'ذلم', 'مدار'], ['همی\\u200cگفت', 'با', 'حق', 'به', 'زاری', 'بسی', 'میفکن', 'که', 'دستم', 'نگیرد', 'کسی'], ['به', 'لطفم', 'بخوان', 'و', 'مران', 'از', 'درم', 'ندارد', 'به', 'جز', 'آستانت', 'سرم'], ['تو', 'دانی', 'که', 'مسکین', 'و', 'بیچاره\\u200cایم', 'فرو', 'مانده', 'نفس', 'اماره\\u200cایم'], ['نمی\\u200cتازد', 'این', 'نفس', 'سرکش', 'چنان', 'که', 'عقلش', 'تواند', 'گرفتن', 'عنان'], ['که', 'با', 'نفس', 'و', 'شیطان', 'بر', 'آید', 'به', 'زور', 'مصاف', 'پلنگان', 'نیاید', 'از', 'مور'], ['به', 'مردان', 'راهت', 'که', 'راهی', 'بده', 'وز', 'این', 'دشمنانم', 'پناهی', 'بده'], ['خدایا', 'به', 'ذات', 'خداوندیت', 'به', 'اوصاف', 'بی', 'مثل', 'و', 'مانندیت'], ['به', 'لبیک', 'حجاج', 'بیت\\u200cالحرام', 'به', 'مدفون', 'یثرب', 'علیه\\u200cالسلام'], ['به', 'تکبیر', 'مردان', 'شمشیر', 'زن', 'که', 'مرد', 'وغا', 'را', 'شمارند', 'زن'], ['به', 'طاعات', 'پیران', 'آراسته', 'به', 'صدق', 'جوانان', 'نوخاسته'], ['که', 'ما', 'را', 'در', 'آن', 'ورطه', 'یک', 'نفس', 'از', 'ننگ', 'دو', 'گفتن', 'به', 'فریاد', 'رس'], ['امید', 'است', 'از', 'آنان', 'که', 'طاعت', 'کنند', 'که', 'بی', 'طاعتان', 'را', 'شفاعت', 'کنند'], ['به', 'پاکان', 'که', 'از', 'آلایشم', 'دور', 'دار', 'وگر', 'زلتی', 'رفت', 'معذور', 'دار'], ['به', 'پیران', 'پشت', 'از', 'عبادت', 'دو', 'تا', 'از', 'شرم', 'گنه', 'دیده', 'بر', 'پشت', 'پا'], ['که', 'چشمم', 'از', 'روی', 'سعادت', 'مبند', 'زبانم', 'به', 'وقت', 'شهادت', 'مبند'], ['چراغ', 'یقینم', 'فرا', 'راه', 'دار', 'از', 'بد', 'کردنم', 'دست', 'کوتاه', 'دار'], ['بگردان', 'از', 'نادیدنی', 'دیده\\u200cام', 'مده', 'دست', 'بر', 'ناپسندیده\\u200cام'], ['من', 'آن', 'ذره\\u200cام', 'در', 'هوای', 'تو', 'نیست', 'وجود', 'و', 'عدم', 'از', 'احتقارم', 'یکی', 'است'], ['از', 'خورشید', 'لطفت', 'شعاعی', 'بسم', 'که', 'جز', 'در', 'شعاعت', 'نبیند', 'کسم'], ['بدی', 'را', 'نگه', 'کن', 'که', 'بهتر', 'کس', 'است', 'گدا', 'را', 'از', 'شاه', 'التفاتی', 'بس', 'است'], ['مرا\\u200cگر', 'بگیری', 'به', 'انصاف', 'و', 'داد', 'بنالم', 'که', 'عفوم', 'نه', 'این', 'وعده', 'داد'], ['خدایا', 'به', 'ذلت', 'مران', 'از', 'درم', 'که', 'صورت', 'نبندد', 'دری', 'دیگرم'], ['ور', 'از', 'جهل', 'غایب', 'شدم', 'روز', 'چند', 'کنون', 'کآمدم', 'در', 'به', 'رویم', 'مبند'], ['چه', 'عذر', 'آرم', 'از', 'ننگ', 'تردامنی', 'مگر', 'عجز', 'پیش', 'آورم', 'کای', 'غنی'], ['فقیرم', 'به', 'جرم', 'و', 'گناهم', 'مگیر', 'غنی', 'را', 'ترحم', 'بود', 'بر', 'فقیر'], ['چرا', 'باید', 'از', 'ضعف', 'حالم', 'گریست', 'اگر', 'من', 'ضعیفم', 'پناهم', 'قوی', 'است'], ['خدایا', 'به', 'غفلت', 'شکستیم', 'عهد', 'چه', 'زور', 'آورد', 'با', 'قضا', 'دست', 'جهد'], ['چه', 'برخیزد', 'از', 'دست', 'تدبیر', 'ما', 'همین', 'نکته', 'بس', 'عذر', 'تقصیر', 'ما'], ['همه', 'هر', 'چه', 'کردم', 'تو', 'بر', 'هم', 'زدی', 'چه', 'قوت', 'کند', 'با', 'خدایی', 'خودی'], ['نه', 'من', 'سر', 'از', 'حکمت', 'به', 'در', 'می\\u200cبرم', 'که', 'حکمت', 'چنین', 'می\\u200cرود', 'بر', 'سرم'], ['سیه', 'چرده\\u200cای', 'را', 'کسی', 'زشت', 'خواند', 'جوابی', 'بگفتش', 'که', 'حیران', 'بماند'], ['نه', 'من', 'صورت', 'خویش', 'خود', 'کرده\\u200cام', 'که', 'عیبم', 'شماری', 'که', 'بد', 'کرده\\u200cام'], ['تو', 'را', 'با', 'من', 'اگر', 'زشت', 'رویم', 'چه', 'کار', 'نه', 'آخر', 'منم', 'زشت', 'و', 'زیبا', 'نگار'], ['از', 'آنم', 'که', 'بر', 'سر', 'نبشتی', 'از', 'پیش', 'نه', 'کم', 'کردم', 'ای', 'بنده', 'پرور', 'نه', 'بیش'], ['تو', 'دانایی', 'آخر', 'که', 'قادر', 'نیم', 'توانای', 'مطلق', 'تویی', 'من', 'کیم'], ['گرم', 'راه', 'نمایی', 'رسیدم', 'به', 'خیر', 'وگر', 'گم', 'کنی', 'باز', 'ماندم', 'از', 'سیر'], ['جهان', 'آفرین\\u200cگر', 'نه', 'یاری', 'کند', 'کجا', 'بنده', 'پرهیزگاری', 'کند'], ['چه', 'خوش', 'گفت', 'درویش', 'کوتاه', 'دست', 'که', 'شب', 'توبه', 'کرد', 'و', 'سحرگه', 'شکست'], ['اگر', 'او', 'توبه', 'بخشد', 'بماند', 'درست', 'که', 'پیمان', 'ما', 'بی', 'ثبات', 'است', 'و', 'سست'], ['به', 'حقت', 'که', 'چشمم', 'از', 'باطل', 'بدوز', 'به', 'نورت', 'که', 'فردا', 'به', 'نارم', 'مسوز'], ['از', 'مسکینیم', 'روی', 'در', 'خاک', 'رفت', 'غبار', 'گناهم', 'بر', 'افلاک', 'رفت'], ['تو', 'یک', 'نوبت', 'ای', 'ابر', 'رحمت', 'ببار', 'که', 'در', 'پیش', 'باران', 'نپاید', 'غبار'], ['از', 'جرمم', 'در', 'این', 'مملکت', 'جاه', 'نیست', 'ولیکن', 'به', 'ملکی', 'دیگر', 'راه', 'نیست'], ['تو', 'دانی', 'ضمیر', 'زبان', 'بستگان', 'تو', 'مرهم', 'نهی', 'بر', 'دل', 'خستگان'], ['مغی', 'در', 'به', 'روی', 'از', 'جهان', 'بسته_بود', 'بتی', 'را', 'به', 'خدمت', 'میان', 'بسته_بود'], ['پس', 'از', 'چند', 'سال', 'آن', 'نکوهیده', 'کیش', 'قضا', 'حالتی', 'صعبش', 'آورد', 'پیش'], ['به', 'پا', 'بت', 'در', 'به', 'امید', 'خیر', 'بغلطید', 'بیچاره', 'بر', 'خاک', 'دیر'], ['که', 'درمانده\\u200cام', 'دست', 'گیر', 'ای', 'صنم', 'به', 'جان', 'آمدم', 'رحم', 'کن', 'بر', 'تنم'], ['بزارید', 'در', 'خدمتش', 'بارها', 'که', 'هیچش', 'به', 'سامان', 'نشد', 'کارها'], ['بتی', 'چون', 'برآرد', 'مهمات', 'کس', 'که', 'نتواند', 'از', 'خود', 'براندن', 'مگس'], ['برآشفت', 'کای', 'پا', 'بند', 'ضلال', 'به', 'باطل', 'پرستیدمت', 'چند', 'سال'], ['مهمی', 'که', 'در', 'پیش', 'دارم', 'برآر', 'و', 'اگر', 'نه', 'بخواهم', 'از', 'پروردگار'], ['هنوز', 'از', 'بت', 'آلوده', 'رویش', 'به', 'خاک', 'که', 'کامش', 'برآورد', 'یزدان', 'پاک'], ['حقایق', 'شناسی', 'در', 'این', 'خیره', 'شد', 'سر', 'وقت', 'صافی', 'بر', 'او', 'تیره', 'شد'], ['که', 'سرگشته\\u200cای', 'دون', 'یزدان', 'پرست', 'هنوزش', 'سر', 'از', 'خمر', 'بتخانه', 'مست'], ['دل', 'از', 'کفر', 'و', 'دست', 'از', 'خیانت', 'نشست', 'خدایش', 'برآورد', 'کامی', 'که', 'جست'], ['فرو', 'رفت', 'خاطر', 'در', 'این', 'مشکلش', 'که', 'پیغامی', 'آمد', 'به', 'گوش', 'دلش'], ['که', 'پیش', 'صنم', 'پیر', 'ناقص', 'عقول', 'بسی', 'گفت', 'و', 'قولش', 'نیامد', 'قبول'], ['اگر', 'از', 'درگه', 'ما', 'شود', 'نیز', 'رد', 'پس', 'آنگه', 'چه', 'فرق', 'از', 'صنم', 'تا', 'صمد'], ['دل', 'در', 'صمد', 'باید', 'ای', 'دوست', 'بست', 'که', 'عاجزترند', 'از', 'صنم', 'هر', 'که', 'هست'], ['محال', 'است', 'اگر', 'سر', 'بر', 'این', 'در', 'نهی', 'که', 'باز', 'آیدت', 'دست', 'حاجت', 'تهی'], ['خدایا', 'مقصر', 'به', 'کار', 'آمدیم', 'تهیدست', 'و', 'امیدوار', 'آمدیم'], ['شنیدم', 'که', 'مستی', 'از', 'تاب', 'نبید', 'به', 'مقصوره', 'مسجدی', 'در', 'دوید'], ['بنالید', 'بر', 'آستان', 'کرم', 'که', 'یارب', 'به', 'فردوس', 'اعلی', 'برم'], ['مؤذن', 'گریبان', 'گرفتش', 'که', 'هین', 'سگ', 'و', 'مسجد', 'ای', 'فارغ', 'از', 'عقل', 'و', 'دین'], ['چه', 'شایسته', 'کردی', 'که', 'خواهی_بهشت', 'نمی\\u200cزیبدت', 'ناز', 'با', 'روی', 'زشت'], ['بگفت', 'این', 'سخن', 'پیر', 'و', 'بگریست', 'مست', 'که', 'مستم', 'بدار', 'از', 'من', 'ای', 'خواجه', 'دست'], ['عجب', 'داری', 'از', 'لطف', 'پروردگار', 'که', 'باشد', 'گنهکاری', 'امیدوار'], ['تو', 'را', 'می\\u200cنگویم', 'که', 'عذرم', 'پذیر', 'در', 'توبه', 'باز', 'است', 'و', 'حق', 'دستگیر'], ['همی', 'شرم', 'دارم', 'از', 'لطف', 'کریم', 'که', 'خوانم', 'گنه', 'پیش', 'عفوش', 'عظیم'], ['کسی', 'را', 'که', 'پیری', 'در', 'آرد', 'از', 'پا', 'چون', 'دستش', 'نگیری', 'نخیزد', 'از', 'جای'], ['من', 'آنم', 'از', 'پا', 'در', 'افتاده', 'پیر', 'خدایا', 'به', 'فضل', 'خودم', 'دست', 'گیر'], ['نگویم', 'بزرگی', 'و', 'جاهم', 'ببخش', 'فروماندگی', 'و', 'گناهم', 'ببخش'], ['اگر', 'یاری', 'اندک', 'زلل', 'داندم', 'به', 'نابخردی', 'شهره', 'گرداندم'], ['تو', 'بینا', 'و', 'ما', 'خائف', 'از', 'یکدگر', 'که', 'تو', 'پرده', 'پوشی', 'و', 'ما', 'پرده', 'در'], ['برآورده', 'مردم', 'از', 'بیرون', 'خروش', 'تو', 'با', 'بنده', 'در', 'پرده', 'و', 'پرده', 'پوش'], ['به', 'نادانی', 'اگر', 'بندگان', 'سرکشند', 'خداوندگاران', 'قلم', 'در', 'کشند'], ['اگر', 'جرم', 'بخشی', 'به', 'مقدار', 'جود', 'نماند', 'گنهکاری', 'در', 'وجود'], ['وگر', 'خشم', 'گیری', 'به', 'قدر', 'گناه', 'به', 'دوزخ', 'فرست', 'و', 'ترازو', 'مخواه'], ['گرم', 'دست', 'گیری', 'به', 'جایی', 'رسم', 'وگر', 'بفکنی', 'بر', 'نگیرد', 'کسم'], ['که', 'زور', 'آورد\\u200cگر', 'تو', 'یاری', 'دهی', 'که', 'گیرد', 'چون', 'تو', 'رستگاری', 'دهی'], ['دو', 'خواهند_بودن', 'به', 'محشر', 'فریق', 'ندانم', 'کدامین', 'دهندم', 'طریق'], ['عجب\\u200cگر', 'بود', 'راهم', 'از', 'دست', 'راست', 'که', 'از', 'دست', 'من', 'جز', 'کجی', 'برنخاست'], ['دلم', 'می\\u200cدهد', 'وقت', 'وقت', 'این', 'امید', 'که', 'حق', 'شرم', 'دارد', 'از', 'موی', 'سپید'], ['عجب', 'دارم', 'اگر', 'شرم', 'دارد', 'از', 'من', 'که', 'شرمم', 'نمی\\u200cآید', 'از', 'خویشتن'], ['نه', 'یوسف', 'که', 'چندان', 'بلا', 'دید', 'و', 'بند', 'چون', 'حکمش', 'روان', 'گشت', 'و', 'قدرش', 'بلند'], ['گنه', 'عفو', 'کرد', 'آل', 'یعقوب', 'را', 'که', 'معنی', 'بود', 'صورت', 'خوب', 'را'], ['به', 'کردار', 'بدشان', 'مقید', 'نکرد', 'بضاعات', 'مزجاتشان', 'رد', 'نکرد'], ['از', 'لطفت', 'همین', 'چشم', 'داریم', 'نیز', 'بر', 'این', 'بی\\u200cبضاعت', 'ببخش', 'ای', 'عزیز'], ['کس', 'از', 'من', 'سیه', 'نامه\\u200cتر', 'دیده', 'نیست', 'که', 'هیچم', 'فعال', 'پسندیده', 'نیست'], ['جز', 'این', 'کاعتمادم', 'به', 'یاری', 'تست', 'امیدم', 'به', 'آمرزگاری', 'تست'], ['بضاعت', 'نیاوردم', 'الا', 'امید', 'خدایا', 'از', 'عفوم', 'مکن', 'ناامید']]\n"
          ]
        }
      ]
    },
    {
      "cell_type": "code",
      "source": [
        "import itertools"
      ],
      "metadata": {
        "id": "IOjLkWWcMSvW"
      },
      "execution_count": 41,
      "outputs": []
    },
    {
      "cell_type": "code",
      "source": [
        "from sklearn.feature_extraction.text import TfidfTransformer\n",
        "\n",
        "idf = TfidfTransformer(smooth_idf=True,use_idf=True) \n",
        "idf.fit(tf_data);"
      ],
      "metadata": {
        "id": "3p_AKZoNF6hZ"
      },
      "execution_count": 42,
      "outputs": []
    },
    {
      "cell_type": "code",
      "source": [
        "idf_data = idf.idf_\n",
        "idf_data.shape\n",
        "idf_dataframe = pd.Series(idf_data, index=tf.get_feature_names())\n",
        "idf_dataframe.head()"
      ],
      "metadata": {
        "id": "D0VvclsIGOWI",
        "colab": {
          "base_uri": "https://localhost:8080/"
        },
        "outputId": "3689017e-532f-4eee-d666-ebe3d6d1ba4e"
      },
      "execution_count": 43,
      "outputs": [
        {
          "output_type": "stream",
          "name": "stderr",
          "text": [
            "/usr/local/lib/python3.7/dist-packages/sklearn/utils/deprecation.py:87: FutureWarning: Function get_feature_names is deprecated; get_feature_names is deprecated in 1.0 and will be removed in 1.2. Please use get_feature_names_out instead.\n",
            "  warnings.warn(msg, category=FutureWarning)\n"
          ]
        },
        {
          "output_type": "execute_result",
          "data": {
            "text/plain": [
              "آب        5.370972\n",
              "آبت       8.691200\n",
              "آبدان     9.096665\n",
              "آبروی     7.391917\n",
              "آبرویش    8.691200\n",
              "dtype: float64"
            ]
          },
          "metadata": {},
          "execution_count": 43
        }
      ]
    },
    {
      "cell_type": "code",
      "source": [
        "class my_word2vec:\n",
        "    def __init__(self, document):\n",
        "        self.data = document\n",
        "        # all_words = get_all_words(document)\n",
        "        x = pre_process(document, remove_stopwords=True)\n",
        "        self.model = Word2Vec(x)\n",
        "\n",
        "    def get_most_similar_word_to_word(self, word):\n",
        "        return self.model.wv.most_similar(word)\n",
        "\n",
        "    def get_similarity(self, query, line):\n",
        "        pre_processed_query = sent_pre_process(query, remove_stopwords=True)\n",
        "        pre_processed_line = sent_pre_process(line, remove_stopwords=True)\n",
        "        query_vector = self.word_summation(pre_processed_query)\n",
        "        line_vector = self.word_summation(pre_processed_line)\n",
        "        return get_cosine(query_vector, line_vector)\n",
        "\n",
        "    def word_summation(self, sent):\n",
        "        vector = np.zeros(self.model.wv.vector_size, dtype=np.float64)\n",
        "        weight_sum = 0\n",
        "        for word in sent:\n",
        "          try:\n",
        "            weight = idf_dataframe[word]\n",
        "            vector += self.model.wv[word] * weight\n",
        "            weight_sum += weight\n",
        "          except:\n",
        "            pass\n",
        "        return vector / weight_sum\n",
        "\n",
        "    def search(self, sentence, k=10):\n",
        "        tops = list()\n",
        "        for line in self.data:\n",
        "            similarity = self.get_similarity(sentence, line)\n",
        "            if not np.isnan(similarity):\n",
        "              tops.append([similarity, line])\n",
        "        tops = np.array(tops)\n",
        "        args = np.argsort(tops[:, 0])[::-1]\n",
        "        return list(tops[args[:k]])\n",
        "\n",
        "    def get_vec(self, doc):\n",
        "        return self.model.infer_vector(pre_process(doc)[0])"
      ],
      "metadata": {
        "id": "ewy31-_D2O9H"
      },
      "execution_count": 44,
      "outputs": []
    },
    {
      "cell_type": "code",
      "source": [
        "model = my_word2vec(all_data)"
      ],
      "metadata": {
        "id": "iUHgtPtXvTcA"
      },
      "execution_count": 45,
      "outputs": []
    },
    {
      "cell_type": "code",
      "source": [
        "beit = 'به نام خداوند جان و خرد'"
      ],
      "metadata": {
        "id": "pGyJeUQm5mQx"
      },
      "execution_count": 46,
      "outputs": []
    },
    {
      "cell_type": "code",
      "source": [
        "for x in model.search(beit):\n",
        "    print(x[0], x[1])"
      ],
      "metadata": {
        "id": "9av51TeTlsyJ",
        "colab": {
          "base_uri": "https://localhost:8080/"
        },
        "outputId": "d3d93ef3-f9cc-455e-a4e9-961b28fd9b8c"
      },
      "execution_count": 47,
      "outputs": [
        {
          "output_type": "stream",
          "name": "stderr",
          "text": [
            "/usr/local/lib/python3.7/dist-packages/ipykernel_launcher.py:28: RuntimeWarning: invalid value encountered in true_divide\n"
          ]
        },
        {
          "output_type": "stream",
          "name": "stdout",
          "text": [
            "0.9987198489631657 گفت: جان پدر\n",
            "0.9986101365529694 به جان گفت باید نفس بر نفس\n",
            "که شکرش نه کار زبان است و بس\n",
            "0.998549466916384 بسی بر نیامد که بنی عمّ سلطان به منازعت خاستند و ملک پدر خواستند، قومی که از دست تطاول او به جان آمده بودند و پریشان شده بر ایشان گرد آمدند و تقویت کردند تا ملک از تصرف این به در رفت و بر آنان مقرر شد\n",
            "0.9985299369191578 چو بینی دعاگوی دولت هزار\n",
            "خداوند را شکر نعمت گزار\n",
            "0.9984942260453006 چو بینی که لشکر ز هم دست داد\n",
            "به تنها مده جان شیرین به باد\n",
            "0.9984659248548472 اگر به هر سر موییت صد خرد باشد\n",
            "خرد به کار نیاید چو بخت بد باشد\n",
            "0.9984615857289062 گفت: ای خداوند روی زمین\n",
            "0.9984615857289062 گفت: ای خداوند روی زمین\n",
            "0.9984558010214365 غافلی را شنیدم که خانه رعیت خراب کردی تا خزانه سلطان آباد کند بی خبر از قول حکیمان که گفته‌اند هر که خدای را عزّ و جلّ بیازارد تا دل خلقی به دست آرد خداوند تعالی همان خلق را بر او گمارد تا دمار از روزگارش بر آرد\n",
            "0.9984483521384041 بیچاره در آن حالت نومیدی ملک را دشنام دادن گرفت و سقط گفتن، که گفته‌اند هر که دست از جان بشوید، هر چه در دل دارد بگوید\n"
          ]
        }
      ]
    },
    {
      "cell_type": "markdown",
      "source": [
        "# MMR and Evaluating Model"
      ],
      "metadata": {
        "id": "r1F_QOe75QSy"
      }
    },
    {
      "cell_type": "code",
      "source": [
        "dataset_queries = pd.read_csv('HW3-Dataset.csv', names=['query', 'user1', 'user2', 'user3'])\n",
        "queries = []"
      ],
      "metadata": {
        "id": "15_aICkczPcp"
      },
      "execution_count": 48,
      "outputs": []
    },
    {
      "cell_type": "code",
      "source": [
        "for row in dataset_queries['query'].dropna():\n",
        "    if row.startswith('q'):\n",
        "        queries.append(row.split('\"')[-2])"
      ],
      "metadata": {
        "id": "UHgt0Js5zn4O"
      },
      "execution_count": 49,
      "outputs": []
    },
    {
      "cell_type": "markdown",
      "source": [
        "xlsx_extract, creates a xlxx file for each of four methods, containing 10 responses for each of 10 queries. We will use these files to label our retreived documents.\n"
      ],
      "metadata": {
        "id": "I_Y0ux1m5juX"
      }
    },
    {
      "cell_type": "code",
      "source": [
        "def xlsx_extract(output, response_dict):\n",
        "    dataframe_list = []\n",
        "    i = 1\n",
        "    for key, value in response_dict.items():\n",
        "        dataframe_list.append(f'q{i} = \"{key}\"')\n",
        "        for sent in value:\n",
        "            dataframe_list.append(sent)\n",
        "        i += 1\n",
        "\n",
        "    df = pd.DataFrame({'query/response': dataframe_list,\n",
        "                'user1': np.nan,\n",
        "                'user2': np.nan,\n",
        "                'user3': np.nan})\n",
        "    df.to_excel(output, index=False)  "
      ],
      "metadata": {
        "id": "13u3JYrZ2kTh"
      },
      "execution_count": 50,
      "outputs": []
    },
    {
      "cell_type": "markdown",
      "source": [
        "Extracting responses for each of four models:"
      ],
      "metadata": {
        "id": "xpMgrBW0553X"
      }
    },
    {
      "cell_type": "code",
      "source": [
        "# boolean_retrieval extract xlsx\n",
        "response_dict = {}\n",
        "\n",
        "for query in queries:\n",
        "    response = boolean_retrieval(query)\n",
        "    response_dict[query] = []\n",
        "    for number, sent in response:\n",
        "        response_dict[query].append(sent)\n",
        "\n",
        "xlsx_extract('boolean.xlsx', response_dict)"
      ],
      "metadata": {
        "id": "mWAh8cO31tUI"
      },
      "execution_count": 51,
      "outputs": []
    },
    {
      "cell_type": "code",
      "source": [
        "# tfidf_retrieval extract xlsx\n",
        "response_dict = {}\n",
        "\n",
        "for query in queries:\n",
        "    response = tfidf_retrieval(query)\n",
        "    response_dict[query] = []\n",
        "    for sent in response[1]:\n",
        "        response_dict[query].append(sent)\n",
        "\n",
        "xlsx_extract('tfidf.xlsx', response_dict)"
      ],
      "metadata": {
        "id": "-E11wIHC4OR0",
        "colab": {
          "base_uri": "https://localhost:8080/"
        },
        "outputId": "0d642357-fdf1-4e30-c8f6-6cb74f435e8c"
      },
      "execution_count": 52,
      "outputs": [
        {
          "output_type": "stream",
          "name": "stderr",
          "text": [
            "/usr/local/lib/python3.7/dist-packages/ipykernel_launcher.py:2: RuntimeWarning: invalid value encountered in double_scalars\n",
            "  \n",
            "/usr/local/lib/python3.7/dist-packages/ipykernel_launcher.py:2: RuntimeWarning: invalid value encountered in double_scalars\n",
            "  \n",
            "/usr/local/lib/python3.7/dist-packages/ipykernel_launcher.py:2: RuntimeWarning: invalid value encountered in double_scalars\n",
            "  \n",
            "/usr/local/lib/python3.7/dist-packages/ipykernel_launcher.py:2: RuntimeWarning: invalid value encountered in double_scalars\n",
            "  \n",
            "/usr/local/lib/python3.7/dist-packages/ipykernel_launcher.py:2: RuntimeWarning: invalid value encountered in double_scalars\n",
            "  \n",
            "/usr/local/lib/python3.7/dist-packages/ipykernel_launcher.py:2: RuntimeWarning: invalid value encountered in double_scalars\n",
            "  \n",
            "/usr/local/lib/python3.7/dist-packages/ipykernel_launcher.py:2: RuntimeWarning: invalid value encountered in double_scalars\n",
            "  \n",
            "/usr/local/lib/python3.7/dist-packages/ipykernel_launcher.py:2: RuntimeWarning: invalid value encountered in double_scalars\n",
            "  \n",
            "/usr/local/lib/python3.7/dist-packages/ipykernel_launcher.py:2: RuntimeWarning: invalid value encountered in double_scalars\n",
            "  \n",
            "/usr/local/lib/python3.7/dist-packages/ipykernel_launcher.py:2: RuntimeWarning: invalid value encountered in double_scalars\n",
            "  \n",
            "/usr/local/lib/python3.7/dist-packages/ipykernel_launcher.py:2: RuntimeWarning: invalid value encountered in double_scalars\n",
            "  \n"
          ]
        }
      ]
    },
    {
      "cell_type": "code",
      "source": [
        "queries"
      ],
      "metadata": {
        "colab": {
          "base_uri": "https://localhost:8080/"
        },
        "id": "1wJkCNM0CdQ5",
        "outputId": "27730da0-268b-41c3-a03d-a6649827ff36"
      },
      "execution_count": 53,
      "outputs": [
        {
          "output_type": "execute_result",
          "data": {
            "text/plain": [
              "['به نام خداوند جان و خرد\\nکز این برتر اندیشه بر نگذرد',\n",
              " 'صورتی بنشینده گشتی ترجمان\\nبی\\u200cخبر از گفت خود چون طوطیان',\n",
              " 'تو نیکو روش باش تا بد سگال\\nنیابد به نقص تو گفتن مجال',\n",
              " 'دلم خانهٔ مهر یار است و بس\\nاز آن می\\u200cنگنجد در او کین کس',\n",
              " 'عجب ناید از سیرت بخردان\\nکه نیکی کنند از کرم با بدان',\n",
              " 'شب پره گر وصل آفتاب نخواهد\\nرونق بازار آفتاب نکاهد',\n",
              " 'هر که بی او به سر نشاید برد\\nگر جفایی کند بباید برد',\n",
              " 'صبر قفا خورد و به راهی گریخت\\nعقل بلا دید و به کنجی نشست',\n",
              " 'هر که بیفتاد به تیرت نخاست\\nوان که درآمد به کمندت نجست\\nما به تو یک باره مقید شدیم\\nمرغ به دام آمد و ماهی به شست\\nصبر قفا خورد و به راهی گریخت\\nعقل بلا دید و به کنجی نشست\\nبار مذلت بتوانم کشید\\nعهد محبت نتوانم شکست\\nوین رمقی نیز که هست از وجود\\nپیش وجودت نتوان گفت هست',\n",
              " 'دلم خانهٔ مهر یار است و بس\\nاز آن می\\u200cنگنجد در او کین کس',\n",
              " 'ببرد از من قرار و طاقت و هوش\\nبت سنگین دل سیمین بناگوش\\nنگاری چابکی شنگی کلهدار\\nظریفی مه وشی ترکی قباپوش\\nز تاب آتش سودای عشقش\\nبه سان دیگ دایم می\\u200cزنم جوش\\nچو پیراهن شوم آسوده خاطر\\nگرش همچون قبا گیرم در آغوش\\nاگر پوسیده گردد استخوانم\\nنگردد مهرت از جانم فراموش\\nدل و دینم دل و دینم ببرده\\u200cست\\nبر و دوشش بر و دوشش بر و دوش\\nدوای تو دوای توست حافظ\\nلب نوشش لب نوشش لب نوش']"
            ]
          },
          "metadata": {},
          "execution_count": 53
        }
      ]
    },
    {
      "cell_type": "code",
      "source": [
        "# word2vec extract xlsx\n",
        "response_dict = {}\n",
        "model = my_word2vec(all_data)\n",
        "\n",
        "for query in queries:\n",
        "    response = model.search(query)\n",
        "    response_dict[query] = []\n",
        "    for sent in response:\n",
        "        response_dict[query].append(sent[1])\n",
        "\n",
        "xlsx_extract('word2vec.xlsx', response_dict)"
      ],
      "metadata": {
        "id": "cJ15YO0D9-Xo",
        "colab": {
          "base_uri": "https://localhost:8080/"
        },
        "outputId": "90fdc41d-58a3-4f5b-c0d0-02e31d4bd8b5"
      },
      "execution_count": 54,
      "outputs": [
        {
          "output_type": "stream",
          "name": "stderr",
          "text": [
            "/usr/local/lib/python3.7/dist-packages/ipykernel_launcher.py:28: RuntimeWarning: invalid value encountered in true_divide\n"
          ]
        }
      ]
    },
    {
      "cell_type": "code",
      "source": [
        "# transformer extract xlsx\n",
        "response_dict = {}\n",
        "model = my_transformer(all_data)\n",
        "\n",
        "for query in queries:\n",
        "    response = model.search(query)\n",
        "    response_dict[query] = []\n",
        "    for sent in response:\n",
        "        response_dict[query].append(sent[1])\n",
        "\n",
        "xlsx_extract('transformer.xlsx', response_dict)"
      ],
      "metadata": {
        "colab": {
          "base_uri": "https://localhost:8080/"
        },
        "id": "ubq1tdFVoMZh",
        "outputId": "d0805d16-35be-45b3-f237-eac082159ff4"
      },
      "execution_count": 55,
      "outputs": [
        {
          "output_type": "stream",
          "name": "stderr",
          "text": [
            "Some weights of the model checkpoint at HooshvareLab/bert-fa-zwnj-base were not used when initializing BertModel: ['cls.predictions.transform.LayerNorm.weight', 'cls.predictions.transform.dense.bias', 'cls.predictions.decoder.bias', 'cls.predictions.transform.LayerNorm.bias', 'cls.predictions.transform.dense.weight', 'cls.predictions.decoder.weight', 'cls.predictions.bias']\n",
            "- This IS expected if you are initializing BertModel from the checkpoint of a model trained on another task or with another architecture (e.g. initializing a BertForSequenceClassification model from a BertForPreTraining model).\n",
            "- This IS NOT expected if you are initializing BertModel from the checkpoint of a model that you expect to be exactly identical (initializing a BertForSequenceClassification model from a BertForSequenceClassification model).\n",
            "Some weights of BertModel were not initialized from the model checkpoint at HooshvareLab/bert-fa-zwnj-base and are newly initialized: ['bert.pooler.dense.weight', 'bert.pooler.dense.bias']\n",
            "You should probably TRAIN this model on a down-stream task to be able to use it for predictions and inference.\n"
          ]
        }
      ]
    },
    {
      "cell_type": "markdown",
      "source": [
        "Computing MRRs:"
      ],
      "metadata": {
        "id": "LbcAmlDxGRoI"
      }
    },
    {
      "cell_type": "code",
      "source": [
        "# MRR\n",
        "\n",
        "methods = ['boolean', 'tfidf', 'word2vec', 'transformer']\n",
        "\n",
        "for method in methods:\n",
        "  df = pd.read_csv(f'labeled-output/{method}-labeled.csv', names=['query', 'user1', 'user2', 'user3'], encoding='utf-8')\n",
        "  user1_vector = np.array(df['user1'])[1:]\n",
        "  user2_vector = np.array(df['user2'])[1:]\n",
        "  user3_vector = np.array(df['user3'])[1:]\n",
        "  score_vector = np.concatenate([user1_vector.reshape([10, 11])[:, 1:],\n",
        "                    user2_vector.reshape([10, 11])[:, 1:],\n",
        "                    user3_vector.reshape([10, 11])[:, 1:]])\n",
        "\n",
        "  score_list = []\n",
        "\n",
        "  for score in score_vector:\n",
        "      for i, x in enumerate(score):\n",
        "          if x == '1':\n",
        "              score_list.append(1/(i + 1))\n",
        "              break\n",
        "          elif i == 9:\n",
        "              score_list.append(0)\n",
        "\n",
        "  MRR_score = sum(score_list) / len(score_list)\n",
        "\n",
        "  print(f'MRR score for method {method} is: {MRR_score:.3f}')"
      ],
      "metadata": {
        "id": "TXXsHsxjFWw0",
        "colab": {
          "base_uri": "https://localhost:8080/"
        },
        "outputId": "7bb39b47-dd61-4554-e502-d9c77f1745ed"
      },
      "execution_count": 93,
      "outputs": [
        {
          "output_type": "stream",
          "name": "stdout",
          "text": [
            "MRR score for method boolean is: 0.667\n",
            "MRR score for method tfidf is: 0.702\n",
            "MRR score for method word2vec is: 0.725\n",
            "MRR score for method transformer is: 0.578\n"
          ]
        }
      ]
    }
  ]
}